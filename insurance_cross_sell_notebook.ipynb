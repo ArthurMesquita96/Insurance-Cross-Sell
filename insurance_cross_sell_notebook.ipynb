{
 "cells": [
  {
   "cell_type": "markdown",
   "id": "46c21508",
   "metadata": {},
   "source": [
    "# 0.0 Imports"
   ]
  },
  {
   "cell_type": "code",
   "execution_count": 347,
   "id": "b2dea543",
   "metadata": {
    "ExecuteTime": {
     "end_time": "2022-10-15T23:06:31.802134Z",
     "start_time": "2022-10-15T23:06:31.788831Z"
    }
   },
   "outputs": [],
   "source": [
    "import numpy as np\n",
    "import pandas as pd\n",
    "import psycopg2 as pg\n",
    "import sweetviz as sv\n",
    "import seaborn as sns\n",
    "import scikitplot as skplt\n",
    "import warnings\n",
    "import pickle\n",
    "warnings.filterwarnings('ignore')\n",
    "\n",
    "from IPython.core.display import HTML\n",
    "from IPython.display import Image\n",
    "from matplotlib import pyplot as plt\n",
    "from sklearn import preprocessing as pp\n",
    "from sklearn import model_selection as ms\n",
    "from sklearn import ensemble as en\n",
    "from sklearn import neighbors as nh\n",
    "from sklearn import linear_model as lm\n",
    "import xgboost as xgb"
   ]
  },
  {
   "cell_type": "markdown",
   "id": "83ec1d10",
   "metadata": {},
   "source": [
    "## Helper Functions"
   ]
  },
  {
   "cell_type": "code",
   "execution_count": 348,
   "id": "ffbef716",
   "metadata": {
    "ExecuteTime": {
     "end_time": "2022-10-15T23:06:31.942449Z",
     "start_time": "2022-10-15T23:06:31.875770Z"
    }
   },
   "outputs": [
    {
     "name": "stdout",
     "output_type": "stream",
     "text": [
      "%pylab is deprecated, use %matplotlib inline and import the required libraries.\n",
      "Populating the interactive namespace from numpy and matplotlib\n"
     ]
    },
    {
     "data": {
      "text/html": [
       "<style>.container { width:100% !important; }</style>"
      ],
      "text/plain": [
       "<IPython.core.display.HTML object>"
      ]
     },
     "metadata": {},
     "output_type": "display_data"
    }
   ],
   "source": [
    "def pie_chart(data,att,title,legend_title):\n",
    "    \n",
    "    def data_detail(pct, allvalues):\n",
    "        absolute = int(pct/ 100.*np.sum(allvalues['response']))\n",
    "        return \"{:.0f}\\n({:.1f}%)\".format(absolute, pct)\n",
    "\n",
    "    wedges, texts, autotexts = plt.pie( data = data,\n",
    "                                       x = 'response',\n",
    "                                       autopct = lambda pct: data_detail(pct, data),\n",
    "                                       textprops = dict(color=\"w\"))\n",
    "    \n",
    "    plt.legend( wedges, list(data[att]),\n",
    "              title = legend_title,\n",
    "              loc=\"center left\",\n",
    "              bbox_to_anchor = (1, 0, 0.5, 1))\n",
    "    plt.setp(autotexts, size=10, weight=\"bold\")\n",
    "    plt.title(title,fontsize = 15);\n",
    "    \n",
    "def jupyter_settings():\n",
    "    %matplotlib inline\n",
    "    %pylab inline\n",
    "#     plt.style.use( 'bmh' )\n",
    "#     plt.rcParams['figure.figsize'] = [25, 12]\n",
    "#     plt.rcParams['font.size'] = 24\n",
    "    display( HTML( '<style>.container { width:100% !important; }</style>') )\n",
    "    pd.options.display.max_columns = None\n",
    "    pd.options.display.max_rows = None\n",
    "    pd.set_option( 'display.expand_frame_repr', False )\n",
    "#     sns.set()\n",
    "    \n",
    "jupyter_settings()\n",
    "\n",
    "\n",
    "def precision_at_k(data, k):\n",
    "    \n",
    "    # reset index\n",
    "    data = data.reset_index(drop=True)\n",
    "\n",
    "    # create ranking order\n",
    "    data['ranking'] = data.index + 1\n",
    "\n",
    "    data['precision_at_k'] = data['response'].cumsum()/data['ranking']\n",
    "\n",
    "    return data.loc[k,'precision_at_k']\n",
    "\n",
    "def recall_at_k(data, k):\n",
    "\n",
    "    # reset index\n",
    "    data = data.reset_index(drop=True)\n",
    "\n",
    "    # create ranking order\n",
    "    data['ranking'] = data.index + 1\n",
    "\n",
    "    data['recall_at_k'] = data['response'].cumsum()/data['response'].sum()\n",
    "\n",
    "    return data.loc[k,'recall_at_k']\n",
    "\n",
    "def single_performance(model_name, x_validation, y_validation, yhat):\n",
    "\n",
    "    data = x_validation.copy()\n",
    "    data['response'] = y_validation.copy()\n",
    "\n",
    "    # Propensity score\n",
    "    data['score'] = yhat[:,1].tolist()\n",
    "\n",
    "    # sort clients by propensity score\n",
    "    data = data.sort_values('score',ascending=False)\n",
    "    \n",
    "    return pd.DataFrame(\n",
    "        {'Model Name': model_name,\n",
    "        'Precision at K': precision_at_k(data,k=int(round(data.shape[0]*0.2,0))),\n",
    "        'Recall at K': recall_at_k(data,k=int(round(data.shape[0]*0.2,0)))},\n",
    "        index=[0]\n",
    "    )\n",
    "\n",
    "def cross_validation(data_train,k_fold,model_name, model,verbose):\n",
    "\n",
    "    validation_size = int(round(data_train.shape[0]*0.2,0))\n",
    "    \n",
    "    precision_at_k_list = []\n",
    "    recall_at_k_list = []\n",
    "\n",
    "    for k in range(0,k_fold):\n",
    "\n",
    "        start_validation = validation_size*k\n",
    "        end_validation   = validation_size*(k+1)\n",
    "        range_validation = arange(start_validation,end_validation)\n",
    "        range_data       = arange(0,data_train.shape[0])\n",
    "\n",
    "        validation = data_train.iloc[ start_validation:end_validation ]\n",
    "        training = data_train[ ~isin(range_data,range_validation)]\n",
    "\n",
    "        x_training = training.drop(['id','response'],axis=1)\n",
    "        y_training = training['response'].copy()\n",
    "\n",
    "        x_validation = validation.drop(['id','response'],axis=1)\n",
    "        y_validation = validation['response'].copy()\n",
    "\n",
    "        # model fit\n",
    "        m = model.fit(x_training,y_training)\n",
    "\n",
    "        # model predict\n",
    "        y_hat = m.predict_proba(x_validation)\n",
    "        \n",
    "        data_val = x_validation.copy()\n",
    "        data_val['response'] = y_validation.copy()\n",
    "\n",
    "        # Propensity score\n",
    "        data_val['score'] = y_hat[:,1].tolist()\n",
    "\n",
    "        # sort clients by propensity score\n",
    "        data_val = data_val.sort_values('score',ascending=False)\n",
    "        \n",
    "        precision_at_k_list.append(precision_at_k(data_val,int(round(data_val.shape[0]*0.2,0))))\n",
    "        recall_at_k_list.append(recall_at_k(data_val,int(round(data_val.shape[0]*0.2,0))))\n",
    "        \n",
    "        if verbose:\n",
    "            print(f'k_fold: {k}')\n",
    "            print('Validation Size: {} | {} - {}'.format(validation.shape[0],start_validation,end_validation))\n",
    "            print('Training Size: {}'.format(training.shape[0]))\n",
    "            print('Total Size: {}'.format(validation.shape[0] + training.shape[0]))\n",
    "            print('Total Original Size: {}'.format(data_train.shape[0]))\n",
    "            print('Precision at K: {}'.format(precision_at_k(data_val,int(round(data_val.shape[0]*0.2,0)))))\n",
    "            print('Recall at K:    {}'.format(recall_at_k(data_val,int(round(data_val.shape[0]*0.2,0)))))\n",
    "            print('\\n')\n",
    "            \n",
    "    return pd.DataFrame(\n",
    "                        {'Model': model_name,\n",
    "                         'Precision at K': round(np.mean(precision_at_k_list),4).astype(str) + ' +/- ' + round((np.std(precision_at_k_list)),4).astype(str),\n",
    "                         'Recall at K':    round(np.mean(recall_at_k_list),4).astype(str) + ' +/- ' + round((np.std(recall_at_k_list)),4).astype(str)},\n",
    "                          index=[0])"
   ]
  },
  {
   "cell_type": "code",
   "execution_count": null,
   "id": "731b28ce",
   "metadata": {},
   "outputs": [],
   "source": []
  },
  {
   "cell_type": "markdown",
   "id": "8ea7d93b",
   "metadata": {},
   "source": [
    "# 0.1 Load Dataset"
   ]
  },
  {
   "cell_type": "code",
   "execution_count": 349,
   "id": "08146c6b",
   "metadata": {
    "ExecuteTime": {
     "end_time": "2022-10-15T23:06:38.943133Z",
     "start_time": "2022-10-15T23:06:31.951422Z"
    }
   },
   "outputs": [
    {
     "data": {
      "text/html": [
       "<div>\n",
       "<style scoped>\n",
       "    .dataframe tbody tr th:only-of-type {\n",
       "        vertical-align: middle;\n",
       "    }\n",
       "\n",
       "    .dataframe tbody tr th {\n",
       "        vertical-align: top;\n",
       "    }\n",
       "\n",
       "    .dataframe thead th {\n",
       "        text-align: right;\n",
       "    }\n",
       "</style>\n",
       "<table border=\"1\" class=\"dataframe\">\n",
       "  <thead>\n",
       "    <tr style=\"text-align: right;\">\n",
       "      <th></th>\n",
       "      <th>id</th>\n",
       "      <th>gender</th>\n",
       "      <th>age</th>\n",
       "      <th>region_code</th>\n",
       "      <th>policy_sales_channel</th>\n",
       "      <th>id</th>\n",
       "      <th>driving_license</th>\n",
       "      <th>vehicle_age</th>\n",
       "      <th>vehicle_damage</th>\n",
       "      <th>id</th>\n",
       "      <th>previously_insured</th>\n",
       "      <th>annual_premium</th>\n",
       "      <th>vintage</th>\n",
       "      <th>response</th>\n",
       "    </tr>\n",
       "  </thead>\n",
       "  <tbody>\n",
       "    <tr>\n",
       "      <th>0</th>\n",
       "      <td>7</td>\n",
       "      <td>Male</td>\n",
       "      <td>23</td>\n",
       "      <td>11.0</td>\n",
       "      <td>152.0</td>\n",
       "      <td>7</td>\n",
       "      <td>1</td>\n",
       "      <td>&lt; 1 Year</td>\n",
       "      <td>Yes</td>\n",
       "      <td>7</td>\n",
       "      <td>0</td>\n",
       "      <td>23367.0</td>\n",
       "      <td>249</td>\n",
       "      <td>0</td>\n",
       "    </tr>\n",
       "    <tr>\n",
       "      <th>1</th>\n",
       "      <td>13</td>\n",
       "      <td>Female</td>\n",
       "      <td>41</td>\n",
       "      <td>15.0</td>\n",
       "      <td>14.0</td>\n",
       "      <td>13</td>\n",
       "      <td>1</td>\n",
       "      <td>1-2 Year</td>\n",
       "      <td>No</td>\n",
       "      <td>13</td>\n",
       "      <td>1</td>\n",
       "      <td>31409.0</td>\n",
       "      <td>221</td>\n",
       "      <td>0</td>\n",
       "    </tr>\n",
       "    <tr>\n",
       "      <th>2</th>\n",
       "      <td>18</td>\n",
       "      <td>Female</td>\n",
       "      <td>25</td>\n",
       "      <td>35.0</td>\n",
       "      <td>152.0</td>\n",
       "      <td>18</td>\n",
       "      <td>1</td>\n",
       "      <td>&lt; 1 Year</td>\n",
       "      <td>No</td>\n",
       "      <td>18</td>\n",
       "      <td>1</td>\n",
       "      <td>46622.0</td>\n",
       "      <td>299</td>\n",
       "      <td>0</td>\n",
       "    </tr>\n",
       "    <tr>\n",
       "      <th>3</th>\n",
       "      <td>31</td>\n",
       "      <td>Female</td>\n",
       "      <td>26</td>\n",
       "      <td>8.0</td>\n",
       "      <td>160.0</td>\n",
       "      <td>31</td>\n",
       "      <td>1</td>\n",
       "      <td>&lt; 1 Year</td>\n",
       "      <td>No</td>\n",
       "      <td>31</td>\n",
       "      <td>0</td>\n",
       "      <td>2630.0</td>\n",
       "      <td>136</td>\n",
       "      <td>0</td>\n",
       "    </tr>\n",
       "    <tr>\n",
       "      <th>4</th>\n",
       "      <td>39</td>\n",
       "      <td>Male</td>\n",
       "      <td>45</td>\n",
       "      <td>8.0</td>\n",
       "      <td>124.0</td>\n",
       "      <td>39</td>\n",
       "      <td>1</td>\n",
       "      <td>1-2 Year</td>\n",
       "      <td>Yes</td>\n",
       "      <td>39</td>\n",
       "      <td>0</td>\n",
       "      <td>42297.0</td>\n",
       "      <td>264</td>\n",
       "      <td>0</td>\n",
       "    </tr>\n",
       "  </tbody>\n",
       "</table>\n",
       "</div>"
      ],
      "text/plain": [
       "   id  gender  age  region_code  policy_sales_channel  id  driving_license vehicle_age vehicle_damage  id  previously_insured  annual_premium  vintage  response\n",
       "0   7    Male   23         11.0                 152.0   7                1    < 1 Year            Yes   7                   0         23367.0      249         0\n",
       "1  13  Female   41         15.0                  14.0  13                1    1-2 Year             No  13                   1         31409.0      221         0\n",
       "2  18  Female   25         35.0                 152.0  18                1    < 1 Year             No  18                   1         46622.0      299         0\n",
       "3  31  Female   26          8.0                 160.0  31                1    < 1 Year             No  31                   0          2630.0      136         0\n",
       "4  39    Male   45          8.0                 124.0  39                1    1-2 Year            Yes  39                   0         42297.0      264         0"
      ]
     },
     "execution_count": 349,
     "metadata": {},
     "output_type": "execute_result"
    }
   ],
   "source": [
    "# Credentials\n",
    "\n",
    "host = 'comunidade-ds-postgres.c50pcakiuwi3.us-east-1.rds.amazonaws.com'\n",
    "port = 5432\n",
    "database = 'comunidadedsdb'\n",
    "username = 'member'\n",
    "pwd =' cdspa'\n",
    "\n",
    "# Connection with Database\n",
    "conn_string = f'host={host} port={port} dbname={database} user={username} password={pwd}'\n",
    "conn = pg.connect(conn_string)\n",
    "\n",
    "# SQL Query\n",
    "query = '''\n",
    "    select * \n",
    "    from pa004.users u LEFT JOIN pa004.vehicle v ON (u.id = v.id)\n",
    "                       LEFT JOIN pa004.insurance i ON (u.id = i.id)\n",
    "'''\n",
    "\n",
    "df = pd.read_sql(query, conn)\n",
    "conn.close()\n",
    "df.head()"
   ]
  },
  {
   "cell_type": "code",
   "execution_count": 350,
   "id": "28fb7c12",
   "metadata": {
    "ExecuteTime": {
     "end_time": "2022-10-15T23:06:38.958241Z",
     "start_time": "2022-10-15T23:06:38.945067Z"
    }
   },
   "outputs": [
    {
     "name": "stdout",
     "output_type": "stream",
     "text": [
      "Rows: 381109\n",
      "Columns: 14\n"
     ]
    }
   ],
   "source": [
    "print('Rows: {}'.format(df.shape[0]))\n",
    "print('Columns: {}'.format(df.shape[1]))"
   ]
  },
  {
   "cell_type": "code",
   "execution_count": 351,
   "id": "5430828a",
   "metadata": {
    "ExecuteTime": {
     "end_time": "2022-10-15T23:06:39.051437Z",
     "start_time": "2022-10-15T23:06:38.960189Z"
    }
   },
   "outputs": [
    {
     "data": {
      "text/html": [
       "<div>\n",
       "<style scoped>\n",
       "    .dataframe tbody tr th:only-of-type {\n",
       "        vertical-align: middle;\n",
       "    }\n",
       "\n",
       "    .dataframe tbody tr th {\n",
       "        vertical-align: top;\n",
       "    }\n",
       "\n",
       "    .dataframe thead th {\n",
       "        text-align: right;\n",
       "    }\n",
       "</style>\n",
       "<table border=\"1\" class=\"dataframe\">\n",
       "  <thead>\n",
       "    <tr style=\"text-align: right;\">\n",
       "      <th></th>\n",
       "      <th>id</th>\n",
       "      <th>gender</th>\n",
       "      <th>age</th>\n",
       "      <th>region_code</th>\n",
       "      <th>policy_sales_channel</th>\n",
       "      <th>driving_license</th>\n",
       "      <th>vehicle_age</th>\n",
       "      <th>vehicle_damage</th>\n",
       "      <th>previously_insured</th>\n",
       "      <th>annual_premium</th>\n",
       "      <th>vintage</th>\n",
       "      <th>response</th>\n",
       "    </tr>\n",
       "  </thead>\n",
       "  <tbody>\n",
       "    <tr>\n",
       "      <th>73900</th>\n",
       "      <td>208264</td>\n",
       "      <td>Male</td>\n",
       "      <td>53</td>\n",
       "      <td>28.0</td>\n",
       "      <td>122.0</td>\n",
       "      <td>1</td>\n",
       "      <td>1-2 Year</td>\n",
       "      <td>Yes</td>\n",
       "      <td>0</td>\n",
       "      <td>40142.0</td>\n",
       "      <td>267</td>\n",
       "      <td>0</td>\n",
       "    </tr>\n",
       "    <tr>\n",
       "      <th>379918</th>\n",
       "      <td>372125</td>\n",
       "      <td>Male</td>\n",
       "      <td>47</td>\n",
       "      <td>28.0</td>\n",
       "      <td>29.0</td>\n",
       "      <td>1</td>\n",
       "      <td>1-2 Year</td>\n",
       "      <td>Yes</td>\n",
       "      <td>0</td>\n",
       "      <td>35031.0</td>\n",
       "      <td>205</td>\n",
       "      <td>0</td>\n",
       "    </tr>\n",
       "    <tr>\n",
       "      <th>365592</th>\n",
       "      <td>257617</td>\n",
       "      <td>Female</td>\n",
       "      <td>30</td>\n",
       "      <td>3.0</td>\n",
       "      <td>152.0</td>\n",
       "      <td>1</td>\n",
       "      <td>&lt; 1 Year</td>\n",
       "      <td>No</td>\n",
       "      <td>1</td>\n",
       "      <td>24223.0</td>\n",
       "      <td>209</td>\n",
       "      <td>0</td>\n",
       "    </tr>\n",
       "  </tbody>\n",
       "</table>\n",
       "</div>"
      ],
      "text/plain": [
       "            id  gender  age  region_code  policy_sales_channel  driving_license vehicle_age vehicle_damage  previously_insured  annual_premium  vintage  response\n",
       "73900   208264    Male   53         28.0                 122.0                1    1-2 Year            Yes                   0         40142.0      267         0\n",
       "379918  372125    Male   47         28.0                  29.0                1    1-2 Year            Yes                   0         35031.0      205         0\n",
       "365592  257617  Female   30          3.0                 152.0                1    < 1 Year             No                   1         24223.0      209         0"
      ]
     },
     "execution_count": 351,
     "metadata": {},
     "output_type": "execute_result"
    }
   ],
   "source": [
    "df_raw = df.loc[:,~df.columns.duplicated()]\n",
    "df_raw.sample(3)"
   ]
  },
  {
   "cell_type": "code",
   "execution_count": 352,
   "id": "9882884f",
   "metadata": {
    "ExecuteTime": {
     "end_time": "2022-10-15T23:06:39.066921Z",
     "start_time": "2022-10-15T23:06:39.053919Z"
    }
   },
   "outputs": [
    {
     "name": "stdout",
     "output_type": "stream",
     "text": [
      "Rows: 381109\n",
      "Columns: 12\n"
     ]
    }
   ],
   "source": [
    "print('Rows: {}'.format(df_raw.shape[0]))\n",
    "print('Columns: {}'.format(df_raw.shape[1]))"
   ]
  },
  {
   "cell_type": "markdown",
   "id": "e802babf",
   "metadata": {},
   "source": [
    "# 1.0 Data Description"
   ]
  },
  {
   "cell_type": "code",
   "execution_count": 353,
   "id": "0ecfc62f",
   "metadata": {
    "ExecuteTime": {
     "end_time": "2022-10-15T23:06:39.113171Z",
     "start_time": "2022-10-15T23:06:39.070143Z"
    }
   },
   "outputs": [],
   "source": [
    "df1 = df_raw.copy()"
   ]
  },
  {
   "cell_type": "markdown",
   "id": "501703cc",
   "metadata": {},
   "source": [
    "## 1.1 Data Dimension"
   ]
  },
  {
   "cell_type": "code",
   "execution_count": 354,
   "id": "fe1c2d7a",
   "metadata": {
    "ExecuteTime": {
     "end_time": "2022-10-15T23:06:39.127862Z",
     "start_time": "2022-10-15T23:06:39.116965Z"
    }
   },
   "outputs": [
    {
     "name": "stdout",
     "output_type": "stream",
     "text": [
      "Rows: 381109\n",
      "Columns: 12\n"
     ]
    }
   ],
   "source": [
    "print('Rows: {}'.format(df1.shape[0]))\n",
    "print('Columns: {}'.format(df1.shape[1]))"
   ]
  },
  {
   "cell_type": "markdown",
   "id": "82e7d5be",
   "metadata": {},
   "source": [
    "## 1.2 Data Types"
   ]
  },
  {
   "cell_type": "code",
   "execution_count": 355,
   "id": "02b161f8",
   "metadata": {
    "ExecuteTime": {
     "end_time": "2022-10-15T23:06:39.159779Z",
     "start_time": "2022-10-15T23:06:39.135767Z"
    }
   },
   "outputs": [
    {
     "data": {
      "text/plain": [
       "id                        int64\n",
       "gender                   object\n",
       "age                       int64\n",
       "region_code             float64\n",
       "policy_sales_channel    float64\n",
       "driving_license           int64\n",
       "vehicle_age              object\n",
       "vehicle_damage           object\n",
       "previously_insured        int64\n",
       "annual_premium          float64\n",
       "vintage                   int64\n",
       "response                  int64\n",
       "dtype: object"
      ]
     },
     "execution_count": 355,
     "metadata": {},
     "output_type": "execute_result"
    }
   ],
   "source": [
    "df1.dtypes"
   ]
  },
  {
   "cell_type": "markdown",
   "id": "1f9af3c0",
   "metadata": {},
   "source": [
    "## 1.3 Change Types"
   ]
  },
  {
   "cell_type": "code",
   "execution_count": 356,
   "id": "03d8d0e7",
   "metadata": {
    "ExecuteTime": {
     "end_time": "2022-10-15T23:06:39.190770Z",
     "start_time": "2022-10-15T23:06:39.160698Z"
    }
   },
   "outputs": [],
   "source": [
    "# region_code\n",
    "df1['region_code'] = df1['region_code'].astype('int64')\n",
    "\n",
    "# policy_sales_channel \n",
    "df1['policy_sales_channel'] = df1['policy_sales_channel'].astype('int64')"
   ]
  },
  {
   "cell_type": "code",
   "execution_count": 357,
   "id": "16a3008d",
   "metadata": {
    "ExecuteTime": {
     "end_time": "2022-10-15T23:06:39.206824Z",
     "start_time": "2022-10-15T23:06:39.191614Z"
    }
   },
   "outputs": [
    {
     "data": {
      "text/plain": [
       "id                        int64\n",
       "gender                   object\n",
       "age                       int64\n",
       "region_code               int64\n",
       "policy_sales_channel      int64\n",
       "driving_license           int64\n",
       "vehicle_age              object\n",
       "vehicle_damage           object\n",
       "previously_insured        int64\n",
       "annual_premium          float64\n",
       "vintage                   int64\n",
       "response                  int64\n",
       "dtype: object"
      ]
     },
     "execution_count": 357,
     "metadata": {},
     "output_type": "execute_result"
    }
   ],
   "source": [
    "df1.dtypes"
   ]
  },
  {
   "cell_type": "markdown",
   "id": "6dae747e",
   "metadata": {},
   "source": [
    "## 1.4 Check NA"
   ]
  },
  {
   "cell_type": "code",
   "execution_count": 358,
   "id": "84be6a06",
   "metadata": {
    "ExecuteTime": {
     "end_time": "2022-10-15T23:06:39.427454Z",
     "start_time": "2022-10-15T23:06:39.211775Z"
    }
   },
   "outputs": [
    {
     "data": {
      "text/plain": [
       "id                      0\n",
       "gender                  0\n",
       "age                     0\n",
       "region_code             0\n",
       "policy_sales_channel    0\n",
       "driving_license         0\n",
       "vehicle_age             0\n",
       "vehicle_damage          0\n",
       "previously_insured      0\n",
       "annual_premium          0\n",
       "vintage                 0\n",
       "response                0\n",
       "dtype: int64"
      ]
     },
     "execution_count": 358,
     "metadata": {},
     "output_type": "execute_result"
    }
   ],
   "source": [
    "df1.isna().sum()"
   ]
  },
  {
   "cell_type": "markdown",
   "id": "ddd9b367",
   "metadata": {},
   "source": [
    "## 1.5 Data Descriptive"
   ]
  },
  {
   "cell_type": "code",
   "execution_count": 359,
   "id": "0140dcf2",
   "metadata": {
    "ExecuteTime": {
     "end_time": "2022-10-15T23:06:39.443375Z",
     "start_time": "2022-10-15T23:06:39.429447Z"
    }
   },
   "outputs": [
    {
     "data": {
      "text/plain": [
       "Index(['id', 'gender', 'age', 'region_code', 'policy_sales_channel',\n",
       "       'driving_license', 'vehicle_age', 'vehicle_damage',\n",
       "       'previously_insured', 'annual_premium', 'vintage', 'response'],\n",
       "      dtype='object')"
      ]
     },
     "execution_count": 359,
     "metadata": {},
     "output_type": "execute_result"
    }
   ],
   "source": [
    "df1.columns"
   ]
  },
  {
   "cell_type": "code",
   "execution_count": 360,
   "id": "4ca971d2",
   "metadata": {
    "ExecuteTime": {
     "end_time": "2022-10-15T23:06:39.521702Z",
     "start_time": "2022-10-15T23:06:39.445370Z"
    }
   },
   "outputs": [],
   "source": [
    "num_attributes = df1[['age','annual_premium','vintage']]\n",
    "cat_attributes = df1[['gender','driving_license','vehicle_age','vehicle_damage','previously_insured','policy_sales_channel','region_code']]"
   ]
  },
  {
   "cell_type": "markdown",
   "id": "b3d4aef6",
   "metadata": {},
   "source": [
    "### 1.5.1 Numerical atributes"
   ]
  },
  {
   "cell_type": "code",
   "execution_count": 361,
   "id": "c9b14a86",
   "metadata": {
    "ExecuteTime": {
     "end_time": "2022-10-15T23:06:39.849869Z",
     "start_time": "2022-10-15T23:06:39.522863Z"
    }
   },
   "outputs": [
    {
     "data": {
      "text/html": [
       "<div>\n",
       "<style scoped>\n",
       "    .dataframe tbody tr th:only-of-type {\n",
       "        vertical-align: middle;\n",
       "    }\n",
       "\n",
       "    .dataframe tbody tr th {\n",
       "        vertical-align: top;\n",
       "    }\n",
       "\n",
       "    .dataframe thead th {\n",
       "        text-align: right;\n",
       "    }\n",
       "</style>\n",
       "<table border=\"1\" class=\"dataframe\">\n",
       "  <thead>\n",
       "    <tr style=\"text-align: right;\">\n",
       "      <th></th>\n",
       "      <th>attributes</th>\n",
       "      <th>min</th>\n",
       "      <th>max</th>\n",
       "      <th>range</th>\n",
       "      <th>mean</th>\n",
       "      <th>median</th>\n",
       "      <th>std</th>\n",
       "      <th>skew</th>\n",
       "      <th>kurtosis</th>\n",
       "    </tr>\n",
       "  </thead>\n",
       "  <tbody>\n",
       "    <tr>\n",
       "      <th>0</th>\n",
       "      <td>age</td>\n",
       "      <td>20.0</td>\n",
       "      <td>85.0</td>\n",
       "      <td>65.0</td>\n",
       "      <td>38.822584</td>\n",
       "      <td>38.822584</td>\n",
       "      <td>15.511591</td>\n",
       "      <td>0.672539</td>\n",
       "      <td>-0.565655</td>\n",
       "    </tr>\n",
       "    <tr>\n",
       "      <th>1</th>\n",
       "      <td>annual_premium</td>\n",
       "      <td>2630.0</td>\n",
       "      <td>540165.0</td>\n",
       "      <td>537535.0</td>\n",
       "      <td>30564.389581</td>\n",
       "      <td>30564.389581</td>\n",
       "      <td>17213.132474</td>\n",
       "      <td>1.766087</td>\n",
       "      <td>34.004569</td>\n",
       "    </tr>\n",
       "    <tr>\n",
       "      <th>2</th>\n",
       "      <td>vintage</td>\n",
       "      <td>10.0</td>\n",
       "      <td>299.0</td>\n",
       "      <td>289.0</td>\n",
       "      <td>154.347397</td>\n",
       "      <td>154.347397</td>\n",
       "      <td>83.671194</td>\n",
       "      <td>0.003030</td>\n",
       "      <td>-1.200688</td>\n",
       "    </tr>\n",
       "  </tbody>\n",
       "</table>\n",
       "</div>"
      ],
      "text/plain": [
       "       attributes     min       max     range          mean        median           std      skew   kurtosis\n",
       "0             age    20.0      85.0      65.0     38.822584     38.822584     15.511591  0.672539  -0.565655\n",
       "1  annual_premium  2630.0  540165.0  537535.0  30564.389581  30564.389581  17213.132474  1.766087  34.004569\n",
       "2         vintage    10.0     299.0     289.0    154.347397    154.347397     83.671194  0.003030  -1.200688"
      ]
     },
     "execution_count": 361,
     "metadata": {},
     "output_type": "execute_result"
    }
   ],
   "source": [
    "ct1 = pd.DataFrame(num_attributes.apply(np.mean)).T\n",
    "ct2 = pd.DataFrame(num_attributes.apply(np.mean)).T\n",
    "\n",
    "d1 = pd.DataFrame(num_attributes.apply(np.std)).T\n",
    "d2 = pd.DataFrame(num_attributes.apply(min)).T\n",
    "d3 = pd.DataFrame(num_attributes.apply(max)).T\n",
    "d4 = pd.DataFrame(num_attributes.apply(lambda x: x.max() - x.min())).T\n",
    "d5 = pd.DataFrame(num_attributes.apply(lambda x: x.skew())).T\n",
    "d6 = pd.DataFrame(num_attributes.apply(lambda x: x.kurtosis())).T\n",
    "\n",
    "m = pd.concat([d2, d3, d4, ct1, ct2, d1, d5, d6]).T.reset_index()\n",
    "m.columns = ['attributes', 'min', 'max','range','mean','median','std','skew','kurtosis']\n",
    "\n",
    "m"
   ]
  },
  {
   "cell_type": "markdown",
   "id": "51372f99",
   "metadata": {},
   "source": [
    "### 1.5.2 Categorical atributes"
   ]
  },
  {
   "cell_type": "code",
   "execution_count": 362,
   "id": "47ef7860",
   "metadata": {
    "ExecuteTime": {
     "end_time": "2022-10-15T23:06:40.116315Z",
     "start_time": "2022-10-15T23:06:39.851418Z"
    }
   },
   "outputs": [
    {
     "name": "stdout",
     "output_type": "stream",
     "text": [
      "gender: \n",
      "Number of categories: 2\n",
      "Categories: ['Female', 'Male']\n",
      "\n",
      "driving_license: \n",
      "Number of categories: 2\n",
      "Categories: [0, 1]\n",
      "\n",
      "vehicle_age: \n",
      "Number of categories: 3\n",
      "Categories: ['1-2 Year', '< 1 Year', '> 2 Years']\n",
      "\n",
      "vehicle_damage: \n",
      "Number of categories: 2\n",
      "Categories: ['No', 'Yes']\n",
      "\n",
      "previously_insured: \n",
      "Number of categories: 2\n",
      "Categories: [0, 1]\n",
      "\n",
      "policy_sales_channel: \n",
      "Number of categories: 155\n",
      "Categories: [1, 2, 3, 4, 6, 7, 8, 9, 10, 11, 12, 13, 14, 15, 16, 17, 18, 19, 20, 21, 22, 23, 24, 25, 26, 27, 28, 29, 30, 31, 32, 33, 34, 35, 36, 37, 38, 39, 40, 41, 42, 43, 44, 45, 46, 47, 48, 49, 50, 51, 52, 53, 54, 55, 56, 57, 58, 59, 60, 61, 62, 63, 64, 65, 66, 67, 68, 69, 70, 71, 73, 74, 75, 76, 78, 79, 80, 81, 82, 83, 84, 86, 87, 88, 89, 90, 91, 92, 93, 94, 95, 96, 97, 98, 99, 100, 101, 102, 103, 104, 105, 106, 107, 108, 109, 110, 111, 112, 113, 114, 115, 116, 117, 118, 119, 120, 121, 122, 123, 124, 125, 126, 127, 128, 129, 130, 131, 132, 133, 134, 135, 136, 137, 138, 139, 140, 143, 144, 145, 146, 147, 148, 149, 150, 151, 152, 153, 154, 155, 156, 157, 158, 159, 160, 163]\n",
      "\n",
      "region_code: \n",
      "Number of categories: 53\n",
      "Categories: [0, 1, 2, 3, 4, 5, 6, 7, 8, 9, 10, 11, 12, 13, 14, 15, 16, 17, 18, 19, 20, 21, 22, 23, 24, 25, 26, 27, 28, 29, 30, 31, 32, 33, 34, 35, 36, 37, 38, 39, 40, 41, 42, 43, 44, 45, 46, 47, 48, 49, 50, 51, 52]\n",
      "\n"
     ]
    }
   ],
   "source": [
    "for i in cat_attributes.columns:\n",
    "    print(f'{i}: \\nNumber of categories: {cat_attributes[i].unique().shape[0]}\\nCategories: {sorted(cat_attributes[i].unique())}\\n')"
   ]
  },
  {
   "cell_type": "markdown",
   "id": "ee72a599",
   "metadata": {},
   "source": [
    "# 2.0 Feature Engineering"
   ]
  },
  {
   "cell_type": "code",
   "execution_count": 363,
   "id": "08d88b62",
   "metadata": {
    "ExecuteTime": {
     "end_time": "2022-10-15T23:06:40.164318Z",
     "start_time": "2022-10-15T23:06:40.118309Z"
    }
   },
   "outputs": [],
   "source": [
    "df2 = df1.copy()"
   ]
  },
  {
   "cell_type": "code",
   "execution_count": 364,
   "id": "d8d6dd6d",
   "metadata": {
    "ExecuteTime": {
     "end_time": "2022-10-15T23:06:40.180142Z",
     "start_time": "2022-10-15T23:06:40.167177Z"
    }
   },
   "outputs": [
    {
     "data": {
      "image/png": "[encoded data removed]",
      "text/plain": [
       "<IPython.core.display.Image object>"
      ]
     },
     "execution_count": 364,
     "metadata": {},
     "output_type": "execute_result"
    }
   ],
   "source": [
    "Image('img/Vehicle_Insurance.png')"
   ]
  },
  {
   "cell_type": "markdown",
   "id": "de934468",
   "metadata": {},
   "source": [
    "## 2.1 Hyphotesis Mind Map"
   ]
  },
  {
   "cell_type": "markdown",
   "id": "d5be40e1",
   "metadata": {},
   "source": [
    "### 2.1.1 Customer's Hyphotesis\n",
    "\n",
    "1. Customers over 40 years old are 50% more interest in vehicle insurance"
   ]
  },
  {
   "cell_type": "markdown",
   "id": "c21c62aa",
   "metadata": {},
   "source": [
    "### 2.1.2 Vehicle's Hyphotesis\n",
    "\n",
    "1. Customer with a newer vehicle are 30% more interest in adquire the vericle insurance than customer with older cars"
   ]
  },
  {
   "cell_type": "markdown",
   "id": "c4a69208",
   "metadata": {},
   "source": [
    "### 2.1.3 Company Relationship's Hyphotesis\n",
    "\n",
    "1. Customer with less than 30 days in relation with the company are 40% more interest in adquire the vehicle insurance"
   ]
  },
  {
   "cell_type": "markdown",
   "id": "56e2b38f",
   "metadata": {},
   "source": [
    "## 2.2 Feature Criation"
   ]
  },
  {
   "cell_type": "code",
   "execution_count": 365,
   "id": "e0e55ce9",
   "metadata": {
    "ExecuteTime": {
     "end_time": "2022-10-15T23:06:40.195102Z",
     "start_time": "2022-10-15T23:06:40.182137Z"
    }
   },
   "outputs": [
    {
     "data": {
      "text/html": [
       "<div>\n",
       "<style scoped>\n",
       "    .dataframe tbody tr th:only-of-type {\n",
       "        vertical-align: middle;\n",
       "    }\n",
       "\n",
       "    .dataframe tbody tr th {\n",
       "        vertical-align: top;\n",
       "    }\n",
       "\n",
       "    .dataframe thead th {\n",
       "        text-align: right;\n",
       "    }\n",
       "</style>\n",
       "<table border=\"1\" class=\"dataframe\">\n",
       "  <thead>\n",
       "    <tr style=\"text-align: right;\">\n",
       "      <th></th>\n",
       "      <th>id</th>\n",
       "      <th>gender</th>\n",
       "      <th>age</th>\n",
       "      <th>region_code</th>\n",
       "      <th>policy_sales_channel</th>\n",
       "      <th>driving_license</th>\n",
       "      <th>vehicle_age</th>\n",
       "      <th>vehicle_damage</th>\n",
       "      <th>previously_insured</th>\n",
       "      <th>annual_premium</th>\n",
       "      <th>vintage</th>\n",
       "      <th>response</th>\n",
       "    </tr>\n",
       "  </thead>\n",
       "  <tbody>\n",
       "    <tr>\n",
       "      <th>0</th>\n",
       "      <td>7</td>\n",
       "      <td>Male</td>\n",
       "      <td>23</td>\n",
       "      <td>11</td>\n",
       "      <td>152</td>\n",
       "      <td>1</td>\n",
       "      <td>&lt; 1 Year</td>\n",
       "      <td>Yes</td>\n",
       "      <td>0</td>\n",
       "      <td>23367.0</td>\n",
       "      <td>249</td>\n",
       "      <td>0</td>\n",
       "    </tr>\n",
       "    <tr>\n",
       "      <th>1</th>\n",
       "      <td>13</td>\n",
       "      <td>Female</td>\n",
       "      <td>41</td>\n",
       "      <td>15</td>\n",
       "      <td>14</td>\n",
       "      <td>1</td>\n",
       "      <td>1-2 Year</td>\n",
       "      <td>No</td>\n",
       "      <td>1</td>\n",
       "      <td>31409.0</td>\n",
       "      <td>221</td>\n",
       "      <td>0</td>\n",
       "    </tr>\n",
       "    <tr>\n",
       "      <th>2</th>\n",
       "      <td>18</td>\n",
       "      <td>Female</td>\n",
       "      <td>25</td>\n",
       "      <td>35</td>\n",
       "      <td>152</td>\n",
       "      <td>1</td>\n",
       "      <td>&lt; 1 Year</td>\n",
       "      <td>No</td>\n",
       "      <td>1</td>\n",
       "      <td>46622.0</td>\n",
       "      <td>299</td>\n",
       "      <td>0</td>\n",
       "    </tr>\n",
       "    <tr>\n",
       "      <th>3</th>\n",
       "      <td>31</td>\n",
       "      <td>Female</td>\n",
       "      <td>26</td>\n",
       "      <td>8</td>\n",
       "      <td>160</td>\n",
       "      <td>1</td>\n",
       "      <td>&lt; 1 Year</td>\n",
       "      <td>No</td>\n",
       "      <td>0</td>\n",
       "      <td>2630.0</td>\n",
       "      <td>136</td>\n",
       "      <td>0</td>\n",
       "    </tr>\n",
       "    <tr>\n",
       "      <th>4</th>\n",
       "      <td>39</td>\n",
       "      <td>Male</td>\n",
       "      <td>45</td>\n",
       "      <td>8</td>\n",
       "      <td>124</td>\n",
       "      <td>1</td>\n",
       "      <td>1-2 Year</td>\n",
       "      <td>Yes</td>\n",
       "      <td>0</td>\n",
       "      <td>42297.0</td>\n",
       "      <td>264</td>\n",
       "      <td>0</td>\n",
       "    </tr>\n",
       "  </tbody>\n",
       "</table>\n",
       "</div>"
      ],
      "text/plain": [
       "   id  gender  age  region_code  policy_sales_channel  driving_license vehicle_age vehicle_damage  previously_insured  annual_premium  vintage  response\n",
       "0   7    Male   23           11                   152                1    < 1 Year            Yes                   0         23367.0      249         0\n",
       "1  13  Female   41           15                    14                1    1-2 Year             No                   1         31409.0      221         0\n",
       "2  18  Female   25           35                   152                1    < 1 Year             No                   1         46622.0      299         0\n",
       "3  31  Female   26            8                   160                1    < 1 Year             No                   0          2630.0      136         0\n",
       "4  39    Male   45            8                   124                1    1-2 Year            Yes                   0         42297.0      264         0"
      ]
     },
     "execution_count": 365,
     "metadata": {},
     "output_type": "execute_result"
    }
   ],
   "source": [
    "df2.head()"
   ]
  },
  {
   "cell_type": "code",
   "execution_count": 366,
   "id": "5f7aa2ee",
   "metadata": {
    "ExecuteTime": {
     "end_time": "2022-10-15T23:06:40.304584Z",
     "start_time": "2022-10-15T23:06:40.198629Z"
    }
   },
   "outputs": [],
   "source": [
    "# vericle_age\n",
    "df2['vehicle_age'] = df2['vehicle_age'].apply(lambda x: 'bellow_1_year' if x == '< 1 Year' else \n",
    "                                                     'between_1_2_year' if x == '1-2 Year' else \n",
    "                                                     'over_2_years')"
   ]
  },
  {
   "cell_type": "code",
   "execution_count": 367,
   "id": "70c4a400",
   "metadata": {
    "ExecuteTime": {
     "end_time": "2022-10-15T23:06:40.320467Z",
     "start_time": "2022-10-15T23:06:40.305506Z"
    }
   },
   "outputs": [
    {
     "data": {
      "text/html": [
       "<div>\n",
       "<style scoped>\n",
       "    .dataframe tbody tr th:only-of-type {\n",
       "        vertical-align: middle;\n",
       "    }\n",
       "\n",
       "    .dataframe tbody tr th {\n",
       "        vertical-align: top;\n",
       "    }\n",
       "\n",
       "    .dataframe thead th {\n",
       "        text-align: right;\n",
       "    }\n",
       "</style>\n",
       "<table border=\"1\" class=\"dataframe\">\n",
       "  <thead>\n",
       "    <tr style=\"text-align: right;\">\n",
       "      <th></th>\n",
       "      <th>id</th>\n",
       "      <th>gender</th>\n",
       "      <th>age</th>\n",
       "      <th>region_code</th>\n",
       "      <th>policy_sales_channel</th>\n",
       "      <th>driving_license</th>\n",
       "      <th>vehicle_age</th>\n",
       "      <th>vehicle_damage</th>\n",
       "      <th>previously_insured</th>\n",
       "      <th>annual_premium</th>\n",
       "      <th>vintage</th>\n",
       "      <th>response</th>\n",
       "    </tr>\n",
       "  </thead>\n",
       "  <tbody>\n",
       "    <tr>\n",
       "      <th>0</th>\n",
       "      <td>7</td>\n",
       "      <td>Male</td>\n",
       "      <td>23</td>\n",
       "      <td>11</td>\n",
       "      <td>152</td>\n",
       "      <td>1</td>\n",
       "      <td>bellow_1_year</td>\n",
       "      <td>Yes</td>\n",
       "      <td>0</td>\n",
       "      <td>23367.0</td>\n",
       "      <td>249</td>\n",
       "      <td>0</td>\n",
       "    </tr>\n",
       "    <tr>\n",
       "      <th>1</th>\n",
       "      <td>13</td>\n",
       "      <td>Female</td>\n",
       "      <td>41</td>\n",
       "      <td>15</td>\n",
       "      <td>14</td>\n",
       "      <td>1</td>\n",
       "      <td>between_1_2_year</td>\n",
       "      <td>No</td>\n",
       "      <td>1</td>\n",
       "      <td>31409.0</td>\n",
       "      <td>221</td>\n",
       "      <td>0</td>\n",
       "    </tr>\n",
       "    <tr>\n",
       "      <th>2</th>\n",
       "      <td>18</td>\n",
       "      <td>Female</td>\n",
       "      <td>25</td>\n",
       "      <td>35</td>\n",
       "      <td>152</td>\n",
       "      <td>1</td>\n",
       "      <td>bellow_1_year</td>\n",
       "      <td>No</td>\n",
       "      <td>1</td>\n",
       "      <td>46622.0</td>\n",
       "      <td>299</td>\n",
       "      <td>0</td>\n",
       "    </tr>\n",
       "    <tr>\n",
       "      <th>3</th>\n",
       "      <td>31</td>\n",
       "      <td>Female</td>\n",
       "      <td>26</td>\n",
       "      <td>8</td>\n",
       "      <td>160</td>\n",
       "      <td>1</td>\n",
       "      <td>bellow_1_year</td>\n",
       "      <td>No</td>\n",
       "      <td>0</td>\n",
       "      <td>2630.0</td>\n",
       "      <td>136</td>\n",
       "      <td>0</td>\n",
       "    </tr>\n",
       "    <tr>\n",
       "      <th>4</th>\n",
       "      <td>39</td>\n",
       "      <td>Male</td>\n",
       "      <td>45</td>\n",
       "      <td>8</td>\n",
       "      <td>124</td>\n",
       "      <td>1</td>\n",
       "      <td>between_1_2_year</td>\n",
       "      <td>Yes</td>\n",
       "      <td>0</td>\n",
       "      <td>42297.0</td>\n",
       "      <td>264</td>\n",
       "      <td>0</td>\n",
       "    </tr>\n",
       "  </tbody>\n",
       "</table>\n",
       "</div>"
      ],
      "text/plain": [
       "   id  gender  age  region_code  policy_sales_channel  driving_license       vehicle_age vehicle_damage  previously_insured  annual_premium  vintage  response\n",
       "0   7    Male   23           11                   152                1     bellow_1_year            Yes                   0         23367.0      249         0\n",
       "1  13  Female   41           15                    14                1  between_1_2_year             No                   1         31409.0      221         0\n",
       "2  18  Female   25           35                   152                1     bellow_1_year             No                   1         46622.0      299         0\n",
       "3  31  Female   26            8                   160                1     bellow_1_year             No                   0          2630.0      136         0\n",
       "4  39    Male   45            8                   124                1  between_1_2_year            Yes                   0         42297.0      264         0"
      ]
     },
     "execution_count": 367,
     "metadata": {},
     "output_type": "execute_result"
    }
   ],
   "source": [
    "df2.head()"
   ]
  },
  {
   "cell_type": "markdown",
   "id": "693272c8",
   "metadata": {},
   "source": [
    "# 3.0 Data Filtering"
   ]
  },
  {
   "cell_type": "code",
   "execution_count": 368,
   "id": "995e9e62",
   "metadata": {
    "ExecuteTime": {
     "end_time": "2022-10-15T23:06:40.399734Z",
     "start_time": "2022-10-15T23:06:40.323458Z"
    }
   },
   "outputs": [],
   "source": [
    "df3 = df2.copy()"
   ]
  },
  {
   "cell_type": "markdown",
   "id": "e314a9b5",
   "metadata": {},
   "source": [
    "# 4.0 Exploratory Data Analysis"
   ]
  },
  {
   "cell_type": "code",
   "execution_count": 369,
   "id": "d353005b",
   "metadata": {
    "ExecuteTime": {
     "end_time": "2022-10-15T23:06:40.431572Z",
     "start_time": "2022-10-15T23:06:40.401655Z"
    }
   },
   "outputs": [],
   "source": [
    "df4 = df3.copy()"
   ]
  },
  {
   "cell_type": "code",
   "execution_count": 370,
   "id": "419211bf",
   "metadata": {
    "ExecuteTime": {
     "end_time": "2022-10-15T23:06:40.447541Z",
     "start_time": "2022-10-15T23:06:40.433605Z"
    }
   },
   "outputs": [],
   "source": [
    "# report = sv.analyze(df4)\n",
    "# report.show_html()"
   ]
  },
  {
   "cell_type": "markdown",
   "id": "52ff783e",
   "metadata": {},
   "source": [
    "## 4.1. Univariate Analysis"
   ]
  },
  {
   "cell_type": "markdown",
   "id": "df8ab171",
   "metadata": {},
   "source": [
    "### 4.1.1 Numerial Variables"
   ]
  },
  {
   "cell_type": "markdown",
   "id": "61e7910f",
   "metadata": {
    "hide_input": false
   },
   "source": [
    "#### 4.1.1.1 Age\n",
    "\n",
    "- Although people between 20 and 30 years old are not usually interest, people between 40 and 50 years old are offen intereset"
   ]
  },
  {
   "cell_type": "code",
   "execution_count": 371,
   "id": "84d72d1c",
   "metadata": {
    "ExecuteTime": {
     "end_time": "2022-10-15T23:06:40.651471Z",
     "start_time": "2022-10-15T23:06:40.454241Z"
    },
    "cell_style": "split",
    "hide_input": true,
    "scrolled": true
   },
   "outputs": [
    {
     "data": {
      "image/png": "[encoded data removed]",
      "text/plain": [
       "<Figure size 432x288 with 1 Axes>"
      ]
     },
     "metadata": {
      "needs_background": "light"
     },
     "output_type": "display_data"
    }
   ],
   "source": [
    "# 'age'\n",
    "sns.boxplot(x='response',y='age',data=df4);"
   ]
  },
  {
   "cell_type": "code",
   "execution_count": 372,
   "id": "f1301b98",
   "metadata": {
    "ExecuteTime": {
     "end_time": "2022-10-15T23:06:41.250700Z",
     "start_time": "2022-10-15T23:06:40.653465Z"
    },
    "cell_style": "split",
    "hide_input": true,
    "scrolled": true
   },
   "outputs": [
    {
     "data": {
      "image/png": "[encoded data removed]",
      "text/plain": [
       "<Figure size 432x288 with 1 Axes>"
      ]
     },
     "metadata": {
      "needs_background": "light"
     },
     "output_type": "display_data"
    }
   ],
   "source": [
    "aux00 = df4.loc[df4['response'] == 0, 'age']\n",
    "aux01 = df4.loc[df4['response'] == 1, 'age']\n",
    "sns.histplot(aux00,color='royalblue')\n",
    "sns.histplot(aux01,color='orange');"
   ]
  },
  {
   "cell_type": "markdown",
   "id": "f5c5d202",
   "metadata": {},
   "source": [
    "#### 4.1.1.2 Annual Premium\n",
    "\n",
    "- The distribuiton of annual premium are very similuar to interest and not interest people. Only the scale of this distribution are diferent"
   ]
  },
  {
   "cell_type": "code",
   "execution_count": 373,
   "id": "bd3ddf07",
   "metadata": {
    "ExecuteTime": {
     "end_time": "2022-10-15T23:06:42.657391Z",
     "start_time": "2022-10-15T23:06:41.256734Z"
    },
    "cell_style": "split",
    "hide_input": true
   },
   "outputs": [
    {
     "data": {
      "image/png": "[encoded data removed]",
      "text/plain": [
       "<Figure size 432x288 with 1 Axes>"
      ]
     },
     "metadata": {
      "needs_background": "light"
     },
     "output_type": "display_data"
    }
   ],
   "source": [
    "# 'annual_premium'\n",
    "aux = df4[(df4['annual_premium'] < 80000) & (df4['annual_premium'] > 10000)]\n",
    "sns.boxplot(x='response',y='annual_premium',data=aux);"
   ]
  },
  {
   "cell_type": "code",
   "execution_count": 374,
   "id": "53f10675",
   "metadata": {
    "ExecuteTime": {
     "end_time": "2022-10-15T23:06:45.823228Z",
     "start_time": "2022-10-15T23:06:42.659397Z"
    },
    "cell_style": "split",
    "hide_input": true,
    "scrolled": true
   },
   "outputs": [
    {
     "data": {
      "image/png": "[encoded data removed]",
      "text/plain": [
       "<Figure size 432x288 with 1 Axes>"
      ]
     },
     "metadata": {
      "needs_background": "light"
     },
     "output_type": "display_data"
    }
   ],
   "source": [
    "aux00 = aux.loc[aux['response'] == 0, 'annual_premium']\n",
    "aux01 = aux.loc[aux['response'] == 1, 'annual_premium']\n",
    "sns.histplot(aux00,color='royalblue')\n",
    "sns.histplot(aux01,color='orange');"
   ]
  },
  {
   "cell_type": "markdown",
   "id": "b51b7c92",
   "metadata": {
    "cell_style": "center",
    "hide_input": true
   },
   "source": [
    "#### 4.1.1.3 Vintage\n",
    "\n",
    "- The vintage (days that the customer is related with the company) is uniform distribuited"
   ]
  },
  {
   "cell_type": "code",
   "execution_count": 375,
   "id": "af732fed",
   "metadata": {
    "ExecuteTime": {
     "end_time": "2022-10-15T23:06:45.981972Z",
     "start_time": "2022-10-15T23:06:45.824956Z"
    },
    "cell_style": "split",
    "hide_input": true
   },
   "outputs": [
    {
     "data": {
      "image/png": "[encoded data removed]",
      "text/plain": [
       "<Figure size 432x288 with 1 Axes>"
      ]
     },
     "metadata": {
      "needs_background": "light"
     },
     "output_type": "display_data"
    }
   ],
   "source": [
    "# 'annual_premium'\n",
    "sns.boxplot(x='response',y='vintage',data=df4);"
   ]
  },
  {
   "cell_type": "code",
   "execution_count": 376,
   "id": "1f5044bb",
   "metadata": {
    "ExecuteTime": {
     "end_time": "2022-10-15T23:06:46.470757Z",
     "start_time": "2022-10-15T23:06:45.990544Z"
    },
    "cell_style": "split",
    "hide_input": true,
    "scrolled": true
   },
   "outputs": [
    {
     "data": {
      "image/png": "[encoded data removed]",
      "text/plain": [
       "<Figure size 432x288 with 1 Axes>"
      ]
     },
     "metadata": {
      "needs_background": "light"
     },
     "output_type": "display_data"
    }
   ],
   "source": [
    "aux00 = df4.loc[df4['response'] == 0, 'vintage']\n",
    "aux01 = df4.loc[df4['response'] == 1, 'vintage']\n",
    "sns.histplot(aux00,color='royalblue',bins=50)\n",
    "sns.histplot(aux01,color='orange',bins=50);"
   ]
  },
  {
   "cell_type": "markdown",
   "id": "9b299300",
   "metadata": {},
   "source": [
    "### 4.1.2 Categorical Variables"
   ]
  },
  {
   "cell_type": "markdown",
   "id": "26b785f6",
   "metadata": {},
   "source": [
    "#### 4.1.2.1 Gender\n",
    "\n",
    "- Mens represents 54% of the elevible customer but represents 61% of whole car insurance interest"
   ]
  },
  {
   "cell_type": "code",
   "execution_count": 377,
   "id": "7f0ff2d0",
   "metadata": {
    "ExecuteTime": {
     "end_time": "2022-10-15T23:06:46.660171Z",
     "start_time": "2022-10-15T23:06:46.471670Z"
    },
    "cell_style": "split",
    "hide_input": true
   },
   "outputs": [
    {
     "data": {
      "image/png": "[encoded data removed]",
      "text/plain": [
       "<Figure size 432x288 with 1 Axes>"
      ]
     },
     "metadata": {},
     "output_type": "display_data"
    }
   ],
   "source": [
    "aux2 = pd.DataFrame(df4[['gender','response']].groupby('gender').count()).reset_index()\n",
    "pie_chart(aux2,'gender',\"Gender Distribution\",'Gender')"
   ]
  },
  {
   "cell_type": "code",
   "execution_count": 378,
   "id": "02b0f24d",
   "metadata": {
    "ExecuteTime": {
     "end_time": "2022-10-15T23:06:46.800986Z",
     "start_time": "2022-10-15T23:06:46.661169Z"
    },
    "cell_style": "split",
    "hide_input": true
   },
   "outputs": [
    {
     "data": {
      "image/png": "[encoded data removed]",
      "text/plain": [
       "<Figure size 432x288 with 1 Axes>"
      ]
     },
     "metadata": {},
     "output_type": "display_data"
    }
   ],
   "source": [
    "# pie plot\n",
    "# ax = plt.figure(figsize=(15,6))\n",
    "aux2 = pd.DataFrame(df4[['gender','response']].groupby('gender').sum()).reset_index()\n",
    "pie_chart(aux2,'gender',\"Gender Interest\",'Gender')"
   ]
  },
  {
   "cell_type": "markdown",
   "id": "9994f01b",
   "metadata": {
    "hide_input": true
   },
   "source": [
    "#### 4.1.2.2 Driving License\n",
    "\n",
    "- The majority people has driving license"
   ]
  },
  {
   "cell_type": "code",
   "execution_count": 379,
   "id": "c15d61af",
   "metadata": {
    "ExecuteTime": {
     "end_time": "2022-10-15T23:06:46.928144Z",
     "start_time": "2022-10-15T23:06:46.802697Z"
    },
    "cell_style": "split",
    "hide_input": true,
    "scrolled": true
   },
   "outputs": [
    {
     "data": {
      "image/png": "[encoded data removed]",
      "text/plain": [
       "<Figure size 432x288 with 1 Axes>"
      ]
     },
     "metadata": {
      "needs_background": "light"
     },
     "output_type": "display_data"
    }
   ],
   "source": [
    "aux1 = df4[['driving_license','response']].groupby('driving_license').count().reset_index()\n",
    "g = sns.barplot(x = 'driving_license', y = 'response', data = aux1)\n",
    "g.set_title('Count Of Driving License',fontsize=15)\n",
    "\n",
    "# incluindo labels nas barras\n",
    "for i in g.containers:\n",
    "    g.bar_label(i, color='black', label_type= 'center',fontsize='medium',fmt='%.0f')"
   ]
  },
  {
   "cell_type": "code",
   "execution_count": 380,
   "id": "b09860ae",
   "metadata": {
    "ExecuteTime": {
     "end_time": "2022-10-15T23:06:47.036251Z",
     "start_time": "2022-10-15T23:06:46.929979Z"
    },
    "cell_style": "split",
    "hide_input": true
   },
   "outputs": [
    {
     "data": {
      "image/png": "[encoded data removed]",
      "text/plain": [
       "<Figure size 432x288 with 1 Axes>"
      ]
     },
     "metadata": {},
     "output_type": "display_data"
    }
   ],
   "source": [
    "# pie plot\n",
    "aux1 = pd.DataFrame(df4[['driving_license','response']].groupby('driving_license').sum()).reset_index()\n",
    "pie_chart(aux1,'driving_license',\"Driving License Interest\",'Driving License')"
   ]
  },
  {
   "cell_type": "markdown",
   "id": "4a9cffcc",
   "metadata": {
    "cell_style": "center",
    "hide_input": false
   },
   "source": [
    "#### 4.1.2.3 Region Code\n",
    "\n",
    "- No region code has a significant majority of interest"
   ]
  },
  {
   "cell_type": "code",
   "execution_count": 381,
   "id": "ad8a2810",
   "metadata": {
    "ExecuteTime": {
     "end_time": "2022-10-15T23:06:48.836186Z",
     "start_time": "2022-10-15T23:06:47.037948Z"
    },
    "cell_style": "center",
    "hide_input": true
   },
   "outputs": [
    {
     "data": {
      "image/png": "[encoded data removed]",
      "text/plain": [
       "<Figure size 1440x360 with 1 Axes>"
      ]
     },
     "metadata": {
      "needs_background": "light"
     },
     "output_type": "display_data"
    }
   ],
   "source": [
    "df_grouped = df4[[\"region_code\", \"response\"]].groupby('region_code').value_counts(normalize=True).unstack('response')\n",
    "g = df_grouped.plot.bar(stacked=True,figsize=(20,5));\n",
    "plt.title('Interest by Region Code',fontsize=15);"
   ]
  },
  {
   "cell_type": "markdown",
   "id": "3f9928eb",
   "metadata": {
    "hide_input": true
   },
   "source": [
    "#### 4.1.2.4 Previously Insured\n",
    "\n",
    "- Although the similar number of people previously and not previously car insured, the people that haven't previoulsly insurance are the most interested"
   ]
  },
  {
   "cell_type": "code",
   "execution_count": 382,
   "id": "b9d02ae4",
   "metadata": {
    "ExecuteTime": {
     "end_time": "2022-10-15T23:06:48.977695Z",
     "start_time": "2022-10-15T23:06:48.838147Z"
    },
    "cell_style": "split",
    "hide_input": true
   },
   "outputs": [
    {
     "data": {
      "image/png": "[encoded data removed]",
      "text/plain": [
       "<Figure size 432x288 with 1 Axes>"
      ]
     },
     "metadata": {
      "needs_background": "light"
     },
     "output_type": "display_data"
    }
   ],
   "source": [
    "aux1 = df4[['previously_insured','response']].groupby('previously_insured').count().reset_index()\n",
    "g = sns.barplot(x = 'previously_insured', y = 'response', data = aux1)\n",
    "g.set_title('Count of Previously Insured People',fontsize=15)\n",
    "\n",
    "# incluindo labels nas barras\n",
    "for i in g.containers:\n",
    "    g.bar_label(i, color='white', label_type= 'center',fontsize='medium',fmt='%.0f')"
   ]
  },
  {
   "cell_type": "code",
   "execution_count": 383,
   "id": "b2ab7321",
   "metadata": {
    "ExecuteTime": {
     "end_time": "2022-10-15T23:06:49.071798Z",
     "start_time": "2022-10-15T23:06:48.979694Z"
    },
    "cell_style": "split",
    "hide_input": true,
    "scrolled": true
   },
   "outputs": [
    {
     "data": {
      "image/png": "[encoded data removed]",
      "text/plain": [
       "<Figure size 432x288 with 1 Axes>"
      ]
     },
     "metadata": {},
     "output_type": "display_data"
    }
   ],
   "source": [
    "aux1 = pd.DataFrame(df4[['previously_insured','response']].groupby('previously_insured').sum()).reset_index()\n",
    "pie_chart(aux1,'previously_insured',\"Previously Insured Interest\",'Previousy')"
   ]
  },
  {
   "cell_type": "markdown",
   "id": "1f5af6c6",
   "metadata": {},
   "source": [
    "#### 4.1.2.5 Vericle Age\n",
    "\n",
    "- THe majority of people has cars bellow 2 years old, but the more interested people has cars over 2 years"
   ]
  },
  {
   "cell_type": "code",
   "execution_count": 384,
   "id": "0d201062",
   "metadata": {
    "ExecuteTime": {
     "end_time": "2022-10-15T23:06:49.244928Z",
     "start_time": "2022-10-15T23:06:49.074766Z"
    },
    "cell_style": "split",
    "hide_input": true
   },
   "outputs": [
    {
     "data": {
      "image/png": "[encoded data removed]",
      "text/plain": [
       "<Figure size 432x288 with 1 Axes>"
      ]
     },
     "metadata": {
      "needs_background": "light"
     },
     "output_type": "display_data"
    }
   ],
   "source": [
    "aux1 = df4[[\"vehicle_age\", \"response\"]].groupby('vehicle_age').count().reset_index()\n",
    "g = sns.barplot(x = 'vehicle_age', y = 'response', data = aux1)\n",
    "g.set_title('Count Of Vehicle Age',fontsize=15)\n",
    "\n",
    "# incluindo labels nas barras\n",
    "for i in g.containers:\n",
    "    g.bar_label(i, color='white', label_type= 'center',fontsize='medium',fmt='%.0f')"
   ]
  },
  {
   "cell_type": "code",
   "execution_count": 385,
   "id": "40d64f52",
   "metadata": {
    "ExecuteTime": {
     "end_time": "2022-10-15T23:06:50.541443Z",
     "start_time": "2022-10-15T23:06:49.246800Z"
    },
    "cell_style": "split",
    "hide_input": true
   },
   "outputs": [
    {
     "data": {
      "image/png": "[encoded data removed]",
      "text/plain": [
       "<Figure size 720x360 with 1 Axes>"
      ]
     },
     "metadata": {
      "needs_background": "light"
     },
     "output_type": "display_data"
    }
   ],
   "source": [
    "# 'vehicle_age'\n",
    "df_grouped = df4[[\"vehicle_age\", \"response\"]].groupby('vehicle_age').value_counts(normalize=True).unstack('response')\n",
    "g = df_grouped.plot.bar(stacked=True,figsize=(10,5));\n",
    "g.set_title('Interest by Vehicle Age',fontsize=15)\n",
    "\n",
    "for i in g.containers:\n",
    "    g.bar_label(i, color='white', label_type= 'center',fontsize='medium',fmt='%.2f')"
   ]
  },
  {
   "cell_type": "markdown",
   "id": "c1a04ed8",
   "metadata": {
    "hide_input": false
   },
   "source": [
    "#### 4.1.2.6 Policy Sales Channel\n",
    "\n",
    "- Although the quantity diference of sales channel, no channel has the majority of the interest people"
   ]
  },
  {
   "cell_type": "code",
   "execution_count": 386,
   "id": "f9d537ff",
   "metadata": {
    "ExecuteTime": {
     "end_time": "2022-10-15T23:06:50.571814Z",
     "start_time": "2022-10-15T23:06:50.543737Z"
    },
    "hide_input": true
   },
   "outputs": [],
   "source": [
    "# policy_sales_channel\n",
    "aux0 = df4[['policy_sales_channel','response']].groupby('policy_sales_channel').sum().reset_index()\n",
    "aux1 = aux0[aux0['response'] > 40.0]### 4.1.6 Previously Insured"
   ]
  },
  {
   "cell_type": "code",
   "execution_count": 387,
   "id": "7aa9cba4",
   "metadata": {
    "ExecuteTime": {
     "end_time": "2022-10-15T23:06:52.532095Z",
     "start_time": "2022-10-15T23:06:50.573358Z"
    },
    "hide_input": true
   },
   "outputs": [
    {
     "data": {
      "image/png": "[encoded data removed]",
      "text/plain": [
       "<Figure size 1440x360 with 1 Axes>"
      ]
     },
     "metadata": {
      "needs_background": "light"
     },
     "output_type": "display_data"
    }
   ],
   "source": [
    "aux = df4[[\"policy_sales_channel\", \"response\"]].groupby('policy_sales_channel').sum().reset_index()\n",
    "aux = aux[aux['response'] > 40]\n",
    "\n",
    "# 'policy_sales_channel'\n",
    "aux2 = df4[df4['policy_sales_channel'].isin(aux['policy_sales_channel'])]\n",
    "df_grouped = aux2[[\"policy_sales_channel\", \"response\"]].groupby('policy_sales_channel').value_counts(normalize=True).unstack('response')\n",
    "df_grouped.plot.bar(stacked=True,figsize=(20,5));\n",
    "plt.title('Interest by Sales Channel',fontsize=15);"
   ]
  },
  {
   "cell_type": "code",
   "execution_count": 388,
   "id": "4c908574",
   "metadata": {
    "ExecuteTime": {
     "end_time": "2022-10-15T23:06:52.894097Z",
     "start_time": "2022-10-15T23:06:52.533374Z"
    },
    "hide_input": true
   },
   "outputs": [
    {
     "data": {
      "image/png": "[encoded data removed]",
      "text/plain": [
       "<Figure size 1440x360 with 1 Axes>"
      ]
     },
     "metadata": {
      "needs_background": "light"
     },
     "output_type": "display_data"
    }
   ],
   "source": [
    "fig = plt.figure(figsize=(20,5))\n",
    "aux = df4[[\"policy_sales_channel\", \"response\"]].groupby('policy_sales_channel').sum().reset_index()\n",
    "aux = aux[aux['response'] > 40]\n",
    "\n",
    "sns.barplot(data=aux,x='policy_sales_channel',y='response');\n",
    "plt.title('Count of Sales Channel',fontsize=15);"
   ]
  },
  {
   "cell_type": "markdown",
   "id": "c46516d2",
   "metadata": {
    "hide_input": true
   },
   "source": [
    "#### 4.1.2.7 Vehicle Damage\n",
    "\n",
    "- Although tha simular number of damage and not damage vehicles, people that are more interest has a vehicle damage in the past"
   ]
  },
  {
   "cell_type": "code",
   "execution_count": 389,
   "id": "22b484e2",
   "metadata": {
    "ExecuteTime": {
     "end_time": "2022-10-15T23:06:53.069521Z",
     "start_time": "2022-10-15T23:06:52.894958Z"
    },
    "cell_style": "split",
    "hide_input": true,
    "scrolled": true
   },
   "outputs": [
    {
     "data": {
      "image/png": "[encoded data removed]",
      "text/plain": [
       "<Figure size 432x288 with 1 Axes>"
      ]
     },
     "metadata": {
      "needs_background": "light"
     },
     "output_type": "display_data"
    }
   ],
   "source": [
    "# 'vehicle_damage'\n",
    "aux1 = df4[['vehicle_damage','response']].groupby('vehicle_damage').count().reset_index()\n",
    "g = sns.barplot(x = 'vehicle_damage', y = 'response', data = aux1)\n",
    "g.set_title('Count per Vehicle Damage')\n",
    "\n",
    "# incluindo labels nas barras\n",
    "for i in g.containers:\n",
    "    g.bar_label(i, color='white', label_type= 'center',fontsize='medium',fmt='%.2f')"
   ]
  },
  {
   "cell_type": "code",
   "execution_count": 390,
   "id": "d9af14f4",
   "metadata": {
    "ExecuteTime": {
     "end_time": "2022-10-15T23:06:53.208952Z",
     "start_time": "2022-10-15T23:06:53.070484Z"
    },
    "cell_style": "split",
    "hide_input": true,
    "scrolled": true
   },
   "outputs": [
    {
     "data": {
      "image/png": "[encoded data removed]",
      "text/plain": [
       "<Figure size 432x288 with 1 Axes>"
      ]
     },
     "metadata": {},
     "output_type": "display_data"
    }
   ],
   "source": [
    "# pie plot\n",
    "aux1 = pd.DataFrame(df4[['vehicle_damage','response']].groupby('vehicle_damage').sum()).reset_index()\n",
    "pie_chart(aux1,'vehicle_damage',\"Interest in Vehicle Damage\",'Vehicle Damage')"
   ]
  },
  {
   "cell_type": "markdown",
   "id": "5696b4a5",
   "metadata": {},
   "source": [
    "## 4.2. Bivariate Analysis"
   ]
  },
  {
   "cell_type": "markdown",
   "id": "93183530",
   "metadata": {},
   "source": [
    "### H1. Customers over 40 years old are 50% more interest in vehicle insurance\n",
    "\n",
    "- **False**, customer over 40 years old are 48% more interest in vehicle insurance than others"
   ]
  },
  {
   "cell_type": "code",
   "execution_count": 391,
   "id": "69e94123",
   "metadata": {
    "ExecuteTime": {
     "end_time": "2022-10-15T23:06:53.430524Z",
     "start_time": "2022-10-15T23:06:53.210580Z"
    },
    "cell_style": "split",
    "hide_input": true,
    "run_control": {
     "marked": true
    }
   },
   "outputs": [
    {
     "data": {
      "image/png": "[encoded data removed]",
      "text/plain": [
       "<Figure size 576x360 with 1 Axes>"
      ]
     },
     "metadata": {
      "needs_background": "light"
     },
     "output_type": "display_data"
    }
   ],
   "source": [
    "aux = df4[['age','response']].copy()\n",
    "aux['old'] = df4['age'].apply(lambda x: '+ 40 years' if x > 40 else '- 40 years')\n",
    "aux = aux[['old','response']].groupby('old').sum().reset_index().rename(columns={'response':'interest'})\n",
    "\n",
    "fig = plt.figure(figsize=(8,5))\n",
    "g = sns.barplot(x='old', y='interest', data=aux)\n",
    "plt.title('Customers Interested bellow and over 40 Years Old')\n",
    "\n",
    "for i in g.containers:\n",
    "    g.bar_label(i, color='white', label_type= 'center',fontsize='x-large',fmt='%.2f')"
   ]
  },
  {
   "cell_type": "code",
   "execution_count": 392,
   "id": "8ff0ec1a",
   "metadata": {
    "ExecuteTime": {
     "end_time": "2022-10-15T23:06:53.461477Z",
     "start_time": "2022-10-15T23:06:53.432521Z"
    },
    "cell_style": "split",
    "hide_input": true
   },
   "outputs": [
    {
     "data": {
      "text/html": [
       "<div>\n",
       "<style scoped>\n",
       "    .dataframe tbody tr th:only-of-type {\n",
       "        vertical-align: middle;\n",
       "    }\n",
       "\n",
       "    .dataframe tbody tr th {\n",
       "        vertical-align: top;\n",
       "    }\n",
       "\n",
       "    .dataframe thead th {\n",
       "        text-align: right;\n",
       "    }\n",
       "</style>\n",
       "<table border=\"1\" class=\"dataframe\">\n",
       "  <thead>\n",
       "    <tr style=\"text-align: right;\">\n",
       "      <th></th>\n",
       "      <th>old</th>\n",
       "      <th>interest</th>\n",
       "      <th>perc</th>\n",
       "      <th>diff</th>\n",
       "    </tr>\n",
       "  </thead>\n",
       "  <tbody>\n",
       "    <tr>\n",
       "      <th>0</th>\n",
       "      <td>+ 40 years</td>\n",
       "      <td>27930</td>\n",
       "      <td>59.79%</td>\n",
       "      <td>NaN</td>\n",
       "    </tr>\n",
       "    <tr>\n",
       "      <th>1</th>\n",
       "      <td>- 40 years</td>\n",
       "      <td>18780</td>\n",
       "      <td>40.21%</td>\n",
       "      <td>48.72</td>\n",
       "    </tr>\n",
       "  </tbody>\n",
       "</table>\n",
       "</div>"
      ],
      "text/plain": [
       "          old  interest    perc   diff\n",
       "0  + 40 years     27930  59.79%    NaN\n",
       "1  - 40 years     18780  40.21%  48.72"
      ]
     },
     "execution_count": 392,
     "metadata": {},
     "output_type": "execute_result"
    }
   ],
   "source": [
    "aux['perc'] = (round(aux['interest']/aux['interest'].sum()*100,2)).astype(str) + '%'\n",
    "aux['diff'] = aux['interest'].rolling(window=2).apply(lambda x: round((x.iloc[0])*100/x.iloc[1]-100,2))\n",
    "aux"
   ]
  },
  {
   "cell_type": "markdown",
   "id": "3cc23a44",
   "metadata": {},
   "source": [
    "### H2. Customer with a newer vehicle are 30% more interest in adquire the vericle insurance than customer with older cars\n",
    "\n",
    "- **False**, customer with newer vehicle are 81% less interest in adquive the insurance"
   ]
  },
  {
   "cell_type": "code",
   "execution_count": 393,
   "id": "5e12b2b4",
   "metadata": {
    "ExecuteTime": {
     "end_time": "2022-10-15T23:06:53.681901Z",
     "start_time": "2022-10-15T23:06:53.463438Z"
    },
    "cell_style": "split",
    "hide_input": true
   },
   "outputs": [
    {
     "data": {
      "image/png": "[encoded data removed]",
      "text/plain": [
       "<Figure size 576x360 with 1 Axes>"
      ]
     },
     "metadata": {
      "needs_background": "light"
     },
     "output_type": "display_data"
    }
   ],
   "source": [
    "aux = df4[['vehicle_age','response']].copy()\n",
    "aux['vehicle_age'] = aux['vehicle_age'].apply(lambda x: 'new vehicle' if x == 'bellow_1_year' else 'old_vehicle')\n",
    "aux = aux.groupby('vehicle_age').sum().reset_index().rename(columns={'response':'interest'})\n",
    "\n",
    "fig = plt.figure(figsize=(8,5))\n",
    "g = sns.barplot(x='vehicle_age', y='interest', data=aux)\n",
    "plt.title('Customers Interested by Vehicle Age')\n",
    "\n",
    "for i in g.containers:\n",
    "    g.bar_label(i, color='white', label_type= 'center',fontsize='x-large',fmt='%.0f')"
   ]
  },
  {
   "cell_type": "code",
   "execution_count": 394,
   "id": "c8adf6c9",
   "metadata": {
    "ExecuteTime": {
     "end_time": "2022-10-15T23:06:53.697587Z",
     "start_time": "2022-10-15T23:06:53.683592Z"
    },
    "cell_style": "split",
    "hide_input": true
   },
   "outputs": [
    {
     "data": {
      "text/html": [
       "<div>\n",
       "<style scoped>\n",
       "    .dataframe tbody tr th:only-of-type {\n",
       "        vertical-align: middle;\n",
       "    }\n",
       "\n",
       "    .dataframe tbody tr th {\n",
       "        vertical-align: top;\n",
       "    }\n",
       "\n",
       "    .dataframe thead th {\n",
       "        text-align: right;\n",
       "    }\n",
       "</style>\n",
       "<table border=\"1\" class=\"dataframe\">\n",
       "  <thead>\n",
       "    <tr style=\"text-align: right;\">\n",
       "      <th></th>\n",
       "      <th>vehicle_age</th>\n",
       "      <th>interest</th>\n",
       "      <th>perc</th>\n",
       "      <th>diff</th>\n",
       "    </tr>\n",
       "  </thead>\n",
       "  <tbody>\n",
       "    <tr>\n",
       "      <th>0</th>\n",
       "      <td>new vehicle</td>\n",
       "      <td>7202</td>\n",
       "      <td>15.42%</td>\n",
       "      <td>NaN</td>\n",
       "    </tr>\n",
       "    <tr>\n",
       "      <th>1</th>\n",
       "      <td>old_vehicle</td>\n",
       "      <td>39508</td>\n",
       "      <td>84.58%</td>\n",
       "      <td>-81.77</td>\n",
       "    </tr>\n",
       "  </tbody>\n",
       "</table>\n",
       "</div>"
      ],
      "text/plain": [
       "   vehicle_age  interest    perc   diff\n",
       "0  new vehicle      7202  15.42%    NaN\n",
       "1  old_vehicle     39508  84.58% -81.77"
      ]
     },
     "execution_count": 394,
     "metadata": {},
     "output_type": "execute_result"
    }
   ],
   "source": [
    "aux['perc'] = (round(aux['interest']/aux['interest'].sum()*100,2)).astype(str) + '%'\n",
    "aux['diff'] = aux['interest'].rolling(window=2).apply(lambda x: round((x.iloc[0])*100/x.iloc[1]-100,2))\n",
    "aux"
   ]
  },
  {
   "cell_type": "markdown",
   "id": "5eba1415",
   "metadata": {},
   "source": [
    "### H3. Customer with more days in relation with the company are more interest in adquire the vehicle insurance\n",
    "\n",
    "- **False**, as longer as the customer relationship with the company are, the lower is the interest"
   ]
  },
  {
   "cell_type": "code",
   "execution_count": 395,
   "id": "3582b972",
   "metadata": {
    "ExecuteTime": {
     "end_time": "2022-10-15T23:06:54.013086Z",
     "start_time": "2022-10-15T23:06:53.699615Z"
    },
    "hide_input": true
   },
   "outputs": [
    {
     "data": {
      "image/png": "[encoded data removed]",
      "text/plain": [
       "<Figure size 720x432 with 1 Axes>"
      ]
     },
     "metadata": {
      "needs_background": "light"
     },
     "output_type": "display_data"
    }
   ],
   "source": [
    "aux = df4[['vintage','response']].copy()\n",
    "aux = aux.groupby('vintage').sum().reset_index().rename(columns={'response':'interest'})\n",
    "\n",
    "fig = plt.figure(figsize=(10,6))\n",
    "sns.regplot(x='vintage', y='interest',data=aux);\n",
    "plt.xticks(rotation=90);\n",
    "plt.title('Tendence of Sales Per Promotion Time',fontsize=15)\n",
    "plt.tight_layout()"
   ]
  },
  {
   "cell_type": "markdown",
   "id": "91f8c53e",
   "metadata": {},
   "source": [
    "# 5.0 Data Preparation"
   ]
  },
  {
   "cell_type": "code",
   "execution_count": 396,
   "id": "a4596316",
   "metadata": {
    "ExecuteTime": {
     "end_time": "2022-10-15T23:06:54.074976Z",
     "start_time": "2022-10-15T23:06:54.015083Z"
    }
   },
   "outputs": [],
   "source": [
    "df5 = df4.copy()"
   ]
  },
  {
   "cell_type": "markdown",
   "id": "969d4d35",
   "metadata": {},
   "source": [
    "## 5.1 Split Datasets"
   ]
  },
  {
   "cell_type": "markdown",
   "id": "d5e1e267",
   "metadata": {},
   "source": [
    "### 5.1.1 Test and Training"
   ]
  },
  {
   "cell_type": "code",
   "execution_count": 397,
   "id": "cc4cd7c8",
   "metadata": {
    "ExecuteTime": {
     "end_time": "2022-10-15T23:06:54.327056Z",
     "start_time": "2022-10-15T23:06:54.076976Z"
    }
   },
   "outputs": [],
   "source": [
    "X = df4.drop(['response'],axis=1)\n",
    "y = df4['response'].copy()\n",
    "\n",
    "X_train_full, X_test, Y_train_full, Y_test = ms.train_test_split(X, y, test_size=0.1)"
   ]
  },
  {
   "cell_type": "markdown",
   "id": "2a13ace1",
   "metadata": {},
   "source": [
    "### 5.1.2 Training and Validation"
   ]
  },
  {
   "cell_type": "code",
   "execution_count": 398,
   "id": "a287aa21",
   "metadata": {
    "ExecuteTime": {
     "end_time": "2022-10-15T23:06:54.516354Z",
     "start_time": "2022-10-15T23:06:54.330052Z"
    }
   },
   "outputs": [],
   "source": [
    "x_train, x_validation, y_train, y_validation = ms.train_test_split(X_train_full, Y_train_full, test_size=0.2)\n",
    "\n",
    "data_train = pd.concat([x_train, y_train], axis=1)"
   ]
  },
  {
   "cell_type": "code",
   "execution_count": 399,
   "id": "38ea5a66",
   "metadata": {
    "ExecuteTime": {
     "end_time": "2022-10-15T23:06:54.547155Z",
     "start_time": "2022-10-15T23:06:54.518311Z"
    }
   },
   "outputs": [
    {
     "name": "stdout",
     "output_type": "stream",
     "text": [
      "Total Dimension:            381109\n",
      "Training Dataset Dimension: 342998 (90.0%)\n",
      "Test Dataset Dimension:     38111 (10.0%)\n",
      "\n",
      "Training Dataset Dimension:         342998\n",
      "Training Model Dataset Dimension:   274398 (80.0%)\n",
      "Validation Model Dataset Dimension: 68600 (20.0%)\n"
     ]
    }
   ],
   "source": [
    "print('Total Dimension:            {}'.format(X.shape[0]))\n",
    "print('Training Dataset Dimension: {} ({}%)'.format(X_train_full.shape[0],round((X_train_full.shape[0]/X.shape[0])*100,2)))\n",
    "print('Test Dataset Dimension:     {} ({}%)\\n'.format(X_test.shape[0],round((X_test.shape[0]/X.shape[0])*100,2)))\n",
    "\n",
    "print('Training Dataset Dimension:         {}'.format(X_train_full.shape[0]))\n",
    "print('Training Model Dataset Dimension:   {} ({}%)'.format(x_train.shape[0],round((x_train.shape[0]/X_train_full.shape[0])*100,2)))\n",
    "print('Validation Model Dataset Dimension: {} ({}%)'.format(x_validation.shape[0],round((x_validation.shape[0]/X_train_full.shape[0])*100,2)))"
   ]
  },
  {
   "cell_type": "markdown",
   "id": "927bfe38",
   "metadata": {},
   "source": [
    "## 5.2 Standardization"
   ]
  },
  {
   "cell_type": "code",
   "execution_count": 400,
   "id": "0f596374",
   "metadata": {
    "ExecuteTime": {
     "end_time": "2022-10-15T23:06:54.640732Z",
     "start_time": "2022-10-15T23:06:54.549153Z"
    }
   },
   "outputs": [],
   "source": [
    "ss = pp.StandardScaler()\n",
    "\n",
    "## annual_premium\n",
    "data_train['annual_premium'] = ss.fit_transform(data_train[['annual_premium']].values)\n",
    "pickle.dump(ss,open('C:\\\\Users\\\\Notebook\\\\repos\\\\Insurance-Cross-Sell\\\\src\\\\features\\\\annual_premium_scaler.pkl','wb'))"
   ]
  },
  {
   "cell_type": "markdown",
   "id": "ff3be51a",
   "metadata": {},
   "source": [
    "## 5.3 Rescaling"
   ]
  },
  {
   "cell_type": "code",
   "execution_count": 401,
   "id": "06b631ba",
   "metadata": {
    "ExecuteTime": {
     "end_time": "2022-10-15T23:06:54.687996Z",
     "start_time": "2022-10-15T23:06:54.642799Z"
    }
   },
   "outputs": [],
   "source": [
    "mms_age = pp.MinMaxScaler()\n",
    "mms_vintage = pp.MinMaxScaler()\n",
    "\n",
    "## age\n",
    "data_train['age'] = mms_age.fit_transform( data_train[['age']].values )\n",
    "pickle.dump(mms_age,open('C:\\\\Users\\\\Notebook\\\\repos\\\\Insurance-Cross-Sell\\\\src\\\\features\\\\age_scaler.pkl','wb'))\n",
    "\n",
    "## vintage\n",
    "data_train['vintage'] = mms_vintage.fit_transform( data_train[['vintage']].values )\n",
    "pickle.dump(mms_vintage,open('C:\\\\Users\\\\Notebook\\\\repos\\\\Insurance-Cross-Sell\\\\src\\\\features\\\\vintage_scaler.pkl','wb'))"
   ]
  },
  {
   "cell_type": "markdown",
   "id": "5505997c",
   "metadata": {},
   "source": [
    "## 5.4 Encoder"
   ]
  },
  {
   "cell_type": "markdown",
   "id": "6faa3eea",
   "metadata": {},
   "source": [
    "### 5.4.1 One Hot Enconding"
   ]
  },
  {
   "cell_type": "code",
   "execution_count": 402,
   "id": "f3947289",
   "metadata": {
    "ExecuteTime": {
     "end_time": "2022-10-15T23:06:54.814028Z",
     "start_time": "2022-10-15T23:06:54.689993Z"
    }
   },
   "outputs": [],
   "source": [
    "## vehicle_age\n",
    "data_train = pd.get_dummies(data_train, prefix='vehicle_age',columns=['vehicle_age'])"
   ]
  },
  {
   "cell_type": "markdown",
   "id": "ee3fad1c",
   "metadata": {},
   "source": [
    "### 5.4.2 Target Enconding"
   ]
  },
  {
   "cell_type": "code",
   "execution_count": 403,
   "id": "f758279f",
   "metadata": {
    "ExecuteTime": {
     "end_time": "2022-10-15T23:06:55.160863Z",
     "start_time": "2022-10-15T23:06:54.818022Z"
    }
   },
   "outputs": [],
   "source": [
    "# gender \n",
    "target_encode_gender = data_train.groupby('gender')['response'].mean()\n",
    "data_train.loc[:,'gender'] = data_train['gender'].map(target_encode_gender)\n",
    "pickle.dump(target_encode_gender,open('C:\\\\Users\\\\Notebook\\\\repos\\\\Insurance-Cross-Sell\\\\src\\\\features\\\\gender_scaler.pkl','wb'))\n",
    "\n",
    "# region_code \n",
    "target_encode_region_code = data_train.groupby('region_code')['response'].mean()\n",
    "data_train.loc[:,'region_code'] = data_train['region_code'].map(target_encode_region_code)\n",
    "pickle.dump(target_encode_region_code,open('C:\\\\Users\\\\Notebook\\\\repos\\\\Insurance-Cross-Sell\\\\src\\\\features\\\\region_code_scaler.pkl','wb'))\n",
    "\n",
    "# vehicle damage\n",
    "target_encode_vehicle_damage = data_train.groupby('vehicle_damage')['response'].mean()\n",
    "data_train.loc[:,'vehicle_damage'] = data_train['vehicle_damage'].map(target_encode_vehicle_damage)\n",
    "pickle.dump(target_encode_vehicle_damage,open('C:\\\\Users\\\\Notebook\\\\repos\\\\Insurance-Cross-Sell\\\\src\\\\features\\\\vehicle_damage_scaler.pkl','wb'))"
   ]
  },
  {
   "cell_type": "markdown",
   "id": "ad5a93f4",
   "metadata": {},
   "source": [
    "### 5.4.3 Frequency Enconding"
   ]
  },
  {
   "cell_type": "code",
   "execution_count": 404,
   "id": "5238f781",
   "metadata": {
    "ExecuteTime": {
     "end_time": "2022-10-15T23:06:55.192079Z",
     "start_time": "2022-10-15T23:06:55.162785Z"
    }
   },
   "outputs": [],
   "source": [
    "## policy_sales_channel \n",
    "fe_policy_sales_channel = data_train.groupby('policy_sales_channel').size()/len(data_train)\n",
    "data_train.loc[:,'policy_sales_channel'] = data_train['policy_sales_channel'].map(fe_policy_sales_channel)\n",
    "pickle.dump(fe_policy_sales_channel,open('C:\\\\Users\\\\Notebook\\\\repos\\\\Insurance-Cross-Sell\\\\src\\\\features\\\\policy_sales_channel_scaler.pkl','wb'))"
   ]
  },
  {
   "cell_type": "code",
   "execution_count": 405,
   "id": "b2b060d0",
   "metadata": {
    "ExecuteTime": {
     "end_time": "2022-10-15T23:06:55.207810Z",
     "start_time": "2022-10-15T23:06:55.193848Z"
    }
   },
   "outputs": [
    {
     "data": {
      "text/html": [
       "<div>\n",
       "<style scoped>\n",
       "    .dataframe tbody tr th:only-of-type {\n",
       "        vertical-align: middle;\n",
       "    }\n",
       "\n",
       "    .dataframe tbody tr th {\n",
       "        vertical-align: top;\n",
       "    }\n",
       "\n",
       "    .dataframe thead th {\n",
       "        text-align: right;\n",
       "    }\n",
       "</style>\n",
       "<table border=\"1\" class=\"dataframe\">\n",
       "  <thead>\n",
       "    <tr style=\"text-align: right;\">\n",
       "      <th></th>\n",
       "      <th>id</th>\n",
       "      <th>gender</th>\n",
       "      <th>age</th>\n",
       "      <th>region_code</th>\n",
       "      <th>policy_sales_channel</th>\n",
       "      <th>driving_license</th>\n",
       "      <th>vehicle_damage</th>\n",
       "      <th>previously_insured</th>\n",
       "      <th>annual_premium</th>\n",
       "      <th>vintage</th>\n",
       "      <th>response</th>\n",
       "      <th>vehicle_age_bellow_1_year</th>\n",
       "      <th>vehicle_age_between_1_2_year</th>\n",
       "      <th>vehicle_age_over_2_years</th>\n",
       "    </tr>\n",
       "  </thead>\n",
       "  <tbody>\n",
       "    <tr>\n",
       "      <th>92058</th>\n",
       "      <td>353582</td>\n",
       "      <td>0.138839</td>\n",
       "      <td>0.246154</td>\n",
       "      <td>0.187511</td>\n",
       "      <td>0.002682</td>\n",
       "      <td>1</td>\n",
       "      <td>0.005246</td>\n",
       "      <td>1</td>\n",
       "      <td>0.502048</td>\n",
       "      <td>0.449827</td>\n",
       "      <td>0</td>\n",
       "      <td>0</td>\n",
       "      <td>1</td>\n",
       "      <td>0</td>\n",
       "    </tr>\n",
       "    <tr>\n",
       "      <th>323930</th>\n",
       "      <td>302251</td>\n",
       "      <td>0.104151</td>\n",
       "      <td>0.000000</td>\n",
       "      <td>0.079517</td>\n",
       "      <td>0.056997</td>\n",
       "      <td>1</td>\n",
       "      <td>0.238095</td>\n",
       "      <td>0</td>\n",
       "      <td>0.006006</td>\n",
       "      <td>0.114187</td>\n",
       "      <td>0</td>\n",
       "      <td>1</td>\n",
       "      <td>0</td>\n",
       "      <td>0</td>\n",
       "    </tr>\n",
       "    <tr>\n",
       "      <th>79154</th>\n",
       "      <td>250679</td>\n",
       "      <td>0.104151</td>\n",
       "      <td>0.046154</td>\n",
       "      <td>0.072623</td>\n",
       "      <td>0.353858</td>\n",
       "      <td>1</td>\n",
       "      <td>0.005246</td>\n",
       "      <td>1</td>\n",
       "      <td>-0.045421</td>\n",
       "      <td>0.183391</td>\n",
       "      <td>0</td>\n",
       "      <td>1</td>\n",
       "      <td>0</td>\n",
       "      <td>0</td>\n",
       "    </tr>\n",
       "    <tr>\n",
       "      <th>366130</th>\n",
       "      <td>261645</td>\n",
       "      <td>0.138839</td>\n",
       "      <td>0.030769</td>\n",
       "      <td>0.187511</td>\n",
       "      <td>0.353858</td>\n",
       "      <td>1</td>\n",
       "      <td>0.005246</td>\n",
       "      <td>1</td>\n",
       "      <td>1.221502</td>\n",
       "      <td>0.657439</td>\n",
       "      <td>0</td>\n",
       "      <td>1</td>\n",
       "      <td>0</td>\n",
       "      <td>0</td>\n",
       "    </tr>\n",
       "    <tr>\n",
       "      <th>195126</th>\n",
       "      <td>34471</td>\n",
       "      <td>0.104151</td>\n",
       "      <td>0.138462</td>\n",
       "      <td>0.187511</td>\n",
       "      <td>0.194626</td>\n",
       "      <td>1</td>\n",
       "      <td>0.238095</td>\n",
       "      <td>0</td>\n",
       "      <td>-0.249445</td>\n",
       "      <td>0.086505</td>\n",
       "      <td>1</td>\n",
       "      <td>1</td>\n",
       "      <td>0</td>\n",
       "      <td>0</td>\n",
       "    </tr>\n",
       "  </tbody>\n",
       "</table>\n",
       "</div>"
      ],
      "text/plain": [
       "            id    gender       age  region_code  policy_sales_channel  driving_license  vehicle_damage  previously_insured  annual_premium   vintage  response  vehicle_age_bellow_1_year  vehicle_age_between_1_2_year  vehicle_age_over_2_years\n",
       "92058   353582  0.138839  0.246154     0.187511              0.002682                1        0.005246                   1        0.502048  0.449827         0                          0                             1                         0\n",
       "323930  302251  0.104151  0.000000     0.079517              0.056997                1        0.238095                   0        0.006006  0.114187         0                          1                             0                         0\n",
       "79154   250679  0.104151  0.046154     0.072623              0.353858                1        0.005246                   1       -0.045421  0.183391         0                          1                             0                         0\n",
       "366130  261645  0.138839  0.030769     0.187511              0.353858                1        0.005246                   1        1.221502  0.657439         0                          1                             0                         0\n",
       "195126   34471  0.104151  0.138462     0.187511              0.194626                1        0.238095                   0       -0.249445  0.086505         1                          1                             0                         0"
      ]
     },
     "execution_count": 405,
     "metadata": {},
     "output_type": "execute_result"
    }
   ],
   "source": [
    "data_train.head()"
   ]
  },
  {
   "cell_type": "markdown",
   "id": "6bd2be18",
   "metadata": {},
   "source": [
    "## 5.5 Validation Preparation"
   ]
  },
  {
   "cell_type": "code",
   "execution_count": 406,
   "id": "53d8b355",
   "metadata": {
    "ExecuteTime": {
     "end_time": "2022-10-15T23:06:55.223802Z",
     "start_time": "2022-10-15T23:06:55.208807Z"
    }
   },
   "outputs": [
    {
     "data": {
      "text/html": [
       "<div>\n",
       "<style scoped>\n",
       "    .dataframe tbody tr th:only-of-type {\n",
       "        vertical-align: middle;\n",
       "    }\n",
       "\n",
       "    .dataframe tbody tr th {\n",
       "        vertical-align: top;\n",
       "    }\n",
       "\n",
       "    .dataframe thead th {\n",
       "        text-align: right;\n",
       "    }\n",
       "</style>\n",
       "<table border=\"1\" class=\"dataframe\">\n",
       "  <thead>\n",
       "    <tr style=\"text-align: right;\">\n",
       "      <th></th>\n",
       "      <th>id</th>\n",
       "      <th>gender</th>\n",
       "      <th>age</th>\n",
       "      <th>region_code</th>\n",
       "      <th>policy_sales_channel</th>\n",
       "      <th>driving_license</th>\n",
       "      <th>vehicle_age</th>\n",
       "      <th>vehicle_damage</th>\n",
       "      <th>previously_insured</th>\n",
       "      <th>annual_premium</th>\n",
       "      <th>vintage</th>\n",
       "    </tr>\n",
       "  </thead>\n",
       "  <tbody>\n",
       "    <tr>\n",
       "      <th>181133</th>\n",
       "      <td>304635</td>\n",
       "      <td>Female</td>\n",
       "      <td>60</td>\n",
       "      <td>28</td>\n",
       "      <td>13</td>\n",
       "      <td>1</td>\n",
       "      <td>between_1_2_year</td>\n",
       "      <td>Yes</td>\n",
       "      <td>0</td>\n",
       "      <td>42314.0</td>\n",
       "      <td>143</td>\n",
       "    </tr>\n",
       "    <tr>\n",
       "      <th>107566</th>\n",
       "      <td>96652</td>\n",
       "      <td>Female</td>\n",
       "      <td>32</td>\n",
       "      <td>41</td>\n",
       "      <td>152</td>\n",
       "      <td>1</td>\n",
       "      <td>bellow_1_year</td>\n",
       "      <td>No</td>\n",
       "      <td>1</td>\n",
       "      <td>21918.0</td>\n",
       "      <td>111</td>\n",
       "    </tr>\n",
       "    <tr>\n",
       "      <th>223524</th>\n",
       "      <td>261759</td>\n",
       "      <td>Female</td>\n",
       "      <td>71</td>\n",
       "      <td>8</td>\n",
       "      <td>26</td>\n",
       "      <td>1</td>\n",
       "      <td>between_1_2_year</td>\n",
       "      <td>No</td>\n",
       "      <td>1</td>\n",
       "      <td>2630.0</td>\n",
       "      <td>115</td>\n",
       "    </tr>\n",
       "    <tr>\n",
       "      <th>257431</th>\n",
       "      <td>151877</td>\n",
       "      <td>Male</td>\n",
       "      <td>22</td>\n",
       "      <td>17</td>\n",
       "      <td>152</td>\n",
       "      <td>1</td>\n",
       "      <td>bellow_1_year</td>\n",
       "      <td>Yes</td>\n",
       "      <td>0</td>\n",
       "      <td>2630.0</td>\n",
       "      <td>150</td>\n",
       "    </tr>\n",
       "    <tr>\n",
       "      <th>9532</th>\n",
       "      <td>76210</td>\n",
       "      <td>Female</td>\n",
       "      <td>39</td>\n",
       "      <td>15</td>\n",
       "      <td>157</td>\n",
       "      <td>1</td>\n",
       "      <td>between_1_2_year</td>\n",
       "      <td>Yes</td>\n",
       "      <td>0</td>\n",
       "      <td>2630.0</td>\n",
       "      <td>298</td>\n",
       "    </tr>\n",
       "  </tbody>\n",
       "</table>\n",
       "</div>"
      ],
      "text/plain": [
       "            id  gender  age  region_code  policy_sales_channel  driving_license       vehicle_age vehicle_damage  previously_insured  annual_premium  vintage\n",
       "181133  304635  Female   60           28                    13                1  between_1_2_year            Yes                   0         42314.0      143\n",
       "107566   96652  Female   32           41                   152                1     bellow_1_year             No                   1         21918.0      111\n",
       "223524  261759  Female   71            8                    26                1  between_1_2_year             No                   1          2630.0      115\n",
       "257431  151877    Male   22           17                   152                1     bellow_1_year            Yes                   0          2630.0      150\n",
       "9532     76210  Female   39           15                   157                1  between_1_2_year            Yes                   0          2630.0      298"
      ]
     },
     "execution_count": 406,
     "metadata": {},
     "output_type": "execute_result"
    }
   ],
   "source": [
    "x_validation.head()"
   ]
  },
  {
   "cell_type": "code",
   "execution_count": 407,
   "id": "58070db9",
   "metadata": {
    "ExecuteTime": {
     "end_time": "2022-10-15T23:06:55.239292Z",
     "start_time": "2022-10-15T23:06:55.225761Z"
    }
   },
   "outputs": [],
   "source": [
    "dict_preparation = {\n",
    "    'STANDARIZATION':{\n",
    "        'annual_premium':ss\n",
    "    },\n",
    "    'RESCALING': {\n",
    "        'min_max_scaler':{\n",
    "            'age':    mms_age,\n",
    "            'vintage':mms_vintage\n",
    "        }\n",
    "    },\n",
    "    'ENCONDING':{\n",
    "        'one_hot_enconding':{\n",
    "            'vehicle_age':'vehicle_age'\n",
    "        },\n",
    "        'target_enconding':{\n",
    "            'gender':         target_encode_gender,\n",
    "            'region_code':    target_encode_region_code,\n",
    "            'vehicle_damage': target_encode_vehicle_damage\n",
    "        },\n",
    "        'frequency_encoding':{\n",
    "            'policy_sales_channel':fe_policy_sales_channel\n",
    "        }\n",
    "    }\n",
    "}"
   ]
  },
  {
   "cell_type": "code",
   "execution_count": 408,
   "id": "58bee3d3",
   "metadata": {
    "ExecuteTime": {
     "end_time": "2022-10-15T23:06:55.269643Z",
     "start_time": "2022-10-15T23:06:55.245072Z"
    }
   },
   "outputs": [],
   "source": [
    "def data_preparation(data,dict_preparation):\n",
    "    for att in list(dict_preparation['STANDARIZATION'].keys()):\n",
    "        std = dict_preparation['STANDARIZATION'][att]\n",
    "        data.loc[:,att] = std.transform(data[[att]].values)\n",
    "\n",
    "    for type_encode in list(dict_preparation['RESCALING'].keys()):\n",
    "        for att in list(dict_preparation['RESCALING'][type_encode].keys()):\n",
    "            std = dict_preparation['RESCALING'][type_encode][att]\n",
    "            data.loc[:,att] = std.transform(data[[att]].values)\n",
    "\n",
    "    for type_encode in list(dict_preparation['ENCONDING'].keys()):\n",
    "        for att in list(dict_preparation['ENCONDING'][type_encode].keys()):\n",
    "            if type_encode == 'one_hot_enconding':\n",
    "                prefix = dict_preparation['ENCONDING'][type_encode][att]\n",
    "                columns = dict_preparation['ENCONDING'][type_encode][att]\n",
    "                data = pd.get_dummies(data, prefix = prefix,columns=[columns])\n",
    "            else:\n",
    "                std = dict_preparation['ENCONDING'][type_encode][att]\n",
    "                data.loc[:,att] = data.loc[:,att].map(std)\n",
    "                \n",
    "    # fillna\n",
    "    data = data.fillna(0)\n",
    "                \n",
    "    return data"
   ]
  },
  {
   "cell_type": "code",
   "execution_count": 409,
   "id": "fb8f0bf0",
   "metadata": {
    "ExecuteTime": {
     "end_time": "2022-10-15T23:06:55.393477Z",
     "start_time": "2022-10-15T23:06:55.271638Z"
    }
   },
   "outputs": [],
   "source": [
    "x_validation = data_preparation(x_validation,dict_preparation)"
   ]
  },
  {
   "cell_type": "code",
   "execution_count": 410,
   "id": "ecfae931",
   "metadata": {
    "ExecuteTime": {
     "end_time": "2022-10-15T23:06:55.425205Z",
     "start_time": "2022-10-15T23:06:55.395251Z"
    }
   },
   "outputs": [
    {
     "data": {
      "text/html": [
       "<div>\n",
       "<style scoped>\n",
       "    .dataframe tbody tr th:only-of-type {\n",
       "        vertical-align: middle;\n",
       "    }\n",
       "\n",
       "    .dataframe tbody tr th {\n",
       "        vertical-align: top;\n",
       "    }\n",
       "\n",
       "    .dataframe thead th {\n",
       "        text-align: right;\n",
       "    }\n",
       "</style>\n",
       "<table border=\"1\" class=\"dataframe\">\n",
       "  <thead>\n",
       "    <tr style=\"text-align: right;\">\n",
       "      <th></th>\n",
       "      <th>id</th>\n",
       "      <th>gender</th>\n",
       "      <th>age</th>\n",
       "      <th>region_code</th>\n",
       "      <th>policy_sales_channel</th>\n",
       "      <th>driving_license</th>\n",
       "      <th>vehicle_damage</th>\n",
       "      <th>previously_insured</th>\n",
       "      <th>annual_premium</th>\n",
       "      <th>vintage</th>\n",
       "      <th>vehicle_age_bellow_1_year</th>\n",
       "      <th>vehicle_age_between_1_2_year</th>\n",
       "      <th>vehicle_age_over_2_years</th>\n",
       "    </tr>\n",
       "  </thead>\n",
       "  <tbody>\n",
       "    <tr>\n",
       "      <th>181133</th>\n",
       "      <td>304635</td>\n",
       "      <td>0.104151</td>\n",
       "      <td>0.615385</td>\n",
       "      <td>0.187511</td>\n",
       "      <td>0.004825</td>\n",
       "      <td>1</td>\n",
       "      <td>0.238095</td>\n",
       "      <td>0</td>\n",
       "      <td>0.681752</td>\n",
       "      <td>0.460208</td>\n",
       "      <td>0</td>\n",
       "      <td>1</td>\n",
       "      <td>0</td>\n",
       "    </tr>\n",
       "    <tr>\n",
       "      <th>107566</th>\n",
       "      <td>96652</td>\n",
       "      <td>0.104151</td>\n",
       "      <td>0.184615</td>\n",
       "      <td>0.124022</td>\n",
       "      <td>0.353858</td>\n",
       "      <td>1</td>\n",
       "      <td>0.005246</td>\n",
       "      <td>1</td>\n",
       "      <td>-0.502110</td>\n",
       "      <td>0.349481</td>\n",
       "      <td>1</td>\n",
       "      <td>0</td>\n",
       "      <td>0</td>\n",
       "    </tr>\n",
       "    <tr>\n",
       "      <th>223524</th>\n",
       "      <td>261759</td>\n",
       "      <td>0.104151</td>\n",
       "      <td>0.784615</td>\n",
       "      <td>0.096989</td>\n",
       "      <td>0.208609</td>\n",
       "      <td>1</td>\n",
       "      <td>0.005246</td>\n",
       "      <td>1</td>\n",
       "      <td>-1.621659</td>\n",
       "      <td>0.363322</td>\n",
       "      <td>0</td>\n",
       "      <td>1</td>\n",
       "      <td>0</td>\n",
       "    </tr>\n",
       "    <tr>\n",
       "      <th>257431</th>\n",
       "      <td>151877</td>\n",
       "      <td>0.138839</td>\n",
       "      <td>0.030769</td>\n",
       "      <td>0.070787</td>\n",
       "      <td>0.353858</td>\n",
       "      <td>1</td>\n",
       "      <td>0.238095</td>\n",
       "      <td>0</td>\n",
       "      <td>-1.621659</td>\n",
       "      <td>0.484429</td>\n",
       "      <td>1</td>\n",
       "      <td>0</td>\n",
       "      <td>0</td>\n",
       "    </tr>\n",
       "    <tr>\n",
       "      <th>9532</th>\n",
       "      <td>76210</td>\n",
       "      <td>0.104151</td>\n",
       "      <td>0.292308</td>\n",
       "      <td>0.072623</td>\n",
       "      <td>0.017354</td>\n",
       "      <td>1</td>\n",
       "      <td>0.238095</td>\n",
       "      <td>0</td>\n",
       "      <td>-1.621659</td>\n",
       "      <td>0.996540</td>\n",
       "      <td>0</td>\n",
       "      <td>1</td>\n",
       "      <td>0</td>\n",
       "    </tr>\n",
       "  </tbody>\n",
       "</table>\n",
       "</div>"
      ],
      "text/plain": [
       "            id    gender       age  region_code  policy_sales_channel  driving_license  vehicle_damage  previously_insured  annual_premium   vintage  vehicle_age_bellow_1_year  vehicle_age_between_1_2_year  vehicle_age_over_2_years\n",
       "181133  304635  0.104151  0.615385     0.187511              0.004825                1        0.238095                   0        0.681752  0.460208                          0                             1                         0\n",
       "107566   96652  0.104151  0.184615     0.124022              0.353858                1        0.005246                   1       -0.502110  0.349481                          1                             0                         0\n",
       "223524  261759  0.104151  0.784615     0.096989              0.208609                1        0.005246                   1       -1.621659  0.363322                          0                             1                         0\n",
       "257431  151877  0.138839  0.030769     0.070787              0.353858                1        0.238095                   0       -1.621659  0.484429                          1                             0                         0\n",
       "9532     76210  0.104151  0.292308     0.072623              0.017354                1        0.238095                   0       -1.621659  0.996540                          0                             1                         0"
      ]
     },
     "execution_count": 410,
     "metadata": {},
     "output_type": "execute_result"
    }
   ],
   "source": [
    "x_validation.head()"
   ]
  },
  {
   "cell_type": "markdown",
   "id": "d1714c11",
   "metadata": {},
   "source": [
    "# 6.0 Feature Selection"
   ]
  },
  {
   "cell_type": "markdown",
   "id": "2ae80f3f",
   "metadata": {},
   "source": [
    "## 6.1 Feature Importance"
   ]
  },
  {
   "cell_type": "code",
   "execution_count": 411,
   "id": "d5f4b9a7",
   "metadata": {
    "ExecuteTime": {
     "end_time": "2022-10-15T23:07:26.840175Z",
     "start_time": "2022-10-15T23:06:55.427165Z"
    },
    "cell_style": "split"
   },
   "outputs": [
    {
     "name": "stdout",
     "output_type": "stream",
     "text": [
      "Feature ranking\n"
     ]
    },
    {
     "data": {
      "text/html": [
       "<div>\n",
       "<style scoped>\n",
       "    .dataframe tbody tr th:only-of-type {\n",
       "        vertical-align: middle;\n",
       "    }\n",
       "\n",
       "    .dataframe tbody tr th {\n",
       "        vertical-align: top;\n",
       "    }\n",
       "\n",
       "    .dataframe thead th {\n",
       "        text-align: right;\n",
       "    }\n",
       "</style>\n",
       "<table border=\"1\" class=\"dataframe\">\n",
       "  <thead>\n",
       "    <tr style=\"text-align: right;\">\n",
       "      <th></th>\n",
       "      <th>feature</th>\n",
       "      <th>importance</th>\n",
       "    </tr>\n",
       "  </thead>\n",
       "  <tbody>\n",
       "    <tr>\n",
       "      <th>0</th>\n",
       "      <td>vintage</td>\n",
       "      <td>0.270865</td>\n",
       "    </tr>\n",
       "    <tr>\n",
       "      <th>0</th>\n",
       "      <td>annual_premium</td>\n",
       "      <td>0.241768</td>\n",
       "    </tr>\n",
       "    <tr>\n",
       "      <th>0</th>\n",
       "      <td>age</td>\n",
       "      <td>0.168303</td>\n",
       "    </tr>\n",
       "    <tr>\n",
       "      <th>0</th>\n",
       "      <td>region_code</td>\n",
       "      <td>0.104898</td>\n",
       "    </tr>\n",
       "    <tr>\n",
       "      <th>0</th>\n",
       "      <td>vehicle_damage</td>\n",
       "      <td>0.069111</td>\n",
       "    </tr>\n",
       "    <tr>\n",
       "      <th>0</th>\n",
       "      <td>policy_sales_channel</td>\n",
       "      <td>0.060888</td>\n",
       "    </tr>\n",
       "    <tr>\n",
       "      <th>0</th>\n",
       "      <td>previously_insured</td>\n",
       "      <td>0.055458</td>\n",
       "    </tr>\n",
       "    <tr>\n",
       "      <th>0</th>\n",
       "      <td>vehicle_age_bellow_1_year</td>\n",
       "      <td>0.014585</td>\n",
       "    </tr>\n",
       "    <tr>\n",
       "      <th>0</th>\n",
       "      <td>vehicle_age_between_1_2_year</td>\n",
       "      <td>0.006347</td>\n",
       "    </tr>\n",
       "    <tr>\n",
       "      <th>0</th>\n",
       "      <td>gender</td>\n",
       "      <td>0.005369</td>\n",
       "    </tr>\n",
       "    <tr>\n",
       "      <th>0</th>\n",
       "      <td>vehicle_age_over_2_years</td>\n",
       "      <td>0.001895</td>\n",
       "    </tr>\n",
       "    <tr>\n",
       "      <th>0</th>\n",
       "      <td>driving_license</td>\n",
       "      <td>0.000513</td>\n",
       "    </tr>\n",
       "  </tbody>\n",
       "</table>\n",
       "</div>"
      ],
      "text/plain": [
       "                        feature  importance\n",
       "0                       vintage    0.270865\n",
       "0                annual_premium    0.241768\n",
       "0                           age    0.168303\n",
       "0                   region_code    0.104898\n",
       "0                vehicle_damage    0.069111\n",
       "0          policy_sales_channel    0.060888\n",
       "0            previously_insured    0.055458\n",
       "0     vehicle_age_bellow_1_year    0.014585\n",
       "0  vehicle_age_between_1_2_year    0.006347\n",
       "0                        gender    0.005369\n",
       "0      vehicle_age_over_2_years    0.001895\n",
       "0               driving_license    0.000513"
      ]
     },
     "execution_count": 411,
     "metadata": {},
     "output_type": "execute_result"
    }
   ],
   "source": [
    "# model definition\n",
    "forest = en.ExtraTreesClassifier(n_estimators=250, random_state=0, n_jobs=-1)\n",
    "\n",
    "x_train_n = data_train.drop(['id', 'response'], axis=1)\n",
    "y_train_n = y_train.values\n",
    "forest.fit(x_train_n, y_train_n)\n",
    "\n",
    "# Print the feature ranking\n",
    "print('Feature ranking')\n",
    "df = pd.DataFrame()\n",
    "for i, j in zip(x_train_n.columns, forest.feature_importances_):\n",
    "    aux = pd.DataFrame({'feature': i, 'importance': j},index=[0])\n",
    "    df= pd.concat([df, aux], axis=0)\n",
    "\n",
    "df = df.sort_values('importance',ascending=False)\n",
    "df"
   ]
  },
  {
   "cell_type": "code",
   "execution_count": 412,
   "id": "19a6c106",
   "metadata": {
    "ExecuteTime": {
     "end_time": "2022-10-15T23:07:27.323075Z",
     "start_time": "2022-10-15T23:07:26.854044Z"
    },
    "cell_style": "split"
   },
   "outputs": [
    {
     "data": {
      "image/png": "[encoded data removed]",
      "text/plain": [
       "<Figure size 1080x432 with 1 Axes>"
      ]
     },
     "metadata": {
      "needs_background": "light"
     },
     "output_type": "display_data"
    }
   ],
   "source": [
    "# plot the impurity-based feature importance of the forest\n",
    "\n",
    "plt.figure(figsize=(15,6))\n",
    "plt.title('Feature importances')\n",
    "g = sns.barplot(x='feature',y='importance',data=df,color='green')\n",
    "plt.xticks(rotation=45)\n",
    "\n",
    "for i in g.containers:\n",
    "    g.bar_label(i, color='white', label_type= 'center',fontsize='medium',fmt='%.3f')"
   ]
  },
  {
   "cell_type": "markdown",
   "id": "d295596e",
   "metadata": {},
   "source": [
    "# 7.0 Machine Learning"
   ]
  },
  {
   "cell_type": "code",
   "execution_count": 413,
   "id": "f008bc5c",
   "metadata": {
    "ExecuteTime": {
     "end_time": "2022-10-15T23:07:27.602815Z",
     "start_time": "2022-10-15T23:07:27.325068Z"
    }
   },
   "outputs": [],
   "source": [
    "cols_selected = [\n",
    "                'vintage',\n",
    "                'annual_premium',\n",
    "                'age',\n",
    "                'region_code',\n",
    "                'vehicle_damage',\n",
    "                'policy_sales_channel',\n",
    "                'previously_insured',\n",
    "                'vehicle_age_bellow_1_year',\n",
    "                'vehicle_age_between_1_2_year']\n",
    "\n",
    "x_train = data_train[cols_selected]\n",
    "x_val = x_validation[cols_selected]"
   ]
  },
  {
   "cell_type": "markdown",
   "id": "e1b94883",
   "metadata": {
    "cell_style": "center"
   },
   "source": [
    "## 7.1 KNN"
   ]
  },
  {
   "cell_type": "code",
   "execution_count": 414,
   "id": "a6fa84ed",
   "metadata": {
    "ExecuteTime": {
     "end_time": "2022-10-15T23:07:42.366739Z",
     "start_time": "2022-10-15T23:07:27.604810Z"
    },
    "cell_style": "center",
    "hide_input": false,
    "scrolled": false
   },
   "outputs": [
    {
     "data": {
      "image/png": "[encoded data removed]",
      "text/plain": [
       "<Figure size 1152x360 with 2 Axes>"
      ]
     },
     "metadata": {
      "needs_background": "light"
     },
     "output_type": "display_data"
    }
   ],
   "source": [
    "# model definition\n",
    "knn_model = nh.KNeighborsClassifier(n_neighbors=10)\n",
    "\n",
    "# model training\n",
    "knn_model.fit(x_train, y_train)\n",
    "\n",
    "# model prediction\n",
    "yhat_knn = knn_model.predict_proba(x_val)\n",
    "\n",
    "# performance\n",
    "knn_result = single_performance('KNN', x_validation, y_validation,yhat_knn)\n",
    "\n",
    "# plot\n",
    "fig, ax = plt.subplots(1,2,figsize=(16,5))\n",
    "\n",
    "# Accumulative Gain \n",
    "skplt.metrics.plot_cumulative_gain(y_validation,yhat_knn,ax=ax[0])\n",
    "skplt.metrics.plot_lift_curve(y_validation,yhat_knn,ax=ax[1]);"
   ]
  },
  {
   "cell_type": "markdown",
   "id": "ef242a99",
   "metadata": {
    "cell_style": "center"
   },
   "source": [
    "## 7.2 Logistic Regressor"
   ]
  },
  {
   "cell_type": "code",
   "execution_count": 415,
   "id": "90a81301",
   "metadata": {
    "ExecuteTime": {
     "end_time": "2022-10-15T23:07:44.096887Z",
     "start_time": "2022-10-15T23:07:42.369678Z"
    },
    "cell_style": "center",
    "hide_input": false
   },
   "outputs": [
    {
     "data": {
      "image/png": "[encoded data removed]",
      "text/plain": [
       "<Figure size 1152x360 with 2 Axes>"
      ]
     },
     "metadata": {
      "needs_background": "light"
     },
     "output_type": "display_data"
    }
   ],
   "source": [
    "# model definition\n",
    "lr_model = lm.LogisticRegression(random_state=42)\n",
    "\n",
    "# model training \n",
    "lr_model.fit(x_train, y_train)\n",
    "\n",
    "# model prediction\n",
    "yhat_lr = lr_model.predict_proba(x_val)\n",
    "\n",
    "# performance\n",
    "log_reg_result = single_performance('Logistic Regression', x_validation, y_validation,yhat_lr)\n",
    "\n",
    "# plot\n",
    "fig, ax = plt.subplots(1,2,figsize=(16,5))\n",
    "\n",
    "# Accumulative Gain \n",
    "skplt.metrics.plot_cumulative_gain(y_validation,yhat_lr,ax=ax[0]);\n",
    "skplt.metrics.plot_lift_curve(y_validation,yhat_lr,ax=ax[1]);"
   ]
  },
  {
   "cell_type": "markdown",
   "id": "55d9fba4",
   "metadata": {
    "cell_style": "center"
   },
   "source": [
    "## 7.3 Extra Trees"
   ]
  },
  {
   "cell_type": "code",
   "execution_count": 416,
   "id": "d6d8a136",
   "metadata": {
    "ExecuteTime": {
     "end_time": "2022-10-15T23:07:58.946550Z",
     "start_time": "2022-10-15T23:07:44.098885Z"
    },
    "cell_style": "center",
    "hide_input": false
   },
   "outputs": [
    {
     "data": {
      "image/png": "[encoded data removed]",
      "text/plain": [
       "<Figure size 1152x360 with 2 Axes>"
      ]
     },
     "metadata": {
      "needs_background": "light"
     },
     "output_type": "display_data"
    }
   ],
   "source": [
    "# model definition\n",
    "et = en.ExtraTreesClassifier(n_estimators = 100, n_jobs=-1, random_state=42)\n",
    "\n",
    "# model fit\n",
    "et.fit(x_train, y_train)\n",
    "\n",
    "# model predict\n",
    "yhat_et = et.predict_proba(x_val)\n",
    "\n",
    "# performance\n",
    "extra_tree_result = single_performance('Extra Tree', x_validation, y_validation,yhat_et)\n",
    "\n",
    "# plot\n",
    "fig, ax = plt.subplots(1,2,figsize=(16,5))\n",
    "\n",
    "# Accumulative Gain \n",
    "skplt.metrics.plot_cumulative_gain(y_validation,yhat_et,ax=ax[0])\n",
    "skplt.metrics.plot_lift_curve(y_validation,yhat_et,ax=ax[1]);"
   ]
  },
  {
   "cell_type": "markdown",
   "id": "b47ca23d",
   "metadata": {
    "cell_style": "center",
    "hide_input": false
   },
   "source": [
    "## 7.4 XGBoost"
   ]
  },
  {
   "cell_type": "code",
   "execution_count": 417,
   "id": "f2458668",
   "metadata": {
    "ExecuteTime": {
     "end_time": "2022-10-15T23:08:14.143337Z",
     "start_time": "2022-10-15T23:07:58.964949Z"
    },
    "cell_style": "center",
    "hide_input": false
   },
   "outputs": [
    {
     "data": {
      "image/png": "[encoded data removed]",
      "text/plain": [
       "<Figure size 1152x360 with 2 Axes>"
      ]
     },
     "metadata": {
      "needs_background": "light"
     },
     "output_type": "display_data"
    }
   ],
   "source": [
    "# model definition\n",
    "xgb_model = xgb.XGBClassifier(n_estimators = 100)\n",
    "\n",
    "# model fit\n",
    "xgb_model.fit(x_train,y_train)\n",
    "pickle.dump(xgb_model,open('C:\\\\Users\\\\Notebook\\\\repos\\\\Insurance-Cross-Sell\\\\src\\\\model\\\\xgb_model.pkl','wb'))\n",
    "\n",
    "# model predict\n",
    "yhat_xgb = xgb_model.predict_proba(x_val)\n",
    "\n",
    "# performance\n",
    "xgb_result = single_performance('XGBoost', x_validation, y_validation,yhat_xgb)\n",
    "\n",
    "# plot\n",
    "fig, ax = plt.subplots(1,2,figsize=(16,5))\n",
    "\n",
    "# Accumulative Gain \n",
    "skplt.metrics.plot_cumulative_gain(y_validation,yhat_xgb,ax=ax[0])\n",
    "skplt.metrics.plot_lift_curve(y_validation,yhat_xgb,ax=ax[1]);"
   ]
  },
  {
   "cell_type": "markdown",
   "id": "3a4b0041",
   "metadata": {
    "ExecuteTime": {
     "end_time": "2022-09-25T19:37:38.800345Z",
     "start_time": "2022-09-25T19:37:38.776895Z"
    }
   },
   "source": [
    "## 7.5 Model Single Performance"
   ]
  },
  {
   "cell_type": "code",
   "execution_count": 418,
   "id": "c8e3aef7",
   "metadata": {
    "ExecuteTime": {
     "end_time": "2022-10-15T23:08:14.188449Z",
     "start_time": "2022-10-15T23:08:14.147108Z"
    }
   },
   "outputs": [
    {
     "data": {
      "text/html": [
       "<div>\n",
       "<style scoped>\n",
       "    .dataframe tbody tr th:only-of-type {\n",
       "        vertical-align: middle;\n",
       "    }\n",
       "\n",
       "    .dataframe tbody tr th {\n",
       "        vertical-align: top;\n",
       "    }\n",
       "\n",
       "    .dataframe thead th {\n",
       "        text-align: right;\n",
       "    }\n",
       "</style>\n",
       "<table border=\"1\" class=\"dataframe\">\n",
       "  <thead>\n",
       "    <tr style=\"text-align: right;\">\n",
       "      <th></th>\n",
       "      <th>Model Name</th>\n",
       "      <th>Precision at K</th>\n",
       "      <th>Recall at K</th>\n",
       "    </tr>\n",
       "  </thead>\n",
       "  <tbody>\n",
       "    <tr>\n",
       "      <th>0</th>\n",
       "      <td>KNN</td>\n",
       "      <td>0.310692</td>\n",
       "      <td>0.513367</td>\n",
       "    </tr>\n",
       "    <tr>\n",
       "      <th>0</th>\n",
       "      <td>Logistic Regression</td>\n",
       "      <td>0.327163</td>\n",
       "      <td>0.540583</td>\n",
       "    </tr>\n",
       "    <tr>\n",
       "      <th>0</th>\n",
       "      <td>Extra Tree</td>\n",
       "      <td>0.316814</td>\n",
       "      <td>0.523483</td>\n",
       "    </tr>\n",
       "    <tr>\n",
       "      <th>0</th>\n",
       "      <td>XGBoost</td>\n",
       "      <td>0.354129</td>\n",
       "      <td>0.585140</td>\n",
       "    </tr>\n",
       "  </tbody>\n",
       "</table>\n",
       "</div>"
      ],
      "text/plain": [
       "            Model Name  Precision at K  Recall at K\n",
       "0                  KNN        0.310692     0.513367\n",
       "0  Logistic Regression        0.327163     0.540583\n",
       "0           Extra Tree        0.316814     0.523483\n",
       "0              XGBoost        0.354129     0.585140"
      ]
     },
     "execution_count": 418,
     "metadata": {},
     "output_type": "execute_result"
    }
   ],
   "source": [
    "pd.concat([knn_result, log_reg_result, extra_tree_result, xgb_result])"
   ]
  },
  {
   "cell_type": "markdown",
   "id": "45b7a81f",
   "metadata": {
    "ExecuteTime": {
     "end_time": "2022-09-25T19:37:38.800345Z",
     "start_time": "2022-09-25T19:37:38.776895Z"
    }
   },
   "source": [
    "## 7.6 Model Real Performance"
   ]
  },
  {
   "cell_type": "code",
   "execution_count": 419,
   "id": "b7ea10af",
   "metadata": {
    "ExecuteTime": {
     "end_time": "2022-10-15T23:08:14.204055Z",
     "start_time": "2022-10-15T23:08:14.191467Z"
    }
   },
   "outputs": [],
   "source": [
    "# knn_cross = cross_validation(data_train,5,'KNN',knn_model,verbose=False)\n",
    "# lr_cross = cross_validation(data_train,5,'Logistic Regression',lr_model,verbose=False)\n",
    "# et_cross = cross_validation(data_train,5,'Extra Trees',et,verbose=False)\n",
    "# xgb_cross = cross_validation(data_train,5,'XGBoost',xgb_model,verbose=False)\n",
    "\n",
    "# pd.concat([knn_cross, lr_cross, et_cross, xgb_cross])"
   ]
  },
  {
   "cell_type": "markdown",
   "id": "b1bf4f7d",
   "metadata": {},
   "source": [
    "# 8.0 Test Model"
   ]
  },
  {
   "cell_type": "markdown",
   "id": "0e0cece4",
   "metadata": {},
   "source": [
    "### 8.1 Concat training and validation dataset"
   ]
  },
  {
   "cell_type": "code",
   "execution_count": 420,
   "id": "b39c10d5",
   "metadata": {
    "ExecuteTime": {
     "end_time": "2022-10-15T23:08:14.342943Z",
     "start_time": "2022-10-15T23:08:14.213491Z"
    }
   },
   "outputs": [],
   "source": [
    "# Concat validation Dataframe\n",
    "validation = pd.concat([x_validation,y_validation],axis=1)\n",
    "\n",
    "# Concat all training data\n",
    "data_full = pd.concat([data_train,validation],axis=0)\n",
    "\n",
    "# Prepare training dataset\n",
    "x_training_full = data_full.drop(['id','response'],axis=1)\n",
    "y_training_full = data_full['response']"
   ]
  },
  {
   "cell_type": "code",
   "execution_count": 421,
   "id": "96d9f76a",
   "metadata": {
    "ExecuteTime": {
     "end_time": "2022-10-15T23:08:14.358174Z",
     "start_time": "2022-10-15T23:08:14.345935Z"
    },
    "scrolled": true
   },
   "outputs": [
    {
     "data": {
      "text/html": [
       "<div>\n",
       "<style scoped>\n",
       "    .dataframe tbody tr th:only-of-type {\n",
       "        vertical-align: middle;\n",
       "    }\n",
       "\n",
       "    .dataframe tbody tr th {\n",
       "        vertical-align: top;\n",
       "    }\n",
       "\n",
       "    .dataframe thead th {\n",
       "        text-align: right;\n",
       "    }\n",
       "</style>\n",
       "<table border=\"1\" class=\"dataframe\">\n",
       "  <thead>\n",
       "    <tr style=\"text-align: right;\">\n",
       "      <th></th>\n",
       "      <th>gender</th>\n",
       "      <th>age</th>\n",
       "      <th>region_code</th>\n",
       "      <th>policy_sales_channel</th>\n",
       "      <th>driving_license</th>\n",
       "      <th>vehicle_damage</th>\n",
       "      <th>previously_insured</th>\n",
       "      <th>annual_premium</th>\n",
       "      <th>vintage</th>\n",
       "      <th>vehicle_age_bellow_1_year</th>\n",
       "      <th>vehicle_age_between_1_2_year</th>\n",
       "      <th>vehicle_age_over_2_years</th>\n",
       "    </tr>\n",
       "  </thead>\n",
       "  <tbody>\n",
       "    <tr>\n",
       "      <th>92058</th>\n",
       "      <td>0.138839</td>\n",
       "      <td>0.246154</td>\n",
       "      <td>0.187511</td>\n",
       "      <td>0.002682</td>\n",
       "      <td>1</td>\n",
       "      <td>0.005246</td>\n",
       "      <td>1</td>\n",
       "      <td>0.502048</td>\n",
       "      <td>0.449827</td>\n",
       "      <td>0</td>\n",
       "      <td>1</td>\n",
       "      <td>0</td>\n",
       "    </tr>\n",
       "    <tr>\n",
       "      <th>323930</th>\n",
       "      <td>0.104151</td>\n",
       "      <td>0.000000</td>\n",
       "      <td>0.079517</td>\n",
       "      <td>0.056997</td>\n",
       "      <td>1</td>\n",
       "      <td>0.238095</td>\n",
       "      <td>0</td>\n",
       "      <td>0.006006</td>\n",
       "      <td>0.114187</td>\n",
       "      <td>1</td>\n",
       "      <td>0</td>\n",
       "      <td>0</td>\n",
       "    </tr>\n",
       "    <tr>\n",
       "      <th>79154</th>\n",
       "      <td>0.104151</td>\n",
       "      <td>0.046154</td>\n",
       "      <td>0.072623</td>\n",
       "      <td>0.353858</td>\n",
       "      <td>1</td>\n",
       "      <td>0.005246</td>\n",
       "      <td>1</td>\n",
       "      <td>-0.045421</td>\n",
       "      <td>0.183391</td>\n",
       "      <td>1</td>\n",
       "      <td>0</td>\n",
       "      <td>0</td>\n",
       "    </tr>\n",
       "    <tr>\n",
       "      <th>366130</th>\n",
       "      <td>0.138839</td>\n",
       "      <td>0.030769</td>\n",
       "      <td>0.187511</td>\n",
       "      <td>0.353858</td>\n",
       "      <td>1</td>\n",
       "      <td>0.005246</td>\n",
       "      <td>1</td>\n",
       "      <td>1.221502</td>\n",
       "      <td>0.657439</td>\n",
       "      <td>1</td>\n",
       "      <td>0</td>\n",
       "      <td>0</td>\n",
       "    </tr>\n",
       "    <tr>\n",
       "      <th>195126</th>\n",
       "      <td>0.104151</td>\n",
       "      <td>0.138462</td>\n",
       "      <td>0.187511</td>\n",
       "      <td>0.194626</td>\n",
       "      <td>1</td>\n",
       "      <td>0.238095</td>\n",
       "      <td>0</td>\n",
       "      <td>-0.249445</td>\n",
       "      <td>0.086505</td>\n",
       "      <td>1</td>\n",
       "      <td>0</td>\n",
       "      <td>0</td>\n",
       "    </tr>\n",
       "  </tbody>\n",
       "</table>\n",
       "</div>"
      ],
      "text/plain": [
       "          gender       age  region_code  policy_sales_channel  driving_license  vehicle_damage  previously_insured  annual_premium   vintage  vehicle_age_bellow_1_year  vehicle_age_between_1_2_year  vehicle_age_over_2_years\n",
       "92058   0.138839  0.246154     0.187511              0.002682                1        0.005246                   1        0.502048  0.449827                          0                             1                         0\n",
       "323930  0.104151  0.000000     0.079517              0.056997                1        0.238095                   0        0.006006  0.114187                          1                             0                         0\n",
       "79154   0.104151  0.046154     0.072623              0.353858                1        0.005246                   1       -0.045421  0.183391                          1                             0                         0\n",
       "366130  0.138839  0.030769     0.187511              0.353858                1        0.005246                   1        1.221502  0.657439                          1                             0                         0\n",
       "195126  0.104151  0.138462     0.187511              0.194626                1        0.238095                   0       -0.249445  0.086505                          1                             0                         0"
      ]
     },
     "execution_count": 421,
     "metadata": {},
     "output_type": "execute_result"
    }
   ],
   "source": [
    "x_training_full.head()"
   ]
  },
  {
   "cell_type": "markdown",
   "id": "239276a1",
   "metadata": {},
   "source": [
    "### 8.2 Preparate Test Dataset"
   ]
  },
  {
   "cell_type": "code",
   "execution_count": 422,
   "id": "d7c8fe27",
   "metadata": {
    "ExecuteTime": {
     "end_time": "2022-10-15T23:08:14.528018Z",
     "start_time": "2022-10-15T23:08:14.360471Z"
    },
    "run_control": {
     "marked": true
    }
   },
   "outputs": [],
   "source": [
    "test = data_preparation(X_test,dict_preparation)"
   ]
  },
  {
   "cell_type": "code",
   "execution_count": 423,
   "id": "fbd120cb",
   "metadata": {
    "ExecuteTime": {
     "end_time": "2022-10-15T23:08:14.543527Z",
     "start_time": "2022-10-15T23:08:14.529992Z"
    }
   },
   "outputs": [
    {
     "data": {
      "text/html": [
       "<div>\n",
       "<style scoped>\n",
       "    .dataframe tbody tr th:only-of-type {\n",
       "        vertical-align: middle;\n",
       "    }\n",
       "\n",
       "    .dataframe tbody tr th {\n",
       "        vertical-align: top;\n",
       "    }\n",
       "\n",
       "    .dataframe thead th {\n",
       "        text-align: right;\n",
       "    }\n",
       "</style>\n",
       "<table border=\"1\" class=\"dataframe\">\n",
       "  <thead>\n",
       "    <tr style=\"text-align: right;\">\n",
       "      <th></th>\n",
       "      <th>id</th>\n",
       "      <th>gender</th>\n",
       "      <th>age</th>\n",
       "      <th>region_code</th>\n",
       "      <th>policy_sales_channel</th>\n",
       "      <th>driving_license</th>\n",
       "      <th>vehicle_damage</th>\n",
       "      <th>previously_insured</th>\n",
       "      <th>annual_premium</th>\n",
       "      <th>vintage</th>\n",
       "      <th>vehicle_age_bellow_1_year</th>\n",
       "      <th>vehicle_age_between_1_2_year</th>\n",
       "      <th>vehicle_age_over_2_years</th>\n",
       "    </tr>\n",
       "  </thead>\n",
       "  <tbody>\n",
       "    <tr>\n",
       "      <th>285151</th>\n",
       "      <td>372462</td>\n",
       "      <td>0.138839</td>\n",
       "      <td>0.676923</td>\n",
       "      <td>0.123704</td>\n",
       "      <td>0.208609</td>\n",
       "      <td>1</td>\n",
       "      <td>0.238095</td>\n",
       "      <td>0</td>\n",
       "      <td>0.561892</td>\n",
       "      <td>0.702422</td>\n",
       "      <td>0</td>\n",
       "      <td>1</td>\n",
       "      <td>0</td>\n",
       "    </tr>\n",
       "    <tr>\n",
       "      <th>26424</th>\n",
       "      <td>210863</td>\n",
       "      <td>0.138839</td>\n",
       "      <td>0.769231</td>\n",
       "      <td>0.098822</td>\n",
       "      <td>0.194626</td>\n",
       "      <td>1</td>\n",
       "      <td>0.238095</td>\n",
       "      <td>0</td>\n",
       "      <td>-0.159651</td>\n",
       "      <td>0.730104</td>\n",
       "      <td>0</td>\n",
       "      <td>1</td>\n",
       "      <td>0</td>\n",
       "    </tr>\n",
       "    <tr>\n",
       "      <th>244564</th>\n",
       "      <td>48756</td>\n",
       "      <td>0.138839</td>\n",
       "      <td>0.400000</td>\n",
       "      <td>0.088901</td>\n",
       "      <td>0.208609</td>\n",
       "      <td>1</td>\n",
       "      <td>0.238095</td>\n",
       "      <td>0</td>\n",
       "      <td>-0.151293</td>\n",
       "      <td>0.650519</td>\n",
       "      <td>0</td>\n",
       "      <td>1</td>\n",
       "      <td>0</td>\n",
       "    </tr>\n",
       "    <tr>\n",
       "      <th>69236</th>\n",
       "      <td>171915</td>\n",
       "      <td>0.138839</td>\n",
       "      <td>0.030769</td>\n",
       "      <td>0.072638</td>\n",
       "      <td>0.056997</td>\n",
       "      <td>1</td>\n",
       "      <td>0.238095</td>\n",
       "      <td>0</td>\n",
       "      <td>-0.238359</td>\n",
       "      <td>0.494810</td>\n",
       "      <td>1</td>\n",
       "      <td>0</td>\n",
       "      <td>0</td>\n",
       "    </tr>\n",
       "    <tr>\n",
       "      <th>130741</th>\n",
       "      <td>282994</td>\n",
       "      <td>0.104151</td>\n",
       "      <td>0.061538</td>\n",
       "      <td>0.111715</td>\n",
       "      <td>0.353858</td>\n",
       "      <td>1</td>\n",
       "      <td>0.005246</td>\n",
       "      <td>1</td>\n",
       "      <td>-0.378476</td>\n",
       "      <td>0.788927</td>\n",
       "      <td>1</td>\n",
       "      <td>0</td>\n",
       "      <td>0</td>\n",
       "    </tr>\n",
       "  </tbody>\n",
       "</table>\n",
       "</div>"
      ],
      "text/plain": [
       "            id    gender       age  region_code  policy_sales_channel  driving_license  vehicle_damage  previously_insured  annual_premium   vintage  vehicle_age_bellow_1_year  vehicle_age_between_1_2_year  vehicle_age_over_2_years\n",
       "285151  372462  0.138839  0.676923     0.123704              0.208609                1        0.238095                   0        0.561892  0.702422                          0                             1                         0\n",
       "26424   210863  0.138839  0.769231     0.098822              0.194626                1        0.238095                   0       -0.159651  0.730104                          0                             1                         0\n",
       "244564   48756  0.138839  0.400000     0.088901              0.208609                1        0.238095                   0       -0.151293  0.650519                          0                             1                         0\n",
       "69236   171915  0.138839  0.030769     0.072638              0.056997                1        0.238095                   0       -0.238359  0.494810                          1                             0                         0\n",
       "130741  282994  0.104151  0.061538     0.111715              0.353858                1        0.005246                   1       -0.378476  0.788927                          1                             0                         0"
      ]
     },
     "execution_count": 423,
     "metadata": {},
     "output_type": "execute_result"
    }
   ],
   "source": [
    "test.head()"
   ]
  },
  {
   "cell_type": "code",
   "execution_count": 424,
   "id": "452eb9c6",
   "metadata": {
    "ExecuteTime": {
     "end_time": "2022-10-15T23:08:31.762973Z",
     "start_time": "2022-10-15T23:08:14.545497Z"
    }
   },
   "outputs": [
    {
     "data": {
      "image/png": "[encoded data removed]",
      "text/plain": [
       "<Figure size 1152x360 with 2 Axes>"
      ]
     },
     "metadata": {
      "needs_background": "light"
     },
     "output_type": "display_data"
    }
   ],
   "source": [
    "# model definition\n",
    "xgb_model = xgb.XGBClassifier(n_estimators = 100)\n",
    "\n",
    "# model fit\n",
    "xgb_model.fit(x_training_full[cols_selected],y_training_full)\n",
    "\n",
    "# model predict\n",
    "yhat_xgb = xgb_model.predict_proba(test[cols_selected])\n",
    "\n",
    "# performance\n",
    "xgb_result = single_performance('XGBoost', test[cols_selected], Y_test,yhat_xgb)\n",
    "\n",
    "# plot\n",
    "fig, ax = plt.subplots(1,2,figsize=(16,5))\n",
    "\n",
    "# Accumulative Gain \n",
    "skplt.metrics.plot_cumulative_gain(Y_test,yhat_xgb,ax=ax[0])\n",
    "skplt.metrics.plot_lift_curve(Y_test,yhat_xgb,ax=ax[1]);"
   ]
  },
  {
   "cell_type": "markdown",
   "id": "3d11c7d5",
   "metadata": {},
   "source": [
    "# 9.0 Deployment"
   ]
  },
  {
   "cell_type": "code",
   "execution_count": 79,
   "id": "0bd0265f",
   "metadata": {
    "ExecuteTime": {
     "end_time": "2022-10-15T22:35:39.747263Z",
     "start_time": "2022-10-15T22:35:39.718279Z"
    }
   },
   "outputs": [],
   "source": [
    "class HealthInsurance():\n",
    "    def __init__(self):\n",
    "        self.home_path = 'C:\\\\Users\\\\Notebook\\\\repos\\\\Insurance-Cross-Sell\\\\'\n",
    "        self.annual_premium_scaller      = pickle.load(open(self.path + 'src\\\\features\\\\annual_premium_scaller.pkl'))\n",
    "        self.age_scaler                  = pickle.load(open(self.path + 'src\\\\features\\\\age_scaler.pkl'))\n",
    "        self.vintage_scaler              = pickle.load(open(self.path + 'src\\\\features\\\\vintage_scaler.pkl'))\n",
    "        self.gender_scaler               = pickle.load(open(self.path + 'src\\\\features\\\\gender_scaler.pkl'))\n",
    "        self.region_code_scaler          = pickle.load(open(self.path + 'src\\\\features\\\\region_code_scaler.pkl'))\n",
    "        self.policy_sales_channel_scaler = pickle.load(open(self.path + 'src\\\\features\\\\policy_sales_channel_scaler.pkl'))             \n",
    "    \n",
    "    def data_cleaning(self, df1):\n",
    "\n",
    "        # region_code\n",
    "        df1['region_code'] = df1['region_code'].astype('int64')\n",
    "\n",
    "        # policy_sales_channel \n",
    "        df1['policy_sales_channel'] = df1['policy_sales_channel'].astype('int64')\n",
    "\n",
    "        return df1\n",
    "\n",
    "    def feature_engineering(self, df2):\n",
    "\n",
    "        # vericle_age\n",
    "        df2['vehicle_age'] = df2['vehicle_age'].apply(lambda x: 'bellow_1_year' if x == '< 1 Year' else \n",
    "                                                             'between_1_2_year' if x == '1-2 Year' else \n",
    "                                                             'over_2_years')\n",
    "        return df2\n",
    "    \n",
    "    \n",
    "    def data_preparation(self, df5):\n",
    "\n",
    "        ss = pp.StandardScaler()\n",
    "\n",
    "        ## annual_premium\n",
    "        df5['annual_premium'] = self.annual_premium_scaler.transform(df5[['annual_premium']].values)\n",
    "\n",
    "        ## 5.3 Rescaling\n",
    "\n",
    "        ## age\n",
    "        df5['age'] = self.age_scaler.transform( df5[['age']].values )\n",
    "\n",
    "        ## vintage\n",
    "        df5['vintage'] = self.vintage_scaler.transform( df5[['vintage']].values )\n",
    "\n",
    "        ## 5.4 Encoder\n",
    "        ### 5.4.1 One Hot Enconding\n",
    "\n",
    "        ## vehicle_age\n",
    "        df5 = pd.get_dummies(df5, prefix='vehicle_age',columns=['vehicle_age'])\n",
    "\n",
    "        ### 5.4.2 Target Enconding\n",
    "\n",
    "        # gender \n",
    "        df5.loc[:,'gender'] = df5['gender'].map(self.gender_scaler)\n",
    "\n",
    "        # region_code \n",
    "        df5.loc[:,'region_code'] = df5['region_code'].map(self.region_code_scaler)\n",
    "\n",
    "        # vehicle damage\n",
    "        df5.loc[:,'vehicle_damage'] = df5['vehicle_damage'].map(self.vehicle_damage_scaler)\n",
    "\n",
    "        ### 5.4.3 Frequency Enconding\n",
    "\n",
    "        ## policy_sales_channel \n",
    "        df5.loc[:,'policy_sales_channel'] = df5['policy_sales_channel'].map(self.policy_sales_channel_scaler)\n",
    "\n",
    "        cols_selected = [\n",
    "                'vintage',\n",
    "                'annual_premium',\n",
    "                'age',\n",
    "                'region_code',\n",
    "                'vehicle_damage',\n",
    "                'policy_sales_channel',\n",
    "                'previously_insured']\n",
    "        \n",
    "        return df5[cols_selected]\n",
    "\n",
    "    def get_predict(self, model, original_data, test_data):\n",
    "        \n",
    "        # model prediction\n",
    "        pred = model.predict_proba(test_data)\n",
    "        \n",
    "        # join prediction into original data\n",
    "        original_data['prediction'] = pred\n",
    "        \n",
    "        return original_data.to_json(orient='records', date_format='iso')\n",
    "        "
   ]
  },
  {
   "cell_type": "markdown",
   "id": "c8d96901",
   "metadata": {},
   "source": [
    "## 9.2. API Handler"
   ]
  },
  {
   "cell_type": "code",
   "execution_count": 80,
   "id": "e74889a5",
   "metadata": {
    "ExecuteTime": {
     "end_time": "2022-10-15T22:36:59.079710Z",
     "start_time": "2022-10-15T22:35:39.749205Z"
    }
   },
   "outputs": [
    {
     "name": "stdout",
     "output_type": "stream",
     "text": [
      " * Serving Flask app '__main__'\n",
      " * Debug mode: off\n"
     ]
    },
    {
     "name": "stderr",
     "output_type": "stream",
     "text": [
      "WARNING: This is a development server. Do not use it in a production deployment. Use a production WSGI server instead.\n",
      " * Running on all addresses (0.0.0.0)\n",
      " * Running on http://127.0.0.1:5000\n",
      " * Running on http://192.168.18.4:5000\n",
      "Press CTRL+C to quit\n"
     ]
    }
   ],
   "source": [
    "import pickle\n",
    "import pandas as pd\n",
    "from flask import Flask, request, Response\n",
    "from healthinsurance import HealthInsurance\n",
    "import xgboost as xgb\n",
    "\n",
    "path = 'C:\\\\Users\\\\Notebook\\\\repos\\\\Insurance-Cross-Sell\\\\'\n",
    "model = pickle.load(open(path + 'src//model/xgb_model.pkl','rb'))\n",
    "\n",
    "app = Flask(__name__)\n",
    "\n",
    "@app.route('/predict',methods=['POST'])\n",
    "def health_insurance_predict():\n",
    "    test_json = request.get_json()\n",
    "    \n",
    "    if test_json:\n",
    "        # there is data \n",
    "        if isinstance(test_json, dict): # unique example\n",
    "            test_raw = pd.DataFrame(test_json,index=[0])\n",
    "        else: # multiple examples\n",
    "            test_raw = pd.DataFrame(test_json,columns = test_json[0].keys())\n",
    "            \n",
    "        # Instantiate HeathInsurance class\n",
    "        pipeline = HealthInsurance()\n",
    "\n",
    "        # data cleaning\n",
    "        df1 = pipeline.data_cleaning(test_raw)\n",
    "\n",
    "        # feature engineering\n",
    "        df2 = pipeline.feature_engineering(df1)\n",
    "\n",
    "        # data preparation\n",
    "        df3 = pipeline.data_preparation(df2)\n",
    "\n",
    "        # prediction\n",
    "        df_response = pipeline.get_predict(model,test_raw,df3)\n",
    "    \n",
    "        return df_response\n",
    "    else:\n",
    "        return Response('{Request is empty}',status=200, mimetype='application/json')\n",
    "\n",
    "if __name__ == '__main__':\n",
    "    app.run('0.0.0.0')"
   ]
  },
  {
   "cell_type": "markdown",
   "id": "1a843ed3",
   "metadata": {},
   "source": [
    "## 9.3 API Tester"
   ]
  },
  {
   "cell_type": "code",
   "execution_count": 170,
   "id": "07addc88",
   "metadata": {
    "ExecuteTime": {
     "end_time": "2022-10-15T22:47:30.443159Z",
     "start_time": "2022-10-15T22:47:30.425174Z"
    }
   },
   "outputs": [],
   "source": [
    "import requests\n",
    "\n",
    "# loading test dataset\n",
    "\n",
    "df_test = X_test\n",
    "df_test['response'] = Y_test"
   ]
  },
  {
   "cell_type": "code",
   "execution_count": 171,
   "id": "25ae686b",
   "metadata": {
    "ExecuteTime": {
     "end_time": "2022-10-15T22:47:30.847563Z",
     "start_time": "2022-10-15T22:47:30.822598Z"
    }
   },
   "outputs": [],
   "source": [
    "df_test = df_test.sample(10)"
   ]
  },
  {
   "cell_type": "code",
   "execution_count": 172,
   "id": "20970048",
   "metadata": {
    "ExecuteTime": {
     "end_time": "2022-10-15T22:47:31.343780Z",
     "start_time": "2022-10-15T22:47:31.316887Z"
    }
   },
   "outputs": [
    {
     "data": {
      "text/html": [
       "<div>\n",
       "<style scoped>\n",
       "    .dataframe tbody tr th:only-of-type {\n",
       "        vertical-align: middle;\n",
       "    }\n",
       "\n",
       "    .dataframe tbody tr th {\n",
       "        vertical-align: top;\n",
       "    }\n",
       "\n",
       "    .dataframe thead th {\n",
       "        text-align: right;\n",
       "    }\n",
       "</style>\n",
       "<table border=\"1\" class=\"dataframe\">\n",
       "  <thead>\n",
       "    <tr style=\"text-align: right;\">\n",
       "      <th></th>\n",
       "      <th>id</th>\n",
       "      <th>gender</th>\n",
       "      <th>age</th>\n",
       "      <th>region_code</th>\n",
       "      <th>policy_sales_channel</th>\n",
       "      <th>driving_license</th>\n",
       "      <th>vehicle_age</th>\n",
       "      <th>vehicle_damage</th>\n",
       "      <th>previously_insured</th>\n",
       "      <th>annual_premium</th>\n",
       "      <th>vintage</th>\n",
       "      <th>response</th>\n",
       "    </tr>\n",
       "  </thead>\n",
       "  <tbody>\n",
       "    <tr>\n",
       "      <th>154162</th>\n",
       "      <td>88858</td>\n",
       "      <td>Male</td>\n",
       "      <td>-0.304142</td>\n",
       "      <td>45</td>\n",
       "      <td>122</td>\n",
       "      <td>1</td>\n",
       "      <td>between_1_2_year</td>\n",
       "      <td>Yes</td>\n",
       "      <td>0</td>\n",
       "      <td>-1.767982</td>\n",
       "      <td>-0.032758</td>\n",
       "      <td>1</td>\n",
       "    </tr>\n",
       "    <tr>\n",
       "      <th>1205</th>\n",
       "      <td>9827</td>\n",
       "      <td>Male</td>\n",
       "      <td>-0.304615</td>\n",
       "      <td>4</td>\n",
       "      <td>156</td>\n",
       "      <td>1</td>\n",
       "      <td>bellow_1_year</td>\n",
       "      <td>Yes</td>\n",
       "      <td>0</td>\n",
       "      <td>-1.768050</td>\n",
       "      <td>-0.032100</td>\n",
       "      <td>0</td>\n",
       "    </tr>\n",
       "    <tr>\n",
       "      <th>88144</th>\n",
       "      <td>322464</td>\n",
       "      <td>Male</td>\n",
       "      <td>-0.305562</td>\n",
       "      <td>3</td>\n",
       "      <td>156</td>\n",
       "      <td>1</td>\n",
       "      <td>between_1_2_year</td>\n",
       "      <td>Yes</td>\n",
       "      <td>0</td>\n",
       "      <td>-1.767949</td>\n",
       "      <td>-0.032231</td>\n",
       "      <td>0</td>\n",
       "    </tr>\n",
       "    <tr>\n",
       "      <th>303967</th>\n",
       "      <td>142580</td>\n",
       "      <td>Male</td>\n",
       "      <td>-0.306982</td>\n",
       "      <td>11</td>\n",
       "      <td>152</td>\n",
       "      <td>1</td>\n",
       "      <td>bellow_1_year</td>\n",
       "      <td>No</td>\n",
       "      <td>1</td>\n",
       "      <td>-1.768050</td>\n",
       "      <td>-0.031357</td>\n",
       "      <td>0</td>\n",
       "    </tr>\n",
       "    <tr>\n",
       "      <th>355015</th>\n",
       "      <td>172891</td>\n",
       "      <td>Female</td>\n",
       "      <td>-0.302249</td>\n",
       "      <td>3</td>\n",
       "      <td>26</td>\n",
       "      <td>1</td>\n",
       "      <td>between_1_2_year</td>\n",
       "      <td>No</td>\n",
       "      <td>1</td>\n",
       "      <td>-1.767988</td>\n",
       "      <td>-0.032040</td>\n",
       "      <td>0</td>\n",
       "    </tr>\n",
       "    <tr>\n",
       "      <th>248973</th>\n",
       "      <td>84125</td>\n",
       "      <td>Female</td>\n",
       "      <td>-0.304852</td>\n",
       "      <td>45</td>\n",
       "      <td>152</td>\n",
       "      <td>1</td>\n",
       "      <td>bellow_1_year</td>\n",
       "      <td>No</td>\n",
       "      <td>1</td>\n",
       "      <td>-1.767944</td>\n",
       "      <td>-0.032519</td>\n",
       "      <td>0</td>\n",
       "    </tr>\n",
       "    <tr>\n",
       "      <th>377484</th>\n",
       "      <td>352136</td>\n",
       "      <td>Female</td>\n",
       "      <td>-0.304615</td>\n",
       "      <td>2</td>\n",
       "      <td>157</td>\n",
       "      <td>1</td>\n",
       "      <td>between_1_2_year</td>\n",
       "      <td>Yes</td>\n",
       "      <td>0</td>\n",
       "      <td>-1.768050</td>\n",
       "      <td>-0.032363</td>\n",
       "      <td>1</td>\n",
       "    </tr>\n",
       "    <tr>\n",
       "      <th>56197</th>\n",
       "      <td>67516</td>\n",
       "      <td>Female</td>\n",
       "      <td>-0.304142</td>\n",
       "      <td>35</td>\n",
       "      <td>160</td>\n",
       "      <td>1</td>\n",
       "      <td>between_1_2_year</td>\n",
       "      <td>Yes</td>\n",
       "      <td>1</td>\n",
       "      <td>-1.768050</td>\n",
       "      <td>-0.032231</td>\n",
       "      <td>0</td>\n",
       "    </tr>\n",
       "    <tr>\n",
       "      <th>303751</th>\n",
       "      <td>140862</td>\n",
       "      <td>Male</td>\n",
       "      <td>-0.302485</td>\n",
       "      <td>45</td>\n",
       "      <td>124</td>\n",
       "      <td>1</td>\n",
       "      <td>between_1_2_year</td>\n",
       "      <td>Yes</td>\n",
       "      <td>0</td>\n",
       "      <td>-1.767970</td>\n",
       "      <td>-0.031345</td>\n",
       "      <td>0</td>\n",
       "    </tr>\n",
       "    <tr>\n",
       "      <th>342256</th>\n",
       "      <td>68995</td>\n",
       "      <td>Female</td>\n",
       "      <td>-0.307219</td>\n",
       "      <td>41</td>\n",
       "      <td>152</td>\n",
       "      <td>1</td>\n",
       "      <td>bellow_1_year</td>\n",
       "      <td>No</td>\n",
       "      <td>1</td>\n",
       "      <td>-1.767952</td>\n",
       "      <td>-0.031561</td>\n",
       "      <td>0</td>\n",
       "    </tr>\n",
       "  </tbody>\n",
       "</table>\n",
       "</div>"
      ],
      "text/plain": [
       "            id  gender       age  region_code  policy_sales_channel  driving_license       vehicle_age vehicle_damage  previously_insured  annual_premium   vintage  response\n",
       "154162   88858    Male -0.304142           45                   122                1  between_1_2_year            Yes                   0       -1.767982 -0.032758         1\n",
       "1205      9827    Male -0.304615            4                   156                1     bellow_1_year            Yes                   0       -1.768050 -0.032100         0\n",
       "88144   322464    Male -0.305562            3                   156                1  between_1_2_year            Yes                   0       -1.767949 -0.032231         0\n",
       "303967  142580    Male -0.306982           11                   152                1     bellow_1_year             No                   1       -1.768050 -0.031357         0\n",
       "355015  172891  Female -0.302249            3                    26                1  between_1_2_year             No                   1       -1.767988 -0.032040         0\n",
       "248973   84125  Female -0.304852           45                   152                1     bellow_1_year             No                   1       -1.767944 -0.032519         0\n",
       "377484  352136  Female -0.304615            2                   157                1  between_1_2_year            Yes                   0       -1.768050 -0.032363         1\n",
       "56197    67516  Female -0.304142           35                   160                1  between_1_2_year            Yes                   1       -1.768050 -0.032231         0\n",
       "303751  140862    Male -0.302485           45                   124                1  between_1_2_year            Yes                   0       -1.767970 -0.031345         0\n",
       "342256   68995  Female -0.307219           41                   152                1     bellow_1_year             No                   1       -1.767952 -0.031561         0"
      ]
     },
     "execution_count": 172,
     "metadata": {},
     "output_type": "execute_result"
    }
   ],
   "source": [
    "df_test"
   ]
  },
  {
   "cell_type": "code",
   "execution_count": 173,
   "id": "4018f070",
   "metadata": {
    "ExecuteTime": {
     "end_time": "2022-10-15T22:47:31.968069Z",
     "start_time": "2022-10-15T22:47:31.957431Z"
    }
   },
   "outputs": [],
   "source": [
    "import json\n",
    "data = json.dumps(df_test.to_dict(orient='records'))"
   ]
  },
  {
   "cell_type": "code",
   "execution_count": 177,
   "id": "0f4f8c16",
   "metadata": {
    "ExecuteTime": {
     "end_time": "2022-10-15T22:52:20.441720Z",
     "start_time": "2022-10-15T22:52:20.399882Z"
    }
   },
   "outputs": [
    {
     "name": "stdout",
     "output_type": "stream",
     "text": [
      "Status Code 200\n"
     ]
    }
   ],
   "source": [
    "url = 'http://192.168.18.4:5000/predict'\n",
    "header = {'Content-type': 'application/json'}\n",
    "data = data\n",
    "\n",
    "r = requests.post(url,data=data,headers=header)\n",
    "print('Status Code {}'.format(r.status_code))"
   ]
  },
  {
   "cell_type": "code",
   "execution_count": 181,
   "id": "6b0b581a",
   "metadata": {
    "ExecuteTime": {
     "end_time": "2022-10-15T22:54:17.372752Z",
     "start_time": "2022-10-15T22:54:17.350842Z"
    }
   },
   "outputs": [
    {
     "data": {
      "text/html": [
       "<div>\n",
       "<style scoped>\n",
       "    .dataframe tbody tr th:only-of-type {\n",
       "        vertical-align: middle;\n",
       "    }\n",
       "\n",
       "    .dataframe tbody tr th {\n",
       "        vertical-align: top;\n",
       "    }\n",
       "\n",
       "    .dataframe thead th {\n",
       "        text-align: right;\n",
       "    }\n",
       "</style>\n",
       "<table border=\"1\" class=\"dataframe\">\n",
       "  <thead>\n",
       "    <tr style=\"text-align: right;\">\n",
       "      <th></th>\n",
       "      <th>id</th>\n",
       "      <th>gender</th>\n",
       "      <th>age</th>\n",
       "      <th>region_code</th>\n",
       "      <th>policy_sales_channel</th>\n",
       "      <th>driving_license</th>\n",
       "      <th>vehicle_age</th>\n",
       "      <th>vehicle_damage</th>\n",
       "      <th>previously_insured</th>\n",
       "      <th>annual_premium</th>\n",
       "      <th>vintage</th>\n",
       "      <th>response</th>\n",
       "      <th>prediction</th>\n",
       "    </tr>\n",
       "  </thead>\n",
       "  <tbody>\n",
       "    <tr>\n",
       "      <th>0</th>\n",
       "      <td>88858</td>\n",
       "      <td>Male</td>\n",
       "      <td>-0.312371</td>\n",
       "      <td>45</td>\n",
       "      <td>122</td>\n",
       "      <td>1</td>\n",
       "      <td>over_2_years</td>\n",
       "      <td>Yes</td>\n",
       "      <td>0</td>\n",
       "      <td>-1.768059</td>\n",
       "      <td>-0.034715</td>\n",
       "      <td>1</td>\n",
       "      <td>0.115188</td>\n",
       "    </tr>\n",
       "    <tr>\n",
       "      <th>1</th>\n",
       "      <td>9827</td>\n",
       "      <td>Male</td>\n",
       "      <td>-0.312379</td>\n",
       "      <td>4</td>\n",
       "      <td>156</td>\n",
       "      <td>1</td>\n",
       "      <td>over_2_years</td>\n",
       "      <td>Yes</td>\n",
       "      <td>0</td>\n",
       "      <td>-1.768059</td>\n",
       "      <td>-0.034713</td>\n",
       "      <td>0</td>\n",
       "      <td>0.113843</td>\n",
       "    </tr>\n",
       "    <tr>\n",
       "      <th>2</th>\n",
       "      <td>322464</td>\n",
       "      <td>Male</td>\n",
       "      <td>-0.312393</td>\n",
       "      <td>3</td>\n",
       "      <td>156</td>\n",
       "      <td>1</td>\n",
       "      <td>over_2_years</td>\n",
       "      <td>Yes</td>\n",
       "      <td>0</td>\n",
       "      <td>-1.768059</td>\n",
       "      <td>-0.034714</td>\n",
       "      <td>0</td>\n",
       "      <td>0.110741</td>\n",
       "    </tr>\n",
       "    <tr>\n",
       "      <th>3</th>\n",
       "      <td>142580</td>\n",
       "      <td>Male</td>\n",
       "      <td>-0.312415</td>\n",
       "      <td>11</td>\n",
       "      <td>152</td>\n",
       "      <td>1</td>\n",
       "      <td>over_2_years</td>\n",
       "      <td>No</td>\n",
       "      <td>1</td>\n",
       "      <td>-1.768059</td>\n",
       "      <td>-0.034711</td>\n",
       "      <td>0</td>\n",
       "      <td>0.000217</td>\n",
       "    </tr>\n",
       "    <tr>\n",
       "      <th>4</th>\n",
       "      <td>172891</td>\n",
       "      <td>Female</td>\n",
       "      <td>-0.312342</td>\n",
       "      <td>3</td>\n",
       "      <td>26</td>\n",
       "      <td>1</td>\n",
       "      <td>over_2_years</td>\n",
       "      <td>No</td>\n",
       "      <td>1</td>\n",
       "      <td>-1.768059</td>\n",
       "      <td>-0.034713</td>\n",
       "      <td>0</td>\n",
       "      <td>0.000162</td>\n",
       "    </tr>\n",
       "    <tr>\n",
       "      <th>5</th>\n",
       "      <td>84125</td>\n",
       "      <td>Female</td>\n",
       "      <td>-0.312382</td>\n",
       "      <td>45</td>\n",
       "      <td>152</td>\n",
       "      <td>1</td>\n",
       "      <td>over_2_years</td>\n",
       "      <td>No</td>\n",
       "      <td>1</td>\n",
       "      <td>-1.768059</td>\n",
       "      <td>-0.034715</td>\n",
       "      <td>0</td>\n",
       "      <td>0.000223</td>\n",
       "    </tr>\n",
       "    <tr>\n",
       "      <th>6</th>\n",
       "      <td>352136</td>\n",
       "      <td>Female</td>\n",
       "      <td>-0.312379</td>\n",
       "      <td>2</td>\n",
       "      <td>157</td>\n",
       "      <td>1</td>\n",
       "      <td>over_2_years</td>\n",
       "      <td>Yes</td>\n",
       "      <td>0</td>\n",
       "      <td>-1.768059</td>\n",
       "      <td>-0.034714</td>\n",
       "      <td>1</td>\n",
       "      <td>0.311951</td>\n",
       "    </tr>\n",
       "    <tr>\n",
       "      <th>7</th>\n",
       "      <td>67516</td>\n",
       "      <td>Female</td>\n",
       "      <td>-0.312371</td>\n",
       "      <td>35</td>\n",
       "      <td>160</td>\n",
       "      <td>1</td>\n",
       "      <td>over_2_years</td>\n",
       "      <td>Yes</td>\n",
       "      <td>1</td>\n",
       "      <td>-1.768059</td>\n",
       "      <td>-0.034714</td>\n",
       "      <td>0</td>\n",
       "      <td>0.004218</td>\n",
       "    </tr>\n",
       "    <tr>\n",
       "      <th>8</th>\n",
       "      <td>140862</td>\n",
       "      <td>Male</td>\n",
       "      <td>-0.312346</td>\n",
       "      <td>45</td>\n",
       "      <td>124</td>\n",
       "      <td>1</td>\n",
       "      <td>over_2_years</td>\n",
       "      <td>Yes</td>\n",
       "      <td>0</td>\n",
       "      <td>-1.768059</td>\n",
       "      <td>-0.034711</td>\n",
       "      <td>0</td>\n",
       "      <td>0.083064</td>\n",
       "    </tr>\n",
       "    <tr>\n",
       "      <th>9</th>\n",
       "      <td>68995</td>\n",
       "      <td>Female</td>\n",
       "      <td>-0.312419</td>\n",
       "      <td>41</td>\n",
       "      <td>152</td>\n",
       "      <td>1</td>\n",
       "      <td>over_2_years</td>\n",
       "      <td>No</td>\n",
       "      <td>1</td>\n",
       "      <td>-1.768059</td>\n",
       "      <td>-0.034711</td>\n",
       "      <td>0</td>\n",
       "      <td>0.000197</td>\n",
       "    </tr>\n",
       "  </tbody>\n",
       "</table>\n",
       "</div>"
      ],
      "text/plain": [
       "       id  gender       age  region_code  policy_sales_channel  driving_license   vehicle_age vehicle_damage  previously_insured  annual_premium   vintage  response  prediction\n",
       "0   88858    Male -0.312371           45                   122                1  over_2_years            Yes                   0       -1.768059 -0.034715         1    0.115188\n",
       "1    9827    Male -0.312379            4                   156                1  over_2_years            Yes                   0       -1.768059 -0.034713         0    0.113843\n",
       "2  322464    Male -0.312393            3                   156                1  over_2_years            Yes                   0       -1.768059 -0.034714         0    0.110741\n",
       "3  142580    Male -0.312415           11                   152                1  over_2_years             No                   1       -1.768059 -0.034711         0    0.000217\n",
       "4  172891  Female -0.312342            3                    26                1  over_2_years             No                   1       -1.768059 -0.034713         0    0.000162\n",
       "5   84125  Female -0.312382           45                   152                1  over_2_years             No                   1       -1.768059 -0.034715         0    0.000223\n",
       "6  352136  Female -0.312379            2                   157                1  over_2_years            Yes                   0       -1.768059 -0.034714         1    0.311951\n",
       "7   67516  Female -0.312371           35                   160                1  over_2_years            Yes                   1       -1.768059 -0.034714         0    0.004218\n",
       "8  140862    Male -0.312346           45                   124                1  over_2_years            Yes                   0       -1.768059 -0.034711         0    0.083064\n",
       "9   68995  Female -0.312419           41                   152                1  over_2_years             No                   1       -1.768059 -0.034711         0    0.000197"
      ]
     },
     "execution_count": 181,
     "metadata": {},
     "output_type": "execute_result"
    }
   ],
   "source": [
    "pd.DataFrame(r.json(),columns= r.json()[0].keys())"
   ]
  },
  {
   "cell_type": "code",
   "execution_count": null,
   "id": "63312e36",
   "metadata": {},
   "outputs": [],
   "source": []
  }
 ],
 "metadata": {
  "kernelspec": {
   "display_name": "Python 3 (ipykernel)",
   "language": "python",
   "name": "python3"
  },
  "language_info": {
   "codemirror_mode": {
    "name": "ipython",
    "version": 3
   },
   "file_extension": ".py",
   "mimetype": "text/x-python",
   "name": "python",
   "nbconvert_exporter": "python",
   "pygments_lexer": "ipython3",
   "version": "3.9.12"
  }
 },
 "nbformat": 4,
 "nbformat_minor": 5
}

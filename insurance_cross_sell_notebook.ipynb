{
 "cells": [
  {
   "cell_type": "markdown",
   "id": "46c21508",
   "metadata": {},
   "source": [
    "# 0.0 Imports"
   ]
  },
  {
   "cell_type": "code",
   "execution_count": 81,
   "id": "b2dea543",
   "metadata": {
    "ExecuteTime": {
     "end_time": "2022-10-12T19:43:57.456855Z",
     "start_time": "2022-10-12T19:43:57.442598Z"
    }
   },
   "outputs": [],
   "source": [
    "import numpy as np\n",
    "import pandas as pd\n",
    "import psycopg2 as pg\n",
    "import sweetviz as sv\n",
    "import seaborn as sns\n",
    "import scikitplot as skplt\n",
    "import warnings\n",
    "warnings.filterwarnings('ignore')\n",
    "\n",
    "from IPython.core.display import HTML\n",
    "from IPython.display import Image\n",
    "from matplotlib import pyplot as plt\n",
    "from sklearn import preprocessing as pp\n",
    "from sklearn import model_selection as ms\n",
    "from sklearn import ensemble as en\n",
    "from sklearn import neighbors as nh\n",
    "from sklearn import linear_model as lm\n",
    "import xgboost as xgb"
   ]
  },
  {
   "cell_type": "markdown",
   "id": "83ec1d10",
   "metadata": {},
   "source": [
    "## Helper Functions"
   ]
  },
  {
   "cell_type": "code",
   "execution_count": 82,
   "id": "ffbef716",
   "metadata": {
    "ExecuteTime": {
     "end_time": "2022-10-12T19:43:57.566368Z",
     "start_time": "2022-10-12T19:43:57.518448Z"
    }
   },
   "outputs": [
    {
     "name": "stdout",
     "output_type": "stream",
     "text": [
      "%pylab is deprecated, use %matplotlib inline and import the required libraries.\n",
      "Populating the interactive namespace from numpy and matplotlib\n"
     ]
    },
    {
     "data": {
      "text/html": [
       "<style>.container { width:100% !important; }</style>"
      ],
      "text/plain": [
       "<IPython.core.display.HTML object>"
      ]
     },
     "metadata": {},
     "output_type": "display_data"
    }
   ],
   "source": [
    "def pie_chart(data,att,title,legend_title):\n",
    "    \n",
    "    def data_detail(pct, allvalues):\n",
    "        absolute = int(pct/ 100.*np.sum(allvalues['response']))\n",
    "        return \"{:.0f}\\n({:.1f}%)\".format(absolute, pct)\n",
    "\n",
    "    wedges, texts, autotexts = plt.pie( data = data,\n",
    "                                       x = 'response',\n",
    "                                       autopct = lambda pct: data_detail(pct, data),\n",
    "                                       textprops = dict(color=\"w\"))\n",
    "    \n",
    "    plt.legend( wedges, list(data[att]),\n",
    "              title = legend_title,\n",
    "              loc=\"center left\",\n",
    "              bbox_to_anchor = (1, 0, 0.5, 1))\n",
    "    plt.setp(autotexts, size=10, weight=\"bold\")\n",
    "    plt.title(title,fontsize = 15);\n",
    "    \n",
    "def jupyter_settings():\n",
    "    %matplotlib inline\n",
    "    %pylab inline\n",
    "#     plt.style.use( 'bmh' )\n",
    "#     plt.rcParams['figure.figsize'] = [25, 12]\n",
    "#     plt.rcParams['font.size'] = 24\n",
    "    display( HTML( '<style>.container { width:100% !important; }</style>') )\n",
    "    pd.options.display.max_columns = None\n",
    "    pd.options.display.max_rows = None\n",
    "    pd.set_option( 'display.expand_frame_repr', False )\n",
    "#     sns.set()\n",
    "    \n",
    "jupyter_settings()\n",
    "\n",
    "\n",
    "def precision_at_k(data, k):\n",
    "    \n",
    "    # reset index\n",
    "    data = data.reset_index(drop=True)\n",
    "\n",
    "    # create ranking order\n",
    "    data['ranking'] = data.index + 1\n",
    "\n",
    "    data['precision_at_k'] = data['response'].cumsum()/data['ranking']\n",
    "\n",
    "    return data.loc[k,'precision_at_k']\n",
    "\n",
    "def recall_at_k(data, k):\n",
    "\n",
    "    # reset index\n",
    "    data = data.reset_index(drop=True)\n",
    "\n",
    "    # create ranking order\n",
    "    data['ranking'] = data.index + 1\n",
    "\n",
    "    data['recall_at_k'] = data['response'].cumsum()/data['response'].sum()\n",
    "\n",
    "    return data.loc[k,'recall_at_k']\n",
    "\n",
    "def single_performance(model_name, x_validation, y_validation, yhat):\n",
    "\n",
    "    data = x_validation.copy()\n",
    "    data['response'] = y_validation.copy()\n",
    "\n",
    "    # Propensity score\n",
    "    data['score'] = yhat[:,1].tolist()\n",
    "\n",
    "    # sort clients by propensity score\n",
    "    data = data.sort_values('score',ascending=False)\n",
    "    \n",
    "    return pd.DataFrame(\n",
    "        {'Model Name': model_name,\n",
    "        'Precision at K': precision_at_k(data,k=int(round(data.shape[0]*0.2,0))),\n",
    "        'Recall at K': recall_at_k(data,k=int(round(data.shape[0]*0.2,0)))},\n",
    "        index=[0]\n",
    "    )\n",
    "\n",
    "def cross_validation(data_train,k_fold,model_name, model,verbose):\n",
    "\n",
    "    validation_size = int(round(data_train.shape[0]*0.2,0))\n",
    "    \n",
    "    precision_at_k_list = []\n",
    "    recall_at_k_list = []\n",
    "\n",
    "    for k in range(0,k_fold):\n",
    "\n",
    "        start_validation = validation_size*k\n",
    "        end_validation   = validation_size*(k+1)\n",
    "        range_validation = arange(start_validation,end_validation)\n",
    "        range_data       = arange(0,data_train.shape[0])\n",
    "\n",
    "        validation = data_train.iloc[ start_validation:end_validation ]\n",
    "        training = data_train[ ~isin(range_data,range_validation)]\n",
    "\n",
    "        x_training = training.drop(['id','response'],axis=1)\n",
    "        y_training = training['response'].copy()\n",
    "\n",
    "        x_validation = validation.drop(['id','response'],axis=1)\n",
    "        y_validation = validation['response'].copy()\n",
    "\n",
    "        # model fit\n",
    "        m = model.fit(x_training,y_training)\n",
    "\n",
    "        # model predict\n",
    "        y_hat = m.predict_proba(x_validation)\n",
    "        \n",
    "        data_val = x_validation.copy()\n",
    "        data_val['response'] = y_validation.copy()\n",
    "\n",
    "        # Propensity score\n",
    "        data_val['score'] = y_hat[:,1].tolist()\n",
    "\n",
    "        # sort clients by propensity score\n",
    "        data_val = data_val.sort_values('score',ascending=False)\n",
    "        \n",
    "        precision_at_k_list.append(precision_at_k(data_val,int(round(data_val.shape[0]*0.2,0))))\n",
    "        recall_at_k_list.append(recall_at_k(data_val,int(round(data_val.shape[0]*0.2,0))))\n",
    "        \n",
    "        if verbose:\n",
    "            print(f'k_fold: {k}')\n",
    "            print('Validation Size: {} | {} - {}'.format(validation.shape[0],start_validation,end_validation))\n",
    "            print('Training Size: {}'.format(training.shape[0]))\n",
    "            print('Total Size: {}'.format(validation.shape[0] + training.shape[0]))\n",
    "            print('Total Original Size: {}'.format(data_train.shape[0]))\n",
    "            print('Precision at K: {}'.format(precision_at_k(data_val,int(round(data_val.shape[0]*0.2,0)))))\n",
    "            print('Recall at K:    {}'.format(recall_at_k(data_val,int(round(data_val.shape[0]*0.2,0)))))\n",
    "            print('\\n')\n",
    "            \n",
    "    return pd.DataFrame(\n",
    "                        {'Model': model_name,\n",
    "                         'Precision at K': round(np.mean(precision_at_k_list),4).astype(str) + ' +/- ' + round((np.std(precision_at_k_list)),4).astype(str),\n",
    "                         'Recall at K':    round(np.mean(recall_at_k_list),4).astype(str) + ' +/- ' + round((np.std(recall_at_k_list)),4).astype(str)},\n",
    "                          index=[0])"
   ]
  },
  {
   "cell_type": "code",
   "execution_count": null,
   "id": "731b28ce",
   "metadata": {},
   "outputs": [],
   "source": []
  },
  {
   "cell_type": "markdown",
   "id": "8ea7d93b",
   "metadata": {},
   "source": [
    "# 0.1 Load Dataset"
   ]
  },
  {
   "cell_type": "code",
   "execution_count": 83,
   "id": "08146c6b",
   "metadata": {
    "ExecuteTime": {
     "end_time": "2022-10-12T19:44:04.114757Z",
     "start_time": "2022-10-12T19:43:57.592839Z"
    }
   },
   "outputs": [
    {
     "data": {
      "text/html": [
       "<div>\n",
       "<style scoped>\n",
       "    .dataframe tbody tr th:only-of-type {\n",
       "        vertical-align: middle;\n",
       "    }\n",
       "\n",
       "    .dataframe tbody tr th {\n",
       "        vertical-align: top;\n",
       "    }\n",
       "\n",
       "    .dataframe thead th {\n",
       "        text-align: right;\n",
       "    }\n",
       "</style>\n",
       "<table border=\"1\" class=\"dataframe\">\n",
       "  <thead>\n",
       "    <tr style=\"text-align: right;\">\n",
       "      <th></th>\n",
       "      <th>id</th>\n",
       "      <th>gender</th>\n",
       "      <th>age</th>\n",
       "      <th>region_code</th>\n",
       "      <th>policy_sales_channel</th>\n",
       "      <th>id</th>\n",
       "      <th>driving_license</th>\n",
       "      <th>vehicle_age</th>\n",
       "      <th>vehicle_damage</th>\n",
       "      <th>id</th>\n",
       "      <th>previously_insured</th>\n",
       "      <th>annual_premium</th>\n",
       "      <th>vintage</th>\n",
       "      <th>response</th>\n",
       "    </tr>\n",
       "  </thead>\n",
       "  <tbody>\n",
       "    <tr>\n",
       "      <th>0</th>\n",
       "      <td>7</td>\n",
       "      <td>Male</td>\n",
       "      <td>23</td>\n",
       "      <td>11.0</td>\n",
       "      <td>152.0</td>\n",
       "      <td>7</td>\n",
       "      <td>1</td>\n",
       "      <td>&lt; 1 Year</td>\n",
       "      <td>Yes</td>\n",
       "      <td>7</td>\n",
       "      <td>0</td>\n",
       "      <td>23367.0</td>\n",
       "      <td>249</td>\n",
       "      <td>0</td>\n",
       "    </tr>\n",
       "    <tr>\n",
       "      <th>1</th>\n",
       "      <td>13</td>\n",
       "      <td>Female</td>\n",
       "      <td>41</td>\n",
       "      <td>15.0</td>\n",
       "      <td>14.0</td>\n",
       "      <td>13</td>\n",
       "      <td>1</td>\n",
       "      <td>1-2 Year</td>\n",
       "      <td>No</td>\n",
       "      <td>13</td>\n",
       "      <td>1</td>\n",
       "      <td>31409.0</td>\n",
       "      <td>221</td>\n",
       "      <td>0</td>\n",
       "    </tr>\n",
       "    <tr>\n",
       "      <th>2</th>\n",
       "      <td>18</td>\n",
       "      <td>Female</td>\n",
       "      <td>25</td>\n",
       "      <td>35.0</td>\n",
       "      <td>152.0</td>\n",
       "      <td>18</td>\n",
       "      <td>1</td>\n",
       "      <td>&lt; 1 Year</td>\n",
       "      <td>No</td>\n",
       "      <td>18</td>\n",
       "      <td>1</td>\n",
       "      <td>46622.0</td>\n",
       "      <td>299</td>\n",
       "      <td>0</td>\n",
       "    </tr>\n",
       "    <tr>\n",
       "      <th>3</th>\n",
       "      <td>31</td>\n",
       "      <td>Female</td>\n",
       "      <td>26</td>\n",
       "      <td>8.0</td>\n",
       "      <td>160.0</td>\n",
       "      <td>31</td>\n",
       "      <td>1</td>\n",
       "      <td>&lt; 1 Year</td>\n",
       "      <td>No</td>\n",
       "      <td>31</td>\n",
       "      <td>0</td>\n",
       "      <td>2630.0</td>\n",
       "      <td>136</td>\n",
       "      <td>0</td>\n",
       "    </tr>\n",
       "    <tr>\n",
       "      <th>4</th>\n",
       "      <td>39</td>\n",
       "      <td>Male</td>\n",
       "      <td>45</td>\n",
       "      <td>8.0</td>\n",
       "      <td>124.0</td>\n",
       "      <td>39</td>\n",
       "      <td>1</td>\n",
       "      <td>1-2 Year</td>\n",
       "      <td>Yes</td>\n",
       "      <td>39</td>\n",
       "      <td>0</td>\n",
       "      <td>42297.0</td>\n",
       "      <td>264</td>\n",
       "      <td>0</td>\n",
       "    </tr>\n",
       "  </tbody>\n",
       "</table>\n",
       "</div>"
      ],
      "text/plain": [
       "   id  gender  age  region_code  policy_sales_channel  id  driving_license vehicle_age vehicle_damage  id  previously_insured  annual_premium  vintage  response\n",
       "0   7    Male   23         11.0                 152.0   7                1    < 1 Year            Yes   7                   0         23367.0      249         0\n",
       "1  13  Female   41         15.0                  14.0  13                1    1-2 Year             No  13                   1         31409.0      221         0\n",
       "2  18  Female   25         35.0                 152.0  18                1    < 1 Year             No  18                   1         46622.0      299         0\n",
       "3  31  Female   26          8.0                 160.0  31                1    < 1 Year             No  31                   0          2630.0      136         0\n",
       "4  39    Male   45          8.0                 124.0  39                1    1-2 Year            Yes  39                   0         42297.0      264         0"
      ]
     },
     "execution_count": 83,
     "metadata": {},
     "output_type": "execute_result"
    }
   ],
   "source": [
    "# Credentials\n",
    "\n",
    "host = 'comunidade-ds-postgres.c50pcakiuwi3.us-east-1.rds.amazonaws.com'\n",
    "port = 5432\n",
    "database = 'comunidadedsdb'\n",
    "username = 'member'\n",
    "pwd =' cdspa'\n",
    "\n",
    "# Connection with Database\n",
    "conn_string = f'host={host} port={port} dbname={database} user={username} password={pwd}'\n",
    "conn = pg.connect(conn_string)\n",
    "\n",
    "# SQL Query\n",
    "query = '''\n",
    "    select * \n",
    "    from pa004.users u LEFT JOIN pa004.vehicle v ON (u.id = v.id)\n",
    "                       LEFT JOIN pa004.insurance i ON (u.id = i.id)\n",
    "'''\n",
    "\n",
    "df = pd.read_sql(query, conn)\n",
    "conn.close()\n",
    "df.head()"
   ]
  },
  {
   "cell_type": "code",
   "execution_count": 84,
   "id": "28fb7c12",
   "metadata": {
    "ExecuteTime": {
     "end_time": "2022-10-12T19:44:04.130173Z",
     "start_time": "2022-10-12T19:44:04.116663Z"
    }
   },
   "outputs": [
    {
     "name": "stdout",
     "output_type": "stream",
     "text": [
      "Rows: 381109\n",
      "Columns: 14\n"
     ]
    }
   ],
   "source": [
    "print('Rows: {}'.format(df.shape[0]))\n",
    "print('Columns: {}'.format(df.shape[1]))"
   ]
  },
  {
   "cell_type": "code",
   "execution_count": 85,
   "id": "5430828a",
   "metadata": {
    "ExecuteTime": {
     "end_time": "2022-10-12T19:44:04.209077Z",
     "start_time": "2022-10-12T19:44:04.131620Z"
    }
   },
   "outputs": [
    {
     "data": {
      "text/html": [
       "<div>\n",
       "<style scoped>\n",
       "    .dataframe tbody tr th:only-of-type {\n",
       "        vertical-align: middle;\n",
       "    }\n",
       "\n",
       "    .dataframe tbody tr th {\n",
       "        vertical-align: top;\n",
       "    }\n",
       "\n",
       "    .dataframe thead th {\n",
       "        text-align: right;\n",
       "    }\n",
       "</style>\n",
       "<table border=\"1\" class=\"dataframe\">\n",
       "  <thead>\n",
       "    <tr style=\"text-align: right;\">\n",
       "      <th></th>\n",
       "      <th>id</th>\n",
       "      <th>gender</th>\n",
       "      <th>age</th>\n",
       "      <th>region_code</th>\n",
       "      <th>policy_sales_channel</th>\n",
       "      <th>driving_license</th>\n",
       "      <th>vehicle_age</th>\n",
       "      <th>vehicle_damage</th>\n",
       "      <th>previously_insured</th>\n",
       "      <th>annual_premium</th>\n",
       "      <th>vintage</th>\n",
       "      <th>response</th>\n",
       "    </tr>\n",
       "  </thead>\n",
       "  <tbody>\n",
       "    <tr>\n",
       "      <th>100717</th>\n",
       "      <td>41340</td>\n",
       "      <td>Male</td>\n",
       "      <td>48</td>\n",
       "      <td>0.0</td>\n",
       "      <td>26.0</td>\n",
       "      <td>1</td>\n",
       "      <td>&gt; 2 Years</td>\n",
       "      <td>Yes</td>\n",
       "      <td>0</td>\n",
       "      <td>2630.0</td>\n",
       "      <td>294</td>\n",
       "      <td>1</td>\n",
       "    </tr>\n",
       "    <tr>\n",
       "      <th>133159</th>\n",
       "      <td>302355</td>\n",
       "      <td>Female</td>\n",
       "      <td>39</td>\n",
       "      <td>28.0</td>\n",
       "      <td>157.0</td>\n",
       "      <td>1</td>\n",
       "      <td>1-2 Year</td>\n",
       "      <td>Yes</td>\n",
       "      <td>0</td>\n",
       "      <td>37305.0</td>\n",
       "      <td>289</td>\n",
       "      <td>0</td>\n",
       "    </tr>\n",
       "    <tr>\n",
       "      <th>298685</th>\n",
       "      <td>100162</td>\n",
       "      <td>Male</td>\n",
       "      <td>54</td>\n",
       "      <td>28.0</td>\n",
       "      <td>124.0</td>\n",
       "      <td>1</td>\n",
       "      <td>1-2 Year</td>\n",
       "      <td>Yes</td>\n",
       "      <td>0</td>\n",
       "      <td>30658.0</td>\n",
       "      <td>156</td>\n",
       "      <td>1</td>\n",
       "    </tr>\n",
       "  </tbody>\n",
       "</table>\n",
       "</div>"
      ],
      "text/plain": [
       "            id  gender  age  region_code  policy_sales_channel  driving_license vehicle_age vehicle_damage  previously_insured  annual_premium  vintage  response\n",
       "100717   41340    Male   48          0.0                  26.0                1   > 2 Years            Yes                   0          2630.0      294         1\n",
       "133159  302355  Female   39         28.0                 157.0                1    1-2 Year            Yes                   0         37305.0      289         0\n",
       "298685  100162    Male   54         28.0                 124.0                1    1-2 Year            Yes                   0         30658.0      156         1"
      ]
     },
     "execution_count": 85,
     "metadata": {},
     "output_type": "execute_result"
    }
   ],
   "source": [
    "df_raw = df.loc[:,~df.columns.duplicated()]\n",
    "df_raw.sample(3)"
   ]
  },
  {
   "cell_type": "code",
   "execution_count": 86,
   "id": "9882884f",
   "metadata": {
    "ExecuteTime": {
     "end_time": "2022-10-12T19:44:04.225034Z",
     "start_time": "2022-10-12T19:44:04.213275Z"
    }
   },
   "outputs": [
    {
     "name": "stdout",
     "output_type": "stream",
     "text": [
      "Rows: 381109\n",
      "Columns: 12\n"
     ]
    }
   ],
   "source": [
    "print('Rows: {}'.format(df_raw.shape[0]))\n",
    "print('Columns: {}'.format(df_raw.shape[1]))"
   ]
  },
  {
   "cell_type": "markdown",
   "id": "e802babf",
   "metadata": {},
   "source": [
    "# 1.0 Data Description"
   ]
  },
  {
   "cell_type": "code",
   "execution_count": 87,
   "id": "0ecfc62f",
   "metadata": {
    "ExecuteTime": {
     "end_time": "2022-10-12T19:44:04.272244Z",
     "start_time": "2022-10-12T19:44:04.227208Z"
    }
   },
   "outputs": [],
   "source": [
    "df1 = df_raw.copy()"
   ]
  },
  {
   "cell_type": "markdown",
   "id": "501703cc",
   "metadata": {},
   "source": [
    "## 1.1 Data Dimension"
   ]
  },
  {
   "cell_type": "code",
   "execution_count": 88,
   "id": "fe1c2d7a",
   "metadata": {
    "ExecuteTime": {
     "end_time": "2022-10-12T19:44:04.288136Z",
     "start_time": "2022-10-12T19:44:04.275077Z"
    }
   },
   "outputs": [
    {
     "name": "stdout",
     "output_type": "stream",
     "text": [
      "Rows: 381109\n",
      "Columns: 12\n"
     ]
    }
   ],
   "source": [
    "print('Rows: {}'.format(df1.shape[0]))\n",
    "print('Columns: {}'.format(df1.shape[1]))"
   ]
  },
  {
   "cell_type": "markdown",
   "id": "82e7d5be",
   "metadata": {},
   "source": [
    "## 1.2 Data Types"
   ]
  },
  {
   "cell_type": "code",
   "execution_count": 89,
   "id": "02b161f8",
   "metadata": {
    "ExecuteTime": {
     "end_time": "2022-10-12T19:44:04.303027Z",
     "start_time": "2022-10-12T19:44:04.290073Z"
    }
   },
   "outputs": [
    {
     "data": {
      "text/plain": [
       "id                        int64\n",
       "gender                   object\n",
       "age                       int64\n",
       "region_code             float64\n",
       "policy_sales_channel    float64\n",
       "driving_license           int64\n",
       "vehicle_age              object\n",
       "vehicle_damage           object\n",
       "previously_insured        int64\n",
       "annual_premium          float64\n",
       "vintage                   int64\n",
       "response                  int64\n",
       "dtype: object"
      ]
     },
     "execution_count": 89,
     "metadata": {},
     "output_type": "execute_result"
    }
   ],
   "source": [
    "df1.dtypes"
   ]
  },
  {
   "cell_type": "markdown",
   "id": "1f9af3c0",
   "metadata": {},
   "source": [
    "## 1.3 Change Types"
   ]
  },
  {
   "cell_type": "code",
   "execution_count": 90,
   "id": "03d8d0e7",
   "metadata": {
    "ExecuteTime": {
     "end_time": "2022-10-12T19:44:04.333973Z",
     "start_time": "2022-10-12T19:44:04.305030Z"
    }
   },
   "outputs": [],
   "source": [
    "# region_code\n",
    "df1['region_code'] = df1['region_code'].astype('int64')\n",
    "\n",
    "# policy_sales_channel \n",
    "df1['policy_sales_channel'] = df1['policy_sales_channel'].astype('int64')"
   ]
  },
  {
   "cell_type": "code",
   "execution_count": 91,
   "id": "16a3008d",
   "metadata": {
    "ExecuteTime": {
     "end_time": "2022-10-12T19:44:04.349434Z",
     "start_time": "2022-10-12T19:44:04.336814Z"
    }
   },
   "outputs": [
    {
     "data": {
      "text/plain": [
       "id                        int64\n",
       "gender                   object\n",
       "age                       int64\n",
       "region_code               int64\n",
       "policy_sales_channel      int64\n",
       "driving_license           int64\n",
       "vehicle_age              object\n",
       "vehicle_damage           object\n",
       "previously_insured        int64\n",
       "annual_premium          float64\n",
       "vintage                   int64\n",
       "response                  int64\n",
       "dtype: object"
      ]
     },
     "execution_count": 91,
     "metadata": {},
     "output_type": "execute_result"
    }
   ],
   "source": [
    "df1.dtypes"
   ]
  },
  {
   "cell_type": "markdown",
   "id": "6dae747e",
   "metadata": {},
   "source": [
    "## 1.4 Check NA"
   ]
  },
  {
   "cell_type": "code",
   "execution_count": 92,
   "id": "84be6a06",
   "metadata": {
    "ExecuteTime": {
     "end_time": "2022-10-12T19:44:04.520818Z",
     "start_time": "2022-10-12T19:44:04.353555Z"
    }
   },
   "outputs": [
    {
     "data": {
      "text/plain": [
       "id                      0\n",
       "gender                  0\n",
       "age                     0\n",
       "region_code             0\n",
       "policy_sales_channel    0\n",
       "driving_license         0\n",
       "vehicle_age             0\n",
       "vehicle_damage          0\n",
       "previously_insured      0\n",
       "annual_premium          0\n",
       "vintage                 0\n",
       "response                0\n",
       "dtype: int64"
      ]
     },
     "execution_count": 92,
     "metadata": {},
     "output_type": "execute_result"
    }
   ],
   "source": [
    "df1.isna().sum()"
   ]
  },
  {
   "cell_type": "markdown",
   "id": "ddd9b367",
   "metadata": {},
   "source": [
    "## 1.5 Data Descriptive"
   ]
  },
  {
   "cell_type": "code",
   "execution_count": 93,
   "id": "0140dcf2",
   "metadata": {
    "ExecuteTime": {
     "end_time": "2022-10-12T19:44:04.536800Z",
     "start_time": "2022-10-12T19:44:04.521744Z"
    }
   },
   "outputs": [
    {
     "data": {
      "text/plain": [
       "Index(['id', 'gender', 'age', 'region_code', 'policy_sales_channel',\n",
       "       'driving_license', 'vehicle_age', 'vehicle_damage',\n",
       "       'previously_insured', 'annual_premium', 'vintage', 'response'],\n",
       "      dtype='object')"
      ]
     },
     "execution_count": 93,
     "metadata": {},
     "output_type": "execute_result"
    }
   ],
   "source": [
    "df1.columns"
   ]
  },
  {
   "cell_type": "code",
   "execution_count": 94,
   "id": "4ca971d2",
   "metadata": {
    "ExecuteTime": {
     "end_time": "2022-10-12T19:44:04.600120Z",
     "start_time": "2022-10-12T19:44:04.538697Z"
    }
   },
   "outputs": [],
   "source": [
    "num_attributes = df1[['age','annual_premium','vintage']]\n",
    "cat_attributes = df1[['gender','driving_license','vehicle_age','vehicle_damage','previously_insured','policy_sales_channel','region_code']]"
   ]
  },
  {
   "cell_type": "markdown",
   "id": "b3d4aef6",
   "metadata": {},
   "source": [
    "### 1.5.1 Numerical atributes"
   ]
  },
  {
   "cell_type": "code",
   "execution_count": 95,
   "id": "c9b14a86",
   "metadata": {
    "ExecuteTime": {
     "end_time": "2022-10-12T19:44:04.883847Z",
     "start_time": "2022-10-12T19:44:04.602528Z"
    }
   },
   "outputs": [
    {
     "data": {
      "text/html": [
       "<div>\n",
       "<style scoped>\n",
       "    .dataframe tbody tr th:only-of-type {\n",
       "        vertical-align: middle;\n",
       "    }\n",
       "\n",
       "    .dataframe tbody tr th {\n",
       "        vertical-align: top;\n",
       "    }\n",
       "\n",
       "    .dataframe thead th {\n",
       "        text-align: right;\n",
       "    }\n",
       "</style>\n",
       "<table border=\"1\" class=\"dataframe\">\n",
       "  <thead>\n",
       "    <tr style=\"text-align: right;\">\n",
       "      <th></th>\n",
       "      <th>attributes</th>\n",
       "      <th>min</th>\n",
       "      <th>max</th>\n",
       "      <th>range</th>\n",
       "      <th>mean</th>\n",
       "      <th>median</th>\n",
       "      <th>std</th>\n",
       "      <th>skew</th>\n",
       "      <th>kurtosis</th>\n",
       "    </tr>\n",
       "  </thead>\n",
       "  <tbody>\n",
       "    <tr>\n",
       "      <th>0</th>\n",
       "      <td>age</td>\n",
       "      <td>20.0</td>\n",
       "      <td>85.0</td>\n",
       "      <td>65.0</td>\n",
       "      <td>38.822584</td>\n",
       "      <td>38.822584</td>\n",
       "      <td>15.511591</td>\n",
       "      <td>0.672539</td>\n",
       "      <td>-0.565655</td>\n",
       "    </tr>\n",
       "    <tr>\n",
       "      <th>1</th>\n",
       "      <td>annual_premium</td>\n",
       "      <td>2630.0</td>\n",
       "      <td>540165.0</td>\n",
       "      <td>537535.0</td>\n",
       "      <td>30564.389581</td>\n",
       "      <td>30564.389581</td>\n",
       "      <td>17213.132474</td>\n",
       "      <td>1.766087</td>\n",
       "      <td>34.004569</td>\n",
       "    </tr>\n",
       "    <tr>\n",
       "      <th>2</th>\n",
       "      <td>vintage</td>\n",
       "      <td>10.0</td>\n",
       "      <td>299.0</td>\n",
       "      <td>289.0</td>\n",
       "      <td>154.347397</td>\n",
       "      <td>154.347397</td>\n",
       "      <td>83.671194</td>\n",
       "      <td>0.003030</td>\n",
       "      <td>-1.200688</td>\n",
       "    </tr>\n",
       "  </tbody>\n",
       "</table>\n",
       "</div>"
      ],
      "text/plain": [
       "       attributes     min       max     range          mean        median           std      skew   kurtosis\n",
       "0             age    20.0      85.0      65.0     38.822584     38.822584     15.511591  0.672539  -0.565655\n",
       "1  annual_premium  2630.0  540165.0  537535.0  30564.389581  30564.389581  17213.132474  1.766087  34.004569\n",
       "2         vintage    10.0     299.0     289.0    154.347397    154.347397     83.671194  0.003030  -1.200688"
      ]
     },
     "execution_count": 95,
     "metadata": {},
     "output_type": "execute_result"
    }
   ],
   "source": [
    "ct1 = pd.DataFrame(num_attributes.apply(np.mean)).T\n",
    "ct2 = pd.DataFrame(num_attributes.apply(np.mean)).T\n",
    "\n",
    "d1 = pd.DataFrame(num_attributes.apply(np.std)).T\n",
    "d2 = pd.DataFrame(num_attributes.apply(min)).T\n",
    "d3 = pd.DataFrame(num_attributes.apply(max)).T\n",
    "d4 = pd.DataFrame(num_attributes.apply(lambda x: x.max() - x.min())).T\n",
    "d5 = pd.DataFrame(num_attributes.apply(lambda x: x.skew())).T\n",
    "d6 = pd.DataFrame(num_attributes.apply(lambda x: x.kurtosis())).T\n",
    "\n",
    "m = pd.concat([d2, d3, d4, ct1, ct2, d1, d5, d6]).T.reset_index()\n",
    "m.columns = ['attributes', 'min', 'max','range','mean','median','std','skew','kurtosis']\n",
    "\n",
    "m"
   ]
  },
  {
   "cell_type": "markdown",
   "id": "51372f99",
   "metadata": {},
   "source": [
    "### 1.5.2 Categorical atributes"
   ]
  },
  {
   "cell_type": "code",
   "execution_count": 96,
   "id": "47ef7860",
   "metadata": {
    "ExecuteTime": {
     "end_time": "2022-10-12T19:44:05.119506Z",
     "start_time": "2022-10-12T19:44:04.885799Z"
    }
   },
   "outputs": [
    {
     "name": "stdout",
     "output_type": "stream",
     "text": [
      "gender: \n",
      "Number of categories: 2\n",
      "Categories: ['Female', 'Male']\n",
      "\n",
      "driving_license: \n",
      "Number of categories: 2\n",
      "Categories: [0, 1]\n",
      "\n",
      "vehicle_age: \n",
      "Number of categories: 3\n",
      "Categories: ['1-2 Year', '< 1 Year', '> 2 Years']\n",
      "\n",
      "vehicle_damage: \n",
      "Number of categories: 2\n",
      "Categories: ['No', 'Yes']\n",
      "\n",
      "previously_insured: \n",
      "Number of categories: 2\n",
      "Categories: [0, 1]\n",
      "\n",
      "policy_sales_channel: \n",
      "Number of categories: 155\n",
      "Categories: [1, 2, 3, 4, 6, 7, 8, 9, 10, 11, 12, 13, 14, 15, 16, 17, 18, 19, 20, 21, 22, 23, 24, 25, 26, 27, 28, 29, 30, 31, 32, 33, 34, 35, 36, 37, 38, 39, 40, 41, 42, 43, 44, 45, 46, 47, 48, 49, 50, 51, 52, 53, 54, 55, 56, 57, 58, 59, 60, 61, 62, 63, 64, 65, 66, 67, 68, 69, 70, 71, 73, 74, 75, 76, 78, 79, 80, 81, 82, 83, 84, 86, 87, 88, 89, 90, 91, 92, 93, 94, 95, 96, 97, 98, 99, 100, 101, 102, 103, 104, 105, 106, 107, 108, 109, 110, 111, 112, 113, 114, 115, 116, 117, 118, 119, 120, 121, 122, 123, 124, 125, 126, 127, 128, 129, 130, 131, 132, 133, 134, 135, 136, 137, 138, 139, 140, 143, 144, 145, 146, 147, 148, 149, 150, 151, 152, 153, 154, 155, 156, 157, 158, 159, 160, 163]\n",
      "\n",
      "region_code: \n",
      "Number of categories: 53\n",
      "Categories: [0, 1, 2, 3, 4, 5, 6, 7, 8, 9, 10, 11, 12, 13, 14, 15, 16, 17, 18, 19, 20, 21, 22, 23, 24, 25, 26, 27, 28, 29, 30, 31, 32, 33, 34, 35, 36, 37, 38, 39, 40, 41, 42, 43, 44, 45, 46, 47, 48, 49, 50, 51, 52]\n",
      "\n"
     ]
    }
   ],
   "source": [
    "for i in cat_attributes.columns:\n",
    "    print(f'{i}: \\nNumber of categories: {cat_attributes[i].unique().shape[0]}\\nCategories: {sorted(cat_attributes[i].unique())}\\n')"
   ]
  },
  {
   "cell_type": "markdown",
   "id": "ee72a599",
   "metadata": {},
   "source": [
    "# 2.0 Feature Engineering"
   ]
  },
  {
   "cell_type": "code",
   "execution_count": 97,
   "id": "08d88b62",
   "metadata": {
    "ExecuteTime": {
     "end_time": "2022-10-12T19:44:05.166466Z",
     "start_time": "2022-10-12T19:44:05.122166Z"
    }
   },
   "outputs": [],
   "source": [
    "df2 = df1.copy()"
   ]
  },
  {
   "cell_type": "code",
   "execution_count": 98,
   "id": "d8d6dd6d",
   "metadata": {
    "ExecuteTime": {
     "end_time": "2022-10-12T19:44:05.181703Z",
     "start_time": "2022-10-12T19:44:05.169267Z"
    }
   },
   "outputs": [
    {
     "data": {
      "image/png": "[encoded data removed]",
      "text/plain": [
       "<IPython.core.display.Image object>"
      ]
     },
     "execution_count": 98,
     "metadata": {},
     "output_type": "execute_result"
    }
   ],
   "source": [
    "Image('img/Vehicle_Insurance.png')"
   ]
  },
  {
   "cell_type": "markdown",
   "id": "de934468",
   "metadata": {},
   "source": [
    "## 2.1 Hyphotesis Mind Map"
   ]
  },
  {
   "cell_type": "markdown",
   "id": "d5be40e1",
   "metadata": {},
   "source": [
    "### 2.1.1 Customer's Hyphotesis\n",
    "\n",
    "1. Customers over 40 years old are 50% more interest in vehicle insurance"
   ]
  },
  {
   "cell_type": "markdown",
   "id": "c21c62aa",
   "metadata": {},
   "source": [
    "### 2.1.2 Vehicle's Hyphotesis\n",
    "\n",
    "1. Customer with a newer vehicle are 30% more interest in adquire the vericle insurance than customer with older cars"
   ]
  },
  {
   "cell_type": "markdown",
   "id": "e4e50bed",
   "metadata": {},
   "source": [
    "### 2.1.3 Company Relationship's Hyphotesis\n",
    "\n",
    "1. Customer with less than 30 days in relation with the company are 40% more interest in adquire the vehicle insurance"
   ]
  },
  {
   "cell_type": "markdown",
   "id": "56e2b38f",
   "metadata": {},
   "source": [
    "## 2.2 Feature Criation"
   ]
  },
  {
   "cell_type": "code",
   "execution_count": 99,
   "id": "e0e55ce9",
   "metadata": {
    "ExecuteTime": {
     "end_time": "2022-10-12T19:44:05.197230Z",
     "start_time": "2022-10-12T19:44:05.184228Z"
    }
   },
   "outputs": [
    {
     "data": {
      "text/html": [
       "<div>\n",
       "<style scoped>\n",
       "    .dataframe tbody tr th:only-of-type {\n",
       "        vertical-align: middle;\n",
       "    }\n",
       "\n",
       "    .dataframe tbody tr th {\n",
       "        vertical-align: top;\n",
       "    }\n",
       "\n",
       "    .dataframe thead th {\n",
       "        text-align: right;\n",
       "    }\n",
       "</style>\n",
       "<table border=\"1\" class=\"dataframe\">\n",
       "  <thead>\n",
       "    <tr style=\"text-align: right;\">\n",
       "      <th></th>\n",
       "      <th>id</th>\n",
       "      <th>gender</th>\n",
       "      <th>age</th>\n",
       "      <th>region_code</th>\n",
       "      <th>policy_sales_channel</th>\n",
       "      <th>driving_license</th>\n",
       "      <th>vehicle_age</th>\n",
       "      <th>vehicle_damage</th>\n",
       "      <th>previously_insured</th>\n",
       "      <th>annual_premium</th>\n",
       "      <th>vintage</th>\n",
       "      <th>response</th>\n",
       "    </tr>\n",
       "  </thead>\n",
       "  <tbody>\n",
       "    <tr>\n",
       "      <th>0</th>\n",
       "      <td>7</td>\n",
       "      <td>Male</td>\n",
       "      <td>23</td>\n",
       "      <td>11</td>\n",
       "      <td>152</td>\n",
       "      <td>1</td>\n",
       "      <td>&lt; 1 Year</td>\n",
       "      <td>Yes</td>\n",
       "      <td>0</td>\n",
       "      <td>23367.0</td>\n",
       "      <td>249</td>\n",
       "      <td>0</td>\n",
       "    </tr>\n",
       "    <tr>\n",
       "      <th>1</th>\n",
       "      <td>13</td>\n",
       "      <td>Female</td>\n",
       "      <td>41</td>\n",
       "      <td>15</td>\n",
       "      <td>14</td>\n",
       "      <td>1</td>\n",
       "      <td>1-2 Year</td>\n",
       "      <td>No</td>\n",
       "      <td>1</td>\n",
       "      <td>31409.0</td>\n",
       "      <td>221</td>\n",
       "      <td>0</td>\n",
       "    </tr>\n",
       "    <tr>\n",
       "      <th>2</th>\n",
       "      <td>18</td>\n",
       "      <td>Female</td>\n",
       "      <td>25</td>\n",
       "      <td>35</td>\n",
       "      <td>152</td>\n",
       "      <td>1</td>\n",
       "      <td>&lt; 1 Year</td>\n",
       "      <td>No</td>\n",
       "      <td>1</td>\n",
       "      <td>46622.0</td>\n",
       "      <td>299</td>\n",
       "      <td>0</td>\n",
       "    </tr>\n",
       "    <tr>\n",
       "      <th>3</th>\n",
       "      <td>31</td>\n",
       "      <td>Female</td>\n",
       "      <td>26</td>\n",
       "      <td>8</td>\n",
       "      <td>160</td>\n",
       "      <td>1</td>\n",
       "      <td>&lt; 1 Year</td>\n",
       "      <td>No</td>\n",
       "      <td>0</td>\n",
       "      <td>2630.0</td>\n",
       "      <td>136</td>\n",
       "      <td>0</td>\n",
       "    </tr>\n",
       "    <tr>\n",
       "      <th>4</th>\n",
       "      <td>39</td>\n",
       "      <td>Male</td>\n",
       "      <td>45</td>\n",
       "      <td>8</td>\n",
       "      <td>124</td>\n",
       "      <td>1</td>\n",
       "      <td>1-2 Year</td>\n",
       "      <td>Yes</td>\n",
       "      <td>0</td>\n",
       "      <td>42297.0</td>\n",
       "      <td>264</td>\n",
       "      <td>0</td>\n",
       "    </tr>\n",
       "  </tbody>\n",
       "</table>\n",
       "</div>"
      ],
      "text/plain": [
       "   id  gender  age  region_code  policy_sales_channel  driving_license vehicle_age vehicle_damage  previously_insured  annual_premium  vintage  response\n",
       "0   7    Male   23           11                   152                1    < 1 Year            Yes                   0         23367.0      249         0\n",
       "1  13  Female   41           15                    14                1    1-2 Year             No                   1         31409.0      221         0\n",
       "2  18  Female   25           35                   152                1    < 1 Year             No                   1         46622.0      299         0\n",
       "3  31  Female   26            8                   160                1    < 1 Year             No                   0          2630.0      136         0\n",
       "4  39    Male   45            8                   124                1    1-2 Year            Yes                   0         42297.0      264         0"
      ]
     },
     "execution_count": 99,
     "metadata": {},
     "output_type": "execute_result"
    }
   ],
   "source": [
    "df2.head()"
   ]
  },
  {
   "cell_type": "code",
   "execution_count": 100,
   "id": "5f7aa2ee",
   "metadata": {
    "ExecuteTime": {
     "end_time": "2022-10-12T19:44:05.289240Z",
     "start_time": "2022-10-12T19:44:05.199275Z"
    }
   },
   "outputs": [],
   "source": [
    "# vericle_age\n",
    "df2['vehicle_age'] = df2['vehicle_age'].apply(lambda x: 'bellow_1_year' if x == '< 1 Year' else \n",
    "                                                     'between_1_2_year' if x == '1-2 Year' else \n",
    "                                                     'over_2_years')"
   ]
  },
  {
   "cell_type": "code",
   "execution_count": 101,
   "id": "70c4a400",
   "metadata": {
    "ExecuteTime": {
     "end_time": "2022-10-12T19:44:05.305201Z",
     "start_time": "2022-10-12T19:44:05.291272Z"
    }
   },
   "outputs": [
    {
     "data": {
      "text/html": [
       "<div>\n",
       "<style scoped>\n",
       "    .dataframe tbody tr th:only-of-type {\n",
       "        vertical-align: middle;\n",
       "    }\n",
       "\n",
       "    .dataframe tbody tr th {\n",
       "        vertical-align: top;\n",
       "    }\n",
       "\n",
       "    .dataframe thead th {\n",
       "        text-align: right;\n",
       "    }\n",
       "</style>\n",
       "<table border=\"1\" class=\"dataframe\">\n",
       "  <thead>\n",
       "    <tr style=\"text-align: right;\">\n",
       "      <th></th>\n",
       "      <th>id</th>\n",
       "      <th>gender</th>\n",
       "      <th>age</th>\n",
       "      <th>region_code</th>\n",
       "      <th>policy_sales_channel</th>\n",
       "      <th>driving_license</th>\n",
       "      <th>vehicle_age</th>\n",
       "      <th>vehicle_damage</th>\n",
       "      <th>previously_insured</th>\n",
       "      <th>annual_premium</th>\n",
       "      <th>vintage</th>\n",
       "      <th>response</th>\n",
       "    </tr>\n",
       "  </thead>\n",
       "  <tbody>\n",
       "    <tr>\n",
       "      <th>0</th>\n",
       "      <td>7</td>\n",
       "      <td>Male</td>\n",
       "      <td>23</td>\n",
       "      <td>11</td>\n",
       "      <td>152</td>\n",
       "      <td>1</td>\n",
       "      <td>bellow_1_year</td>\n",
       "      <td>Yes</td>\n",
       "      <td>0</td>\n",
       "      <td>23367.0</td>\n",
       "      <td>249</td>\n",
       "      <td>0</td>\n",
       "    </tr>\n",
       "    <tr>\n",
       "      <th>1</th>\n",
       "      <td>13</td>\n",
       "      <td>Female</td>\n",
       "      <td>41</td>\n",
       "      <td>15</td>\n",
       "      <td>14</td>\n",
       "      <td>1</td>\n",
       "      <td>between_1_2_year</td>\n",
       "      <td>No</td>\n",
       "      <td>1</td>\n",
       "      <td>31409.0</td>\n",
       "      <td>221</td>\n",
       "      <td>0</td>\n",
       "    </tr>\n",
       "    <tr>\n",
       "      <th>2</th>\n",
       "      <td>18</td>\n",
       "      <td>Female</td>\n",
       "      <td>25</td>\n",
       "      <td>35</td>\n",
       "      <td>152</td>\n",
       "      <td>1</td>\n",
       "      <td>bellow_1_year</td>\n",
       "      <td>No</td>\n",
       "      <td>1</td>\n",
       "      <td>46622.0</td>\n",
       "      <td>299</td>\n",
       "      <td>0</td>\n",
       "    </tr>\n",
       "    <tr>\n",
       "      <th>3</th>\n",
       "      <td>31</td>\n",
       "      <td>Female</td>\n",
       "      <td>26</td>\n",
       "      <td>8</td>\n",
       "      <td>160</td>\n",
       "      <td>1</td>\n",
       "      <td>bellow_1_year</td>\n",
       "      <td>No</td>\n",
       "      <td>0</td>\n",
       "      <td>2630.0</td>\n",
       "      <td>136</td>\n",
       "      <td>0</td>\n",
       "    </tr>\n",
       "    <tr>\n",
       "      <th>4</th>\n",
       "      <td>39</td>\n",
       "      <td>Male</td>\n",
       "      <td>45</td>\n",
       "      <td>8</td>\n",
       "      <td>124</td>\n",
       "      <td>1</td>\n",
       "      <td>between_1_2_year</td>\n",
       "      <td>Yes</td>\n",
       "      <td>0</td>\n",
       "      <td>42297.0</td>\n",
       "      <td>264</td>\n",
       "      <td>0</td>\n",
       "    </tr>\n",
       "  </tbody>\n",
       "</table>\n",
       "</div>"
      ],
      "text/plain": [
       "   id  gender  age  region_code  policy_sales_channel  driving_license       vehicle_age vehicle_damage  previously_insured  annual_premium  vintage  response\n",
       "0   7    Male   23           11                   152                1     bellow_1_year            Yes                   0         23367.0      249         0\n",
       "1  13  Female   41           15                    14                1  between_1_2_year             No                   1         31409.0      221         0\n",
       "2  18  Female   25           35                   152                1     bellow_1_year             No                   1         46622.0      299         0\n",
       "3  31  Female   26            8                   160                1     bellow_1_year             No                   0          2630.0      136         0\n",
       "4  39    Male   45            8                   124                1  between_1_2_year            Yes                   0         42297.0      264         0"
      ]
     },
     "execution_count": 101,
     "metadata": {},
     "output_type": "execute_result"
    }
   ],
   "source": [
    "df2.head()"
   ]
  },
  {
   "cell_type": "markdown",
   "id": "693272c8",
   "metadata": {},
   "source": [
    "# 3.0 Data Filtering"
   ]
  },
  {
   "cell_type": "code",
   "execution_count": 102,
   "id": "995e9e62",
   "metadata": {
    "ExecuteTime": {
     "end_time": "2022-10-12T19:44:05.382917Z",
     "start_time": "2022-10-12T19:44:05.307198Z"
    }
   },
   "outputs": [],
   "source": [
    "df3 = df2.copy()"
   ]
  },
  {
   "cell_type": "markdown",
   "id": "e314a9b5",
   "metadata": {},
   "source": [
    "# 4.0 Exploratory Data Analysis"
   ]
  },
  {
   "cell_type": "code",
   "execution_count": 103,
   "id": "d353005b",
   "metadata": {
    "ExecuteTime": {
     "end_time": "2022-10-12T19:44:05.428435Z",
     "start_time": "2022-10-12T19:44:05.387340Z"
    }
   },
   "outputs": [],
   "source": [
    "df4 = df3.copy()"
   ]
  },
  {
   "cell_type": "code",
   "execution_count": 104,
   "id": "419211bf",
   "metadata": {
    "ExecuteTime": {
     "end_time": "2022-10-12T19:44:05.444522Z",
     "start_time": "2022-10-12T19:44:05.431355Z"
    }
   },
   "outputs": [],
   "source": [
    "# report = sv.analyze(df4)\n",
    "# report.show_html()"
   ]
  },
  {
   "cell_type": "markdown",
   "id": "52ff783e",
   "metadata": {},
   "source": [
    "## 4.1. Univariate Analysis"
   ]
  },
  {
   "cell_type": "markdown",
   "id": "df8ab171",
   "metadata": {},
   "source": [
    "### 4.1.1 Numerial Variables"
   ]
  },
  {
   "cell_type": "markdown",
   "id": "61e7910f",
   "metadata": {
    "hide_input": false
   },
   "source": [
    "#### 4.1.1.1 Age\n",
    "\n",
    "- Although people between 20 and 30 years old are not usually interest, people between 40 and 50 years old are offen intereset"
   ]
  },
  {
   "cell_type": "code",
   "execution_count": 105,
   "id": "84d72d1c",
   "metadata": {
    "ExecuteTime": {
     "end_time": "2022-10-12T19:44:05.617236Z",
     "start_time": "2022-10-12T19:44:05.447450Z"
    },
    "cell_style": "split",
    "hide_input": true,
    "scrolled": true
   },
   "outputs": [
    {
     "data": {
      "image/png": "[encoded data removed]",
      "text/plain": [
       "<Figure size 432x288 with 1 Axes>"
      ]
     },
     "metadata": {
      "needs_background": "light"
     },
     "output_type": "display_data"
    }
   ],
   "source": [
    "# 'age'\n",
    "sns.boxplot(x='response',y='age',data=df4);"
   ]
  },
  {
   "cell_type": "code",
   "execution_count": 106,
   "id": "f1301b98",
   "metadata": {
    "ExecuteTime": {
     "end_time": "2022-10-12T19:44:06.586429Z",
     "start_time": "2022-10-12T19:44:05.618214Z"
    },
    "cell_style": "split",
    "hide_input": true,
    "scrolled": true
   },
   "outputs": [
    {
     "data": {
      "image/png": "[encoded data removed]",
      "text/plain": [
       "<Figure size 432x288 with 1 Axes>"
      ]
     },
     "metadata": {
      "needs_background": "light"
     },
     "output_type": "display_data"
    }
   ],
   "source": [
    "aux00 = df4.loc[df4['response'] == 0, 'age']\n",
    "aux01 = df4.loc[df4['response'] == 1, 'age']\n",
    "sns.histplot(aux00,color='royalblue')\n",
    "sns.histplot(aux01,color='orange');"
   ]
  },
  {
   "cell_type": "markdown",
   "id": "f5c5d202",
   "metadata": {},
   "source": [
    "#### 4.1.1.2 Annual Premium\n",
    "\n",
    "- The distribuiton of annual premium are very similuar to interest and not interest people. Only the scale of this distribution are diferent"
   ]
  },
  {
   "cell_type": "code",
   "execution_count": 107,
   "id": "bd3ddf07",
   "metadata": {
    "ExecuteTime": {
     "end_time": "2022-10-12T19:44:07.952672Z",
     "start_time": "2022-10-12T19:44:06.590385Z"
    },
    "cell_style": "split",
    "hide_input": true
   },
   "outputs": [
    {
     "data": {
      "image/png": "[encoded data removed]",
      "text/plain": [
       "<Figure size 432x288 with 1 Axes>"
      ]
     },
     "metadata": {
      "needs_background": "light"
     },
     "output_type": "display_data"
    }
   ],
   "source": [
    "# 'annual_premium'\n",
    "aux = df4[(df4['annual_premium'] < 80000) & (df4['annual_premium'] > 10000)]\n",
    "sns.boxplot(x='response',y='annual_premium',data=aux);"
   ]
  },
  {
   "cell_type": "code",
   "execution_count": 108,
   "id": "53f10675",
   "metadata": {
    "ExecuteTime": {
     "end_time": "2022-10-12T19:44:08.714307Z",
     "start_time": "2022-10-12T19:44:07.954786Z"
    },
    "cell_style": "split",
    "hide_input": true,
    "scrolled": true
   },
   "outputs": [
    {
     "data": {
      "image/png": "[encoded data removed]",
      "text/plain": [
       "<Figure size 432x288 with 1 Axes>"
      ]
     },
     "metadata": {
      "needs_background": "light"
     },
     "output_type": "display_data"
    }
   ],
   "source": [
    "aux00 = aux.loc[aux['response'] == 0, 'annual_premium']\n",
    "aux01 = aux.loc[aux['response'] == 1, 'annual_premium']\n",
    "sns.histplot(aux00,color='royalblue')\n",
    "sns.histplot(aux01,color='orange');"
   ]
  },
  {
   "cell_type": "markdown",
   "id": "b51b7c92",
   "metadata": {
    "cell_style": "center",
    "hide_input": true
   },
   "source": [
    "#### 4.1.1.3 Vintage\n",
    "\n",
    "- The vintage (days that the customer is related with the company) is uniform distribuited"
   ]
  },
  {
   "cell_type": "code",
   "execution_count": 109,
   "id": "af732fed",
   "metadata": {
    "ExecuteTime": {
     "end_time": "2022-10-12T19:44:08.885000Z",
     "start_time": "2022-10-12T19:44:08.716262Z"
    },
    "cell_style": "split",
    "hide_input": true
   },
   "outputs": [
    {
     "data": {
      "image/png": "[encoded data removed]",
      "text/plain": [
       "<Figure size 432x288 with 1 Axes>"
      ]
     },
     "metadata": {
      "needs_background": "light"
     },
     "output_type": "display_data"
    }
   ],
   "source": [
    "# 'annual_premium'\n",
    "sns.boxplot(x='response',y='vintage',data=df4);"
   ]
  },
  {
   "cell_type": "code",
   "execution_count": 110,
   "id": "1f5044bb",
   "metadata": {
    "ExecuteTime": {
     "end_time": "2022-10-12T19:44:09.415867Z",
     "start_time": "2022-10-12T19:44:08.893348Z"
    },
    "cell_style": "split",
    "hide_input": true,
    "scrolled": true
   },
   "outputs": [
    {
     "data": {
      "image/png": "[encoded data removed]",
      "text/plain": [
       "<Figure size 432x288 with 1 Axes>"
      ]
     },
     "metadata": {
      "needs_background": "light"
     },
     "output_type": "display_data"
    }
   ],
   "source": [
    "aux00 = df4.loc[df4['response'] == 0, 'vintage']\n",
    "aux01 = df4.loc[df4['response'] == 1, 'vintage']\n",
    "sns.histplot(aux00,color='royalblue',bins=50)\n",
    "sns.histplot(aux01,color='orange',bins=50);"
   ]
  },
  {
   "cell_type": "markdown",
   "id": "9b299300",
   "metadata": {},
   "source": [
    "### 4.1.2 Categorical Variables"
   ]
  },
  {
   "cell_type": "markdown",
   "id": "26b785f6",
   "metadata": {},
   "source": [
    "#### 4.1.2.1 Gender\n",
    "\n",
    "- Mens represents 54% of the elevible customer but represents 61% of whole car insurance interest"
   ]
  },
  {
   "cell_type": "code",
   "execution_count": 111,
   "id": "7f0ff2d0",
   "metadata": {
    "ExecuteTime": {
     "end_time": "2022-10-12T19:44:09.632611Z",
     "start_time": "2022-10-12T19:44:09.417899Z"
    },
    "cell_style": "split",
    "hide_input": true
   },
   "outputs": [
    {
     "data": {
      "image/png": "[encoded data removed]",
      "text/plain": [
       "<Figure size 432x288 with 1 Axes>"
      ]
     },
     "metadata": {},
     "output_type": "display_data"
    }
   ],
   "source": [
    "aux2 = pd.DataFrame(df4[['gender','response']].groupby('gender').count()).reset_index()\n",
    "pie_chart(aux2,'gender',\"Gender Distribution\",'Gender')"
   ]
  },
  {
   "cell_type": "code",
   "execution_count": 112,
   "id": "02b0f24d",
   "metadata": {
    "ExecuteTime": {
     "end_time": "2022-10-12T19:44:09.867449Z",
     "start_time": "2022-10-12T19:44:09.634566Z"
    },
    "cell_style": "split",
    "hide_input": true
   },
   "outputs": [
    {
     "data": {
      "image/png": "[encoded data removed]",
      "text/plain": [
       "<Figure size 432x288 with 1 Axes>"
      ]
     },
     "metadata": {},
     "output_type": "display_data"
    }
   ],
   "source": [
    "# pie plot\n",
    "# ax = plt.figure(figsize=(15,6))\n",
    "aux2 = pd.DataFrame(df4[['gender','response']].groupby('gender').sum()).reset_index()\n",
    "pie_chart(aux2,'gender',\"Gender Interest\",'Gender')"
   ]
  },
  {
   "cell_type": "markdown",
   "id": "9994f01b",
   "metadata": {
    "hide_input": true
   },
   "source": [
    "#### 4.1.2.2 Driving License\n",
    "\n",
    "- The majority people has driving license"
   ]
  },
  {
   "cell_type": "code",
   "execution_count": 113,
   "id": "c15d61af",
   "metadata": {
    "ExecuteTime": {
     "end_time": "2022-10-12T19:44:10.040795Z",
     "start_time": "2022-10-12T19:44:09.869347Z"
    },
    "cell_style": "split",
    "hide_input": true,
    "scrolled": true
   },
   "outputs": [
    {
     "data": {
      "image/png": "[encoded data removed]",
      "text/plain": [
       "<Figure size 432x288 with 1 Axes>"
      ]
     },
     "metadata": {
      "needs_background": "light"
     },
     "output_type": "display_data"
    }
   ],
   "source": [
    "aux1 = df4[['driving_license','response']].groupby('driving_license').count().reset_index()\n",
    "g = sns.barplot(x = 'driving_license', y = 'response', data = aux1)\n",
    "g.set_title('Count Of Driving License',fontsize=15)\n",
    "\n",
    "# incluindo labels nas barras\n",
    "for i in g.containers:\n",
    "    g.bar_label(i, color='black', label_type= 'center',fontsize='medium',fmt='%.0f')"
   ]
  },
  {
   "cell_type": "code",
   "execution_count": 114,
   "id": "b09860ae",
   "metadata": {
    "ExecuteTime": {
     "end_time": "2022-10-12T19:44:10.180552Z",
     "start_time": "2022-10-12T19:44:10.042525Z"
    },
    "cell_style": "split",
    "hide_input": true
   },
   "outputs": [
    {
     "data": {
      "image/png": "[encoded data removed]",
      "text/plain": [
       "<Figure size 432x288 with 1 Axes>"
      ]
     },
     "metadata": {},
     "output_type": "display_data"
    }
   ],
   "source": [
    "# pie plot\n",
    "aux1 = pd.DataFrame(df4[['driving_license','response']].groupby('driving_license').sum()).reset_index()\n",
    "pie_chart(aux1,'driving_license',\"Driving License Interest\",'Driving License')"
   ]
  },
  {
   "cell_type": "markdown",
   "id": "4a9cffcc",
   "metadata": {
    "cell_style": "center",
    "hide_input": false
   },
   "source": [
    "#### 4.1.2.3 Region Code\n",
    "\n",
    "- No region code has a significant majority of interest"
   ]
  },
  {
   "cell_type": "code",
   "execution_count": 115,
   "id": "ad8a2810",
   "metadata": {
    "ExecuteTime": {
     "end_time": "2022-10-12T19:44:11.903040Z",
     "start_time": "2022-10-12T19:44:10.182547Z"
    },
    "cell_style": "center",
    "hide_input": true
   },
   "outputs": [
    {
     "data": {
      "image/png": "[encoded data removed]",
      "text/plain": [
       "<Figure size 1440x360 with 1 Axes>"
      ]
     },
     "metadata": {
      "needs_background": "light"
     },
     "output_type": "display_data"
    }
   ],
   "source": [
    "df_grouped = df4[[\"region_code\", \"response\"]].groupby('region_code').value_counts(normalize=True).unstack('response')\n",
    "g = df_grouped.plot.bar(stacked=True,figsize=(20,5));\n",
    "plt.title('Interest by Region Code',fontsize=15);"
   ]
  },
  {
   "cell_type": "markdown",
   "id": "3f9928eb",
   "metadata": {
    "hide_input": true
   },
   "source": [
    "#### 4.1.2.4 Previously Insured\n",
    "\n",
    "- Although the similar number of people previously and not previously car insured, the people that haven't previoulsly insurance are the most interested"
   ]
  },
  {
   "cell_type": "code",
   "execution_count": 116,
   "id": "b9d02ae4",
   "metadata": {
    "ExecuteTime": {
     "end_time": "2022-10-12T19:44:12.045565Z",
     "start_time": "2022-10-12T19:44:11.904044Z"
    },
    "cell_style": "split",
    "hide_input": true
   },
   "outputs": [
    {
     "data": {
      "image/png": "[encoded data removed]",
      "text/plain": [
       "<Figure size 432x288 with 1 Axes>"
      ]
     },
     "metadata": {
      "needs_background": "light"
     },
     "output_type": "display_data"
    }
   ],
   "source": [
    "aux1 = df4[['previously_insured','response']].groupby('previously_insured').count().reset_index()\n",
    "g = sns.barplot(x = 'previously_insured', y = 'response', data = aux1)\n",
    "g.set_title('Count of Previously Insured People',fontsize=15)\n",
    "\n",
    "# incluindo labels nas barras\n",
    "for i in g.containers:\n",
    "    g.bar_label(i, color='white', label_type= 'center',fontsize='medium',fmt='%.0f')"
   ]
  },
  {
   "cell_type": "code",
   "execution_count": 117,
   "id": "b2ab7321",
   "metadata": {
    "ExecuteTime": {
     "end_time": "2022-10-12T19:44:12.139660Z",
     "start_time": "2022-10-12T19:44:12.046563Z"
    },
    "cell_style": "split",
    "hide_input": true,
    "scrolled": true
   },
   "outputs": [
    {
     "data": {
      "image/png": "[encoded data removed]",
      "text/plain": [
       "<Figure size 432x288 with 1 Axes>"
      ]
     },
     "metadata": {},
     "output_type": "display_data"
    }
   ],
   "source": [
    "aux1 = pd.DataFrame(df4[['previously_insured','response']].groupby('previously_insured').sum()).reset_index()\n",
    "pie_chart(aux1,'previously_insured',\"Previously Insured Interest\",'Previousy')"
   ]
  },
  {
   "cell_type": "markdown",
   "id": "1f5af6c6",
   "metadata": {},
   "source": [
    "#### 4.1.2.5 Vericle Age\n",
    "\n",
    "- THe majority of people has cars bellow 2 years old, but the more interested people has cars over 2 years"
   ]
  },
  {
   "cell_type": "code",
   "execution_count": 118,
   "id": "0d201062",
   "metadata": {
    "ExecuteTime": {
     "end_time": "2022-10-12T19:44:12.297684Z",
     "start_time": "2022-10-12T19:44:12.140369Z"
    },
    "cell_style": "split",
    "hide_input": true
   },
   "outputs": [
    {
     "data": {
      "image/png": "[encoded data removed]",
      "text/plain": [
       "<Figure size 432x288 with 1 Axes>"
      ]
     },
     "metadata": {
      "needs_background": "light"
     },
     "output_type": "display_data"
    }
   ],
   "source": [
    "aux1 = df4[[\"vehicle_age\", \"response\"]].groupby('vehicle_age').count().reset_index()\n",
    "g = sns.barplot(x = 'vehicle_age', y = 'response', data = aux1)\n",
    "g.set_title('Count Of Vehicle Age',fontsize=15)\n",
    "\n",
    "# incluindo labels nas barras\n",
    "for i in g.containers:\n",
    "    g.bar_label(i, color='white', label_type= 'center',fontsize='medium',fmt='%.0f')"
   ]
  },
  {
   "cell_type": "code",
   "execution_count": 119,
   "id": "40d64f52",
   "metadata": {
    "ExecuteTime": {
     "end_time": "2022-10-12T19:44:13.516160Z",
     "start_time": "2022-10-12T19:44:12.298684Z"
    },
    "cell_style": "split",
    "hide_input": true
   },
   "outputs": [
    {
     "data": {
      "image/png": "[encoded data removed]",
      "text/plain": [
       "<Figure size 720x360 with 1 Axes>"
      ]
     },
     "metadata": {
      "needs_background": "light"
     },
     "output_type": "display_data"
    }
   ],
   "source": [
    "# 'vehicle_age'\n",
    "df_grouped = df4[[\"vehicle_age\", \"response\"]].groupby('vehicle_age').value_counts(normalize=True).unstack('response')\n",
    "g = df_grouped.plot.bar(stacked=True,figsize=(10,5));\n",
    "g.set_title('Interest by Vehicle Age',fontsize=15)\n",
    "\n",
    "for i in g.containers:\n",
    "    g.bar_label(i, color='white', label_type= 'center',fontsize='medium',fmt='%.2f')"
   ]
  },
  {
   "cell_type": "markdown",
   "id": "c1a04ed8",
   "metadata": {
    "hide_input": false
   },
   "source": [
    "#### 4.1.2.6 Policy Sales Channel\n",
    "\n",
    "- Although the quantity diference of sales channel, no channel has the majority of the interest people"
   ]
  },
  {
   "cell_type": "code",
   "execution_count": 120,
   "id": "f9d537ff",
   "metadata": {
    "ExecuteTime": {
     "end_time": "2022-10-12T19:44:13.561799Z",
     "start_time": "2022-10-12T19:44:13.518914Z"
    },
    "hide_input": true
   },
   "outputs": [],
   "source": [
    "# policy_sales_channel\n",
    "aux0 = df4[['policy_sales_channel','response']].groupby('policy_sales_channel').sum().reset_index()\n",
    "aux1 = aux0[aux0['response'] > 40.0]### 4.1.6 Previously Insured"
   ]
  },
  {
   "cell_type": "code",
   "execution_count": 121,
   "id": "7aa9cba4",
   "metadata": {
    "ExecuteTime": {
     "end_time": "2022-10-12T19:44:16.217228Z",
     "start_time": "2022-10-12T19:44:13.566997Z"
    },
    "hide_input": true
   },
   "outputs": [
    {
     "data": {
      "image/png": "[encoded data removed]",
      "text/plain": [
       "<Figure size 1440x360 with 1 Axes>"
      ]
     },
     "metadata": {
      "needs_background": "light"
     },
     "output_type": "display_data"
    }
   ],
   "source": [
    "aux = df4[[\"policy_sales_channel\", \"response\"]].groupby('policy_sales_channel').sum().reset_index()\n",
    "aux = aux[aux['response'] > 40]\n",
    "\n",
    "# 'policy_sales_channel'\n",
    "aux2 = df4[df4['policy_sales_channel'].isin(aux['policy_sales_channel'])]\n",
    "df_grouped = aux2[[\"policy_sales_channel\", \"response\"]].groupby('policy_sales_channel').value_counts(normalize=True).unstack('response')\n",
    "df_grouped.plot.bar(stacked=True,figsize=(20,5));\n",
    "plt.title('Interest by Sales Channel',fontsize=15);"
   ]
  },
  {
   "cell_type": "code",
   "execution_count": 122,
   "id": "4c908574",
   "metadata": {
    "ExecuteTime": {
     "end_time": "2022-10-12T19:44:16.575709Z",
     "start_time": "2022-10-12T19:44:16.218223Z"
    },
    "hide_input": true
   },
   "outputs": [
    {
     "data": {
      "image/png": "[encoded data removed]",
      "text/plain": [
       "<Figure size 1440x360 with 1 Axes>"
      ]
     },
     "metadata": {
      "needs_background": "light"
     },
     "output_type": "display_data"
    }
   ],
   "source": [
    "fig = plt.figure(figsize=(20,5))\n",
    "aux = df4[[\"policy_sales_channel\", \"response\"]].groupby('policy_sales_channel').sum().reset_index()\n",
    "aux = aux[aux['response'] > 40]\n",
    "\n",
    "sns.barplot(data=aux,x='policy_sales_channel',y='response');\n",
    "plt.title('Count of Sales Channel',fontsize=15);"
   ]
  },
  {
   "cell_type": "markdown",
   "id": "c46516d2",
   "metadata": {
    "hide_input": true
   },
   "source": [
    "#### 4.1.2.7 Vehicle Damage\n",
    "\n",
    "- Although tha simular number of damage and not damage vehicles, people that are more interest has a vehicle damage in the past"
   ]
  },
  {
   "cell_type": "code",
   "execution_count": 123,
   "id": "22b484e2",
   "metadata": {
    "ExecuteTime": {
     "end_time": "2022-10-12T19:44:16.763122Z",
     "start_time": "2022-10-12T19:44:16.576620Z"
    },
    "cell_style": "split",
    "hide_input": true,
    "scrolled": true
   },
   "outputs": [
    {
     "data": {
      "image/png": "[encoded data removed]",
      "text/plain": [
       "<Figure size 432x288 with 1 Axes>"
      ]
     },
     "metadata": {
      "needs_background": "light"
     },
     "output_type": "display_data"
    }
   ],
   "source": [
    "# 'vehicle_damage'\n",
    "aux1 = df4[['vehicle_damage','response']].groupby('vehicle_damage').count().reset_index()\n",
    "g = sns.barplot(x = 'vehicle_damage', y = 'response', data = aux1)\n",
    "g.set_title('Count per Vehicle Damage')\n",
    "\n",
    "# incluindo labels nas barras\n",
    "for i in g.containers:\n",
    "    g.bar_label(i, color='white', label_type= 'center',fontsize='medium',fmt='%.2f')"
   ]
  },
  {
   "cell_type": "code",
   "execution_count": 124,
   "id": "d9af14f4",
   "metadata": {
    "ExecuteTime": {
     "end_time": "2022-10-12T19:44:16.935069Z",
     "start_time": "2022-10-12T19:44:16.765151Z"
    },
    "cell_style": "split",
    "hide_input": true,
    "scrolled": true
   },
   "outputs": [
    {
     "data": {
      "image/png": "[encoded data removed]",
      "text/plain": [
       "<Figure size 432x288 with 1 Axes>"
      ]
     },
     "metadata": {},
     "output_type": "display_data"
    }
   ],
   "source": [
    "# pie plot\n",
    "aux1 = pd.DataFrame(df4[['vehicle_damage','response']].groupby('vehicle_damage').sum()).reset_index()\n",
    "pie_chart(aux1,'vehicle_damage',\"Interest in Vehicle Damage\",'Vehicle Damage')"
   ]
  },
  {
   "cell_type": "markdown",
   "id": "5696b4a5",
   "metadata": {},
   "source": [
    "## 4.2. Bivariate Analysis"
   ]
  },
  {
   "cell_type": "markdown",
   "id": "93183530",
   "metadata": {},
   "source": [
    "### H1. Customers over 40 years old are 50% more interest in vehicle insurance\n",
    "\n",
    "- **False**, customer over 40 years old are 48% more interest in vehicle insurance than others"
   ]
  },
  {
   "cell_type": "code",
   "execution_count": 125,
   "id": "69e94123",
   "metadata": {
    "ExecuteTime": {
     "end_time": "2022-10-12T19:44:17.154634Z",
     "start_time": "2022-10-12T19:44:16.937104Z"
    },
    "cell_style": "split",
    "hide_input": true,
    "run_control": {
     "marked": true
    }
   },
   "outputs": [
    {
     "data": {
      "image/png": "[encoded data removed]",
      "text/plain": [
       "<Figure size 576x360 with 1 Axes>"
      ]
     },
     "metadata": {
      "needs_background": "light"
     },
     "output_type": "display_data"
    }
   ],
   "source": [
    "aux = df4[['age','response']].copy()\n",
    "aux['old'] = df4['age'].apply(lambda x: '+ 40 years' if x > 40 else '- 40 years')\n",
    "aux = aux[['old','response']].groupby('old').sum().reset_index().rename(columns={'response':'interest'})\n",
    "\n",
    "fig = plt.figure(figsize=(8,5))\n",
    "g = sns.barplot(x='old', y='interest', data=aux)\n",
    "plt.title('Customers Interested bellow and over 40 Years Old')\n",
    "\n",
    "for i in g.containers:\n",
    "    g.bar_label(i, color='white', label_type= 'center',fontsize='x-large',fmt='%.2f')"
   ]
  },
  {
   "cell_type": "code",
   "execution_count": 126,
   "id": "8ff0ec1a",
   "metadata": {
    "ExecuteTime": {
     "end_time": "2022-10-12T19:44:17.186719Z",
     "start_time": "2022-10-12T19:44:17.156069Z"
    },
    "cell_style": "split",
    "hide_input": true
   },
   "outputs": [
    {
     "data": {
      "text/html": [
       "<div>\n",
       "<style scoped>\n",
       "    .dataframe tbody tr th:only-of-type {\n",
       "        vertical-align: middle;\n",
       "    }\n",
       "\n",
       "    .dataframe tbody tr th {\n",
       "        vertical-align: top;\n",
       "    }\n",
       "\n",
       "    .dataframe thead th {\n",
       "        text-align: right;\n",
       "    }\n",
       "</style>\n",
       "<table border=\"1\" class=\"dataframe\">\n",
       "  <thead>\n",
       "    <tr style=\"text-align: right;\">\n",
       "      <th></th>\n",
       "      <th>old</th>\n",
       "      <th>interest</th>\n",
       "      <th>perc</th>\n",
       "      <th>diff</th>\n",
       "    </tr>\n",
       "  </thead>\n",
       "  <tbody>\n",
       "    <tr>\n",
       "      <th>0</th>\n",
       "      <td>+ 40 years</td>\n",
       "      <td>27930</td>\n",
       "      <td>59.79%</td>\n",
       "      <td>NaN</td>\n",
       "    </tr>\n",
       "    <tr>\n",
       "      <th>1</th>\n",
       "      <td>- 40 years</td>\n",
       "      <td>18780</td>\n",
       "      <td>40.21%</td>\n",
       "      <td>48.72</td>\n",
       "    </tr>\n",
       "  </tbody>\n",
       "</table>\n",
       "</div>"
      ],
      "text/plain": [
       "          old  interest    perc   diff\n",
       "0  + 40 years     27930  59.79%    NaN\n",
       "1  - 40 years     18780  40.21%  48.72"
      ]
     },
     "execution_count": 126,
     "metadata": {},
     "output_type": "execute_result"
    }
   ],
   "source": [
    "aux['perc'] = (round(aux['interest']/aux['interest'].sum()*100,2)).astype(str) + '%'\n",
    "aux['diff'] = aux['interest'].rolling(window=2).apply(lambda x: round((x.iloc[0])*100/x.iloc[1]-100,2))\n",
    "aux"
   ]
  },
  {
   "cell_type": "markdown",
   "id": "3cc23a44",
   "metadata": {},
   "source": [
    "### H2. Customer with a newer vehicle are 30% more interest in adquire the vericle insurance than customer with older cars\n",
    "\n",
    "- **False**, customer with newer vehicle are 81% less interest in adquive the insurance"
   ]
  },
  {
   "cell_type": "code",
   "execution_count": 127,
   "id": "5e12b2b4",
   "metadata": {
    "ExecuteTime": {
     "end_time": "2022-10-12T19:44:17.484044Z",
     "start_time": "2022-10-12T19:44:17.188620Z"
    },
    "cell_style": "split",
    "hide_input": true
   },
   "outputs": [
    {
     "data": {
      "image/png": "[encoded data removed]",
      "text/plain": [
       "<Figure size 576x360 with 1 Axes>"
      ]
     },
     "metadata": {
      "needs_background": "light"
     },
     "output_type": "display_data"
    }
   ],
   "source": [
    "aux = df4[['vehicle_age','response']].copy()\n",
    "aux['vehicle_age'] = aux['vehicle_age'].apply(lambda x: 'new vehicle' if x == 'bellow_1_year' else 'old_vehicle')\n",
    "aux = aux.groupby('vehicle_age').sum().reset_index().rename(columns={'response':'interest'})\n",
    "\n",
    "fig = plt.figure(figsize=(8,5))\n",
    "g = sns.barplot(x='vehicle_age', y='interest', data=aux)\n",
    "plt.title('Customers Interested by Vehicle Age')\n",
    "\n",
    "for i in g.containers:\n",
    "    g.bar_label(i, color='white', label_type= 'center',fontsize='x-large',fmt='%.0f')"
   ]
  },
  {
   "cell_type": "code",
   "execution_count": 128,
   "id": "c8adf6c9",
   "metadata": {
    "ExecuteTime": {
     "end_time": "2022-10-12T19:44:17.499968Z",
     "start_time": "2022-10-12T19:44:17.486006Z"
    },
    "cell_style": "split",
    "hide_input": true
   },
   "outputs": [
    {
     "data": {
      "text/html": [
       "<div>\n",
       "<style scoped>\n",
       "    .dataframe tbody tr th:only-of-type {\n",
       "        vertical-align: middle;\n",
       "    }\n",
       "\n",
       "    .dataframe tbody tr th {\n",
       "        vertical-align: top;\n",
       "    }\n",
       "\n",
       "    .dataframe thead th {\n",
       "        text-align: right;\n",
       "    }\n",
       "</style>\n",
       "<table border=\"1\" class=\"dataframe\">\n",
       "  <thead>\n",
       "    <tr style=\"text-align: right;\">\n",
       "      <th></th>\n",
       "      <th>vehicle_age</th>\n",
       "      <th>interest</th>\n",
       "      <th>perc</th>\n",
       "      <th>diff</th>\n",
       "    </tr>\n",
       "  </thead>\n",
       "  <tbody>\n",
       "    <tr>\n",
       "      <th>0</th>\n",
       "      <td>new vehicle</td>\n",
       "      <td>7202</td>\n",
       "      <td>15.42%</td>\n",
       "      <td>NaN</td>\n",
       "    </tr>\n",
       "    <tr>\n",
       "      <th>1</th>\n",
       "      <td>old_vehicle</td>\n",
       "      <td>39508</td>\n",
       "      <td>84.58%</td>\n",
       "      <td>-81.77</td>\n",
       "    </tr>\n",
       "  </tbody>\n",
       "</table>\n",
       "</div>"
      ],
      "text/plain": [
       "   vehicle_age  interest    perc   diff\n",
       "0  new vehicle      7202  15.42%    NaN\n",
       "1  old_vehicle     39508  84.58% -81.77"
      ]
     },
     "execution_count": 128,
     "metadata": {},
     "output_type": "execute_result"
    }
   ],
   "source": [
    "aux['perc'] = (round(aux['interest']/aux['interest'].sum()*100,2)).astype(str) + '%'\n",
    "aux['diff'] = aux['interest'].rolling(window=2).apply(lambda x: round((x.iloc[0])*100/x.iloc[1]-100,2))\n",
    "aux"
   ]
  },
  {
   "cell_type": "markdown",
   "id": "5eba1415",
   "metadata": {},
   "source": [
    "### H3. Customer with more days in relation with the company are more interest in adquire the vehicle insurance\n",
    "\n",
    "- **False**, as longer as the customer relationship with the company are, the lower is the interest"
   ]
  },
  {
   "cell_type": "code",
   "execution_count": 129,
   "id": "3582b972",
   "metadata": {
    "ExecuteTime": {
     "end_time": "2022-10-12T19:44:17.937233Z",
     "start_time": "2022-10-12T19:44:17.501963Z"
    },
    "hide_input": true
   },
   "outputs": [
    {
     "data": {
      "image/png": "[encoded data removed]",
      "text/plain": [
       "<Figure size 720x432 with 1 Axes>"
      ]
     },
     "metadata": {
      "needs_background": "light"
     },
     "output_type": "display_data"
    }
   ],
   "source": [
    "aux = df4[['vintage','response']].copy()\n",
    "aux = aux.groupby('vintage').sum().reset_index().rename(columns={'response':'interest'})\n",
    "\n",
    "fig = plt.figure(figsize=(10,6))\n",
    "sns.regplot(x='vintage', y='interest',data=aux);\n",
    "plt.xticks(rotation=90);\n",
    "plt.title('Tendence of Sales Per Promotion Time',fontsize=15)\n",
    "plt.tight_layout()"
   ]
  },
  {
   "cell_type": "markdown",
   "id": "91f8c53e",
   "metadata": {},
   "source": [
    "# 5.0 Data Preparation"
   ]
  },
  {
   "cell_type": "code",
   "execution_count": 130,
   "id": "a4596316",
   "metadata": {
    "ExecuteTime": {
     "end_time": "2022-10-12T19:44:18.014255Z",
     "start_time": "2022-10-12T19:44:17.939256Z"
    }
   },
   "outputs": [],
   "source": [
    "df5 = df4.copy()"
   ]
  },
  {
   "cell_type": "markdown",
   "id": "969d4d35",
   "metadata": {},
   "source": [
    "## 5.1 Split Datasets"
   ]
  },
  {
   "cell_type": "markdown",
   "id": "d5e1e267",
   "metadata": {},
   "source": [
    "### 5.1.1 Test and Training"
   ]
  },
  {
   "cell_type": "code",
   "execution_count": 131,
   "id": "cc4cd7c8",
   "metadata": {
    "ExecuteTime": {
     "end_time": "2022-10-12T19:44:18.293298Z",
     "start_time": "2022-10-12T19:44:18.017251Z"
    }
   },
   "outputs": [],
   "source": [
    "X = df4.drop(['response'],axis=1)\n",
    "y = df4['response'].copy()\n",
    "\n",
    "X_train_full, X_test, Y_train_full, Y_test = ms.train_test_split(X, y, test_size=0.1)"
   ]
  },
  {
   "cell_type": "markdown",
   "id": "2a13ace1",
   "metadata": {},
   "source": [
    "### 5.1.2 Training and Validation"
   ]
  },
  {
   "cell_type": "code",
   "execution_count": 132,
   "id": "a287aa21",
   "metadata": {
    "ExecuteTime": {
     "end_time": "2022-10-12T19:44:18.464867Z",
     "start_time": "2022-10-12T19:44:18.295250Z"
    }
   },
   "outputs": [],
   "source": [
    "x_train, x_validation, y_train, y_validation = ms.train_test_split(X_train_full, Y_train_full, test_size=0.2)\n",
    "\n",
    "data_train = pd.concat([x_train, y_train], axis=1)"
   ]
  },
  {
   "cell_type": "code",
   "execution_count": 133,
   "id": "38ea5a66",
   "metadata": {
    "ExecuteTime": {
     "end_time": "2022-10-12T19:44:18.480756Z",
     "start_time": "2022-10-12T19:44:18.466760Z"
    }
   },
   "outputs": [
    {
     "name": "stdout",
     "output_type": "stream",
     "text": [
      "Total Dimension:            381109\n",
      "Training Dataset Dimension: 342998 (90.0%)\n",
      "Test Dataset Dimension:     38111 (10.0%)\n",
      "\n",
      "Training Dataset Dimension:         342998\n",
      "Training Model Dataset Dimension:   274398 (80.0%)\n",
      "Validation Model Dataset Dimension: 68600 (20.0%)\n"
     ]
    }
   ],
   "source": [
    "print('Total Dimension:            {}'.format(X.shape[0]))\n",
    "print('Training Dataset Dimension: {} ({}%)'.format(X_train_full.shape[0],round((X_train_full.shape[0]/X.shape[0])*100,2)))\n",
    "print('Test Dataset Dimension:     {} ({}%)\\n'.format(X_test.shape[0],round((X_test.shape[0]/X.shape[0])*100,2)))\n",
    "\n",
    "print('Training Dataset Dimension:         {}'.format(X_train_full.shape[0]))\n",
    "print('Training Model Dataset Dimension:   {} ({}%)'.format(x_train.shape[0],round((x_train.shape[0]/X_train_full.shape[0])*100,2)))\n",
    "print('Validation Model Dataset Dimension: {} ({}%)'.format(x_validation.shape[0],round((x_validation.shape[0]/X_train_full.shape[0])*100,2)))"
   ]
  },
  {
   "cell_type": "markdown",
   "id": "927bfe38",
   "metadata": {},
   "source": [
    "## 5.2 Standardization"
   ]
  },
  {
   "cell_type": "code",
   "execution_count": 134,
   "id": "0f596374",
   "metadata": {
    "ExecuteTime": {
     "end_time": "2022-10-12T19:44:18.559555Z",
     "start_time": "2022-10-12T19:44:18.483715Z"
    }
   },
   "outputs": [],
   "source": [
    "ss = pp.StandardScaler()\n",
    "\n",
    "## annual_premium\n",
    "data_train['annual_premium'] = ss.fit_transform(data_train[['annual_premium']].values)"
   ]
  },
  {
   "cell_type": "markdown",
   "id": "ff3be51a",
   "metadata": {},
   "source": [
    "## 5.3 Rescaling"
   ]
  },
  {
   "cell_type": "code",
   "execution_count": 135,
   "id": "06b631ba",
   "metadata": {
    "ExecuteTime": {
     "end_time": "2022-10-12T19:44:18.605957Z",
     "start_time": "2022-10-12T19:44:18.561536Z"
    }
   },
   "outputs": [],
   "source": [
    "mms_age = pp.MinMaxScaler()\n",
    "mms_vintage = pp.MinMaxScaler()\n",
    "\n",
    "## age\n",
    "data_train['age'] = mms_age.fit_transform( data_train[['age']].values )\n",
    "\n",
    "## vintage\n",
    "data_train['vintage'] = mms_vintage.fit_transform( data_train[['vintage']].values )"
   ]
  },
  {
   "cell_type": "markdown",
   "id": "5505997c",
   "metadata": {},
   "source": [
    "## 5.4 Encoder"
   ]
  },
  {
   "cell_type": "markdown",
   "id": "6faa3eea",
   "metadata": {},
   "source": [
    "### 5.4.1 One Hot Enconding"
   ]
  },
  {
   "cell_type": "code",
   "execution_count": 136,
   "id": "f3947289",
   "metadata": {
    "ExecuteTime": {
     "end_time": "2022-10-12T19:44:18.731036Z",
     "start_time": "2022-10-12T19:44:18.606923Z"
    }
   },
   "outputs": [],
   "source": [
    "## vehicle_age\n",
    "data_train = pd.get_dummies(data_train, prefix='vehicle_age',columns=['vehicle_age'])"
   ]
  },
  {
   "cell_type": "markdown",
   "id": "ee3fad1c",
   "metadata": {},
   "source": [
    "### 5.4.2 Target Enconding"
   ]
  },
  {
   "cell_type": "code",
   "execution_count": 137,
   "id": "f758279f",
   "metadata": {
    "ExecuteTime": {
     "end_time": "2022-10-12T19:44:19.058437Z",
     "start_time": "2022-10-12T19:44:18.734903Z"
    }
   },
   "outputs": [],
   "source": [
    "# gender \n",
    "target_encode_gender = data_train.groupby('gender')['response'].mean()\n",
    "data_train.loc[:,'gender'] = data_train['gender'].map(target_encode_gender)\n",
    "\n",
    "# region_code \n",
    "target_encode_region_code = data_train.groupby('region_code')['response'].mean()\n",
    "data_train.loc[:,'region_code'] = data_train['region_code'].map(target_encode_region_code)\n",
    "\n",
    "# vehicle damage\n",
    "target_encode_vehicle_damage = data_train.groupby('vehicle_damage')['response'].mean()\n",
    "data_train.loc[:,'vehicle_damage'] = data_train['vehicle_damage'].map(target_encode_vehicle_damage)"
   ]
  },
  {
   "cell_type": "markdown",
   "id": "ad5a93f4",
   "metadata": {},
   "source": [
    "### 5.4.3 Frequency Enconding"
   ]
  },
  {
   "cell_type": "code",
   "execution_count": 138,
   "id": "5238f781",
   "metadata": {
    "ExecuteTime": {
     "end_time": "2022-10-12T19:44:19.089965Z",
     "start_time": "2022-10-12T19:44:19.061189Z"
    }
   },
   "outputs": [],
   "source": [
    "## policy_sales_channel \n",
    "fe_policy_sales_channel = data_train.groupby('policy_sales_channel').size()/len(data_train)\n",
    "data_train.loc[:,'policy_sales_channel'] = data_train['policy_sales_channel'].map(fe_policy_sales_channel)"
   ]
  },
  {
   "cell_type": "code",
   "execution_count": 139,
   "id": "b2b060d0",
   "metadata": {
    "ExecuteTime": {
     "end_time": "2022-10-12T19:44:19.120883Z",
     "start_time": "2022-10-12T19:44:19.092846Z"
    }
   },
   "outputs": [
    {
     "data": {
      "text/html": [
       "<div>\n",
       "<style scoped>\n",
       "    .dataframe tbody tr th:only-of-type {\n",
       "        vertical-align: middle;\n",
       "    }\n",
       "\n",
       "    .dataframe tbody tr th {\n",
       "        vertical-align: top;\n",
       "    }\n",
       "\n",
       "    .dataframe thead th {\n",
       "        text-align: right;\n",
       "    }\n",
       "</style>\n",
       "<table border=\"1\" class=\"dataframe\">\n",
       "  <thead>\n",
       "    <tr style=\"text-align: right;\">\n",
       "      <th></th>\n",
       "      <th>id</th>\n",
       "      <th>gender</th>\n",
       "      <th>age</th>\n",
       "      <th>region_code</th>\n",
       "      <th>policy_sales_channel</th>\n",
       "      <th>driving_license</th>\n",
       "      <th>vehicle_damage</th>\n",
       "      <th>previously_insured</th>\n",
       "      <th>annual_premium</th>\n",
       "      <th>vintage</th>\n",
       "      <th>response</th>\n",
       "      <th>vehicle_age_bellow_1_year</th>\n",
       "      <th>vehicle_age_between_1_2_year</th>\n",
       "      <th>vehicle_age_over_2_years</th>\n",
       "    </tr>\n",
       "  </thead>\n",
       "  <tbody>\n",
       "    <tr>\n",
       "      <th>99047</th>\n",
       "      <td>27843</td>\n",
       "      <td>0.104023</td>\n",
       "      <td>0.507692</td>\n",
       "      <td>0.128617</td>\n",
       "      <td>0.208919</td>\n",
       "      <td>1</td>\n",
       "      <td>0.238281</td>\n",
       "      <td>0</td>\n",
       "      <td>0.848416</td>\n",
       "      <td>0.110727</td>\n",
       "      <td>1</td>\n",
       "      <td>0</td>\n",
       "      <td>1</td>\n",
       "      <td>0</td>\n",
       "    </tr>\n",
       "    <tr>\n",
       "      <th>138657</th>\n",
       "      <td>346265</td>\n",
       "      <td>0.138703</td>\n",
       "      <td>0.276923</td>\n",
       "      <td>0.124556</td>\n",
       "      <td>0.193955</td>\n",
       "      <td>1</td>\n",
       "      <td>0.238281</td>\n",
       "      <td>0</td>\n",
       "      <td>-0.008283</td>\n",
       "      <td>0.148789</td>\n",
       "      <td>1</td>\n",
       "      <td>0</td>\n",
       "      <td>1</td>\n",
       "      <td>0</td>\n",
       "    </tr>\n",
       "    <tr>\n",
       "      <th>159893</th>\n",
       "      <td>134138</td>\n",
       "      <td>0.138703</td>\n",
       "      <td>0.123077</td>\n",
       "      <td>0.125784</td>\n",
       "      <td>0.353636</td>\n",
       "      <td>1</td>\n",
       "      <td>0.005278</td>\n",
       "      <td>1</td>\n",
       "      <td>0.609506</td>\n",
       "      <td>0.653979</td>\n",
       "      <td>0</td>\n",
       "      <td>1</td>\n",
       "      <td>0</td>\n",
       "      <td>0</td>\n",
       "    </tr>\n",
       "    <tr>\n",
       "      <th>127890</th>\n",
       "      <td>258765</td>\n",
       "      <td>0.138703</td>\n",
       "      <td>0.692308</td>\n",
       "      <td>0.092250</td>\n",
       "      <td>0.208919</td>\n",
       "      <td>1</td>\n",
       "      <td>0.238281</td>\n",
       "      <td>0</td>\n",
       "      <td>-0.293385</td>\n",
       "      <td>0.055363</td>\n",
       "      <td>1</td>\n",
       "      <td>0</td>\n",
       "      <td>1</td>\n",
       "      <td>0</td>\n",
       "    </tr>\n",
       "    <tr>\n",
       "      <th>332568</th>\n",
       "      <td>372591</td>\n",
       "      <td>0.138703</td>\n",
       "      <td>0.523077</td>\n",
       "      <td>0.086239</td>\n",
       "      <td>0.001385</td>\n",
       "      <td>1</td>\n",
       "      <td>0.005278</td>\n",
       "      <td>1</td>\n",
       "      <td>-0.043159</td>\n",
       "      <td>0.321799</td>\n",
       "      <td>0</td>\n",
       "      <td>0</td>\n",
       "      <td>1</td>\n",
       "      <td>0</td>\n",
       "    </tr>\n",
       "  </tbody>\n",
       "</table>\n",
       "</div>"
      ],
      "text/plain": [
       "            id    gender       age  region_code  policy_sales_channel  driving_license  vehicle_damage  previously_insured  annual_premium   vintage  response  vehicle_age_bellow_1_year  vehicle_age_between_1_2_year  vehicle_age_over_2_years\n",
       "99047    27843  0.104023  0.507692     0.128617              0.208919                1        0.238281                   0        0.848416  0.110727         1                          0                             1                         0\n",
       "138657  346265  0.138703  0.276923     0.124556              0.193955                1        0.238281                   0       -0.008283  0.148789         1                          0                             1                         0\n",
       "159893  134138  0.138703  0.123077     0.125784              0.353636                1        0.005278                   1        0.609506  0.653979         0                          1                             0                         0\n",
       "127890  258765  0.138703  0.692308     0.092250              0.208919                1        0.238281                   0       -0.293385  0.055363         1                          0                             1                         0\n",
       "332568  372591  0.138703  0.523077     0.086239              0.001385                1        0.005278                   1       -0.043159  0.321799         0                          0                             1                         0"
      ]
     },
     "execution_count": 139,
     "metadata": {},
     "output_type": "execute_result"
    }
   ],
   "source": [
    "data_train.head()"
   ]
  },
  {
   "cell_type": "markdown",
   "id": "6bd2be18",
   "metadata": {},
   "source": [
    "## 5.5 Validation Preparation"
   ]
  },
  {
   "cell_type": "code",
   "execution_count": 140,
   "id": "53d8b355",
   "metadata": {
    "ExecuteTime": {
     "end_time": "2022-10-12T19:44:19.136129Z",
     "start_time": "2022-10-12T19:44:19.122844Z"
    }
   },
   "outputs": [
    {
     "data": {
      "text/html": [
       "<div>\n",
       "<style scoped>\n",
       "    .dataframe tbody tr th:only-of-type {\n",
       "        vertical-align: middle;\n",
       "    }\n",
       "\n",
       "    .dataframe tbody tr th {\n",
       "        vertical-align: top;\n",
       "    }\n",
       "\n",
       "    .dataframe thead th {\n",
       "        text-align: right;\n",
       "    }\n",
       "</style>\n",
       "<table border=\"1\" class=\"dataframe\">\n",
       "  <thead>\n",
       "    <tr style=\"text-align: right;\">\n",
       "      <th></th>\n",
       "      <th>id</th>\n",
       "      <th>gender</th>\n",
       "      <th>age</th>\n",
       "      <th>region_code</th>\n",
       "      <th>policy_sales_channel</th>\n",
       "      <th>driving_license</th>\n",
       "      <th>vehicle_age</th>\n",
       "      <th>vehicle_damage</th>\n",
       "      <th>previously_insured</th>\n",
       "      <th>annual_premium</th>\n",
       "      <th>vintage</th>\n",
       "    </tr>\n",
       "  </thead>\n",
       "  <tbody>\n",
       "    <tr>\n",
       "      <th>48582</th>\n",
       "      <td>6110</td>\n",
       "      <td>Female</td>\n",
       "      <td>24</td>\n",
       "      <td>35</td>\n",
       "      <td>152</td>\n",
       "      <td>1</td>\n",
       "      <td>bellow_1_year</td>\n",
       "      <td>No</td>\n",
       "      <td>1</td>\n",
       "      <td>2630.0</td>\n",
       "      <td>128</td>\n",
       "    </tr>\n",
       "    <tr>\n",
       "      <th>128677</th>\n",
       "      <td>265595</td>\n",
       "      <td>Male</td>\n",
       "      <td>23</td>\n",
       "      <td>40</td>\n",
       "      <td>160</td>\n",
       "      <td>1</td>\n",
       "      <td>bellow_1_year</td>\n",
       "      <td>No</td>\n",
       "      <td>1</td>\n",
       "      <td>2630.0</td>\n",
       "      <td>249</td>\n",
       "    </tr>\n",
       "    <tr>\n",
       "      <th>74606</th>\n",
       "      <td>213824</td>\n",
       "      <td>Female</td>\n",
       "      <td>21</td>\n",
       "      <td>15</td>\n",
       "      <td>160</td>\n",
       "      <td>1</td>\n",
       "      <td>bellow_1_year</td>\n",
       "      <td>No</td>\n",
       "      <td>1</td>\n",
       "      <td>33684.0</td>\n",
       "      <td>20</td>\n",
       "    </tr>\n",
       "    <tr>\n",
       "      <th>310257</th>\n",
       "      <td>192642</td>\n",
       "      <td>Male</td>\n",
       "      <td>77</td>\n",
       "      <td>46</td>\n",
       "      <td>94</td>\n",
       "      <td>1</td>\n",
       "      <td>between_1_2_year</td>\n",
       "      <td>Yes</td>\n",
       "      <td>0</td>\n",
       "      <td>31552.0</td>\n",
       "      <td>143</td>\n",
       "    </tr>\n",
       "    <tr>\n",
       "      <th>244631</th>\n",
       "      <td>49360</td>\n",
       "      <td>Male</td>\n",
       "      <td>39</td>\n",
       "      <td>28</td>\n",
       "      <td>56</td>\n",
       "      <td>1</td>\n",
       "      <td>between_1_2_year</td>\n",
       "      <td>Yes</td>\n",
       "      <td>0</td>\n",
       "      <td>53631.0</td>\n",
       "      <td>14</td>\n",
       "    </tr>\n",
       "  </tbody>\n",
       "</table>\n",
       "</div>"
      ],
      "text/plain": [
       "            id  gender  age  region_code  policy_sales_channel  driving_license       vehicle_age vehicle_damage  previously_insured  annual_premium  vintage\n",
       "48582     6110  Female   24           35                   152                1     bellow_1_year             No                   1          2630.0      128\n",
       "128677  265595    Male   23           40                   160                1     bellow_1_year             No                   1          2630.0      249\n",
       "74606   213824  Female   21           15                   160                1     bellow_1_year             No                   1         33684.0       20\n",
       "310257  192642    Male   77           46                    94                1  between_1_2_year            Yes                   0         31552.0      143\n",
       "244631   49360    Male   39           28                    56                1  between_1_2_year            Yes                   0         53631.0       14"
      ]
     },
     "execution_count": 140,
     "metadata": {},
     "output_type": "execute_result"
    }
   ],
   "source": [
    "x_validation.head()"
   ]
  },
  {
   "cell_type": "code",
   "execution_count": 141,
   "id": "58070db9",
   "metadata": {
    "ExecuteTime": {
     "end_time": "2022-10-12T19:44:19.152096Z",
     "start_time": "2022-10-12T19:44:19.139068Z"
    }
   },
   "outputs": [],
   "source": [
    "dict_preparation = {\n",
    "    'STANDARIZATION':{\n",
    "        'annual_premium':ss\n",
    "    },\n",
    "    'RESCALING': {\n",
    "        'min_max_scaler':{\n",
    "            'age':    mms_age,\n",
    "            'vintage':mms_vintage\n",
    "        }\n",
    "    },\n",
    "    'ENCONDING':{\n",
    "        'one_hot_enconding':{\n",
    "            'vehicle_age':'vehicle_age'\n",
    "        },\n",
    "        'target_enconding':{\n",
    "            'gender':         target_encode_gender,\n",
    "            'region_code':    target_encode_region_code,\n",
    "            'vehicle_damage': target_encode_vehicle_damage\n",
    "        },\n",
    "        'frequency_encoding':{\n",
    "            'policy_sales_channel':fe_policy_sales_channel\n",
    "        }\n",
    "    }\n",
    "}"
   ]
  },
  {
   "cell_type": "code",
   "execution_count": null,
   "id": "58bee3d3",
   "metadata": {
    "ExecuteTime": {
     "end_time": "2022-10-12T19:53:36.286316Z",
     "start_time": "2022-10-12T19:53:36.164764Z"
    }
   },
   "outputs": [],
   "source": [
    "def data_preparation(data,dict_preparation):\n",
    "    for att in list(dict_preparation['STANDARIZATION'].keys()):\n",
    "        std = dict_preparation['STANDARIZATION'][att]\n",
    "        data.loc[:,att] = std.transform(data[[att]].values)\n",
    "\n",
    "    for type_encode in list(dict_preparation['RESCALING'].keys()):\n",
    "        for att in list(dict_preparation['RESCALING'][type_encode].keys()):\n",
    "            std = dict_preparation['RESCALING'][type_encode][att]\n",
    "            data.loc[:,att] = std.transform(data[[att]].values)\n",
    "\n",
    "    for type_encode in list(dict_preparation['ENCONDING'].keys()):\n",
    "        for att in list(dict_preparation['ENCONDING'][type_encode].keys()):\n",
    "            if type_encode == 'one_hot_enconding':\n",
    "                prefix = dict_preparation['ENCONDING'][type_encode][att]\n",
    "                columns = dict_preparation['ENCONDING'][type_encode][att]\n",
    "                data = pd.get_dummies(data, prefix = prefix,columns=[columns])\n",
    "            else:\n",
    "                std = dict_preparation['ENCONDING'][type_encode][att]\n",
    "                data.loc[:,att] = data.loc[:,att].map(std)\n",
    "                \n",
    "    # fillna\n",
    "    data = data.fillna(0)\n",
    "                \n",
    "    return data"
   ]
  },
  {
   "cell_type": "code",
   "execution_count": 159,
   "id": "fb8f0bf0",
   "metadata": {
    "ExecuteTime": {
     "end_time": "2022-10-12T19:53:36.286316Z",
     "start_time": "2022-10-12T19:53:36.164764Z"
    }
   },
   "outputs": [
    {
     "ename": "KeyError",
     "evalue": "\"None of [Index(['vehicle_age'], dtype='object')] are in the [columns]\"",
     "output_type": "error",
     "traceback": [
      "\u001b[1;31m---------------------------------------------------------------------------\u001b[0m",
      "\u001b[1;31mKeyError\u001b[0m                                  Traceback (most recent call last)",
      "Input \u001b[1;32mIn [159]\u001b[0m, in \u001b[0;36m<cell line: 26>\u001b[1;34m()\u001b[0m\n\u001b[0;32m     22\u001b[0m     data \u001b[38;5;241m=\u001b[39m data\u001b[38;5;241m.\u001b[39mfillna(\u001b[38;5;241m0\u001b[39m)\n\u001b[0;32m     24\u001b[0m     \u001b[38;5;28;01mreturn\u001b[39;00m data\n\u001b[1;32m---> 26\u001b[0m x_validation \u001b[38;5;241m=\u001b[39m \u001b[43mdata_preparation\u001b[49m\u001b[43m(\u001b[49m\u001b[43mx_validation\u001b[49m\u001b[43m,\u001b[49m\u001b[43mdict_preparation\u001b[49m\u001b[43m)\u001b[49m\n",
      "Input \u001b[1;32mIn [159]\u001b[0m, in \u001b[0;36mdata_preparation\u001b[1;34m(data, dict_preparation)\u001b[0m\n\u001b[0;32m     14\u001b[0m     prefix \u001b[38;5;241m=\u001b[39m dict_preparation[\u001b[38;5;124m'\u001b[39m\u001b[38;5;124mENCONDING\u001b[39m\u001b[38;5;124m'\u001b[39m][type_encode][att]\n\u001b[0;32m     15\u001b[0m     columns \u001b[38;5;241m=\u001b[39m dict_preparation[\u001b[38;5;124m'\u001b[39m\u001b[38;5;124mENCONDING\u001b[39m\u001b[38;5;124m'\u001b[39m][type_encode][att]\n\u001b[1;32m---> 16\u001b[0m     data \u001b[38;5;241m=\u001b[39m \u001b[43mpd\u001b[49m\u001b[38;5;241;43m.\u001b[39;49m\u001b[43mget_dummies\u001b[49m\u001b[43m(\u001b[49m\u001b[43mdata\u001b[49m\u001b[43m,\u001b[49m\u001b[43m \u001b[49m\u001b[43mprefix\u001b[49m\u001b[43m \u001b[49m\u001b[38;5;241;43m=\u001b[39;49m\u001b[43m \u001b[49m\u001b[43mprefix\u001b[49m\u001b[43m,\u001b[49m\u001b[43mcolumns\u001b[49m\u001b[38;5;241;43m=\u001b[39;49m\u001b[43m[\u001b[49m\u001b[43mcolumns\u001b[49m\u001b[43m]\u001b[49m\u001b[43m)\u001b[49m\n\u001b[0;32m     17\u001b[0m \u001b[38;5;28;01melse\u001b[39;00m:\n\u001b[0;32m     18\u001b[0m     std \u001b[38;5;241m=\u001b[39m dict_preparation[\u001b[38;5;124m'\u001b[39m\u001b[38;5;124mENCONDING\u001b[39m\u001b[38;5;124m'\u001b[39m][type_encode][att]\n",
      "File \u001b[1;32m~\\anaconda3\\envs\\insurance-cross-sell-env\\lib\\site-packages\\pandas\\core\\reshape\\reshape.py:931\u001b[0m, in \u001b[0;36mget_dummies\u001b[1;34m(data, prefix, prefix_sep, dummy_na, columns, sparse, drop_first, dtype)\u001b[0m\n\u001b[0;32m    929\u001b[0m     \u001b[38;5;28;01mraise\u001b[39;00m \u001b[38;5;167;01mTypeError\u001b[39;00m(\u001b[38;5;124m\"\u001b[39m\u001b[38;5;124mInput must be a list-like for parameter `columns`\u001b[39m\u001b[38;5;124m\"\u001b[39m)\n\u001b[0;32m    930\u001b[0m \u001b[38;5;28;01melse\u001b[39;00m:\n\u001b[1;32m--> 931\u001b[0m     data_to_encode \u001b[38;5;241m=\u001b[39m \u001b[43mdata\u001b[49m\u001b[43m[\u001b[49m\u001b[43mcolumns\u001b[49m\u001b[43m]\u001b[49m\n\u001b[0;32m    933\u001b[0m \u001b[38;5;66;03m# validate prefixes and separator to avoid silently dropping cols\u001b[39;00m\n\u001b[0;32m    934\u001b[0m \u001b[38;5;28;01mdef\u001b[39;00m \u001b[38;5;21mcheck_len\u001b[39m(item, name):\n",
      "File \u001b[1;32m~\\anaconda3\\envs\\insurance-cross-sell-env\\lib\\site-packages\\pandas\\core\\frame.py:3511\u001b[0m, in \u001b[0;36mDataFrame.__getitem__\u001b[1;34m(self, key)\u001b[0m\n\u001b[0;32m   3509\u001b[0m     \u001b[38;5;28;01mif\u001b[39;00m is_iterator(key):\n\u001b[0;32m   3510\u001b[0m         key \u001b[38;5;241m=\u001b[39m \u001b[38;5;28mlist\u001b[39m(key)\n\u001b[1;32m-> 3511\u001b[0m     indexer \u001b[38;5;241m=\u001b[39m \u001b[38;5;28;43mself\u001b[39;49m\u001b[38;5;241;43m.\u001b[39;49m\u001b[43mcolumns\u001b[49m\u001b[38;5;241;43m.\u001b[39;49m\u001b[43m_get_indexer_strict\u001b[49m\u001b[43m(\u001b[49m\u001b[43mkey\u001b[49m\u001b[43m,\u001b[49m\u001b[43m \u001b[49m\u001b[38;5;124;43m\"\u001b[39;49m\u001b[38;5;124;43mcolumns\u001b[39;49m\u001b[38;5;124;43m\"\u001b[39;49m\u001b[43m)\u001b[49m[\u001b[38;5;241m1\u001b[39m]\n\u001b[0;32m   3513\u001b[0m \u001b[38;5;66;03m# take() does not accept boolean indexers\u001b[39;00m\n\u001b[0;32m   3514\u001b[0m \u001b[38;5;28;01mif\u001b[39;00m \u001b[38;5;28mgetattr\u001b[39m(indexer, \u001b[38;5;124m\"\u001b[39m\u001b[38;5;124mdtype\u001b[39m\u001b[38;5;124m\"\u001b[39m, \u001b[38;5;28;01mNone\u001b[39;00m) \u001b[38;5;241m==\u001b[39m \u001b[38;5;28mbool\u001b[39m:\n",
      "File \u001b[1;32m~\\anaconda3\\envs\\insurance-cross-sell-env\\lib\\site-packages\\pandas\\core\\indexes\\base.py:5782\u001b[0m, in \u001b[0;36mIndex._get_indexer_strict\u001b[1;34m(self, key, axis_name)\u001b[0m\n\u001b[0;32m   5779\u001b[0m \u001b[38;5;28;01melse\u001b[39;00m:\n\u001b[0;32m   5780\u001b[0m     keyarr, indexer, new_indexer \u001b[38;5;241m=\u001b[39m \u001b[38;5;28mself\u001b[39m\u001b[38;5;241m.\u001b[39m_reindex_non_unique(keyarr)\n\u001b[1;32m-> 5782\u001b[0m \u001b[38;5;28;43mself\u001b[39;49m\u001b[38;5;241;43m.\u001b[39;49m\u001b[43m_raise_if_missing\u001b[49m\u001b[43m(\u001b[49m\u001b[43mkeyarr\u001b[49m\u001b[43m,\u001b[49m\u001b[43m \u001b[49m\u001b[43mindexer\u001b[49m\u001b[43m,\u001b[49m\u001b[43m \u001b[49m\u001b[43maxis_name\u001b[49m\u001b[43m)\u001b[49m\n\u001b[0;32m   5784\u001b[0m keyarr \u001b[38;5;241m=\u001b[39m \u001b[38;5;28mself\u001b[39m\u001b[38;5;241m.\u001b[39mtake(indexer)\n\u001b[0;32m   5785\u001b[0m \u001b[38;5;28;01mif\u001b[39;00m \u001b[38;5;28misinstance\u001b[39m(key, Index):\n\u001b[0;32m   5786\u001b[0m     \u001b[38;5;66;03m# GH 42790 - Preserve name from an Index\u001b[39;00m\n",
      "File \u001b[1;32m~\\anaconda3\\envs\\insurance-cross-sell-env\\lib\\site-packages\\pandas\\core\\indexes\\base.py:5842\u001b[0m, in \u001b[0;36mIndex._raise_if_missing\u001b[1;34m(self, key, indexer, axis_name)\u001b[0m\n\u001b[0;32m   5840\u001b[0m     \u001b[38;5;28;01mif\u001b[39;00m use_interval_msg:\n\u001b[0;32m   5841\u001b[0m         key \u001b[38;5;241m=\u001b[39m \u001b[38;5;28mlist\u001b[39m(key)\n\u001b[1;32m-> 5842\u001b[0m     \u001b[38;5;28;01mraise\u001b[39;00m \u001b[38;5;167;01mKeyError\u001b[39;00m(\u001b[38;5;124mf\u001b[39m\u001b[38;5;124m\"\u001b[39m\u001b[38;5;124mNone of [\u001b[39m\u001b[38;5;132;01m{\u001b[39;00mkey\u001b[38;5;132;01m}\u001b[39;00m\u001b[38;5;124m] are in the [\u001b[39m\u001b[38;5;132;01m{\u001b[39;00maxis_name\u001b[38;5;132;01m}\u001b[39;00m\u001b[38;5;124m]\u001b[39m\u001b[38;5;124m\"\u001b[39m)\n\u001b[0;32m   5844\u001b[0m not_found \u001b[38;5;241m=\u001b[39m \u001b[38;5;28mlist\u001b[39m(ensure_index(key)[missing_mask\u001b[38;5;241m.\u001b[39mnonzero()[\u001b[38;5;241m0\u001b[39m]]\u001b[38;5;241m.\u001b[39munique())\n\u001b[0;32m   5845\u001b[0m \u001b[38;5;28;01mraise\u001b[39;00m \u001b[38;5;167;01mKeyError\u001b[39;00m(\u001b[38;5;124mf\u001b[39m\u001b[38;5;124m\"\u001b[39m\u001b[38;5;132;01m{\u001b[39;00mnot_found\u001b[38;5;132;01m}\u001b[39;00m\u001b[38;5;124m not in index\u001b[39m\u001b[38;5;124m\"\u001b[39m)\n",
      "\u001b[1;31mKeyError\u001b[0m: \"None of [Index(['vehicle_age'], dtype='object')] are in the [columns]\""
     ]
    }
   ],
   "source": [
    "x_validation = data_preparation(x_validation,dict_preparation)"
   ]
  },
  {
   "cell_type": "code",
   "execution_count": 143,
   "id": "ecfae931",
   "metadata": {
    "ExecuteTime": {
     "end_time": "2022-10-12T19:44:19.309280Z",
     "start_time": "2022-10-12T19:44:19.281414Z"
    }
   },
   "outputs": [
    {
     "data": {
      "text/html": [
       "<div>\n",
       "<style scoped>\n",
       "    .dataframe tbody tr th:only-of-type {\n",
       "        vertical-align: middle;\n",
       "    }\n",
       "\n",
       "    .dataframe tbody tr th {\n",
       "        vertical-align: top;\n",
       "    }\n",
       "\n",
       "    .dataframe thead th {\n",
       "        text-align: right;\n",
       "    }\n",
       "</style>\n",
       "<table border=\"1\" class=\"dataframe\">\n",
       "  <thead>\n",
       "    <tr style=\"text-align: right;\">\n",
       "      <th></th>\n",
       "      <th>id</th>\n",
       "      <th>gender</th>\n",
       "      <th>age</th>\n",
       "      <th>region_code</th>\n",
       "      <th>policy_sales_channel</th>\n",
       "      <th>driving_license</th>\n",
       "      <th>vehicle_damage</th>\n",
       "      <th>previously_insured</th>\n",
       "      <th>annual_premium</th>\n",
       "      <th>vintage</th>\n",
       "      <th>vehicle_age_bellow_1_year</th>\n",
       "      <th>vehicle_age_between_1_2_year</th>\n",
       "      <th>vehicle_age_over_2_years</th>\n",
       "    </tr>\n",
       "  </thead>\n",
       "  <tbody>\n",
       "    <tr>\n",
       "      <th>48582</th>\n",
       "      <td>6110</td>\n",
       "      <td>0.104023</td>\n",
       "      <td>0.061538</td>\n",
       "      <td>0.124595</td>\n",
       "      <td>0.353636</td>\n",
       "      <td>1</td>\n",
       "      <td>0.005278</td>\n",
       "      <td>1</td>\n",
       "      <td>-1.621346</td>\n",
       "      <td>0.408304</td>\n",
       "      <td>1</td>\n",
       "      <td>0</td>\n",
       "      <td>0</td>\n",
       "    </tr>\n",
       "    <tr>\n",
       "      <th>128677</th>\n",
       "      <td>265595</td>\n",
       "      <td>0.138703</td>\n",
       "      <td>0.046154</td>\n",
       "      <td>0.128617</td>\n",
       "      <td>0.057129</td>\n",
       "      <td>1</td>\n",
       "      <td>0.005278</td>\n",
       "      <td>1</td>\n",
       "      <td>-1.621346</td>\n",
       "      <td>0.826990</td>\n",
       "      <td>1</td>\n",
       "      <td>0</td>\n",
       "      <td>0</td>\n",
       "    </tr>\n",
       "    <tr>\n",
       "      <th>74606</th>\n",
       "      <td>213824</td>\n",
       "      <td>0.104023</td>\n",
       "      <td>0.015385</td>\n",
       "      <td>0.073161</td>\n",
       "      <td>0.057129</td>\n",
       "      <td>1</td>\n",
       "      <td>0.005278</td>\n",
       "      <td>1</td>\n",
       "      <td>0.180721</td>\n",
       "      <td>0.034602</td>\n",
       "      <td>1</td>\n",
       "      <td>0</td>\n",
       "      <td>0</td>\n",
       "    </tr>\n",
       "    <tr>\n",
       "      <th>310257</th>\n",
       "      <td>192642</td>\n",
       "      <td>0.138703</td>\n",
       "      <td>0.876923</td>\n",
       "      <td>0.101093</td>\n",
       "      <td>0.000109</td>\n",
       "      <td>1</td>\n",
       "      <td>0.238281</td>\n",
       "      <td>0</td>\n",
       "      <td>0.057001</td>\n",
       "      <td>0.460208</td>\n",
       "      <td>0</td>\n",
       "      <td>1</td>\n",
       "      <td>0</td>\n",
       "    </tr>\n",
       "    <tr>\n",
       "      <th>244631</th>\n",
       "      <td>49360</td>\n",
       "      <td>0.138703</td>\n",
       "      <td>0.292308</td>\n",
       "      <td>0.187235</td>\n",
       "      <td>0.000168</td>\n",
       "      <td>1</td>\n",
       "      <td>0.238281</td>\n",
       "      <td>0</td>\n",
       "      <td>1.338248</td>\n",
       "      <td>0.013841</td>\n",
       "      <td>0</td>\n",
       "      <td>1</td>\n",
       "      <td>0</td>\n",
       "    </tr>\n",
       "  </tbody>\n",
       "</table>\n",
       "</div>"
      ],
      "text/plain": [
       "            id    gender       age  region_code  policy_sales_channel  driving_license  vehicle_damage  previously_insured  annual_premium   vintage  vehicle_age_bellow_1_year  vehicle_age_between_1_2_year  vehicle_age_over_2_years\n",
       "48582     6110  0.104023  0.061538     0.124595              0.353636                1        0.005278                   1       -1.621346  0.408304                          1                             0                         0\n",
       "128677  265595  0.138703  0.046154     0.128617              0.057129                1        0.005278                   1       -1.621346  0.826990                          1                             0                         0\n",
       "74606   213824  0.104023  0.015385     0.073161              0.057129                1        0.005278                   1        0.180721  0.034602                          1                             0                         0\n",
       "310257  192642  0.138703  0.876923     0.101093              0.000109                1        0.238281                   0        0.057001  0.460208                          0                             1                         0\n",
       "244631   49360  0.138703  0.292308     0.187235              0.000168                1        0.238281                   0        1.338248  0.013841                          0                             1                         0"
      ]
     },
     "execution_count": 143,
     "metadata": {},
     "output_type": "execute_result"
    }
   ],
   "source": [
    "x_validation.head()"
   ]
  },
  {
   "cell_type": "markdown",
   "id": "d1714c11",
   "metadata": {},
   "source": [
    "# 6.0 Feature Selection"
   ]
  },
  {
   "cell_type": "markdown",
   "id": "2ae80f3f",
   "metadata": {},
   "source": [
    "## 6.1 Feature Importance"
   ]
  },
  {
   "cell_type": "code",
   "execution_count": 144,
   "id": "d5f4b9a7",
   "metadata": {
    "ExecuteTime": {
     "end_time": "2022-10-12T19:44:50.509960Z",
     "start_time": "2022-10-12T19:44:19.311173Z"
    },
    "cell_style": "split"
   },
   "outputs": [
    {
     "name": "stdout",
     "output_type": "stream",
     "text": [
      "Feature ranking\n"
     ]
    },
    {
     "data": {
      "text/html": [
       "<div>\n",
       "<style scoped>\n",
       "    .dataframe tbody tr th:only-of-type {\n",
       "        vertical-align: middle;\n",
       "    }\n",
       "\n",
       "    .dataframe tbody tr th {\n",
       "        vertical-align: top;\n",
       "    }\n",
       "\n",
       "    .dataframe thead th {\n",
       "        text-align: right;\n",
       "    }\n",
       "</style>\n",
       "<table border=\"1\" class=\"dataframe\">\n",
       "  <thead>\n",
       "    <tr style=\"text-align: right;\">\n",
       "      <th></th>\n",
       "      <th>feature</th>\n",
       "      <th>importance</th>\n",
       "    </tr>\n",
       "  </thead>\n",
       "  <tbody>\n",
       "    <tr>\n",
       "      <th>0</th>\n",
       "      <td>vintage</td>\n",
       "      <td>0.270953</td>\n",
       "    </tr>\n",
       "    <tr>\n",
       "      <th>0</th>\n",
       "      <td>annual_premium</td>\n",
       "      <td>0.242031</td>\n",
       "    </tr>\n",
       "    <tr>\n",
       "      <th>0</th>\n",
       "      <td>age</td>\n",
       "      <td>0.166277</td>\n",
       "    </tr>\n",
       "    <tr>\n",
       "      <th>0</th>\n",
       "      <td>region_code</td>\n",
       "      <td>0.107739</td>\n",
       "    </tr>\n",
       "    <tr>\n",
       "      <th>0</th>\n",
       "      <td>vehicle_damage</td>\n",
       "      <td>0.069384</td>\n",
       "    </tr>\n",
       "    <tr>\n",
       "      <th>0</th>\n",
       "      <td>policy_sales_channel</td>\n",
       "      <td>0.059588</td>\n",
       "    </tr>\n",
       "    <tr>\n",
       "      <th>0</th>\n",
       "      <td>previously_insured</td>\n",
       "      <td>0.054910</td>\n",
       "    </tr>\n",
       "    <tr>\n",
       "      <th>0</th>\n",
       "      <td>vehicle_age_bellow_1_year</td>\n",
       "      <td>0.014366</td>\n",
       "    </tr>\n",
       "    <tr>\n",
       "      <th>0</th>\n",
       "      <td>vehicle_age_between_1_2_year</td>\n",
       "      <td>0.006675</td>\n",
       "    </tr>\n",
       "    <tr>\n",
       "      <th>0</th>\n",
       "      <td>gender</td>\n",
       "      <td>0.005132</td>\n",
       "    </tr>\n",
       "    <tr>\n",
       "      <th>0</th>\n",
       "      <td>vehicle_age_over_2_years</td>\n",
       "      <td>0.002489</td>\n",
       "    </tr>\n",
       "    <tr>\n",
       "      <th>0</th>\n",
       "      <td>driving_license</td>\n",
       "      <td>0.000456</td>\n",
       "    </tr>\n",
       "  </tbody>\n",
       "</table>\n",
       "</div>"
      ],
      "text/plain": [
       "                        feature  importance\n",
       "0                       vintage    0.270953\n",
       "0                annual_premium    0.242031\n",
       "0                           age    0.166277\n",
       "0                   region_code    0.107739\n",
       "0                vehicle_damage    0.069384\n",
       "0          policy_sales_channel    0.059588\n",
       "0            previously_insured    0.054910\n",
       "0     vehicle_age_bellow_1_year    0.014366\n",
       "0  vehicle_age_between_1_2_year    0.006675\n",
       "0                        gender    0.005132\n",
       "0      vehicle_age_over_2_years    0.002489\n",
       "0               driving_license    0.000456"
      ]
     },
     "execution_count": 144,
     "metadata": {},
     "output_type": "execute_result"
    }
   ],
   "source": [
    "# model definition\n",
    "forest = en.ExtraTreesClassifier(n_estimators=250, random_state=0, n_jobs=-1)\n",
    "\n",
    "x_train_n = data_train.drop(['id', 'response'], axis=1)\n",
    "y_train_n = y_train.values\n",
    "forest.fit(x_train_n, y_train_n)\n",
    "\n",
    "# Print the feature ranking\n",
    "print('Feature ranking')\n",
    "df = pd.DataFrame()\n",
    "for i, j in zip(x_train_n.columns, forest.feature_importances_):\n",
    "    aux = pd.DataFrame({'feature': i, 'importance': j},index=[0])\n",
    "    df= pd.concat([df, aux], axis=0)\n",
    "\n",
    "df = df.sort_values('importance',ascending=False)\n",
    "df"
   ]
  },
  {
   "cell_type": "code",
   "execution_count": 145,
   "id": "19a6c106",
   "metadata": {
    "ExecuteTime": {
     "end_time": "2022-10-12T19:44:52.628970Z",
     "start_time": "2022-10-12T19:44:50.522044Z"
    },
    "cell_style": "split"
   },
   "outputs": [
    {
     "data": {
      "image/png": "[encoded data removed]",
      "text/plain": [
       "<Figure size 1080x432 with 1 Axes>"
      ]
     },
     "metadata": {
      "needs_background": "light"
     },
     "output_type": "display_data"
    }
   ],
   "source": [
    "# plot the impurity-based feature importance of the forest\n",
    "\n",
    "plt.figure(figsize=(15,6))\n",
    "plt.title('Feature importances')\n",
    "g = sns.barplot(x='feature',y='importance',data=df,color='green')\n",
    "plt.xticks(rotation=45)\n",
    "\n",
    "for i in g.containers:\n",
    "    g.bar_label(i, color='white', label_type= 'center',fontsize='medium',fmt='%.3f')"
   ]
  },
  {
   "cell_type": "markdown",
   "id": "d295596e",
   "metadata": {},
   "source": [
    "# 7.0 Machine Learning"
   ]
  },
  {
   "cell_type": "code",
   "execution_count": 146,
   "id": "f008bc5c",
   "metadata": {
    "ExecuteTime": {
     "end_time": "2022-10-12T19:44:54.164666Z",
     "start_time": "2022-10-12T19:44:52.631711Z"
    }
   },
   "outputs": [],
   "source": [
    "cols_selected = [\n",
    "                'vintage',\n",
    "                'annual_premium',\n",
    "                'age',\n",
    "                'region_code',\n",
    "                'vehicle_damage',\n",
    "                'policy_sales_channel',\n",
    "                'previously_insured',\n",
    "                'vehicle_age_bellow_1_year',\n",
    "                'vehicle_age_between_1_2_year']\n",
    "\n",
    "x_train = data_train[cols_selected]\n",
    "x_val = x_validation[cols_selected]"
   ]
  },
  {
   "cell_type": "markdown",
   "id": "e1b94883",
   "metadata": {
    "cell_style": "center"
   },
   "source": [
    "## 7.1 KNN"
   ]
  },
  {
   "cell_type": "code",
   "execution_count": 147,
   "id": "a6fa84ed",
   "metadata": {
    "ExecuteTime": {
     "end_time": "2022-10-12T19:45:07.888762Z",
     "start_time": "2022-10-12T19:44:54.167627Z"
    },
    "cell_style": "center",
    "hide_input": false,
    "scrolled": false
   },
   "outputs": [
    {
     "data": {
      "image/png": "[encoded data removed]",
      "text/plain": [
       "<Figure size 1152x360 with 2 Axes>"
      ]
     },
     "metadata": {
      "needs_background": "light"
     },
     "output_type": "display_data"
    }
   ],
   "source": [
    "# model definition\n",
    "knn_model = nh.KNeighborsClassifier(n_neighbors=10)\n",
    "\n",
    "# model training\n",
    "knn_model.fit(x_train, y_train)\n",
    "\n",
    "# model prediction\n",
    "yhat_knn = knn_model.predict_proba(x_val)\n",
    "\n",
    "# performance\n",
    "knn_result = single_performance('KNN', x_validation, y_validation,yhat_knn)\n",
    "\n",
    "# plot\n",
    "fig, ax = plt.subplots(1,2,figsize=(16,5))\n",
    "\n",
    "# Accumulative Gain \n",
    "skplt.metrics.plot_cumulative_gain(y_validation,yhat_knn,ax=ax[0])\n",
    "skplt.metrics.plot_lift_curve(y_validation,yhat_knn,ax=ax[1]);"
   ]
  },
  {
   "cell_type": "markdown",
   "id": "ef242a99",
   "metadata": {
    "cell_style": "center"
   },
   "source": [
    "## 7.2 Logistic Regressor"
   ]
  },
  {
   "cell_type": "code",
   "execution_count": 165,
   "id": "90a81301",
   "metadata": {
    "ExecuteTime": {
     "end_time": "2022-10-12T23:10:12.281486Z",
     "start_time": "2022-10-12T23:10:10.528126Z"
    },
    "cell_style": "center",
    "hide_input": false
   },
   "outputs": [
    {
     "data": {
      "image/png": "[encoded data removed]",
      "text/plain": [
       "<Figure size 1152x360 with 2 Axes>"
      ]
     },
     "metadata": {
      "needs_background": "light"
     },
     "output_type": "display_data"
    }
   ],
   "source": [
    "# model definition\n",
    "lr_model = lm.LogisticRegression(random_state=42)\n",
    "\n",
    "# model training \n",
    "lr_model.fit(x_train, y_train)\n",
    "\n",
    "# model prediction\n",
    "yhat_lr = lr_model.predict_proba(x_val)\n",
    "\n",
    "# performance\n",
    "log_reg_result = single_performance('Logistic Regression', x_validation, y_validation,yhat_lr)\n",
    "\n",
    "# plot\n",
    "fig, ax = plt.subplots(1,2,figsize=(16,5))\n",
    "\n",
    "# Accumulative Gain \n",
    "skplt.metrics.plot_cumulative_gain(y_validation,yhat_lr,ax=ax[0]);\n",
    "skplt.metrics.plot_lift_curve(y_validation,yhat_lr,ax=ax[1]);"
   ]
  },
  {
   "cell_type": "markdown",
   "id": "55d9fba4",
   "metadata": {
    "cell_style": "center"
   },
   "source": [
    "## 7.3 Extra Trees"
   ]
  },
  {
   "cell_type": "code",
   "execution_count": 149,
   "id": "d6d8a136",
   "metadata": {
    "ExecuteTime": {
     "end_time": "2022-10-12T19:45:23.131293Z",
     "start_time": "2022-10-12T19:45:09.667498Z"
    },
    "cell_style": "center",
    "hide_input": false
   },
   "outputs": [
    {
     "data": {
      "image/png": "[encoded data removed]",
      "text/plain": [
       "<Figure size 1152x360 with 2 Axes>"
      ]
     },
     "metadata": {
      "needs_background": "light"
     },
     "output_type": "display_data"
    }
   ],
   "source": [
    "# model definition\n",
    "et = en.ExtraTreesClassifier(n_estimators = 100, n_jobs=-1, random_state=42)\n",
    "\n",
    "# model fit\n",
    "et.fit(x_train, y_train)\n",
    "\n",
    "# model predict\n",
    "yhat_et = et.predict_proba(x_val)\n",
    "\n",
    "# performance\n",
    "extra_tree_result = single_performance('Extra Tree', x_validation, y_validation,yhat_et)\n",
    "\n",
    "# plot\n",
    "fig, ax = plt.subplots(1,2,figsize=(16,5))\n",
    "\n",
    "# Accumulative Gain \n",
    "skplt.metrics.plot_cumulative_gain(y_validation,yhat_et,ax=ax[0])\n",
    "skplt.metrics.plot_lift_curve(y_validation,yhat_et,ax=ax[1]);"
   ]
  },
  {
   "cell_type": "markdown",
   "id": "b47ca23d",
   "metadata": {
    "cell_style": "center",
    "hide_input": false
   },
   "source": [
    "## 7.4 XGBoost"
   ]
  },
  {
   "cell_type": "code",
   "execution_count": 150,
   "id": "f2458668",
   "metadata": {
    "ExecuteTime": {
     "end_time": "2022-10-12T19:45:35.872602Z",
     "start_time": "2022-10-12T19:45:23.135441Z"
    },
    "cell_style": "center",
    "hide_input": false
   },
   "outputs": [
    {
     "data": {
      "image/png": "[encoded data removed]",
      "text/plain": [
       "<Figure size 1152x360 with 2 Axes>"
      ]
     },
     "metadata": {
      "needs_background": "light"
     },
     "output_type": "display_data"
    }
   ],
   "source": [
    "# model definition\n",
    "xgb_model = xgb.XGBClassifier(n_estimators = 100)\n",
    "\n",
    "# model fit\n",
    "xgb_model.fit(x_train,y_train)\n",
    "\n",
    "# model predict\n",
    "yhat_xgb = xgb_model.predict_proba(x_val)\n",
    "\n",
    "# performance\n",
    "xgb_result = single_performance('XGBoost', x_validation, y_validation,yhat_xgb)\n",
    "\n",
    "# plot\n",
    "fig, ax = plt.subplots(1,2,figsize=(16,5))\n",
    "\n",
    "# Accumulative Gain \n",
    "skplt.metrics.plot_cumulative_gain(y_validation,yhat_xgb,ax=ax[0])\n",
    "skplt.metrics.plot_lift_curve(y_validation,yhat_xgb,ax=ax[1]);"
   ]
  },
  {
   "cell_type": "markdown",
   "id": "3a4b0041",
   "metadata": {
    "ExecuteTime": {
     "end_time": "2022-09-25T19:37:38.800345Z",
     "start_time": "2022-09-25T19:37:38.776895Z"
    }
   },
   "source": [
    "## 7.5 Model Single Performance"
   ]
  },
  {
   "cell_type": "code",
   "execution_count": 151,
   "id": "c8e3aef7",
   "metadata": {
    "ExecuteTime": {
     "end_time": "2022-10-12T19:45:35.903709Z",
     "start_time": "2022-10-12T19:45:35.875099Z"
    }
   },
   "outputs": [
    {
     "data": {
      "text/html": [
       "<div>\n",
       "<style scoped>\n",
       "    .dataframe tbody tr th:only-of-type {\n",
       "        vertical-align: middle;\n",
       "    }\n",
       "\n",
       "    .dataframe tbody tr th {\n",
       "        vertical-align: top;\n",
       "    }\n",
       "\n",
       "    .dataframe thead th {\n",
       "        text-align: right;\n",
       "    }\n",
       "</style>\n",
       "<table border=\"1\" class=\"dataframe\">\n",
       "  <thead>\n",
       "    <tr style=\"text-align: right;\">\n",
       "      <th></th>\n",
       "      <th>Model Name</th>\n",
       "      <th>Precision at K</th>\n",
       "      <th>Recall at K</th>\n",
       "    </tr>\n",
       "  </thead>\n",
       "  <tbody>\n",
       "    <tr>\n",
       "      <th>0</th>\n",
       "      <td>KNN</td>\n",
       "      <td>0.309234</td>\n",
       "      <td>0.500059</td>\n",
       "    </tr>\n",
       "    <tr>\n",
       "      <th>0</th>\n",
       "      <td>Logistic Regression</td>\n",
       "      <td>0.331973</td>\n",
       "      <td>0.536830</td>\n",
       "    </tr>\n",
       "    <tr>\n",
       "      <th>0</th>\n",
       "      <td>Extra Tree</td>\n",
       "      <td>0.316376</td>\n",
       "      <td>0.511609</td>\n",
       "    </tr>\n",
       "    <tr>\n",
       "      <th>0</th>\n",
       "      <td>XGBoost</td>\n",
       "      <td>0.356388</td>\n",
       "      <td>0.576311</td>\n",
       "    </tr>\n",
       "  </tbody>\n",
       "</table>\n",
       "</div>"
      ],
      "text/plain": [
       "            Model Name  Precision at K  Recall at K\n",
       "0                  KNN        0.309234     0.500059\n",
       "0  Logistic Regression        0.331973     0.536830\n",
       "0           Extra Tree        0.316376     0.511609\n",
       "0              XGBoost        0.356388     0.576311"
      ]
     },
     "execution_count": 151,
     "metadata": {},
     "output_type": "execute_result"
    }
   ],
   "source": [
    "pd.concat([knn_result, log_reg_result, extra_tree_result, xgb_result])"
   ]
  },
  {
   "cell_type": "markdown",
   "id": "45b7a81f",
   "metadata": {
    "ExecuteTime": {
     "end_time": "2022-09-25T19:37:38.800345Z",
     "start_time": "2022-09-25T19:37:38.776895Z"
    }
   },
   "source": [
    "## 7.6 Model Real Performance"
   ]
  },
  {
   "cell_type": "code",
   "execution_count": 152,
   "id": "b7ea10af",
   "metadata": {
    "ExecuteTime": {
     "end_time": "2022-10-12T19:48:55.069466Z",
     "start_time": "2022-10-12T19:45:35.905336Z"
    }
   },
   "outputs": [
    {
     "data": {
      "text/html": [
       "<div>\n",
       "<style scoped>\n",
       "    .dataframe tbody tr th:only-of-type {\n",
       "        vertical-align: middle;\n",
       "    }\n",
       "\n",
       "    .dataframe tbody tr th {\n",
       "        vertical-align: top;\n",
       "    }\n",
       "\n",
       "    .dataframe thead th {\n",
       "        text-align: right;\n",
       "    }\n",
       "</style>\n",
       "<table border=\"1\" class=\"dataframe\">\n",
       "  <thead>\n",
       "    <tr style=\"text-align: right;\">\n",
       "      <th></th>\n",
       "      <th>Model</th>\n",
       "      <th>Precision at K</th>\n",
       "      <th>Recall at K</th>\n",
       "    </tr>\n",
       "  </thead>\n",
       "  <tbody>\n",
       "    <tr>\n",
       "      <th>0</th>\n",
       "      <td>KNN</td>\n",
       "      <td>0.3102 +/- 0.0021</td>\n",
       "      <td>0.5053 +/- 0.0027</td>\n",
       "    </tr>\n",
       "    <tr>\n",
       "      <th>0</th>\n",
       "      <td>Logistic Regression</td>\n",
       "      <td>0.3303 +/- 0.0022</td>\n",
       "      <td>0.5381 +/- 0.0032</td>\n",
       "    </tr>\n",
       "    <tr>\n",
       "      <th>0</th>\n",
       "      <td>Extra Trees</td>\n",
       "      <td>0.3168 +/- 0.0039</td>\n",
       "      <td>0.5161 +/- 0.0033</td>\n",
       "    </tr>\n",
       "    <tr>\n",
       "      <th>0</th>\n",
       "      <td>XGBoost</td>\n",
       "      <td>0.3518 +/- 0.0021</td>\n",
       "      <td>0.5732 +/- 0.0055</td>\n",
       "    </tr>\n",
       "  </tbody>\n",
       "</table>\n",
       "</div>"
      ],
      "text/plain": [
       "                 Model     Precision at K        Recall at K\n",
       "0                  KNN  0.3102 +/- 0.0021  0.5053 +/- 0.0027\n",
       "0  Logistic Regression  0.3303 +/- 0.0022  0.5381 +/- 0.0032\n",
       "0          Extra Trees  0.3168 +/- 0.0039  0.5161 +/- 0.0033\n",
       "0              XGBoost  0.3518 +/- 0.0021  0.5732 +/- 0.0055"
      ]
     },
     "execution_count": 152,
     "metadata": {},
     "output_type": "execute_result"
    }
   ],
   "source": [
    "knn_cross = cross_validation(data_train,5,'KNN',knn_model,verbose=False)\n",
    "lr_cross = cross_validation(data_train,5,'Logistic Regression',lr_model,verbose=False)\n",
    "et_cross = cross_validation(data_train,5,'Extra Trees',et,verbose=False)\n",
    "xgb_cross = cross_validation(data_train,5,'XGBoost',xgb_model,verbose=False)\n",
    "\n",
    "pd.concat([knn_cross, lr_cross, et_cross, xgb_cross])"
   ]
  },
  {
   "cell_type": "markdown",
   "id": "b1bf4f7d",
   "metadata": {},
   "source": [
    "# 8.0 Test Model"
   ]
  },
  {
   "cell_type": "markdown",
   "id": "0e0cece4",
   "metadata": {},
   "source": [
    "### 8.1 Concat training and validation dataset"
   ]
  },
  {
   "cell_type": "code",
   "execution_count": 153,
   "id": "b39c10d5",
   "metadata": {
    "ExecuteTime": {
     "end_time": "2022-10-12T19:48:55.192512Z",
     "start_time": "2022-10-12T19:48:55.073455Z"
    }
   },
   "outputs": [],
   "source": [
    "# Concat validation Dataframe\n",
    "validation = pd.concat([x_validation,y_validation],axis=1)\n",
    "\n",
    "# Concat all training data\n",
    "data_full = pd.concat([data_train,validation],axis=0)\n",
    "\n",
    "# Prepare training dataset\n",
    "x_training_full = data_full.drop(['id','response'],axis=1)\n",
    "y_training_full = data_full['response']"
   ]
  },
  {
   "cell_type": "code",
   "execution_count": 154,
   "id": "96d9f76a",
   "metadata": {
    "ExecuteTime": {
     "end_time": "2022-10-12T19:48:55.223830Z",
     "start_time": "2022-10-12T19:48:55.196861Z"
    },
    "scrolled": true
   },
   "outputs": [
    {
     "data": {
      "text/html": [
       "<div>\n",
       "<style scoped>\n",
       "    .dataframe tbody tr th:only-of-type {\n",
       "        vertical-align: middle;\n",
       "    }\n",
       "\n",
       "    .dataframe tbody tr th {\n",
       "        vertical-align: top;\n",
       "    }\n",
       "\n",
       "    .dataframe thead th {\n",
       "        text-align: right;\n",
       "    }\n",
       "</style>\n",
       "<table border=\"1\" class=\"dataframe\">\n",
       "  <thead>\n",
       "    <tr style=\"text-align: right;\">\n",
       "      <th></th>\n",
       "      <th>gender</th>\n",
       "      <th>age</th>\n",
       "      <th>region_code</th>\n",
       "      <th>policy_sales_channel</th>\n",
       "      <th>driving_license</th>\n",
       "      <th>vehicle_damage</th>\n",
       "      <th>previously_insured</th>\n",
       "      <th>annual_premium</th>\n",
       "      <th>vintage</th>\n",
       "      <th>vehicle_age_bellow_1_year</th>\n",
       "      <th>vehicle_age_between_1_2_year</th>\n",
       "      <th>vehicle_age_over_2_years</th>\n",
       "    </tr>\n",
       "  </thead>\n",
       "  <tbody>\n",
       "    <tr>\n",
       "      <th>99047</th>\n",
       "      <td>0.104023</td>\n",
       "      <td>0.507692</td>\n",
       "      <td>0.128617</td>\n",
       "      <td>0.208919</td>\n",
       "      <td>1</td>\n",
       "      <td>0.238281</td>\n",
       "      <td>0</td>\n",
       "      <td>0.848416</td>\n",
       "      <td>0.110727</td>\n",
       "      <td>0</td>\n",
       "      <td>1</td>\n",
       "      <td>0</td>\n",
       "    </tr>\n",
       "    <tr>\n",
       "      <th>138657</th>\n",
       "      <td>0.138703</td>\n",
       "      <td>0.276923</td>\n",
       "      <td>0.124556</td>\n",
       "      <td>0.193955</td>\n",
       "      <td>1</td>\n",
       "      <td>0.238281</td>\n",
       "      <td>0</td>\n",
       "      <td>-0.008283</td>\n",
       "      <td>0.148789</td>\n",
       "      <td>0</td>\n",
       "      <td>1</td>\n",
       "      <td>0</td>\n",
       "    </tr>\n",
       "    <tr>\n",
       "      <th>159893</th>\n",
       "      <td>0.138703</td>\n",
       "      <td>0.123077</td>\n",
       "      <td>0.125784</td>\n",
       "      <td>0.353636</td>\n",
       "      <td>1</td>\n",
       "      <td>0.005278</td>\n",
       "      <td>1</td>\n",
       "      <td>0.609506</td>\n",
       "      <td>0.653979</td>\n",
       "      <td>1</td>\n",
       "      <td>0</td>\n",
       "      <td>0</td>\n",
       "    </tr>\n",
       "    <tr>\n",
       "      <th>127890</th>\n",
       "      <td>0.138703</td>\n",
       "      <td>0.692308</td>\n",
       "      <td>0.092250</td>\n",
       "      <td>0.208919</td>\n",
       "      <td>1</td>\n",
       "      <td>0.238281</td>\n",
       "      <td>0</td>\n",
       "      <td>-0.293385</td>\n",
       "      <td>0.055363</td>\n",
       "      <td>0</td>\n",
       "      <td>1</td>\n",
       "      <td>0</td>\n",
       "    </tr>\n",
       "    <tr>\n",
       "      <th>332568</th>\n",
       "      <td>0.138703</td>\n",
       "      <td>0.523077</td>\n",
       "      <td>0.086239</td>\n",
       "      <td>0.001385</td>\n",
       "      <td>1</td>\n",
       "      <td>0.005278</td>\n",
       "      <td>1</td>\n",
       "      <td>-0.043159</td>\n",
       "      <td>0.321799</td>\n",
       "      <td>0</td>\n",
       "      <td>1</td>\n",
       "      <td>0</td>\n",
       "    </tr>\n",
       "  </tbody>\n",
       "</table>\n",
       "</div>"
      ],
      "text/plain": [
       "          gender       age  region_code  policy_sales_channel  driving_license  vehicle_damage  previously_insured  annual_premium   vintage  vehicle_age_bellow_1_year  vehicle_age_between_1_2_year  vehicle_age_over_2_years\n",
       "99047   0.104023  0.507692     0.128617              0.208919                1        0.238281                   0        0.848416  0.110727                          0                             1                         0\n",
       "138657  0.138703  0.276923     0.124556              0.193955                1        0.238281                   0       -0.008283  0.148789                          0                             1                         0\n",
       "159893  0.138703  0.123077     0.125784              0.353636                1        0.005278                   1        0.609506  0.653979                          1                             0                         0\n",
       "127890  0.138703  0.692308     0.092250              0.208919                1        0.238281                   0       -0.293385  0.055363                          0                             1                         0\n",
       "332568  0.138703  0.523077     0.086239              0.001385                1        0.005278                   1       -0.043159  0.321799                          0                             1                         0"
      ]
     },
     "execution_count": 154,
     "metadata": {},
     "output_type": "execute_result"
    }
   ],
   "source": [
    "x_training_full.head()"
   ]
  },
  {
   "cell_type": "markdown",
   "id": "239276a1",
   "metadata": {},
   "source": [
    "### 8.2 Preparate Test Dataset"
   ]
  },
  {
   "cell_type": "code",
   "execution_count": 158,
   "id": "d7c8fe27",
   "metadata": {
    "ExecuteTime": {
     "end_time": "2022-10-12T19:53:24.486080Z",
     "start_time": "2022-10-12T19:53:24.354408Z"
    },
    "run_control": {
     "marked": true
    }
   },
   "outputs": [
    {
     "name": "stdout",
     "output_type": "stream",
     "text": [
      "      age\n",
      "      vintage\n"
     ]
    },
    {
     "ename": "KeyError",
     "evalue": "\"None of [Index(['vehicle_age'], dtype='object')] are in the [columns]\"",
     "output_type": "error",
     "traceback": [
      "\u001b[1;31m---------------------------------------------------------------------------\u001b[0m",
      "\u001b[1;31mKeyError\u001b[0m                                  Traceback (most recent call last)",
      "Input \u001b[1;32mIn [158]\u001b[0m, in \u001b[0;36m<cell line: 1>\u001b[1;34m()\u001b[0m\n\u001b[1;32m----> 1\u001b[0m X_test \u001b[38;5;241m=\u001b[39m \u001b[43mdata_preparation\u001b[49m\u001b[43m(\u001b[49m\u001b[43mX_test\u001b[49m\u001b[43m,\u001b[49m\u001b[43mdict_preparation\u001b[49m\u001b[43m)\u001b[49m\n",
      "Input \u001b[1;32mIn [142]\u001b[0m, in \u001b[0;36mdata_preparation\u001b[1;34m(data, dict_preparation)\u001b[0m\n\u001b[0;32m     15\u001b[0m     prefix \u001b[38;5;241m=\u001b[39m dict_preparation[\u001b[38;5;124m'\u001b[39m\u001b[38;5;124mENCONDING\u001b[39m\u001b[38;5;124m'\u001b[39m][type_encode][att]\n\u001b[0;32m     16\u001b[0m     columns \u001b[38;5;241m=\u001b[39m dict_preparation[\u001b[38;5;124m'\u001b[39m\u001b[38;5;124mENCONDING\u001b[39m\u001b[38;5;124m'\u001b[39m][type_encode][att]\n\u001b[1;32m---> 17\u001b[0m     data \u001b[38;5;241m=\u001b[39m \u001b[43mpd\u001b[49m\u001b[38;5;241;43m.\u001b[39;49m\u001b[43mget_dummies\u001b[49m\u001b[43m(\u001b[49m\u001b[43mdata\u001b[49m\u001b[43m,\u001b[49m\u001b[43m \u001b[49m\u001b[43mprefix\u001b[49m\u001b[43m \u001b[49m\u001b[38;5;241;43m=\u001b[39;49m\u001b[43m \u001b[49m\u001b[43mprefix\u001b[49m\u001b[43m,\u001b[49m\u001b[43mcolumns\u001b[49m\u001b[38;5;241;43m=\u001b[39;49m\u001b[43m[\u001b[49m\u001b[43mcolumns\u001b[49m\u001b[43m]\u001b[49m\u001b[43m)\u001b[49m\n\u001b[0;32m     18\u001b[0m \u001b[38;5;28;01melse\u001b[39;00m:\n\u001b[0;32m     19\u001b[0m     std \u001b[38;5;241m=\u001b[39m dict_preparation[\u001b[38;5;124m'\u001b[39m\u001b[38;5;124mENCONDING\u001b[39m\u001b[38;5;124m'\u001b[39m][type_encode][att]\n",
      "File \u001b[1;32m~\\anaconda3\\envs\\insurance-cross-sell-env\\lib\\site-packages\\pandas\\core\\reshape\\reshape.py:931\u001b[0m, in \u001b[0;36mget_dummies\u001b[1;34m(data, prefix, prefix_sep, dummy_na, columns, sparse, drop_first, dtype)\u001b[0m\n\u001b[0;32m    929\u001b[0m     \u001b[38;5;28;01mraise\u001b[39;00m \u001b[38;5;167;01mTypeError\u001b[39;00m(\u001b[38;5;124m\"\u001b[39m\u001b[38;5;124mInput must be a list-like for parameter `columns`\u001b[39m\u001b[38;5;124m\"\u001b[39m)\n\u001b[0;32m    930\u001b[0m \u001b[38;5;28;01melse\u001b[39;00m:\n\u001b[1;32m--> 931\u001b[0m     data_to_encode \u001b[38;5;241m=\u001b[39m \u001b[43mdata\u001b[49m\u001b[43m[\u001b[49m\u001b[43mcolumns\u001b[49m\u001b[43m]\u001b[49m\n\u001b[0;32m    933\u001b[0m \u001b[38;5;66;03m# validate prefixes and separator to avoid silently dropping cols\u001b[39;00m\n\u001b[0;32m    934\u001b[0m \u001b[38;5;28;01mdef\u001b[39;00m \u001b[38;5;21mcheck_len\u001b[39m(item, name):\n",
      "File \u001b[1;32m~\\anaconda3\\envs\\insurance-cross-sell-env\\lib\\site-packages\\pandas\\core\\frame.py:3511\u001b[0m, in \u001b[0;36mDataFrame.__getitem__\u001b[1;34m(self, key)\u001b[0m\n\u001b[0;32m   3509\u001b[0m     \u001b[38;5;28;01mif\u001b[39;00m is_iterator(key):\n\u001b[0;32m   3510\u001b[0m         key \u001b[38;5;241m=\u001b[39m \u001b[38;5;28mlist\u001b[39m(key)\n\u001b[1;32m-> 3511\u001b[0m     indexer \u001b[38;5;241m=\u001b[39m \u001b[38;5;28;43mself\u001b[39;49m\u001b[38;5;241;43m.\u001b[39;49m\u001b[43mcolumns\u001b[49m\u001b[38;5;241;43m.\u001b[39;49m\u001b[43m_get_indexer_strict\u001b[49m\u001b[43m(\u001b[49m\u001b[43mkey\u001b[49m\u001b[43m,\u001b[49m\u001b[43m \u001b[49m\u001b[38;5;124;43m\"\u001b[39;49m\u001b[38;5;124;43mcolumns\u001b[39;49m\u001b[38;5;124;43m\"\u001b[39;49m\u001b[43m)\u001b[49m[\u001b[38;5;241m1\u001b[39m]\n\u001b[0;32m   3513\u001b[0m \u001b[38;5;66;03m# take() does not accept boolean indexers\u001b[39;00m\n\u001b[0;32m   3514\u001b[0m \u001b[38;5;28;01mif\u001b[39;00m \u001b[38;5;28mgetattr\u001b[39m(indexer, \u001b[38;5;124m\"\u001b[39m\u001b[38;5;124mdtype\u001b[39m\u001b[38;5;124m\"\u001b[39m, \u001b[38;5;28;01mNone\u001b[39;00m) \u001b[38;5;241m==\u001b[39m \u001b[38;5;28mbool\u001b[39m:\n",
      "File \u001b[1;32m~\\anaconda3\\envs\\insurance-cross-sell-env\\lib\\site-packages\\pandas\\core\\indexes\\base.py:5782\u001b[0m, in \u001b[0;36mIndex._get_indexer_strict\u001b[1;34m(self, key, axis_name)\u001b[0m\n\u001b[0;32m   5779\u001b[0m \u001b[38;5;28;01melse\u001b[39;00m:\n\u001b[0;32m   5780\u001b[0m     keyarr, indexer, new_indexer \u001b[38;5;241m=\u001b[39m \u001b[38;5;28mself\u001b[39m\u001b[38;5;241m.\u001b[39m_reindex_non_unique(keyarr)\n\u001b[1;32m-> 5782\u001b[0m \u001b[38;5;28;43mself\u001b[39;49m\u001b[38;5;241;43m.\u001b[39;49m\u001b[43m_raise_if_missing\u001b[49m\u001b[43m(\u001b[49m\u001b[43mkeyarr\u001b[49m\u001b[43m,\u001b[49m\u001b[43m \u001b[49m\u001b[43mindexer\u001b[49m\u001b[43m,\u001b[49m\u001b[43m \u001b[49m\u001b[43maxis_name\u001b[49m\u001b[43m)\u001b[49m\n\u001b[0;32m   5784\u001b[0m keyarr \u001b[38;5;241m=\u001b[39m \u001b[38;5;28mself\u001b[39m\u001b[38;5;241m.\u001b[39mtake(indexer)\n\u001b[0;32m   5785\u001b[0m \u001b[38;5;28;01mif\u001b[39;00m \u001b[38;5;28misinstance\u001b[39m(key, Index):\n\u001b[0;32m   5786\u001b[0m     \u001b[38;5;66;03m# GH 42790 - Preserve name from an Index\u001b[39;00m\n",
      "File \u001b[1;32m~\\anaconda3\\envs\\insurance-cross-sell-env\\lib\\site-packages\\pandas\\core\\indexes\\base.py:5842\u001b[0m, in \u001b[0;36mIndex._raise_if_missing\u001b[1;34m(self, key, indexer, axis_name)\u001b[0m\n\u001b[0;32m   5840\u001b[0m     \u001b[38;5;28;01mif\u001b[39;00m use_interval_msg:\n\u001b[0;32m   5841\u001b[0m         key \u001b[38;5;241m=\u001b[39m \u001b[38;5;28mlist\u001b[39m(key)\n\u001b[1;32m-> 5842\u001b[0m     \u001b[38;5;28;01mraise\u001b[39;00m \u001b[38;5;167;01mKeyError\u001b[39;00m(\u001b[38;5;124mf\u001b[39m\u001b[38;5;124m\"\u001b[39m\u001b[38;5;124mNone of [\u001b[39m\u001b[38;5;132;01m{\u001b[39;00mkey\u001b[38;5;132;01m}\u001b[39;00m\u001b[38;5;124m] are in the [\u001b[39m\u001b[38;5;132;01m{\u001b[39;00maxis_name\u001b[38;5;132;01m}\u001b[39;00m\u001b[38;5;124m]\u001b[39m\u001b[38;5;124m\"\u001b[39m)\n\u001b[0;32m   5844\u001b[0m not_found \u001b[38;5;241m=\u001b[39m \u001b[38;5;28mlist\u001b[39m(ensure_index(key)[missing_mask\u001b[38;5;241m.\u001b[39mnonzero()[\u001b[38;5;241m0\u001b[39m]]\u001b[38;5;241m.\u001b[39munique())\n\u001b[0;32m   5845\u001b[0m \u001b[38;5;28;01mraise\u001b[39;00m \u001b[38;5;167;01mKeyError\u001b[39;00m(\u001b[38;5;124mf\u001b[39m\u001b[38;5;124m\"\u001b[39m\u001b[38;5;132;01m{\u001b[39;00mnot_found\u001b[38;5;132;01m}\u001b[39;00m\u001b[38;5;124m not in index\u001b[39m\u001b[38;5;124m\"\u001b[39m)\n",
      "\u001b[1;31mKeyError\u001b[0m: \"None of [Index(['vehicle_age'], dtype='object')] are in the [columns]\""
     ]
    }
   ],
   "source": [
    "X_test = data_preparation(X_test,dict_preparation)"
   ]
  },
  {
   "cell_type": "code",
   "execution_count": 156,
   "id": "fbd120cb",
   "metadata": {
    "ExecuteTime": {
     "end_time": "2022-10-12T19:48:55.475263Z",
     "start_time": "2022-10-12T19:48:55.447338Z"
    }
   },
   "outputs": [
    {
     "data": {
      "text/html": [
       "<div>\n",
       "<style scoped>\n",
       "    .dataframe tbody tr th:only-of-type {\n",
       "        vertical-align: middle;\n",
       "    }\n",
       "\n",
       "    .dataframe tbody tr th {\n",
       "        vertical-align: top;\n",
       "    }\n",
       "\n",
       "    .dataframe thead th {\n",
       "        text-align: right;\n",
       "    }\n",
       "</style>\n",
       "<table border=\"1\" class=\"dataframe\">\n",
       "  <thead>\n",
       "    <tr style=\"text-align: right;\">\n",
       "      <th></th>\n",
       "      <th>id</th>\n",
       "      <th>gender</th>\n",
       "      <th>age</th>\n",
       "      <th>region_code</th>\n",
       "      <th>policy_sales_channel</th>\n",
       "      <th>driving_license</th>\n",
       "      <th>vehicle_damage</th>\n",
       "      <th>previously_insured</th>\n",
       "      <th>annual_premium</th>\n",
       "      <th>vintage</th>\n",
       "      <th>vehicle_age_bellow_1_year</th>\n",
       "      <th>vehicle_age_between_1_2_year</th>\n",
       "      <th>vehicle_age_over_2_years</th>\n",
       "    </tr>\n",
       "  </thead>\n",
       "  <tbody>\n",
       "    <tr>\n",
       "      <th>305933</th>\n",
       "      <td>158188</td>\n",
       "      <td>0.138703</td>\n",
       "      <td>0.200000</td>\n",
       "      <td>0.119017</td>\n",
       "      <td>0.353636</td>\n",
       "      <td>1</td>\n",
       "      <td>0.005278</td>\n",
       "      <td>1</td>\n",
       "      <td>0.292661</td>\n",
       "      <td>0.643599</td>\n",
       "      <td>1</td>\n",
       "      <td>0</td>\n",
       "      <td>0</td>\n",
       "    </tr>\n",
       "    <tr>\n",
       "      <th>305289</th>\n",
       "      <td>153161</td>\n",
       "      <td>0.104023</td>\n",
       "      <td>0.076923</td>\n",
       "      <td>0.092250</td>\n",
       "      <td>0.353636</td>\n",
       "      <td>1</td>\n",
       "      <td>0.238281</td>\n",
       "      <td>0</td>\n",
       "      <td>-0.038981</td>\n",
       "      <td>0.193772</td>\n",
       "      <td>1</td>\n",
       "      <td>0</td>\n",
       "      <td>0</td>\n",
       "    </tr>\n",
       "    <tr>\n",
       "      <th>321311</th>\n",
       "      <td>281207</td>\n",
       "      <td>0.104023</td>\n",
       "      <td>0.030769</td>\n",
       "      <td>0.073161</td>\n",
       "      <td>0.353636</td>\n",
       "      <td>1</td>\n",
       "      <td>0.005278</td>\n",
       "      <td>1</td>\n",
       "      <td>0.135168</td>\n",
       "      <td>0.325260</td>\n",
       "      <td>1</td>\n",
       "      <td>0</td>\n",
       "      <td>0</td>\n",
       "    </tr>\n",
       "    <tr>\n",
       "      <th>41501</th>\n",
       "      <td>331108</td>\n",
       "      <td>0.104023</td>\n",
       "      <td>0.123077</td>\n",
       "      <td>0.069775</td>\n",
       "      <td>0.353636</td>\n",
       "      <td>1</td>\n",
       "      <td>0.005278</td>\n",
       "      <td>1</td>\n",
       "      <td>-0.146394</td>\n",
       "      <td>0.103806</td>\n",
       "      <td>1</td>\n",
       "      <td>0</td>\n",
       "      <td>0</td>\n",
       "    </tr>\n",
       "    <tr>\n",
       "      <th>100959</th>\n",
       "      <td>43090</td>\n",
       "      <td>0.104023</td>\n",
       "      <td>0.261538</td>\n",
       "      <td>0.162234</td>\n",
       "      <td>0.208919</td>\n",
       "      <td>1</td>\n",
       "      <td>0.238281</td>\n",
       "      <td>0</td>\n",
       "      <td>0.104354</td>\n",
       "      <td>0.747405</td>\n",
       "      <td>0</td>\n",
       "      <td>1</td>\n",
       "      <td>0</td>\n",
       "    </tr>\n",
       "  </tbody>\n",
       "</table>\n",
       "</div>"
      ],
      "text/plain": [
       "            id    gender       age  region_code  policy_sales_channel  driving_license  vehicle_damage  previously_insured  annual_premium   vintage  vehicle_age_bellow_1_year  vehicle_age_between_1_2_year  vehicle_age_over_2_years\n",
       "305933  158188  0.138703  0.200000     0.119017              0.353636                1        0.005278                   1        0.292661  0.643599                          1                             0                         0\n",
       "305289  153161  0.104023  0.076923     0.092250              0.353636                1        0.238281                   0       -0.038981  0.193772                          1                             0                         0\n",
       "321311  281207  0.104023  0.030769     0.073161              0.353636                1        0.005278                   1        0.135168  0.325260                          1                             0                         0\n",
       "41501   331108  0.104023  0.123077     0.069775              0.353636                1        0.005278                   1       -0.146394  0.103806                          1                             0                         0\n",
       "100959   43090  0.104023  0.261538     0.162234              0.208919                1        0.238281                   0        0.104354  0.747405                          0                             1                         0"
      ]
     },
     "execution_count": 156,
     "metadata": {},
     "output_type": "execute_result"
    }
   ],
   "source": [
    "X_test.head()"
   ]
  },
  {
   "cell_type": "code",
   "execution_count": 157,
   "id": "452eb9c6",
   "metadata": {
    "ExecuteTime": {
     "end_time": "2022-10-12T19:49:10.236026Z",
     "start_time": "2022-10-12T19:48:55.479356Z"
    }
   },
   "outputs": [
    {
     "data": {
      "image/png": "[encoded data removed]",
      "text/plain": [
       "<Figure size 1152x360 with 2 Axes>"
      ]
     },
     "metadata": {
      "needs_background": "light"
     },
     "output_type": "display_data"
    }
   ],
   "source": [
    "# model definition\n",
    "xgb_model = xgb.XGBClassifier(n_estimators = 100)\n",
    "\n",
    "# model fit\n",
    "xgb_model.fit(x_training_full[cols_selected],y_training_full)\n",
    "\n",
    "# model predict\n",
    "yhat_xgb = xgb_model.predict_proba(X_test[cols_selected])\n",
    "\n",
    "# performance\n",
    "xgb_result = single_performance('XGBoost', X_test[cols_selected], Y_test,yhat_xgb)\n",
    "\n",
    "# plot\n",
    "fig, ax = plt.subplots(1,2,figsize=(16,5))\n",
    "\n",
    "# Accumulative Gain \n",
    "skplt.metrics.plot_cumulative_gain(Y_test,yhat_xgb,ax=ax[0])\n",
    "skplt.metrics.plot_lift_curve(Y_test,yhat_xgb,ax=ax[1]);"
   ]
  },
  {
   "cell_type": "code",
   "execution_count": null,
   "id": "7d88a698",
   "metadata": {},
   "outputs": [],
   "source": []
  },
  {
   "cell_type": "code",
   "execution_count": null,
   "id": "f76a1368",
   "metadata": {},
   "outputs": [],
   "source": []
  },
  {
   "cell_type": "code",
   "execution_count": null,
   "id": "c1da5779",
   "metadata": {},
   "outputs": [],
   "source": []
  }
 ],
 "metadata": {
  "kernelspec": {
   "display_name": "Python 3 (ipykernel)",
   "language": "python",
   "name": "python3"
  },
  "language_info": {
   "codemirror_mode": {
    "name": "ipython",
    "version": 3
   },
   "file_extension": ".py",
   "mimetype": "text/x-python",
   "name": "python",
   "nbconvert_exporter": "python",
   "pygments_lexer": "ipython3",
   "version": "3.9.12"
  }
 },
 "nbformat": 4,
 "nbformat_minor": 5
}

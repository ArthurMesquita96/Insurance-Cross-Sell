{
 "cells": [
  {
   "cell_type": "markdown",
   "id": "46c21508",
   "metadata": {},
   "source": [
    "# 0.0 Imports"
   ]
  },
  {
   "cell_type": "code",
   "execution_count": 1,
   "id": "b2dea543",
   "metadata": {
    "ExecuteTime": {
     "end_time": "2022-10-01T19:55:07.861002Z",
     "start_time": "2022-10-01T19:55:05.515172Z"
    }
   },
   "outputs": [
    {
     "name": "stderr",
     "output_type": "stream",
     "text": [
      "C:\\Users\\Notebook\\anaconda3\\envs\\insurance-cross-sell-env\\lib\\site-packages\\tqdm\\auto.py:22: TqdmWarning: IProgress not found. Please update jupyter and ipywidgets. See https://ipywidgets.readthedocs.io/en/stable/user_install.html\n",
      "  from .autonotebook import tqdm as notebook_tqdm\n"
     ]
    }
   ],
   "source": [
    "import numpy as np\n",
    "import pandas as pd\n",
    "import psycopg2 as pg\n",
    "import sweetviz as sv\n",
    "import seaborn as sns\n",
    "import scikitplot as skplt\n",
    "import warnings\n",
    "warnings.filterwarnings('ignore')\n",
    "\n",
    "from IPython.core.display import HTML\n",
    "from IPython.display import Image\n",
    "from matplotlib import pyplot as plt\n",
    "from sklearn import preprocessing as pp\n",
    "from sklearn import model_selection as ms\n",
    "from sklearn import ensemble as en\n",
    "from sklearn import neighbors as nh\n",
    "from sklearn import linear_model as lm"
   ]
  },
  {
   "cell_type": "markdown",
   "id": "3a60d078",
   "metadata": {},
   "source": [
    "## Helper Functions"
   ]
  },
  {
   "cell_type": "code",
   "execution_count": 2,
   "id": "c2c6dcee",
   "metadata": {
    "ExecuteTime": {
     "end_time": "2022-10-01T19:55:07.892140Z",
     "start_time": "2022-10-01T19:55:07.863460Z"
    }
   },
   "outputs": [
    {
     "name": "stdout",
     "output_type": "stream",
     "text": [
      "%pylab is deprecated, use %matplotlib inline and import the required libraries.\n",
      "Populating the interactive namespace from numpy and matplotlib\n"
     ]
    }
   ],
   "source": [
    "def pie_chart(data,att,title,legend_title):\n",
    "    \n",
    "    def data_detail(pct, allvalues):\n",
    "        absolute = int(pct/ 100.*np.sum(allvalues['response']))\n",
    "        return \"{:.0f}\\n({:.1f}%)\".format(absolute, pct)\n",
    "\n",
    "    wedges, texts, autotexts = plt.pie( data = data,\n",
    "                                       x = 'response',\n",
    "                                       autopct = lambda pct: data_detail(pct, data),\n",
    "                                       textprops = dict(color=\"w\"))\n",
    "    \n",
    "    plt.legend( wedges, list(['No', 'Yes']),\n",
    "              title = legend_title,\n",
    "              loc=\"center left\",\n",
    "              bbox_to_anchor = (1, 0, 0.5, 1))\n",
    "    plt.setp(autotexts, size=10, weight=\"bold\")\n",
    "    plt.title(title,fontsize = 15);\n",
    "    \n",
    "def jupyter_settings():\n",
    "    %matplotlib inline\n",
    "    %pylab inline\n",
    "#     plt.style.use( 'bmh' )\n",
    "#     plt.rcParams['figure.figsize'] = [25, 12]\n",
    "#     plt.rcParams['font.size'] = 24\n",
    "    display( HTML( '<style>.container { width:100% !important; }</style>') )\n",
    "    pd.options.display.max_columns = None\n",
    "    pd.options.display.max_rows = None\n",
    "    pd.set_option( 'display.expand_frame_repr', False )\n",
    "#     sns.set()\n",
    "    \n",
    "jupyter_settings()"
   ]
  },
  {
   "cell_type": "code",
   "execution_count": null,
   "id": "8abec6d9",
   "metadata": {},
   "outputs": [],
   "source": []
  },
  {
   "cell_type": "markdown",
   "id": "8ea7d93b",
   "metadata": {},
   "source": [
    "# 0.1 Load Dataset"
   ]
  },
  {
   "cell_type": "code",
   "execution_count": 3,
   "id": "08146c6b",
   "metadata": {
    "ExecuteTime": {
     "end_time": "2022-10-01T19:55:14.888038Z",
     "start_time": "2022-10-01T19:55:07.894386Z"
    }
   },
   "outputs": [
    {
     "data": {
      "text/html": [
       "<div>\n",
       "<style scoped>\n",
       "    .dataframe tbody tr th:only-of-type {\n",
       "        vertical-align: middle;\n",
       "    }\n",
       "\n",
       "    .dataframe tbody tr th {\n",
       "        vertical-align: top;\n",
       "    }\n",
       "\n",
       "    .dataframe thead th {\n",
       "        text-align: right;\n",
       "    }\n",
       "</style>\n",
       "<table border=\"1\" class=\"dataframe\">\n",
       "  <thead>\n",
       "    <tr style=\"text-align: right;\">\n",
       "      <th></th>\n",
       "      <th>id</th>\n",
       "      <th>gender</th>\n",
       "      <th>age</th>\n",
       "      <th>region_code</th>\n",
       "      <th>policy_sales_channel</th>\n",
       "      <th>id</th>\n",
       "      <th>driving_license</th>\n",
       "      <th>vehicle_age</th>\n",
       "      <th>vehicle_damage</th>\n",
       "      <th>id</th>\n",
       "      <th>previously_insured</th>\n",
       "      <th>annual_premium</th>\n",
       "      <th>vintage</th>\n",
       "      <th>response</th>\n",
       "    </tr>\n",
       "  </thead>\n",
       "  <tbody>\n",
       "    <tr>\n",
       "      <th>0</th>\n",
       "      <td>7</td>\n",
       "      <td>Male</td>\n",
       "      <td>23</td>\n",
       "      <td>11.0</td>\n",
       "      <td>152.0</td>\n",
       "      <td>7</td>\n",
       "      <td>1</td>\n",
       "      <td>&lt; 1 Year</td>\n",
       "      <td>Yes</td>\n",
       "      <td>7</td>\n",
       "      <td>0</td>\n",
       "      <td>23367.0</td>\n",
       "      <td>249</td>\n",
       "      <td>0</td>\n",
       "    </tr>\n",
       "    <tr>\n",
       "      <th>1</th>\n",
       "      <td>13</td>\n",
       "      <td>Female</td>\n",
       "      <td>41</td>\n",
       "      <td>15.0</td>\n",
       "      <td>14.0</td>\n",
       "      <td>13</td>\n",
       "      <td>1</td>\n",
       "      <td>1-2 Year</td>\n",
       "      <td>No</td>\n",
       "      <td>13</td>\n",
       "      <td>1</td>\n",
       "      <td>31409.0</td>\n",
       "      <td>221</td>\n",
       "      <td>0</td>\n",
       "    </tr>\n",
       "    <tr>\n",
       "      <th>2</th>\n",
       "      <td>18</td>\n",
       "      <td>Female</td>\n",
       "      <td>25</td>\n",
       "      <td>35.0</td>\n",
       "      <td>152.0</td>\n",
       "      <td>18</td>\n",
       "      <td>1</td>\n",
       "      <td>&lt; 1 Year</td>\n",
       "      <td>No</td>\n",
       "      <td>18</td>\n",
       "      <td>1</td>\n",
       "      <td>46622.0</td>\n",
       "      <td>299</td>\n",
       "      <td>0</td>\n",
       "    </tr>\n",
       "    <tr>\n",
       "      <th>3</th>\n",
       "      <td>31</td>\n",
       "      <td>Female</td>\n",
       "      <td>26</td>\n",
       "      <td>8.0</td>\n",
       "      <td>160.0</td>\n",
       "      <td>31</td>\n",
       "      <td>1</td>\n",
       "      <td>&lt; 1 Year</td>\n",
       "      <td>No</td>\n",
       "      <td>31</td>\n",
       "      <td>0</td>\n",
       "      <td>2630.0</td>\n",
       "      <td>136</td>\n",
       "      <td>0</td>\n",
       "    </tr>\n",
       "    <tr>\n",
       "      <th>4</th>\n",
       "      <td>39</td>\n",
       "      <td>Male</td>\n",
       "      <td>45</td>\n",
       "      <td>8.0</td>\n",
       "      <td>124.0</td>\n",
       "      <td>39</td>\n",
       "      <td>1</td>\n",
       "      <td>1-2 Year</td>\n",
       "      <td>Yes</td>\n",
       "      <td>39</td>\n",
       "      <td>0</td>\n",
       "      <td>42297.0</td>\n",
       "      <td>264</td>\n",
       "      <td>0</td>\n",
       "    </tr>\n",
       "  </tbody>\n",
       "</table>\n",
       "</div>"
      ],
      "text/plain": [
       "   id  gender  age  region_code  policy_sales_channel  id  driving_license vehicle_age vehicle_damage  id  previously_insured  annual_premium  vintage  response\n",
       "0   7    Male   23         11.0                 152.0   7                1    < 1 Year            Yes   7                   0         23367.0      249         0\n",
       "1  13  Female   41         15.0                  14.0  13                1    1-2 Year             No  13                   1         31409.0      221         0\n",
       "2  18  Female   25         35.0                 152.0  18                1    < 1 Year             No  18                   1         46622.0      299         0\n",
       "3  31  Female   26          8.0                 160.0  31                1    < 1 Year             No  31                   0          2630.0      136         0\n",
       "4  39    Male   45          8.0                 124.0  39                1    1-2 Year            Yes  39                   0         42297.0      264         0"
      ]
     },
     "execution_count": 3,
     "metadata": {},
     "output_type": "execute_result"
    }
   ],
   "source": [
    "# Credentials\n",
    "\n",
    "host = 'comunidade-ds-postgres.c50pcakiuwi3.us-east-1.rds.amazonaws.com'\n",
    "port = 5432\n",
    "database = 'comunidadedsdb'\n",
    "username = 'member'\n",
    "pwd =' cdspa'\n",
    "\n",
    "# Connection with Database\n",
    "conn_string = f'host={host} port={port} dbname={database} user={username} password={pwd}'\n",
    "conn = pg.connect(conn_string)\n",
    "\n",
    "# SQL Query\n",
    "query = '''\n",
    "    select * \n",
    "    from pa004.users u LEFT JOIN pa004.vehicle v ON (u.id = v.id)\n",
    "                       LEFT JOIN pa004.insurance i ON (u.id = i.id)\n",
    "'''\n",
    "\n",
    "df = pd.read_sql(query, conn)\n",
    "conn.close()\n",
    "df.head()"
   ]
  },
  {
   "cell_type": "code",
   "execution_count": 4,
   "id": "28fb7c12",
   "metadata": {
    "ExecuteTime": {
     "end_time": "2022-10-01T19:55:14.904112Z",
     "start_time": "2022-10-01T19:55:14.892029Z"
    }
   },
   "outputs": [
    {
     "name": "stdout",
     "output_type": "stream",
     "text": [
      "Rows: 381109\n",
      "Columns: 14\n"
     ]
    }
   ],
   "source": [
    "print('Rows: {}'.format(df.shape[0]))\n",
    "print('Columns: {}'.format(df.shape[1]))"
   ]
  },
  {
   "cell_type": "code",
   "execution_count": 5,
   "id": "5430828a",
   "metadata": {
    "ExecuteTime": {
     "end_time": "2022-10-01T19:55:14.980962Z",
     "start_time": "2022-10-01T19:55:14.904993Z"
    }
   },
   "outputs": [
    {
     "data": {
      "text/html": [
       "<div>\n",
       "<style scoped>\n",
       "    .dataframe tbody tr th:only-of-type {\n",
       "        vertical-align: middle;\n",
       "    }\n",
       "\n",
       "    .dataframe tbody tr th {\n",
       "        vertical-align: top;\n",
       "    }\n",
       "\n",
       "    .dataframe thead th {\n",
       "        text-align: right;\n",
       "    }\n",
       "</style>\n",
       "<table border=\"1\" class=\"dataframe\">\n",
       "  <thead>\n",
       "    <tr style=\"text-align: right;\">\n",
       "      <th></th>\n",
       "      <th>id</th>\n",
       "      <th>gender</th>\n",
       "      <th>age</th>\n",
       "      <th>region_code</th>\n",
       "      <th>policy_sales_channel</th>\n",
       "      <th>driving_license</th>\n",
       "      <th>vehicle_age</th>\n",
       "      <th>vehicle_damage</th>\n",
       "      <th>previously_insured</th>\n",
       "      <th>annual_premium</th>\n",
       "      <th>vintage</th>\n",
       "      <th>response</th>\n",
       "    </tr>\n",
       "  </thead>\n",
       "  <tbody>\n",
       "    <tr>\n",
       "      <th>117373</th>\n",
       "      <td>174927</td>\n",
       "      <td>Female</td>\n",
       "      <td>53</td>\n",
       "      <td>28.0</td>\n",
       "      <td>26.0</td>\n",
       "      <td>1</td>\n",
       "      <td>1-2 Year</td>\n",
       "      <td>Yes</td>\n",
       "      <td>0</td>\n",
       "      <td>32644.0</td>\n",
       "      <td>162</td>\n",
       "      <td>0</td>\n",
       "    </tr>\n",
       "    <tr>\n",
       "      <th>245696</th>\n",
       "      <td>58040</td>\n",
       "      <td>Male</td>\n",
       "      <td>21</td>\n",
       "      <td>8.0</td>\n",
       "      <td>160.0</td>\n",
       "      <td>1</td>\n",
       "      <td>&lt; 1 Year</td>\n",
       "      <td>No</td>\n",
       "      <td>0</td>\n",
       "      <td>30875.0</td>\n",
       "      <td>13</td>\n",
       "      <td>0</td>\n",
       "    </tr>\n",
       "    <tr>\n",
       "      <th>152469</th>\n",
       "      <td>75436</td>\n",
       "      <td>Female</td>\n",
       "      <td>48</td>\n",
       "      <td>38.0</td>\n",
       "      <td>124.0</td>\n",
       "      <td>1</td>\n",
       "      <td>1-2 Year</td>\n",
       "      <td>Yes</td>\n",
       "      <td>0</td>\n",
       "      <td>54053.0</td>\n",
       "      <td>187</td>\n",
       "      <td>0</td>\n",
       "    </tr>\n",
       "  </tbody>\n",
       "</table>\n",
       "</div>"
      ],
      "text/plain": [
       "            id  gender  age  region_code  policy_sales_channel  driving_license vehicle_age vehicle_damage  previously_insured  annual_premium  vintage  response\n",
       "117373  174927  Female   53         28.0                  26.0                1    1-2 Year            Yes                   0         32644.0      162         0\n",
       "245696   58040    Male   21          8.0                 160.0                1    < 1 Year             No                   0         30875.0       13         0\n",
       "152469   75436  Female   48         38.0                 124.0                1    1-2 Year            Yes                   0         54053.0      187         0"
      ]
     },
     "execution_count": 5,
     "metadata": {},
     "output_type": "execute_result"
    }
   ],
   "source": [
    "df_raw = df.loc[:,~df.columns.duplicated()]\n",
    "df_raw.sample(3)"
   ]
  },
  {
   "cell_type": "code",
   "execution_count": 6,
   "id": "9882884f",
   "metadata": {
    "ExecuteTime": {
     "end_time": "2022-10-01T19:55:14.997068Z",
     "start_time": "2022-10-01T19:55:14.983782Z"
    }
   },
   "outputs": [
    {
     "name": "stdout",
     "output_type": "stream",
     "text": [
      "Rows: 381109\n",
      "Columns: 12\n"
     ]
    }
   ],
   "source": [
    "print('Rows: {}'.format(df_raw.shape[0]))\n",
    "print('Columns: {}'.format(df_raw.shape[1]))"
   ]
  },
  {
   "cell_type": "markdown",
   "id": "e802babf",
   "metadata": {},
   "source": [
    "# 1.0 Data Description"
   ]
  },
  {
   "cell_type": "code",
   "execution_count": 7,
   "id": "0ecfc62f",
   "metadata": {
    "ExecuteTime": {
     "end_time": "2022-10-01T19:55:15.043478Z",
     "start_time": "2022-10-01T19:55:14.999027Z"
    }
   },
   "outputs": [],
   "source": [
    "df1 = df_raw.copy()"
   ]
  },
  {
   "cell_type": "markdown",
   "id": "501703cc",
   "metadata": {},
   "source": [
    "## 1.1 Data Dimension"
   ]
  },
  {
   "cell_type": "code",
   "execution_count": 8,
   "id": "fe1c2d7a",
   "metadata": {
    "ExecuteTime": {
     "end_time": "2022-10-01T19:55:15.059222Z",
     "start_time": "2022-10-01T19:55:15.046287Z"
    }
   },
   "outputs": [
    {
     "name": "stdout",
     "output_type": "stream",
     "text": [
      "Rows: 381109\n",
      "Columns: 12\n"
     ]
    }
   ],
   "source": [
    "print('Rows: {}'.format(df1.shape[0]))\n",
    "print('Columns: {}'.format(df1.shape[1]))"
   ]
  },
  {
   "cell_type": "markdown",
   "id": "82e7d5be",
   "metadata": {},
   "source": [
    "## 1.2 Data Types"
   ]
  },
  {
   "cell_type": "code",
   "execution_count": 9,
   "id": "02b161f8",
   "metadata": {
    "ExecuteTime": {
     "end_time": "2022-10-01T19:55:15.074294Z",
     "start_time": "2022-10-01T19:55:15.062214Z"
    }
   },
   "outputs": [
    {
     "data": {
      "text/plain": [
       "id                        int64\n",
       "gender                   object\n",
       "age                       int64\n",
       "region_code             float64\n",
       "policy_sales_channel    float64\n",
       "driving_license           int64\n",
       "vehicle_age              object\n",
       "vehicle_damage           object\n",
       "previously_insured        int64\n",
       "annual_premium          float64\n",
       "vintage                   int64\n",
       "response                  int64\n",
       "dtype: object"
      ]
     },
     "execution_count": 9,
     "metadata": {},
     "output_type": "execute_result"
    }
   ],
   "source": [
    "df1.dtypes"
   ]
  },
  {
   "cell_type": "markdown",
   "id": "1f9af3c0",
   "metadata": {},
   "source": [
    "## 1.3 Change Types"
   ]
  },
  {
   "cell_type": "code",
   "execution_count": 10,
   "id": "03d8d0e7",
   "metadata": {
    "ExecuteTime": {
     "end_time": "2022-10-01T19:55:15.106164Z",
     "start_time": "2022-10-01T19:55:15.079560Z"
    }
   },
   "outputs": [],
   "source": [
    "# region_code\n",
    "df1['region_code'] = df1['region_code'].astype('int64')\n",
    "\n",
    "# policy_sales_channel \n",
    "df1['policy_sales_channel'] = df1['policy_sales_channel'].astype('int64')"
   ]
  },
  {
   "cell_type": "code",
   "execution_count": 11,
   "id": "16a3008d",
   "metadata": {
    "ExecuteTime": {
     "end_time": "2022-10-01T19:55:15.121147Z",
     "start_time": "2022-10-01T19:55:15.108110Z"
    }
   },
   "outputs": [
    {
     "data": {
      "text/plain": [
       "id                        int64\n",
       "gender                   object\n",
       "age                       int64\n",
       "region_code               int64\n",
       "policy_sales_channel      int64\n",
       "driving_license           int64\n",
       "vehicle_age              object\n",
       "vehicle_damage           object\n",
       "previously_insured        int64\n",
       "annual_premium          float64\n",
       "vintage                   int64\n",
       "response                  int64\n",
       "dtype: object"
      ]
     },
     "execution_count": 11,
     "metadata": {},
     "output_type": "execute_result"
    }
   ],
   "source": [
    "df1.dtypes"
   ]
  },
  {
   "cell_type": "markdown",
   "id": "6dae747e",
   "metadata": {},
   "source": [
    "## 1.4 Check NA"
   ]
  },
  {
   "cell_type": "code",
   "execution_count": 12,
   "id": "84be6a06",
   "metadata": {
    "ExecuteTime": {
     "end_time": "2022-10-01T19:55:15.371019Z",
     "start_time": "2022-10-01T19:55:15.123052Z"
    }
   },
   "outputs": [
    {
     "data": {
      "text/plain": [
       "id                      0\n",
       "gender                  0\n",
       "age                     0\n",
       "region_code             0\n",
       "policy_sales_channel    0\n",
       "driving_license         0\n",
       "vehicle_age             0\n",
       "vehicle_damage          0\n",
       "previously_insured      0\n",
       "annual_premium          0\n",
       "vintage                 0\n",
       "response                0\n",
       "dtype: int64"
      ]
     },
     "execution_count": 12,
     "metadata": {},
     "output_type": "execute_result"
    }
   ],
   "source": [
    "df1.isna().sum()"
   ]
  },
  {
   "cell_type": "markdown",
   "id": "ddd9b367",
   "metadata": {},
   "source": [
    "## 1.5 Data Descriptive"
   ]
  },
  {
   "cell_type": "code",
   "execution_count": 13,
   "id": "0140dcf2",
   "metadata": {
    "ExecuteTime": {
     "end_time": "2022-10-01T19:55:15.383986Z",
     "start_time": "2022-10-01T19:55:15.373015Z"
    }
   },
   "outputs": [
    {
     "data": {
      "text/plain": [
       "Index(['id', 'gender', 'age', 'region_code', 'policy_sales_channel',\n",
       "       'driving_license', 'vehicle_age', 'vehicle_damage',\n",
       "       'previously_insured', 'annual_premium', 'vintage', 'response'],\n",
       "      dtype='object')"
      ]
     },
     "execution_count": 13,
     "metadata": {},
     "output_type": "execute_result"
    }
   ],
   "source": [
    "df1.columns"
   ]
  },
  {
   "cell_type": "code",
   "execution_count": 14,
   "id": "4ca971d2",
   "metadata": {
    "ExecuteTime": {
     "end_time": "2022-10-01T19:55:15.444860Z",
     "start_time": "2022-10-01T19:55:15.386981Z"
    }
   },
   "outputs": [],
   "source": [
    "num_attributes = df1[['age','annual_premium','vintage']]\n",
    "cat_attributes = df1[['gender','driving_license','vehicle_age','vehicle_damage','previously_insured','policy_sales_channel','region_code']]"
   ]
  },
  {
   "cell_type": "markdown",
   "id": "b3d4aef6",
   "metadata": {},
   "source": [
    "### 1.5.1 Numerical atributes"
   ]
  },
  {
   "cell_type": "code",
   "execution_count": 15,
   "id": "c9b14a86",
   "metadata": {
    "ExecuteTime": {
     "end_time": "2022-10-01T19:55:15.756815Z",
     "start_time": "2022-10-01T19:55:15.446817Z"
    }
   },
   "outputs": [
    {
     "data": {
      "text/html": [
       "<div>\n",
       "<style scoped>\n",
       "    .dataframe tbody tr th:only-of-type {\n",
       "        vertical-align: middle;\n",
       "    }\n",
       "\n",
       "    .dataframe tbody tr th {\n",
       "        vertical-align: top;\n",
       "    }\n",
       "\n",
       "    .dataframe thead th {\n",
       "        text-align: right;\n",
       "    }\n",
       "</style>\n",
       "<table border=\"1\" class=\"dataframe\">\n",
       "  <thead>\n",
       "    <tr style=\"text-align: right;\">\n",
       "      <th></th>\n",
       "      <th>attributes</th>\n",
       "      <th>min</th>\n",
       "      <th>max</th>\n",
       "      <th>range</th>\n",
       "      <th>mean</th>\n",
       "      <th>median</th>\n",
       "      <th>std</th>\n",
       "      <th>skew</th>\n",
       "      <th>kurtosis</th>\n",
       "    </tr>\n",
       "  </thead>\n",
       "  <tbody>\n",
       "    <tr>\n",
       "      <th>0</th>\n",
       "      <td>age</td>\n",
       "      <td>20.0</td>\n",
       "      <td>85.0</td>\n",
       "      <td>65.0</td>\n",
       "      <td>38.822584</td>\n",
       "      <td>38.822584</td>\n",
       "      <td>15.511591</td>\n",
       "      <td>0.672539</td>\n",
       "      <td>-0.565655</td>\n",
       "    </tr>\n",
       "    <tr>\n",
       "      <th>1</th>\n",
       "      <td>annual_premium</td>\n",
       "      <td>2630.0</td>\n",
       "      <td>540165.0</td>\n",
       "      <td>537535.0</td>\n",
       "      <td>30564.389581</td>\n",
       "      <td>30564.389581</td>\n",
       "      <td>17213.132474</td>\n",
       "      <td>1.766087</td>\n",
       "      <td>34.004569</td>\n",
       "    </tr>\n",
       "    <tr>\n",
       "      <th>2</th>\n",
       "      <td>vintage</td>\n",
       "      <td>10.0</td>\n",
       "      <td>299.0</td>\n",
       "      <td>289.0</td>\n",
       "      <td>154.347397</td>\n",
       "      <td>154.347397</td>\n",
       "      <td>83.671194</td>\n",
       "      <td>0.003030</td>\n",
       "      <td>-1.200688</td>\n",
       "    </tr>\n",
       "  </tbody>\n",
       "</table>\n",
       "</div>"
      ],
      "text/plain": [
       "       attributes     min       max     range          mean        median           std      skew   kurtosis\n",
       "0             age    20.0      85.0      65.0     38.822584     38.822584     15.511591  0.672539  -0.565655\n",
       "1  annual_premium  2630.0  540165.0  537535.0  30564.389581  30564.389581  17213.132474  1.766087  34.004569\n",
       "2         vintage    10.0     299.0     289.0    154.347397    154.347397     83.671194  0.003030  -1.200688"
      ]
     },
     "execution_count": 15,
     "metadata": {},
     "output_type": "execute_result"
    }
   ],
   "source": [
    "ct1 = pd.DataFrame(num_attributes.apply(np.mean)).T\n",
    "ct2 = pd.DataFrame(num_attributes.apply(np.mean)).T\n",
    "\n",
    "d1 = pd.DataFrame(num_attributes.apply(np.std)).T\n",
    "d2 = pd.DataFrame(num_attributes.apply(min)).T\n",
    "d3 = pd.DataFrame(num_attributes.apply(max)).T\n",
    "d4 = pd.DataFrame(num_attributes.apply(lambda x: x.max() - x.min())).T\n",
    "d5 = pd.DataFrame(num_attributes.apply(lambda x: x.skew())).T\n",
    "d6 = pd.DataFrame(num_attributes.apply(lambda x: x.kurtosis())).T\n",
    "\n",
    "m = pd.concat([d2, d3, d4, ct1, ct2, d1, d5, d6]).T.reset_index()\n",
    "m.columns = ['attributes', 'min', 'max','range','mean','median','std','skew','kurtosis']\n",
    "\n",
    "m"
   ]
  },
  {
   "cell_type": "markdown",
   "id": "51372f99",
   "metadata": {},
   "source": [
    "### 1.5.2 Categorical atributes"
   ]
  },
  {
   "cell_type": "code",
   "execution_count": 16,
   "id": "13bdd425",
   "metadata": {
    "ExecuteTime": {
     "end_time": "2022-10-01T19:55:16.034777Z",
     "start_time": "2022-10-01T19:55:15.758810Z"
    }
   },
   "outputs": [
    {
     "name": "stdout",
     "output_type": "stream",
     "text": [
      "gender: \n",
      "Number of categories: 2\n",
      "Categories: ['Female', 'Male']\n",
      "\n",
      "driving_license: \n",
      "Number of categories: 2\n",
      "Categories: [0, 1]\n",
      "\n",
      "vehicle_age: \n",
      "Number of categories: 3\n",
      "Categories: ['1-2 Year', '< 1 Year', '> 2 Years']\n",
      "\n",
      "vehicle_damage: \n",
      "Number of categories: 2\n",
      "Categories: ['No', 'Yes']\n",
      "\n",
      "previously_insured: \n",
      "Number of categories: 2\n",
      "Categories: [0, 1]\n",
      "\n",
      "policy_sales_channel: \n",
      "Number of categories: 155\n",
      "Categories: [1, 2, 3, 4, 6, 7, 8, 9, 10, 11, 12, 13, 14, 15, 16, 17, 18, 19, 20, 21, 22, 23, 24, 25, 26, 27, 28, 29, 30, 31, 32, 33, 34, 35, 36, 37, 38, 39, 40, 41, 42, 43, 44, 45, 46, 47, 48, 49, 50, 51, 52, 53, 54, 55, 56, 57, 58, 59, 60, 61, 62, 63, 64, 65, 66, 67, 68, 69, 70, 71, 73, 74, 75, 76, 78, 79, 80, 81, 82, 83, 84, 86, 87, 88, 89, 90, 91, 92, 93, 94, 95, 96, 97, 98, 99, 100, 101, 102, 103, 104, 105, 106, 107, 108, 109, 110, 111, 112, 113, 114, 115, 116, 117, 118, 119, 120, 121, 122, 123, 124, 125, 126, 127, 128, 129, 130, 131, 132, 133, 134, 135, 136, 137, 138, 139, 140, 143, 144, 145, 146, 147, 148, 149, 150, 151, 152, 153, 154, 155, 156, 157, 158, 159, 160, 163]\n",
      "\n",
      "region_code: \n",
      "Number of categories: 53\n",
      "Categories: [0, 1, 2, 3, 4, 5, 6, 7, 8, 9, 10, 11, 12, 13, 14, 15, 16, 17, 18, 19, 20, 21, 22, 23, 24, 25, 26, 27, 28, 29, 30, 31, 32, 33, 34, 35, 36, 37, 38, 39, 40, 41, 42, 43, 44, 45, 46, 47, 48, 49, 50, 51, 52]\n",
      "\n"
     ]
    }
   ],
   "source": [
    "for i in cat_attributes.columns:\n",
    "    print(f'{i}: \\nNumber of categories: {cat_attributes[i].unique().shape[0]}\\nCategories: {sorted(cat_attributes[i].unique())}\\n')"
   ]
  },
  {
   "cell_type": "markdown",
   "id": "ee72a599",
   "metadata": {},
   "source": [
    "# 2.0 Feature Engineering"
   ]
  },
  {
   "cell_type": "code",
   "execution_count": 17,
   "id": "08d88b62",
   "metadata": {
    "ExecuteTime": {
     "end_time": "2022-10-01T19:55:16.081528Z",
     "start_time": "2022-10-01T19:55:16.036647Z"
    }
   },
   "outputs": [],
   "source": [
    "df2 = df1.copy()"
   ]
  },
  {
   "cell_type": "code",
   "execution_count": 18,
   "id": "336536f0",
   "metadata": {
    "ExecuteTime": {
     "end_time": "2022-10-01T19:55:16.112685Z",
     "start_time": "2022-10-01T19:55:16.083521Z"
    }
   },
   "outputs": [
    {
     "data": {
      "image/png": "[encoded data removed]",
      "text/plain": [
       "<IPython.core.display.Image object>"
      ]
     },
     "execution_count": 18,
     "metadata": {},
     "output_type": "execute_result"
    }
   ],
   "source": [
    "Image('img/Vehicle_Insurance.png')"
   ]
  },
  {
   "cell_type": "markdown",
   "id": "de934468",
   "metadata": {},
   "source": [
    "## 2.1 Hyphotesis Mind Map"
   ]
  },
  {
   "cell_type": "markdown",
   "id": "7831d941",
   "metadata": {},
   "source": [
    "### 2.1.1 Customer's Hyphotesis\n",
    "\n",
    "1. Customers over 40 years old are 50% more interest in vehicle insurance"
   ]
  },
  {
   "cell_type": "markdown",
   "id": "5876f353",
   "metadata": {},
   "source": [
    "### 2.1.2 Vehicle's Hyphotesis\n",
    "\n",
    "1. Customer with a newer vehicle are 30% more interest in adquire the vericle insurance than customer with older cars"
   ]
  },
  {
   "cell_type": "markdown",
   "id": "36aabd8c",
   "metadata": {},
   "source": [
    "### 2.1.3 Company Relationship's Hyphotesis\n",
    "\n",
    "1. Customer with less than 30 days in relation with the company are 40% more interest in adquire the vehicle insurance"
   ]
  },
  {
   "cell_type": "markdown",
   "id": "877f65a1",
   "metadata": {},
   "source": [
    "## 2.2 Feature Criation"
   ]
  },
  {
   "cell_type": "code",
   "execution_count": 19,
   "id": "e0e55ce9",
   "metadata": {
    "ExecuteTime": {
     "end_time": "2022-10-01T19:55:16.158681Z",
     "start_time": "2022-10-01T19:55:16.120745Z"
    }
   },
   "outputs": [
    {
     "data": {
      "text/html": [
       "<div>\n",
       "<style scoped>\n",
       "    .dataframe tbody tr th:only-of-type {\n",
       "        vertical-align: middle;\n",
       "    }\n",
       "\n",
       "    .dataframe tbody tr th {\n",
       "        vertical-align: top;\n",
       "    }\n",
       "\n",
       "    .dataframe thead th {\n",
       "        text-align: right;\n",
       "    }\n",
       "</style>\n",
       "<table border=\"1\" class=\"dataframe\">\n",
       "  <thead>\n",
       "    <tr style=\"text-align: right;\">\n",
       "      <th></th>\n",
       "      <th>id</th>\n",
       "      <th>gender</th>\n",
       "      <th>age</th>\n",
       "      <th>region_code</th>\n",
       "      <th>policy_sales_channel</th>\n",
       "      <th>driving_license</th>\n",
       "      <th>vehicle_age</th>\n",
       "      <th>vehicle_damage</th>\n",
       "      <th>previously_insured</th>\n",
       "      <th>annual_premium</th>\n",
       "      <th>vintage</th>\n",
       "      <th>response</th>\n",
       "    </tr>\n",
       "  </thead>\n",
       "  <tbody>\n",
       "    <tr>\n",
       "      <th>0</th>\n",
       "      <td>7</td>\n",
       "      <td>Male</td>\n",
       "      <td>23</td>\n",
       "      <td>11</td>\n",
       "      <td>152</td>\n",
       "      <td>1</td>\n",
       "      <td>&lt; 1 Year</td>\n",
       "      <td>Yes</td>\n",
       "      <td>0</td>\n",
       "      <td>23367.0</td>\n",
       "      <td>249</td>\n",
       "      <td>0</td>\n",
       "    </tr>\n",
       "    <tr>\n",
       "      <th>1</th>\n",
       "      <td>13</td>\n",
       "      <td>Female</td>\n",
       "      <td>41</td>\n",
       "      <td>15</td>\n",
       "      <td>14</td>\n",
       "      <td>1</td>\n",
       "      <td>1-2 Year</td>\n",
       "      <td>No</td>\n",
       "      <td>1</td>\n",
       "      <td>31409.0</td>\n",
       "      <td>221</td>\n",
       "      <td>0</td>\n",
       "    </tr>\n",
       "    <tr>\n",
       "      <th>2</th>\n",
       "      <td>18</td>\n",
       "      <td>Female</td>\n",
       "      <td>25</td>\n",
       "      <td>35</td>\n",
       "      <td>152</td>\n",
       "      <td>1</td>\n",
       "      <td>&lt; 1 Year</td>\n",
       "      <td>No</td>\n",
       "      <td>1</td>\n",
       "      <td>46622.0</td>\n",
       "      <td>299</td>\n",
       "      <td>0</td>\n",
       "    </tr>\n",
       "    <tr>\n",
       "      <th>3</th>\n",
       "      <td>31</td>\n",
       "      <td>Female</td>\n",
       "      <td>26</td>\n",
       "      <td>8</td>\n",
       "      <td>160</td>\n",
       "      <td>1</td>\n",
       "      <td>&lt; 1 Year</td>\n",
       "      <td>No</td>\n",
       "      <td>0</td>\n",
       "      <td>2630.0</td>\n",
       "      <td>136</td>\n",
       "      <td>0</td>\n",
       "    </tr>\n",
       "    <tr>\n",
       "      <th>4</th>\n",
       "      <td>39</td>\n",
       "      <td>Male</td>\n",
       "      <td>45</td>\n",
       "      <td>8</td>\n",
       "      <td>124</td>\n",
       "      <td>1</td>\n",
       "      <td>1-2 Year</td>\n",
       "      <td>Yes</td>\n",
       "      <td>0</td>\n",
       "      <td>42297.0</td>\n",
       "      <td>264</td>\n",
       "      <td>0</td>\n",
       "    </tr>\n",
       "  </tbody>\n",
       "</table>\n",
       "</div>"
      ],
      "text/plain": [
       "   id  gender  age  region_code  policy_sales_channel  driving_license vehicle_age vehicle_damage  previously_insured  annual_premium  vintage  response\n",
       "0   7    Male   23           11                   152                1    < 1 Year            Yes                   0         23367.0      249         0\n",
       "1  13  Female   41           15                    14                1    1-2 Year             No                   1         31409.0      221         0\n",
       "2  18  Female   25           35                   152                1    < 1 Year             No                   1         46622.0      299         0\n",
       "3  31  Female   26            8                   160                1    < 1 Year             No                   0          2630.0      136         0\n",
       "4  39    Male   45            8                   124                1    1-2 Year            Yes                   0         42297.0      264         0"
      ]
     },
     "execution_count": 19,
     "metadata": {},
     "output_type": "execute_result"
    }
   ],
   "source": [
    "df2.head()"
   ]
  },
  {
   "cell_type": "code",
   "execution_count": 20,
   "id": "5f7aa2ee",
   "metadata": {
    "ExecuteTime": {
     "end_time": "2022-10-01T19:55:16.360047Z",
     "start_time": "2022-10-01T19:55:16.159563Z"
    }
   },
   "outputs": [],
   "source": [
    "# vericle_age\n",
    "df2['vehicle_age'] = df2['vehicle_age'].apply(lambda x: 'bellow_1_year' if x == '< 1 Year' else \n",
    "                                                     'between_1_2_year' if x == '1-2 Year' else \n",
    "                                                     'over_2_years')\n",
    "# vehicle damage\n",
    "df2['vehicle_damage'] = df2['vehicle_damage'].map({'Yes':1,'No':0}) "
   ]
  },
  {
   "cell_type": "code",
   "execution_count": 21,
   "id": "70c4a400",
   "metadata": {
    "ExecuteTime": {
     "end_time": "2022-10-01T19:55:16.375694Z",
     "start_time": "2022-10-01T19:55:16.362760Z"
    }
   },
   "outputs": [
    {
     "data": {
      "text/html": [
       "<div>\n",
       "<style scoped>\n",
       "    .dataframe tbody tr th:only-of-type {\n",
       "        vertical-align: middle;\n",
       "    }\n",
       "\n",
       "    .dataframe tbody tr th {\n",
       "        vertical-align: top;\n",
       "    }\n",
       "\n",
       "    .dataframe thead th {\n",
       "        text-align: right;\n",
       "    }\n",
       "</style>\n",
       "<table border=\"1\" class=\"dataframe\">\n",
       "  <thead>\n",
       "    <tr style=\"text-align: right;\">\n",
       "      <th></th>\n",
       "      <th>id</th>\n",
       "      <th>gender</th>\n",
       "      <th>age</th>\n",
       "      <th>region_code</th>\n",
       "      <th>policy_sales_channel</th>\n",
       "      <th>driving_license</th>\n",
       "      <th>vehicle_age</th>\n",
       "      <th>vehicle_damage</th>\n",
       "      <th>previously_insured</th>\n",
       "      <th>annual_premium</th>\n",
       "      <th>vintage</th>\n",
       "      <th>response</th>\n",
       "    </tr>\n",
       "  </thead>\n",
       "  <tbody>\n",
       "    <tr>\n",
       "      <th>0</th>\n",
       "      <td>7</td>\n",
       "      <td>Male</td>\n",
       "      <td>23</td>\n",
       "      <td>11</td>\n",
       "      <td>152</td>\n",
       "      <td>1</td>\n",
       "      <td>bellow_1_year</td>\n",
       "      <td>1</td>\n",
       "      <td>0</td>\n",
       "      <td>23367.0</td>\n",
       "      <td>249</td>\n",
       "      <td>0</td>\n",
       "    </tr>\n",
       "    <tr>\n",
       "      <th>1</th>\n",
       "      <td>13</td>\n",
       "      <td>Female</td>\n",
       "      <td>41</td>\n",
       "      <td>15</td>\n",
       "      <td>14</td>\n",
       "      <td>1</td>\n",
       "      <td>between_1_2_year</td>\n",
       "      <td>0</td>\n",
       "      <td>1</td>\n",
       "      <td>31409.0</td>\n",
       "      <td>221</td>\n",
       "      <td>0</td>\n",
       "    </tr>\n",
       "    <tr>\n",
       "      <th>2</th>\n",
       "      <td>18</td>\n",
       "      <td>Female</td>\n",
       "      <td>25</td>\n",
       "      <td>35</td>\n",
       "      <td>152</td>\n",
       "      <td>1</td>\n",
       "      <td>bellow_1_year</td>\n",
       "      <td>0</td>\n",
       "      <td>1</td>\n",
       "      <td>46622.0</td>\n",
       "      <td>299</td>\n",
       "      <td>0</td>\n",
       "    </tr>\n",
       "    <tr>\n",
       "      <th>3</th>\n",
       "      <td>31</td>\n",
       "      <td>Female</td>\n",
       "      <td>26</td>\n",
       "      <td>8</td>\n",
       "      <td>160</td>\n",
       "      <td>1</td>\n",
       "      <td>bellow_1_year</td>\n",
       "      <td>0</td>\n",
       "      <td>0</td>\n",
       "      <td>2630.0</td>\n",
       "      <td>136</td>\n",
       "      <td>0</td>\n",
       "    </tr>\n",
       "    <tr>\n",
       "      <th>4</th>\n",
       "      <td>39</td>\n",
       "      <td>Male</td>\n",
       "      <td>45</td>\n",
       "      <td>8</td>\n",
       "      <td>124</td>\n",
       "      <td>1</td>\n",
       "      <td>between_1_2_year</td>\n",
       "      <td>1</td>\n",
       "      <td>0</td>\n",
       "      <td>42297.0</td>\n",
       "      <td>264</td>\n",
       "      <td>0</td>\n",
       "    </tr>\n",
       "  </tbody>\n",
       "</table>\n",
       "</div>"
      ],
      "text/plain": [
       "   id  gender  age  region_code  policy_sales_channel  driving_license       vehicle_age  vehicle_damage  previously_insured  annual_premium  vintage  response\n",
       "0   7    Male   23           11                   152                1     bellow_1_year               1                   0         23367.0      249         0\n",
       "1  13  Female   41           15                    14                1  between_1_2_year               0                   1         31409.0      221         0\n",
       "2  18  Female   25           35                   152                1     bellow_1_year               0                   1         46622.0      299         0\n",
       "3  31  Female   26            8                   160                1     bellow_1_year               0                   0          2630.0      136         0\n",
       "4  39    Male   45            8                   124                1  between_1_2_year               1                   0         42297.0      264         0"
      ]
     },
     "execution_count": 21,
     "metadata": {},
     "output_type": "execute_result"
    }
   ],
   "source": [
    "df2.head()"
   ]
  },
  {
   "cell_type": "markdown",
   "id": "693272c8",
   "metadata": {},
   "source": [
    "# 3.0 Data Filtering"
   ]
  },
  {
   "cell_type": "code",
   "execution_count": 22,
   "id": "995e9e62",
   "metadata": {
    "ExecuteTime": {
     "end_time": "2022-10-01T19:55:16.452607Z",
     "start_time": "2022-10-01T19:55:16.377689Z"
    }
   },
   "outputs": [],
   "source": [
    "df3 = df2.copy()"
   ]
  },
  {
   "cell_type": "markdown",
   "id": "e314a9b5",
   "metadata": {},
   "source": [
    "# 4.0 Exploratory Data Analysis"
   ]
  },
  {
   "cell_type": "code",
   "execution_count": 23,
   "id": "d353005b",
   "metadata": {
    "ExecuteTime": {
     "end_time": "2022-10-01T19:55:16.483553Z",
     "start_time": "2022-10-01T19:55:16.455632Z"
    }
   },
   "outputs": [],
   "source": [
    "df4 = df3.copy()"
   ]
  },
  {
   "cell_type": "code",
   "execution_count": 24,
   "id": "419211bf",
   "metadata": {
    "ExecuteTime": {
     "end_time": "2022-10-01T19:55:16.498806Z",
     "start_time": "2022-10-01T19:55:16.486514Z"
    }
   },
   "outputs": [],
   "source": [
    "# report = sv.analyze(df4)\n",
    "# report.show_html()"
   ]
  },
  {
   "cell_type": "markdown",
   "id": "52ff783e",
   "metadata": {},
   "source": [
    "## 4.1. Univariate Analysis"
   ]
  },
  {
   "cell_type": "markdown",
   "id": "a6322090",
   "metadata": {},
   "source": [
    "### 4.1.1 Numerial Variables"
   ]
  },
  {
   "cell_type": "markdown",
   "id": "61e7910f",
   "metadata": {
    "hide_input": true
   },
   "source": [
    "#### 4.1.1.1 Age\n",
    "\n",
    "- Although people between 20 and 30 years old are not usually interest, people between 40 and 50 years old are offen intereset"
   ]
  },
  {
   "cell_type": "code",
   "execution_count": 25,
   "id": "84d72d1c",
   "metadata": {
    "ExecuteTime": {
     "end_time": "2022-10-01T19:55:16.778388Z",
     "start_time": "2022-10-01T19:55:16.500508Z"
    },
    "cell_style": "center",
    "hide_input": true,
    "scrolled": true
   },
   "outputs": [
    {
     "data": {
      "image/png": "[encoded data removed]",
      "text/plain": [
       "<Figure size 720x360 with 1 Axes>"
      ]
     },
     "metadata": {
      "needs_background": "light"
     },
     "output_type": "display_data"
    }
   ],
   "source": [
    "# 'age'\n",
    "fig = plt.figure(figsize=(10,5))\n",
    "sns.boxplot(x='response',y='age',data=df4);"
   ]
  },
  {
   "cell_type": "markdown",
   "id": "b5ea7b41",
   "metadata": {
    "cell_style": "split",
    "heading_collapsed": true
   },
   "source": [
    "##### Not Interesed"
   ]
  },
  {
   "cell_type": "markdown",
   "id": "fd1c6447",
   "metadata": {
    "cell_style": "split"
   },
   "source": [
    "##### Interessed"
   ]
  },
  {
   "cell_type": "code",
   "execution_count": 26,
   "id": "f1301b98",
   "metadata": {
    "ExecuteTime": {
     "end_time": "2022-10-01T19:55:17.382473Z",
     "start_time": "2022-10-01T19:55:16.782291Z"
    },
    "cell_style": "split",
    "hide_input": true,
    "scrolled": true
   },
   "outputs": [
    {
     "data": {
      "text/plain": [
       "<AxesSubplot:xlabel='age', ylabel='Count'>"
      ]
     },
     "execution_count": 26,
     "metadata": {},
     "output_type": "execute_result"
    },
    {
     "data": {
      "image/png": "[encoded data removed]",
      "text/plain": [
       "<Figure size 432x288 with 1 Axes>"
      ]
     },
     "metadata": {
      "needs_background": "light"
     },
     "output_type": "display_data"
    }
   ],
   "source": [
    "aux00 = df4.loc[df4['response'] == 0, 'age']\n",
    "sns.histplot(aux00)"
   ]
  },
  {
   "cell_type": "code",
   "execution_count": 27,
   "id": "5d3606cb",
   "metadata": {
    "ExecuteTime": {
     "end_time": "2022-10-01T19:55:17.803852Z",
     "start_time": "2022-10-01T19:55:17.384468Z"
    },
    "cell_style": "split",
    "hide_input": true,
    "scrolled": true
   },
   "outputs": [
    {
     "data": {
      "text/plain": [
       "<AxesSubplot:xlabel='age', ylabel='Count'>"
      ]
     },
     "execution_count": 27,
     "metadata": {},
     "output_type": "execute_result"
    },
    {
     "data": {
      "image/png": "[encoded data removed]",
      "text/plain": [
       "<Figure size 432x288 with 1 Axes>"
      ]
     },
     "metadata": {
      "needs_background": "light"
     },
     "output_type": "display_data"
    }
   ],
   "source": [
    "aux00 = df4.loc[df4['response'] == 1, 'age']\n",
    "sns.histplot(aux00)"
   ]
  },
  {
   "cell_type": "markdown",
   "id": "f5c5d202",
   "metadata": {},
   "source": [
    "#### 4.1.1.2 Annual Premium\n",
    "\n",
    "- The distribuiton of annual premium are very similuar to interest and not interest people. Only the scale of this distribution are diferent"
   ]
  },
  {
   "cell_type": "code",
   "execution_count": 28,
   "id": "bd3ddf07",
   "metadata": {
    "ExecuteTime": {
     "end_time": "2022-10-01T19:55:19.976484Z",
     "start_time": "2022-10-01T19:55:17.810683Z"
    },
    "cell_style": "center",
    "hide_input": true
   },
   "outputs": [
    {
     "data": {
      "image/png": "[encoded data removed]",
      "text/plain": [
       "<Figure size 432x288 with 1 Axes>"
      ]
     },
     "metadata": {
      "needs_background": "light"
     },
     "output_type": "display_data"
    }
   ],
   "source": [
    "# 'annual_premium'\n",
    "aux = df4[(df4['annual_premium'] < 80000) & (df4['annual_premium'] > 10000)]\n",
    "sns.boxplot(x='response',y='annual_premium',data=aux);"
   ]
  },
  {
   "cell_type": "markdown",
   "id": "c441613e",
   "metadata": {
    "cell_style": "split"
   },
   "source": [
    "##### Interesed"
   ]
  },
  {
   "cell_type": "markdown",
   "id": "cecb8719",
   "metadata": {
    "cell_style": "split"
   },
   "source": [
    "##### Not interessed"
   ]
  },
  {
   "cell_type": "code",
   "execution_count": 29,
   "id": "53f10675",
   "metadata": {
    "ExecuteTime": {
     "end_time": "2022-10-01T19:55:20.721537Z",
     "start_time": "2022-10-01T19:55:19.979072Z"
    },
    "cell_style": "split",
    "hide_input": true,
    "scrolled": true
   },
   "outputs": [
    {
     "data": {
      "text/plain": [
       "<AxesSubplot:xlabel='annual_premium', ylabel='Count'>"
      ]
     },
     "execution_count": 29,
     "metadata": {},
     "output_type": "execute_result"
    },
    {
     "data": {
      "image/png": "[encoded data removed]",
      "text/plain": [
       "<Figure size 432x288 with 1 Axes>"
      ]
     },
     "metadata": {
      "needs_background": "light"
     },
     "output_type": "display_data"
    }
   ],
   "source": [
    "aux00 = aux.loc[aux['response'] == 0, 'annual_premium']\n",
    "sns.histplot(aux00)"
   ]
  },
  {
   "cell_type": "code",
   "execution_count": 30,
   "id": "f8f07f8c",
   "metadata": {
    "ExecuteTime": {
     "end_time": "2022-10-01T19:55:21.093265Z",
     "start_time": "2022-10-01T19:55:20.724456Z"
    },
    "cell_style": "split",
    "hide_input": true,
    "scrolled": false
   },
   "outputs": [
    {
     "data": {
      "text/plain": [
       "<AxesSubplot:xlabel='annual_premium', ylabel='Count'>"
      ]
     },
     "execution_count": 30,
     "metadata": {},
     "output_type": "execute_result"
    },
    {
     "data": {
      "image/png": "[encoded data removed]",
      "text/plain": [
       "<Figure size 432x288 with 1 Axes>"
      ]
     },
     "metadata": {
      "needs_background": "light"
     },
     "output_type": "display_data"
    }
   ],
   "source": [
    "aux00 = aux.loc[aux['response'] == 1, 'annual_premium']\n",
    "sns.histplot(aux00)"
   ]
  },
  {
   "cell_type": "markdown",
   "id": "b51b7c92",
   "metadata": {
    "cell_style": "center",
    "hide_input": true
   },
   "source": [
    "#### 4.1.1.3 Vintage\n",
    "\n",
    "- The vintage (days that the customer is related with the company) is uniform distribuited"
   ]
  },
  {
   "cell_type": "code",
   "execution_count": 31,
   "id": "1930aba4",
   "metadata": {
    "ExecuteTime": {
     "end_time": "2022-10-01T19:55:21.295228Z",
     "start_time": "2022-10-01T19:55:21.095226Z"
    }
   },
   "outputs": [
    {
     "data": {
      "image/png": "[encoded data removed]",
      "text/plain": [
       "<Figure size 432x288 with 1 Axes>"
      ]
     },
     "metadata": {
      "needs_background": "light"
     },
     "output_type": "display_data"
    }
   ],
   "source": [
    "# 'annual_premium'\n",
    "sns.boxplot(x='response',y='vintage',data=df4);"
   ]
  },
  {
   "cell_type": "markdown",
   "id": "3e277675",
   "metadata": {
    "ExecuteTime": {
     "end_time": "2022-10-01T18:26:08.387532Z",
     "start_time": "2022-10-01T18:26:08.380283Z"
    },
    "cell_style": "split"
   },
   "source": [
    "##### Not intereset"
   ]
  },
  {
   "cell_type": "markdown",
   "id": "91b8e762",
   "metadata": {
    "ExecuteTime": {
     "end_time": "2022-10-01T18:26:08.387532Z",
     "start_time": "2022-10-01T18:26:08.380283Z"
    },
    "cell_style": "split"
   },
   "source": [
    "##### Intereset"
   ]
  },
  {
   "cell_type": "code",
   "execution_count": 32,
   "id": "1f5044bb",
   "metadata": {
    "ExecuteTime": {
     "end_time": "2022-10-01T19:55:21.776596Z",
     "start_time": "2022-10-01T19:55:21.297142Z"
    },
    "cell_style": "split",
    "scrolled": true
   },
   "outputs": [
    {
     "data": {
      "text/plain": [
       "<AxesSubplot:xlabel='vintage', ylabel='Count'>"
      ]
     },
     "execution_count": 32,
     "metadata": {},
     "output_type": "execute_result"
    },
    {
     "data": {
      "image/png": "[encoded data removed]",
      "text/plain": [
       "<Figure size 432x288 with 1 Axes>"
      ]
     },
     "metadata": {
      "needs_background": "light"
     },
     "output_type": "display_data"
    }
   ],
   "source": [
    "aux00 = df4.loc[df4['response'] == 0, 'vintage']\n",
    "sns.histplot(aux00)"
   ]
  },
  {
   "cell_type": "code",
   "execution_count": 33,
   "id": "5dfaf939",
   "metadata": {
    "ExecuteTime": {
     "end_time": "2022-10-01T19:55:22.055543Z",
     "start_time": "2022-10-01T19:55:21.778591Z"
    },
    "cell_style": "split",
    "scrolled": false
   },
   "outputs": [
    {
     "data": {
      "text/plain": [
       "<AxesSubplot:xlabel='vintage', ylabel='Count'>"
      ]
     },
     "execution_count": 33,
     "metadata": {},
     "output_type": "execute_result"
    },
    {
     "data": {
      "image/png": "[encoded data removed]",
      "text/plain": [
       "<Figure size 432x288 with 1 Axes>"
      ]
     },
     "metadata": {
      "needs_background": "light"
     },
     "output_type": "display_data"
    }
   ],
   "source": [
    "aux00 = df4.loc[df4['response'] == 1, 'vintage']\n",
    "sns.histplot(aux00)"
   ]
  },
  {
   "cell_type": "markdown",
   "id": "a477f32d",
   "metadata": {},
   "source": [
    "### 4.1.2 Categorical Variables"
   ]
  },
  {
   "cell_type": "markdown",
   "id": "26b785f6",
   "metadata": {},
   "source": [
    "#### 4.1.2.1 Gender\n",
    "\n",
    "- Mens represents 54% of the elevible customer but represents 61% of whole car insurance interest"
   ]
  },
  {
   "cell_type": "code",
   "execution_count": 34,
   "id": "258b1125",
   "metadata": {
    "ExecuteTime": {
     "end_time": "2022-10-01T19:55:22.256112Z",
     "start_time": "2022-10-01T19:55:22.058458Z"
    },
    "cell_style": "split",
    "hide_input": true
   },
   "outputs": [
    {
     "data": {
      "image/png": "[encoded data removed]",
      "text/plain": [
       "<Figure size 432x288 with 1 Axes>"
      ]
     },
     "metadata": {},
     "output_type": "display_data"
    }
   ],
   "source": [
    "aux2 = pd.DataFrame(df4[['gender','response']].groupby('gender').count()).reset_index()\n",
    "pie_chart(aux2,'gender',\"Gender Distribution\",'Gender')"
   ]
  },
  {
   "cell_type": "code",
   "execution_count": 35,
   "id": "02b0f24d",
   "metadata": {
    "ExecuteTime": {
     "end_time": "2022-10-01T19:55:22.442497Z",
     "start_time": "2022-10-01T19:55:22.258073Z"
    },
    "cell_style": "split",
    "hide_input": true
   },
   "outputs": [
    {
     "data": {
      "image/png": "[encoded data removed]",
      "text/plain": [
       "<Figure size 432x288 with 1 Axes>"
      ]
     },
     "metadata": {},
     "output_type": "display_data"
    }
   ],
   "source": [
    "# pie plot\n",
    "# ax = plt.figure(figsize=(15,6))\n",
    "aux2 = pd.DataFrame(df4[['gender','response']].groupby('gender').sum()).reset_index()\n",
    "pie_chart(aux2,'gender',\"Gender Interest\",'Gender')"
   ]
  },
  {
   "cell_type": "markdown",
   "id": "9994f01b",
   "metadata": {
    "hide_input": true
   },
   "source": [
    "#### 4.1.2.2 Driving License\n",
    "\n",
    "- The majority people has driving license"
   ]
  },
  {
   "cell_type": "code",
   "execution_count": 36,
   "id": "c15d61af",
   "metadata": {
    "ExecuteTime": {
     "end_time": "2022-10-01T19:55:22.628046Z",
     "start_time": "2022-10-01T19:55:22.444587Z"
    },
    "cell_style": "split",
    "hide_input": true,
    "scrolled": true
   },
   "outputs": [
    {
     "data": {
      "image/png": "[encoded data removed]",
      "text/plain": [
       "<Figure size 432x288 with 1 Axes>"
      ]
     },
     "metadata": {
      "needs_background": "light"
     },
     "output_type": "display_data"
    }
   ],
   "source": [
    "aux1 = df4[['driving_license','response']].groupby('driving_license').count().reset_index()\n",
    "g = sns.barplot(x = 'driving_license', y = 'response', data = aux1)\n",
    "g.set_title('Count Of Driving License',fontsize=15)\n",
    "\n",
    "# incluindo labels nas barras\n",
    "for i in g.containers:\n",
    "    g.bar_label(i, color='black', label_type= 'center',fontsize='medium',fmt='%.0f')\n",
    "    g.bar_label(i, color='black', label_type= 'center',fontsize='medium',fmt='%.0f',)"
   ]
  },
  {
   "cell_type": "code",
   "execution_count": 37,
   "id": "b09860ae",
   "metadata": {
    "ExecuteTime": {
     "end_time": "2022-10-01T19:55:22.766720Z",
     "start_time": "2022-10-01T19:55:22.630914Z"
    },
    "cell_style": "split",
    "hide_input": true
   },
   "outputs": [
    {
     "data": {
      "image/png": "[encoded data removed]",
      "text/plain": [
       "<Figure size 432x288 with 1 Axes>"
      ]
     },
     "metadata": {},
     "output_type": "display_data"
    }
   ],
   "source": [
    "# pie plot\n",
    "aux1 = pd.DataFrame(df4[['driving_license','response']].groupby('driving_license').sum()).reset_index()\n",
    "pie_chart(aux1,'driving_license',\"Driving License Interest\",'Driving License')"
   ]
  },
  {
   "cell_type": "markdown",
   "id": "4a9cffcc",
   "metadata": {
    "cell_style": "center",
    "hide_input": false
   },
   "source": [
    "#### 4.1.2.3 Region Code\n",
    "\n",
    "- No region code has a significant majority of interest"
   ]
  },
  {
   "cell_type": "code",
   "execution_count": 38,
   "id": "ad8a2810",
   "metadata": {
    "ExecuteTime": {
     "end_time": "2022-10-01T19:55:25.290970Z",
     "start_time": "2022-10-01T19:55:22.768546Z"
    },
    "cell_style": "center",
    "hide_input": true
   },
   "outputs": [
    {
     "data": {
      "image/png": "[encoded data removed]",
      "text/plain": [
       "<Figure size 1440x360 with 1 Axes>"
      ]
     },
     "metadata": {
      "needs_background": "light"
     },
     "output_type": "display_data"
    }
   ],
   "source": [
    "df_grouped = df4[[\"region_code\", \"response\"]].groupby('region_code').value_counts(normalize=True).unstack('response')\n",
    "df_grouped.plot.bar(stacked=True,figsize=(20,5));\n",
    "plt.title('Interest by Region Code',fontsize=15);"
   ]
  },
  {
   "cell_type": "markdown",
   "id": "3f9928eb",
   "metadata": {
    "hide_input": true
   },
   "source": [
    "#### 4.1.2.4 Previously Insured\n",
    "\n",
    "- Although the similar number of people previously and not previously car insured, the people that haven't previoulsly insurance are the most interested"
   ]
  },
  {
   "cell_type": "code",
   "execution_count": 39,
   "id": "5d63019d",
   "metadata": {
    "ExecuteTime": {
     "end_time": "2022-10-01T19:55:25.430095Z",
     "start_time": "2022-10-01T19:55:25.292056Z"
    },
    "cell_style": "split",
    "hide_input": true
   },
   "outputs": [
    {
     "data": {
      "image/png": "[encoded data removed]",
      "text/plain": [
       "<Figure size 432x288 with 1 Axes>"
      ]
     },
     "metadata": {
      "needs_background": "light"
     },
     "output_type": "display_data"
    }
   ],
   "source": [
    "aux1 = df4[['previously_insured','response']].groupby('previously_insured').count().reset_index()\n",
    "g = sns.barplot(x = 'previously_insured', y = 'response', data = aux1)\n",
    "g.set_title('Count of Previously Insured People',fontsize=15)\n",
    "\n",
    "# incluindo labels nas barras\n",
    "for i in g.containers:\n",
    "    g.bar_label(i, color='white', label_type= 'center',fontsize='medium',fmt='%.0f')"
   ]
  },
  {
   "cell_type": "code",
   "execution_count": 40,
   "id": "4592b2f2",
   "metadata": {
    "ExecuteTime": {
     "end_time": "2022-10-01T19:55:25.537990Z",
     "start_time": "2022-10-01T19:55:25.432091Z"
    },
    "cell_style": "split",
    "hide_input": true
   },
   "outputs": [
    {
     "data": {
      "image/png": "[encoded data removed]",
      "text/plain": [
       "<Figure size 432x288 with 1 Axes>"
      ]
     },
     "metadata": {},
     "output_type": "display_data"
    }
   ],
   "source": [
    "aux1 = pd.DataFrame(df4[['previously_insured','response']].groupby('previously_insured').sum()).reset_index()\n",
    "pie_chart(aux1,'previously_insured',\"Previously Insured Interest\",'Previousy')"
   ]
  },
  {
   "cell_type": "markdown",
   "id": "1f5af6c6",
   "metadata": {},
   "source": [
    "#### 4.1.2.5 Vericle Age\n",
    "\n",
    "- THe majority of people has cars bellow 2 years old, but the more interested people has cars over 2 years"
   ]
  },
  {
   "cell_type": "code",
   "execution_count": 41,
   "id": "a627f3c2",
   "metadata": {
    "ExecuteTime": {
     "end_time": "2022-10-01T19:55:25.708248Z",
     "start_time": "2022-10-01T19:55:25.539802Z"
    },
    "cell_style": "split",
    "hide_input": true
   },
   "outputs": [
    {
     "data": {
      "image/png": "[encoded data removed]",
      "text/plain": [
       "<Figure size 432x288 with 1 Axes>"
      ]
     },
     "metadata": {
      "needs_background": "light"
     },
     "output_type": "display_data"
    }
   ],
   "source": [
    "aux1 = df4[[\"vehicle_age\", \"response\"]].groupby('vehicle_age').count().reset_index()\n",
    "g = sns.barplot(x = 'vehicle_age', y = 'response', data = aux1)\n",
    "g.set_title('Count Of Vehicle Age',fontsize=15)\n",
    "\n",
    "# incluindo labels nas barras\n",
    "for i in g.containers:\n",
    "    g.bar_label(i, color='white', label_type= 'center',fontsize='medium',fmt='%.0f')"
   ]
  },
  {
   "cell_type": "code",
   "execution_count": 42,
   "id": "40d64f52",
   "metadata": {
    "ExecuteTime": {
     "end_time": "2022-10-01T19:55:27.152865Z",
     "start_time": "2022-10-01T19:55:25.710240Z"
    },
    "cell_style": "split",
    "hide_input": true
   },
   "outputs": [
    {
     "data": {
      "image/png": "[encoded data removed]",
      "text/plain": [
       "<Figure size 720x360 with 1 Axes>"
      ]
     },
     "metadata": {
      "needs_background": "light"
     },
     "output_type": "display_data"
    }
   ],
   "source": [
    "# 'vehicle_age'\n",
    "df_grouped = df4[[\"vehicle_age\", \"response\"]].groupby('vehicle_age').value_counts(normalize=True).unstack('response')\n",
    "g = df_grouped.plot.bar(stacked=True,figsize=(10,5));\n",
    "\n",
    "for i in g.containers:\n",
    "    g.bar_label(i, color='white', label_type= 'center',fontsize='x-large',fmt='%.2f')"
   ]
  },
  {
   "cell_type": "markdown",
   "id": "c1a04ed8",
   "metadata": {},
   "source": [
    "#### 4.1.2.6 Policy Sales Channel\n",
    "\n",
    "- Although the quantity diference of sales channel, no channel has the majority of the interest people"
   ]
  },
  {
   "cell_type": "code",
   "execution_count": 43,
   "id": "f9d537ff",
   "metadata": {
    "ExecuteTime": {
     "end_time": "2022-10-01T19:55:27.183356Z",
     "start_time": "2022-10-01T19:55:27.155844Z"
    },
    "hide_input": true
   },
   "outputs": [],
   "source": [
    "# policy_sales_channel\n",
    "aux0 = df4[['policy_sales_channel','response']].groupby('policy_sales_channel').sum().reset_index()\n",
    "aux1 = aux0[aux0['response'] > 40.0]### 4.1.6 Previously Insured"
   ]
  },
  {
   "cell_type": "code",
   "execution_count": 44,
   "id": "0c882242",
   "metadata": {
    "ExecuteTime": {
     "end_time": "2022-10-01T19:55:29.836855Z",
     "start_time": "2022-10-01T19:55:27.185329Z"
    },
    "hide_input": true
   },
   "outputs": [
    {
     "data": {
      "image/png": "[encoded data removed]",
      "text/plain": [
       "<Figure size 1440x360 with 1 Axes>"
      ]
     },
     "metadata": {
      "needs_background": "light"
     },
     "output_type": "display_data"
    }
   ],
   "source": [
    "aux = df4[[\"policy_sales_channel\", \"response\"]].groupby('policy_sales_channel').sum().reset_index()\n",
    "aux = aux[aux['response'] > 40]\n",
    "\n",
    "# 'policy_sales_channel'\n",
    "aux2 = df4[df4['policy_sales_channel'].isin(aux['policy_sales_channel'])]\n",
    "df_grouped = aux2[[\"policy_sales_channel\", \"response\"]].groupby('policy_sales_channel').value_counts(normalize=True).unstack('response')\n",
    "df_grouped.plot.bar(stacked=True,figsize=(20,5));\n",
    "plt.title('Interest by Sales Channel',fontsize=15);"
   ]
  },
  {
   "cell_type": "code",
   "execution_count": 45,
   "id": "4c908574",
   "metadata": {
    "ExecuteTime": {
     "end_time": "2022-10-01T19:55:30.301875Z",
     "start_time": "2022-10-01T19:55:29.839031Z"
    },
    "hide_input": true
   },
   "outputs": [
    {
     "data": {
      "image/png": "[encoded data removed]",
      "text/plain": [
       "<Figure size 1440x360 with 1 Axes>"
      ]
     },
     "metadata": {
      "needs_background": "light"
     },
     "output_type": "display_data"
    }
   ],
   "source": [
    "fig = plt.figure(figsize=(20,5))\n",
    "aux = df4[[\"policy_sales_channel\", \"response\"]].groupby('policy_sales_channel').sum().reset_index()\n",
    "aux = aux[aux['response'] > 40]\n",
    "\n",
    "sns.barplot(data=aux,x='policy_sales_channel',y='response');\n",
    "plt.title('Count of Sales Channel',fontsize=15);"
   ]
  },
  {
   "cell_type": "markdown",
   "id": "c46516d2",
   "metadata": {
    "hide_input": true
   },
   "source": [
    "#### 4.1.2.7 Vehicle Damage\n",
    "\n",
    "- Although tha simular number of damage and not damage vehicles, people the are more interest has a vehicle damage in the past"
   ]
  },
  {
   "cell_type": "code",
   "execution_count": 46,
   "id": "22b484e2",
   "metadata": {
    "ExecuteTime": {
     "end_time": "2022-10-01T19:55:30.455651Z",
     "start_time": "2022-10-01T19:55:30.303838Z"
    },
    "cell_style": "split",
    "hide_input": true,
    "scrolled": true
   },
   "outputs": [
    {
     "data": {
      "image/png": "[encoded data removed]",
      "text/plain": [
       "<Figure size 432x288 with 1 Axes>"
      ]
     },
     "metadata": {
      "needs_background": "light"
     },
     "output_type": "display_data"
    }
   ],
   "source": [
    "# 'vehicle_damage'\n",
    "aux1 = df4[['vehicle_damage','response']].groupby('vehicle_damage').count().reset_index()\n",
    "g = sns.barplot(x = 'vehicle_damage', y = 'response', data = aux1)\n",
    "g.set_title('Count per Vehicle Damage')\n",
    "\n",
    "# incluindo labels nas barras\n",
    "for i in g.containers:\n",
    "    g.bar_label(i, color='white', label_type= 'center',fontsize='medium',fmt='%.2f')"
   ]
  },
  {
   "cell_type": "code",
   "execution_count": 47,
   "id": "d9af14f4",
   "metadata": {
    "ExecuteTime": {
     "end_time": "2022-10-01T19:55:30.596693Z",
     "start_time": "2022-10-01T19:55:30.457202Z"
    },
    "cell_style": "split",
    "hide_input": true,
    "scrolled": true
   },
   "outputs": [
    {
     "data": {
      "image/png": "[encoded data removed]",
      "text/plain": [
       "<Figure size 432x288 with 1 Axes>"
      ]
     },
     "metadata": {},
     "output_type": "display_data"
    }
   ],
   "source": [
    "# pie plot\n",
    "aux1 = pd.DataFrame(df4[['vehicle_damage','response']].groupby('vehicle_damage').sum()).reset_index()\n",
    "pie_chart(aux1,'vehicle_damage',\"Interest in Vehicle Damage\",'Vehicle Damage')"
   ]
  },
  {
   "cell_type": "markdown",
   "id": "51b048b1",
   "metadata": {},
   "source": [
    "## 4.2. Bivariate Analysis"
   ]
  },
  {
   "cell_type": "markdown",
   "id": "0c59198d",
   "metadata": {},
   "source": [
    "### H1. Customers over 40 years old are 50% more interest in vehicle insurance\n",
    "\n",
    "- **False**, customer over 40 years old are 48% more interest in vehicle insurance than others"
   ]
  },
  {
   "cell_type": "code",
   "execution_count": 81,
   "id": "f0905644",
   "metadata": {
    "ExecuteTime": {
     "end_time": "2022-10-01T20:14:40.724545Z",
     "start_time": "2022-10-01T20:14:40.458166Z"
    },
    "cell_style": "split",
    "hide_input": true,
    "run_control": {
     "marked": true
    }
   },
   "outputs": [
    {
     "data": {
      "image/png": "[encoded data removed]",
      "text/plain": [
       "<Figure size 720x432 with 1 Axes>"
      ]
     },
     "metadata": {
      "needs_background": "light"
     },
     "output_type": "display_data"
    }
   ],
   "source": [
    "aux = df4[['age','response']].copy()\n",
    "aux['old'] = df4['age'].apply(lambda x: '+ 40 years' if x > 40 else '- 40 years')\n",
    "aux = aux[['old','response']].groupby('old').sum().reset_index().rename(columns={'response':'interest'})\n",
    "\n",
    "fig = plt.figure(figsize=(10,6))\n",
    "g = sns.barplot(x='old', y='interest', data=aux)\n",
    "\n",
    "for i in g.containers:\n",
    "    g.bar_label(i, color='white', label_type= 'center',fontsize='x-large',fmt='%.0f')"
   ]
  },
  {
   "cell_type": "code",
   "execution_count": 82,
   "id": "3aab1c29",
   "metadata": {
    "ExecuteTime": {
     "end_time": "2022-10-01T20:14:54.597822Z",
     "start_time": "2022-10-01T20:14:54.580518Z"
    },
    "cell_style": "split",
    "hide_input": true
   },
   "outputs": [
    {
     "data": {
      "text/html": [
       "<div>\n",
       "<style scoped>\n",
       "    .dataframe tbody tr th:only-of-type {\n",
       "        vertical-align: middle;\n",
       "    }\n",
       "\n",
       "    .dataframe tbody tr th {\n",
       "        vertical-align: top;\n",
       "    }\n",
       "\n",
       "    .dataframe thead th {\n",
       "        text-align: right;\n",
       "    }\n",
       "</style>\n",
       "<table border=\"1\" class=\"dataframe\">\n",
       "  <thead>\n",
       "    <tr style=\"text-align: right;\">\n",
       "      <th></th>\n",
       "      <th>old</th>\n",
       "      <th>interest</th>\n",
       "      <th>perc</th>\n",
       "      <th>diff</th>\n",
       "    </tr>\n",
       "  </thead>\n",
       "  <tbody>\n",
       "    <tr>\n",
       "      <th>0</th>\n",
       "      <td>+ 40 years</td>\n",
       "      <td>27930</td>\n",
       "      <td>59.79%</td>\n",
       "      <td>NaN</td>\n",
       "    </tr>\n",
       "    <tr>\n",
       "      <th>1</th>\n",
       "      <td>- 40 years</td>\n",
       "      <td>18780</td>\n",
       "      <td>40.21%</td>\n",
       "      <td>48.72</td>\n",
       "    </tr>\n",
       "  </tbody>\n",
       "</table>\n",
       "</div>"
      ],
      "text/plain": [
       "          old  interest    perc   diff\n",
       "0  + 40 years     27930  59.79%    NaN\n",
       "1  - 40 years     18780  40.21%  48.72"
      ]
     },
     "execution_count": 82,
     "metadata": {},
     "output_type": "execute_result"
    }
   ],
   "source": [
    "aux['perc'] = (round(aux['interest']/aux['interest'].sum()*100,2)).astype(str) + '%'\n",
    "aux['diff'] = aux['interest'].rolling(window=2).apply(lambda x: round((x.iloc[0])*100/x.iloc[1]-100,2))\n",
    "aux"
   ]
  },
  {
   "cell_type": "markdown",
   "id": "0d2fee70",
   "metadata": {},
   "source": [
    "### H2. Customer with a newer vehicle are 30% more interest in adquire the vericle insurance than customer with older cars\n",
    "\n",
    "- **False**, customer with newer vehicle are 81% less interest in adquive the insurance"
   ]
  },
  {
   "cell_type": "code",
   "execution_count": 92,
   "id": "b3d4fb5b",
   "metadata": {
    "ExecuteTime": {
     "end_time": "2022-10-01T20:23:03.827898Z",
     "start_time": "2022-10-01T20:23:03.519461Z"
    },
    "cell_style": "split",
    "hide_input": true
   },
   "outputs": [
    {
     "data": {
      "image/png": "[encoded data removed]",
      "text/plain": [
       "<Figure size 720x432 with 1 Axes>"
      ]
     },
     "metadata": {
      "needs_background": "light"
     },
     "output_type": "display_data"
    }
   ],
   "source": [
    "aux = df4[['vehicle_age','response']].copy()\n",
    "aux['vehicle_age'] = aux['vehicle_age'].apply(lambda x: 'new vehicle' if x == 'bellow_1_year' else 'old_vehicle')\n",
    "aux = aux.groupby('vehicle_age').sum().reset_index().rename(columns={'response':'interest'})\n",
    "\n",
    "fig = plt.figure(figsize=(10,6))\n",
    "g = sns.barplot(x='vehicle_age', y='interest', data=aux)\n",
    "\n",
    "for i in g.containers:\n",
    "    g.bar_label(i, color='white', label_type= 'center',fontsize='x-large',fmt='%.0f')"
   ]
  },
  {
   "cell_type": "code",
   "execution_count": 93,
   "id": "9c3112fe",
   "metadata": {
    "ExecuteTime": {
     "end_time": "2022-10-01T20:23:04.092637Z",
     "start_time": "2022-10-01T20:23:04.075622Z"
    },
    "cell_style": "split",
    "hide_input": true
   },
   "outputs": [
    {
     "data": {
      "text/html": [
       "<div>\n",
       "<style scoped>\n",
       "    .dataframe tbody tr th:only-of-type {\n",
       "        vertical-align: middle;\n",
       "    }\n",
       "\n",
       "    .dataframe tbody tr th {\n",
       "        vertical-align: top;\n",
       "    }\n",
       "\n",
       "    .dataframe thead th {\n",
       "        text-align: right;\n",
       "    }\n",
       "</style>\n",
       "<table border=\"1\" class=\"dataframe\">\n",
       "  <thead>\n",
       "    <tr style=\"text-align: right;\">\n",
       "      <th></th>\n",
       "      <th>vehicle_age</th>\n",
       "      <th>interest</th>\n",
       "      <th>perc</th>\n",
       "      <th>diff</th>\n",
       "    </tr>\n",
       "  </thead>\n",
       "  <tbody>\n",
       "    <tr>\n",
       "      <th>0</th>\n",
       "      <td>new vehicle</td>\n",
       "      <td>7202</td>\n",
       "      <td>15.42%</td>\n",
       "      <td>NaN</td>\n",
       "    </tr>\n",
       "    <tr>\n",
       "      <th>1</th>\n",
       "      <td>old_vehicle</td>\n",
       "      <td>39508</td>\n",
       "      <td>84.58%</td>\n",
       "      <td>-81.77</td>\n",
       "    </tr>\n",
       "  </tbody>\n",
       "</table>\n",
       "</div>"
      ],
      "text/plain": [
       "   vehicle_age  interest    perc   diff\n",
       "0  new vehicle      7202  15.42%    NaN\n",
       "1  old_vehicle     39508  84.58% -81.77"
      ]
     },
     "execution_count": 93,
     "metadata": {},
     "output_type": "execute_result"
    }
   ],
   "source": [
    "aux['perc'] = (round(aux['interest']/aux['interest'].sum()*100,2)).astype(str) + '%'\n",
    "aux['diff'] = aux['interest'].rolling(window=2).apply(lambda x: round((x.iloc[0])*100/x.iloc[1]-100,2))\n",
    "aux"
   ]
  },
  {
   "cell_type": "markdown",
   "id": "3d37e9df",
   "metadata": {},
   "source": [
    "### H3. Customer with more days in relation with the company are more interest in adquire the vehicle insurance\n",
    "\n",
    "- **False**, as longer as the customer relationship with the company, the lower is the interest"
   ]
  },
  {
   "cell_type": "code",
   "execution_count": 100,
   "id": "cdcd4bb8",
   "metadata": {
    "ExecuteTime": {
     "end_time": "2022-10-01T20:45:30.834076Z",
     "start_time": "2022-10-01T20:45:30.498979Z"
    },
    "hide_input": true
   },
   "outputs": [
    {
     "data": {
      "image/png": "[encoded data removed]",
      "text/plain": [
       "<Figure size 720x432 with 1 Axes>"
      ]
     },
     "metadata": {
      "needs_background": "light"
     },
     "output_type": "display_data"
    }
   ],
   "source": [
    "aux = df4[['vintage','response']].copy()\n",
    "aux = aux.groupby('vintage').sum().reset_index().rename(columns={'response':'interest'})\n",
    "\n",
    "fig = plt.figure(figsize=(10,6))\n",
    "sns.regplot(x='vintage', y='interest',data=aux);\n",
    "plt.xticks(rotation=90);\n",
    "plt.title('Tendence of Sales Per Promotion Time',fontsize=15)\n",
    "plt.tight_layout()"
   ]
  },
  {
   "cell_type": "markdown",
   "id": "91f8c53e",
   "metadata": {},
   "source": [
    "# 5.0 Data Preparation"
   ]
  },
  {
   "cell_type": "code",
   "execution_count": 49,
   "id": "a4596316",
   "metadata": {
    "ExecuteTime": {
     "end_time": "2022-10-01T19:53:00.826230Z",
     "start_time": "2022-10-01T19:53:00.797969Z"
    }
   },
   "outputs": [],
   "source": [
    "df5 = df4.copy()"
   ]
  },
  {
   "cell_type": "code",
   "execution_count": 50,
   "id": "a287aa21",
   "metadata": {
    "ExecuteTime": {
     "end_time": "2022-10-01T19:53:01.075631Z",
     "start_time": "2022-10-01T19:53:00.827478Z"
    }
   },
   "outputs": [],
   "source": [
    "X = df4.drop('response',axis=1)\n",
    "y = df4['response'].copy()\n",
    "\n",
    "x_train, x_validation, y_train, y_validation = ms.train_test_split(X, y, test_size=0.2)\n",
    "\n",
    "df5 = pd.concat([x_train, y_train], axis=1)"
   ]
  },
  {
   "cell_type": "markdown",
   "id": "927bfe38",
   "metadata": {},
   "source": [
    "## 5.1 Standardization"
   ]
  },
  {
   "cell_type": "code",
   "execution_count": 51,
   "id": "0f596374",
   "metadata": {
    "ExecuteTime": {
     "end_time": "2022-10-01T19:53:01.168304Z",
     "start_time": "2022-10-01T19:53:01.079654Z"
    }
   },
   "outputs": [],
   "source": [
    "ss = pp.StandardScaler()\n",
    "\n",
    "## annual_premium\n",
    "df5['annual_premium'] = ss.fit_transform(df5[['annual_premium']].values)"
   ]
  },
  {
   "cell_type": "markdown",
   "id": "ff3be51a",
   "metadata": {},
   "source": [
    "## 5.2 Rescaling"
   ]
  },
  {
   "cell_type": "code",
   "execution_count": 52,
   "id": "06b631ba",
   "metadata": {
    "ExecuteTime": {
     "end_time": "2022-10-01T19:53:01.230657Z",
     "start_time": "2022-10-01T19:53:01.171812Z"
    }
   },
   "outputs": [],
   "source": [
    "mms_age = pp.MinMaxScaler()\n",
    "mms_vintage = pp.MinMaxScaler()\n",
    "\n",
    "## age\n",
    "df5['age'] = mms_age.fit_transform( df5[['age']].values )\n",
    "\n",
    "## vintage\n",
    "df5['vintage'] = mms_age.fit_transform( df5[['vintage']].values )"
   ]
  },
  {
   "cell_type": "markdown",
   "id": "5505997c",
   "metadata": {},
   "source": [
    "## 5.3 Encoder"
   ]
  },
  {
   "cell_type": "code",
   "execution_count": 53,
   "id": "5238f781",
   "metadata": {
    "ExecuteTime": {
     "end_time": "2022-10-01T19:53:01.617050Z",
     "start_time": "2022-10-01T19:53:01.233647Z"
    }
   },
   "outputs": [],
   "source": [
    "# gender - One Hot Encoding / Target Encoding\n",
    "target_encode_gender = df5.groupby('gender')['response'].mean()\n",
    "df5.loc[:,'gender'] = df5['gender'].map(target_encode_gender)\n",
    "\n",
    "## region_code - Frequency Enconding / Target Enconding / Weighted Target Encoding\n",
    "target_encode_region_code = df5.groupby('region_code')['response'].mean()\n",
    "df5.loc[:,'region_code'] = df5['region_code'].map(target_encode_region_code)\n",
    "\n",
    "## vehicle_age - One Hot Enconding / Ordinal Enconding / Frequency Enconding\n",
    "df5 = pd.get_dummies(df5, prefix='vehicle_age',columns=['vehicle_age'])\n",
    "\n",
    "## vehicle_damage\n",
    "\n",
    "## policy_sales_channel - Target Enconding / Frequency Encoding\n",
    "fe_policy_sales_channel = df5.groupby('policy_sales_channel').size()/len(df5)\n",
    "df5.loc[:,'policy_sales_channel'] = df5['policy_sales_channel'].map(fe_policy_sales_channel)"
   ]
  },
  {
   "cell_type": "code",
   "execution_count": 54,
   "id": "9782d776",
   "metadata": {
    "ExecuteTime": {
     "end_time": "2022-10-01T19:53:02.266956Z",
     "start_time": "2022-10-01T19:53:01.619171Z"
    }
   },
   "outputs": [
    {
     "ename": "NameError",
     "evalue": "name 'x_val' is not defined",
     "output_type": "error",
     "traceback": [
      "\u001b[1;31m---------------------------------------------------------------------------\u001b[0m",
      "\u001b[1;31mNameError\u001b[0m                                 Traceback (most recent call last)",
      "Input \u001b[1;32mIn [54]\u001b[0m, in \u001b[0;36m<cell line: 1>\u001b[1;34m()\u001b[0m\n\u001b[1;32m----> 1\u001b[0m \u001b[43mx_val\u001b[49m\n",
      "\u001b[1;31mNameError\u001b[0m: name 'x_val' is not defined"
     ]
    }
   ],
   "source": [
    "x_val"
   ]
  },
  {
   "cell_type": "markdown",
   "id": "6bd2be18",
   "metadata": {},
   "source": [
    "## 5.4 Validation Preparation"
   ]
  },
  {
   "cell_type": "code",
   "execution_count": null,
   "id": "36a445fc",
   "metadata": {
    "ExecuteTime": {
     "end_time": "2022-10-01T19:53:02.268927Z",
     "start_time": "2022-10-01T19:53:02.268927Z"
    }
   },
   "outputs": [],
   "source": [
    "# gender\n",
    "x_validation.loc[:,'gender'] = x_validation.loc[:,'gender'].map(target_encode_gender)\n",
    "\n",
    "x_validation.loc[:,'annual_premium'] = ss.fit_transform(x_validation[['annual_premium']].values)\n",
    "\n",
    "# age\n",
    "x_validation.loc[:,'age'] = mms_age.fit_transform(x_validation[['age']].values)\n",
    "\n",
    "# region_code\n",
    "x_validation.loc[:,'region_code'] = x_validation.loc[:,'region_code'].map(target_encode_region_code)\n",
    "\n",
    "# vehicle_damage\n",
    "x_validation = pd.get_dummies(x_validation, prefix = 'vehicle_age',columns=['vehicle_age'])\n",
    "\n",
    "# annual_premium\n",
    "x_validation.loc[:,'policy_sales_channel'] = x_validation['policy_sales_channel'].map(fe_policy_sales_channel)\n",
    "\n",
    "# vintage\n",
    "x_validation.loc[:, 'vintage'] = mms_vintage.fit_transform(x_validation[['vintage']].values)\n",
    "\n",
    "# fillna\n",
    "x_validation = x_validation.fillna(0)"
   ]
  },
  {
   "cell_type": "code",
   "execution_count": null,
   "id": "ecfae931",
   "metadata": {
    "ExecuteTime": {
     "end_time": "2022-10-01T19:53:02.270267Z",
     "start_time": "2022-10-01T19:53:02.270267Z"
    }
   },
   "outputs": [],
   "source": [
    "x_validation"
   ]
  },
  {
   "cell_type": "markdown",
   "id": "d1714c11",
   "metadata": {},
   "source": [
    "# 6.0 Feature Selection"
   ]
  },
  {
   "cell_type": "markdown",
   "id": "2ae80f3f",
   "metadata": {},
   "source": [
    "## 6.1 Feature Importance"
   ]
  },
  {
   "cell_type": "code",
   "execution_count": 127,
   "id": "d5f4b9a7",
   "metadata": {
    "ExecuteTime": {
     "end_time": "2022-09-25T19:45:33.850059Z",
     "start_time": "2022-09-25T19:44:56.992445Z"
    }
   },
   "outputs": [
    {
     "name": "stdout",
     "output_type": "stream",
     "text": [
      "Feature ranking\n"
     ]
    },
    {
     "data": {
      "text/html": [
       "<div>\n",
       "<style scoped>\n",
       "    .dataframe tbody tr th:only-of-type {\n",
       "        vertical-align: middle;\n",
       "    }\n",
       "\n",
       "    .dataframe tbody tr th {\n",
       "        vertical-align: top;\n",
       "    }\n",
       "\n",
       "    .dataframe thead th {\n",
       "        text-align: right;\n",
       "    }\n",
       "</style>\n",
       "<table border=\"1\" class=\"dataframe\">\n",
       "  <thead>\n",
       "    <tr style=\"text-align: right;\">\n",
       "      <th></th>\n",
       "      <th>feature</th>\n",
       "      <th>importance</th>\n",
       "    </tr>\n",
       "  </thead>\n",
       "  <tbody>\n",
       "    <tr>\n",
       "      <th>0</th>\n",
       "      <td>gender</td>\n",
       "      <td>0.004943</td>\n",
       "    </tr>\n",
       "    <tr>\n",
       "      <th>0</th>\n",
       "      <td>age</td>\n",
       "      <td>0.164710</td>\n",
       "    </tr>\n",
       "    <tr>\n",
       "      <th>0</th>\n",
       "      <td>region_code</td>\n",
       "      <td>0.106196</td>\n",
       "    </tr>\n",
       "    <tr>\n",
       "      <th>0</th>\n",
       "      <td>policy_sales_channel</td>\n",
       "      <td>0.059038</td>\n",
       "    </tr>\n",
       "    <tr>\n",
       "      <th>0</th>\n",
       "      <td>driving_license</td>\n",
       "      <td>0.000471</td>\n",
       "    </tr>\n",
       "    <tr>\n",
       "      <th>0</th>\n",
       "      <td>vehicle_damage</td>\n",
       "      <td>0.067602</td>\n",
       "    </tr>\n",
       "    <tr>\n",
       "      <th>0</th>\n",
       "      <td>previously_insured</td>\n",
       "      <td>0.056172</td>\n",
       "    </tr>\n",
       "    <tr>\n",
       "      <th>0</th>\n",
       "      <td>annual_premium</td>\n",
       "      <td>0.245011</td>\n",
       "    </tr>\n",
       "    <tr>\n",
       "      <th>0</th>\n",
       "      <td>vintage</td>\n",
       "      <td>0.273074</td>\n",
       "    </tr>\n",
       "    <tr>\n",
       "      <th>0</th>\n",
       "      <td>vehicle_age_bellow_1_year</td>\n",
       "      <td>0.014099</td>\n",
       "    </tr>\n",
       "    <tr>\n",
       "      <th>0</th>\n",
       "      <td>vehicle_age_between_1_2_year</td>\n",
       "      <td>0.006453</td>\n",
       "    </tr>\n",
       "    <tr>\n",
       "      <th>0</th>\n",
       "      <td>vehicle_age_over_2_years</td>\n",
       "      <td>0.002231</td>\n",
       "    </tr>\n",
       "  </tbody>\n",
       "</table>\n",
       "</div>"
      ],
      "text/plain": [
       "                        feature  importance\n",
       "0                        gender    0.004943\n",
       "0                           age    0.164710\n",
       "0                   region_code    0.106196\n",
       "0          policy_sales_channel    0.059038\n",
       "0               driving_license    0.000471\n",
       "0                vehicle_damage    0.067602\n",
       "0            previously_insured    0.056172\n",
       "0                annual_premium    0.245011\n",
       "0                       vintage    0.273074\n",
       "0     vehicle_age_bellow_1_year    0.014099\n",
       "0  vehicle_age_between_1_2_year    0.006453\n",
       "0      vehicle_age_over_2_years    0.002231"
      ]
     },
     "execution_count": 127,
     "metadata": {},
     "output_type": "execute_result"
    }
   ],
   "source": [
    "# model definition\n",
    "forest = en.ExtraTreesClassifier(n_estimators=250, random_state=0, n_jobs=-1)\n",
    "\n",
    "x_train_n = df5.drop(['id', 'response'], axis=1)\n",
    "y_train_n = y_train.values\n",
    "forest.fit(x_train_n, y_train_n)\n",
    "\n",
    "importances = forest.feature_importances_\n",
    "std = np.std([tree.feature_importances_ for tree in forest.estimators_], axis=0)\n",
    "indices = np.argsort(importances)[::-1]\n",
    "\n",
    "# Print the feature ranking\n",
    "print('Feature ranking')\n",
    "df = pd.DataFrame()\n",
    "for i, j in zip(x_train_n.columns, forest.feature_importances_):\n",
    "    aux = pd.DataFrame({'feature': i, 'importance': j},index=[0])\n",
    "    df= pd.concat([df, aux], axis=0)\n",
    "\n",
    "df"
   ]
  },
  {
   "cell_type": "code",
   "execution_count": 128,
   "id": "19a6c106",
   "metadata": {
    "ExecuteTime": {
     "end_time": "2022-09-25T19:45:35.823719Z",
     "start_time": "2022-09-25T19:45:33.909359Z"
    }
   },
   "outputs": [
    {
     "data": {
      "image/png": "[encoded data removed]",
      "text/plain": [
       "<Figure size 432x288 with 1 Axes>"
      ]
     },
     "metadata": {
      "needs_background": "light"
     },
     "output_type": "display_data"
    }
   ],
   "source": [
    "# plot the impurity-based feature importance of the forest\n",
    "\n",
    "plt.figure()\n",
    "plt.title('Feature importances')\n",
    "plt.bar(range(x_train_n.shape[1]),importances[indices], color='r', yerr=std[indices], align = 'center')\n",
    "plt.xticks(range(x_train_n.shape[1]), indices)\n",
    "plt.xlim([-1, x_train_n.shape[1]])\n",
    "plt.show()"
   ]
  },
  {
   "cell_type": "markdown",
   "id": "d295596e",
   "metadata": {},
   "source": [
    "# 7.0 Machine Learning"
   ]
  },
  {
   "cell_type": "code",
   "execution_count": 129,
   "id": "f008bc5c",
   "metadata": {
    "ExecuteTime": {
     "end_time": "2022-09-25T19:45:35.870363Z",
     "start_time": "2022-09-25T19:45:35.826277Z"
    }
   },
   "outputs": [],
   "source": [
    "cols_selected = ['vintage',\n",
    "                'annual_premium',\n",
    "                'age',\n",
    "                'region_code',\n",
    "                'vehicle_damage',\n",
    "                'policy_sales_channel',\n",
    "                'previously_insured']\n",
    "\n",
    "x_train = df5[cols_selected]\n",
    "x_val = x_validation[cols_selected]"
   ]
  },
  {
   "cell_type": "code",
   "execution_count": 130,
   "id": "610fcaa3",
   "metadata": {
    "ExecuteTime": {
     "end_time": "2022-09-25T19:45:35.917345Z",
     "start_time": "2022-09-25T19:45:35.877279Z"
    }
   },
   "outputs": [
    {
     "data": {
      "text/html": [
       "<div>\n",
       "<style scoped>\n",
       "    .dataframe tbody tr th:only-of-type {\n",
       "        vertical-align: middle;\n",
       "    }\n",
       "\n",
       "    .dataframe tbody tr th {\n",
       "        vertical-align: top;\n",
       "    }\n",
       "\n",
       "    .dataframe thead th {\n",
       "        text-align: right;\n",
       "    }\n",
       "</style>\n",
       "<table border=\"1\" class=\"dataframe\">\n",
       "  <thead>\n",
       "    <tr style=\"text-align: right;\">\n",
       "      <th></th>\n",
       "      <th>vintage</th>\n",
       "      <th>annual_premium</th>\n",
       "      <th>age</th>\n",
       "      <th>region_code</th>\n",
       "      <th>vehicle_damage</th>\n",
       "      <th>policy_sales_channel</th>\n",
       "      <th>previously_insured</th>\n",
       "    </tr>\n",
       "  </thead>\n",
       "  <tbody>\n",
       "    <tr>\n",
       "      <th>264438</th>\n",
       "      <td>0.903114</td>\n",
       "      <td>0.383560</td>\n",
       "      <td>0.292308</td>\n",
       "      <td>0.185607</td>\n",
       "      <td>1</td>\n",
       "      <td>0.209287</td>\n",
       "      <td>0</td>\n",
       "    </tr>\n",
       "    <tr>\n",
       "      <th>50070</th>\n",
       "      <td>0.027682</td>\n",
       "      <td>0.228267</td>\n",
       "      <td>0.430769</td>\n",
       "      <td>0.185607</td>\n",
       "      <td>1</td>\n",
       "      <td>0.194420</td>\n",
       "      <td>0</td>\n",
       "    </tr>\n",
       "    <tr>\n",
       "      <th>378019</th>\n",
       "      <td>0.467128</td>\n",
       "      <td>-0.015524</td>\n",
       "      <td>0.092308</td>\n",
       "      <td>0.074353</td>\n",
       "      <td>0</td>\n",
       "      <td>0.353288</td>\n",
       "      <td>1</td>\n",
       "    </tr>\n",
       "    <tr>\n",
       "      <th>33858</th>\n",
       "      <td>0.051903</td>\n",
       "      <td>1.559925</td>\n",
       "      <td>0.384615</td>\n",
       "      <td>0.123989</td>\n",
       "      <td>0</td>\n",
       "      <td>0.002201</td>\n",
       "      <td>1</td>\n",
       "    </tr>\n",
       "    <tr>\n",
       "      <th>352041</th>\n",
       "      <td>0.006920</td>\n",
       "      <td>-1.625651</td>\n",
       "      <td>0.061538</td>\n",
       "      <td>0.102741</td>\n",
       "      <td>1</td>\n",
       "      <td>0.015760</td>\n",
       "      <td>0</td>\n",
       "    </tr>\n",
       "    <tr>\n",
       "      <th>...</th>\n",
       "      <td>...</td>\n",
       "      <td>...</td>\n",
       "      <td>...</td>\n",
       "      <td>...</td>\n",
       "      <td>...</td>\n",
       "      <td>...</td>\n",
       "      <td>...</td>\n",
       "    </tr>\n",
       "    <tr>\n",
       "      <th>243549</th>\n",
       "      <td>0.570934</td>\n",
       "      <td>-0.211779</td>\n",
       "      <td>0.400000</td>\n",
       "      <td>0.123989</td>\n",
       "      <td>1</td>\n",
       "      <td>0.209287</td>\n",
       "      <td>0</td>\n",
       "    </tr>\n",
       "    <tr>\n",
       "      <th>146564</th>\n",
       "      <td>0.892734</td>\n",
       "      <td>1.194820</td>\n",
       "      <td>0.615385</td>\n",
       "      <td>0.185607</td>\n",
       "      <td>0</td>\n",
       "      <td>0.026095</td>\n",
       "      <td>1</td>\n",
       "    </tr>\n",
       "    <tr>\n",
       "      <th>213469</th>\n",
       "      <td>0.557093</td>\n",
       "      <td>-0.191066</td>\n",
       "      <td>0.492308</td>\n",
       "      <td>0.069391</td>\n",
       "      <td>0</td>\n",
       "      <td>0.209287</td>\n",
       "      <td>1</td>\n",
       "    </tr>\n",
       "    <tr>\n",
       "      <th>199671</th>\n",
       "      <td>0.934256</td>\n",
       "      <td>-1.625651</td>\n",
       "      <td>0.015385</td>\n",
       "      <td>0.078498</td>\n",
       "      <td>0</td>\n",
       "      <td>0.353288</td>\n",
       "      <td>1</td>\n",
       "    </tr>\n",
       "    <tr>\n",
       "      <th>139747</th>\n",
       "      <td>0.536332</td>\n",
       "      <td>-1.625651</td>\n",
       "      <td>0.015385</td>\n",
       "      <td>0.092185</td>\n",
       "      <td>1</td>\n",
       "      <td>0.007600</td>\n",
       "      <td>0</td>\n",
       "    </tr>\n",
       "  </tbody>\n",
       "</table>\n",
       "<p>76222 rows × 7 columns</p>\n",
       "</div>"
      ],
      "text/plain": [
       "         vintage  annual_premium       age  region_code  vehicle_damage  \\\n",
       "264438  0.903114        0.383560  0.292308     0.185607               1   \n",
       "50070   0.027682        0.228267  0.430769     0.185607               1   \n",
       "378019  0.467128       -0.015524  0.092308     0.074353               0   \n",
       "33858   0.051903        1.559925  0.384615     0.123989               0   \n",
       "352041  0.006920       -1.625651  0.061538     0.102741               1   \n",
       "...          ...             ...       ...          ...             ...   \n",
       "243549  0.570934       -0.211779  0.400000     0.123989               1   \n",
       "146564  0.892734        1.194820  0.615385     0.185607               0   \n",
       "213469  0.557093       -0.191066  0.492308     0.069391               0   \n",
       "199671  0.934256       -1.625651  0.015385     0.078498               0   \n",
       "139747  0.536332       -1.625651  0.015385     0.092185               1   \n",
       "\n",
       "        policy_sales_channel  previously_insured  \n",
       "264438              0.209287                   0  \n",
       "50070               0.194420                   0  \n",
       "378019              0.353288                   1  \n",
       "33858               0.002201                   1  \n",
       "352041              0.015760                   0  \n",
       "...                      ...                 ...  \n",
       "243549              0.209287                   0  \n",
       "146564              0.026095                   1  \n",
       "213469              0.209287                   1  \n",
       "199671              0.353288                   1  \n",
       "139747              0.007600                   0  \n",
       "\n",
       "[76222 rows x 7 columns]"
      ]
     },
     "execution_count": 130,
     "metadata": {},
     "output_type": "execute_result"
    }
   ],
   "source": [
    "x_val"
   ]
  },
  {
   "cell_type": "markdown",
   "id": "e1b94883",
   "metadata": {},
   "source": [
    "## 7.1 KNN"
   ]
  },
  {
   "cell_type": "code",
   "execution_count": 131,
   "id": "a6fa84ed",
   "metadata": {
    "ExecuteTime": {
     "end_time": "2022-09-25T19:45:48.551487Z",
     "start_time": "2022-09-25T19:45:35.934775Z"
    },
    "scrolled": false
   },
   "outputs": [
    {
     "data": {
      "text/plain": [
       "<AxesSubplot:title={'center':'Cumulative Gains Curve'}, xlabel='Percentage of sample', ylabel='Gain'>"
      ]
     },
     "execution_count": 131,
     "metadata": {},
     "output_type": "execute_result"
    },
    {
     "data": {
      "image/png": "[encoded data removed]",
      "text/plain": [
       "<Figure size 432x288 with 1 Axes>"
      ]
     },
     "metadata": {
      "needs_background": "light"
     },
     "output_type": "display_data"
    }
   ],
   "source": [
    "# model definition\n",
    "knn_model = nh.KNeighborsClassifier(n_neighbors=7)\n",
    "\n",
    "# model training\n",
    "knn_model.fit(x_train, y_train)\n",
    "\n",
    "# model predi\n",
    "yhat_knn = knn_model.predict_proba(x_val)\n",
    "\n",
    "# Accumulative Gain \n",
    "skplt.metrics.plot_cumulative_gain(y_validation,yhat_knn)"
   ]
  },
  {
   "cell_type": "markdown",
   "id": "ef242a99",
   "metadata": {},
   "source": [
    "## 7.2 Logistic Regressor"
   ]
  },
  {
   "cell_type": "code",
   "execution_count": 132,
   "id": "90a81301",
   "metadata": {
    "ExecuteTime": {
     "end_time": "2022-09-25T19:45:49.901635Z",
     "start_time": "2022-09-25T19:45:48.554516Z"
    }
   },
   "outputs": [
    {
     "data": {
      "text/plain": [
       "<AxesSubplot:title={'center':'Cumulative Gains Curve'}, xlabel='Percentage of sample', ylabel='Gain'>"
      ]
     },
     "execution_count": 132,
     "metadata": {},
     "output_type": "execute_result"
    },
    {
     "data": {
      "image/png": "[encoded data removed]",
      "text/plain": [
       "<Figure size 432x288 with 1 Axes>"
      ]
     },
     "metadata": {
      "needs_background": "light"
     },
     "output_type": "display_data"
    }
   ],
   "source": [
    "# model definition\n",
    "lr_model = lm.LogisticRegression(random_state=42)\n",
    "\n",
    "# model training \n",
    "lr_model.fit(x_train, y_train)\n",
    "\n",
    "# model prediction\n",
    "yhat_lr = lr_model.predict_proba(x_val)\n",
    "\n",
    "# Accumulative Gain \n",
    "skplt.metrics.plot_cumulative_gain(y_validation,yhat_lr)"
   ]
  },
  {
   "cell_type": "markdown",
   "id": "55d9fba4",
   "metadata": {},
   "source": [
    "## 7.3 Extra Trees"
   ]
  },
  {
   "cell_type": "code",
   "execution_count": 133,
   "id": "d6d8a136",
   "metadata": {
    "ExecuteTime": {
     "end_time": "2022-09-25T19:46:19.063434Z",
     "start_time": "2022-09-25T19:45:49.904629Z"
    }
   },
   "outputs": [
    {
     "data": {
      "text/plain": [
       "<AxesSubplot:title={'center':'Cumulative Gains Curve'}, xlabel='Percentage of sample', ylabel='Gain'>"
      ]
     },
     "execution_count": 133,
     "metadata": {},
     "output_type": "execute_result"
    },
    {
     "data": {
      "image/png": "[encoded data removed]",
      "text/plain": [
       "<Figure size 432x288 with 1 Axes>"
      ]
     },
     "metadata": {
      "needs_background": "light"
     },
     "output_type": "display_data"
    }
   ],
   "source": [
    "# model definition\n",
    "et = en.ExtraTreesClassifier(n_estimators = 100, n_jobs=-1, random_state=42)\n",
    "\n",
    "# model fit\n",
    "et.fit(x_train, y_train)\n",
    "\n",
    "# model predict\n",
    "yhat_et = et.predict_proba(x_val)\n",
    "\n",
    "# Accumulative Gain \n",
    "skplt.metrics.plot_cumulative_gain(y_validation,yhat_et)"
   ]
  },
  {
   "cell_type": "markdown",
   "id": "3a4b0041",
   "metadata": {
    "ExecuteTime": {
     "end_time": "2022-09-25T19:37:38.800345Z",
     "start_time": "2022-09-25T19:37:38.776895Z"
    }
   },
   "source": [
    "# 8.0 Model Performance"
   ]
  },
  {
   "cell_type": "code",
   "execution_count": 155,
   "id": "8017de65",
   "metadata": {
    "ExecuteTime": {
     "end_time": "2022-09-25T20:26:45.813112Z",
     "start_time": "2022-09-25T20:26:45.801460Z"
    }
   },
   "outputs": [],
   "source": [
    "def precision_at_k(data, k=2000):\n",
    "\n",
    "    # reset index\n",
    "    data = data.reset_index(drop=True)\n",
    "\n",
    "    # create ranking order\n",
    "    data['ranking'] = data.index + 1\n",
    "\n",
    "    data['precision_at_k'] = data['response'].cumsum()/data['ranking']\n",
    "\n",
    "    return data.loc[k,'precision_at_k']\n",
    "\n",
    "def recall_at_k(data, k=2000):\n",
    "\n",
    "    # reset index\n",
    "    data = data.reset_index(drop=True)\n",
    "\n",
    "    # create ranking order\n",
    "    data['ranking'] = data.index + 1\n",
    "\n",
    "    data['recall_at_k'] = data['response'].cumsum()/data['response'].sum()\n",
    "\n",
    "    return data.loc[k,'recall_at_k']"
   ]
  },
  {
   "cell_type": "code",
   "execution_count": 156,
   "id": "d7c8fe27",
   "metadata": {
    "ExecuteTime": {
     "end_time": "2022-09-25T20:26:46.202856Z",
     "start_time": "2022-09-25T20:26:46.135012Z"
    }
   },
   "outputs": [
    {
     "name": "stdout",
     "output_type": "stream",
     "text": [
      "Precision at K: 0.3137254901960784\n",
      "Recall at K: 0.0016877637130801688\n"
     ]
    }
   ],
   "source": [
    "df8 = x_validation.copy()\n",
    "df8['response'] = y_validation.copy()\n",
    "\n",
    "# Propensity score\n",
    "df8['score'] = yhat_knn[:,1].tolist()\n",
    "\n",
    "# sort clients by propensity score\n",
    "df8 = df8.sort_values('score',ascending=False)\n",
    "\n",
    "# compute precision at k\n",
    "print('Precision at K: {}'.format(precision_at_k(df8,k=50)))\n",
    "print('Recall at K: {}'.format(recall_at_k(df8,k=50)))"
   ]
  },
  {
   "cell_type": "code",
   "execution_count": null,
   "id": "a2e783a1",
   "metadata": {},
   "outputs": [],
   "source": []
  },
  {
   "cell_type": "code",
   "execution_count": null,
   "id": "76d46ece",
   "metadata": {},
   "outputs": [],
   "source": []
  }
 ],
 "metadata": {
  "kernelspec": {
   "display_name": "Python 3 (ipykernel)",
   "language": "python",
   "name": "python3"
  },
  "language_info": {
   "codemirror_mode": {
    "name": "ipython",
    "version": 3
   },
   "file_extension": ".py",
   "mimetype": "text/x-python",
   "name": "python",
   "nbconvert_exporter": "python",
   "pygments_lexer": "ipython3",
   "version": "3.9.12"
  }
 },
 "nbformat": 4,
 "nbformat_minor": 5
}

{
 "cells": [
  {
   "cell_type": "markdown",
   "id": "46c21508",
   "metadata": {},
   "source": [
    "# 0.0 Imports"
   ]
  },
  {
   "cell_type": "code",
   "execution_count": 129,
   "id": "b2dea543",
   "metadata": {
    "ExecuteTime": {
     "end_time": "2022-10-06T23:45:06.734761Z",
     "start_time": "2022-10-06T23:45:06.718895Z"
    }
   },
   "outputs": [],
   "source": [
    "import numpy as np\n",
    "import pandas as pd\n",
    "import psycopg2 as pg\n",
    "import sweetviz as sv\n",
    "import seaborn as sns\n",
    "import scikitplot as skplt\n",
    "import warnings\n",
    "warnings.filterwarnings('ignore')\n",
    "\n",
    "from IPython.core.display import HTML\n",
    "from IPython.display import Image\n",
    "from matplotlib import pyplot as plt\n",
    "from sklearn import preprocessing as pp\n",
    "from sklearn import model_selection as ms\n",
    "from sklearn import ensemble as en\n",
    "from sklearn import neighbors as nh\n",
    "from sklearn import linear_model as lm\n",
    "import xgboost as xgb"
   ]
  },
  {
   "cell_type": "markdown",
   "id": "83ec1d10",
   "metadata": {},
   "source": [
    "## Helper Functions"
   ]
  },
  {
   "cell_type": "code",
   "execution_count": 220,
   "id": "ffbef716",
   "metadata": {
    "ExecuteTime": {
     "end_time": "2022-10-07T00:01:25.558783Z",
     "start_time": "2022-10-07T00:01:25.504325Z"
    }
   },
   "outputs": [
    {
     "name": "stdout",
     "output_type": "stream",
     "text": [
      "%pylab is deprecated, use %matplotlib inline and import the required libraries.\n",
      "Populating the interactive namespace from numpy and matplotlib\n"
     ]
    },
    {
     "data": {
      "text/html": [
       "<style>.container { width:100% !important; }</style>"
      ],
      "text/plain": [
       "<IPython.core.display.HTML object>"
      ]
     },
     "metadata": {},
     "output_type": "display_data"
    }
   ],
   "source": [
    "def pie_chart(data,att,title,legend_title):\n",
    "    \n",
    "    def data_detail(pct, allvalues):\n",
    "        absolute = int(pct/ 100.*np.sum(allvalues['response']))\n",
    "        return \"{:.0f}\\n({:.1f}%)\".format(absolute, pct)\n",
    "\n",
    "    wedges, texts, autotexts = plt.pie( data = data,\n",
    "                                       x = 'response',\n",
    "                                       autopct = lambda pct: data_detail(pct, data),\n",
    "                                       textprops = dict(color=\"w\"))\n",
    "    \n",
    "    plt.legend( wedges, list(['No', 'Yes']),\n",
    "              title = legend_title,\n",
    "              loc=\"center left\",\n",
    "              bbox_to_anchor = (1, 0, 0.5, 1))\n",
    "    plt.setp(autotexts, size=10, weight=\"bold\")\n",
    "    plt.title(title,fontsize = 15);\n",
    "    \n",
    "def jupyter_settings():\n",
    "    %matplotlib inline\n",
    "    %pylab inline\n",
    "#     plt.style.use( 'bmh' )\n",
    "#     plt.rcParams['figure.figsize'] = [25, 12]\n",
    "#     plt.rcParams['font.size'] = 24\n",
    "    display( HTML( '<style>.container { width:100% !important; }</style>') )\n",
    "    pd.options.display.max_columns = None\n",
    "    pd.options.display.max_rows = None\n",
    "    pd.set_option( 'display.expand_frame_repr', False )\n",
    "#     sns.set()\n",
    "    \n",
    "jupyter_settings()\n",
    "\n",
    "\n",
    "def precision_at_k(data, k):\n",
    "    \n",
    "    # reset index\n",
    "    data = data.reset_index(drop=True)\n",
    "\n",
    "    # create ranking order\n",
    "    data['ranking'] = data.index + 1\n",
    "\n",
    "    data['precision_at_k'] = data['response'].cumsum()/data['ranking']\n",
    "\n",
    "    return data.loc[k,'precision_at_k']\n",
    "\n",
    "def recall_at_k(data, k):\n",
    "\n",
    "    # reset index\n",
    "    data = data.reset_index(drop=True)\n",
    "\n",
    "    # create ranking order\n",
    "    data['ranking'] = data.index + 1\n",
    "\n",
    "    data['recall_at_k'] = data['response'].cumsum()/data['response'].sum()\n",
    "\n",
    "    return data.loc[k,'recall_at_k']\n",
    "\n",
    "def cross_validation(data_train,k_fold,model_name, model,verbose):\n",
    "\n",
    "    validation_size = int(round(data_train.shape[0]*0.2,0))\n",
    "    \n",
    "    precision_at_k_list = []\n",
    "    recall_at_k_list = []\n",
    "\n",
    "    for k in range(0,k_fold):\n",
    "\n",
    "        start_validation = validation_size*k\n",
    "        end_validation   = validation_size*(k+1)\n",
    "        range_validation = arange(start_validation,end_validation)\n",
    "        range_data       = arange(0,data_train.shape[0])\n",
    "\n",
    "        validation = data_train.iloc[ start_validation:end_validation ]\n",
    "        training = data_train[ ~isin(range_data,range_validation)]\n",
    "\n",
    "        x_training = training.drop(['id','response'],axis=1)\n",
    "        y_training = training['response'].copy()\n",
    "\n",
    "        x_validation = validation.drop(['id','response'],axis=1)\n",
    "        y_validation = validation['response'].copy()\n",
    "\n",
    "        # model fit\n",
    "        m = model.fit(x_training,y_training)\n",
    "\n",
    "        # model predict\n",
    "        y_hat = m.predict_proba(x_validation)\n",
    "        \n",
    "        data_val = x_validation.copy()\n",
    "        data_val['response'] = y_validation.copy()\n",
    "\n",
    "        # Propensity score\n",
    "        data_val['score'] = y_hat[:,1].tolist()\n",
    "\n",
    "        # sort clients by propensity score\n",
    "        data_val = data_val.sort_values('score',ascending=False)\n",
    "        \n",
    "        precision_at_k_list.append(precision_at_k(data_val,int(round(data_val.shape[0]*0.2,0))))\n",
    "        recall_at_k_list.append(recall_at_k(data_val,int(round(data_val.shape[0]*0.2,0))))\n",
    "        \n",
    "        if verbose:\n",
    "            print(f'k_fold: {k}')\n",
    "            print('Validation Size: {} | {} - {}'.format(validation.shape[0],start_validation,end_validation))\n",
    "            print('Training Size: {}'.format(training.shape[0]))\n",
    "            print('Total Size: {}'.format(validation.shape[0] + training.shape[0]))\n",
    "            print('Total Original Size: {}'.format(data_train.shape[0]))\n",
    "            print('Precision at K: {}'.format(precision_at_k(data_val,int(round(data_val.shape[0]*0.2,0)))))\n",
    "            print('Recall at K:    {}'.format(recall_at_k(data_val,int(round(data_val.shape[0]*0.2,0)))))\n",
    "            print('\\n')\n",
    "            \n",
    "    return pd.DataFrame(\n",
    "                        {'Model': model_name,\n",
    "                         'Precision at K': round(np.mean(precision_at_k_list),4).astype(str) + ' +/- ' + round((np.std(precision_at_k_list)),4).astype(str),\n",
    "                         'Recall at K':    round(np.mean(recall_at_k_list),4).astype(str) + ' +/- ' + round((np.std(recall_at_k_list)),4).astype(str)},\n",
    "                          index=[0])"
   ]
  },
  {
   "cell_type": "code",
   "execution_count": null,
   "id": "731b28ce",
   "metadata": {},
   "outputs": [],
   "source": []
  },
  {
   "cell_type": "markdown",
   "id": "8ea7d93b",
   "metadata": {},
   "source": [
    "# 0.1 Load Dataset"
   ]
  },
  {
   "cell_type": "code",
   "execution_count": 131,
   "id": "08146c6b",
   "metadata": {
    "ExecuteTime": {
     "end_time": "2022-10-06T23:45:13.161906Z",
     "start_time": "2022-10-06T23:45:06.824052Z"
    }
   },
   "outputs": [
    {
     "data": {
      "text/html": [
       "<div>\n",
       "<style scoped>\n",
       "    .dataframe tbody tr th:only-of-type {\n",
       "        vertical-align: middle;\n",
       "    }\n",
       "\n",
       "    .dataframe tbody tr th {\n",
       "        vertical-align: top;\n",
       "    }\n",
       "\n",
       "    .dataframe thead th {\n",
       "        text-align: right;\n",
       "    }\n",
       "</style>\n",
       "<table border=\"1\" class=\"dataframe\">\n",
       "  <thead>\n",
       "    <tr style=\"text-align: right;\">\n",
       "      <th></th>\n",
       "      <th>id</th>\n",
       "      <th>gender</th>\n",
       "      <th>age</th>\n",
       "      <th>region_code</th>\n",
       "      <th>policy_sales_channel</th>\n",
       "      <th>id</th>\n",
       "      <th>driving_license</th>\n",
       "      <th>vehicle_age</th>\n",
       "      <th>vehicle_damage</th>\n",
       "      <th>id</th>\n",
       "      <th>previously_insured</th>\n",
       "      <th>annual_premium</th>\n",
       "      <th>vintage</th>\n",
       "      <th>response</th>\n",
       "    </tr>\n",
       "  </thead>\n",
       "  <tbody>\n",
       "    <tr>\n",
       "      <th>0</th>\n",
       "      <td>7</td>\n",
       "      <td>Male</td>\n",
       "      <td>23</td>\n",
       "      <td>11.0</td>\n",
       "      <td>152.0</td>\n",
       "      <td>7</td>\n",
       "      <td>1</td>\n",
       "      <td>&lt; 1 Year</td>\n",
       "      <td>Yes</td>\n",
       "      <td>7</td>\n",
       "      <td>0</td>\n",
       "      <td>23367.0</td>\n",
       "      <td>249</td>\n",
       "      <td>0</td>\n",
       "    </tr>\n",
       "    <tr>\n",
       "      <th>1</th>\n",
       "      <td>13</td>\n",
       "      <td>Female</td>\n",
       "      <td>41</td>\n",
       "      <td>15.0</td>\n",
       "      <td>14.0</td>\n",
       "      <td>13</td>\n",
       "      <td>1</td>\n",
       "      <td>1-2 Year</td>\n",
       "      <td>No</td>\n",
       "      <td>13</td>\n",
       "      <td>1</td>\n",
       "      <td>31409.0</td>\n",
       "      <td>221</td>\n",
       "      <td>0</td>\n",
       "    </tr>\n",
       "    <tr>\n",
       "      <th>2</th>\n",
       "      <td>18</td>\n",
       "      <td>Female</td>\n",
       "      <td>25</td>\n",
       "      <td>35.0</td>\n",
       "      <td>152.0</td>\n",
       "      <td>18</td>\n",
       "      <td>1</td>\n",
       "      <td>&lt; 1 Year</td>\n",
       "      <td>No</td>\n",
       "      <td>18</td>\n",
       "      <td>1</td>\n",
       "      <td>46622.0</td>\n",
       "      <td>299</td>\n",
       "      <td>0</td>\n",
       "    </tr>\n",
       "    <tr>\n",
       "      <th>3</th>\n",
       "      <td>31</td>\n",
       "      <td>Female</td>\n",
       "      <td>26</td>\n",
       "      <td>8.0</td>\n",
       "      <td>160.0</td>\n",
       "      <td>31</td>\n",
       "      <td>1</td>\n",
       "      <td>&lt; 1 Year</td>\n",
       "      <td>No</td>\n",
       "      <td>31</td>\n",
       "      <td>0</td>\n",
       "      <td>2630.0</td>\n",
       "      <td>136</td>\n",
       "      <td>0</td>\n",
       "    </tr>\n",
       "    <tr>\n",
       "      <th>4</th>\n",
       "      <td>39</td>\n",
       "      <td>Male</td>\n",
       "      <td>45</td>\n",
       "      <td>8.0</td>\n",
       "      <td>124.0</td>\n",
       "      <td>39</td>\n",
       "      <td>1</td>\n",
       "      <td>1-2 Year</td>\n",
       "      <td>Yes</td>\n",
       "      <td>39</td>\n",
       "      <td>0</td>\n",
       "      <td>42297.0</td>\n",
       "      <td>264</td>\n",
       "      <td>0</td>\n",
       "    </tr>\n",
       "  </tbody>\n",
       "</table>\n",
       "</div>"
      ],
      "text/plain": [
       "   id  gender  age  region_code  policy_sales_channel  id  driving_license vehicle_age vehicle_damage  id  previously_insured  annual_premium  vintage  response\n",
       "0   7    Male   23         11.0                 152.0   7                1    < 1 Year            Yes   7                   0         23367.0      249         0\n",
       "1  13  Female   41         15.0                  14.0  13                1    1-2 Year             No  13                   1         31409.0      221         0\n",
       "2  18  Female   25         35.0                 152.0  18                1    < 1 Year             No  18                   1         46622.0      299         0\n",
       "3  31  Female   26          8.0                 160.0  31                1    < 1 Year             No  31                   0          2630.0      136         0\n",
       "4  39    Male   45          8.0                 124.0  39                1    1-2 Year            Yes  39                   0         42297.0      264         0"
      ]
     },
     "execution_count": 131,
     "metadata": {},
     "output_type": "execute_result"
    }
   ],
   "source": [
    "# Credentials\n",
    "\n",
    "host = 'comunidade-ds-postgres.c50pcakiuwi3.us-east-1.rds.amazonaws.com'\n",
    "port = 5432\n",
    "database = 'comunidadedsdb'\n",
    "username = 'member'\n",
    "pwd =' cdspa'\n",
    "\n",
    "# Connection with Database\n",
    "conn_string = f'host={host} port={port} dbname={database} user={username} password={pwd}'\n",
    "conn = pg.connect(conn_string)\n",
    "\n",
    "# SQL Query\n",
    "query = '''\n",
    "    select * \n",
    "    from pa004.users u LEFT JOIN pa004.vehicle v ON (u.id = v.id)\n",
    "                       LEFT JOIN pa004.insurance i ON (u.id = i.id)\n",
    "'''\n",
    "\n",
    "df = pd.read_sql(query, conn)\n",
    "conn.close()\n",
    "df.head()"
   ]
  },
  {
   "cell_type": "code",
   "execution_count": 132,
   "id": "28fb7c12",
   "metadata": {
    "ExecuteTime": {
     "end_time": "2022-10-06T23:45:13.177533Z",
     "start_time": "2022-10-06T23:45:13.163869Z"
    }
   },
   "outputs": [
    {
     "name": "stdout",
     "output_type": "stream",
     "text": [
      "Rows: 381109\n",
      "Columns: 14\n"
     ]
    }
   ],
   "source": [
    "print('Rows: {}'.format(df.shape[0]))\n",
    "print('Columns: {}'.format(df.shape[1]))"
   ]
  },
  {
   "cell_type": "code",
   "execution_count": 133,
   "id": "5430828a",
   "metadata": {
    "ExecuteTime": {
     "end_time": "2022-10-06T23:45:13.255910Z",
     "start_time": "2022-10-06T23:45:13.180825Z"
    }
   },
   "outputs": [
    {
     "data": {
      "text/html": [
       "<div>\n",
       "<style scoped>\n",
       "    .dataframe tbody tr th:only-of-type {\n",
       "        vertical-align: middle;\n",
       "    }\n",
       "\n",
       "    .dataframe tbody tr th {\n",
       "        vertical-align: top;\n",
       "    }\n",
       "\n",
       "    .dataframe thead th {\n",
       "        text-align: right;\n",
       "    }\n",
       "</style>\n",
       "<table border=\"1\" class=\"dataframe\">\n",
       "  <thead>\n",
       "    <tr style=\"text-align: right;\">\n",
       "      <th></th>\n",
       "      <th>id</th>\n",
       "      <th>gender</th>\n",
       "      <th>age</th>\n",
       "      <th>region_code</th>\n",
       "      <th>policy_sales_channel</th>\n",
       "      <th>driving_license</th>\n",
       "      <th>vehicle_age</th>\n",
       "      <th>vehicle_damage</th>\n",
       "      <th>previously_insured</th>\n",
       "      <th>annual_premium</th>\n",
       "      <th>vintage</th>\n",
       "      <th>response</th>\n",
       "    </tr>\n",
       "  </thead>\n",
       "  <tbody>\n",
       "    <tr>\n",
       "      <th>359478</th>\n",
       "      <td>208784</td>\n",
       "      <td>Male</td>\n",
       "      <td>22</td>\n",
       "      <td>33.0</td>\n",
       "      <td>152.0</td>\n",
       "      <td>1</td>\n",
       "      <td>&lt; 1 Year</td>\n",
       "      <td>No</td>\n",
       "      <td>1</td>\n",
       "      <td>34358.0</td>\n",
       "      <td>251</td>\n",
       "      <td>0</td>\n",
       "    </tr>\n",
       "    <tr>\n",
       "      <th>317242</th>\n",
       "      <td>248845</td>\n",
       "      <td>Female</td>\n",
       "      <td>24</td>\n",
       "      <td>46.0</td>\n",
       "      <td>152.0</td>\n",
       "      <td>1</td>\n",
       "      <td>&lt; 1 Year</td>\n",
       "      <td>Yes</td>\n",
       "      <td>0</td>\n",
       "      <td>35511.0</td>\n",
       "      <td>50</td>\n",
       "      <td>0</td>\n",
       "    </tr>\n",
       "    <tr>\n",
       "      <th>154067</th>\n",
       "      <td>88158</td>\n",
       "      <td>Male</td>\n",
       "      <td>57</td>\n",
       "      <td>28.0</td>\n",
       "      <td>124.0</td>\n",
       "      <td>1</td>\n",
       "      <td>1-2 Year</td>\n",
       "      <td>No</td>\n",
       "      <td>0</td>\n",
       "      <td>43289.0</td>\n",
       "      <td>92</td>\n",
       "      <td>0</td>\n",
       "    </tr>\n",
       "  </tbody>\n",
       "</table>\n",
       "</div>"
      ],
      "text/plain": [
       "            id  gender  age  region_code  policy_sales_channel  driving_license vehicle_age vehicle_damage  previously_insured  annual_premium  vintage  response\n",
       "359478  208784    Male   22         33.0                 152.0                1    < 1 Year             No                   1         34358.0      251         0\n",
       "317242  248845  Female   24         46.0                 152.0                1    < 1 Year            Yes                   0         35511.0       50         0\n",
       "154067   88158    Male   57         28.0                 124.0                1    1-2 Year             No                   0         43289.0       92         0"
      ]
     },
     "execution_count": 133,
     "metadata": {},
     "output_type": "execute_result"
    }
   ],
   "source": [
    "df_raw = df.loc[:,~df.columns.duplicated()]\n",
    "df_raw.sample(3)"
   ]
  },
  {
   "cell_type": "code",
   "execution_count": 134,
   "id": "9882884f",
   "metadata": {
    "ExecuteTime": {
     "end_time": "2022-10-06T23:45:13.271099Z",
     "start_time": "2022-10-06T23:45:13.258934Z"
    }
   },
   "outputs": [
    {
     "name": "stdout",
     "output_type": "stream",
     "text": [
      "Rows: 381109\n",
      "Columns: 12\n"
     ]
    }
   ],
   "source": [
    "print('Rows: {}'.format(df_raw.shape[0]))\n",
    "print('Columns: {}'.format(df_raw.shape[1]))"
   ]
  },
  {
   "cell_type": "markdown",
   "id": "e802babf",
   "metadata": {},
   "source": [
    "# 1.0 Data Description"
   ]
  },
  {
   "cell_type": "code",
   "execution_count": 135,
   "id": "0ecfc62f",
   "metadata": {
    "ExecuteTime": {
     "end_time": "2022-10-06T23:45:13.301916Z",
     "start_time": "2022-10-06T23:45:13.272866Z"
    }
   },
   "outputs": [],
   "source": [
    "df1 = df_raw.copy()"
   ]
  },
  {
   "cell_type": "markdown",
   "id": "501703cc",
   "metadata": {},
   "source": [
    "## 1.1 Data Dimension"
   ]
  },
  {
   "cell_type": "code",
   "execution_count": 136,
   "id": "fe1c2d7a",
   "metadata": {
    "ExecuteTime": {
     "end_time": "2022-10-06T23:45:13.317977Z",
     "start_time": "2022-10-06T23:45:13.304752Z"
    }
   },
   "outputs": [
    {
     "name": "stdout",
     "output_type": "stream",
     "text": [
      "Rows: 381109\n",
      "Columns: 12\n"
     ]
    }
   ],
   "source": [
    "print('Rows: {}'.format(df1.shape[0]))\n",
    "print('Columns: {}'.format(df1.shape[1]))"
   ]
  },
  {
   "cell_type": "markdown",
   "id": "82e7d5be",
   "metadata": {},
   "source": [
    "## 1.2 Data Types"
   ]
  },
  {
   "cell_type": "code",
   "execution_count": 137,
   "id": "02b161f8",
   "metadata": {
    "ExecuteTime": {
     "end_time": "2022-10-06T23:45:13.333439Z",
     "start_time": "2022-10-06T23:45:13.319975Z"
    }
   },
   "outputs": [
    {
     "data": {
      "text/plain": [
       "id                        int64\n",
       "gender                   object\n",
       "age                       int64\n",
       "region_code             float64\n",
       "policy_sales_channel    float64\n",
       "driving_license           int64\n",
       "vehicle_age              object\n",
       "vehicle_damage           object\n",
       "previously_insured        int64\n",
       "annual_premium          float64\n",
       "vintage                   int64\n",
       "response                  int64\n",
       "dtype: object"
      ]
     },
     "execution_count": 137,
     "metadata": {},
     "output_type": "execute_result"
    }
   ],
   "source": [
    "df1.dtypes"
   ]
  },
  {
   "cell_type": "markdown",
   "id": "1f9af3c0",
   "metadata": {},
   "source": [
    "## 1.3 Change Types"
   ]
  },
  {
   "cell_type": "code",
   "execution_count": 138,
   "id": "03d8d0e7",
   "metadata": {
    "ExecuteTime": {
     "end_time": "2022-10-06T23:45:13.364806Z",
     "start_time": "2022-10-06T23:45:13.335331Z"
    }
   },
   "outputs": [],
   "source": [
    "# region_code\n",
    "df1['region_code'] = df1['region_code'].astype('int64')\n",
    "\n",
    "# policy_sales_channel \n",
    "df1['policy_sales_channel'] = df1['policy_sales_channel'].astype('int64')"
   ]
  },
  {
   "cell_type": "code",
   "execution_count": 139,
   "id": "16a3008d",
   "metadata": {
    "ExecuteTime": {
     "end_time": "2022-10-06T23:45:13.380796Z",
     "start_time": "2022-10-06T23:45:13.369605Z"
    }
   },
   "outputs": [
    {
     "data": {
      "text/plain": [
       "id                        int64\n",
       "gender                   object\n",
       "age                       int64\n",
       "region_code               int64\n",
       "policy_sales_channel      int64\n",
       "driving_license           int64\n",
       "vehicle_age              object\n",
       "vehicle_damage           object\n",
       "previously_insured        int64\n",
       "annual_premium          float64\n",
       "vintage                   int64\n",
       "response                  int64\n",
       "dtype: object"
      ]
     },
     "execution_count": 139,
     "metadata": {},
     "output_type": "execute_result"
    }
   ],
   "source": [
    "df1.dtypes"
   ]
  },
  {
   "cell_type": "markdown",
   "id": "6dae747e",
   "metadata": {},
   "source": [
    "## 1.4 Check NA"
   ]
  },
  {
   "cell_type": "code",
   "execution_count": 140,
   "id": "84be6a06",
   "metadata": {
    "ExecuteTime": {
     "end_time": "2022-10-06T23:45:13.536733Z",
     "start_time": "2022-10-06T23:45:13.382577Z"
    }
   },
   "outputs": [
    {
     "data": {
      "text/plain": [
       "id                      0\n",
       "gender                  0\n",
       "age                     0\n",
       "region_code             0\n",
       "policy_sales_channel    0\n",
       "driving_license         0\n",
       "vehicle_age             0\n",
       "vehicle_damage          0\n",
       "previously_insured      0\n",
       "annual_premium          0\n",
       "vintage                 0\n",
       "response                0\n",
       "dtype: int64"
      ]
     },
     "execution_count": 140,
     "metadata": {},
     "output_type": "execute_result"
    }
   ],
   "source": [
    "df1.isna().sum()"
   ]
  },
  {
   "cell_type": "markdown",
   "id": "ddd9b367",
   "metadata": {},
   "source": [
    "## 1.5 Data Descriptive"
   ]
  },
  {
   "cell_type": "code",
   "execution_count": 141,
   "id": "0140dcf2",
   "metadata": {
    "ExecuteTime": {
     "end_time": "2022-10-06T23:45:13.552270Z",
     "start_time": "2022-10-06T23:45:13.538255Z"
    }
   },
   "outputs": [
    {
     "data": {
      "text/plain": [
       "Index(['id', 'gender', 'age', 'region_code', 'policy_sales_channel',\n",
       "       'driving_license', 'vehicle_age', 'vehicle_damage',\n",
       "       'previously_insured', 'annual_premium', 'vintage', 'response'],\n",
       "      dtype='object')"
      ]
     },
     "execution_count": 141,
     "metadata": {},
     "output_type": "execute_result"
    }
   ],
   "source": [
    "df1.columns"
   ]
  },
  {
   "cell_type": "code",
   "execution_count": 142,
   "id": "4ca971d2",
   "metadata": {
    "ExecuteTime": {
     "end_time": "2022-10-06T23:45:13.614514Z",
     "start_time": "2022-10-06T23:45:13.553252Z"
    }
   },
   "outputs": [],
   "source": [
    "num_attributes = df1[['age','annual_premium','vintage']]\n",
    "cat_attributes = df1[['gender','driving_license','vehicle_age','vehicle_damage','previously_insured','policy_sales_channel','region_code']]"
   ]
  },
  {
   "cell_type": "markdown",
   "id": "b3d4aef6",
   "metadata": {},
   "source": [
    "### 1.5.1 Numerical atributes"
   ]
  },
  {
   "cell_type": "code",
   "execution_count": 143,
   "id": "c9b14a86",
   "metadata": {
    "ExecuteTime": {
     "end_time": "2022-10-06T23:45:13.880708Z",
     "start_time": "2022-10-06T23:45:13.616511Z"
    }
   },
   "outputs": [
    {
     "data": {
      "text/html": [
       "<div>\n",
       "<style scoped>\n",
       "    .dataframe tbody tr th:only-of-type {\n",
       "        vertical-align: middle;\n",
       "    }\n",
       "\n",
       "    .dataframe tbody tr th {\n",
       "        vertical-align: top;\n",
       "    }\n",
       "\n",
       "    .dataframe thead th {\n",
       "        text-align: right;\n",
       "    }\n",
       "</style>\n",
       "<table border=\"1\" class=\"dataframe\">\n",
       "  <thead>\n",
       "    <tr style=\"text-align: right;\">\n",
       "      <th></th>\n",
       "      <th>attributes</th>\n",
       "      <th>min</th>\n",
       "      <th>max</th>\n",
       "      <th>range</th>\n",
       "      <th>mean</th>\n",
       "      <th>median</th>\n",
       "      <th>std</th>\n",
       "      <th>skew</th>\n",
       "      <th>kurtosis</th>\n",
       "    </tr>\n",
       "  </thead>\n",
       "  <tbody>\n",
       "    <tr>\n",
       "      <th>0</th>\n",
       "      <td>age</td>\n",
       "      <td>20.0</td>\n",
       "      <td>85.0</td>\n",
       "      <td>65.0</td>\n",
       "      <td>38.822584</td>\n",
       "      <td>38.822584</td>\n",
       "      <td>15.511591</td>\n",
       "      <td>0.672539</td>\n",
       "      <td>-0.565655</td>\n",
       "    </tr>\n",
       "    <tr>\n",
       "      <th>1</th>\n",
       "      <td>annual_premium</td>\n",
       "      <td>2630.0</td>\n",
       "      <td>540165.0</td>\n",
       "      <td>537535.0</td>\n",
       "      <td>30564.389581</td>\n",
       "      <td>30564.389581</td>\n",
       "      <td>17213.132474</td>\n",
       "      <td>1.766087</td>\n",
       "      <td>34.004569</td>\n",
       "    </tr>\n",
       "    <tr>\n",
       "      <th>2</th>\n",
       "      <td>vintage</td>\n",
       "      <td>10.0</td>\n",
       "      <td>299.0</td>\n",
       "      <td>289.0</td>\n",
       "      <td>154.347397</td>\n",
       "      <td>154.347397</td>\n",
       "      <td>83.671194</td>\n",
       "      <td>0.003030</td>\n",
       "      <td>-1.200688</td>\n",
       "    </tr>\n",
       "  </tbody>\n",
       "</table>\n",
       "</div>"
      ],
      "text/plain": [
       "       attributes     min       max     range          mean        median           std      skew   kurtosis\n",
       "0             age    20.0      85.0      65.0     38.822584     38.822584     15.511591  0.672539  -0.565655\n",
       "1  annual_premium  2630.0  540165.0  537535.0  30564.389581  30564.389581  17213.132474  1.766087  34.004569\n",
       "2         vintage    10.0     299.0     289.0    154.347397    154.347397     83.671194  0.003030  -1.200688"
      ]
     },
     "execution_count": 143,
     "metadata": {},
     "output_type": "execute_result"
    }
   ],
   "source": [
    "ct1 = pd.DataFrame(num_attributes.apply(np.mean)).T\n",
    "ct2 = pd.DataFrame(num_attributes.apply(np.mean)).T\n",
    "\n",
    "d1 = pd.DataFrame(num_attributes.apply(np.std)).T\n",
    "d2 = pd.DataFrame(num_attributes.apply(min)).T\n",
    "d3 = pd.DataFrame(num_attributes.apply(max)).T\n",
    "d4 = pd.DataFrame(num_attributes.apply(lambda x: x.max() - x.min())).T\n",
    "d5 = pd.DataFrame(num_attributes.apply(lambda x: x.skew())).T\n",
    "d6 = pd.DataFrame(num_attributes.apply(lambda x: x.kurtosis())).T\n",
    "\n",
    "m = pd.concat([d2, d3, d4, ct1, ct2, d1, d5, d6]).T.reset_index()\n",
    "m.columns = ['attributes', 'min', 'max','range','mean','median','std','skew','kurtosis']\n",
    "\n",
    "m"
   ]
  },
  {
   "cell_type": "markdown",
   "id": "51372f99",
   "metadata": {},
   "source": [
    "### 1.5.2 Categorical atributes"
   ]
  },
  {
   "cell_type": "code",
   "execution_count": 144,
   "id": "47ef7860",
   "metadata": {
    "ExecuteTime": {
     "end_time": "2022-10-06T23:45:14.147718Z",
     "start_time": "2022-10-06T23:45:13.882704Z"
    }
   },
   "outputs": [
    {
     "name": "stdout",
     "output_type": "stream",
     "text": [
      "gender: \n",
      "Number of categories: 2\n",
      "Categories: ['Female', 'Male']\n",
      "\n",
      "driving_license: \n",
      "Number of categories: 2\n",
      "Categories: [0, 1]\n",
      "\n",
      "vehicle_age: \n",
      "Number of categories: 3\n",
      "Categories: ['1-2 Year', '< 1 Year', '> 2 Years']\n",
      "\n",
      "vehicle_damage: \n",
      "Number of categories: 2\n",
      "Categories: ['No', 'Yes']\n",
      "\n",
      "previously_insured: \n",
      "Number of categories: 2\n",
      "Categories: [0, 1]\n",
      "\n",
      "policy_sales_channel: \n",
      "Number of categories: 155\n",
      "Categories: [1, 2, 3, 4, 6, 7, 8, 9, 10, 11, 12, 13, 14, 15, 16, 17, 18, 19, 20, 21, 22, 23, 24, 25, 26, 27, 28, 29, 30, 31, 32, 33, 34, 35, 36, 37, 38, 39, 40, 41, 42, 43, 44, 45, 46, 47, 48, 49, 50, 51, 52, 53, 54, 55, 56, 57, 58, 59, 60, 61, 62, 63, 64, 65, 66, 67, 68, 69, 70, 71, 73, 74, 75, 76, 78, 79, 80, 81, 82, 83, 84, 86, 87, 88, 89, 90, 91, 92, 93, 94, 95, 96, 97, 98, 99, 100, 101, 102, 103, 104, 105, 106, 107, 108, 109, 110, 111, 112, 113, 114, 115, 116, 117, 118, 119, 120, 121, 122, 123, 124, 125, 126, 127, 128, 129, 130, 131, 132, 133, 134, 135, 136, 137, 138, 139, 140, 143, 144, 145, 146, 147, 148, 149, 150, 151, 152, 153, 154, 155, 156, 157, 158, 159, 160, 163]\n",
      "\n",
      "region_code: \n",
      "Number of categories: 53\n",
      "Categories: [0, 1, 2, 3, 4, 5, 6, 7, 8, 9, 10, 11, 12, 13, 14, 15, 16, 17, 18, 19, 20, 21, 22, 23, 24, 25, 26, 27, 28, 29, 30, 31, 32, 33, 34, 35, 36, 37, 38, 39, 40, 41, 42, 43, 44, 45, 46, 47, 48, 49, 50, 51, 52]\n",
      "\n"
     ]
    }
   ],
   "source": [
    "for i in cat_attributes.columns:\n",
    "    print(f'{i}: \\nNumber of categories: {cat_attributes[i].unique().shape[0]}\\nCategories: {sorted(cat_attributes[i].unique())}\\n')"
   ]
  },
  {
   "cell_type": "markdown",
   "id": "ee72a599",
   "metadata": {},
   "source": [
    "# 2.0 Feature Engineering"
   ]
  },
  {
   "cell_type": "code",
   "execution_count": 145,
   "id": "08d88b62",
   "metadata": {
    "ExecuteTime": {
     "end_time": "2022-10-06T23:45:14.195310Z",
     "start_time": "2022-10-06T23:45:14.149683Z"
    }
   },
   "outputs": [],
   "source": [
    "df2 = df1.copy()"
   ]
  },
  {
   "cell_type": "code",
   "execution_count": 146,
   "id": "d8d6dd6d",
   "metadata": {
    "ExecuteTime": {
     "end_time": "2022-10-06T23:45:14.225839Z",
     "start_time": "2022-10-06T23:45:14.197559Z"
    }
   },
   "outputs": [
    {
     "data": {
      "image/png": "[encoded data removed]",
      "text/plain": [
       "<IPython.core.display.Image object>"
      ]
     },
     "execution_count": 146,
     "metadata": {},
     "output_type": "execute_result"
    }
   ],
   "source": [
    "Image('img/Vehicle_Insurance.png')"
   ]
  },
  {
   "cell_type": "markdown",
   "id": "de934468",
   "metadata": {},
   "source": [
    "## 2.1 Hyphotesis Mind Map"
   ]
  },
  {
   "cell_type": "markdown",
   "id": "d5be40e1",
   "metadata": {},
   "source": [
    "### 2.1.1 Customer's Hyphotesis\n",
    "\n",
    "1. Customers over 40 years old are 50% more interest in vehicle insurance"
   ]
  },
  {
   "cell_type": "markdown",
   "id": "c21c62aa",
   "metadata": {},
   "source": [
    "### 2.1.2 Vehicle's Hyphotesis\n",
    "\n",
    "1. Customer with a newer vehicle are 30% more interest in adquire the vericle insurance than customer with older cars"
   ]
  },
  {
   "cell_type": "markdown",
   "id": "e4e50bed",
   "metadata": {},
   "source": [
    "### 2.1.3 Company Relationship's Hyphotesis\n",
    "\n",
    "1. Customer with less than 30 days in relation with the company are 40% more interest in adquire the vehicle insurance"
   ]
  },
  {
   "cell_type": "markdown",
   "id": "56e2b38f",
   "metadata": {},
   "source": [
    "## 2.2 Feature Criation"
   ]
  },
  {
   "cell_type": "code",
   "execution_count": 147,
   "id": "e0e55ce9",
   "metadata": {
    "ExecuteTime": {
     "end_time": "2022-10-06T23:45:14.257482Z",
     "start_time": "2022-10-06T23:45:14.229480Z"
    }
   },
   "outputs": [
    {
     "data": {
      "text/html": [
       "<div>\n",
       "<style scoped>\n",
       "    .dataframe tbody tr th:only-of-type {\n",
       "        vertical-align: middle;\n",
       "    }\n",
       "\n",
       "    .dataframe tbody tr th {\n",
       "        vertical-align: top;\n",
       "    }\n",
       "\n",
       "    .dataframe thead th {\n",
       "        text-align: right;\n",
       "    }\n",
       "</style>\n",
       "<table border=\"1\" class=\"dataframe\">\n",
       "  <thead>\n",
       "    <tr style=\"text-align: right;\">\n",
       "      <th></th>\n",
       "      <th>id</th>\n",
       "      <th>gender</th>\n",
       "      <th>age</th>\n",
       "      <th>region_code</th>\n",
       "      <th>policy_sales_channel</th>\n",
       "      <th>driving_license</th>\n",
       "      <th>vehicle_age</th>\n",
       "      <th>vehicle_damage</th>\n",
       "      <th>previously_insured</th>\n",
       "      <th>annual_premium</th>\n",
       "      <th>vintage</th>\n",
       "      <th>response</th>\n",
       "    </tr>\n",
       "  </thead>\n",
       "  <tbody>\n",
       "    <tr>\n",
       "      <th>0</th>\n",
       "      <td>7</td>\n",
       "      <td>Male</td>\n",
       "      <td>23</td>\n",
       "      <td>11</td>\n",
       "      <td>152</td>\n",
       "      <td>1</td>\n",
       "      <td>&lt; 1 Year</td>\n",
       "      <td>Yes</td>\n",
       "      <td>0</td>\n",
       "      <td>23367.0</td>\n",
       "      <td>249</td>\n",
       "      <td>0</td>\n",
       "    </tr>\n",
       "    <tr>\n",
       "      <th>1</th>\n",
       "      <td>13</td>\n",
       "      <td>Female</td>\n",
       "      <td>41</td>\n",
       "      <td>15</td>\n",
       "      <td>14</td>\n",
       "      <td>1</td>\n",
       "      <td>1-2 Year</td>\n",
       "      <td>No</td>\n",
       "      <td>1</td>\n",
       "      <td>31409.0</td>\n",
       "      <td>221</td>\n",
       "      <td>0</td>\n",
       "    </tr>\n",
       "    <tr>\n",
       "      <th>2</th>\n",
       "      <td>18</td>\n",
       "      <td>Female</td>\n",
       "      <td>25</td>\n",
       "      <td>35</td>\n",
       "      <td>152</td>\n",
       "      <td>1</td>\n",
       "      <td>&lt; 1 Year</td>\n",
       "      <td>No</td>\n",
       "      <td>1</td>\n",
       "      <td>46622.0</td>\n",
       "      <td>299</td>\n",
       "      <td>0</td>\n",
       "    </tr>\n",
       "    <tr>\n",
       "      <th>3</th>\n",
       "      <td>31</td>\n",
       "      <td>Female</td>\n",
       "      <td>26</td>\n",
       "      <td>8</td>\n",
       "      <td>160</td>\n",
       "      <td>1</td>\n",
       "      <td>&lt; 1 Year</td>\n",
       "      <td>No</td>\n",
       "      <td>0</td>\n",
       "      <td>2630.0</td>\n",
       "      <td>136</td>\n",
       "      <td>0</td>\n",
       "    </tr>\n",
       "    <tr>\n",
       "      <th>4</th>\n",
       "      <td>39</td>\n",
       "      <td>Male</td>\n",
       "      <td>45</td>\n",
       "      <td>8</td>\n",
       "      <td>124</td>\n",
       "      <td>1</td>\n",
       "      <td>1-2 Year</td>\n",
       "      <td>Yes</td>\n",
       "      <td>0</td>\n",
       "      <td>42297.0</td>\n",
       "      <td>264</td>\n",
       "      <td>0</td>\n",
       "    </tr>\n",
       "  </tbody>\n",
       "</table>\n",
       "</div>"
      ],
      "text/plain": [
       "   id  gender  age  region_code  policy_sales_channel  driving_license vehicle_age vehicle_damage  previously_insured  annual_premium  vintage  response\n",
       "0   7    Male   23           11                   152                1    < 1 Year            Yes                   0         23367.0      249         0\n",
       "1  13  Female   41           15                    14                1    1-2 Year             No                   1         31409.0      221         0\n",
       "2  18  Female   25           35                   152                1    < 1 Year             No                   1         46622.0      299         0\n",
       "3  31  Female   26            8                   160                1    < 1 Year             No                   0          2630.0      136         0\n",
       "4  39    Male   45            8                   124                1    1-2 Year            Yes                   0         42297.0      264         0"
      ]
     },
     "execution_count": 147,
     "metadata": {},
     "output_type": "execute_result"
    }
   ],
   "source": [
    "df2.head()"
   ]
  },
  {
   "cell_type": "code",
   "execution_count": 148,
   "id": "5f7aa2ee",
   "metadata": {
    "ExecuteTime": {
     "end_time": "2022-10-06T23:45:14.383234Z",
     "start_time": "2022-10-06T23:45:14.259401Z"
    }
   },
   "outputs": [],
   "source": [
    "# vericle_age\n",
    "df2['vehicle_age'] = df2['vehicle_age'].apply(lambda x: 'bellow_1_year' if x == '< 1 Year' else \n",
    "                                                     'between_1_2_year' if x == '1-2 Year' else \n",
    "                                                     'over_2_years')"
   ]
  },
  {
   "cell_type": "code",
   "execution_count": 149,
   "id": "70c4a400",
   "metadata": {
    "ExecuteTime": {
     "end_time": "2022-10-06T23:45:14.414329Z",
     "start_time": "2022-10-06T23:45:14.385230Z"
    }
   },
   "outputs": [
    {
     "data": {
      "text/html": [
       "<div>\n",
       "<style scoped>\n",
       "    .dataframe tbody tr th:only-of-type {\n",
       "        vertical-align: middle;\n",
       "    }\n",
       "\n",
       "    .dataframe tbody tr th {\n",
       "        vertical-align: top;\n",
       "    }\n",
       "\n",
       "    .dataframe thead th {\n",
       "        text-align: right;\n",
       "    }\n",
       "</style>\n",
       "<table border=\"1\" class=\"dataframe\">\n",
       "  <thead>\n",
       "    <tr style=\"text-align: right;\">\n",
       "      <th></th>\n",
       "      <th>id</th>\n",
       "      <th>gender</th>\n",
       "      <th>age</th>\n",
       "      <th>region_code</th>\n",
       "      <th>policy_sales_channel</th>\n",
       "      <th>driving_license</th>\n",
       "      <th>vehicle_age</th>\n",
       "      <th>vehicle_damage</th>\n",
       "      <th>previously_insured</th>\n",
       "      <th>annual_premium</th>\n",
       "      <th>vintage</th>\n",
       "      <th>response</th>\n",
       "    </tr>\n",
       "  </thead>\n",
       "  <tbody>\n",
       "    <tr>\n",
       "      <th>0</th>\n",
       "      <td>7</td>\n",
       "      <td>Male</td>\n",
       "      <td>23</td>\n",
       "      <td>11</td>\n",
       "      <td>152</td>\n",
       "      <td>1</td>\n",
       "      <td>bellow_1_year</td>\n",
       "      <td>Yes</td>\n",
       "      <td>0</td>\n",
       "      <td>23367.0</td>\n",
       "      <td>249</td>\n",
       "      <td>0</td>\n",
       "    </tr>\n",
       "    <tr>\n",
       "      <th>1</th>\n",
       "      <td>13</td>\n",
       "      <td>Female</td>\n",
       "      <td>41</td>\n",
       "      <td>15</td>\n",
       "      <td>14</td>\n",
       "      <td>1</td>\n",
       "      <td>between_1_2_year</td>\n",
       "      <td>No</td>\n",
       "      <td>1</td>\n",
       "      <td>31409.0</td>\n",
       "      <td>221</td>\n",
       "      <td>0</td>\n",
       "    </tr>\n",
       "    <tr>\n",
       "      <th>2</th>\n",
       "      <td>18</td>\n",
       "      <td>Female</td>\n",
       "      <td>25</td>\n",
       "      <td>35</td>\n",
       "      <td>152</td>\n",
       "      <td>1</td>\n",
       "      <td>bellow_1_year</td>\n",
       "      <td>No</td>\n",
       "      <td>1</td>\n",
       "      <td>46622.0</td>\n",
       "      <td>299</td>\n",
       "      <td>0</td>\n",
       "    </tr>\n",
       "    <tr>\n",
       "      <th>3</th>\n",
       "      <td>31</td>\n",
       "      <td>Female</td>\n",
       "      <td>26</td>\n",
       "      <td>8</td>\n",
       "      <td>160</td>\n",
       "      <td>1</td>\n",
       "      <td>bellow_1_year</td>\n",
       "      <td>No</td>\n",
       "      <td>0</td>\n",
       "      <td>2630.0</td>\n",
       "      <td>136</td>\n",
       "      <td>0</td>\n",
       "    </tr>\n",
       "    <tr>\n",
       "      <th>4</th>\n",
       "      <td>39</td>\n",
       "      <td>Male</td>\n",
       "      <td>45</td>\n",
       "      <td>8</td>\n",
       "      <td>124</td>\n",
       "      <td>1</td>\n",
       "      <td>between_1_2_year</td>\n",
       "      <td>Yes</td>\n",
       "      <td>0</td>\n",
       "      <td>42297.0</td>\n",
       "      <td>264</td>\n",
       "      <td>0</td>\n",
       "    </tr>\n",
       "  </tbody>\n",
       "</table>\n",
       "</div>"
      ],
      "text/plain": [
       "   id  gender  age  region_code  policy_sales_channel  driving_license       vehicle_age vehicle_damage  previously_insured  annual_premium  vintage  response\n",
       "0   7    Male   23           11                   152                1     bellow_1_year            Yes                   0         23367.0      249         0\n",
       "1  13  Female   41           15                    14                1  between_1_2_year             No                   1         31409.0      221         0\n",
       "2  18  Female   25           35                   152                1     bellow_1_year             No                   1         46622.0      299         0\n",
       "3  31  Female   26            8                   160                1     bellow_1_year             No                   0          2630.0      136         0\n",
       "4  39    Male   45            8                   124                1  between_1_2_year            Yes                   0         42297.0      264         0"
      ]
     },
     "execution_count": 149,
     "metadata": {},
     "output_type": "execute_result"
    }
   ],
   "source": [
    "df2.head()"
   ]
  },
  {
   "cell_type": "markdown",
   "id": "693272c8",
   "metadata": {},
   "source": [
    "# 3.0 Data Filtering"
   ]
  },
  {
   "cell_type": "code",
   "execution_count": 150,
   "id": "995e9e62",
   "metadata": {
    "ExecuteTime": {
     "end_time": "2022-10-06T23:45:14.491177Z",
     "start_time": "2022-10-06T23:45:14.416325Z"
    }
   },
   "outputs": [],
   "source": [
    "df3 = df2.copy()"
   ]
  },
  {
   "cell_type": "markdown",
   "id": "e314a9b5",
   "metadata": {},
   "source": [
    "# 4.0 Exploratory Data Analysis"
   ]
  },
  {
   "cell_type": "code",
   "execution_count": 151,
   "id": "d353005b",
   "metadata": {
    "ExecuteTime": {
     "end_time": "2022-10-06T23:45:14.552452Z",
     "start_time": "2022-10-06T23:45:14.494462Z"
    }
   },
   "outputs": [],
   "source": [
    "df4 = df3.copy()"
   ]
  },
  {
   "cell_type": "code",
   "execution_count": 152,
   "id": "419211bf",
   "metadata": {
    "ExecuteTime": {
     "end_time": "2022-10-06T23:45:14.568187Z",
     "start_time": "2022-10-06T23:45:14.554441Z"
    }
   },
   "outputs": [],
   "source": [
    "# report = sv.analyze(df4)\n",
    "# report.show_html()"
   ]
  },
  {
   "cell_type": "markdown",
   "id": "52ff783e",
   "metadata": {},
   "source": [
    "## 4.1. Univariate Analysis"
   ]
  },
  {
   "cell_type": "markdown",
   "id": "df8ab171",
   "metadata": {},
   "source": [
    "### 4.1.1 Numerial Variables"
   ]
  },
  {
   "cell_type": "markdown",
   "id": "61e7910f",
   "metadata": {
    "hide_input": true
   },
   "source": [
    "#### 4.1.1.1 Age\n",
    "\n",
    "- Although people between 20 and 30 years old are not usually interest, people between 40 and 50 years old are offen intereset"
   ]
  },
  {
   "cell_type": "code",
   "execution_count": 153,
   "id": "84d72d1c",
   "metadata": {
    "ExecuteTime": {
     "end_time": "2022-10-06T23:45:14.725465Z",
     "start_time": "2022-10-06T23:45:14.569987Z"
    },
    "cell_style": "center",
    "hide_input": true,
    "scrolled": true
   },
   "outputs": [
    {
     "data": {
      "image/png": "[encoded data removed]",
      "text/plain": [
       "<Figure size 720x360 with 1 Axes>"
      ]
     },
     "metadata": {
      "needs_background": "light"
     },
     "output_type": "display_data"
    }
   ],
   "source": [
    "# 'age'\n",
    "fig = plt.figure(figsize=(10,5))\n",
    "sns.boxplot(x='response',y='age',data=df4);"
   ]
  },
  {
   "cell_type": "markdown",
   "id": "b5ea7b41",
   "metadata": {
    "cell_style": "split",
    "heading_collapsed": true
   },
   "source": [
    "##### Not Interesed"
   ]
  },
  {
   "cell_type": "markdown",
   "id": "fd1c6447",
   "metadata": {
    "cell_style": "split"
   },
   "source": [
    "##### Interessed"
   ]
  },
  {
   "cell_type": "code",
   "execution_count": 154,
   "id": "f1301b98",
   "metadata": {
    "ExecuteTime": {
     "end_time": "2022-10-06T23:45:15.168204Z",
     "start_time": "2022-10-06T23:45:14.731458Z"
    },
    "cell_style": "split",
    "hide_input": true,
    "scrolled": true
   },
   "outputs": [
    {
     "data": {
      "text/plain": [
       "<AxesSubplot:xlabel='age', ylabel='Count'>"
      ]
     },
     "execution_count": 154,
     "metadata": {},
     "output_type": "execute_result"
    },
    {
     "data": {
      "image/png": "[encoded data removed]",
      "text/plain": [
       "<Figure size 432x288 with 1 Axes>"
      ]
     },
     "metadata": {
      "needs_background": "light"
     },
     "output_type": "display_data"
    }
   ],
   "source": [
    "aux00 = df4.loc[df4['response'] == 0, 'age']\n",
    "sns.histplot(aux00)"
   ]
  },
  {
   "cell_type": "code",
   "execution_count": 155,
   "id": "5d3606cb",
   "metadata": {
    "ExecuteTime": {
     "end_time": "2022-10-06T23:45:15.438159Z",
     "start_time": "2022-10-06T23:45:15.171031Z"
    },
    "cell_style": "split",
    "hide_input": true,
    "scrolled": true
   },
   "outputs": [
    {
     "data": {
      "text/plain": [
       "<AxesSubplot:xlabel='age', ylabel='Count'>"
      ]
     },
     "execution_count": 155,
     "metadata": {},
     "output_type": "execute_result"
    },
    {
     "data": {
      "image/png": "[encoded data removed]",
      "text/plain": [
       "<Figure size 432x288 with 1 Axes>"
      ]
     },
     "metadata": {
      "needs_background": "light"
     },
     "output_type": "display_data"
    }
   ],
   "source": [
    "aux00 = df4.loc[df4['response'] == 1, 'age']\n",
    "sns.histplot(aux00)"
   ]
  },
  {
   "cell_type": "markdown",
   "id": "f5c5d202",
   "metadata": {},
   "source": [
    "#### 4.1.1.2 Annual Premium\n",
    "\n",
    "- The distribuiton of annual premium are very similuar to interest and not interest people. Only the scale of this distribution are diferent"
   ]
  },
  {
   "cell_type": "code",
   "execution_count": 156,
   "id": "bd3ddf07",
   "metadata": {
    "ExecuteTime": {
     "end_time": "2022-10-06T23:45:17.075071Z",
     "start_time": "2022-10-06T23:45:15.440156Z"
    },
    "cell_style": "center",
    "hide_input": true
   },
   "outputs": [
    {
     "data": {
      "image/png": "[encoded data removed]",
      "text/plain": [
       "<Figure size 432x288 with 1 Axes>"
      ]
     },
     "metadata": {
      "needs_background": "light"
     },
     "output_type": "display_data"
    }
   ],
   "source": [
    "# 'annual_premium'\n",
    "aux = df4[(df4['annual_premium'] < 80000) & (df4['annual_premium'] > 10000)]\n",
    "sns.boxplot(x='response',y='annual_premium',data=aux);"
   ]
  },
  {
   "cell_type": "markdown",
   "id": "c441613e",
   "metadata": {
    "cell_style": "split"
   },
   "source": [
    "##### Interesed"
   ]
  },
  {
   "cell_type": "markdown",
   "id": "cecb8719",
   "metadata": {
    "cell_style": "split"
   },
   "source": [
    "##### Not interessed"
   ]
  },
  {
   "cell_type": "code",
   "execution_count": 157,
   "id": "53f10675",
   "metadata": {
    "ExecuteTime": {
     "end_time": "2022-10-06T23:45:17.702943Z",
     "start_time": "2022-10-06T23:45:17.087039Z"
    },
    "cell_style": "split",
    "hide_input": true,
    "scrolled": true
   },
   "outputs": [
    {
     "data": {
      "text/plain": [
       "<AxesSubplot:xlabel='annual_premium', ylabel='Count'>"
      ]
     },
     "execution_count": 157,
     "metadata": {},
     "output_type": "execute_result"
    },
    {
     "data": {
      "image/png": "[encoded data removed]",
      "text/plain": [
       "<Figure size 432x288 with 1 Axes>"
      ]
     },
     "metadata": {
      "needs_background": "light"
     },
     "output_type": "display_data"
    }
   ],
   "source": [
    "aux00 = aux.loc[aux['response'] == 0, 'annual_premium']\n",
    "sns.histplot(aux00)"
   ]
  },
  {
   "cell_type": "code",
   "execution_count": 158,
   "id": "f8f07f8c",
   "metadata": {
    "ExecuteTime": {
     "end_time": "2022-10-06T23:45:17.997207Z",
     "start_time": "2022-10-06T23:45:17.704893Z"
    },
    "cell_style": "split",
    "hide_input": true,
    "scrolled": false
   },
   "outputs": [
    {
     "data": {
      "text/plain": [
       "<AxesSubplot:xlabel='annual_premium', ylabel='Count'>"
      ]
     },
     "execution_count": 158,
     "metadata": {},
     "output_type": "execute_result"
    },
    {
     "data": {
      "image/png": "[encoded data removed]",
      "text/plain": [
       "<Figure size 432x288 with 1 Axes>"
      ]
     },
     "metadata": {
      "needs_background": "light"
     },
     "output_type": "display_data"
    }
   ],
   "source": [
    "aux00 = aux.loc[aux['response'] == 1, 'annual_premium']\n",
    "sns.histplot(aux00)"
   ]
  },
  {
   "cell_type": "markdown",
   "id": "b51b7c92",
   "metadata": {
    "cell_style": "center",
    "hide_input": true
   },
   "source": [
    "#### 4.1.1.3 Vintage\n",
    "\n",
    "- The vintage (days that the customer is related with the company) is uniform distribuited"
   ]
  },
  {
   "cell_type": "code",
   "execution_count": 159,
   "id": "af732fed",
   "metadata": {
    "ExecuteTime": {
     "end_time": "2022-10-06T23:45:18.184746Z",
     "start_time": "2022-10-06T23:45:17.999203Z"
    },
    "hide_input": true
   },
   "outputs": [
    {
     "data": {
      "image/png": "[encoded data removed]",
      "text/plain": [
       "<Figure size 432x288 with 1 Axes>"
      ]
     },
     "metadata": {
      "needs_background": "light"
     },
     "output_type": "display_data"
    }
   ],
   "source": [
    "# 'annual_premium'\n",
    "sns.boxplot(x='response',y='vintage',data=df4);"
   ]
  },
  {
   "cell_type": "markdown",
   "id": "9ec5701a",
   "metadata": {
    "ExecuteTime": {
     "end_time": "2022-10-01T18:26:08.387532Z",
     "start_time": "2022-10-01T18:26:08.380283Z"
    },
    "cell_style": "split"
   },
   "source": [
    "##### Not intereset"
   ]
  },
  {
   "cell_type": "markdown",
   "id": "650389d8",
   "metadata": {
    "ExecuteTime": {
     "end_time": "2022-10-01T18:26:08.387532Z",
     "start_time": "2022-10-01T18:26:08.380283Z"
    },
    "cell_style": "split"
   },
   "source": [
    "##### Intereset"
   ]
  },
  {
   "cell_type": "code",
   "execution_count": 160,
   "id": "1f5044bb",
   "metadata": {
    "ExecuteTime": {
     "end_time": "2022-10-06T23:45:18.605726Z",
     "start_time": "2022-10-06T23:45:18.186843Z"
    },
    "cell_style": "split",
    "hide_input": true,
    "scrolled": true
   },
   "outputs": [
    {
     "data": {
      "text/plain": [
       "<AxesSubplot:xlabel='vintage', ylabel='Count'>"
      ]
     },
     "execution_count": 160,
     "metadata": {},
     "output_type": "execute_result"
    },
    {
     "data": {
      "image/png": "[encoded data removed]",
      "text/plain": [
       "<Figure size 432x288 with 1 Axes>"
      ]
     },
     "metadata": {
      "needs_background": "light"
     },
     "output_type": "display_data"
    }
   ],
   "source": [
    "aux00 = df4.loc[df4['response'] == 0, 'vintage']\n",
    "sns.histplot(aux00)"
   ]
  },
  {
   "cell_type": "code",
   "execution_count": 161,
   "id": "5dfaf939",
   "metadata": {
    "ExecuteTime": {
     "end_time": "2022-10-06T23:45:18.839765Z",
     "start_time": "2022-10-06T23:45:18.608920Z"
    },
    "cell_style": "split",
    "hide_input": true,
    "scrolled": false
   },
   "outputs": [
    {
     "data": {
      "text/plain": [
       "<AxesSubplot:xlabel='vintage', ylabel='Count'>"
      ]
     },
     "execution_count": 161,
     "metadata": {},
     "output_type": "execute_result"
    },
    {
     "data": {
      "image/png": "[encoded data removed]",
      "text/plain": [
       "<Figure size 432x288 with 1 Axes>"
      ]
     },
     "metadata": {
      "needs_background": "light"
     },
     "output_type": "display_data"
    }
   ],
   "source": [
    "aux00 = df4.loc[df4['response'] == 1, 'vintage']\n",
    "sns.histplot(aux00)"
   ]
  },
  {
   "cell_type": "markdown",
   "id": "9b299300",
   "metadata": {},
   "source": [
    "### 4.1.2 Categorical Variables"
   ]
  },
  {
   "cell_type": "markdown",
   "id": "26b785f6",
   "metadata": {},
   "source": [
    "#### 4.1.2.1 Gender\n",
    "\n",
    "- Mens represents 54% of the elevible customer but represents 61% of whole car insurance interest"
   ]
  },
  {
   "cell_type": "code",
   "execution_count": 162,
   "id": "7f0ff2d0",
   "metadata": {
    "ExecuteTime": {
     "end_time": "2022-10-06T23:45:19.026595Z",
     "start_time": "2022-10-06T23:45:18.844169Z"
    },
    "cell_style": "split",
    "hide_input": true
   },
   "outputs": [
    {
     "data": {
      "image/png": "[encoded data removed]",
      "text/plain": [
       "<Figure size 432x288 with 1 Axes>"
      ]
     },
     "metadata": {},
     "output_type": "display_data"
    }
   ],
   "source": [
    "aux2 = pd.DataFrame(df4[['gender','response']].groupby('gender').count()).reset_index()\n",
    "pie_chart(aux2,'gender',\"Gender Distribution\",'Gender')"
   ]
  },
  {
   "cell_type": "code",
   "execution_count": 163,
   "id": "02b0f24d",
   "metadata": {
    "ExecuteTime": {
     "end_time": "2022-10-06T23:45:19.196851Z",
     "start_time": "2022-10-06T23:45:19.028591Z"
    },
    "cell_style": "split",
    "hide_input": true
   },
   "outputs": [
    {
     "data": {
      "image/png": "[encoded data removed]",
      "text/plain": [
       "<Figure size 432x288 with 1 Axes>"
      ]
     },
     "metadata": {},
     "output_type": "display_data"
    }
   ],
   "source": [
    "# pie plot\n",
    "# ax = plt.figure(figsize=(15,6))\n",
    "aux2 = pd.DataFrame(df4[['gender','response']].groupby('gender').sum()).reset_index()\n",
    "pie_chart(aux2,'gender',\"Gender Interest\",'Gender')"
   ]
  },
  {
   "cell_type": "markdown",
   "id": "9994f01b",
   "metadata": {
    "hide_input": true
   },
   "source": [
    "#### 4.1.2.2 Driving License\n",
    "\n",
    "- The majority people has driving license"
   ]
  },
  {
   "cell_type": "code",
   "execution_count": 164,
   "id": "c15d61af",
   "metadata": {
    "ExecuteTime": {
     "end_time": "2022-10-06T23:45:19.338029Z",
     "start_time": "2022-10-06T23:45:19.199034Z"
    },
    "cell_style": "split",
    "hide_input": true,
    "scrolled": true
   },
   "outputs": [
    {
     "data": {
      "image/png": "[encoded data removed]",
      "text/plain": [
       "<Figure size 432x288 with 1 Axes>"
      ]
     },
     "metadata": {
      "needs_background": "light"
     },
     "output_type": "display_data"
    }
   ],
   "source": [
    "aux1 = df4[['driving_license','response']].groupby('driving_license').count().reset_index()\n",
    "g = sns.barplot(x = 'driving_license', y = 'response', data = aux1)\n",
    "g.set_title('Count Of Driving License',fontsize=15)\n",
    "\n",
    "# incluindo labels nas barras\n",
    "for i in g.containers:\n",
    "    g.bar_label(i, color='black', label_type= 'center',fontsize='medium',fmt='%.0f')\n",
    "    g.bar_label(i, color='black', label_type= 'center',fontsize='medium',fmt='%.0f',)"
   ]
  },
  {
   "cell_type": "code",
   "execution_count": 165,
   "id": "b09860ae",
   "metadata": {
    "ExecuteTime": {
     "end_time": "2022-10-06T23:45:19.432632Z",
     "start_time": "2022-10-06T23:45:19.339796Z"
    },
    "cell_style": "split",
    "hide_input": true
   },
   "outputs": [
    {
     "data": {
      "image/png": "[encoded data removed]",
      "text/plain": [
       "<Figure size 432x288 with 1 Axes>"
      ]
     },
     "metadata": {},
     "output_type": "display_data"
    }
   ],
   "source": [
    "# pie plot\n",
    "aux1 = pd.DataFrame(df4[['driving_license','response']].groupby('driving_license').sum()).reset_index()\n",
    "pie_chart(aux1,'driving_license',\"Driving License Interest\",'Driving License')"
   ]
  },
  {
   "cell_type": "markdown",
   "id": "4a9cffcc",
   "metadata": {
    "cell_style": "center",
    "hide_input": false
   },
   "source": [
    "#### 4.1.2.3 Region Code\n",
    "\n",
    "- No region code has a significant majority of interest"
   ]
  },
  {
   "cell_type": "code",
   "execution_count": 166,
   "id": "ad8a2810",
   "metadata": {
    "ExecuteTime": {
     "end_time": "2022-10-06T23:45:21.271156Z",
     "start_time": "2022-10-06T23:45:19.433593Z"
    },
    "cell_style": "center",
    "hide_input": true
   },
   "outputs": [
    {
     "data": {
      "image/png": "[encoded data removed]",
      "text/plain": [
       "<Figure size 1440x360 with 1 Axes>"
      ]
     },
     "metadata": {
      "needs_background": "light"
     },
     "output_type": "display_data"
    }
   ],
   "source": [
    "df_grouped = df4[[\"region_code\", \"response\"]].groupby('region_code').value_counts(normalize=True).unstack('response')\n",
    "df_grouped.plot.bar(stacked=True,figsize=(20,5));\n",
    "plt.title('Interest by Region Code',fontsize=15);"
   ]
  },
  {
   "cell_type": "markdown",
   "id": "3f9928eb",
   "metadata": {
    "hide_input": true
   },
   "source": [
    "#### 4.1.2.4 Previously Insured\n",
    "\n",
    "- Although the similar number of people previously and not previously car insured, the people that haven't previoulsly insurance are the most interested"
   ]
  },
  {
   "cell_type": "code",
   "execution_count": 167,
   "id": "b9d02ae4",
   "metadata": {
    "ExecuteTime": {
     "end_time": "2022-10-06T23:45:21.412067Z",
     "start_time": "2022-10-06T23:45:21.272942Z"
    },
    "cell_style": "split",
    "hide_input": true
   },
   "outputs": [
    {
     "data": {
      "image/png": "[encoded data removed]",
      "text/plain": [
       "<Figure size 432x288 with 1 Axes>"
      ]
     },
     "metadata": {
      "needs_background": "light"
     },
     "output_type": "display_data"
    }
   ],
   "source": [
    "aux1 = df4[['previously_insured','response']].groupby('previously_insured').count().reset_index()\n",
    "g = sns.barplot(x = 'previously_insured', y = 'response', data = aux1)\n",
    "g.set_title('Count of Previously Insured People',fontsize=15)\n",
    "\n",
    "# incluindo labels nas barras\n",
    "for i in g.containers:\n",
    "    g.bar_label(i, color='white', label_type= 'center',fontsize='medium',fmt='%.0f')"
   ]
  },
  {
   "cell_type": "code",
   "execution_count": 168,
   "id": "b2ab7321",
   "metadata": {
    "ExecuteTime": {
     "end_time": "2022-10-06T23:45:21.521853Z",
     "start_time": "2022-10-06T23:45:21.414076Z"
    },
    "cell_style": "split",
    "hide_input": true
   },
   "outputs": [
    {
     "data": {
      "image/png": "[encoded data removed]",
      "text/plain": [
       "<Figure size 432x288 with 1 Axes>"
      ]
     },
     "metadata": {},
     "output_type": "display_data"
    }
   ],
   "source": [
    "aux1 = pd.DataFrame(df4[['previously_insured','response']].groupby('previously_insured').sum()).reset_index()\n",
    "pie_chart(aux1,'previously_insured',\"Previously Insured Interest\",'Previousy')"
   ]
  },
  {
   "cell_type": "markdown",
   "id": "1f5af6c6",
   "metadata": {},
   "source": [
    "#### 4.1.2.5 Vericle Age\n",
    "\n",
    "- THe majority of people has cars bellow 2 years old, but the more interested people has cars over 2 years"
   ]
  },
  {
   "cell_type": "code",
   "execution_count": 169,
   "id": "0d201062",
   "metadata": {
    "ExecuteTime": {
     "end_time": "2022-10-06T23:45:21.724198Z",
     "start_time": "2022-10-06T23:45:21.523846Z"
    },
    "cell_style": "split",
    "hide_input": true
   },
   "outputs": [
    {
     "data": {
      "image/png": "[encoded data removed]",
      "text/plain": [
       "<Figure size 432x288 with 1 Axes>"
      ]
     },
     "metadata": {
      "needs_background": "light"
     },
     "output_type": "display_data"
    }
   ],
   "source": [
    "aux1 = df4[[\"vehicle_age\", \"response\"]].groupby('vehicle_age').count().reset_index()\n",
    "g = sns.barplot(x = 'vehicle_age', y = 'response', data = aux1)\n",
    "g.set_title('Count Of Vehicle Age',fontsize=15)\n",
    "\n",
    "# incluindo labels nas barras\n",
    "for i in g.containers:\n",
    "    g.bar_label(i, color='white', label_type= 'center',fontsize='medium',fmt='%.0f')"
   ]
  },
  {
   "cell_type": "code",
   "execution_count": 170,
   "id": "40d64f52",
   "metadata": {
    "ExecuteTime": {
     "end_time": "2022-10-06T23:45:23.092062Z",
     "start_time": "2022-10-06T23:45:21.726221Z"
    },
    "cell_style": "split",
    "hide_input": true
   },
   "outputs": [
    {
     "data": {
      "image/png": "[encoded data removed]",
      "text/plain": [
       "<Figure size 720x360 with 1 Axes>"
      ]
     },
     "metadata": {
      "needs_background": "light"
     },
     "output_type": "display_data"
    }
   ],
   "source": [
    "# 'vehicle_age'\n",
    "df_grouped = df4[[\"vehicle_age\", \"response\"]].groupby('vehicle_age').value_counts(normalize=True).unstack('response')\n",
    "g = df_grouped.plot.bar(stacked=True,figsize=(10,5));\n",
    "\n",
    "for i in g.containers:\n",
    "    g.bar_label(i, color='white', label_type= 'center',fontsize='x-large',fmt='%.2f')"
   ]
  },
  {
   "cell_type": "markdown",
   "id": "c1a04ed8",
   "metadata": {},
   "source": [
    "#### 4.1.2.6 Policy Sales Channel\n",
    "\n",
    "- Although the quantity diference of sales channel, no channel has the majority of the interest people"
   ]
  },
  {
   "cell_type": "code",
   "execution_count": 171,
   "id": "f9d537ff",
   "metadata": {
    "ExecuteTime": {
     "end_time": "2022-10-06T23:45:23.122653Z",
     "start_time": "2022-10-06T23:45:23.093771Z"
    },
    "hide_input": true
   },
   "outputs": [],
   "source": [
    "# policy_sales_channel\n",
    "aux0 = df4[['policy_sales_channel','response']].groupby('policy_sales_channel').sum().reset_index()\n",
    "aux1 = aux0[aux0['response'] > 40.0]### 4.1.6 Previously Insured"
   ]
  },
  {
   "cell_type": "code",
   "execution_count": 172,
   "id": "7aa9cba4",
   "metadata": {
    "ExecuteTime": {
     "end_time": "2022-10-06T23:45:25.065008Z",
     "start_time": "2022-10-06T23:45:23.126682Z"
    },
    "hide_input": true
   },
   "outputs": [
    {
     "data": {
      "image/png": "[encoded data removed]",
      "text/plain": [
       "<Figure size 1440x360 with 1 Axes>"
      ]
     },
     "metadata": {
      "needs_background": "light"
     },
     "output_type": "display_data"
    }
   ],
   "source": [
    "aux = df4[[\"policy_sales_channel\", \"response\"]].groupby('policy_sales_channel').sum().reset_index()\n",
    "aux = aux[aux['response'] > 40]\n",
    "\n",
    "# 'policy_sales_channel'\n",
    "aux2 = df4[df4['policy_sales_channel'].isin(aux['policy_sales_channel'])]\n",
    "df_grouped = aux2[[\"policy_sales_channel\", \"response\"]].groupby('policy_sales_channel').value_counts(normalize=True).unstack('response')\n",
    "df_grouped.plot.bar(stacked=True,figsize=(20,5));\n",
    "plt.title('Interest by Sales Channel',fontsize=15);"
   ]
  },
  {
   "cell_type": "code",
   "execution_count": 173,
   "id": "4c908574",
   "metadata": {
    "ExecuteTime": {
     "end_time": "2022-10-06T23:45:25.469696Z",
     "start_time": "2022-10-06T23:45:25.065885Z"
    },
    "hide_input": true
   },
   "outputs": [
    {
     "data": {
      "image/png": "[encoded data removed]",
      "text/plain": [
       "<Figure size 1440x360 with 1 Axes>"
      ]
     },
     "metadata": {
      "needs_background": "light"
     },
     "output_type": "display_data"
    }
   ],
   "source": [
    "fig = plt.figure(figsize=(20,5))\n",
    "aux = df4[[\"policy_sales_channel\", \"response\"]].groupby('policy_sales_channel').sum().reset_index()\n",
    "aux = aux[aux['response'] > 40]\n",
    "\n",
    "sns.barplot(data=aux,x='policy_sales_channel',y='response');\n",
    "plt.title('Count of Sales Channel',fontsize=15);"
   ]
  },
  {
   "cell_type": "markdown",
   "id": "c46516d2",
   "metadata": {
    "hide_input": true
   },
   "source": [
    "#### 4.1.2.7 Vehicle Damage\n",
    "\n",
    "- Although tha simular number of damage and not damage vehicles, people that are more interest has a vehicle damage in the past"
   ]
  },
  {
   "cell_type": "code",
   "execution_count": 174,
   "id": "22b484e2",
   "metadata": {
    "ExecuteTime": {
     "end_time": "2022-10-06T23:45:25.674765Z",
     "start_time": "2022-10-06T23:45:25.471630Z"
    },
    "cell_style": "split",
    "hide_input": true,
    "scrolled": true
   },
   "outputs": [
    {
     "data": {
      "image/png": "[encoded data removed]",
      "text/plain": [
       "<Figure size 432x288 with 1 Axes>"
      ]
     },
     "metadata": {
      "needs_background": "light"
     },
     "output_type": "display_data"
    }
   ],
   "source": [
    "# 'vehicle_damage'\n",
    "aux1 = df4[['vehicle_damage','response']].groupby('vehicle_damage').count().reset_index()\n",
    "g = sns.barplot(x = 'vehicle_damage', y = 'response', data = aux1)\n",
    "g.set_title('Count per Vehicle Damage')\n",
    "\n",
    "# incluindo labels nas barras\n",
    "for i in g.containers:\n",
    "    g.bar_label(i, color='white', label_type= 'center',fontsize='medium',fmt='%.2f')"
   ]
  },
  {
   "cell_type": "code",
   "execution_count": 175,
   "id": "d9af14f4",
   "metadata": {
    "ExecuteTime": {
     "end_time": "2022-10-06T23:45:25.846700Z",
     "start_time": "2022-10-06T23:45:25.677075Z"
    },
    "cell_style": "split",
    "hide_input": true,
    "scrolled": true
   },
   "outputs": [
    {
     "data": {
      "image/png": "[encoded data removed]",
      "text/plain": [
       "<Figure size 432x288 with 1 Axes>"
      ]
     },
     "metadata": {},
     "output_type": "display_data"
    }
   ],
   "source": [
    "# pie plot\n",
    "aux1 = pd.DataFrame(df4[['vehicle_damage','response']].groupby('vehicle_damage').sum()).reset_index()\n",
    "pie_chart(aux1,'vehicle_damage',\"Interest in Vehicle Damage\",'Vehicle Damage')"
   ]
  },
  {
   "cell_type": "markdown",
   "id": "5696b4a5",
   "metadata": {},
   "source": [
    "## 4.2. Bivariate Analysis"
   ]
  },
  {
   "cell_type": "markdown",
   "id": "93183530",
   "metadata": {},
   "source": [
    "### H1. Customers over 40 years old are 50% more interest in vehicle insurance\n",
    "\n",
    "- **False**, customer over 40 years old are 48% more interest in vehicle insurance than others"
   ]
  },
  {
   "cell_type": "code",
   "execution_count": 176,
   "id": "69e94123",
   "metadata": {
    "ExecuteTime": {
     "end_time": "2022-10-06T23:45:26.081199Z",
     "start_time": "2022-10-06T23:45:25.848695Z"
    },
    "cell_style": "split",
    "hide_input": false,
    "run_control": {
     "marked": true
    }
   },
   "outputs": [
    {
     "data": {
      "image/png": "[encoded data removed]",
      "text/plain": [
       "<Figure size 576x360 with 1 Axes>"
      ]
     },
     "metadata": {
      "needs_background": "light"
     },
     "output_type": "display_data"
    }
   ],
   "source": [
    "aux = df4[['age','response']].copy()\n",
    "aux['old'] = df4['age'].apply(lambda x: '+ 40 years' if x > 40 else '- 40 years')\n",
    "aux = aux[['old','response']].groupby('old').sum().reset_index().rename(columns={'response':'interest'})\n",
    "\n",
    "fig = plt.figure(figsize=(8,5))\n",
    "g = sns.barplot(x='old', y='interest', data=aux)\n",
    "plt.title('Customers Interested bellow and over 40 Years Old')\n",
    "\n",
    "for i in g.containers:\n",
    "    g.bar_label(i, color='white', label_type= 'center',fontsize='x-large',fmt='%.2f')"
   ]
  },
  {
   "cell_type": "code",
   "execution_count": 177,
   "id": "8ff0ec1a",
   "metadata": {
    "ExecuteTime": {
     "end_time": "2022-10-06T23:45:26.128506Z",
     "start_time": "2022-10-06T23:45:26.095501Z"
    },
    "cell_style": "split",
    "hide_input": true
   },
   "outputs": [
    {
     "data": {
      "text/html": [
       "<div>\n",
       "<style scoped>\n",
       "    .dataframe tbody tr th:only-of-type {\n",
       "        vertical-align: middle;\n",
       "    }\n",
       "\n",
       "    .dataframe tbody tr th {\n",
       "        vertical-align: top;\n",
       "    }\n",
       "\n",
       "    .dataframe thead th {\n",
       "        text-align: right;\n",
       "    }\n",
       "</style>\n",
       "<table border=\"1\" class=\"dataframe\">\n",
       "  <thead>\n",
       "    <tr style=\"text-align: right;\">\n",
       "      <th></th>\n",
       "      <th>old</th>\n",
       "      <th>interest</th>\n",
       "      <th>perc</th>\n",
       "      <th>diff</th>\n",
       "    </tr>\n",
       "  </thead>\n",
       "  <tbody>\n",
       "    <tr>\n",
       "      <th>0</th>\n",
       "      <td>+ 40 years</td>\n",
       "      <td>27930</td>\n",
       "      <td>59.79%</td>\n",
       "      <td>NaN</td>\n",
       "    </tr>\n",
       "    <tr>\n",
       "      <th>1</th>\n",
       "      <td>- 40 years</td>\n",
       "      <td>18780</td>\n",
       "      <td>40.21%</td>\n",
       "      <td>48.72</td>\n",
       "    </tr>\n",
       "  </tbody>\n",
       "</table>\n",
       "</div>"
      ],
      "text/plain": [
       "          old  interest    perc   diff\n",
       "0  + 40 years     27930  59.79%    NaN\n",
       "1  - 40 years     18780  40.21%  48.72"
      ]
     },
     "execution_count": 177,
     "metadata": {},
     "output_type": "execute_result"
    }
   ],
   "source": [
    "aux['perc'] = (round(aux['interest']/aux['interest'].sum()*100,2)).astype(str) + '%'\n",
    "aux['diff'] = aux['interest'].rolling(window=2).apply(lambda x: round((x.iloc[0])*100/x.iloc[1]-100,2))\n",
    "aux"
   ]
  },
  {
   "cell_type": "markdown",
   "id": "3cc23a44",
   "metadata": {},
   "source": [
    "### H2. Customer with a newer vehicle are 30% more interest in adquire the vericle insurance than customer with older cars\n",
    "\n",
    "- **False**, customer with newer vehicle are 81% less interest in adquive the insurance"
   ]
  },
  {
   "cell_type": "code",
   "execution_count": 178,
   "id": "5e12b2b4",
   "metadata": {
    "ExecuteTime": {
     "end_time": "2022-10-06T23:45:26.395575Z",
     "start_time": "2022-10-06T23:45:26.130501Z"
    },
    "cell_style": "split",
    "hide_input": true
   },
   "outputs": [
    {
     "data": {
      "image/png": "[encoded data removed]",
      "text/plain": [
       "<Figure size 576x360 with 1 Axes>"
      ]
     },
     "metadata": {
      "needs_background": "light"
     },
     "output_type": "display_data"
    }
   ],
   "source": [
    "aux = df4[['vehicle_age','response']].copy()\n",
    "aux['vehicle_age'] = aux['vehicle_age'].apply(lambda x: 'new vehicle' if x == 'bellow_1_year' else 'old_vehicle')\n",
    "aux = aux.groupby('vehicle_age').sum().reset_index().rename(columns={'response':'interest'})\n",
    "\n",
    "fig = plt.figure(figsize=(8,5))\n",
    "g = sns.barplot(x='vehicle_age', y='interest', data=aux)\n",
    "plt.title('Customers Interested by Vehicle Age')\n",
    "\n",
    "for i in g.containers:\n",
    "    g.bar_label(i, color='white', label_type= 'center',fontsize='x-large',fmt='%.0f')"
   ]
  },
  {
   "cell_type": "code",
   "execution_count": 179,
   "id": "c8adf6c9",
   "metadata": {
    "ExecuteTime": {
     "end_time": "2022-10-06T23:45:26.411253Z",
     "start_time": "2022-10-06T23:45:26.397290Z"
    },
    "cell_style": "split",
    "hide_input": true
   },
   "outputs": [
    {
     "data": {
      "text/html": [
       "<div>\n",
       "<style scoped>\n",
       "    .dataframe tbody tr th:only-of-type {\n",
       "        vertical-align: middle;\n",
       "    }\n",
       "\n",
       "    .dataframe tbody tr th {\n",
       "        vertical-align: top;\n",
       "    }\n",
       "\n",
       "    .dataframe thead th {\n",
       "        text-align: right;\n",
       "    }\n",
       "</style>\n",
       "<table border=\"1\" class=\"dataframe\">\n",
       "  <thead>\n",
       "    <tr style=\"text-align: right;\">\n",
       "      <th></th>\n",
       "      <th>vehicle_age</th>\n",
       "      <th>interest</th>\n",
       "      <th>perc</th>\n",
       "      <th>diff</th>\n",
       "    </tr>\n",
       "  </thead>\n",
       "  <tbody>\n",
       "    <tr>\n",
       "      <th>0</th>\n",
       "      <td>new vehicle</td>\n",
       "      <td>7202</td>\n",
       "      <td>15.42%</td>\n",
       "      <td>NaN</td>\n",
       "    </tr>\n",
       "    <tr>\n",
       "      <th>1</th>\n",
       "      <td>old_vehicle</td>\n",
       "      <td>39508</td>\n",
       "      <td>84.58%</td>\n",
       "      <td>-81.77</td>\n",
       "    </tr>\n",
       "  </tbody>\n",
       "</table>\n",
       "</div>"
      ],
      "text/plain": [
       "   vehicle_age  interest    perc   diff\n",
       "0  new vehicle      7202  15.42%    NaN\n",
       "1  old_vehicle     39508  84.58% -81.77"
      ]
     },
     "execution_count": 179,
     "metadata": {},
     "output_type": "execute_result"
    }
   ],
   "source": [
    "aux['perc'] = (round(aux['interest']/aux['interest'].sum()*100,2)).astype(str) + '%'\n",
    "aux['diff'] = aux['interest'].rolling(window=2).apply(lambda x: round((x.iloc[0])*100/x.iloc[1]-100,2))\n",
    "aux"
   ]
  },
  {
   "cell_type": "markdown",
   "id": "5eba1415",
   "metadata": {},
   "source": [
    "### H3. Customer with more days in relation with the company are more interest in adquire the vehicle insurance\n",
    "\n",
    "- **False**, as longer as the customer relationship with the company are, the lower is the interest"
   ]
  },
  {
   "cell_type": "code",
   "execution_count": 180,
   "id": "3582b972",
   "metadata": {
    "ExecuteTime": {
     "end_time": "2022-10-06T23:45:26.694185Z",
     "start_time": "2022-10-06T23:45:26.412251Z"
    },
    "hide_input": true
   },
   "outputs": [
    {
     "data": {
      "image/png": "[encoded data removed]",
      "text/plain": [
       "<Figure size 720x432 with 1 Axes>"
      ]
     },
     "metadata": {
      "needs_background": "light"
     },
     "output_type": "display_data"
    }
   ],
   "source": [
    "aux = df4[['vintage','response']].copy()\n",
    "aux = aux.groupby('vintage').sum().reset_index().rename(columns={'response':'interest'})\n",
    "\n",
    "fig = plt.figure(figsize=(10,6))\n",
    "sns.regplot(x='vintage', y='interest',data=aux);\n",
    "plt.xticks(rotation=90);\n",
    "plt.title('Tendence of Sales Per Promotion Time',fontsize=15)\n",
    "plt.tight_layout()"
   ]
  },
  {
   "cell_type": "markdown",
   "id": "91f8c53e",
   "metadata": {},
   "source": [
    "# 5.0 Data Preparation"
   ]
  },
  {
   "cell_type": "code",
   "execution_count": 181,
   "id": "a4596316",
   "metadata": {
    "ExecuteTime": {
     "end_time": "2022-10-06T23:45:26.725191Z",
     "start_time": "2022-10-06T23:45:26.696016Z"
    }
   },
   "outputs": [],
   "source": [
    "df5 = df4.copy()"
   ]
  },
  {
   "cell_type": "markdown",
   "id": "969d4d35",
   "metadata": {},
   "source": [
    "## 5.1 Split Train and Validation Datasets"
   ]
  },
  {
   "cell_type": "code",
   "execution_count": 182,
   "id": "a287aa21",
   "metadata": {
    "ExecuteTime": {
     "end_time": "2022-10-06T23:45:26.942243Z",
     "start_time": "2022-10-06T23:45:26.726174Z"
    }
   },
   "outputs": [],
   "source": [
    "X = df4.drop(['response'],axis=1)\n",
    "y = df4['response'].copy()\n",
    "\n",
    "x_train, x_validation, y_train, y_validation = ms.train_test_split(X, y, test_size=0.2)\n",
    "\n",
    "data_train = pd.concat([x_train, y_train], axis=1)"
   ]
  },
  {
   "cell_type": "code",
   "execution_count": 183,
   "id": "38ea5a66",
   "metadata": {
    "ExecuteTime": {
     "end_time": "2022-10-06T23:45:26.973288Z",
     "start_time": "2022-10-06T23:45:26.945183Z"
    }
   },
   "outputs": [
    {
     "data": {
      "text/html": [
       "<div>\n",
       "<style scoped>\n",
       "    .dataframe tbody tr th:only-of-type {\n",
       "        vertical-align: middle;\n",
       "    }\n",
       "\n",
       "    .dataframe tbody tr th {\n",
       "        vertical-align: top;\n",
       "    }\n",
       "\n",
       "    .dataframe thead th {\n",
       "        text-align: right;\n",
       "    }\n",
       "</style>\n",
       "<table border=\"1\" class=\"dataframe\">\n",
       "  <thead>\n",
       "    <tr style=\"text-align: right;\">\n",
       "      <th></th>\n",
       "      <th>id</th>\n",
       "      <th>gender</th>\n",
       "      <th>age</th>\n",
       "      <th>region_code</th>\n",
       "      <th>policy_sales_channel</th>\n",
       "      <th>driving_license</th>\n",
       "      <th>vehicle_age</th>\n",
       "      <th>vehicle_damage</th>\n",
       "      <th>previously_insured</th>\n",
       "      <th>annual_premium</th>\n",
       "      <th>vintage</th>\n",
       "      <th>response</th>\n",
       "    </tr>\n",
       "  </thead>\n",
       "  <tbody>\n",
       "    <tr>\n",
       "      <th>178569</th>\n",
       "      <td>283845</td>\n",
       "      <td>Female</td>\n",
       "      <td>23</td>\n",
       "      <td>15</td>\n",
       "      <td>152</td>\n",
       "      <td>1</td>\n",
       "      <td>bellow_1_year</td>\n",
       "      <td>No</td>\n",
       "      <td>1</td>\n",
       "      <td>52340.0</td>\n",
       "      <td>279</td>\n",
       "      <td>0</td>\n",
       "    </tr>\n",
       "    <tr>\n",
       "      <th>376098</th>\n",
       "      <td>341276</td>\n",
       "      <td>Male</td>\n",
       "      <td>22</td>\n",
       "      <td>28</td>\n",
       "      <td>152</td>\n",
       "      <td>1</td>\n",
       "      <td>bellow_1_year</td>\n",
       "      <td>Yes</td>\n",
       "      <td>0</td>\n",
       "      <td>83187.0</td>\n",
       "      <td>136</td>\n",
       "      <td>1</td>\n",
       "    </tr>\n",
       "    <tr>\n",
       "      <th>100371</th>\n",
       "      <td>38525</td>\n",
       "      <td>Female</td>\n",
       "      <td>22</td>\n",
       "      <td>8</td>\n",
       "      <td>152</td>\n",
       "      <td>1</td>\n",
       "      <td>bellow_1_year</td>\n",
       "      <td>No</td>\n",
       "      <td>1</td>\n",
       "      <td>49364.0</td>\n",
       "      <td>30</td>\n",
       "      <td>0</td>\n",
       "    </tr>\n",
       "    <tr>\n",
       "      <th>294556</th>\n",
       "      <td>67284</td>\n",
       "      <td>Male</td>\n",
       "      <td>48</td>\n",
       "      <td>28</td>\n",
       "      <td>26</td>\n",
       "      <td>1</td>\n",
       "      <td>between_1_2_year</td>\n",
       "      <td>Yes</td>\n",
       "      <td>0</td>\n",
       "      <td>46986.0</td>\n",
       "      <td>286</td>\n",
       "      <td>1</td>\n",
       "    </tr>\n",
       "    <tr>\n",
       "      <th>44363</th>\n",
       "      <td>353900</td>\n",
       "      <td>Male</td>\n",
       "      <td>56</td>\n",
       "      <td>8</td>\n",
       "      <td>163</td>\n",
       "      <td>1</td>\n",
       "      <td>between_1_2_year</td>\n",
       "      <td>Yes</td>\n",
       "      <td>0</td>\n",
       "      <td>35126.0</td>\n",
       "      <td>59</td>\n",
       "      <td>0</td>\n",
       "    </tr>\n",
       "  </tbody>\n",
       "</table>\n",
       "</div>"
      ],
      "text/plain": [
       "            id  gender  age  region_code  policy_sales_channel  driving_license       vehicle_age vehicle_damage  previously_insured  annual_premium  vintage  response\n",
       "178569  283845  Female   23           15                   152                1     bellow_1_year             No                   1         52340.0      279         0\n",
       "376098  341276    Male   22           28                   152                1     bellow_1_year            Yes                   0         83187.0      136         1\n",
       "100371   38525  Female   22            8                   152                1     bellow_1_year             No                   1         49364.0       30         0\n",
       "294556   67284    Male   48           28                    26                1  between_1_2_year            Yes                   0         46986.0      286         1\n",
       "44363   353900    Male   56            8                   163                1  between_1_2_year            Yes                   0         35126.0       59         0"
      ]
     },
     "execution_count": 183,
     "metadata": {},
     "output_type": "execute_result"
    }
   ],
   "source": [
    "data_train.head()"
   ]
  },
  {
   "cell_type": "markdown",
   "id": "927bfe38",
   "metadata": {
    "heading_collapsed": true
   },
   "source": [
    "## 5.2 Standardization"
   ]
  },
  {
   "cell_type": "code",
   "execution_count": 184,
   "id": "0f596374",
   "metadata": {
    "ExecuteTime": {
     "end_time": "2022-10-06T23:45:27.066876Z",
     "start_time": "2022-10-06T23:45:26.976101Z"
    },
    "hidden": true
   },
   "outputs": [],
   "source": [
    "ss = pp.StandardScaler()\n",
    "\n",
    "## annual_premium\n",
    "data_train['annual_premium'] = ss.fit_transform(data_train[['annual_premium']].values)"
   ]
  },
  {
   "cell_type": "markdown",
   "id": "ff3be51a",
   "metadata": {
    "heading_collapsed": true
   },
   "source": [
    "## 5.3 Rescaling"
   ]
  },
  {
   "cell_type": "code",
   "execution_count": 185,
   "id": "06b631ba",
   "metadata": {
    "ExecuteTime": {
     "end_time": "2022-10-06T23:45:27.114231Z",
     "start_time": "2022-10-06T23:45:27.070859Z"
    },
    "hidden": true
   },
   "outputs": [],
   "source": [
    "mms_age = pp.MinMaxScaler()\n",
    "mms_vintage = pp.MinMaxScaler()\n",
    "\n",
    "## age\n",
    "data_train['age'] = mms_age.fit_transform( data_train[['age']].values )\n",
    "\n",
    "## vintage\n",
    "data_train['vintage'] = mms_age.fit_transform( data_train[['vintage']].values )"
   ]
  },
  {
   "cell_type": "markdown",
   "id": "5505997c",
   "metadata": {
    "heading_collapsed": true
   },
   "source": [
    "## 5.4 Encoder"
   ]
  },
  {
   "cell_type": "markdown",
   "id": "6faa3eea",
   "metadata": {
    "hidden": true
   },
   "source": [
    "### 5.4.1 One Hot Enconding"
   ]
  },
  {
   "cell_type": "code",
   "execution_count": 186,
   "id": "f3947289",
   "metadata": {
    "ExecuteTime": {
     "end_time": "2022-10-06T23:45:27.271890Z",
     "start_time": "2022-10-06T23:45:27.118214Z"
    },
    "hidden": true
   },
   "outputs": [],
   "source": [
    "## vehicle_age\n",
    "data_train = pd.get_dummies(data_train, prefix='vehicle_age',columns=['vehicle_age'])"
   ]
  },
  {
   "cell_type": "markdown",
   "id": "ee3fad1c",
   "metadata": {
    "hidden": true
   },
   "source": [
    "### 5.4.2 Target Enconding"
   ]
  },
  {
   "cell_type": "code",
   "execution_count": 187,
   "id": "f758279f",
   "metadata": {
    "ExecuteTime": {
     "end_time": "2022-10-06T23:45:27.662289Z",
     "start_time": "2022-10-06T23:45:27.274908Z"
    },
    "hidden": true
   },
   "outputs": [],
   "source": [
    "# gender \n",
    "target_encode_gender = data_train.groupby('gender')['response'].mean()\n",
    "data_train.loc[:,'gender'] = data_train['gender'].map(target_encode_gender)\n",
    "\n",
    "# region_code \n",
    "target_encode_region_code = data_train.groupby('region_code')['response'].mean()\n",
    "data_train.loc[:,'region_code'] = data_train['region_code'].map(target_encode_region_code)\n",
    "\n",
    "# vehicle damage\n",
    "target_encode_vehicle_damage = data_train.groupby('vehicle_damage')['response'].mean()\n",
    "data_train.loc[:,'vehicle_damage'] = data_train['vehicle_damage'].map(target_encode_vehicle_damage)"
   ]
  },
  {
   "cell_type": "markdown",
   "id": "ad5a93f4",
   "metadata": {
    "hidden": true
   },
   "source": [
    "### 5.4.3 Frequency Enconding"
   ]
  },
  {
   "cell_type": "code",
   "execution_count": 188,
   "id": "5238f781",
   "metadata": {
    "ExecuteTime": {
     "end_time": "2022-10-06T23:45:27.693420Z",
     "start_time": "2022-10-06T23:45:27.666284Z"
    },
    "hidden": true
   },
   "outputs": [],
   "source": [
    "## policy_sales_channel \n",
    "fe_policy_sales_channel = data_train.groupby('policy_sales_channel').size()/len(data_train)\n",
    "data_train.loc[:,'policy_sales_channel'] = data_train['policy_sales_channel'].map(fe_policy_sales_channel)"
   ]
  },
  {
   "cell_type": "code",
   "execution_count": 189,
   "id": "b2b060d0",
   "metadata": {
    "ExecuteTime": {
     "end_time": "2022-10-06T23:45:27.724136Z",
     "start_time": "2022-10-06T23:45:27.695211Z"
    },
    "hidden": true
   },
   "outputs": [
    {
     "data": {
      "text/html": [
       "<div>\n",
       "<style scoped>\n",
       "    .dataframe tbody tr th:only-of-type {\n",
       "        vertical-align: middle;\n",
       "    }\n",
       "\n",
       "    .dataframe tbody tr th {\n",
       "        vertical-align: top;\n",
       "    }\n",
       "\n",
       "    .dataframe thead th {\n",
       "        text-align: right;\n",
       "    }\n",
       "</style>\n",
       "<table border=\"1\" class=\"dataframe\">\n",
       "  <thead>\n",
       "    <tr style=\"text-align: right;\">\n",
       "      <th></th>\n",
       "      <th>id</th>\n",
       "      <th>gender</th>\n",
       "      <th>age</th>\n",
       "      <th>region_code</th>\n",
       "      <th>policy_sales_channel</th>\n",
       "      <th>driving_license</th>\n",
       "      <th>vehicle_damage</th>\n",
       "      <th>previously_insured</th>\n",
       "      <th>annual_premium</th>\n",
       "      <th>vintage</th>\n",
       "      <th>response</th>\n",
       "      <th>vehicle_age_bellow_1_year</th>\n",
       "      <th>vehicle_age_between_1_2_year</th>\n",
       "      <th>vehicle_age_over_2_years</th>\n",
       "    </tr>\n",
       "  </thead>\n",
       "  <tbody>\n",
       "    <tr>\n",
       "      <th>178569</th>\n",
       "      <td>283845</td>\n",
       "      <td>0.104208</td>\n",
       "      <td>0.046154</td>\n",
       "      <td>0.070793</td>\n",
       "      <td>0.353892</td>\n",
       "      <td>1</td>\n",
       "      <td>0.005375</td>\n",
       "      <td>1</td>\n",
       "      <td>1.266887</td>\n",
       "      <td>0.930796</td>\n",
       "      <td>0</td>\n",
       "      <td>1</td>\n",
       "      <td>0</td>\n",
       "      <td>0</td>\n",
       "    </tr>\n",
       "    <tr>\n",
       "      <th>376098</th>\n",
       "      <td>341276</td>\n",
       "      <td>0.138361</td>\n",
       "      <td>0.030769</td>\n",
       "      <td>0.187540</td>\n",
       "      <td>0.353892</td>\n",
       "      <td>1</td>\n",
       "      <td>0.237608</td>\n",
       "      <td>0</td>\n",
       "      <td>3.061015</td>\n",
       "      <td>0.435986</td>\n",
       "      <td>1</td>\n",
       "      <td>1</td>\n",
       "      <td>0</td>\n",
       "      <td>0</td>\n",
       "    </tr>\n",
       "    <tr>\n",
       "      <th>100371</th>\n",
       "      <td>38525</td>\n",
       "      <td>0.104208</td>\n",
       "      <td>0.030769</td>\n",
       "      <td>0.096905</td>\n",
       "      <td>0.353892</td>\n",
       "      <td>1</td>\n",
       "      <td>0.005375</td>\n",
       "      <td>1</td>\n",
       "      <td>1.093797</td>\n",
       "      <td>0.069204</td>\n",
       "      <td>0</td>\n",
       "      <td>1</td>\n",
       "      <td>0</td>\n",
       "      <td>0</td>\n",
       "    </tr>\n",
       "    <tr>\n",
       "      <th>294556</th>\n",
       "      <td>67284</td>\n",
       "      <td>0.138361</td>\n",
       "      <td>0.430769</td>\n",
       "      <td>0.187540</td>\n",
       "      <td>0.208412</td>\n",
       "      <td>1</td>\n",
       "      <td>0.237608</td>\n",
       "      <td>0</td>\n",
       "      <td>0.955487</td>\n",
       "      <td>0.955017</td>\n",
       "      <td>1</td>\n",
       "      <td>0</td>\n",
       "      <td>1</td>\n",
       "      <td>0</td>\n",
       "    </tr>\n",
       "    <tr>\n",
       "      <th>44363</th>\n",
       "      <td>353900</td>\n",
       "      <td>0.138361</td>\n",
       "      <td>0.553846</td>\n",
       "      <td>0.096905</td>\n",
       "      <td>0.007652</td>\n",
       "      <td>1</td>\n",
       "      <td>0.237608</td>\n",
       "      <td>0</td>\n",
       "      <td>0.265684</td>\n",
       "      <td>0.169550</td>\n",
       "      <td>0</td>\n",
       "      <td>0</td>\n",
       "      <td>1</td>\n",
       "      <td>0</td>\n",
       "    </tr>\n",
       "  </tbody>\n",
       "</table>\n",
       "</div>"
      ],
      "text/plain": [
       "            id    gender       age  region_code  policy_sales_channel  driving_license  vehicle_damage  previously_insured  annual_premium   vintage  response  vehicle_age_bellow_1_year  vehicle_age_between_1_2_year  vehicle_age_over_2_years\n",
       "178569  283845  0.104208  0.046154     0.070793              0.353892                1        0.005375                   1        1.266887  0.930796         0                          1                             0                         0\n",
       "376098  341276  0.138361  0.030769     0.187540              0.353892                1        0.237608                   0        3.061015  0.435986         1                          1                             0                         0\n",
       "100371   38525  0.104208  0.030769     0.096905              0.353892                1        0.005375                   1        1.093797  0.069204         0                          1                             0                         0\n",
       "294556   67284  0.138361  0.430769     0.187540              0.208412                1        0.237608                   0        0.955487  0.955017         1                          0                             1                         0\n",
       "44363   353900  0.138361  0.553846     0.096905              0.007652                1        0.237608                   0        0.265684  0.169550         0                          0                             1                         0"
      ]
     },
     "execution_count": 189,
     "metadata": {},
     "output_type": "execute_result"
    }
   ],
   "source": [
    "data_train.head()"
   ]
  },
  {
   "cell_type": "markdown",
   "id": "6bd2be18",
   "metadata": {
    "heading_collapsed": true
   },
   "source": [
    "## 5.5 Validation Preparation"
   ]
  },
  {
   "cell_type": "code",
   "execution_count": 190,
   "id": "53d8b355",
   "metadata": {
    "ExecuteTime": {
     "end_time": "2022-10-06T23:45:27.755057Z",
     "start_time": "2022-10-06T23:45:27.726131Z"
    },
    "hidden": true
   },
   "outputs": [
    {
     "data": {
      "text/html": [
       "<div>\n",
       "<style scoped>\n",
       "    .dataframe tbody tr th:only-of-type {\n",
       "        vertical-align: middle;\n",
       "    }\n",
       "\n",
       "    .dataframe tbody tr th {\n",
       "        vertical-align: top;\n",
       "    }\n",
       "\n",
       "    .dataframe thead th {\n",
       "        text-align: right;\n",
       "    }\n",
       "</style>\n",
       "<table border=\"1\" class=\"dataframe\">\n",
       "  <thead>\n",
       "    <tr style=\"text-align: right;\">\n",
       "      <th></th>\n",
       "      <th>id</th>\n",
       "      <th>gender</th>\n",
       "      <th>age</th>\n",
       "      <th>region_code</th>\n",
       "      <th>policy_sales_channel</th>\n",
       "      <th>driving_license</th>\n",
       "      <th>vehicle_age</th>\n",
       "      <th>vehicle_damage</th>\n",
       "      <th>previously_insured</th>\n",
       "      <th>annual_premium</th>\n",
       "      <th>vintage</th>\n",
       "    </tr>\n",
       "  </thead>\n",
       "  <tbody>\n",
       "    <tr>\n",
       "      <th>312970</th>\n",
       "      <td>214859</td>\n",
       "      <td>Female</td>\n",
       "      <td>49</td>\n",
       "      <td>28</td>\n",
       "      <td>30</td>\n",
       "      <td>1</td>\n",
       "      <td>between_1_2_year</td>\n",
       "      <td>Yes</td>\n",
       "      <td>0</td>\n",
       "      <td>35419.0</td>\n",
       "      <td>137</td>\n",
       "    </tr>\n",
       "    <tr>\n",
       "      <th>73992</th>\n",
       "      <td>209012</td>\n",
       "      <td>Male</td>\n",
       "      <td>72</td>\n",
       "      <td>36</td>\n",
       "      <td>124</td>\n",
       "      <td>1</td>\n",
       "      <td>between_1_2_year</td>\n",
       "      <td>Yes</td>\n",
       "      <td>0</td>\n",
       "      <td>29273.0</td>\n",
       "      <td>222</td>\n",
       "    </tr>\n",
       "    <tr>\n",
       "      <th>146001</th>\n",
       "      <td>24614</td>\n",
       "      <td>Male</td>\n",
       "      <td>31</td>\n",
       "      <td>50</td>\n",
       "      <td>152</td>\n",
       "      <td>1</td>\n",
       "      <td>bellow_1_year</td>\n",
       "      <td>No</td>\n",
       "      <td>0</td>\n",
       "      <td>30070.0</td>\n",
       "      <td>135</td>\n",
       "    </tr>\n",
       "    <tr>\n",
       "      <th>77818</th>\n",
       "      <td>239517</td>\n",
       "      <td>Male</td>\n",
       "      <td>26</td>\n",
       "      <td>6</td>\n",
       "      <td>152</td>\n",
       "      <td>1</td>\n",
       "      <td>bellow_1_year</td>\n",
       "      <td>No</td>\n",
       "      <td>1</td>\n",
       "      <td>21503.0</td>\n",
       "      <td>170</td>\n",
       "    </tr>\n",
       "    <tr>\n",
       "      <th>289687</th>\n",
       "      <td>28053</td>\n",
       "      <td>Male</td>\n",
       "      <td>22</td>\n",
       "      <td>30</td>\n",
       "      <td>152</td>\n",
       "      <td>1</td>\n",
       "      <td>bellow_1_year</td>\n",
       "      <td>No</td>\n",
       "      <td>1</td>\n",
       "      <td>37301.0</td>\n",
       "      <td>207</td>\n",
       "    </tr>\n",
       "  </tbody>\n",
       "</table>\n",
       "</div>"
      ],
      "text/plain": [
       "            id  gender  age  region_code  policy_sales_channel  driving_license       vehicle_age vehicle_damage  previously_insured  annual_premium  vintage\n",
       "312970  214859  Female   49           28                    30                1  between_1_2_year            Yes                   0         35419.0      137\n",
       "73992   209012    Male   72           36                   124                1  between_1_2_year            Yes                   0         29273.0      222\n",
       "146001   24614    Male   31           50                   152                1     bellow_1_year             No                   0         30070.0      135\n",
       "77818   239517    Male   26            6                   152                1     bellow_1_year             No                   1         21503.0      170\n",
       "289687   28053    Male   22           30                   152                1     bellow_1_year             No                   1         37301.0      207"
      ]
     },
     "execution_count": 190,
     "metadata": {},
     "output_type": "execute_result"
    }
   ],
   "source": [
    "x_validation.head()"
   ]
  },
  {
   "cell_type": "code",
   "execution_count": 191,
   "id": "36a445fc",
   "metadata": {
    "ExecuteTime": {
     "end_time": "2022-10-06T23:45:27.910981Z",
     "start_time": "2022-10-06T23:45:27.757065Z"
    },
    "hidden": true,
    "hide_input": false
   },
   "outputs": [],
   "source": [
    "# ==============================\n",
    "# ======= Standarization\n",
    "# annual_premium\n",
    "x_validation.loc[:,'annual_premium'] = ss.fit_transform(x_validation[['annual_premium']].values)\n",
    "\n",
    "# ==============================\n",
    "# ======= Rescaling\n",
    "# age\n",
    "x_validation.loc[:,'age'] = mms_age.fit_transform(x_validation[['age']].values)\n",
    "# vintage\n",
    "x_validation.loc[:, 'vintage'] = mms_vintage.fit_transform(x_validation[['vintage']].values)\n",
    "\n",
    "# ==============================\n",
    "# ====== One Hot Enconding \n",
    "# vehicle_age\n",
    "x_validation = pd.get_dummies(x_validation, prefix = 'vehicle_age',columns=['vehicle_age'])\n",
    "\n",
    "# ==============================\n",
    "# ====== Target Enconding \n",
    "# gender\n",
    "x_validation.loc[:,'gender'] = x_validation.loc[:,'gender'].map(target_encode_gender)\n",
    "# region_code\n",
    "x_validation.loc[:,'region_code'] = x_validation.loc[:,'region_code'].map(target_encode_region_code)\n",
    "# vehicle_damage\n",
    "x_validation.loc[:,'vehicle_damage'] = x_validation.loc[:,'vehicle_damage'].map(target_encode_vehicle_damage)\n",
    "\n",
    "# ==============================\n",
    "# ====== Frequency Enconding \n",
    "# policy_sales_channel\n",
    "x_validation.loc[:,'policy_sales_channel'] = x_validation['policy_sales_channel'].map(fe_policy_sales_channel)\n",
    "\n",
    "# fillna\n",
    "x_validation = x_validation.fillna(0)"
   ]
  },
  {
   "cell_type": "code",
   "execution_count": 192,
   "id": "ecfae931",
   "metadata": {
    "ExecuteTime": {
     "end_time": "2022-10-06T23:45:27.942881Z",
     "start_time": "2022-10-06T23:45:27.912850Z"
    },
    "hidden": true
   },
   "outputs": [
    {
     "data": {
      "text/html": [
       "<div>\n",
       "<style scoped>\n",
       "    .dataframe tbody tr th:only-of-type {\n",
       "        vertical-align: middle;\n",
       "    }\n",
       "\n",
       "    .dataframe tbody tr th {\n",
       "        vertical-align: top;\n",
       "    }\n",
       "\n",
       "    .dataframe thead th {\n",
       "        text-align: right;\n",
       "    }\n",
       "</style>\n",
       "<table border=\"1\" class=\"dataframe\">\n",
       "  <thead>\n",
       "    <tr style=\"text-align: right;\">\n",
       "      <th></th>\n",
       "      <th>id</th>\n",
       "      <th>gender</th>\n",
       "      <th>age</th>\n",
       "      <th>region_code</th>\n",
       "      <th>policy_sales_channel</th>\n",
       "      <th>driving_license</th>\n",
       "      <th>vehicle_damage</th>\n",
       "      <th>previously_insured</th>\n",
       "      <th>annual_premium</th>\n",
       "      <th>vintage</th>\n",
       "      <th>vehicle_age_bellow_1_year</th>\n",
       "      <th>vehicle_age_between_1_2_year</th>\n",
       "      <th>vehicle_age_over_2_years</th>\n",
       "    </tr>\n",
       "  </thead>\n",
       "  <tbody>\n",
       "    <tr>\n",
       "      <th>312970</th>\n",
       "      <td>214859</td>\n",
       "      <td>0.104208</td>\n",
       "      <td>0.446154</td>\n",
       "      <td>0.187540</td>\n",
       "      <td>0.003654</td>\n",
       "      <td>1</td>\n",
       "      <td>0.237608</td>\n",
       "      <td>0</td>\n",
       "      <td>0.279264</td>\n",
       "      <td>0.439446</td>\n",
       "      <td>0</td>\n",
       "      <td>1</td>\n",
       "      <td>0</td>\n",
       "    </tr>\n",
       "    <tr>\n",
       "      <th>73992</th>\n",
       "      <td>209012</td>\n",
       "      <td>0.138361</td>\n",
       "      <td>0.800000</td>\n",
       "      <td>0.080641</td>\n",
       "      <td>0.194065</td>\n",
       "      <td>1</td>\n",
       "      <td>0.237608</td>\n",
       "      <td>0</td>\n",
       "      <td>-0.076158</td>\n",
       "      <td>0.733564</td>\n",
       "      <td>0</td>\n",
       "      <td>1</td>\n",
       "      <td>0</td>\n",
       "    </tr>\n",
       "    <tr>\n",
       "      <th>146001</th>\n",
       "      <td>24614</td>\n",
       "      <td>0.138361</td>\n",
       "      <td>0.169231</td>\n",
       "      <td>0.063442</td>\n",
       "      <td>0.353892</td>\n",
       "      <td>1</td>\n",
       "      <td>0.005375</td>\n",
       "      <td>0</td>\n",
       "      <td>-0.030067</td>\n",
       "      <td>0.432526</td>\n",
       "      <td>1</td>\n",
       "      <td>0</td>\n",
       "      <td>0</td>\n",
       "    </tr>\n",
       "    <tr>\n",
       "      <th>77818</th>\n",
       "      <td>239517</td>\n",
       "      <td>0.138361</td>\n",
       "      <td>0.092308</td>\n",
       "      <td>0.070677</td>\n",
       "      <td>0.353892</td>\n",
       "      <td>1</td>\n",
       "      <td>0.005375</td>\n",
       "      <td>1</td>\n",
       "      <td>-0.525495</td>\n",
       "      <td>0.553633</td>\n",
       "      <td>1</td>\n",
       "      <td>0</td>\n",
       "      <td>0</td>\n",
       "    </tr>\n",
       "    <tr>\n",
       "      <th>289687</th>\n",
       "      <td>28053</td>\n",
       "      <td>0.138361</td>\n",
       "      <td>0.030769</td>\n",
       "      <td>0.074025</td>\n",
       "      <td>0.353892</td>\n",
       "      <td>1</td>\n",
       "      <td>0.005375</td>\n",
       "      <td>1</td>\n",
       "      <td>0.388100</td>\n",
       "      <td>0.681661</td>\n",
       "      <td>1</td>\n",
       "      <td>0</td>\n",
       "      <td>0</td>\n",
       "    </tr>\n",
       "  </tbody>\n",
       "</table>\n",
       "</div>"
      ],
      "text/plain": [
       "            id    gender       age  region_code  policy_sales_channel  driving_license  vehicle_damage  previously_insured  annual_premium   vintage  vehicle_age_bellow_1_year  vehicle_age_between_1_2_year  vehicle_age_over_2_years\n",
       "312970  214859  0.104208  0.446154     0.187540              0.003654                1        0.237608                   0        0.279264  0.439446                          0                             1                         0\n",
       "73992   209012  0.138361  0.800000     0.080641              0.194065                1        0.237608                   0       -0.076158  0.733564                          0                             1                         0\n",
       "146001   24614  0.138361  0.169231     0.063442              0.353892                1        0.005375                   0       -0.030067  0.432526                          1                             0                         0\n",
       "77818   239517  0.138361  0.092308     0.070677              0.353892                1        0.005375                   1       -0.525495  0.553633                          1                             0                         0\n",
       "289687   28053  0.138361  0.030769     0.074025              0.353892                1        0.005375                   1        0.388100  0.681661                          1                             0                         0"
      ]
     },
     "execution_count": 192,
     "metadata": {},
     "output_type": "execute_result"
    }
   ],
   "source": [
    "x_validation.head()"
   ]
  },
  {
   "cell_type": "markdown",
   "id": "d1714c11",
   "metadata": {},
   "source": [
    "# 6.0 Feature Selection"
   ]
  },
  {
   "cell_type": "markdown",
   "id": "2ae80f3f",
   "metadata": {
    "heading_collapsed": true
   },
   "source": [
    "## 6.1 Feature Importance"
   ]
  },
  {
   "cell_type": "code",
   "execution_count": 193,
   "id": "d5f4b9a7",
   "metadata": {
    "ExecuteTime": {
     "end_time": "2022-10-06T23:46:08.514776Z",
     "start_time": "2022-10-06T23:45:27.944768Z"
    },
    "hidden": true
   },
   "outputs": [
    {
     "name": "stdout",
     "output_type": "stream",
     "text": [
      "Feature ranking\n"
     ]
    }
   ],
   "source": [
    "# model definition\n",
    "forest = en.ExtraTreesClassifier(n_estimators=250, random_state=0, n_jobs=-1)\n",
    "\n",
    "x_train_n = data_train.drop(['id', 'response'], axis=1)\n",
    "y_train_n = y_train.values\n",
    "forest.fit(x_train_n, y_train_n)\n",
    "\n",
    "importances = forest.feature_importances_\n",
    "std = np.std([tree.feature_importances_ for tree in forest.estimators_], axis=0)\n",
    "indices = np.argsort(importances)[::-1]\n",
    "\n",
    "# Print the feature ranking\n",
    "print('Feature ranking')\n",
    "df = pd.DataFrame()\n",
    "for i, j in zip(x_train_n.columns, forest.feature_importances_):\n",
    "    aux = pd.DataFrame({'feature': i, 'importance': j},index=[0])\n",
    "    df= pd.concat([df, aux], axis=0)\n",
    "\n",
    "df = df.sort_values('importance',ascending=False)"
   ]
  },
  {
   "cell_type": "code",
   "execution_count": 194,
   "id": "40711e7f",
   "metadata": {
    "ExecuteTime": {
     "end_time": "2022-10-06T23:46:08.609983Z",
     "start_time": "2022-10-06T23:46:08.538572Z"
    },
    "hidden": true
   },
   "outputs": [
    {
     "data": {
      "text/html": [
       "<div>\n",
       "<style scoped>\n",
       "    .dataframe tbody tr th:only-of-type {\n",
       "        vertical-align: middle;\n",
       "    }\n",
       "\n",
       "    .dataframe tbody tr th {\n",
       "        vertical-align: top;\n",
       "    }\n",
       "\n",
       "    .dataframe thead th {\n",
       "        text-align: right;\n",
       "    }\n",
       "</style>\n",
       "<table border=\"1\" class=\"dataframe\">\n",
       "  <thead>\n",
       "    <tr style=\"text-align: right;\">\n",
       "      <th></th>\n",
       "      <th>feature</th>\n",
       "      <th>importance</th>\n",
       "    </tr>\n",
       "  </thead>\n",
       "  <tbody>\n",
       "    <tr>\n",
       "      <th>0</th>\n",
       "      <td>vintage</td>\n",
       "      <td>0.273901</td>\n",
       "    </tr>\n",
       "    <tr>\n",
       "      <th>0</th>\n",
       "      <td>annual_premium</td>\n",
       "      <td>0.244486</td>\n",
       "    </tr>\n",
       "    <tr>\n",
       "      <th>0</th>\n",
       "      <td>age</td>\n",
       "      <td>0.164764</td>\n",
       "    </tr>\n",
       "    <tr>\n",
       "      <th>0</th>\n",
       "      <td>region_code</td>\n",
       "      <td>0.105309</td>\n",
       "    </tr>\n",
       "    <tr>\n",
       "      <th>0</th>\n",
       "      <td>vehicle_damage</td>\n",
       "      <td>0.067096</td>\n",
       "    </tr>\n",
       "    <tr>\n",
       "      <th>0</th>\n",
       "      <td>policy_sales_channel</td>\n",
       "      <td>0.059464</td>\n",
       "    </tr>\n",
       "    <tr>\n",
       "      <th>0</th>\n",
       "      <td>previously_insured</td>\n",
       "      <td>0.056483</td>\n",
       "    </tr>\n",
       "    <tr>\n",
       "      <th>0</th>\n",
       "      <td>vehicle_age_bellow_1_year</td>\n",
       "      <td>0.014630</td>\n",
       "    </tr>\n",
       "    <tr>\n",
       "      <th>0</th>\n",
       "      <td>vehicle_age_between_1_2_year</td>\n",
       "      <td>0.006413</td>\n",
       "    </tr>\n",
       "    <tr>\n",
       "      <th>0</th>\n",
       "      <td>gender</td>\n",
       "      <td>0.004876</td>\n",
       "    </tr>\n",
       "    <tr>\n",
       "      <th>0</th>\n",
       "      <td>vehicle_age_over_2_years</td>\n",
       "      <td>0.002110</td>\n",
       "    </tr>\n",
       "    <tr>\n",
       "      <th>0</th>\n",
       "      <td>driving_license</td>\n",
       "      <td>0.000469</td>\n",
       "    </tr>\n",
       "  </tbody>\n",
       "</table>\n",
       "</div>"
      ],
      "text/plain": [
       "                        feature  importance\n",
       "0                       vintage    0.273901\n",
       "0                annual_premium    0.244486\n",
       "0                           age    0.164764\n",
       "0                   region_code    0.105309\n",
       "0                vehicle_damage    0.067096\n",
       "0          policy_sales_channel    0.059464\n",
       "0            previously_insured    0.056483\n",
       "0     vehicle_age_bellow_1_year    0.014630\n",
       "0  vehicle_age_between_1_2_year    0.006413\n",
       "0                        gender    0.004876\n",
       "0      vehicle_age_over_2_years    0.002110\n",
       "0               driving_license    0.000469"
      ]
     },
     "execution_count": 194,
     "metadata": {},
     "output_type": "execute_result"
    }
   ],
   "source": [
    "df"
   ]
  },
  {
   "cell_type": "code",
   "execution_count": 195,
   "id": "19a6c106",
   "metadata": {
    "ExecuteTime": {
     "end_time": "2022-10-06T23:46:09.187516Z",
     "start_time": "2022-10-06T23:46:08.615968Z"
    },
    "hidden": true
   },
   "outputs": [
    {
     "data": {
      "image/png": "[encoded data removed]",
      "text/plain": [
       "<Figure size 1080x432 with 1 Axes>"
      ]
     },
     "metadata": {
      "needs_background": "light"
     },
     "output_type": "display_data"
    }
   ],
   "source": [
    "# plot the impurity-based feature importance of the forest\n",
    "\n",
    "plt.figure(figsize=(15,6))\n",
    "plt.title('Feature importances')\n",
    "g = sns.barplot(x='feature',y='importance',data=df,color='green')\n",
    "plt.xticks(rotation=45)\n",
    "\n",
    "for i in g.containers:\n",
    "    g.bar_label(i, color='white', label_type= 'center',fontsize='medium',fmt='%.3f')"
   ]
  },
  {
   "cell_type": "markdown",
   "id": "d295596e",
   "metadata": {},
   "source": [
    "# 7.0 Machine Learning"
   ]
  },
  {
   "cell_type": "code",
   "execution_count": 196,
   "id": "f008bc5c",
   "metadata": {
    "ExecuteTime": {
     "end_time": "2022-10-06T23:46:10.765883Z",
     "start_time": "2022-10-06T23:46:09.190461Z"
    }
   },
   "outputs": [],
   "source": [
    "cols_selected = ['vintage',\n",
    "                'annual_premium',\n",
    "                'age',\n",
    "                'region_code',\n",
    "                'vehicle_damage',\n",
    "                'policy_sales_channel',\n",
    "                'previously_insured']\n",
    "\n",
    "x_train = data_train[cols_selected]\n",
    "x_val = x_validation[cols_selected]"
   ]
  },
  {
   "cell_type": "markdown",
   "id": "e1b94883",
   "metadata": {
    "cell_style": "center"
   },
   "source": [
    "## 7.1 KNN"
   ]
  },
  {
   "cell_type": "code",
   "execution_count": 221,
   "id": "a6fa84ed",
   "metadata": {
    "ExecuteTime": {
     "end_time": "2022-10-07T00:01:47.886010Z",
     "start_time": "2022-10-07T00:01:39.955928Z"
    },
    "cell_style": "split",
    "hide_input": false,
    "scrolled": false
   },
   "outputs": [
    {
     "data": {
      "image/png": "[encoded data removed]",
      "text/plain": [
       "<Figure size 1152x360 with 2 Axes>"
      ]
     },
     "metadata": {
      "needs_background": "light"
     },
     "output_type": "display_data"
    }
   ],
   "source": [
    "# model definition\n",
    "knn_model = nh.KNeighborsClassifier(n_neighbors=10)\n",
    "\n",
    "# model training\n",
    "knn_model.fit(x_train, y_train)\n",
    "\n",
    "# model prediction\n",
    "yhat_knn = knn_model.predict_proba(x_val)\n",
    "\n",
    "# plot\n",
    "fig, ax = plt.subplots(1,2,figsize=(16,5))\n",
    "\n",
    "# Accumulative Gain \n",
    "skplt.metrics.plot_cumulative_gain(y_validation,yhat_knn,ax=ax[0])\n",
    "skplt.metrics.plot_lift_curve(y_validation,yhat_knn,ax=ax[1]);"
   ]
  },
  {
   "cell_type": "markdown",
   "id": "63eee9af",
   "metadata": {
    "cell_style": "split",
    "hide_input": true
   },
   "source": [
    "### Cross Validation"
   ]
  },
  {
   "cell_type": "code",
   "execution_count": 230,
   "id": "71780d72",
   "metadata": {
    "ExecuteTime": {
     "end_time": "2022-10-07T00:13:52.895424Z",
     "start_time": "2022-10-07T00:11:50.223849Z"
    },
    "cell_style": "split",
    "hide_input": false
   },
   "outputs": [
    {
     "data": {
      "text/html": [
       "<div>\n",
       "<style scoped>\n",
       "    .dataframe tbody tr th:only-of-type {\n",
       "        vertical-align: middle;\n",
       "    }\n",
       "\n",
       "    .dataframe tbody tr th {\n",
       "        vertical-align: top;\n",
       "    }\n",
       "\n",
       "    .dataframe thead th {\n",
       "        text-align: right;\n",
       "    }\n",
       "</style>\n",
       "<table border=\"1\" class=\"dataframe\">\n",
       "  <thead>\n",
       "    <tr style=\"text-align: right;\">\n",
       "      <th></th>\n",
       "      <th>Model</th>\n",
       "      <th>Precision at K</th>\n",
       "      <th>Recall at K</th>\n",
       "    </tr>\n",
       "  </thead>\n",
       "  <tbody>\n",
       "    <tr>\n",
       "      <th>0</th>\n",
       "      <td>KNN</td>\n",
       "      <td>0.3116 +/- 0.0034</td>\n",
       "      <td>0.508 +/- 0.0028</td>\n",
       "    </tr>\n",
       "  </tbody>\n",
       "</table>\n",
       "</div>"
      ],
      "text/plain": [
       "  Model     Precision at K       Recall at K\n",
       "0   KNN  0.3116 +/- 0.0034  0.508 +/- 0.0028"
      ]
     },
     "execution_count": 230,
     "metadata": {},
     "output_type": "execute_result"
    }
   ],
   "source": [
    "knn_cross = cross_validation(data_train,5,'KNN',knn_model,verbose=False)\n",
    "knn_cross"
   ]
  },
  {
   "cell_type": "markdown",
   "id": "ef242a99",
   "metadata": {
    "cell_style": "center"
   },
   "source": [
    "## 7.2 Logistic Regressor"
   ]
  },
  {
   "cell_type": "code",
   "execution_count": 224,
   "id": "90a81301",
   "metadata": {
    "ExecuteTime": {
     "end_time": "2022-10-07T00:10:11.773591Z",
     "start_time": "2022-10-07T00:10:10.240020Z"
    },
    "cell_style": "split",
    "hide_input": false
   },
   "outputs": [
    {
     "data": {
      "image/png": "[encoded data removed]",
      "text/plain": [
       "<Figure size 1152x360 with 2 Axes>"
      ]
     },
     "metadata": {
      "needs_background": "light"
     },
     "output_type": "display_data"
    }
   ],
   "source": [
    "# model definition\n",
    "lr_model = lm.LogisticRegression(random_state=42)\n",
    "\n",
    "# model training \n",
    "lr_model.fit(x_train, y_train)\n",
    "\n",
    "# model prediction\n",
    "yhat_lr = lr_model.predict_proba(x_val)\n",
    "\n",
    "# plot\n",
    "fig, ax = plt.subplots(1,2,figsize=(16,5))\n",
    "\n",
    "# Accumulative Gain \n",
    "skplt.metrics.plot_cumulative_gain(y_validation,yhat_lr,ax=ax[0]);\n",
    "skplt.metrics.plot_lift_curve(y_validation,yhat_lr,ax=ax[1]);"
   ]
  },
  {
   "cell_type": "markdown",
   "id": "4589fcde",
   "metadata": {
    "cell_style": "split"
   },
   "source": [
    "### Cross Validation"
   ]
  },
  {
   "cell_type": "code",
   "execution_count": 225,
   "id": "c5c1200a",
   "metadata": {
    "ExecuteTime": {
     "end_time": "2022-10-07T00:10:21.497080Z",
     "start_time": "2022-10-07T00:10:11.775575Z"
    },
    "cell_style": "split",
    "hide_input": false
   },
   "outputs": [
    {
     "data": {
      "text/html": [
       "<div>\n",
       "<style scoped>\n",
       "    .dataframe tbody tr th:only-of-type {\n",
       "        vertical-align: middle;\n",
       "    }\n",
       "\n",
       "    .dataframe tbody tr th {\n",
       "        vertical-align: top;\n",
       "    }\n",
       "\n",
       "    .dataframe thead th {\n",
       "        text-align: right;\n",
       "    }\n",
       "</style>\n",
       "<table border=\"1\" class=\"dataframe\">\n",
       "  <thead>\n",
       "    <tr style=\"text-align: right;\">\n",
       "      <th></th>\n",
       "      <th>Model</th>\n",
       "      <th>Precision at K</th>\n",
       "      <th>Recall at K</th>\n",
       "    </tr>\n",
       "  </thead>\n",
       "  <tbody>\n",
       "    <tr>\n",
       "      <th>0</th>\n",
       "      <td>Logistic Regression</td>\n",
       "      <td>0.3305 +/- 0.0046</td>\n",
       "      <td>0.5388 +/- 0.0072</td>\n",
       "    </tr>\n",
       "  </tbody>\n",
       "</table>\n",
       "</div>"
      ],
      "text/plain": [
       "                 Model     Precision at K        Recall at K\n",
       "0  Logistic Regression  0.3305 +/- 0.0046  0.5388 +/- 0.0072"
      ]
     },
     "execution_count": 225,
     "metadata": {},
     "output_type": "execute_result"
    }
   ],
   "source": [
    "lr_cross = cross_validation(data_train,5,'Logistic Regression',lr_model,verbose=False)\n",
    "lr_cross"
   ]
  },
  {
   "cell_type": "markdown",
   "id": "55d9fba4",
   "metadata": {
    "cell_style": "center"
   },
   "source": [
    "## 7.3 Extra Trees"
   ]
  },
  {
   "cell_type": "code",
   "execution_count": 201,
   "id": "d6d8a136",
   "metadata": {
    "ExecuteTime": {
     "end_time": "2022-10-06T23:46:59.873937Z",
     "start_time": "2022-10-06T23:46:46.250389Z"
    },
    "cell_style": "split",
    "hide_input": false
   },
   "outputs": [
    {
     "data": {
      "image/png": "[encoded data removed]",
      "text/plain": [
       "<Figure size 1152x360 with 2 Axes>"
      ]
     },
     "metadata": {
      "needs_background": "light"
     },
     "output_type": "display_data"
    }
   ],
   "source": [
    "# model definition\n",
    "et = en.ExtraTreesClassifier(n_estimators = 100, n_jobs=-1, random_state=42)\n",
    "\n",
    "# model fit\n",
    "et.fit(x_train, y_train)\n",
    "\n",
    "# model predict\n",
    "yhat_et = et.predict_proba(x_val)\n",
    "\n",
    "# plot\n",
    "fig, ax = plt.subplots(1,2,figsize=(16,5))\n",
    "\n",
    "# Accumulative Gain \n",
    "skplt.metrics.plot_cumulative_gain(y_validation,yhat_et,ax=ax[0])\n",
    "skplt.metrics.plot_lift_curve(y_validation,yhat_et,ax=ax[1]);"
   ]
  },
  {
   "cell_type": "markdown",
   "id": "0687e7d3",
   "metadata": {
    "cell_style": "split"
   },
   "source": [
    "### Cross Validation"
   ]
  },
  {
   "cell_type": "code",
   "execution_count": 202,
   "id": "8cd027a5",
   "metadata": {
    "ExecuteTime": {
     "end_time": "2022-10-06T23:47:51.334763Z",
     "start_time": "2022-10-06T23:46:59.883911Z"
    },
    "cell_style": "split",
    "hide_input": false
   },
   "outputs": [
    {
     "data": {
      "text/html": [
       "<div>\n",
       "<style scoped>\n",
       "    .dataframe tbody tr th:only-of-type {\n",
       "        vertical-align: middle;\n",
       "    }\n",
       "\n",
       "    .dataframe tbody tr th {\n",
       "        vertical-align: top;\n",
       "    }\n",
       "\n",
       "    .dataframe thead th {\n",
       "        text-align: right;\n",
       "    }\n",
       "</style>\n",
       "<table border=\"1\" class=\"dataframe\">\n",
       "  <thead>\n",
       "    <tr style=\"text-align: right;\">\n",
       "      <th></th>\n",
       "      <th>Model</th>\n",
       "      <th>Precision at K</th>\n",
       "      <th>Recall at K</th>\n",
       "    </tr>\n",
       "  </thead>\n",
       "  <tbody>\n",
       "    <tr>\n",
       "      <th>0</th>\n",
       "      <td>Extra Trees</td>\n",
       "      <td>0.3264 +/- 0.0022</td>\n",
       "      <td>0.5322 +/- 0.0018</td>\n",
       "    </tr>\n",
       "  </tbody>\n",
       "</table>\n",
       "</div>"
      ],
      "text/plain": [
       "         Model     Precision at K        Recall at K\n",
       "0  Extra Trees  0.3264 +/- 0.0022  0.5322 +/- 0.0018"
      ]
     },
     "execution_count": 202,
     "metadata": {},
     "output_type": "execute_result"
    }
   ],
   "source": [
    "et_cross = cross_validation(data_train,5,'Extra Trees',et,verbose=False)\n",
    "et_cross"
   ]
  },
  {
   "cell_type": "markdown",
   "id": "b47ca23d",
   "metadata": {
    "cell_style": "center",
    "hide_input": false
   },
   "source": [
    "## 7.4 XGBoost"
   ]
  },
  {
   "cell_type": "code",
   "execution_count": 214,
   "id": "f2458668",
   "metadata": {
    "ExecuteTime": {
     "end_time": "2022-10-06T23:56:47.598472Z",
     "start_time": "2022-10-06T23:56:37.551771Z"
    },
    "cell_style": "split",
    "hide_input": false
   },
   "outputs": [
    {
     "data": {
      "image/png": "[encoded data removed]",
      "text/plain": [
       "<Figure size 1152x360 with 2 Axes>"
      ]
     },
     "metadata": {
      "needs_background": "light"
     },
     "output_type": "display_data"
    }
   ],
   "source": [
    "# model definition\n",
    "xgb_model = xgb.XGBClassifier(n_estimators = 100)\n",
    "\n",
    "# model fit\n",
    "xgb_model.fit(x_train,y_train)\n",
    "\n",
    "# model predict\n",
    "yhat_xgb = xgb_model.predict_proba(x_val)\n",
    "\n",
    "# plot\n",
    "fig, ax = plt.subplots(1,2,figsize=(16,5))\n",
    "\n",
    "# Accumulative Gain \n",
    "skplt.metrics.plot_cumulative_gain(y_validation,yhat_xgb,ax=ax[0])\n",
    "skplt.metrics.plot_lift_curve(y_validation,yhat_xgb,ax=ax[1]);"
   ]
  },
  {
   "cell_type": "markdown",
   "id": "6c0d4abf",
   "metadata": {
    "cell_style": "split",
    "hide_input": true
   },
   "source": [
    "### Cross Validation"
   ]
  },
  {
   "cell_type": "code",
   "execution_count": 215,
   "id": "e07ced25",
   "metadata": {
    "ExecuteTime": {
     "end_time": "2022-10-06T23:58:17.866764Z",
     "start_time": "2022-10-06T23:56:47.601464Z"
    },
    "cell_style": "split",
    "hide_input": false,
    "scrolled": true
   },
   "outputs": [
    {
     "data": {
      "text/html": [
       "<div>\n",
       "<style scoped>\n",
       "    .dataframe tbody tr th:only-of-type {\n",
       "        vertical-align: middle;\n",
       "    }\n",
       "\n",
       "    .dataframe tbody tr th {\n",
       "        vertical-align: top;\n",
       "    }\n",
       "\n",
       "    .dataframe thead th {\n",
       "        text-align: right;\n",
       "    }\n",
       "</style>\n",
       "<table border=\"1\" class=\"dataframe\">\n",
       "  <thead>\n",
       "    <tr style=\"text-align: right;\">\n",
       "      <th></th>\n",
       "      <th>Model</th>\n",
       "      <th>Precision at K</th>\n",
       "      <th>Recall at K</th>\n",
       "    </tr>\n",
       "  </thead>\n",
       "  <tbody>\n",
       "    <tr>\n",
       "      <th>0</th>\n",
       "      <td>XGBoost</td>\n",
       "      <td>0.35 +/- 0.0023</td>\n",
       "      <td>0.5706 +/- 0.0055</td>\n",
       "    </tr>\n",
       "  </tbody>\n",
       "</table>\n",
       "</div>"
      ],
      "text/plain": [
       "     Model   Precision at K        Recall at K\n",
       "0  XGBoost  0.35 +/- 0.0023  0.5706 +/- 0.0055"
      ]
     },
     "execution_count": 215,
     "metadata": {},
     "output_type": "execute_result"
    }
   ],
   "source": [
    "xgb_cross = cross_validation(data_train,5,'XGBoost',xgb_model,verbose=False)\n",
    "xgb_cross"
   ]
  },
  {
   "cell_type": "markdown",
   "id": "3a4b0041",
   "metadata": {
    "ExecuteTime": {
     "end_time": "2022-09-25T19:37:38.800345Z",
     "start_time": "2022-09-25T19:37:38.776895Z"
    }
   },
   "source": [
    "# 8.0 Model Performance"
   ]
  },
  {
   "cell_type": "code",
   "execution_count": 231,
   "id": "baececa5",
   "metadata": {
    "ExecuteTime": {
     "end_time": "2022-10-07T00:13:52.911437Z",
     "start_time": "2022-10-07T00:13:52.897436Z"
    }
   },
   "outputs": [
    {
     "data": {
      "text/html": [
       "<div>\n",
       "<style scoped>\n",
       "    .dataframe tbody tr th:only-of-type {\n",
       "        vertical-align: middle;\n",
       "    }\n",
       "\n",
       "    .dataframe tbody tr th {\n",
       "        vertical-align: top;\n",
       "    }\n",
       "\n",
       "    .dataframe thead th {\n",
       "        text-align: right;\n",
       "    }\n",
       "</style>\n",
       "<table border=\"1\" class=\"dataframe\">\n",
       "  <thead>\n",
       "    <tr style=\"text-align: right;\">\n",
       "      <th></th>\n",
       "      <th>Model</th>\n",
       "      <th>Precision at K</th>\n",
       "      <th>Recall at K</th>\n",
       "    </tr>\n",
       "  </thead>\n",
       "  <tbody>\n",
       "    <tr>\n",
       "      <th>0</th>\n",
       "      <td>KNN</td>\n",
       "      <td>0.3116 +/- 0.0034</td>\n",
       "      <td>0.508 +/- 0.0028</td>\n",
       "    </tr>\n",
       "    <tr>\n",
       "      <th>0</th>\n",
       "      <td>Logistic Regression</td>\n",
       "      <td>0.3305 +/- 0.0046</td>\n",
       "      <td>0.5388 +/- 0.0072</td>\n",
       "    </tr>\n",
       "    <tr>\n",
       "      <th>0</th>\n",
       "      <td>Extra Trees</td>\n",
       "      <td>0.3264 +/- 0.0022</td>\n",
       "      <td>0.5322 +/- 0.0018</td>\n",
       "    </tr>\n",
       "    <tr>\n",
       "      <th>0</th>\n",
       "      <td>XGBoost</td>\n",
       "      <td>0.35 +/- 0.0023</td>\n",
       "      <td>0.5706 +/- 0.0055</td>\n",
       "    </tr>\n",
       "  </tbody>\n",
       "</table>\n",
       "</div>"
      ],
      "text/plain": [
       "                 Model     Precision at K        Recall at K\n",
       "0                  KNN  0.3116 +/- 0.0034   0.508 +/- 0.0028\n",
       "0  Logistic Regression  0.3305 +/- 0.0046  0.5388 +/- 0.0072\n",
       "0          Extra Trees  0.3264 +/- 0.0022  0.5322 +/- 0.0018\n",
       "0              XGBoost    0.35 +/- 0.0023  0.5706 +/- 0.0055"
      ]
     },
     "execution_count": 231,
     "metadata": {},
     "output_type": "execute_result"
    }
   ],
   "source": [
    "pd.concat([knn_cross, lr_cross, et_cross, xgb_cross])"
   ]
  },
  {
   "cell_type": "code",
   "execution_count": null,
   "id": "1f59bb9b",
   "metadata": {},
   "outputs": [],
   "source": []
  },
  {
   "cell_type": "code",
   "execution_count": null,
   "id": "b0ce0a42",
   "metadata": {},
   "outputs": [],
   "source": []
  },
  {
   "cell_type": "code",
   "execution_count": 217,
   "id": "d7c8fe27",
   "metadata": {
    "ExecuteTime": {
     "end_time": "2022-10-06T23:59:17.977988Z",
     "start_time": "2022-10-06T23:59:17.916439Z"
    }
   },
   "outputs": [
    {
     "name": "stdout",
     "output_type": "stream",
     "text": [
      "Precision at K: 0.28861921941620206\n",
      "Recall at K: 0.4726608658287679\n"
     ]
    }
   ],
   "source": [
    "df8 = x_validation.copy()\n",
    "df8['response'] = y_validation.copy()\n",
    "\n",
    "# Propensity score\n",
    "df8['score'] = yhat_lr[:,1].tolist()\n",
    "\n",
    "# sort clients by propensity score\n",
    "df8 = df8.sort_values('score',ascending=False)\n",
    "\n",
    "# # Ranking\n",
    "# df8['ranking'] = df8.reset_index().index\n",
    "\n",
    "# compute precision at k\n",
    "print('Precision at K: {}'.format(precision_at_k(df8,k=int(round(df8.shape[0]*0.2,0)))))\n",
    "print('Recall at K: {}'.format(recall_at_k(df8,k=int(round(df8.shape[0]*0.2,0)))))"
   ]
  },
  {
   "cell_type": "code",
   "execution_count": 206,
   "id": "c707c6eb",
   "metadata": {
    "ExecuteTime": {
     "end_time": "2022-10-06T23:49:39.019813Z",
     "start_time": "2022-10-06T23:49:38.962270Z"
    }
   },
   "outputs": [
    {
     "data": {
      "text/html": [
       "<div>\n",
       "<style scoped>\n",
       "    .dataframe tbody tr th:only-of-type {\n",
       "        vertical-align: middle;\n",
       "    }\n",
       "\n",
       "    .dataframe tbody tr th {\n",
       "        vertical-align: top;\n",
       "    }\n",
       "\n",
       "    .dataframe thead th {\n",
       "        text-align: right;\n",
       "    }\n",
       "</style>\n",
       "<table border=\"1\" class=\"dataframe\">\n",
       "  <thead>\n",
       "    <tr style=\"text-align: right;\">\n",
       "      <th></th>\n",
       "      <th>id</th>\n",
       "      <th>gender</th>\n",
       "      <th>age</th>\n",
       "      <th>region_code</th>\n",
       "      <th>policy_sales_channel</th>\n",
       "      <th>driving_license</th>\n",
       "      <th>vehicle_damage</th>\n",
       "      <th>previously_insured</th>\n",
       "      <th>annual_premium</th>\n",
       "      <th>vintage</th>\n",
       "      <th>vehicle_age_bellow_1_year</th>\n",
       "      <th>vehicle_age_between_1_2_year</th>\n",
       "      <th>vehicle_age_over_2_years</th>\n",
       "      <th>response</th>\n",
       "      <th>score</th>\n",
       "      <th>ranking</th>\n",
       "    </tr>\n",
       "  </thead>\n",
       "  <tbody>\n",
       "    <tr>\n",
       "      <th>196517</th>\n",
       "      <td>45314</td>\n",
       "      <td>0.104208</td>\n",
       "      <td>0.169231</td>\n",
       "      <td>0.187540</td>\n",
       "      <td>0.000131</td>\n",
       "      <td>1</td>\n",
       "      <td>0.237608</td>\n",
       "      <td>0</td>\n",
       "      <td>0.454546</td>\n",
       "      <td>0.446367</td>\n",
       "      <td>1</td>\n",
       "      <td>0</td>\n",
       "      <td>0</td>\n",
       "      <td>0</td>\n",
       "      <td>0.904545</td>\n",
       "      <td>0</td>\n",
       "    </tr>\n",
       "    <tr>\n",
       "      <th>76998</th>\n",
       "      <td>232888</td>\n",
       "      <td>0.138361</td>\n",
       "      <td>0.523077</td>\n",
       "      <td>0.187540</td>\n",
       "      <td>0.208412</td>\n",
       "      <td>1</td>\n",
       "      <td>0.237608</td>\n",
       "      <td>0</td>\n",
       "      <td>5.886898</td>\n",
       "      <td>0.795848</td>\n",
       "      <td>0</td>\n",
       "      <td>1</td>\n",
       "      <td>0</td>\n",
       "      <td>0</td>\n",
       "      <td>0.829705</td>\n",
       "      <td>1</td>\n",
       "    </tr>\n",
       "    <tr>\n",
       "      <th>370806</th>\n",
       "      <td>298488</td>\n",
       "      <td>0.104208</td>\n",
       "      <td>0.476923</td>\n",
       "      <td>0.187540</td>\n",
       "      <td>0.208412</td>\n",
       "      <td>1</td>\n",
       "      <td>0.237608</td>\n",
       "      <td>0</td>\n",
       "      <td>6.095721</td>\n",
       "      <td>0.930796</td>\n",
       "      <td>0</td>\n",
       "      <td>0</td>\n",
       "      <td>1</td>\n",
       "      <td>1</td>\n",
       "      <td>0.782016</td>\n",
       "      <td>2</td>\n",
       "    </tr>\n",
       "    <tr>\n",
       "      <th>355073</th>\n",
       "      <td>173450</td>\n",
       "      <td>0.104208</td>\n",
       "      <td>0.261538</td>\n",
       "      <td>0.073871</td>\n",
       "      <td>0.194065</td>\n",
       "      <td>1</td>\n",
       "      <td>0.237608</td>\n",
       "      <td>0</td>\n",
       "      <td>5.550849</td>\n",
       "      <td>0.432526</td>\n",
       "      <td>0</td>\n",
       "      <td>1</td>\n",
       "      <td>0</td>\n",
       "      <td>0</td>\n",
       "      <td>0.720731</td>\n",
       "      <td>3</td>\n",
       "    </tr>\n",
       "    <tr>\n",
       "      <th>245469</th>\n",
       "      <td>56120</td>\n",
       "      <td>0.104208</td>\n",
       "      <td>0.415385</td>\n",
       "      <td>0.187540</td>\n",
       "      <td>0.000115</td>\n",
       "      <td>1</td>\n",
       "      <td>0.237608</td>\n",
       "      <td>0</td>\n",
       "      <td>1.746694</td>\n",
       "      <td>0.788927</td>\n",
       "      <td>0</td>\n",
       "      <td>1</td>\n",
       "      <td>0</td>\n",
       "      <td>1</td>\n",
       "      <td>0.713943</td>\n",
       "      <td>4</td>\n",
       "    </tr>\n",
       "    <tr>\n",
       "      <th>308549</th>\n",
       "      <td>179140</td>\n",
       "      <td>0.138361</td>\n",
       "      <td>0.384615</td>\n",
       "      <td>0.187540</td>\n",
       "      <td>0.208412</td>\n",
       "      <td>1</td>\n",
       "      <td>0.237608</td>\n",
       "      <td>0</td>\n",
       "      <td>3.130790</td>\n",
       "      <td>0.439446</td>\n",
       "      <td>0</td>\n",
       "      <td>1</td>\n",
       "      <td>0</td>\n",
       "      <td>0</td>\n",
       "      <td>0.678376</td>\n",
       "      <td>5</td>\n",
       "    </tr>\n",
       "    <tr>\n",
       "      <th>291365</th>\n",
       "      <td>41343</td>\n",
       "      <td>0.104208</td>\n",
       "      <td>0.215385</td>\n",
       "      <td>0.070677</td>\n",
       "      <td>0.194065</td>\n",
       "      <td>1</td>\n",
       "      <td>0.237608</td>\n",
       "      <td>0</td>\n",
       "      <td>-0.352468</td>\n",
       "      <td>0.076125</td>\n",
       "      <td>0</td>\n",
       "      <td>1</td>\n",
       "      <td>0</td>\n",
       "      <td>1</td>\n",
       "      <td>0.674407</td>\n",
       "      <td>6</td>\n",
       "    </tr>\n",
       "    <tr>\n",
       "      <th>201259</th>\n",
       "      <td>82689</td>\n",
       "      <td>0.138361</td>\n",
       "      <td>0.276923</td>\n",
       "      <td>0.187540</td>\n",
       "      <td>0.208412</td>\n",
       "      <td>1</td>\n",
       "      <td>0.237608</td>\n",
       "      <td>0</td>\n",
       "      <td>5.431951</td>\n",
       "      <td>0.467128</td>\n",
       "      <td>0</td>\n",
       "      <td>1</td>\n",
       "      <td>0</td>\n",
       "      <td>1</td>\n",
       "      <td>0.670947</td>\n",
       "      <td>7</td>\n",
       "    </tr>\n",
       "    <tr>\n",
       "      <th>76140</th>\n",
       "      <td>226172</td>\n",
       "      <td>0.138361</td>\n",
       "      <td>0.415385</td>\n",
       "      <td>0.080641</td>\n",
       "      <td>0.208412</td>\n",
       "      <td>1</td>\n",
       "      <td>0.237608</td>\n",
       "      <td>0</td>\n",
       "      <td>1.532319</td>\n",
       "      <td>0.743945</td>\n",
       "      <td>0</td>\n",
       "      <td>1</td>\n",
       "      <td>0</td>\n",
       "      <td>0</td>\n",
       "      <td>0.662953</td>\n",
       "      <td>8</td>\n",
       "    </tr>\n",
       "    <tr>\n",
       "      <th>116622</th>\n",
       "      <td>168721</td>\n",
       "      <td>0.104208</td>\n",
       "      <td>0.246154</td>\n",
       "      <td>0.111747</td>\n",
       "      <td>0.003290</td>\n",
       "      <td>1</td>\n",
       "      <td>0.237608</td>\n",
       "      <td>0</td>\n",
       "      <td>-0.672324</td>\n",
       "      <td>0.975779</td>\n",
       "      <td>0</td>\n",
       "      <td>1</td>\n",
       "      <td>0</td>\n",
       "      <td>1</td>\n",
       "      <td>0.655730</td>\n",
       "      <td>9</td>\n",
       "    </tr>\n",
       "    <tr>\n",
       "      <th>258141</th>\n",
       "      <td>157714</td>\n",
       "      <td>0.104208</td>\n",
       "      <td>0.384615</td>\n",
       "      <td>0.073871</td>\n",
       "      <td>0.208412</td>\n",
       "      <td>1</td>\n",
       "      <td>0.237608</td>\n",
       "      <td>0</td>\n",
       "      <td>5.550849</td>\n",
       "      <td>0.491349</td>\n",
       "      <td>0</td>\n",
       "      <td>1</td>\n",
       "      <td>0</td>\n",
       "      <td>1</td>\n",
       "      <td>0.652405</td>\n",
       "      <td>10</td>\n",
       "    </tr>\n",
       "    <tr>\n",
       "      <th>54574</th>\n",
       "      <td>54591</td>\n",
       "      <td>0.104208</td>\n",
       "      <td>0.338462</td>\n",
       "      <td>0.187540</td>\n",
       "      <td>0.026223</td>\n",
       "      <td>1</td>\n",
       "      <td>0.237608</td>\n",
       "      <td>0</td>\n",
       "      <td>2.129642</td>\n",
       "      <td>0.996540</td>\n",
       "      <td>0</td>\n",
       "      <td>1</td>\n",
       "      <td>0</td>\n",
       "      <td>1</td>\n",
       "      <td>0.643279</td>\n",
       "      <td>11</td>\n",
       "    </tr>\n",
       "    <tr>\n",
       "      <th>338054</th>\n",
       "      <td>35655</td>\n",
       "      <td>0.104208</td>\n",
       "      <td>0.153846</td>\n",
       "      <td>0.096905</td>\n",
       "      <td>0.194065</td>\n",
       "      <td>1</td>\n",
       "      <td>0.237608</td>\n",
       "      <td>0</td>\n",
       "      <td>0.313210</td>\n",
       "      <td>0.889273</td>\n",
       "      <td>0</td>\n",
       "      <td>1</td>\n",
       "      <td>0</td>\n",
       "      <td>0</td>\n",
       "      <td>0.635891</td>\n",
       "      <td>12</td>\n",
       "    </tr>\n",
       "    <tr>\n",
       "      <th>178006</th>\n",
       "      <td>279531</td>\n",
       "      <td>0.138361</td>\n",
       "      <td>0.200000</td>\n",
       "      <td>0.143377</td>\n",
       "      <td>0.194065</td>\n",
       "      <td>1</td>\n",
       "      <td>0.237608</td>\n",
       "      <td>0</td>\n",
       "      <td>-0.125428</td>\n",
       "      <td>0.346021</td>\n",
       "      <td>0</td>\n",
       "      <td>1</td>\n",
       "      <td>0</td>\n",
       "      <td>0</td>\n",
       "      <td>0.630809</td>\n",
       "      <td>13</td>\n",
       "    </tr>\n",
       "    <tr>\n",
       "      <th>82586</th>\n",
       "      <td>277943</td>\n",
       "      <td>0.104208</td>\n",
       "      <td>0.400000</td>\n",
       "      <td>0.187540</td>\n",
       "      <td>0.194065</td>\n",
       "      <td>1</td>\n",
       "      <td>0.237608</td>\n",
       "      <td>0</td>\n",
       "      <td>2.081123</td>\n",
       "      <td>0.996540</td>\n",
       "      <td>0</td>\n",
       "      <td>0</td>\n",
       "      <td>1</td>\n",
       "      <td>0</td>\n",
       "      <td>0.628044</td>\n",
       "      <td>14</td>\n",
       "    </tr>\n",
       "    <tr>\n",
       "      <th>2779</th>\n",
       "      <td>22400</td>\n",
       "      <td>0.104208</td>\n",
       "      <td>0.584615</td>\n",
       "      <td>0.187540</td>\n",
       "      <td>0.208412</td>\n",
       "      <td>1</td>\n",
       "      <td>0.237608</td>\n",
       "      <td>0</td>\n",
       "      <td>3.647094</td>\n",
       "      <td>0.705882</td>\n",
       "      <td>0</td>\n",
       "      <td>1</td>\n",
       "      <td>0</td>\n",
       "      <td>0</td>\n",
       "      <td>0.626046</td>\n",
       "      <td>15</td>\n",
       "    </tr>\n",
       "    <tr>\n",
       "      <th>147261</th>\n",
       "      <td>34514</td>\n",
       "      <td>0.138361</td>\n",
       "      <td>0.276923</td>\n",
       "      <td>0.111747</td>\n",
       "      <td>0.003290</td>\n",
       "      <td>1</td>\n",
       "      <td>0.237608</td>\n",
       "      <td>0</td>\n",
       "      <td>-0.708294</td>\n",
       "      <td>0.702422</td>\n",
       "      <td>0</td>\n",
       "      <td>1</td>\n",
       "      <td>0</td>\n",
       "      <td>1</td>\n",
       "      <td>0.625150</td>\n",
       "      <td>16</td>\n",
       "    </tr>\n",
       "    <tr>\n",
       "      <th>244978</th>\n",
       "      <td>52086</td>\n",
       "      <td>0.104208</td>\n",
       "      <td>0.446154</td>\n",
       "      <td>0.187540</td>\n",
       "      <td>0.001348</td>\n",
       "      <td>1</td>\n",
       "      <td>0.237608</td>\n",
       "      <td>0</td>\n",
       "      <td>4.425425</td>\n",
       "      <td>0.557093</td>\n",
       "      <td>0</td>\n",
       "      <td>1</td>\n",
       "      <td>0</td>\n",
       "      <td>0</td>\n",
       "      <td>0.622049</td>\n",
       "      <td>17</td>\n",
       "    </tr>\n",
       "    <tr>\n",
       "      <th>130055</th>\n",
       "      <td>277226</td>\n",
       "      <td>0.138361</td>\n",
       "      <td>0.400000</td>\n",
       "      <td>0.194821</td>\n",
       "      <td>0.208412</td>\n",
       "      <td>1</td>\n",
       "      <td>0.237608</td>\n",
       "      <td>0</td>\n",
       "      <td>-0.072861</td>\n",
       "      <td>0.013841</td>\n",
       "      <td>0</td>\n",
       "      <td>1</td>\n",
       "      <td>0</td>\n",
       "      <td>0</td>\n",
       "      <td>0.613118</td>\n",
       "      <td>18</td>\n",
       "    </tr>\n",
       "    <tr>\n",
       "      <th>223802</th>\n",
       "      <td>263895</td>\n",
       "      <td>0.138361</td>\n",
       "      <td>0.246154</td>\n",
       "      <td>0.080641</td>\n",
       "      <td>0.208412</td>\n",
       "      <td>1</td>\n",
       "      <td>0.237608</td>\n",
       "      <td>0</td>\n",
       "      <td>1.525495</td>\n",
       "      <td>0.785467</td>\n",
       "      <td>0</td>\n",
       "      <td>1</td>\n",
       "      <td>0</td>\n",
       "      <td>0</td>\n",
       "      <td>0.613103</td>\n",
       "      <td>19</td>\n",
       "    </tr>\n",
       "    <tr>\n",
       "      <th>317930</th>\n",
       "      <td>254517</td>\n",
       "      <td>0.138361</td>\n",
       "      <td>0.200000</td>\n",
       "      <td>0.088841</td>\n",
       "      <td>0.194065</td>\n",
       "      <td>1</td>\n",
       "      <td>0.237608</td>\n",
       "      <td>0</td>\n",
       "      <td>-0.896241</td>\n",
       "      <td>0.456747</td>\n",
       "      <td>0</td>\n",
       "      <td>1</td>\n",
       "      <td>0</td>\n",
       "      <td>0</td>\n",
       "      <td>0.610829</td>\n",
       "      <td>20</td>\n",
       "    </tr>\n",
       "    <tr>\n",
       "      <th>37356</th>\n",
       "      <td>298244</td>\n",
       "      <td>0.138361</td>\n",
       "      <td>0.153846</td>\n",
       "      <td>0.187540</td>\n",
       "      <td>0.003290</td>\n",
       "      <td>1</td>\n",
       "      <td>0.237608</td>\n",
       "      <td>0</td>\n",
       "      <td>-0.213908</td>\n",
       "      <td>0.899654</td>\n",
       "      <td>0</td>\n",
       "      <td>1</td>\n",
       "      <td>0</td>\n",
       "      <td>1</td>\n",
       "      <td>0.610256</td>\n",
       "      <td>21</td>\n",
       "    </tr>\n",
       "    <tr>\n",
       "      <th>354541</th>\n",
       "      <td>169233</td>\n",
       "      <td>0.104208</td>\n",
       "      <td>0.153846</td>\n",
       "      <td>0.105087</td>\n",
       "      <td>0.194065</td>\n",
       "      <td>1</td>\n",
       "      <td>0.237608</td>\n",
       "      <td>0</td>\n",
       "      <td>0.137350</td>\n",
       "      <td>0.010381</td>\n",
       "      <td>1</td>\n",
       "      <td>0</td>\n",
       "      <td>0</td>\n",
       "      <td>1</td>\n",
       "      <td>0.608659</td>\n",
       "      <td>22</td>\n",
       "    </tr>\n",
       "    <tr>\n",
       "      <th>90428</th>\n",
       "      <td>340400</td>\n",
       "      <td>0.138361</td>\n",
       "      <td>0.200000</td>\n",
       "      <td>0.127312</td>\n",
       "      <td>0.194065</td>\n",
       "      <td>1</td>\n",
       "      <td>0.237608</td>\n",
       "      <td>0</td>\n",
       "      <td>-0.382424</td>\n",
       "      <td>0.134948</td>\n",
       "      <td>0</td>\n",
       "      <td>1</td>\n",
       "      <td>0</td>\n",
       "      <td>1</td>\n",
       "      <td>0.607886</td>\n",
       "      <td>23</td>\n",
       "    </tr>\n",
       "    <tr>\n",
       "      <th>28506</th>\n",
       "      <td>227615</td>\n",
       "      <td>0.138361</td>\n",
       "      <td>0.184615</td>\n",
       "      <td>0.187540</td>\n",
       "      <td>0.001673</td>\n",
       "      <td>1</td>\n",
       "      <td>0.237608</td>\n",
       "      <td>0</td>\n",
       "      <td>0.067087</td>\n",
       "      <td>0.387543</td>\n",
       "      <td>0</td>\n",
       "      <td>1</td>\n",
       "      <td>0</td>\n",
       "      <td>0</td>\n",
       "      <td>0.607291</td>\n",
       "      <td>24</td>\n",
       "    </tr>\n",
       "    <tr>\n",
       "      <th>190513</th>\n",
       "      <td>378707</td>\n",
       "      <td>0.138361</td>\n",
       "      <td>0.215385</td>\n",
       "      <td>0.194821</td>\n",
       "      <td>0.194065</td>\n",
       "      <td>1</td>\n",
       "      <td>0.237608</td>\n",
       "      <td>0</td>\n",
       "      <td>0.216114</td>\n",
       "      <td>0.259516</td>\n",
       "      <td>0</td>\n",
       "      <td>1</td>\n",
       "      <td>0</td>\n",
       "      <td>0</td>\n",
       "      <td>0.606769</td>\n",
       "      <td>25</td>\n",
       "    </tr>\n",
       "    <tr>\n",
       "      <th>205274</th>\n",
       "      <td>114723</td>\n",
       "      <td>0.138361</td>\n",
       "      <td>0.292308</td>\n",
       "      <td>0.187540</td>\n",
       "      <td>0.208412</td>\n",
       "      <td>1</td>\n",
       "      <td>0.237608</td>\n",
       "      <td>0</td>\n",
       "      <td>3.574229</td>\n",
       "      <td>0.702422</td>\n",
       "      <td>0</td>\n",
       "      <td>1</td>\n",
       "      <td>0</td>\n",
       "      <td>0</td>\n",
       "      <td>0.606641</td>\n",
       "      <td>26</td>\n",
       "    </tr>\n",
       "    <tr>\n",
       "      <th>218971</th>\n",
       "      <td>224790</td>\n",
       "      <td>0.138361</td>\n",
       "      <td>0.369231</td>\n",
       "      <td>0.063442</td>\n",
       "      <td>0.004044</td>\n",
       "      <td>1</td>\n",
       "      <td>0.237608</td>\n",
       "      <td>0</td>\n",
       "      <td>1.570371</td>\n",
       "      <td>0.899654</td>\n",
       "      <td>0</td>\n",
       "      <td>1</td>\n",
       "      <td>0</td>\n",
       "      <td>0</td>\n",
       "      <td>0.606469</td>\n",
       "      <td>27</td>\n",
       "    </tr>\n",
       "    <tr>\n",
       "      <th>22037</th>\n",
       "      <td>175865</td>\n",
       "      <td>0.138361</td>\n",
       "      <td>0.184615</td>\n",
       "      <td>0.111747</td>\n",
       "      <td>0.001673</td>\n",
       "      <td>1</td>\n",
       "      <td>0.237608</td>\n",
       "      <td>0</td>\n",
       "      <td>-0.238139</td>\n",
       "      <td>0.096886</td>\n",
       "      <td>0</td>\n",
       "      <td>1</td>\n",
       "      <td>0</td>\n",
       "      <td>0</td>\n",
       "      <td>0.604315</td>\n",
       "      <td>28</td>\n",
       "    </tr>\n",
       "    <tr>\n",
       "      <th>285968</th>\n",
       "      <td>378941</td>\n",
       "      <td>0.104208</td>\n",
       "      <td>0.230769</td>\n",
       "      <td>0.039557</td>\n",
       "      <td>0.194065</td>\n",
       "      <td>1</td>\n",
       "      <td>0.237608</td>\n",
       "      <td>0</td>\n",
       "      <td>0.030596</td>\n",
       "      <td>0.996540</td>\n",
       "      <td>0</td>\n",
       "      <td>1</td>\n",
       "      <td>0</td>\n",
       "      <td>0</td>\n",
       "      <td>0.599014</td>\n",
       "      <td>29</td>\n",
       "    </tr>\n",
       "  </tbody>\n",
       "</table>\n",
       "</div>"
      ],
      "text/plain": [
       "            id    gender       age  region_code  policy_sales_channel  driving_license  vehicle_damage  previously_insured  annual_premium   vintage  vehicle_age_bellow_1_year  vehicle_age_between_1_2_year  vehicle_age_over_2_years  response     score  ranking\n",
       "196517   45314  0.104208  0.169231     0.187540              0.000131                1        0.237608                   0        0.454546  0.446367                          1                             0                         0         0  0.904545        0\n",
       "76998   232888  0.138361  0.523077     0.187540              0.208412                1        0.237608                   0        5.886898  0.795848                          0                             1                         0         0  0.829705        1\n",
       "370806  298488  0.104208  0.476923     0.187540              0.208412                1        0.237608                   0        6.095721  0.930796                          0                             0                         1         1  0.782016        2\n",
       "355073  173450  0.104208  0.261538     0.073871              0.194065                1        0.237608                   0        5.550849  0.432526                          0                             1                         0         0  0.720731        3\n",
       "245469   56120  0.104208  0.415385     0.187540              0.000115                1        0.237608                   0        1.746694  0.788927                          0                             1                         0         1  0.713943        4\n",
       "308549  179140  0.138361  0.384615     0.187540              0.208412                1        0.237608                   0        3.130790  0.439446                          0                             1                         0         0  0.678376        5\n",
       "291365   41343  0.104208  0.215385     0.070677              0.194065                1        0.237608                   0       -0.352468  0.076125                          0                             1                         0         1  0.674407        6\n",
       "201259   82689  0.138361  0.276923     0.187540              0.208412                1        0.237608                   0        5.431951  0.467128                          0                             1                         0         1  0.670947        7\n",
       "76140   226172  0.138361  0.415385     0.080641              0.208412                1        0.237608                   0        1.532319  0.743945                          0                             1                         0         0  0.662953        8\n",
       "116622  168721  0.104208  0.246154     0.111747              0.003290                1        0.237608                   0       -0.672324  0.975779                          0                             1                         0         1  0.655730        9\n",
       "258141  157714  0.104208  0.384615     0.073871              0.208412                1        0.237608                   0        5.550849  0.491349                          0                             1                         0         1  0.652405       10\n",
       "54574    54591  0.104208  0.338462     0.187540              0.026223                1        0.237608                   0        2.129642  0.996540                          0                             1                         0         1  0.643279       11\n",
       "338054   35655  0.104208  0.153846     0.096905              0.194065                1        0.237608                   0        0.313210  0.889273                          0                             1                         0         0  0.635891       12\n",
       "178006  279531  0.138361  0.200000     0.143377              0.194065                1        0.237608                   0       -0.125428  0.346021                          0                             1                         0         0  0.630809       13\n",
       "82586   277943  0.104208  0.400000     0.187540              0.194065                1        0.237608                   0        2.081123  0.996540                          0                             0                         1         0  0.628044       14\n",
       "2779     22400  0.104208  0.584615     0.187540              0.208412                1        0.237608                   0        3.647094  0.705882                          0                             1                         0         0  0.626046       15\n",
       "147261   34514  0.138361  0.276923     0.111747              0.003290                1        0.237608                   0       -0.708294  0.702422                          0                             1                         0         1  0.625150       16\n",
       "244978   52086  0.104208  0.446154     0.187540              0.001348                1        0.237608                   0        4.425425  0.557093                          0                             1                         0         0  0.622049       17\n",
       "130055  277226  0.138361  0.400000     0.194821              0.208412                1        0.237608                   0       -0.072861  0.013841                          0                             1                         0         0  0.613118       18\n",
       "223802  263895  0.138361  0.246154     0.080641              0.208412                1        0.237608                   0        1.525495  0.785467                          0                             1                         0         0  0.613103       19\n",
       "317930  254517  0.138361  0.200000     0.088841              0.194065                1        0.237608                   0       -0.896241  0.456747                          0                             1                         0         0  0.610829       20\n",
       "37356   298244  0.138361  0.153846     0.187540              0.003290                1        0.237608                   0       -0.213908  0.899654                          0                             1                         0         1  0.610256       21\n",
       "354541  169233  0.104208  0.153846     0.105087              0.194065                1        0.237608                   0        0.137350  0.010381                          1                             0                         0         1  0.608659       22\n",
       "90428   340400  0.138361  0.200000     0.127312              0.194065                1        0.237608                   0       -0.382424  0.134948                          0                             1                         0         1  0.607886       23\n",
       "28506   227615  0.138361  0.184615     0.187540              0.001673                1        0.237608                   0        0.067087  0.387543                          0                             1                         0         0  0.607291       24\n",
       "190513  378707  0.138361  0.215385     0.194821              0.194065                1        0.237608                   0        0.216114  0.259516                          0                             1                         0         0  0.606769       25\n",
       "205274  114723  0.138361  0.292308     0.187540              0.208412                1        0.237608                   0        3.574229  0.702422                          0                             1                         0         0  0.606641       26\n",
       "218971  224790  0.138361  0.369231     0.063442              0.004044                1        0.237608                   0        1.570371  0.899654                          0                             1                         0         0  0.606469       27\n",
       "22037   175865  0.138361  0.184615     0.111747              0.001673                1        0.237608                   0       -0.238139  0.096886                          0                             1                         0         0  0.604315       28\n",
       "285968  378941  0.104208  0.230769     0.039557              0.194065                1        0.237608                   0        0.030596  0.996540                          0                             1                         0         0  0.599014       29"
      ]
     },
     "execution_count": 206,
     "metadata": {},
     "output_type": "execute_result"
    }
   ],
   "source": [
    "df8.head(30)"
   ]
  },
  {
   "cell_type": "markdown",
   "id": "aecbc44a",
   "metadata": {
    "ExecuteTime": {
     "end_time": "2022-10-02T21:51:29.273290Z",
     "start_time": "2022-10-02T21:51:29.261332Z"
    }
   },
   "source": [
    "# Cross Validation"
   ]
  },
  {
   "cell_type": "code",
   "execution_count": 207,
   "id": "63aa3d48",
   "metadata": {
    "ExecuteTime": {
     "end_time": "2022-10-06T23:50:16.792127Z",
     "start_time": "2022-10-06T23:49:39.025519Z"
    }
   },
   "outputs": [
    {
     "name": "stdout",
     "output_type": "stream",
     "text": [
      "k_fold: 0\n",
      "Validation Size: 60977 | 0 - 60977\n",
      "Training Size: 243910\n",
      "Total Size: 304887\n",
      "Total Original Size: 304887\n",
      "Precision at K: 0.34650705149229255\n",
      "Recall at K:    0.5615200637788998\n",
      "\n",
      "\n"
     ]
    },
    {
     "name": "stderr",
     "output_type": "stream",
     "text": [
      "\n",
      "KeyboardInterrupt\n",
      "\n"
     ]
    }
   ],
   "source": [
    "\n",
    "cross_validation(data_train,5,'XGBoost',xgb_model,verbose=True)"
   ]
  },
  {
   "cell_type": "code",
   "execution_count": null,
   "id": "49e4537e",
   "metadata": {
    "ExecuteTime": {
     "end_time": "2022-10-06T23:50:16.799921Z",
     "start_time": "2022-10-06T23:50:16.799921Z"
    }
   },
   "outputs": [],
   "source": [
    "a"
   ]
  },
  {
   "cell_type": "code",
   "execution_count": null,
   "id": "dbb5e975",
   "metadata": {
    "ExecuteTime": {
     "end_time": "2022-10-06T23:50:16.804133Z",
     "start_time": "2022-10-06T23:50:16.804133Z"
    }
   },
   "outputs": [],
   "source": [
    "b"
   ]
  },
  {
   "cell_type": "code",
   "execution_count": null,
   "id": "a2e783a1",
   "metadata": {
    "ExecuteTime": {
     "end_time": "2022-10-06T23:50:16.809143Z",
     "start_time": "2022-10-06T23:50:16.809143Z"
    }
   },
   "outputs": [],
   "source": [
    "pd.DataFrame(\n",
    "{'Model': model_name,\n",
    " 'Precision at K': round(np.mean(a),4).astype(str) + ' +/- ' + round((np.std(a)),4).astype(str),\n",
    " 'Recall at K':    round(np.mean(b),4).astype(str) + ' +/- ' + round((np.std(b)),4).astype(str)},index=[0])"
   ]
  },
  {
   "cell_type": "code",
   "execution_count": null,
   "id": "4f128d38",
   "metadata": {
    "ExecuteTime": {
     "end_time": "2022-10-06T23:50:16.813348Z",
     "start_time": "2022-10-06T23:50:16.813348Z"
    }
   },
   "outputs": [],
   "source": [
    "pd.DataFrame(\n",
    "        {'Model Name': model_name,\n",
    "         'MAE CV': np.round(np.mean(mae_list),2).astype(str) + ' +/- ' + np.round(np.std(mae_list),2).astype(str),\n",
    "         'MAPE CV': np.round(np.mean(mape_list),2).astype(str) + ' +/- ' + np.round(np.std(mape_list),2).astype(str),\n",
    "         'RMSE CV': np.round(np.mean(rmse_list),2).astype(str) + ' +/- ' + np.round(np.std(rmse_list),2).astype(str)},index=[0])"
   ]
  },
  {
   "cell_type": "code",
   "execution_count": null,
   "id": "452eb9c6",
   "metadata": {},
   "outputs": [],
   "source": []
  },
  {
   "cell_type": "code",
   "execution_count": null,
   "id": "7d88a698",
   "metadata": {},
   "outputs": [],
   "source": []
  }
 ],
 "metadata": {
  "kernelspec": {
   "display_name": "Python 3 (ipykernel)",
   "language": "python",
   "name": "python3"
  },
  "language_info": {
   "codemirror_mode": {
    "name": "ipython",
    "version": 3
   },
   "file_extension": ".py",
   "mimetype": "text/x-python",
   "name": "python",
   "nbconvert_exporter": "python",
   "pygments_lexer": "ipython3",
   "version": "3.9.12"
  }
 },
 "nbformat": 4,
 "nbformat_minor": 5
}

{
 "cells": [
  {
   "cell_type": "markdown",
   "id": "46c21508",
   "metadata": {},
   "source": [
    "# 0.0 Imports"
   ]
  },
  {
   "cell_type": "code",
   "execution_count": 79,
   "id": "b2dea543",
   "metadata": {
    "ExecuteTime": {
     "end_time": "2022-09-25T19:44:41.218446Z",
     "start_time": "2022-09-25T19:44:41.200489Z"
    }
   },
   "outputs": [],
   "source": [
    "import numpy as np\n",
    "import pandas as pd\n",
    "import psycopg2 as pg\n",
    "import sweetviz as sv\n",
    "import seaborn as sns\n",
    "import scikitplot as skplt\n",
    "\n",
    "from matplotlib import pyplot as plt\n",
    "from sklearn import preprocessing as pp\n",
    "from sklearn import model_selection as ms\n",
    "from sklearn import ensemble as en\n",
    "from sklearn import neighbors as nh\n",
    "from sklearn import linear_model as lm"
   ]
  },
  {
   "cell_type": "markdown",
   "id": "8ea7d93b",
   "metadata": {},
   "source": [
    "# 0.1 Load Dataset"
   ]
  },
  {
   "cell_type": "code",
   "execution_count": 80,
   "id": "08146c6b",
   "metadata": {
    "ExecuteTime": {
     "end_time": "2022-09-25T19:44:48.228928Z",
     "start_time": "2022-09-25T19:44:41.220435Z"
    }
   },
   "outputs": [
    {
     "name": "stderr",
     "output_type": "stream",
     "text": [
      "C:\\Users\\Notebook\\anaconda3\\envs\\insurance-cross-sell-env\\lib\\site-packages\\pandas\\io\\sql.py:761: UserWarning: pandas only support SQLAlchemy connectable(engine/connection) ordatabase string URI or sqlite3 DBAPI2 connectionother DBAPI2 objects are not tested, please consider using SQLAlchemy\n",
      "  warnings.warn(\n"
     ]
    },
    {
     "data": {
      "text/html": [
       "<div>\n",
       "<style scoped>\n",
       "    .dataframe tbody tr th:only-of-type {\n",
       "        vertical-align: middle;\n",
       "    }\n",
       "\n",
       "    .dataframe tbody tr th {\n",
       "        vertical-align: top;\n",
       "    }\n",
       "\n",
       "    .dataframe thead th {\n",
       "        text-align: right;\n",
       "    }\n",
       "</style>\n",
       "<table border=\"1\" class=\"dataframe\">\n",
       "  <thead>\n",
       "    <tr style=\"text-align: right;\">\n",
       "      <th></th>\n",
       "      <th>id</th>\n",
       "      <th>gender</th>\n",
       "      <th>age</th>\n",
       "      <th>region_code</th>\n",
       "      <th>policy_sales_channel</th>\n",
       "      <th>id</th>\n",
       "      <th>driving_license</th>\n",
       "      <th>vehicle_age</th>\n",
       "      <th>vehicle_damage</th>\n",
       "      <th>id</th>\n",
       "      <th>previously_insured</th>\n",
       "      <th>annual_premium</th>\n",
       "      <th>vintage</th>\n",
       "      <th>response</th>\n",
       "    </tr>\n",
       "  </thead>\n",
       "  <tbody>\n",
       "    <tr>\n",
       "      <th>0</th>\n",
       "      <td>7</td>\n",
       "      <td>Male</td>\n",
       "      <td>23</td>\n",
       "      <td>11.0</td>\n",
       "      <td>152.0</td>\n",
       "      <td>7</td>\n",
       "      <td>1</td>\n",
       "      <td>&lt; 1 Year</td>\n",
       "      <td>Yes</td>\n",
       "      <td>7</td>\n",
       "      <td>0</td>\n",
       "      <td>23367.0</td>\n",
       "      <td>249</td>\n",
       "      <td>0</td>\n",
       "    </tr>\n",
       "    <tr>\n",
       "      <th>1</th>\n",
       "      <td>13</td>\n",
       "      <td>Female</td>\n",
       "      <td>41</td>\n",
       "      <td>15.0</td>\n",
       "      <td>14.0</td>\n",
       "      <td>13</td>\n",
       "      <td>1</td>\n",
       "      <td>1-2 Year</td>\n",
       "      <td>No</td>\n",
       "      <td>13</td>\n",
       "      <td>1</td>\n",
       "      <td>31409.0</td>\n",
       "      <td>221</td>\n",
       "      <td>0</td>\n",
       "    </tr>\n",
       "    <tr>\n",
       "      <th>2</th>\n",
       "      <td>18</td>\n",
       "      <td>Female</td>\n",
       "      <td>25</td>\n",
       "      <td>35.0</td>\n",
       "      <td>152.0</td>\n",
       "      <td>18</td>\n",
       "      <td>1</td>\n",
       "      <td>&lt; 1 Year</td>\n",
       "      <td>No</td>\n",
       "      <td>18</td>\n",
       "      <td>1</td>\n",
       "      <td>46622.0</td>\n",
       "      <td>299</td>\n",
       "      <td>0</td>\n",
       "    </tr>\n",
       "    <tr>\n",
       "      <th>3</th>\n",
       "      <td>31</td>\n",
       "      <td>Female</td>\n",
       "      <td>26</td>\n",
       "      <td>8.0</td>\n",
       "      <td>160.0</td>\n",
       "      <td>31</td>\n",
       "      <td>1</td>\n",
       "      <td>&lt; 1 Year</td>\n",
       "      <td>No</td>\n",
       "      <td>31</td>\n",
       "      <td>0</td>\n",
       "      <td>2630.0</td>\n",
       "      <td>136</td>\n",
       "      <td>0</td>\n",
       "    </tr>\n",
       "    <tr>\n",
       "      <th>4</th>\n",
       "      <td>39</td>\n",
       "      <td>Male</td>\n",
       "      <td>45</td>\n",
       "      <td>8.0</td>\n",
       "      <td>124.0</td>\n",
       "      <td>39</td>\n",
       "      <td>1</td>\n",
       "      <td>1-2 Year</td>\n",
       "      <td>Yes</td>\n",
       "      <td>39</td>\n",
       "      <td>0</td>\n",
       "      <td>42297.0</td>\n",
       "      <td>264</td>\n",
       "      <td>0</td>\n",
       "    </tr>\n",
       "  </tbody>\n",
       "</table>\n",
       "</div>"
      ],
      "text/plain": [
       "   id  gender  age  region_code  policy_sales_channel  id  driving_license  \\\n",
       "0   7    Male   23         11.0                 152.0   7                1   \n",
       "1  13  Female   41         15.0                  14.0  13                1   \n",
       "2  18  Female   25         35.0                 152.0  18                1   \n",
       "3  31  Female   26          8.0                 160.0  31                1   \n",
       "4  39    Male   45          8.0                 124.0  39                1   \n",
       "\n",
       "  vehicle_age vehicle_damage  id  previously_insured  annual_premium  vintage  \\\n",
       "0    < 1 Year            Yes   7                   0         23367.0      249   \n",
       "1    1-2 Year             No  13                   1         31409.0      221   \n",
       "2    < 1 Year             No  18                   1         46622.0      299   \n",
       "3    < 1 Year             No  31                   0          2630.0      136   \n",
       "4    1-2 Year            Yes  39                   0         42297.0      264   \n",
       "\n",
       "   response  \n",
       "0         0  \n",
       "1         0  \n",
       "2         0  \n",
       "3         0  \n",
       "4         0  "
      ]
     },
     "execution_count": 80,
     "metadata": {},
     "output_type": "execute_result"
    }
   ],
   "source": [
    "# Credentials\n",
    "\n",
    "host = 'comunidade-ds-postgres.c50pcakiuwi3.us-east-1.rds.amazonaws.com'\n",
    "port = 5432\n",
    "database = 'comunidadedsdb'\n",
    "username = 'member'\n",
    "pwd =' cdspa'\n",
    "\n",
    "# Connection with Database\n",
    "conn_string = f'host={host} port={port} dbname={database} user={username} password={pwd}'\n",
    "conn = pg.connect(conn_string)\n",
    "\n",
    "# SQL Query\n",
    "query = '''\n",
    "    select * \n",
    "    from pa004.users u LEFT JOIN pa004.vehicle v ON (u.id = v.id)\n",
    "                       LEFT JOIN pa004.insurance i ON (u.id = i.id)\n",
    "'''\n",
    "\n",
    "df = pd.read_sql(query, conn)\n",
    "conn.close()\n",
    "df.head()"
   ]
  },
  {
   "cell_type": "code",
   "execution_count": 81,
   "id": "28fb7c12",
   "metadata": {
    "ExecuteTime": {
     "end_time": "2022-09-25T19:44:48.244479Z",
     "start_time": "2022-09-25T19:44:48.231685Z"
    }
   },
   "outputs": [
    {
     "name": "stdout",
     "output_type": "stream",
     "text": [
      "Rows: 381109\n",
      "Columns: 14\n"
     ]
    }
   ],
   "source": [
    "print('Rows: {}'.format(df.shape[0]))\n",
    "print('Columns: {}'.format(df.shape[1]))"
   ]
  },
  {
   "cell_type": "code",
   "execution_count": 82,
   "id": "5430828a",
   "metadata": {
    "ExecuteTime": {
     "end_time": "2022-09-25T19:44:48.352431Z",
     "start_time": "2022-09-25T19:44:48.247977Z"
    }
   },
   "outputs": [
    {
     "data": {
      "text/html": [
       "<div>\n",
       "<style scoped>\n",
       "    .dataframe tbody tr th:only-of-type {\n",
       "        vertical-align: middle;\n",
       "    }\n",
       "\n",
       "    .dataframe tbody tr th {\n",
       "        vertical-align: top;\n",
       "    }\n",
       "\n",
       "    .dataframe thead th {\n",
       "        text-align: right;\n",
       "    }\n",
       "</style>\n",
       "<table border=\"1\" class=\"dataframe\">\n",
       "  <thead>\n",
       "    <tr style=\"text-align: right;\">\n",
       "      <th></th>\n",
       "      <th>id</th>\n",
       "      <th>gender</th>\n",
       "      <th>age</th>\n",
       "      <th>region_code</th>\n",
       "      <th>policy_sales_channel</th>\n",
       "      <th>driving_license</th>\n",
       "      <th>vehicle_age</th>\n",
       "      <th>vehicle_damage</th>\n",
       "      <th>previously_insured</th>\n",
       "      <th>annual_premium</th>\n",
       "      <th>vintage</th>\n",
       "      <th>response</th>\n",
       "    </tr>\n",
       "  </thead>\n",
       "  <tbody>\n",
       "    <tr>\n",
       "      <th>264717</th>\n",
       "      <td>210294</td>\n",
       "      <td>Male</td>\n",
       "      <td>26</td>\n",
       "      <td>8.0</td>\n",
       "      <td>152.0</td>\n",
       "      <td>1</td>\n",
       "      <td>&lt; 1 Year</td>\n",
       "      <td>No</td>\n",
       "      <td>1</td>\n",
       "      <td>2630.0</td>\n",
       "      <td>19</td>\n",
       "      <td>0</td>\n",
       "    </tr>\n",
       "    <tr>\n",
       "      <th>91301</th>\n",
       "      <td>347261</td>\n",
       "      <td>Female</td>\n",
       "      <td>23</td>\n",
       "      <td>37.0</td>\n",
       "      <td>151.0</td>\n",
       "      <td>1</td>\n",
       "      <td>&lt; 1 Year</td>\n",
       "      <td>Yes</td>\n",
       "      <td>0</td>\n",
       "      <td>32941.0</td>\n",
       "      <td>159</td>\n",
       "      <td>0</td>\n",
       "    </tr>\n",
       "    <tr>\n",
       "      <th>152571</th>\n",
       "      <td>76336</td>\n",
       "      <td>Male</td>\n",
       "      <td>26</td>\n",
       "      <td>28.0</td>\n",
       "      <td>152.0</td>\n",
       "      <td>1</td>\n",
       "      <td>&lt; 1 Year</td>\n",
       "      <td>No</td>\n",
       "      <td>1</td>\n",
       "      <td>40752.0</td>\n",
       "      <td>81</td>\n",
       "      <td>0</td>\n",
       "    </tr>\n",
       "  </tbody>\n",
       "</table>\n",
       "</div>"
      ],
      "text/plain": [
       "            id  gender  age  region_code  policy_sales_channel  \\\n",
       "264717  210294    Male   26          8.0                 152.0   \n",
       "91301   347261  Female   23         37.0                 151.0   \n",
       "152571   76336    Male   26         28.0                 152.0   \n",
       "\n",
       "        driving_license vehicle_age vehicle_damage  previously_insured  \\\n",
       "264717                1    < 1 Year             No                   1   \n",
       "91301                 1    < 1 Year            Yes                   0   \n",
       "152571                1    < 1 Year             No                   1   \n",
       "\n",
       "        annual_premium  vintage  response  \n",
       "264717          2630.0       19         0  \n",
       "91301          32941.0      159         0  \n",
       "152571         40752.0       81         0  "
      ]
     },
     "execution_count": 82,
     "metadata": {},
     "output_type": "execute_result"
    }
   ],
   "source": [
    "df_raw = df.loc[:,~df.columns.duplicated()]\n",
    "df_raw.sample(3)"
   ]
  },
  {
   "cell_type": "code",
   "execution_count": 83,
   "id": "9882884f",
   "metadata": {
    "ExecuteTime": {
     "end_time": "2022-09-25T19:44:48.367518Z",
     "start_time": "2022-09-25T19:44:48.355313Z"
    }
   },
   "outputs": [
    {
     "name": "stdout",
     "output_type": "stream",
     "text": [
      "Rows: 381109\n",
      "Columns: 12\n"
     ]
    }
   ],
   "source": [
    "print('Rows: {}'.format(df_raw.shape[0]))\n",
    "print('Columns: {}'.format(df_raw.shape[1]))"
   ]
  },
  {
   "cell_type": "markdown",
   "id": "e802babf",
   "metadata": {},
   "source": [
    "# 1.0 Data Description"
   ]
  },
  {
   "cell_type": "code",
   "execution_count": 84,
   "id": "0ecfc62f",
   "metadata": {
    "ExecuteTime": {
     "end_time": "2022-09-25T19:44:48.415406Z",
     "start_time": "2022-09-25T19:44:48.369483Z"
    }
   },
   "outputs": [],
   "source": [
    "df1 = df_raw.copy()"
   ]
  },
  {
   "cell_type": "markdown",
   "id": "501703cc",
   "metadata": {},
   "source": [
    "## 1.1 Data Dimension"
   ]
  },
  {
   "cell_type": "code",
   "execution_count": 85,
   "id": "fe1c2d7a",
   "metadata": {
    "ExecuteTime": {
     "end_time": "2022-09-25T19:44:48.430642Z",
     "start_time": "2022-09-25T19:44:48.417355Z"
    }
   },
   "outputs": [
    {
     "name": "stdout",
     "output_type": "stream",
     "text": [
      "Rows: 381109\n",
      "Columns: 12\n"
     ]
    }
   ],
   "source": [
    "print('Rows: {}'.format(df1.shape[0]))\n",
    "print('Columns: {}'.format(df1.shape[1]))"
   ]
  },
  {
   "cell_type": "markdown",
   "id": "82e7d5be",
   "metadata": {},
   "source": [
    "## 1.2 Data Types"
   ]
  },
  {
   "cell_type": "code",
   "execution_count": 86,
   "id": "02b161f8",
   "metadata": {
    "ExecuteTime": {
     "end_time": "2022-09-25T19:44:48.633370Z",
     "start_time": "2022-09-25T19:44:48.432575Z"
    }
   },
   "outputs": [
    {
     "name": "stdout",
     "output_type": "stream",
     "text": [
      "id (int64) :  [     7     13     18 ... 381082 381097 381100] \n",
      "\n",
      "gender (object) :  ['Male' 'Female'] \n",
      "\n",
      "age (int64) :  [23 41 25 26 45 44 29 31 50 49 59 20 24 22 52 60 55 40 64 69 58 78 34 75\n",
      " 37 54 46 42 51 76 57 27 38 21 71 77 33 47 72 28 43 39 53 68 62 56 36 35\n",
      " 30 61 63 66 74 67 32 70 73 48 65 80 79 81 82 84 85 83] \n",
      "\n",
      "region_code (float64) :  [11. 15. 35.  8. 28. 39. 29. 30. 25. 22. 36.  0. 26.  6. 48. 47. 33. 41.\n",
      " 46. 43.  2. 37. 40.  4. 10. 18.  9.  3. 50. 32. 24. 27. 34. 21. 45. 12.\n",
      "  5. 49. 14. 16. 13. 31. 23.  1. 42.  7. 17. 44. 19. 38. 20. 52. 51.] \n",
      "\n",
      "policy_sales_channel (float64) :  [152.  14. 160. 124.  13.  26. 151. 157. 156. 122.  23.  11. 163.  12.\n",
      " 154.  31.  19. 120.  55.  56.  24.   8.  10.   9.  61.  29.  52.  22.\n",
      " 150. 147.  15. 155.  60.   7. 125.  30.  18.  25. 145. 158. 139. 135.\n",
      " 136. 131.   3.   1. 127. 105.  16. 140.  91. 128. 113.  94. 132.  54.\n",
      "  42. 103. 153.   4.  51. 116.  36. 107. 146. 108.  47. 138. 111.  35.\n",
      " 114.  45.  86. 121. 123. 109.  59. 119.  37.  65. 133.  88.  38.  48.\n",
      " 110. 129.  44.  39. 106.  89. 159.  80.  92.  63.  21. 148. 104. 118.\n",
      " 137.  93.  32.  64.  20.  71. 117.  53. 112.  70.  98.  78.  76.  81.\n",
      " 130.  74.  90.  83.  40.  99.  46.  79.   2.  66.  49.  97.  73.  28.\n",
      "  17. 101.  58. 126.  27.  69.  34. 102. 149.  87.   6.  95.  41. 100.\n",
      "  75. 134.  62.  96. 115.  82.  57.  33.  67.  68.  50.  43. 144.  84.\n",
      " 143.] \n",
      "\n",
      "driving_license (int64) :  [1 0] \n",
      "\n",
      "vehicle_age (object) :  ['< 1 Year' '1-2 Year' '> 2 Years'] \n",
      "\n",
      "vehicle_damage (object) :  ['Yes' 'No'] \n",
      "\n",
      "previously_insured (int64) :  [0 1] \n",
      "\n",
      "annual_premium (float64) :  [23367. 31409. 46622. ... 67909. 91305. 20706.] \n",
      "\n",
      "vintage (int64) :  [249 221 299 136 264  73 242 167 209 247 229 149  88 155 158  78 125  67\n",
      " 134 142 245 114  49 150 121  60 143 285  86 293 270 197 290  47 224  94\n",
      " 222 185 205  11 288  77 107 236 113 108 120  13  15 265  92 220 204  82\n",
      "  48 244  53 168 266 233  10  38  83 216 109 115 240 279 275  34  87 182\n",
      " 226 116 280 161 183  74 145 129 100 232  36 295 102 124  85  54 138 203\n",
      " 163 212  22 172 263 148 131 283 281 128  35 137  97  64 153  42 284 175\n",
      " 250  26  81  32  45  69 253 227 252 297  68 105  12 178 111 140 133  51\n",
      " 259 164 256 268  56 276 277  90 179 217  55  89 254 180 187  37 271  40\n",
      " 193 184  61  99 103 165  75  63  91  29  23 190 132 225 294 157 156 211\n",
      " 101 239  57 260 287  16  70 273 215 248  66 296 234 152 235  20 206  98\n",
      " 122 202 199  27 298 208  25 262 278  14  93  52 257 127  19 186 189 162\n",
      " 198 110  30 123 207 237 144 173 119 241 274 286  59 258  72 146 151 170\n",
      " 135  18 228 117  17 160  39  96 291 194 231 219 104 282 213  95 191 176\n",
      " 238  65 218 139 154 147  84 171  41 201 159  62 196 177 243  31 192  21\n",
      " 230 255 169 126  80  46  79  50  43  44 118 200 195 223 272 141 188 130\n",
      "  24  33 261 166 181 289 214  58 112 174  28  76 269 292 246 251 106 210\n",
      " 267  71] \n",
      "\n",
      "response (int64) :  [0 1] \n",
      "\n"
     ]
    }
   ],
   "source": [
    "for att in df1.columns:\n",
    "    print(att, '({}) : '.format(df1[att].dtype), df1[att].unique(), \"\\n\")"
   ]
  },
  {
   "cell_type": "markdown",
   "id": "1f9af3c0",
   "metadata": {},
   "source": [
    "## 1.3 Check NA"
   ]
  },
  {
   "cell_type": "code",
   "execution_count": 87,
   "id": "84be6a06",
   "metadata": {
    "ExecuteTime": {
     "end_time": "2022-09-25T19:44:48.854525Z",
     "start_time": "2022-09-25T19:44:48.635449Z"
    }
   },
   "outputs": [
    {
     "data": {
      "text/plain": [
       "id                      0\n",
       "gender                  0\n",
       "age                     0\n",
       "region_code             0\n",
       "policy_sales_channel    0\n",
       "driving_license         0\n",
       "vehicle_age             0\n",
       "vehicle_damage          0\n",
       "previously_insured      0\n",
       "annual_premium          0\n",
       "vintage                 0\n",
       "response                0\n",
       "dtype: int64"
      ]
     },
     "execution_count": 87,
     "metadata": {},
     "output_type": "execute_result"
    }
   ],
   "source": [
    "df1.isna().sum()"
   ]
  },
  {
   "cell_type": "markdown",
   "id": "ddd9b367",
   "metadata": {},
   "source": [
    "## 1.4 Data Descriptive"
   ]
  },
  {
   "cell_type": "code",
   "execution_count": 88,
   "id": "4ca971d2",
   "metadata": {
    "ExecuteTime": {
     "end_time": "2022-09-25T19:44:48.869339Z",
     "start_time": "2022-09-25T19:44:48.861131Z"
    }
   },
   "outputs": [],
   "source": [
    "num_attributes = df1.select_dtypes(include=['int64','float64'])\n",
    "cat_attributes = df1.select_dtypes(exclude=['int64','float64'])"
   ]
  },
  {
   "cell_type": "markdown",
   "id": "b3d4aef6",
   "metadata": {},
   "source": [
    "### 1.4.1 Numerical atributes"
   ]
  },
  {
   "cell_type": "code",
   "execution_count": 89,
   "id": "c9b14a86",
   "metadata": {
    "ExecuteTime": {
     "end_time": "2022-09-25T19:44:49.698253Z",
     "start_time": "2022-09-25T19:44:48.870317Z"
    }
   },
   "outputs": [
    {
     "data": {
      "text/html": [
       "<div>\n",
       "<style scoped>\n",
       "    .dataframe tbody tr th:only-of-type {\n",
       "        vertical-align: middle;\n",
       "    }\n",
       "\n",
       "    .dataframe tbody tr th {\n",
       "        vertical-align: top;\n",
       "    }\n",
       "\n",
       "    .dataframe thead th {\n",
       "        text-align: right;\n",
       "    }\n",
       "</style>\n",
       "<table border=\"1\" class=\"dataframe\">\n",
       "  <thead>\n",
       "    <tr style=\"text-align: right;\">\n",
       "      <th></th>\n",
       "      <th>attributes</th>\n",
       "      <th>min</th>\n",
       "      <th>max</th>\n",
       "      <th>range</th>\n",
       "      <th>mean</th>\n",
       "      <th>median</th>\n",
       "      <th>std</th>\n",
       "      <th>skew</th>\n",
       "      <th>kurtosis</th>\n",
       "    </tr>\n",
       "  </thead>\n",
       "  <tbody>\n",
       "    <tr>\n",
       "      <th>0</th>\n",
       "      <td>id</td>\n",
       "      <td>1.0</td>\n",
       "      <td>381109.0</td>\n",
       "      <td>381108.0</td>\n",
       "      <td>190555.000000</td>\n",
       "      <td>190555.000000</td>\n",
       "      <td>110016.691870</td>\n",
       "      <td>-8.071174e-18</td>\n",
       "      <td>-1.200000</td>\n",
       "    </tr>\n",
       "    <tr>\n",
       "      <th>1</th>\n",
       "      <td>age</td>\n",
       "      <td>20.0</td>\n",
       "      <td>85.0</td>\n",
       "      <td>65.0</td>\n",
       "      <td>38.822584</td>\n",
       "      <td>38.822584</td>\n",
       "      <td>15.511591</td>\n",
       "      <td>6.725390e-01</td>\n",
       "      <td>-0.565655</td>\n",
       "    </tr>\n",
       "    <tr>\n",
       "      <th>2</th>\n",
       "      <td>region_code</td>\n",
       "      <td>0.0</td>\n",
       "      <td>52.0</td>\n",
       "      <td>52.0</td>\n",
       "      <td>26.388807</td>\n",
       "      <td>26.388807</td>\n",
       "      <td>13.229871</td>\n",
       "      <td>-1.152664e-01</td>\n",
       "      <td>-0.867857</td>\n",
       "    </tr>\n",
       "    <tr>\n",
       "      <th>3</th>\n",
       "      <td>policy_sales_channel</td>\n",
       "      <td>1.0</td>\n",
       "      <td>163.0</td>\n",
       "      <td>162.0</td>\n",
       "      <td>112.034295</td>\n",
       "      <td>112.034295</td>\n",
       "      <td>54.203924</td>\n",
       "      <td>-9.000081e-01</td>\n",
       "      <td>-0.970810</td>\n",
       "    </tr>\n",
       "    <tr>\n",
       "      <th>4</th>\n",
       "      <td>driving_license</td>\n",
       "      <td>0.0</td>\n",
       "      <td>1.0</td>\n",
       "      <td>1.0</td>\n",
       "      <td>0.997869</td>\n",
       "      <td>0.997869</td>\n",
       "      <td>0.046109</td>\n",
       "      <td>-2.159518e+01</td>\n",
       "      <td>464.354302</td>\n",
       "    </tr>\n",
       "    <tr>\n",
       "      <th>5</th>\n",
       "      <td>previously_insured</td>\n",
       "      <td>0.0</td>\n",
       "      <td>1.0</td>\n",
       "      <td>1.0</td>\n",
       "      <td>0.458210</td>\n",
       "      <td>0.458210</td>\n",
       "      <td>0.498251</td>\n",
       "      <td>1.677471e-01</td>\n",
       "      <td>-1.971871</td>\n",
       "    </tr>\n",
       "    <tr>\n",
       "      <th>6</th>\n",
       "      <td>annual_premium</td>\n",
       "      <td>2630.0</td>\n",
       "      <td>540165.0</td>\n",
       "      <td>537535.0</td>\n",
       "      <td>30564.389581</td>\n",
       "      <td>30564.389581</td>\n",
       "      <td>17213.132474</td>\n",
       "      <td>1.766087e+00</td>\n",
       "      <td>34.004569</td>\n",
       "    </tr>\n",
       "    <tr>\n",
       "      <th>7</th>\n",
       "      <td>vintage</td>\n",
       "      <td>10.0</td>\n",
       "      <td>299.0</td>\n",
       "      <td>289.0</td>\n",
       "      <td>154.347397</td>\n",
       "      <td>154.347397</td>\n",
       "      <td>83.671194</td>\n",
       "      <td>3.029517e-03</td>\n",
       "      <td>-1.200688</td>\n",
       "    </tr>\n",
       "    <tr>\n",
       "      <th>8</th>\n",
       "      <td>response</td>\n",
       "      <td>0.0</td>\n",
       "      <td>1.0</td>\n",
       "      <td>1.0</td>\n",
       "      <td>0.122563</td>\n",
       "      <td>0.122563</td>\n",
       "      <td>0.327935</td>\n",
       "      <td>2.301906e+00</td>\n",
       "      <td>3.298788</td>\n",
       "    </tr>\n",
       "  </tbody>\n",
       "</table>\n",
       "</div>"
      ],
      "text/plain": [
       "             attributes     min       max     range           mean  \\\n",
       "0                    id     1.0  381109.0  381108.0  190555.000000   \n",
       "1                   age    20.0      85.0      65.0      38.822584   \n",
       "2           region_code     0.0      52.0      52.0      26.388807   \n",
       "3  policy_sales_channel     1.0     163.0     162.0     112.034295   \n",
       "4       driving_license     0.0       1.0       1.0       0.997869   \n",
       "5    previously_insured     0.0       1.0       1.0       0.458210   \n",
       "6        annual_premium  2630.0  540165.0  537535.0   30564.389581   \n",
       "7               vintage    10.0     299.0     289.0     154.347397   \n",
       "8              response     0.0       1.0       1.0       0.122563   \n",
       "\n",
       "          median            std          skew    kurtosis  \n",
       "0  190555.000000  110016.691870 -8.071174e-18   -1.200000  \n",
       "1      38.822584      15.511591  6.725390e-01   -0.565655  \n",
       "2      26.388807      13.229871 -1.152664e-01   -0.867857  \n",
       "3     112.034295      54.203924 -9.000081e-01   -0.970810  \n",
       "4       0.997869       0.046109 -2.159518e+01  464.354302  \n",
       "5       0.458210       0.498251  1.677471e-01   -1.971871  \n",
       "6   30564.389581   17213.132474  1.766087e+00   34.004569  \n",
       "7     154.347397      83.671194  3.029517e-03   -1.200688  \n",
       "8       0.122563       0.327935  2.301906e+00    3.298788  "
      ]
     },
     "execution_count": 89,
     "metadata": {},
     "output_type": "execute_result"
    }
   ],
   "source": [
    "ct1 = pd.DataFrame(num_attributes.apply(np.mean)).T\n",
    "ct2 = pd.DataFrame(num_attributes.apply(np.mean)).T\n",
    "\n",
    "d1 = pd.DataFrame(num_attributes.apply(np.std)).T\n",
    "d2 = pd.DataFrame(num_attributes.apply(min)).T\n",
    "d3 = pd.DataFrame(num_attributes.apply(max)).T\n",
    "d4 = pd.DataFrame(num_attributes.apply(lambda x: x.max() - x.min())).T\n",
    "d5 = pd.DataFrame(num_attributes.apply(lambda x: x.skew())).T\n",
    "d6 = pd.DataFrame(num_attributes.apply(lambda x: x.kurtosis())).T\n",
    "\n",
    "m = pd.concat([d2, d3, d4, ct1, ct2, d1, d5, d6]).T.reset_index()\n",
    "m.columns = ['attributes', 'min', 'max','range','mean','median','std','skew','kurtosis']\n",
    "\n",
    "m"
   ]
  },
  {
   "cell_type": "markdown",
   "id": "ee72a599",
   "metadata": {},
   "source": [
    "# 2.0 Feature Engineering"
   ]
  },
  {
   "cell_type": "code",
   "execution_count": 90,
   "id": "08d88b62",
   "metadata": {
    "ExecuteTime": {
     "end_time": "2022-09-25T19:44:49.760604Z",
     "start_time": "2022-09-25T19:44:49.704239Z"
    }
   },
   "outputs": [],
   "source": [
    "df2 = df1.copy()"
   ]
  },
  {
   "cell_type": "code",
   "execution_count": 91,
   "id": "2ec242bc",
   "metadata": {
    "ExecuteTime": {
     "end_time": "2022-09-25T19:44:49.824092Z",
     "start_time": "2022-09-25T19:44:49.762516Z"
    }
   },
   "outputs": [
    {
     "data": {
      "text/plain": [
       "array(['< 1 Year', '1-2 Year', '> 2 Years'], dtype=object)"
      ]
     },
     "execution_count": 91,
     "metadata": {},
     "output_type": "execute_result"
    }
   ],
   "source": [
    "df2['vehicle_age'].unique()"
   ]
  },
  {
   "cell_type": "code",
   "execution_count": 92,
   "id": "e0e55ce9",
   "metadata": {
    "ExecuteTime": {
     "end_time": "2022-09-25T19:44:49.854798Z",
     "start_time": "2022-09-25T19:44:49.827082Z"
    }
   },
   "outputs": [
    {
     "data": {
      "text/html": [
       "<div>\n",
       "<style scoped>\n",
       "    .dataframe tbody tr th:only-of-type {\n",
       "        vertical-align: middle;\n",
       "    }\n",
       "\n",
       "    .dataframe tbody tr th {\n",
       "        vertical-align: top;\n",
       "    }\n",
       "\n",
       "    .dataframe thead th {\n",
       "        text-align: right;\n",
       "    }\n",
       "</style>\n",
       "<table border=\"1\" class=\"dataframe\">\n",
       "  <thead>\n",
       "    <tr style=\"text-align: right;\">\n",
       "      <th></th>\n",
       "      <th>id</th>\n",
       "      <th>gender</th>\n",
       "      <th>age</th>\n",
       "      <th>region_code</th>\n",
       "      <th>policy_sales_channel</th>\n",
       "      <th>driving_license</th>\n",
       "      <th>vehicle_age</th>\n",
       "      <th>vehicle_damage</th>\n",
       "      <th>previously_insured</th>\n",
       "      <th>annual_premium</th>\n",
       "      <th>vintage</th>\n",
       "      <th>response</th>\n",
       "    </tr>\n",
       "  </thead>\n",
       "  <tbody>\n",
       "    <tr>\n",
       "      <th>0</th>\n",
       "      <td>7</td>\n",
       "      <td>Male</td>\n",
       "      <td>23</td>\n",
       "      <td>11.0</td>\n",
       "      <td>152.0</td>\n",
       "      <td>1</td>\n",
       "      <td>&lt; 1 Year</td>\n",
       "      <td>Yes</td>\n",
       "      <td>0</td>\n",
       "      <td>23367.0</td>\n",
       "      <td>249</td>\n",
       "      <td>0</td>\n",
       "    </tr>\n",
       "    <tr>\n",
       "      <th>1</th>\n",
       "      <td>13</td>\n",
       "      <td>Female</td>\n",
       "      <td>41</td>\n",
       "      <td>15.0</td>\n",
       "      <td>14.0</td>\n",
       "      <td>1</td>\n",
       "      <td>1-2 Year</td>\n",
       "      <td>No</td>\n",
       "      <td>1</td>\n",
       "      <td>31409.0</td>\n",
       "      <td>221</td>\n",
       "      <td>0</td>\n",
       "    </tr>\n",
       "    <tr>\n",
       "      <th>2</th>\n",
       "      <td>18</td>\n",
       "      <td>Female</td>\n",
       "      <td>25</td>\n",
       "      <td>35.0</td>\n",
       "      <td>152.0</td>\n",
       "      <td>1</td>\n",
       "      <td>&lt; 1 Year</td>\n",
       "      <td>No</td>\n",
       "      <td>1</td>\n",
       "      <td>46622.0</td>\n",
       "      <td>299</td>\n",
       "      <td>0</td>\n",
       "    </tr>\n",
       "    <tr>\n",
       "      <th>3</th>\n",
       "      <td>31</td>\n",
       "      <td>Female</td>\n",
       "      <td>26</td>\n",
       "      <td>8.0</td>\n",
       "      <td>160.0</td>\n",
       "      <td>1</td>\n",
       "      <td>&lt; 1 Year</td>\n",
       "      <td>No</td>\n",
       "      <td>0</td>\n",
       "      <td>2630.0</td>\n",
       "      <td>136</td>\n",
       "      <td>0</td>\n",
       "    </tr>\n",
       "    <tr>\n",
       "      <th>4</th>\n",
       "      <td>39</td>\n",
       "      <td>Male</td>\n",
       "      <td>45</td>\n",
       "      <td>8.0</td>\n",
       "      <td>124.0</td>\n",
       "      <td>1</td>\n",
       "      <td>1-2 Year</td>\n",
       "      <td>Yes</td>\n",
       "      <td>0</td>\n",
       "      <td>42297.0</td>\n",
       "      <td>264</td>\n",
       "      <td>0</td>\n",
       "    </tr>\n",
       "  </tbody>\n",
       "</table>\n",
       "</div>"
      ],
      "text/plain": [
       "   id  gender  age  region_code  policy_sales_channel  driving_license  \\\n",
       "0   7    Male   23         11.0                 152.0                1   \n",
       "1  13  Female   41         15.0                  14.0                1   \n",
       "2  18  Female   25         35.0                 152.0                1   \n",
       "3  31  Female   26          8.0                 160.0                1   \n",
       "4  39    Male   45          8.0                 124.0                1   \n",
       "\n",
       "  vehicle_age vehicle_damage  previously_insured  annual_premium  vintage  \\\n",
       "0    < 1 Year            Yes                   0         23367.0      249   \n",
       "1    1-2 Year             No                   1         31409.0      221   \n",
       "2    < 1 Year             No                   1         46622.0      299   \n",
       "3    < 1 Year             No                   0          2630.0      136   \n",
       "4    1-2 Year            Yes                   0         42297.0      264   \n",
       "\n",
       "   response  \n",
       "0         0  \n",
       "1         0  \n",
       "2         0  \n",
       "3         0  \n",
       "4         0  "
      ]
     },
     "execution_count": 92,
     "metadata": {},
     "output_type": "execute_result"
    }
   ],
   "source": [
    "df2.head()"
   ]
  },
  {
   "cell_type": "code",
   "execution_count": 93,
   "id": "5f7aa2ee",
   "metadata": {
    "ExecuteTime": {
     "end_time": "2022-09-25T19:44:50.042345Z",
     "start_time": "2022-09-25T19:44:49.856706Z"
    }
   },
   "outputs": [],
   "source": [
    "# vericle_age\n",
    "df2['vehicle_age'] = df2['vehicle_age'].apply(lambda x: 'bellow_1_year' if x == '< 1 Year' else \n",
    "                                                     'between_1_2_year' if x == '1-2 Year' else \n",
    "                                                     'over_2_years')\n",
    "df2['vehicle_damage'] = df2['vehicle_damage'].map({'Yes':1,'No':0}) "
   ]
  },
  {
   "cell_type": "code",
   "execution_count": 94,
   "id": "70c4a400",
   "metadata": {
    "ExecuteTime": {
     "end_time": "2022-09-25T19:44:50.073614Z",
     "start_time": "2022-09-25T19:44:50.045333Z"
    }
   },
   "outputs": [
    {
     "data": {
      "text/html": [
       "<div>\n",
       "<style scoped>\n",
       "    .dataframe tbody tr th:only-of-type {\n",
       "        vertical-align: middle;\n",
       "    }\n",
       "\n",
       "    .dataframe tbody tr th {\n",
       "        vertical-align: top;\n",
       "    }\n",
       "\n",
       "    .dataframe thead th {\n",
       "        text-align: right;\n",
       "    }\n",
       "</style>\n",
       "<table border=\"1\" class=\"dataframe\">\n",
       "  <thead>\n",
       "    <tr style=\"text-align: right;\">\n",
       "      <th></th>\n",
       "      <th>id</th>\n",
       "      <th>gender</th>\n",
       "      <th>age</th>\n",
       "      <th>region_code</th>\n",
       "      <th>policy_sales_channel</th>\n",
       "      <th>driving_license</th>\n",
       "      <th>vehicle_age</th>\n",
       "      <th>vehicle_damage</th>\n",
       "      <th>previously_insured</th>\n",
       "      <th>annual_premium</th>\n",
       "      <th>vintage</th>\n",
       "      <th>response</th>\n",
       "    </tr>\n",
       "  </thead>\n",
       "  <tbody>\n",
       "    <tr>\n",
       "      <th>0</th>\n",
       "      <td>7</td>\n",
       "      <td>Male</td>\n",
       "      <td>23</td>\n",
       "      <td>11.0</td>\n",
       "      <td>152.0</td>\n",
       "      <td>1</td>\n",
       "      <td>bellow_1_year</td>\n",
       "      <td>1</td>\n",
       "      <td>0</td>\n",
       "      <td>23367.0</td>\n",
       "      <td>249</td>\n",
       "      <td>0</td>\n",
       "    </tr>\n",
       "    <tr>\n",
       "      <th>1</th>\n",
       "      <td>13</td>\n",
       "      <td>Female</td>\n",
       "      <td>41</td>\n",
       "      <td>15.0</td>\n",
       "      <td>14.0</td>\n",
       "      <td>1</td>\n",
       "      <td>between_1_2_year</td>\n",
       "      <td>0</td>\n",
       "      <td>1</td>\n",
       "      <td>31409.0</td>\n",
       "      <td>221</td>\n",
       "      <td>0</td>\n",
       "    </tr>\n",
       "    <tr>\n",
       "      <th>2</th>\n",
       "      <td>18</td>\n",
       "      <td>Female</td>\n",
       "      <td>25</td>\n",
       "      <td>35.0</td>\n",
       "      <td>152.0</td>\n",
       "      <td>1</td>\n",
       "      <td>bellow_1_year</td>\n",
       "      <td>0</td>\n",
       "      <td>1</td>\n",
       "      <td>46622.0</td>\n",
       "      <td>299</td>\n",
       "      <td>0</td>\n",
       "    </tr>\n",
       "    <tr>\n",
       "      <th>3</th>\n",
       "      <td>31</td>\n",
       "      <td>Female</td>\n",
       "      <td>26</td>\n",
       "      <td>8.0</td>\n",
       "      <td>160.0</td>\n",
       "      <td>1</td>\n",
       "      <td>bellow_1_year</td>\n",
       "      <td>0</td>\n",
       "      <td>0</td>\n",
       "      <td>2630.0</td>\n",
       "      <td>136</td>\n",
       "      <td>0</td>\n",
       "    </tr>\n",
       "    <tr>\n",
       "      <th>4</th>\n",
       "      <td>39</td>\n",
       "      <td>Male</td>\n",
       "      <td>45</td>\n",
       "      <td>8.0</td>\n",
       "      <td>124.0</td>\n",
       "      <td>1</td>\n",
       "      <td>between_1_2_year</td>\n",
       "      <td>1</td>\n",
       "      <td>0</td>\n",
       "      <td>42297.0</td>\n",
       "      <td>264</td>\n",
       "      <td>0</td>\n",
       "    </tr>\n",
       "  </tbody>\n",
       "</table>\n",
       "</div>"
      ],
      "text/plain": [
       "   id  gender  age  region_code  policy_sales_channel  driving_license  \\\n",
       "0   7    Male   23         11.0                 152.0                1   \n",
       "1  13  Female   41         15.0                  14.0                1   \n",
       "2  18  Female   25         35.0                 152.0                1   \n",
       "3  31  Female   26          8.0                 160.0                1   \n",
       "4  39    Male   45          8.0                 124.0                1   \n",
       "\n",
       "        vehicle_age  vehicle_damage  previously_insured  annual_premium  \\\n",
       "0     bellow_1_year               1                   0         23367.0   \n",
       "1  between_1_2_year               0                   1         31409.0   \n",
       "2     bellow_1_year               0                   1         46622.0   \n",
       "3     bellow_1_year               0                   0          2630.0   \n",
       "4  between_1_2_year               1                   0         42297.0   \n",
       "\n",
       "   vintage  response  \n",
       "0      249         0  \n",
       "1      221         0  \n",
       "2      299         0  \n",
       "3      136         0  \n",
       "4      264         0  "
      ]
     },
     "execution_count": 94,
     "metadata": {},
     "output_type": "execute_result"
    }
   ],
   "source": [
    "df2.head()"
   ]
  },
  {
   "cell_type": "markdown",
   "id": "693272c8",
   "metadata": {},
   "source": [
    "# 3.0 Data Filtering"
   ]
  },
  {
   "cell_type": "code",
   "execution_count": 95,
   "id": "995e9e62",
   "metadata": {
    "ExecuteTime": {
     "end_time": "2022-09-25T19:44:50.151034Z",
     "start_time": "2022-09-25T19:44:50.076839Z"
    }
   },
   "outputs": [],
   "source": [
    "df3 = df2.copy()"
   ]
  },
  {
   "cell_type": "markdown",
   "id": "e314a9b5",
   "metadata": {},
   "source": [
    "# 4.0 Exploratory Data Analysis"
   ]
  },
  {
   "cell_type": "code",
   "execution_count": 96,
   "id": "d353005b",
   "metadata": {
    "ExecuteTime": {
     "end_time": "2022-09-25T19:44:50.182274Z",
     "start_time": "2022-09-25T19:44:50.154647Z"
    }
   },
   "outputs": [],
   "source": [
    "df4 = df3.copy()"
   ]
  },
  {
   "cell_type": "code",
   "execution_count": 97,
   "id": "419211bf",
   "metadata": {
    "ExecuteTime": {
     "end_time": "2022-09-25T19:44:50.197428Z",
     "start_time": "2022-09-25T19:44:50.184957Z"
    }
   },
   "outputs": [],
   "source": [
    "# report = sv.analyze(df4)\n",
    "# report.show_html()"
   ]
  },
  {
   "cell_type": "markdown",
   "id": "52ff783e",
   "metadata": {},
   "source": [
    "### 4.1. Univariate Analysis"
   ]
  },
  {
   "cell_type": "code",
   "execution_count": 98,
   "id": "65bc3b4b",
   "metadata": {
    "ExecuteTime": {
     "end_time": "2022-09-25T19:44:50.212757Z",
     "start_time": "2022-09-25T19:44:50.200635Z"
    }
   },
   "outputs": [],
   "source": [
    "# 'gender'"
   ]
  },
  {
   "cell_type": "code",
   "execution_count": 99,
   "id": "84d72d1c",
   "metadata": {
    "ExecuteTime": {
     "end_time": "2022-09-25T19:44:50.401350Z",
     "start_time": "2022-09-25T19:44:50.214663Z"
    },
    "scrolled": true
   },
   "outputs": [
    {
     "data": {
      "image/png": "[encoded data removed]",
      "text/plain": [
       "<Figure size 432x288 with 1 Axes>"
      ]
     },
     "metadata": {
      "needs_background": "light"
     },
     "output_type": "display_data"
    }
   ],
   "source": [
    "# 'age'\n",
    "sns.boxplot(x='response',y='age',data=df4);"
   ]
  },
  {
   "cell_type": "markdown",
   "id": "b5ea7b41",
   "metadata": {
    "cell_style": "split"
   },
   "source": [
    "#### Interesed"
   ]
  },
  {
   "cell_type": "markdown",
   "id": "fd1c6447",
   "metadata": {
    "cell_style": "split"
   },
   "source": [
    "#### Not interessed"
   ]
  },
  {
   "cell_type": "code",
   "execution_count": 100,
   "id": "f1301b98",
   "metadata": {
    "ExecuteTime": {
     "end_time": "2022-09-25T19:44:50.920477Z",
     "start_time": "2022-09-25T19:44:50.403271Z"
    },
    "cell_style": "split",
    "scrolled": true
   },
   "outputs": [
    {
     "data": {
      "text/plain": [
       "<AxesSubplot:xlabel='age', ylabel='Count'>"
      ]
     },
     "execution_count": 100,
     "metadata": {},
     "output_type": "execute_result"
    },
    {
     "data": {
      "image/png": "[encoded data removed]",
      "text/plain": [
       "<Figure size 432x288 with 1 Axes>"
      ]
     },
     "metadata": {
      "needs_background": "light"
     },
     "output_type": "display_data"
    }
   ],
   "source": [
    "aux00 = df4.loc[df4['response'] == 0, 'age']\n",
    "sns.histplot(aux00)"
   ]
  },
  {
   "cell_type": "code",
   "execution_count": 101,
   "id": "5d3606cb",
   "metadata": {
    "ExecuteTime": {
     "end_time": "2022-09-25T19:44:51.280539Z",
     "start_time": "2022-09-25T19:44:50.926461Z"
    },
    "cell_style": "split",
    "scrolled": true
   },
   "outputs": [
    {
     "data": {
      "text/plain": [
       "<AxesSubplot:xlabel='age', ylabel='Count'>"
      ]
     },
     "execution_count": 101,
     "metadata": {},
     "output_type": "execute_result"
    },
    {
     "data": {
      "image/png": "[encoded data removed]",
      "text/plain": [
       "<Figure size 432x288 with 1 Axes>"
      ]
     },
     "metadata": {
      "needs_background": "light"
     },
     "output_type": "display_data"
    }
   ],
   "source": [
    "aux00 = df4.loc[df4['response'] == 1, 'age']\n",
    "sns.histplot(aux00)"
   ]
  },
  {
   "cell_type": "code",
   "execution_count": 102,
   "id": "bd3ddf07",
   "metadata": {
    "ExecuteTime": {
     "end_time": "2022-09-25T19:44:51.514950Z",
     "start_time": "2022-09-25T19:44:51.283930Z"
    },
    "hide_input": false
   },
   "outputs": [
    {
     "data": {
      "image/png": "[encoded data removed]",
      "text/plain": [
       "<Figure size 432x288 with 1 Axes>"
      ]
     },
     "metadata": {
      "needs_background": "light"
     },
     "output_type": "display_data"
    }
   ],
   "source": [
    "# 'annual_premium'\n",
    "aux = df4[(df4['annual_premium'] < 80000) & (df4['annual_premium'] > 10000)]\n",
    "sns.boxplot(x='response',y='annual_premium',data=aux);"
   ]
  },
  {
   "cell_type": "markdown",
   "id": "c441613e",
   "metadata": {
    "cell_style": "split"
   },
   "source": [
    "#### Interesed"
   ]
  },
  {
   "cell_type": "markdown",
   "id": "cecb8719",
   "metadata": {
    "cell_style": "split"
   },
   "source": [
    "#### Not interessed"
   ]
  },
  {
   "cell_type": "code",
   "execution_count": 103,
   "id": "53f10675",
   "metadata": {
    "ExecuteTime": {
     "end_time": "2022-09-25T19:44:52.265704Z",
     "start_time": "2022-09-25T19:44:51.515949Z"
    },
    "cell_style": "split",
    "scrolled": true
   },
   "outputs": [
    {
     "data": {
      "text/plain": [
       "<AxesSubplot:xlabel='annual_premium', ylabel='Count'>"
      ]
     },
     "execution_count": 103,
     "metadata": {},
     "output_type": "execute_result"
    },
    {
     "data": {
      "image/png": "[encoded data removed]",
      "text/plain": [
       "<Figure size 432x288 with 1 Axes>"
      ]
     },
     "metadata": {
      "needs_background": "light"
     },
     "output_type": "display_data"
    }
   ],
   "source": [
    "aux00 = aux.loc[aux['response'] == 0, 'annual_premium']\n",
    "sns.histplot(aux00)"
   ]
  },
  {
   "cell_type": "code",
   "execution_count": 104,
   "id": "f8f07f8c",
   "metadata": {
    "ExecuteTime": {
     "end_time": "2022-09-25T19:44:52.563345Z",
     "start_time": "2022-09-25T19:44:52.267597Z"
    },
    "cell_style": "split",
    "scrolled": false
   },
   "outputs": [
    {
     "data": {
      "text/plain": [
       "<AxesSubplot:xlabel='annual_premium', ylabel='Count'>"
      ]
     },
     "execution_count": 104,
     "metadata": {},
     "output_type": "execute_result"
    },
    {
     "data": {
      "image/png": "[encoded data removed]",
      "text/plain": [
       "<Figure size 432x288 with 1 Axes>"
      ]
     },
     "metadata": {
      "needs_background": "light"
     },
     "output_type": "display_data"
    }
   ],
   "source": [
    "aux00 = aux.loc[aux['response'] == 1, 'annual_premium']\n",
    "sns.histplot(aux00)"
   ]
  },
  {
   "cell_type": "code",
   "execution_count": 105,
   "id": "8a14dbe8",
   "metadata": {
    "ExecuteTime": {
     "end_time": "2022-09-25T19:44:52.626436Z",
     "start_time": "2022-09-25T19:44:52.565340Z"
    }
   },
   "outputs": [
    {
     "data": {
      "text/html": [
       "<div>\n",
       "<style scoped>\n",
       "    .dataframe tbody tr th:only-of-type {\n",
       "        vertical-align: middle;\n",
       "    }\n",
       "\n",
       "    .dataframe tbody tr th {\n",
       "        vertical-align: top;\n",
       "    }\n",
       "\n",
       "    .dataframe thead th {\n",
       "        text-align: right;\n",
       "    }\n",
       "</style>\n",
       "<table border=\"1\" class=\"dataframe\">\n",
       "  <thead>\n",
       "    <tr style=\"text-align: right;\">\n",
       "      <th></th>\n",
       "      <th>response</th>\n",
       "      <th>driving_license</th>\n",
       "      <th>driving_license_perc</th>\n",
       "    </tr>\n",
       "  </thead>\n",
       "  <tbody>\n",
       "    <tr>\n",
       "      <th>0</th>\n",
       "      <td>0</td>\n",
       "      <td>333628</td>\n",
       "      <td>0.877283</td>\n",
       "    </tr>\n",
       "    <tr>\n",
       "      <th>1</th>\n",
       "      <td>1</td>\n",
       "      <td>46669</td>\n",
       "      <td>0.122717</td>\n",
       "    </tr>\n",
       "  </tbody>\n",
       "</table>\n",
       "</div>"
      ],
      "text/plain": [
       "   response  driving_license  driving_license_perc\n",
       "0         0           333628              0.877283\n",
       "1         1            46669              0.122717"
      ]
     },
     "execution_count": 105,
     "metadata": {},
     "output_type": "execute_result"
    }
   ],
   "source": [
    "# 'driving_license'\n",
    "aux = df4[['driving_license','response']].groupby('response').sum().reset_index()\n",
    "aux['driving_license_perc'] = aux['driving_license']/aux['driving_license'].sum()\n",
    "aux"
   ]
  },
  {
   "cell_type": "code",
   "execution_count": 106,
   "id": "5be68a58",
   "metadata": {
    "ExecuteTime": {
     "end_time": "2022-09-25T19:44:52.687730Z",
     "start_time": "2022-09-25T19:44:52.634407Z"
    }
   },
   "outputs": [],
   "source": [
    "# 'region_code'\n",
    "aux0 = df4[['id','region_code','response']].groupby(['region_code','response']).count().reset_index()"
   ]
  },
  {
   "cell_type": "code",
   "execution_count": 107,
   "id": "6bdd2f53",
   "metadata": {
    "ExecuteTime": {
     "end_time": "2022-09-25T19:44:52.956544Z",
     "start_time": "2022-09-25T19:44:52.689724Z"
    },
    "cell_style": "split"
   },
   "outputs": [
    {
     "data": {
      "text/plain": [
       "<AxesSubplot:xlabel='region_code', ylabel='id'>"
      ]
     },
     "execution_count": 107,
     "metadata": {},
     "output_type": "execute_result"
    },
    {
     "data": {
      "image/png": "[encoded data removed]",
      "text/plain": [
       "<Figure size 432x288 with 1 Axes>"
      ]
     },
     "metadata": {
      "needs_background": "light"
     },
     "output_type": "display_data"
    }
   ],
   "source": [
    "sns.scatterplot(x='region_code', y= 'id', hue = 'response', data=aux0)"
   ]
  },
  {
   "cell_type": "code",
   "execution_count": 108,
   "id": "ad8a2810",
   "metadata": {
    "ExecuteTime": {
     "end_time": "2022-09-25T19:44:53.960826Z",
     "start_time": "2022-09-25T19:44:52.959367Z"
    },
    "cell_style": "split"
   },
   "outputs": [
    {
     "data": {
      "text/plain": [
       "<AxesSubplot:xlabel='region_code'>"
      ]
     },
     "execution_count": 108,
     "metadata": {},
     "output_type": "execute_result"
    },
    {
     "data": {
      "image/png": "[encoded data removed]",
      "text/plain": [
       "<Figure size 432x288 with 1 Axes>"
      ]
     },
     "metadata": {
      "needs_background": "light"
     },
     "output_type": "display_data"
    }
   ],
   "source": [
    "df_grouped = df4[[\"region_code\", \"response\"]].groupby('region_code').value_counts(normalize=True).unstack('response')\n",
    "df_grouped.plot.bar(stacked=True)"
   ]
  },
  {
   "cell_type": "code",
   "execution_count": 109,
   "id": "9fb8bce8",
   "metadata": {
    "ExecuteTime": {
     "end_time": "2022-09-25T19:44:54.037467Z",
     "start_time": "2022-09-25T19:44:53.963818Z"
    }
   },
   "outputs": [
    {
     "data": {
      "text/html": [
       "<div>\n",
       "<style scoped>\n",
       "    .dataframe tbody tr th:only-of-type {\n",
       "        vertical-align: middle;\n",
       "    }\n",
       "\n",
       "    .dataframe tbody tr th {\n",
       "        vertical-align: top;\n",
       "    }\n",
       "\n",
       "    .dataframe thead th {\n",
       "        text-align: right;\n",
       "    }\n",
       "</style>\n",
       "<table border=\"1\" class=\"dataframe\">\n",
       "  <thead>\n",
       "    <tr style=\"text-align: right;\">\n",
       "      <th>response</th>\n",
       "      <th>0</th>\n",
       "      <th>1</th>\n",
       "    </tr>\n",
       "    <tr>\n",
       "      <th>previously_insured</th>\n",
       "      <th></th>\n",
       "      <th></th>\n",
       "    </tr>\n",
       "  </thead>\n",
       "  <tbody>\n",
       "    <tr>\n",
       "      <th>0</th>\n",
       "      <td>0.774546</td>\n",
       "      <td>0.225454</td>\n",
       "    </tr>\n",
       "    <tr>\n",
       "      <th>1</th>\n",
       "      <td>0.999095</td>\n",
       "      <td>0.000905</td>\n",
       "    </tr>\n",
       "  </tbody>\n",
       "</table>\n",
       "</div>"
      ],
      "text/plain": [
       "response                   0         1\n",
       "previously_insured                    \n",
       "0                   0.774546  0.225454\n",
       "1                   0.999095  0.000905"
      ]
     },
     "execution_count": 109,
     "metadata": {},
     "output_type": "execute_result"
    }
   ],
   "source": [
    "# 'previously_insured'\n",
    "pd.crosstab(df4['previously_insured'],df4['response']).apply(lambda x: x / x.sum(), axis=1)"
   ]
  },
  {
   "cell_type": "code",
   "execution_count": 110,
   "id": "40d64f52",
   "metadata": {
    "ExecuteTime": {
     "end_time": "2022-09-25T19:44:54.257297Z",
     "start_time": "2022-09-25T19:44:54.039515Z"
    }
   },
   "outputs": [
    {
     "data": {
      "image/png": "[encoded data removed]",
      "text/plain": [
       "<Figure size 432x288 with 1 Axes>"
      ]
     },
     "metadata": {
      "needs_background": "light"
     },
     "output_type": "display_data"
    }
   ],
   "source": [
    "# 'vehicle_age'\n",
    "df_grouped = df4[[\"vehicle_age\", \"response\"]].groupby('vehicle_age').value_counts(normalize=True).unstack('response')\n",
    "df_grouped.plot.bar(stacked=True);"
   ]
  },
  {
   "cell_type": "code",
   "execution_count": 111,
   "id": "f9d537ff",
   "metadata": {
    "ExecuteTime": {
     "end_time": "2022-09-25T19:44:54.287679Z",
     "start_time": "2022-09-25T19:44:54.259237Z"
    }
   },
   "outputs": [],
   "source": [
    "# policy_sales_channel\n",
    "aux0 = df4[['policy_sales_channel','response']].groupby('policy_sales_channel').sum().reset_index()\n",
    "aux1 = aux0[aux0['response'] > 40.0]"
   ]
  },
  {
   "cell_type": "code",
   "execution_count": 112,
   "id": "81c89d22",
   "metadata": {
    "ExecuteTime": {
     "end_time": "2022-09-25T19:44:54.898131Z",
     "start_time": "2022-09-25T19:44:54.289341Z"
    },
    "hide_input": true,
    "scrolled": false
   },
   "outputs": [
    {
     "data": {
      "image/png": "[encoded data removed]",
      "text/plain": [
       "<Figure size 1440x360 with 1 Axes>"
      ]
     },
     "metadata": {
      "needs_background": "light"
     },
     "output_type": "display_data"
    }
   ],
   "source": [
    "# 'policy_sales_channel'\n",
    "aux2 = df4[df4['policy_sales_channel'].isin(aux1['policy_sales_channel'])]\n",
    "df_grouped = aux2[[\"policy_sales_channel\", \"response\"]].groupby('policy_sales_channel').value_counts(normalize=True).unstack('response')\n",
    "df_grouped.plot.bar(stacked=True,figsize=(20,5));"
   ]
  },
  {
   "cell_type": "code",
   "execution_count": 113,
   "id": "4c908574",
   "metadata": {
    "ExecuteTime": {
     "end_time": "2022-09-25T19:44:55.366498Z",
     "start_time": "2022-09-25T19:44:54.901979Z"
    },
    "hide_input": true
   },
   "outputs": [
    {
     "data": {
      "text/plain": [
       "<AxesSubplot:xlabel='policy_sales_channel', ylabel='response'>"
      ]
     },
     "execution_count": 113,
     "metadata": {},
     "output_type": "execute_result"
    },
    {
     "data": {
      "image/png": "[encoded data removed]",
      "text/plain": [
       "<Figure size 1440x360 with 1 Axes>"
      ]
     },
     "metadata": {
      "needs_background": "light"
     },
     "output_type": "display_data"
    }
   ],
   "source": [
    "fig = plt.figure(figsize=(20,5))\n",
    "aux = df4[[\"policy_sales_channel\", \"response\"]].groupby('policy_sales_channel').sum().reset_index()\n",
    "aux = aux[aux['response'] > 40]\n",
    "\n",
    "sns.barplot(data=aux,x='policy_sales_channel',y='response')"
   ]
  },
  {
   "cell_type": "code",
   "execution_count": 114,
   "id": "22b484e2",
   "metadata": {
    "ExecuteTime": {
     "end_time": "2022-09-25T19:44:55.381748Z",
     "start_time": "2022-09-25T19:44:55.368401Z"
    }
   },
   "outputs": [],
   "source": [
    "# 'vehicle_damage'"
   ]
  },
  {
   "cell_type": "code",
   "execution_count": 115,
   "id": "b280760f",
   "metadata": {
    "ExecuteTime": {
     "end_time": "2022-09-25T19:44:55.397437Z",
     "start_time": "2022-09-25T19:44:55.383707Z"
    }
   },
   "outputs": [],
   "source": [
    "# 'vintage'"
   ]
  },
  {
   "cell_type": "code",
   "execution_count": 116,
   "id": "1f5044bb",
   "metadata": {
    "ExecuteTime": {
     "end_time": "2022-09-25T19:44:55.818458Z",
     "start_time": "2022-09-25T19:44:55.398386Z"
    },
    "cell_style": "split"
   },
   "outputs": [
    {
     "data": {
      "text/plain": [
       "<AxesSubplot:xlabel='vintage', ylabel='Count'>"
      ]
     },
     "execution_count": 116,
     "metadata": {},
     "output_type": "execute_result"
    },
    {
     "data": {
      "image/png": "[encoded data removed]",
      "text/plain": [
       "<Figure size 432x288 with 1 Axes>"
      ]
     },
     "metadata": {
      "needs_background": "light"
     },
     "output_type": "display_data"
    }
   ],
   "source": [
    "aux00 = df4.loc[df4['response'] == 0, 'vintage']\n",
    "sns.histplot(aux00)"
   ]
  },
  {
   "cell_type": "code",
   "execution_count": 117,
   "id": "5dfaf939",
   "metadata": {
    "ExecuteTime": {
     "end_time": "2022-09-25T19:44:56.103564Z",
     "start_time": "2022-09-25T19:44:55.820711Z"
    },
    "cell_style": "split"
   },
   "outputs": [
    {
     "data": {
      "text/plain": [
       "<AxesSubplot:xlabel='vintage', ylabel='Count'>"
      ]
     },
     "execution_count": 117,
     "metadata": {},
     "output_type": "execute_result"
    },
    {
     "data": {
      "image/png": "[encoded data removed]",
      "text/plain": [
       "<Figure size 432x288 with 1 Axes>"
      ]
     },
     "metadata": {
      "needs_background": "light"
     },
     "output_type": "display_data"
    }
   ],
   "source": [
    "aux00 = df4.loc[df4['response'] == 1, 'vintage']\n",
    "sns.histplot(aux00)"
   ]
  },
  {
   "cell_type": "code",
   "execution_count": 118,
   "id": "6d422150",
   "metadata": {
    "ExecuteTime": {
     "end_time": "2022-09-25T19:44:56.118734Z",
     "start_time": "2022-09-25T19:44:56.105491Z"
    }
   },
   "outputs": [],
   "source": [
    "# 'response'\n"
   ]
  },
  {
   "cell_type": "markdown",
   "id": "91f8c53e",
   "metadata": {},
   "source": [
    "# 5.0 Data Preparation"
   ]
  },
  {
   "cell_type": "code",
   "execution_count": 119,
   "id": "a4596316",
   "metadata": {
    "ExecuteTime": {
     "end_time": "2022-09-25T19:44:56.149518Z",
     "start_time": "2022-09-25T19:44:56.120792Z"
    }
   },
   "outputs": [],
   "source": [
    "df5 = df4.copy()"
   ]
  },
  {
   "cell_type": "code",
   "execution_count": 120,
   "id": "a287aa21",
   "metadata": {
    "ExecuteTime": {
     "end_time": "2022-09-25T19:44:56.352954Z",
     "start_time": "2022-09-25T19:44:56.151518Z"
    }
   },
   "outputs": [],
   "source": [
    "X = df4.drop('response',axis=1)\n",
    "y = df4['response'].copy()\n",
    "\n",
    "x_train, x_validation, y_train, y_validation = ms.train_test_split(X, y, test_size=0.2)\n",
    "\n",
    "df5 = pd.concat([x_train, y_train], axis=1)"
   ]
  },
  {
   "cell_type": "markdown",
   "id": "927bfe38",
   "metadata": {},
   "source": [
    "## 5.1 Standardization"
   ]
  },
  {
   "cell_type": "code",
   "execution_count": 121,
   "id": "0f596374",
   "metadata": {
    "ExecuteTime": {
     "end_time": "2022-09-25T19:44:56.446378Z",
     "start_time": "2022-09-25T19:44:56.355867Z"
    }
   },
   "outputs": [],
   "source": [
    "ss = pp.StandardScaler()\n",
    "\n",
    "## annual_premium\n",
    "df5['annual_premium'] = ss.fit_transform(df5[['annual_premium']].values)"
   ]
  },
  {
   "cell_type": "markdown",
   "id": "ff3be51a",
   "metadata": {},
   "source": [
    "## 5.2 Rescaling"
   ]
  },
  {
   "cell_type": "code",
   "execution_count": 122,
   "id": "06b631ba",
   "metadata": {
    "ExecuteTime": {
     "end_time": "2022-09-25T19:44:56.508816Z",
     "start_time": "2022-09-25T19:44:56.449100Z"
    }
   },
   "outputs": [],
   "source": [
    "mms_age = pp.MinMaxScaler()\n",
    "mms_vintage = pp.MinMaxScaler()\n",
    "\n",
    "## age\n",
    "df5['age'] = mms_age.fit_transform( df5[['age']].values )\n",
    "\n",
    "## vintage\n",
    "df5['vintage'] = mms_age.fit_transform( df5[['vintage']].values )"
   ]
  },
  {
   "cell_type": "markdown",
   "id": "5505997c",
   "metadata": {},
   "source": [
    "## 5.3 Encoder"
   ]
  },
  {
   "cell_type": "code",
   "execution_count": 123,
   "id": "5238f781",
   "metadata": {
    "ExecuteTime": {
     "end_time": "2022-09-25T19:44:56.804714Z",
     "start_time": "2022-09-25T19:44:56.510752Z"
    }
   },
   "outputs": [],
   "source": [
    "# gender - One Hot Encoding / Target Encoding\n",
    "target_encode_gender = df5.groupby('gender')['response'].mean()\n",
    "df5.loc[:,'gender'] = df5['gender'].map(target_encode_gender)\n",
    "\n",
    "## region_code - Frequency Enconding / Target Enconding / Weighted Target Encoding\n",
    "target_encode_region_code = df5.groupby('region_code')['response'].mean()\n",
    "df5.loc[:,'region_code'] = df5['region_code'].map(target_encode_region_code)\n",
    "\n",
    "## vehicle_age - One Hot Enconding / Ordinal Enconding / Frequency Enconding\n",
    "df5 = pd.get_dummies(df5, prefix='vehicle_age',columns=['vehicle_age'])\n",
    "\n",
    "## vehicle_damage\n",
    "\n",
    "## policy_sales_channel - Target Enconding / Frequency Encoding\n",
    "fe_policy_sales_channel = df5.groupby('policy_sales_channel').size()/len(df5)\n",
    "df5.loc[:,'policy_sales_channel'] = df5['policy_sales_channel'].map(fe_policy_sales_channel)"
   ]
  },
  {
   "cell_type": "code",
   "execution_count": 124,
   "id": "9782d776",
   "metadata": {
    "ExecuteTime": {
     "end_time": "2022-09-25T19:44:56.835864Z",
     "start_time": "2022-09-25T19:44:56.806661Z"
    }
   },
   "outputs": [
    {
     "data": {
      "text/html": [
       "<div>\n",
       "<style scoped>\n",
       "    .dataframe tbody tr th:only-of-type {\n",
       "        vertical-align: middle;\n",
       "    }\n",
       "\n",
       "    .dataframe tbody tr th {\n",
       "        vertical-align: top;\n",
       "    }\n",
       "\n",
       "    .dataframe thead th {\n",
       "        text-align: right;\n",
       "    }\n",
       "</style>\n",
       "<table border=\"1\" class=\"dataframe\">\n",
       "  <thead>\n",
       "    <tr style=\"text-align: right;\">\n",
       "      <th></th>\n",
       "      <th>vintage</th>\n",
       "      <th>annual_premium</th>\n",
       "      <th>age</th>\n",
       "      <th>region_code</th>\n",
       "      <th>vehicle_damage</th>\n",
       "      <th>policy_sales_channel</th>\n",
       "      <th>previously_insured</th>\n",
       "    </tr>\n",
       "  </thead>\n",
       "  <tbody>\n",
       "    <tr>\n",
       "      <th>334464</th>\n",
       "      <td>0.826990</td>\n",
       "      <td>2.771576</td>\n",
       "      <td>0.390625</td>\n",
       "      <td>0.187129</td>\n",
       "      <td>1</td>\n",
       "      <td>0.194659</td>\n",
       "      <td>0</td>\n",
       "    </tr>\n",
       "    <tr>\n",
       "      <th>51509</th>\n",
       "      <td>0.858131</td>\n",
       "      <td>0.628871</td>\n",
       "      <td>0.015625</td>\n",
       "      <td>0.123497</td>\n",
       "      <td>0</td>\n",
       "      <td>0.209251</td>\n",
       "      <td>1</td>\n",
       "    </tr>\n",
       "    <tr>\n",
       "      <th>237837</th>\n",
       "      <td>0.584775</td>\n",
       "      <td>0.878554</td>\n",
       "      <td>0.062500</td>\n",
       "      <td>0.095100</td>\n",
       "      <td>0</td>\n",
       "      <td>0.353656</td>\n",
       "      <td>1</td>\n",
       "    </tr>\n",
       "    <tr>\n",
       "      <th>152925</th>\n",
       "      <td>0.134948</td>\n",
       "      <td>0.458324</td>\n",
       "      <td>0.093750</td>\n",
       "      <td>0.187129</td>\n",
       "      <td>0</td>\n",
       "      <td>0.353656</td>\n",
       "      <td>1</td>\n",
       "    </tr>\n",
       "    <tr>\n",
       "      <th>17554</th>\n",
       "      <td>0.671280</td>\n",
       "      <td>0.011735</td>\n",
       "      <td>0.453125</td>\n",
       "      <td>0.103662</td>\n",
       "      <td>1</td>\n",
       "      <td>0.194659</td>\n",
       "      <td>0</td>\n",
       "    </tr>\n",
       "    <tr>\n",
       "      <th>...</th>\n",
       "      <td>...</td>\n",
       "      <td>...</td>\n",
       "      <td>...</td>\n",
       "      <td>...</td>\n",
       "      <td>...</td>\n",
       "      <td>...</td>\n",
       "      <td>...</td>\n",
       "    </tr>\n",
       "    <tr>\n",
       "      <th>325065</th>\n",
       "      <td>0.190311</td>\n",
       "      <td>0.158318</td>\n",
       "      <td>0.078125</td>\n",
       "      <td>0.125034</td>\n",
       "      <td>0</td>\n",
       "      <td>0.056844</td>\n",
       "      <td>1</td>\n",
       "    </tr>\n",
       "    <tr>\n",
       "      <th>173982</th>\n",
       "      <td>0.986159</td>\n",
       "      <td>-0.180846</td>\n",
       "      <td>0.296875</td>\n",
       "      <td>0.123061</td>\n",
       "      <td>1</td>\n",
       "      <td>0.003227</td>\n",
       "      <td>0</td>\n",
       "    </tr>\n",
       "    <tr>\n",
       "      <th>228559</th>\n",
       "      <td>0.508651</td>\n",
       "      <td>2.050990</td>\n",
       "      <td>0.265625</td>\n",
       "      <td>0.095100</td>\n",
       "      <td>1</td>\n",
       "      <td>0.209251</td>\n",
       "      <td>0</td>\n",
       "    </tr>\n",
       "    <tr>\n",
       "      <th>9950</th>\n",
       "      <td>0.245675</td>\n",
       "      <td>0.071058</td>\n",
       "      <td>0.078125</td>\n",
       "      <td>0.058076</td>\n",
       "      <td>0</td>\n",
       "      <td>0.353656</td>\n",
       "      <td>1</td>\n",
       "    </tr>\n",
       "    <tr>\n",
       "      <th>190122</th>\n",
       "      <td>0.000000</td>\n",
       "      <td>-1.631312</td>\n",
       "      <td>0.656250</td>\n",
       "      <td>0.064193</td>\n",
       "      <td>1</td>\n",
       "      <td>0.056844</td>\n",
       "      <td>0</td>\n",
       "    </tr>\n",
       "  </tbody>\n",
       "</table>\n",
       "<p>76222 rows × 7 columns</p>\n",
       "</div>"
      ],
      "text/plain": [
       "         vintage  annual_premium       age  region_code  vehicle_damage  \\\n",
       "334464  0.826990        2.771576  0.390625     0.187129               1   \n",
       "51509   0.858131        0.628871  0.015625     0.123497               0   \n",
       "237837  0.584775        0.878554  0.062500     0.095100               0   \n",
       "152925  0.134948        0.458324  0.093750     0.187129               0   \n",
       "17554   0.671280        0.011735  0.453125     0.103662               1   \n",
       "...          ...             ...       ...          ...             ...   \n",
       "325065  0.190311        0.158318  0.078125     0.125034               0   \n",
       "173982  0.986159       -0.180846  0.296875     0.123061               1   \n",
       "228559  0.508651        2.050990  0.265625     0.095100               1   \n",
       "9950    0.245675        0.071058  0.078125     0.058076               0   \n",
       "190122  0.000000       -1.631312  0.656250     0.064193               1   \n",
       "\n",
       "        policy_sales_channel  previously_insured  \n",
       "334464              0.194659                   0  \n",
       "51509               0.209251                   1  \n",
       "237837              0.353656                   1  \n",
       "152925              0.353656                   1  \n",
       "17554               0.194659                   0  \n",
       "...                      ...                 ...  \n",
       "325065              0.056844                   1  \n",
       "173982              0.003227                   0  \n",
       "228559              0.209251                   0  \n",
       "9950                0.353656                   1  \n",
       "190122              0.056844                   0  \n",
       "\n",
       "[76222 rows x 7 columns]"
      ]
     },
     "execution_count": 124,
     "metadata": {},
     "output_type": "execute_result"
    }
   ],
   "source": [
    "x_val"
   ]
  },
  {
   "cell_type": "markdown",
   "id": "6bd2be18",
   "metadata": {},
   "source": [
    "## 5.4 Validation Preparation"
   ]
  },
  {
   "cell_type": "code",
   "execution_count": 125,
   "id": "36a445fc",
   "metadata": {
    "ExecuteTime": {
     "end_time": "2022-09-25T19:44:56.959526Z",
     "start_time": "2022-09-25T19:44:56.837878Z"
    }
   },
   "outputs": [],
   "source": [
    "# gender\n",
    "x_validation.loc[:,'gender'] = x_validation.loc[:,'gender'].map(target_encode_gender)\n",
    "\n",
    "x_validation.loc[:,'annual_premium'] = ss.fit_transform(x_validation[['annual_premium']].values)\n",
    "\n",
    "# age\n",
    "x_validation.loc[:,'age'] = mms_age.fit_transform(x_validation[['age']].values)\n",
    "\n",
    "# region_code\n",
    "x_validation.loc[:,'region_code'] = x_validation.loc[:,'region_code'].map(target_encode_region_code)\n",
    "\n",
    "# vehicle_damage\n",
    "x_validation = pd.get_dummies(x_validation, prefix = 'vehicle_age',columns=['vehicle_age'])\n",
    "\n",
    "# annual_premium\n",
    "x_validation.loc[:,'policy_sales_channel'] = x_validation['policy_sales_channel'].map(fe_policy_sales_channel)\n",
    "\n",
    "# vintage\n",
    "x_validation.loc[:, 'vintage'] = mms_vintage.fit_transform(x_validation[['vintage']].values)\n",
    "\n",
    "# fillna\n",
    "x_validation = x_validation.fillna(0)"
   ]
  },
  {
   "cell_type": "code",
   "execution_count": 126,
   "id": "ecfae931",
   "metadata": {
    "ExecuteTime": {
     "end_time": "2022-09-25T19:44:56.990462Z",
     "start_time": "2022-09-25T19:44:56.961502Z"
    }
   },
   "outputs": [
    {
     "data": {
      "text/html": [
       "<div>\n",
       "<style scoped>\n",
       "    .dataframe tbody tr th:only-of-type {\n",
       "        vertical-align: middle;\n",
       "    }\n",
       "\n",
       "    .dataframe tbody tr th {\n",
       "        vertical-align: top;\n",
       "    }\n",
       "\n",
       "    .dataframe thead th {\n",
       "        text-align: right;\n",
       "    }\n",
       "</style>\n",
       "<table border=\"1\" class=\"dataframe\">\n",
       "  <thead>\n",
       "    <tr style=\"text-align: right;\">\n",
       "      <th></th>\n",
       "      <th>id</th>\n",
       "      <th>gender</th>\n",
       "      <th>age</th>\n",
       "      <th>region_code</th>\n",
       "      <th>policy_sales_channel</th>\n",
       "      <th>driving_license</th>\n",
       "      <th>vehicle_damage</th>\n",
       "      <th>previously_insured</th>\n",
       "      <th>annual_premium</th>\n",
       "      <th>vintage</th>\n",
       "      <th>vehicle_age_bellow_1_year</th>\n",
       "      <th>vehicle_age_between_1_2_year</th>\n",
       "      <th>vehicle_age_over_2_years</th>\n",
       "    </tr>\n",
       "  </thead>\n",
       "  <tbody>\n",
       "    <tr>\n",
       "      <th>264438</th>\n",
       "      <td>208204</td>\n",
       "      <td>0.103980</td>\n",
       "      <td>0.292308</td>\n",
       "      <td>0.185607</td>\n",
       "      <td>0.209287</td>\n",
       "      <td>1</td>\n",
       "      <td>1</td>\n",
       "      <td>0</td>\n",
       "      <td>0.383560</td>\n",
       "      <td>0.903114</td>\n",
       "      <td>0</td>\n",
       "      <td>1</td>\n",
       "      <td>0</td>\n",
       "    </tr>\n",
       "    <tr>\n",
       "      <th>50070</th>\n",
       "      <td>18195</td>\n",
       "      <td>0.103980</td>\n",
       "      <td>0.430769</td>\n",
       "      <td>0.185607</td>\n",
       "      <td>0.194420</td>\n",
       "      <td>1</td>\n",
       "      <td>1</td>\n",
       "      <td>0</td>\n",
       "      <td>0.228267</td>\n",
       "      <td>0.027682</td>\n",
       "      <td>0</td>\n",
       "      <td>1</td>\n",
       "      <td>0</td>\n",
       "    </tr>\n",
       "    <tr>\n",
       "      <th>378019</th>\n",
       "      <td>356547</td>\n",
       "      <td>0.137477</td>\n",
       "      <td>0.092308</td>\n",
       "      <td>0.074353</td>\n",
       "      <td>0.353288</td>\n",
       "      <td>1</td>\n",
       "      <td>0</td>\n",
       "      <td>1</td>\n",
       "      <td>-0.015524</td>\n",
       "      <td>0.467128</td>\n",
       "      <td>1</td>\n",
       "      <td>0</td>\n",
       "      <td>0</td>\n",
       "    </tr>\n",
       "    <tr>\n",
       "      <th>33858</th>\n",
       "      <td>270446</td>\n",
       "      <td>0.137477</td>\n",
       "      <td>0.384615</td>\n",
       "      <td>0.123989</td>\n",
       "      <td>0.002201</td>\n",
       "      <td>1</td>\n",
       "      <td>0</td>\n",
       "      <td>1</td>\n",
       "      <td>1.559925</td>\n",
       "      <td>0.051903</td>\n",
       "      <td>0</td>\n",
       "      <td>1</td>\n",
       "      <td>0</td>\n",
       "    </tr>\n",
       "    <tr>\n",
       "      <th>352041</th>\n",
       "      <td>148469</td>\n",
       "      <td>0.103980</td>\n",
       "      <td>0.061538</td>\n",
       "      <td>0.102741</td>\n",
       "      <td>0.015760</td>\n",
       "      <td>1</td>\n",
       "      <td>1</td>\n",
       "      <td>0</td>\n",
       "      <td>-1.625651</td>\n",
       "      <td>0.006920</td>\n",
       "      <td>1</td>\n",
       "      <td>0</td>\n",
       "      <td>0</td>\n",
       "    </tr>\n",
       "    <tr>\n",
       "      <th>...</th>\n",
       "      <td>...</td>\n",
       "      <td>...</td>\n",
       "      <td>...</td>\n",
       "      <td>...</td>\n",
       "      <td>...</td>\n",
       "      <td>...</td>\n",
       "      <td>...</td>\n",
       "      <td>...</td>\n",
       "      <td>...</td>\n",
       "      <td>...</td>\n",
       "      <td>...</td>\n",
       "      <td>...</td>\n",
       "      <td>...</td>\n",
       "    </tr>\n",
       "    <tr>\n",
       "      <th>243549</th>\n",
       "      <td>40521</td>\n",
       "      <td>0.137477</td>\n",
       "      <td>0.400000</td>\n",
       "      <td>0.123989</td>\n",
       "      <td>0.209287</td>\n",
       "      <td>1</td>\n",
       "      <td>1</td>\n",
       "      <td>0</td>\n",
       "      <td>-0.211779</td>\n",
       "      <td>0.570934</td>\n",
       "      <td>0</td>\n",
       "      <td>1</td>\n",
       "      <td>0</td>\n",
       "    </tr>\n",
       "    <tr>\n",
       "      <th>146564</th>\n",
       "      <td>29098</td>\n",
       "      <td>0.103980</td>\n",
       "      <td>0.615385</td>\n",
       "      <td>0.185607</td>\n",
       "      <td>0.026095</td>\n",
       "      <td>1</td>\n",
       "      <td>0</td>\n",
       "      <td>1</td>\n",
       "      <td>1.194820</td>\n",
       "      <td>0.892734</td>\n",
       "      <td>0</td>\n",
       "      <td>1</td>\n",
       "      <td>0</td>\n",
       "    </tr>\n",
       "    <tr>\n",
       "      <th>213469</th>\n",
       "      <td>180504</td>\n",
       "      <td>0.137477</td>\n",
       "      <td>0.492308</td>\n",
       "      <td>0.069391</td>\n",
       "      <td>0.209287</td>\n",
       "      <td>1</td>\n",
       "      <td>0</td>\n",
       "      <td>1</td>\n",
       "      <td>-0.191066</td>\n",
       "      <td>0.557093</td>\n",
       "      <td>0</td>\n",
       "      <td>1</td>\n",
       "      <td>0</td>\n",
       "    </tr>\n",
       "    <tr>\n",
       "      <th>199671</th>\n",
       "      <td>69869</td>\n",
       "      <td>0.137477</td>\n",
       "      <td>0.015385</td>\n",
       "      <td>0.078498</td>\n",
       "      <td>0.353288</td>\n",
       "      <td>1</td>\n",
       "      <td>0</td>\n",
       "      <td>1</td>\n",
       "      <td>-1.625651</td>\n",
       "      <td>0.934256</td>\n",
       "      <td>1</td>\n",
       "      <td>0</td>\n",
       "      <td>0</td>\n",
       "    </tr>\n",
       "    <tr>\n",
       "      <th>139747</th>\n",
       "      <td>355118</td>\n",
       "      <td>0.137477</td>\n",
       "      <td>0.015385</td>\n",
       "      <td>0.092185</td>\n",
       "      <td>0.007600</td>\n",
       "      <td>1</td>\n",
       "      <td>1</td>\n",
       "      <td>0</td>\n",
       "      <td>-1.625651</td>\n",
       "      <td>0.536332</td>\n",
       "      <td>1</td>\n",
       "      <td>0</td>\n",
       "      <td>0</td>\n",
       "    </tr>\n",
       "  </tbody>\n",
       "</table>\n",
       "<p>76222 rows × 13 columns</p>\n",
       "</div>"
      ],
      "text/plain": [
       "            id    gender       age  region_code  policy_sales_channel  \\\n",
       "264438  208204  0.103980  0.292308     0.185607              0.209287   \n",
       "50070    18195  0.103980  0.430769     0.185607              0.194420   \n",
       "378019  356547  0.137477  0.092308     0.074353              0.353288   \n",
       "33858   270446  0.137477  0.384615     0.123989              0.002201   \n",
       "352041  148469  0.103980  0.061538     0.102741              0.015760   \n",
       "...        ...       ...       ...          ...                   ...   \n",
       "243549   40521  0.137477  0.400000     0.123989              0.209287   \n",
       "146564   29098  0.103980  0.615385     0.185607              0.026095   \n",
       "213469  180504  0.137477  0.492308     0.069391              0.209287   \n",
       "199671   69869  0.137477  0.015385     0.078498              0.353288   \n",
       "139747  355118  0.137477  0.015385     0.092185              0.007600   \n",
       "\n",
       "        driving_license  vehicle_damage  previously_insured  annual_premium  \\\n",
       "264438                1               1                   0        0.383560   \n",
       "50070                 1               1                   0        0.228267   \n",
       "378019                1               0                   1       -0.015524   \n",
       "33858                 1               0                   1        1.559925   \n",
       "352041                1               1                   0       -1.625651   \n",
       "...                 ...             ...                 ...             ...   \n",
       "243549                1               1                   0       -0.211779   \n",
       "146564                1               0                   1        1.194820   \n",
       "213469                1               0                   1       -0.191066   \n",
       "199671                1               0                   1       -1.625651   \n",
       "139747                1               1                   0       -1.625651   \n",
       "\n",
       "         vintage  vehicle_age_bellow_1_year  vehicle_age_between_1_2_year  \\\n",
       "264438  0.903114                          0                             1   \n",
       "50070   0.027682                          0                             1   \n",
       "378019  0.467128                          1                             0   \n",
       "33858   0.051903                          0                             1   \n",
       "352041  0.006920                          1                             0   \n",
       "...          ...                        ...                           ...   \n",
       "243549  0.570934                          0                             1   \n",
       "146564  0.892734                          0                             1   \n",
       "213469  0.557093                          0                             1   \n",
       "199671  0.934256                          1                             0   \n",
       "139747  0.536332                          1                             0   \n",
       "\n",
       "        vehicle_age_over_2_years  \n",
       "264438                         0  \n",
       "50070                          0  \n",
       "378019                         0  \n",
       "33858                          0  \n",
       "352041                         0  \n",
       "...                          ...  \n",
       "243549                         0  \n",
       "146564                         0  \n",
       "213469                         0  \n",
       "199671                         0  \n",
       "139747                         0  \n",
       "\n",
       "[76222 rows x 13 columns]"
      ]
     },
     "execution_count": 126,
     "metadata": {},
     "output_type": "execute_result"
    }
   ],
   "source": [
    "x_validation"
   ]
  },
  {
   "cell_type": "markdown",
   "id": "d1714c11",
   "metadata": {},
   "source": [
    "# 6.0 Feature Selection"
   ]
  },
  {
   "cell_type": "markdown",
   "id": "2ae80f3f",
   "metadata": {},
   "source": [
    "## 6.1 Feature Importance"
   ]
  },
  {
   "cell_type": "code",
   "execution_count": 127,
   "id": "d5f4b9a7",
   "metadata": {
    "ExecuteTime": {
     "end_time": "2022-09-25T19:45:33.850059Z",
     "start_time": "2022-09-25T19:44:56.992445Z"
    }
   },
   "outputs": [
    {
     "name": "stdout",
     "output_type": "stream",
     "text": [
      "Feature ranking\n"
     ]
    },
    {
     "data": {
      "text/html": [
       "<div>\n",
       "<style scoped>\n",
       "    .dataframe tbody tr th:only-of-type {\n",
       "        vertical-align: middle;\n",
       "    }\n",
       "\n",
       "    .dataframe tbody tr th {\n",
       "        vertical-align: top;\n",
       "    }\n",
       "\n",
       "    .dataframe thead th {\n",
       "        text-align: right;\n",
       "    }\n",
       "</style>\n",
       "<table border=\"1\" class=\"dataframe\">\n",
       "  <thead>\n",
       "    <tr style=\"text-align: right;\">\n",
       "      <th></th>\n",
       "      <th>feature</th>\n",
       "      <th>importance</th>\n",
       "    </tr>\n",
       "  </thead>\n",
       "  <tbody>\n",
       "    <tr>\n",
       "      <th>0</th>\n",
       "      <td>gender</td>\n",
       "      <td>0.004943</td>\n",
       "    </tr>\n",
       "    <tr>\n",
       "      <th>0</th>\n",
       "      <td>age</td>\n",
       "      <td>0.164710</td>\n",
       "    </tr>\n",
       "    <tr>\n",
       "      <th>0</th>\n",
       "      <td>region_code</td>\n",
       "      <td>0.106196</td>\n",
       "    </tr>\n",
       "    <tr>\n",
       "      <th>0</th>\n",
       "      <td>policy_sales_channel</td>\n",
       "      <td>0.059038</td>\n",
       "    </tr>\n",
       "    <tr>\n",
       "      <th>0</th>\n",
       "      <td>driving_license</td>\n",
       "      <td>0.000471</td>\n",
       "    </tr>\n",
       "    <tr>\n",
       "      <th>0</th>\n",
       "      <td>vehicle_damage</td>\n",
       "      <td>0.067602</td>\n",
       "    </tr>\n",
       "    <tr>\n",
       "      <th>0</th>\n",
       "      <td>previously_insured</td>\n",
       "      <td>0.056172</td>\n",
       "    </tr>\n",
       "    <tr>\n",
       "      <th>0</th>\n",
       "      <td>annual_premium</td>\n",
       "      <td>0.245011</td>\n",
       "    </tr>\n",
       "    <tr>\n",
       "      <th>0</th>\n",
       "      <td>vintage</td>\n",
       "      <td>0.273074</td>\n",
       "    </tr>\n",
       "    <tr>\n",
       "      <th>0</th>\n",
       "      <td>vehicle_age_bellow_1_year</td>\n",
       "      <td>0.014099</td>\n",
       "    </tr>\n",
       "    <tr>\n",
       "      <th>0</th>\n",
       "      <td>vehicle_age_between_1_2_year</td>\n",
       "      <td>0.006453</td>\n",
       "    </tr>\n",
       "    <tr>\n",
       "      <th>0</th>\n",
       "      <td>vehicle_age_over_2_years</td>\n",
       "      <td>0.002231</td>\n",
       "    </tr>\n",
       "  </tbody>\n",
       "</table>\n",
       "</div>"
      ],
      "text/plain": [
       "                        feature  importance\n",
       "0                        gender    0.004943\n",
       "0                           age    0.164710\n",
       "0                   region_code    0.106196\n",
       "0          policy_sales_channel    0.059038\n",
       "0               driving_license    0.000471\n",
       "0                vehicle_damage    0.067602\n",
       "0            previously_insured    0.056172\n",
       "0                annual_premium    0.245011\n",
       "0                       vintage    0.273074\n",
       "0     vehicle_age_bellow_1_year    0.014099\n",
       "0  vehicle_age_between_1_2_year    0.006453\n",
       "0      vehicle_age_over_2_years    0.002231"
      ]
     },
     "execution_count": 127,
     "metadata": {},
     "output_type": "execute_result"
    }
   ],
   "source": [
    "# model definition\n",
    "forest = en.ExtraTreesClassifier(n_estimators=250, random_state=0, n_jobs=-1)\n",
    "\n",
    "x_train_n = df5.drop(['id', 'response'], axis=1)\n",
    "y_train_n = y_train.values\n",
    "forest.fit(x_train_n, y_train_n)\n",
    "\n",
    "importances = forest.feature_importances_\n",
    "std = np.std([tree.feature_importances_ for tree in forest.estimators_], axis=0)\n",
    "indices = np.argsort(importances)[::-1]\n",
    "\n",
    "# Print the feature ranking\n",
    "print('Feature ranking')\n",
    "df = pd.DataFrame()\n",
    "for i, j in zip(x_train_n.columns, forest.feature_importances_):\n",
    "    aux = pd.DataFrame({'feature': i, 'importance': j},index=[0])\n",
    "    df= pd.concat([df, aux], axis=0)\n",
    "\n",
    "df"
   ]
  },
  {
   "cell_type": "code",
   "execution_count": 128,
   "id": "19a6c106",
   "metadata": {
    "ExecuteTime": {
     "end_time": "2022-09-25T19:45:35.823719Z",
     "start_time": "2022-09-25T19:45:33.909359Z"
    }
   },
   "outputs": [
    {
     "data": {
      "image/png": "[encoded data removed]",
      "text/plain": [
       "<Figure size 432x288 with 1 Axes>"
      ]
     },
     "metadata": {
      "needs_background": "light"
     },
     "output_type": "display_data"
    }
   ],
   "source": [
    "# plot the impurity-based feature importance of the forest\n",
    "\n",
    "plt.figure()\n",
    "plt.title('Feature importances')\n",
    "plt.bar(range(x_train_n.shape[1]),importances[indices], color='r', yerr=std[indices], align = 'center')\n",
    "plt.xticks(range(x_train_n.shape[1]), indices)\n",
    "plt.xlim([-1, x_train_n.shape[1]])\n",
    "plt.show()"
   ]
  },
  {
   "cell_type": "markdown",
   "id": "d295596e",
   "metadata": {},
   "source": [
    "# 7.0 Machine Learning"
   ]
  },
  {
   "cell_type": "code",
   "execution_count": 129,
   "id": "f008bc5c",
   "metadata": {
    "ExecuteTime": {
     "end_time": "2022-09-25T19:45:35.870363Z",
     "start_time": "2022-09-25T19:45:35.826277Z"
    }
   },
   "outputs": [],
   "source": [
    "cols_selected = ['vintage',\n",
    "                'annual_premium',\n",
    "                'age',\n",
    "                'region_code',\n",
    "                'vehicle_damage',\n",
    "                'policy_sales_channel',\n",
    "                'previously_insured']\n",
    "\n",
    "x_train = df5[cols_selected]\n",
    "x_val = x_validation[cols_selected]"
   ]
  },
  {
   "cell_type": "code",
   "execution_count": 130,
   "id": "610fcaa3",
   "metadata": {
    "ExecuteTime": {
     "end_time": "2022-09-25T19:45:35.917345Z",
     "start_time": "2022-09-25T19:45:35.877279Z"
    }
   },
   "outputs": [
    {
     "data": {
      "text/html": [
       "<div>\n",
       "<style scoped>\n",
       "    .dataframe tbody tr th:only-of-type {\n",
       "        vertical-align: middle;\n",
       "    }\n",
       "\n",
       "    .dataframe tbody tr th {\n",
       "        vertical-align: top;\n",
       "    }\n",
       "\n",
       "    .dataframe thead th {\n",
       "        text-align: right;\n",
       "    }\n",
       "</style>\n",
       "<table border=\"1\" class=\"dataframe\">\n",
       "  <thead>\n",
       "    <tr style=\"text-align: right;\">\n",
       "      <th></th>\n",
       "      <th>vintage</th>\n",
       "      <th>annual_premium</th>\n",
       "      <th>age</th>\n",
       "      <th>region_code</th>\n",
       "      <th>vehicle_damage</th>\n",
       "      <th>policy_sales_channel</th>\n",
       "      <th>previously_insured</th>\n",
       "    </tr>\n",
       "  </thead>\n",
       "  <tbody>\n",
       "    <tr>\n",
       "      <th>264438</th>\n",
       "      <td>0.903114</td>\n",
       "      <td>0.383560</td>\n",
       "      <td>0.292308</td>\n",
       "      <td>0.185607</td>\n",
       "      <td>1</td>\n",
       "      <td>0.209287</td>\n",
       "      <td>0</td>\n",
       "    </tr>\n",
       "    <tr>\n",
       "      <th>50070</th>\n",
       "      <td>0.027682</td>\n",
       "      <td>0.228267</td>\n",
       "      <td>0.430769</td>\n",
       "      <td>0.185607</td>\n",
       "      <td>1</td>\n",
       "      <td>0.194420</td>\n",
       "      <td>0</td>\n",
       "    </tr>\n",
       "    <tr>\n",
       "      <th>378019</th>\n",
       "      <td>0.467128</td>\n",
       "      <td>-0.015524</td>\n",
       "      <td>0.092308</td>\n",
       "      <td>0.074353</td>\n",
       "      <td>0</td>\n",
       "      <td>0.353288</td>\n",
       "      <td>1</td>\n",
       "    </tr>\n",
       "    <tr>\n",
       "      <th>33858</th>\n",
       "      <td>0.051903</td>\n",
       "      <td>1.559925</td>\n",
       "      <td>0.384615</td>\n",
       "      <td>0.123989</td>\n",
       "      <td>0</td>\n",
       "      <td>0.002201</td>\n",
       "      <td>1</td>\n",
       "    </tr>\n",
       "    <tr>\n",
       "      <th>352041</th>\n",
       "      <td>0.006920</td>\n",
       "      <td>-1.625651</td>\n",
       "      <td>0.061538</td>\n",
       "      <td>0.102741</td>\n",
       "      <td>1</td>\n",
       "      <td>0.015760</td>\n",
       "      <td>0</td>\n",
       "    </tr>\n",
       "    <tr>\n",
       "      <th>...</th>\n",
       "      <td>...</td>\n",
       "      <td>...</td>\n",
       "      <td>...</td>\n",
       "      <td>...</td>\n",
       "      <td>...</td>\n",
       "      <td>...</td>\n",
       "      <td>...</td>\n",
       "    </tr>\n",
       "    <tr>\n",
       "      <th>243549</th>\n",
       "      <td>0.570934</td>\n",
       "      <td>-0.211779</td>\n",
       "      <td>0.400000</td>\n",
       "      <td>0.123989</td>\n",
       "      <td>1</td>\n",
       "      <td>0.209287</td>\n",
       "      <td>0</td>\n",
       "    </tr>\n",
       "    <tr>\n",
       "      <th>146564</th>\n",
       "      <td>0.892734</td>\n",
       "      <td>1.194820</td>\n",
       "      <td>0.615385</td>\n",
       "      <td>0.185607</td>\n",
       "      <td>0</td>\n",
       "      <td>0.026095</td>\n",
       "      <td>1</td>\n",
       "    </tr>\n",
       "    <tr>\n",
       "      <th>213469</th>\n",
       "      <td>0.557093</td>\n",
       "      <td>-0.191066</td>\n",
       "      <td>0.492308</td>\n",
       "      <td>0.069391</td>\n",
       "      <td>0</td>\n",
       "      <td>0.209287</td>\n",
       "      <td>1</td>\n",
       "    </tr>\n",
       "    <tr>\n",
       "      <th>199671</th>\n",
       "      <td>0.934256</td>\n",
       "      <td>-1.625651</td>\n",
       "      <td>0.015385</td>\n",
       "      <td>0.078498</td>\n",
       "      <td>0</td>\n",
       "      <td>0.353288</td>\n",
       "      <td>1</td>\n",
       "    </tr>\n",
       "    <tr>\n",
       "      <th>139747</th>\n",
       "      <td>0.536332</td>\n",
       "      <td>-1.625651</td>\n",
       "      <td>0.015385</td>\n",
       "      <td>0.092185</td>\n",
       "      <td>1</td>\n",
       "      <td>0.007600</td>\n",
       "      <td>0</td>\n",
       "    </tr>\n",
       "  </tbody>\n",
       "</table>\n",
       "<p>76222 rows × 7 columns</p>\n",
       "</div>"
      ],
      "text/plain": [
       "         vintage  annual_premium       age  region_code  vehicle_damage  \\\n",
       "264438  0.903114        0.383560  0.292308     0.185607               1   \n",
       "50070   0.027682        0.228267  0.430769     0.185607               1   \n",
       "378019  0.467128       -0.015524  0.092308     0.074353               0   \n",
       "33858   0.051903        1.559925  0.384615     0.123989               0   \n",
       "352041  0.006920       -1.625651  0.061538     0.102741               1   \n",
       "...          ...             ...       ...          ...             ...   \n",
       "243549  0.570934       -0.211779  0.400000     0.123989               1   \n",
       "146564  0.892734        1.194820  0.615385     0.185607               0   \n",
       "213469  0.557093       -0.191066  0.492308     0.069391               0   \n",
       "199671  0.934256       -1.625651  0.015385     0.078498               0   \n",
       "139747  0.536332       -1.625651  0.015385     0.092185               1   \n",
       "\n",
       "        policy_sales_channel  previously_insured  \n",
       "264438              0.209287                   0  \n",
       "50070               0.194420                   0  \n",
       "378019              0.353288                   1  \n",
       "33858               0.002201                   1  \n",
       "352041              0.015760                   0  \n",
       "...                      ...                 ...  \n",
       "243549              0.209287                   0  \n",
       "146564              0.026095                   1  \n",
       "213469              0.209287                   1  \n",
       "199671              0.353288                   1  \n",
       "139747              0.007600                   0  \n",
       "\n",
       "[76222 rows x 7 columns]"
      ]
     },
     "execution_count": 130,
     "metadata": {},
     "output_type": "execute_result"
    }
   ],
   "source": [
    "x_val"
   ]
  },
  {
   "cell_type": "markdown",
   "id": "e1b94883",
   "metadata": {},
   "source": [
    "## 7.1 KNN"
   ]
  },
  {
   "cell_type": "code",
   "execution_count": 131,
   "id": "a6fa84ed",
   "metadata": {
    "ExecuteTime": {
     "end_time": "2022-09-25T19:45:48.551487Z",
     "start_time": "2022-09-25T19:45:35.934775Z"
    },
    "scrolled": false
   },
   "outputs": [
    {
     "data": {
      "text/plain": [
       "<AxesSubplot:title={'center':'Cumulative Gains Curve'}, xlabel='Percentage of sample', ylabel='Gain'>"
      ]
     },
     "execution_count": 131,
     "metadata": {},
     "output_type": "execute_result"
    },
    {
     "data": {
      "image/png": "[encoded data removed]",
      "text/plain": [
       "<Figure size 432x288 with 1 Axes>"
      ]
     },
     "metadata": {
      "needs_background": "light"
     },
     "output_type": "display_data"
    }
   ],
   "source": [
    "# model definition\n",
    "knn_model = nh.KNeighborsClassifier(n_neighbors=7)\n",
    "\n",
    "# model training\n",
    "knn_model.fit(x_train, y_train)\n",
    "\n",
    "# model predi\n",
    "yhat_knn = knn_model.predict_proba(x_val)\n",
    "\n",
    "# Accumulative Gain \n",
    "skplt.metrics.plot_cumulative_gain(y_validation,yhat_knn)"
   ]
  },
  {
   "cell_type": "markdown",
   "id": "ef242a99",
   "metadata": {},
   "source": [
    "## 7.2 Logistic Regressor"
   ]
  },
  {
   "cell_type": "code",
   "execution_count": 132,
   "id": "90a81301",
   "metadata": {
    "ExecuteTime": {
     "end_time": "2022-09-25T19:45:49.901635Z",
     "start_time": "2022-09-25T19:45:48.554516Z"
    }
   },
   "outputs": [
    {
     "data": {
      "text/plain": [
       "<AxesSubplot:title={'center':'Cumulative Gains Curve'}, xlabel='Percentage of sample', ylabel='Gain'>"
      ]
     },
     "execution_count": 132,
     "metadata": {},
     "output_type": "execute_result"
    },
    {
     "data": {
      "image/png": "[encoded data removed]",
      "text/plain": [
       "<Figure size 432x288 with 1 Axes>"
      ]
     },
     "metadata": {
      "needs_background": "light"
     },
     "output_type": "display_data"
    }
   ],
   "source": [
    "# model definition\n",
    "lr_model = lm.LogisticRegression(random_state=42)\n",
    "\n",
    "# model training \n",
    "lr_model.fit(x_train, y_train)\n",
    "\n",
    "# model prediction\n",
    "yhat_lr = lr_model.predict_proba(x_val)\n",
    "\n",
    "# Accumulative Gain \n",
    "skplt.metrics.plot_cumulative_gain(y_validation,yhat_lr)"
   ]
  },
  {
   "cell_type": "markdown",
   "id": "55d9fba4",
   "metadata": {},
   "source": [
    "## 7.3 Extra Trees"
   ]
  },
  {
   "cell_type": "code",
   "execution_count": 133,
   "id": "d6d8a136",
   "metadata": {
    "ExecuteTime": {
     "end_time": "2022-09-25T19:46:19.063434Z",
     "start_time": "2022-09-25T19:45:49.904629Z"
    }
   },
   "outputs": [
    {
     "data": {
      "text/plain": [
       "<AxesSubplot:title={'center':'Cumulative Gains Curve'}, xlabel='Percentage of sample', ylabel='Gain'>"
      ]
     },
     "execution_count": 133,
     "metadata": {},
     "output_type": "execute_result"
    },
    {
     "data": {
      "image/png": "[encoded data removed]",
      "text/plain": [
       "<Figure size 432x288 with 1 Axes>"
      ]
     },
     "metadata": {
      "needs_background": "light"
     },
     "output_type": "display_data"
    }
   ],
   "source": [
    "# model definition\n",
    "et = en.ExtraTreesClassifier(n_estimators = 100, n_jobs=-1, random_state=42)\n",
    "\n",
    "# model fit\n",
    "et.fit(x_train, y_train)\n",
    "\n",
    "# model predict\n",
    "yhat_et = et.predict_proba(x_val)\n",
    "\n",
    "# Accumulative Gain \n",
    "skplt.metrics.plot_cumulative_gain(y_validation,yhat_et)"
   ]
  },
  {
   "cell_type": "markdown",
   "id": "0a6b5281",
   "metadata": {
    "ExecuteTime": {
     "end_time": "2022-09-25T19:37:38.800345Z",
     "start_time": "2022-09-25T19:37:38.776895Z"
    }
   },
   "source": [
    "# 8.0 Model Performance"
   ]
  },
  {
   "cell_type": "code",
   "execution_count": 155,
   "id": "8017de65",
   "metadata": {
    "ExecuteTime": {
     "end_time": "2022-09-25T20:26:45.813112Z",
     "start_time": "2022-09-25T20:26:45.801460Z"
    }
   },
   "outputs": [],
   "source": [
    "def precision_at_k(data, k=2000):\n",
    "\n",
    "    # reset index\n",
    "    data = data.reset_index(drop=True)\n",
    "\n",
    "    # create ranking order\n",
    "    data['ranking'] = data.index + 1\n",
    "\n",
    "    data['precision_at_k'] = data['response'].cumsum()/data['ranking']\n",
    "\n",
    "    return data.loc[k,'precision_at_k']\n",
    "\n",
    "def recall_at_k(data, k=2000):\n",
    "\n",
    "    # reset index\n",
    "    data = data.reset_index(drop=True)\n",
    "\n",
    "    # create ranking order\n",
    "    data['ranking'] = data.index + 1\n",
    "\n",
    "    data['recall_at_k'] = data['response'].cumsum()/data['response'].sum()\n",
    "\n",
    "    return data.loc[k,'recall_at_k']"
   ]
  },
  {
   "cell_type": "code",
   "execution_count": 156,
   "id": "6e597c15",
   "metadata": {
    "ExecuteTime": {
     "end_time": "2022-09-25T20:26:46.202856Z",
     "start_time": "2022-09-25T20:26:46.135012Z"
    }
   },
   "outputs": [
    {
     "name": "stdout",
     "output_type": "stream",
     "text": [
      "Precision at K: 0.3137254901960784\n",
      "Recall at K: 0.0016877637130801688\n"
     ]
    }
   ],
   "source": [
    "df8 = x_validation.copy()\n",
    "df8['response'] = y_validation.copy()\n",
    "\n",
    "# Propensity score\n",
    "df8['score'] = yhat_knn[:,1].tolist()\n",
    "\n",
    "# sort clients by propensity score\n",
    "df8 = df8.sort_values('score',ascending=False)\n",
    "\n",
    "# compute precision at k\n",
    "print('Precision at K: {}'.format(precision_at_k(df8,k=50)))\n",
    "print('Recall at K: {}'.format(recall_at_k(df8,k=50)))"
   ]
  },
  {
   "cell_type": "code",
   "execution_count": null,
   "id": "e9c96d84",
   "metadata": {},
   "outputs": [],
   "source": []
  },
  {
   "cell_type": "code",
   "execution_count": null,
   "id": "7cb145a2",
   "metadata": {},
   "outputs": [],
   "source": []
  }
 ],
 "metadata": {
  "kernelspec": {
   "display_name": "Python 3 (ipykernel)",
   "language": "python",
   "name": "python3"
  },
  "language_info": {
   "codemirror_mode": {
    "name": "ipython",
    "version": 3
   },
   "file_extension": ".py",
   "mimetype": "text/x-python",
   "name": "python",
   "nbconvert_exporter": "python",
   "pygments_lexer": "ipython3",
   "version": "3.9.12"
  }
 },
 "nbformat": 4,
 "nbformat_minor": 5
}

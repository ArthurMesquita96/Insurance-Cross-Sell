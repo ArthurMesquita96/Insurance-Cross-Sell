{
 "cells": [
  {
   "cell_type": "markdown",
   "id": "46c21508",
   "metadata": {},
   "source": [
    "# 0.0 Imports"
   ]
  },
  {
   "cell_type": "code",
   "execution_count": 259,
   "id": "b2dea543",
   "metadata": {
    "ExecuteTime": {
     "end_time": "2022-10-22T23:03:59.622611Z",
     "start_time": "2022-10-22T23:03:59.607562Z"
    }
   },
   "outputs": [],
   "source": [
    "import numpy as np\n",
    "import pandas as pd\n",
    "import psycopg2 as pg\n",
    "import sweetviz as sv\n",
    "import seaborn as sns\n",
    "import scikitplot as skplt\n",
    "import warnings\n",
    "import pickle\n",
    "import json\n",
    "import requests\n",
    "warnings.filterwarnings('ignore')\n",
    "\n",
    "from IPython.core.display import HTML\n",
    "from IPython.display import Image\n",
    "from matplotlib import pyplot as plt\n",
    "from sklearn import preprocessing as pp\n",
    "from sklearn import model_selection as ms\n",
    "from sklearn import ensemble as en\n",
    "from sklearn import neighbors as nh\n",
    "from sklearn import linear_model as lm\n",
    "from sklearn.metrics import accuracy_score, precision_score, recall_score, f1_score, roc_curve, plot_confusion_matrix\n",
    "import xgboost as xgb"
   ]
  },
  {
   "cell_type": "markdown",
   "id": "83ec1d10",
   "metadata": {},
   "source": [
    "## Helper Functions"
   ]
  },
  {
   "cell_type": "code",
   "execution_count": 260,
   "id": "ffbef716",
   "metadata": {
    "ExecuteTime": {
     "end_time": "2022-10-22T23:03:59.793042Z",
     "start_time": "2022-10-22T23:03:59.720235Z"
    }
   },
   "outputs": [
    {
     "name": "stdout",
     "output_type": "stream",
     "text": [
      "%pylab is deprecated, use %matplotlib inline and import the required libraries.\n",
      "Populating the interactive namespace from numpy and matplotlib\n"
     ]
    },
    {
     "data": {
      "text/html": [
       "<style>.container { width:100% !important; }</style>"
      ],
      "text/plain": [
       "<IPython.core.display.HTML object>"
      ]
     },
     "metadata": {},
     "output_type": "display_data"
    }
   ],
   "source": [
    "def pie_chart(data,att,title,legend_title):\n",
    "    \n",
    "    def data_detail(pct, allvalues):\n",
    "        absolute = int(pct/ 100.*np.sum(allvalues['response']))\n",
    "        return \"{:.0f}\\n({:.1f}%)\".format(absolute, pct)\n",
    "\n",
    "    wedges, texts, autotexts = plt.pie( data = data,\n",
    "                                       x = 'response',\n",
    "                                       autopct = lambda pct: data_detail(pct, data),\n",
    "                                       textprops = dict(color=\"w\"))\n",
    "    \n",
    "    plt.legend( wedges, list(data[att]),\n",
    "              title = legend_title,\n",
    "              loc=\"center left\",\n",
    "              bbox_to_anchor = (1, 0, 0.5, 1))\n",
    "    plt.setp(autotexts, size=10, weight=\"bold\")\n",
    "    plt.title(title,fontsize = 15);\n",
    "    \n",
    "def jupyter_settings():\n",
    "    %matplotlib inline\n",
    "    %pylab inline\n",
    "#     plt.style.use( 'bmh' )\n",
    "#     plt.rcParams['figure.figsize'] = [25, 12]\n",
    "#     plt.rcParams['font.size'] = 24\n",
    "    display( HTML( '<style>.container { width:100% !important; }</style>') )\n",
    "    pd.options.display.max_columns = None\n",
    "    pd.options.display.max_rows = None\n",
    "    pd.set_option( 'display.expand_frame_repr', False )\n",
    "#     sns.set()\n",
    "    \n",
    "jupyter_settings()\n",
    "\n",
    "\n",
    "def precision_at_k(data, k):\n",
    "    \n",
    "    # reset index\n",
    "    data = data.reset_index(drop=True)\n",
    "\n",
    "    # create ranking order\n",
    "    data['ranking'] = data.index + 1\n",
    "\n",
    "    data['precision_at_k'] = data['response'].cumsum()/data['ranking']\n",
    "\n",
    "    return data.loc[k,'precision_at_k']\n",
    "\n",
    "def recall_at_k(data, k):\n",
    "\n",
    "    # reset index\n",
    "    data = data.reset_index(drop=True)\n",
    "\n",
    "    # create ranking order\n",
    "    data['ranking'] = data.index + 1\n",
    "\n",
    "    data['recall_at_k'] = data['response'].cumsum()/data['response'].sum()\n",
    "\n",
    "    return data.loc[k,'recall_at_k']\n",
    "\n",
    "def ranking_performance(model_name, x_validation, y_validation, yhat):\n",
    "\n",
    "    data = x_validation.copy()\n",
    "    data['response'] = y_validation.copy()\n",
    "\n",
    "    # Propensity score\n",
    "    data['score'] = yhat[:,1].tolist()\n",
    "\n",
    "    # sort clients by propensity score\n",
    "    data = data.sort_values('score',ascending=False)\n",
    "    \n",
    "    return pd.DataFrame(\n",
    "        {'Model Name': model_name,\n",
    "        'Precision at K': precision_at_k(data,k=20000),\n",
    "        'Recall at K': recall_at_k(data,k=20000)},\n",
    "        index=[0]\n",
    "    )\n",
    "\n",
    "def classification_performance(model_name, y_test, y_pred):\n",
    "    acc = accuracy_score(y_test,y_pred)\n",
    "    pre = precision_score(y_test,y_pred)\n",
    "    rec = recall_score(y_test,y_pred)\n",
    "    f1s = f1_score(y_test,y_pred)\n",
    "    \n",
    "    return pd.DataFrame({\n",
    "        'Model':model_name,\n",
    "        'Accuracy' : acc,\n",
    "        'Precision': pre,\n",
    "        'Recall': rec,\n",
    "        'F1 Score': f1s}, index=[0])\n",
    "\n",
    "def data_preparation(data,dict_preparation):\n",
    "    for att in list(dict_preparation['STANDARIZATION'].keys()):\n",
    "        std = dict_preparation['STANDARIZATION'][att]\n",
    "        data.loc[:,att] = std.transform(data[[att]].values)\n",
    "\n",
    "    for type_encode in list(dict_preparation['RESCALING'].keys()):\n",
    "        for att in list(dict_preparation['RESCALING'][type_encode].keys()):\n",
    "            std = dict_preparation['RESCALING'][type_encode][att]\n",
    "            data.loc[:,att] = std.transform(data[[att]].values)\n",
    "\n",
    "    for type_encode in list(dict_preparation['ENCONDING'].keys()):\n",
    "        for att in list(dict_preparation['ENCONDING'][type_encode].keys()):\n",
    "            if type_encode == 'one_hot_enconding':\n",
    "                prefix = dict_preparation['ENCONDING'][type_encode][att]\n",
    "                columns = dict_preparation['ENCONDING'][type_encode][att]\n",
    "                data = pd.get_dummies(data, prefix = prefix,columns=[columns])\n",
    "            else:\n",
    "                std = dict_preparation['ENCONDING'][type_encode][att]\n",
    "                data.loc[:,att] = data.loc[:,att].map(std)\n",
    "                \n",
    "    # fillna\n",
    "    data = data.fillna(0)\n",
    "                \n",
    "    return data\n",
    "\n",
    "def cross_validation(data_train,k_fold,model_name, model,verbose):\n",
    "\n",
    "    validation_size = int(round(data_train.shape[0]*0.2,0))\n",
    "    \n",
    "    precision_at_k_list = []\n",
    "    recall_at_k_list = []\n",
    "\n",
    "    for k in range(0,k_fold):\n",
    "\n",
    "        start_validation = validation_size*k\n",
    "        end_validation   = validation_size*(k+1)\n",
    "        range_validation = arange(start_validation,end_validation)\n",
    "        range_data       = arange(0,data_train.shape[0])\n",
    "\n",
    "        validation = data_train.iloc[ start_validation:end_validation ]\n",
    "        training = data_train[ ~isin(range_data,range_validation)]\n",
    "\n",
    "        x_training = training.drop(['id','response'],axis=1)\n",
    "        y_training = training['response'].copy()\n",
    "\n",
    "        x_validation = validation.drop(['id','response'],axis=1)\n",
    "        y_validation = validation['response'].copy()\n",
    "\n",
    "        # model fit\n",
    "        m = model.fit(x_training,y_training)\n",
    "\n",
    "        # model predict\n",
    "        y_hat = m.predict_proba(x_validation)\n",
    "        \n",
    "        data_val = x_validation.copy()\n",
    "        data_val['response'] = y_validation.copy()\n",
    "\n",
    "        # Propensity score\n",
    "        data_val['score'] = y_hat[:,1].tolist()\n",
    "\n",
    "        # sort clients by propensity score\n",
    "        data_val = data_val.sort_values('score',ascending=False)\n",
    "        \n",
    "        precision_at_k_list.append(precision_at_k(data_val,int(round(data_val.shape[0]*0.2,0))))\n",
    "        recall_at_k_list.append(recall_at_k(data_val,int(round(data_val.shape[0]*0.2,0))))\n",
    "        \n",
    "        if verbose:\n",
    "            print(f'k_fold: {k}')\n",
    "            print('Validation Size: {} | {} - {}'.format(validation.shape[0],start_validation,end_validation))\n",
    "            print('Training Size: {}'.format(training.shape[0]))\n",
    "            print('Total Size: {}'.format(validation.shape[0] + training.shape[0]))\n",
    "            print('Total Original Size: {}'.format(data_train.shape[0]))\n",
    "            print('Precision at K: {}'.format(precision_at_k(data_val,int(round(data_val.shape[0]*0.2,0)))))\n",
    "            print('Recall at K:    {}'.format(recall_at_k(data_val,int(round(data_val.shape[0]*0.2,0)))))\n",
    "            print('\\n')\n",
    "            \n",
    "    return pd.DataFrame(\n",
    "                        {'Model': model_name,\n",
    "                         'Precision at K': round(np.mean(precision_at_k_list),4).astype(str) + ' +/- ' + round((np.std(precision_at_k_list)),4).astype(str),\n",
    "                         'Recall at K':    round(np.mean(recall_at_k_list),4).astype(str) + ' +/- ' + round((np.std(recall_at_k_list)),4).astype(str)},\n",
    "                          index=[0])"
   ]
  },
  {
   "cell_type": "markdown",
   "id": "8ea7d93b",
   "metadata": {},
   "source": [
    "# 0.1 Load Dataset"
   ]
  },
  {
   "cell_type": "code",
   "execution_count": 261,
   "id": "08146c6b",
   "metadata": {
    "ExecuteTime": {
     "end_time": "2022-10-22T23:04:06.217509Z",
     "start_time": "2022-10-22T23:03:59.830939Z"
    }
   },
   "outputs": [
    {
     "data": {
      "text/html": [
       "<div>\n",
       "<style scoped>\n",
       "    .dataframe tbody tr th:only-of-type {\n",
       "        vertical-align: middle;\n",
       "    }\n",
       "\n",
       "    .dataframe tbody tr th {\n",
       "        vertical-align: top;\n",
       "    }\n",
       "\n",
       "    .dataframe thead th {\n",
       "        text-align: right;\n",
       "    }\n",
       "</style>\n",
       "<table border=\"1\" class=\"dataframe\">\n",
       "  <thead>\n",
       "    <tr style=\"text-align: right;\">\n",
       "      <th></th>\n",
       "      <th>id</th>\n",
       "      <th>gender</th>\n",
       "      <th>age</th>\n",
       "      <th>region_code</th>\n",
       "      <th>policy_sales_channel</th>\n",
       "      <th>id</th>\n",
       "      <th>driving_license</th>\n",
       "      <th>vehicle_age</th>\n",
       "      <th>vehicle_damage</th>\n",
       "      <th>id</th>\n",
       "      <th>previously_insured</th>\n",
       "      <th>annual_premium</th>\n",
       "      <th>vintage</th>\n",
       "      <th>response</th>\n",
       "    </tr>\n",
       "  </thead>\n",
       "  <tbody>\n",
       "    <tr>\n",
       "      <th>0</th>\n",
       "      <td>7</td>\n",
       "      <td>Male</td>\n",
       "      <td>23</td>\n",
       "      <td>11.0</td>\n",
       "      <td>152.0</td>\n",
       "      <td>7</td>\n",
       "      <td>1</td>\n",
       "      <td>&lt; 1 Year</td>\n",
       "      <td>Yes</td>\n",
       "      <td>7</td>\n",
       "      <td>0</td>\n",
       "      <td>23367.0</td>\n",
       "      <td>249</td>\n",
       "      <td>0</td>\n",
       "    </tr>\n",
       "    <tr>\n",
       "      <th>1</th>\n",
       "      <td>13</td>\n",
       "      <td>Female</td>\n",
       "      <td>41</td>\n",
       "      <td>15.0</td>\n",
       "      <td>14.0</td>\n",
       "      <td>13</td>\n",
       "      <td>1</td>\n",
       "      <td>1-2 Year</td>\n",
       "      <td>No</td>\n",
       "      <td>13</td>\n",
       "      <td>1</td>\n",
       "      <td>31409.0</td>\n",
       "      <td>221</td>\n",
       "      <td>0</td>\n",
       "    </tr>\n",
       "    <tr>\n",
       "      <th>2</th>\n",
       "      <td>18</td>\n",
       "      <td>Female</td>\n",
       "      <td>25</td>\n",
       "      <td>35.0</td>\n",
       "      <td>152.0</td>\n",
       "      <td>18</td>\n",
       "      <td>1</td>\n",
       "      <td>&lt; 1 Year</td>\n",
       "      <td>No</td>\n",
       "      <td>18</td>\n",
       "      <td>1</td>\n",
       "      <td>46622.0</td>\n",
       "      <td>299</td>\n",
       "      <td>0</td>\n",
       "    </tr>\n",
       "    <tr>\n",
       "      <th>3</th>\n",
       "      <td>31</td>\n",
       "      <td>Female</td>\n",
       "      <td>26</td>\n",
       "      <td>8.0</td>\n",
       "      <td>160.0</td>\n",
       "      <td>31</td>\n",
       "      <td>1</td>\n",
       "      <td>&lt; 1 Year</td>\n",
       "      <td>No</td>\n",
       "      <td>31</td>\n",
       "      <td>0</td>\n",
       "      <td>2630.0</td>\n",
       "      <td>136</td>\n",
       "      <td>0</td>\n",
       "    </tr>\n",
       "    <tr>\n",
       "      <th>4</th>\n",
       "      <td>39</td>\n",
       "      <td>Male</td>\n",
       "      <td>45</td>\n",
       "      <td>8.0</td>\n",
       "      <td>124.0</td>\n",
       "      <td>39</td>\n",
       "      <td>1</td>\n",
       "      <td>1-2 Year</td>\n",
       "      <td>Yes</td>\n",
       "      <td>39</td>\n",
       "      <td>0</td>\n",
       "      <td>42297.0</td>\n",
       "      <td>264</td>\n",
       "      <td>0</td>\n",
       "    </tr>\n",
       "  </tbody>\n",
       "</table>\n",
       "</div>"
      ],
      "text/plain": [
       "   id  gender  age  region_code  policy_sales_channel  id  driving_license vehicle_age vehicle_damage  id  previously_insured  annual_premium  vintage  response\n",
       "0   7    Male   23         11.0                 152.0   7                1    < 1 Year            Yes   7                   0         23367.0      249         0\n",
       "1  13  Female   41         15.0                  14.0  13                1    1-2 Year             No  13                   1         31409.0      221         0\n",
       "2  18  Female   25         35.0                 152.0  18                1    < 1 Year             No  18                   1         46622.0      299         0\n",
       "3  31  Female   26          8.0                 160.0  31                1    < 1 Year             No  31                   0          2630.0      136         0\n",
       "4  39    Male   45          8.0                 124.0  39                1    1-2 Year            Yes  39                   0         42297.0      264         0"
      ]
     },
     "execution_count": 261,
     "metadata": {},
     "output_type": "execute_result"
    }
   ],
   "source": [
    "# Credentials\n",
    "\n",
    "host = 'comunidade-ds-postgres.c50pcakiuwi3.us-east-1.rds.amazonaws.com'\n",
    "port = 5432\n",
    "database = 'comunidadedsdb'\n",
    "username = 'member'\n",
    "pwd =' cdspa'\n",
    "\n",
    "# Connection with Database\n",
    "conn_string = f'host={host} port={port} dbname={database} user={username} password={pwd}'\n",
    "conn = pg.connect(conn_string)\n",
    "\n",
    "# SQL Query\n",
    "query = '''\n",
    "    select * \n",
    "    from pa004.users u LEFT JOIN pa004.vehicle v ON (u.id = v.id)\n",
    "                       LEFT JOIN pa004.insurance i ON (u.id = i.id)\n",
    "'''\n",
    "\n",
    "df = pd.read_sql(query, conn)\n",
    "conn.close()\n",
    "df.head()"
   ]
  },
  {
   "cell_type": "code",
   "execution_count": 262,
   "id": "28fb7c12",
   "metadata": {
    "ExecuteTime": {
     "end_time": "2022-10-22T23:04:06.233456Z",
     "start_time": "2022-10-22T23:04:06.219500Z"
    }
   },
   "outputs": [
    {
     "name": "stdout",
     "output_type": "stream",
     "text": [
      "Rows: 381109\n",
      "Columns: 14\n"
     ]
    }
   ],
   "source": [
    "print('Rows: {}'.format(df.shape[0]))\n",
    "print('Columns: {}'.format(df.shape[1]))"
   ]
  },
  {
   "cell_type": "code",
   "execution_count": 263,
   "id": "5430828a",
   "metadata": {
    "ExecuteTime": {
     "end_time": "2022-10-22T23:04:06.311465Z",
     "start_time": "2022-10-22T23:04:06.235024Z"
    }
   },
   "outputs": [
    {
     "data": {
      "text/html": [
       "<div>\n",
       "<style scoped>\n",
       "    .dataframe tbody tr th:only-of-type {\n",
       "        vertical-align: middle;\n",
       "    }\n",
       "\n",
       "    .dataframe tbody tr th {\n",
       "        vertical-align: top;\n",
       "    }\n",
       "\n",
       "    .dataframe thead th {\n",
       "        text-align: right;\n",
       "    }\n",
       "</style>\n",
       "<table border=\"1\" class=\"dataframe\">\n",
       "  <thead>\n",
       "    <tr style=\"text-align: right;\">\n",
       "      <th></th>\n",
       "      <th>id</th>\n",
       "      <th>gender</th>\n",
       "      <th>age</th>\n",
       "      <th>region_code</th>\n",
       "      <th>policy_sales_channel</th>\n",
       "      <th>driving_license</th>\n",
       "      <th>vehicle_age</th>\n",
       "      <th>vehicle_damage</th>\n",
       "      <th>previously_insured</th>\n",
       "      <th>annual_premium</th>\n",
       "      <th>vintage</th>\n",
       "      <th>response</th>\n",
       "    </tr>\n",
       "  </thead>\n",
       "  <tbody>\n",
       "    <tr>\n",
       "      <th>49129</th>\n",
       "      <td>10534</td>\n",
       "      <td>Female</td>\n",
       "      <td>23</td>\n",
       "      <td>6.0</td>\n",
       "      <td>152.0</td>\n",
       "      <td>1</td>\n",
       "      <td>&lt; 1 Year</td>\n",
       "      <td>No</td>\n",
       "      <td>1</td>\n",
       "      <td>25646.0</td>\n",
       "      <td>111</td>\n",
       "      <td>0</td>\n",
       "    </tr>\n",
       "    <tr>\n",
       "      <th>110869</th>\n",
       "      <td>123102</td>\n",
       "      <td>Female</td>\n",
       "      <td>79</td>\n",
       "      <td>28.0</td>\n",
       "      <td>26.0</td>\n",
       "      <td>1</td>\n",
       "      <td>1-2 Year</td>\n",
       "      <td>No</td>\n",
       "      <td>1</td>\n",
       "      <td>53659.0</td>\n",
       "      <td>174</td>\n",
       "      <td>0</td>\n",
       "    </tr>\n",
       "    <tr>\n",
       "      <th>13494</th>\n",
       "      <td>108728</td>\n",
       "      <td>Female</td>\n",
       "      <td>58</td>\n",
       "      <td>42.0</td>\n",
       "      <td>26.0</td>\n",
       "      <td>1</td>\n",
       "      <td>1-2 Year</td>\n",
       "      <td>No</td>\n",
       "      <td>1</td>\n",
       "      <td>34270.0</td>\n",
       "      <td>218</td>\n",
       "      <td>0</td>\n",
       "    </tr>\n",
       "  </tbody>\n",
       "</table>\n",
       "</div>"
      ],
      "text/plain": [
       "            id  gender  age  region_code  policy_sales_channel  driving_license vehicle_age vehicle_damage  previously_insured  annual_premium  vintage  response\n",
       "49129    10534  Female   23          6.0                 152.0                1    < 1 Year             No                   1         25646.0      111         0\n",
       "110869  123102  Female   79         28.0                  26.0                1    1-2 Year             No                   1         53659.0      174         0\n",
       "13494   108728  Female   58         42.0                  26.0                1    1-2 Year             No                   1         34270.0      218         0"
      ]
     },
     "execution_count": 263,
     "metadata": {},
     "output_type": "execute_result"
    }
   ],
   "source": [
    "df_raw = df.loc[:,~df.columns.duplicated()]\n",
    "df_raw.sample(3)"
   ]
  },
  {
   "cell_type": "code",
   "execution_count": 264,
   "id": "9882884f",
   "metadata": {
    "ExecuteTime": {
     "end_time": "2022-10-22T23:04:06.326593Z",
     "start_time": "2022-10-22T23:04:06.313697Z"
    }
   },
   "outputs": [
    {
     "name": "stdout",
     "output_type": "stream",
     "text": [
      "Rows: 381109\n",
      "Columns: 12\n"
     ]
    }
   ],
   "source": [
    "print('Rows: {}'.format(df_raw.shape[0]))\n",
    "print('Columns: {}'.format(df_raw.shape[1]))"
   ]
  },
  {
   "cell_type": "markdown",
   "id": "e802babf",
   "metadata": {},
   "source": [
    "# 1.0 Data Description"
   ]
  },
  {
   "cell_type": "code",
   "execution_count": 265,
   "id": "0ecfc62f",
   "metadata": {
    "ExecuteTime": {
     "end_time": "2022-10-22T23:04:06.357279Z",
     "start_time": "2022-10-22T23:04:06.328354Z"
    }
   },
   "outputs": [],
   "source": [
    "df1 = df_raw.copy()"
   ]
  },
  {
   "cell_type": "markdown",
   "id": "501703cc",
   "metadata": {},
   "source": [
    "## 1.1 Data Dimension"
   ]
  },
  {
   "cell_type": "code",
   "execution_count": 266,
   "id": "fe1c2d7a",
   "metadata": {
    "ExecuteTime": {
     "end_time": "2022-10-22T23:04:06.373238Z",
     "start_time": "2022-10-22T23:04:06.360274Z"
    }
   },
   "outputs": [
    {
     "name": "stdout",
     "output_type": "stream",
     "text": [
      "Rows: 381109\n",
      "Columns: 12\n"
     ]
    }
   ],
   "source": [
    "print('Rows: {}'.format(df1.shape[0]))\n",
    "print('Columns: {}'.format(df1.shape[1]))"
   ]
  },
  {
   "cell_type": "markdown",
   "id": "82e7d5be",
   "metadata": {},
   "source": [
    "## 1.2 Data Types"
   ]
  },
  {
   "cell_type": "code",
   "execution_count": 267,
   "id": "02b161f8",
   "metadata": {
    "ExecuteTime": {
     "end_time": "2022-10-22T23:04:06.388277Z",
     "start_time": "2022-10-22T23:04:06.375233Z"
    }
   },
   "outputs": [
    {
     "data": {
      "text/plain": [
       "id                        int64\n",
       "gender                   object\n",
       "age                       int64\n",
       "region_code             float64\n",
       "policy_sales_channel    float64\n",
       "driving_license           int64\n",
       "vehicle_age              object\n",
       "vehicle_damage           object\n",
       "previously_insured        int64\n",
       "annual_premium          float64\n",
       "vintage                   int64\n",
       "response                  int64\n",
       "dtype: object"
      ]
     },
     "execution_count": 267,
     "metadata": {},
     "output_type": "execute_result"
    }
   ],
   "source": [
    "df1.dtypes"
   ]
  },
  {
   "cell_type": "markdown",
   "id": "1f9af3c0",
   "metadata": {},
   "source": [
    "## 1.3 Change Types"
   ]
  },
  {
   "cell_type": "code",
   "execution_count": 268,
   "id": "03d8d0e7",
   "metadata": {
    "ExecuteTime": {
     "end_time": "2022-10-22T23:04:06.419115Z",
     "start_time": "2022-10-22T23:04:06.391189Z"
    }
   },
   "outputs": [],
   "source": [
    "# region_code\n",
    "df1['region_code'] = df1['region_code'].astype('int64')\n",
    "\n",
    "# policy_sales_channel \n",
    "df1['policy_sales_channel'] = df1['policy_sales_channel'].astype('int64')"
   ]
  },
  {
   "cell_type": "code",
   "execution_count": 269,
   "id": "16a3008d",
   "metadata": {
    "ExecuteTime": {
     "end_time": "2022-10-22T23:04:06.435073Z",
     "start_time": "2022-10-22T23:04:06.422234Z"
    }
   },
   "outputs": [
    {
     "data": {
      "text/plain": [
       "id                        int64\n",
       "gender                   object\n",
       "age                       int64\n",
       "region_code               int64\n",
       "policy_sales_channel      int64\n",
       "driving_license           int64\n",
       "vehicle_age              object\n",
       "vehicle_damage           object\n",
       "previously_insured        int64\n",
       "annual_premium          float64\n",
       "vintage                   int64\n",
       "response                  int64\n",
       "dtype: object"
      ]
     },
     "execution_count": 269,
     "metadata": {},
     "output_type": "execute_result"
    }
   ],
   "source": [
    "df1.dtypes"
   ]
  },
  {
   "cell_type": "markdown",
   "id": "6dae747e",
   "metadata": {},
   "source": [
    "## 1.4 Check NA"
   ]
  },
  {
   "cell_type": "code",
   "execution_count": 270,
   "id": "84be6a06",
   "metadata": {
    "ExecuteTime": {
     "end_time": "2022-10-22T23:04:06.745900Z",
     "start_time": "2022-10-22T23:04:06.451032Z"
    }
   },
   "outputs": [
    {
     "data": {
      "text/plain": [
       "id                      0\n",
       "gender                  0\n",
       "age                     0\n",
       "region_code             0\n",
       "policy_sales_channel    0\n",
       "driving_license         0\n",
       "vehicle_age             0\n",
       "vehicle_damage          0\n",
       "previously_insured      0\n",
       "annual_premium          0\n",
       "vintage                 0\n",
       "response                0\n",
       "dtype: int64"
      ]
     },
     "execution_count": 270,
     "metadata": {},
     "output_type": "execute_result"
    }
   ],
   "source": [
    "df1.isna().sum()"
   ]
  },
  {
   "cell_type": "markdown",
   "id": "ddd9b367",
   "metadata": {},
   "source": [
    "## 1.5 Data Descriptive"
   ]
  },
  {
   "cell_type": "code",
   "execution_count": 271,
   "id": "0140dcf2",
   "metadata": {
    "ExecuteTime": {
     "end_time": "2022-10-22T23:04:06.761053Z",
     "start_time": "2022-10-22T23:04:06.747895Z"
    }
   },
   "outputs": [
    {
     "data": {
      "text/plain": [
       "Index(['id', 'gender', 'age', 'region_code', 'policy_sales_channel',\n",
       "       'driving_license', 'vehicle_age', 'vehicle_damage',\n",
       "       'previously_insured', 'annual_premium', 'vintage', 'response'],\n",
       "      dtype='object')"
      ]
     },
     "execution_count": 271,
     "metadata": {},
     "output_type": "execute_result"
    }
   ],
   "source": [
    "df1.columns"
   ]
  },
  {
   "cell_type": "code",
   "execution_count": 272,
   "id": "4ca971d2",
   "metadata": {
    "ExecuteTime": {
     "end_time": "2022-10-22T23:04:06.823819Z",
     "start_time": "2022-10-22T23:04:06.763055Z"
    }
   },
   "outputs": [],
   "source": [
    "num_attributes = df1[['age','annual_premium','vintage']]\n",
    "cat_attributes = df1[['gender','driving_license','vehicle_age','vehicle_damage','previously_insured','policy_sales_channel','region_code']]"
   ]
  },
  {
   "cell_type": "markdown",
   "id": "b3d4aef6",
   "metadata": {},
   "source": [
    "### 1.5.1 Numerical atributes"
   ]
  },
  {
   "cell_type": "code",
   "execution_count": 273,
   "id": "c9b14a86",
   "metadata": {
    "ExecuteTime": {
     "end_time": "2022-10-22T23:04:07.104692Z",
     "start_time": "2022-10-22T23:04:06.826004Z"
    }
   },
   "outputs": [
    {
     "data": {
      "text/html": [
       "<div>\n",
       "<style scoped>\n",
       "    .dataframe tbody tr th:only-of-type {\n",
       "        vertical-align: middle;\n",
       "    }\n",
       "\n",
       "    .dataframe tbody tr th {\n",
       "        vertical-align: top;\n",
       "    }\n",
       "\n",
       "    .dataframe thead th {\n",
       "        text-align: right;\n",
       "    }\n",
       "</style>\n",
       "<table border=\"1\" class=\"dataframe\">\n",
       "  <thead>\n",
       "    <tr style=\"text-align: right;\">\n",
       "      <th></th>\n",
       "      <th>attributes</th>\n",
       "      <th>min</th>\n",
       "      <th>max</th>\n",
       "      <th>range</th>\n",
       "      <th>mean</th>\n",
       "      <th>median</th>\n",
       "      <th>std</th>\n",
       "      <th>skew</th>\n",
       "      <th>kurtosis</th>\n",
       "    </tr>\n",
       "  </thead>\n",
       "  <tbody>\n",
       "    <tr>\n",
       "      <th>0</th>\n",
       "      <td>age</td>\n",
       "      <td>20.0</td>\n",
       "      <td>85.0</td>\n",
       "      <td>65.0</td>\n",
       "      <td>38.822584</td>\n",
       "      <td>38.822584</td>\n",
       "      <td>15.511591</td>\n",
       "      <td>0.672539</td>\n",
       "      <td>-0.565655</td>\n",
       "    </tr>\n",
       "    <tr>\n",
       "      <th>1</th>\n",
       "      <td>annual_premium</td>\n",
       "      <td>2630.0</td>\n",
       "      <td>540165.0</td>\n",
       "      <td>537535.0</td>\n",
       "      <td>30564.389581</td>\n",
       "      <td>30564.389581</td>\n",
       "      <td>17213.132474</td>\n",
       "      <td>1.766087</td>\n",
       "      <td>34.004569</td>\n",
       "    </tr>\n",
       "    <tr>\n",
       "      <th>2</th>\n",
       "      <td>vintage</td>\n",
       "      <td>10.0</td>\n",
       "      <td>299.0</td>\n",
       "      <td>289.0</td>\n",
       "      <td>154.347397</td>\n",
       "      <td>154.347397</td>\n",
       "      <td>83.671194</td>\n",
       "      <td>0.003030</td>\n",
       "      <td>-1.200688</td>\n",
       "    </tr>\n",
       "  </tbody>\n",
       "</table>\n",
       "</div>"
      ],
      "text/plain": [
       "       attributes     min       max     range          mean        median           std      skew   kurtosis\n",
       "0             age    20.0      85.0      65.0     38.822584     38.822584     15.511591  0.672539  -0.565655\n",
       "1  annual_premium  2630.0  540165.0  537535.0  30564.389581  30564.389581  17213.132474  1.766087  34.004569\n",
       "2         vintage    10.0     299.0     289.0    154.347397    154.347397     83.671194  0.003030  -1.200688"
      ]
     },
     "execution_count": 273,
     "metadata": {},
     "output_type": "execute_result"
    }
   ],
   "source": [
    "ct1 = pd.DataFrame(num_attributes.apply(np.mean)).T\n",
    "ct2 = pd.DataFrame(num_attributes.apply(np.mean)).T\n",
    "\n",
    "d1 = pd.DataFrame(num_attributes.apply(np.std)).T\n",
    "d2 = pd.DataFrame(num_attributes.apply(min)).T\n",
    "d3 = pd.DataFrame(num_attributes.apply(max)).T\n",
    "d4 = pd.DataFrame(num_attributes.apply(lambda x: x.max() - x.min())).T\n",
    "d5 = pd.DataFrame(num_attributes.apply(lambda x: x.skew())).T\n",
    "d6 = pd.DataFrame(num_attributes.apply(lambda x: x.kurtosis())).T\n",
    "\n",
    "m = pd.concat([d2, d3, d4, ct1, ct2, d1, d5, d6]).T.reset_index()\n",
    "m.columns = ['attributes', 'min', 'max','range','mean','median','std','skew','kurtosis']\n",
    "\n",
    "m"
   ]
  },
  {
   "cell_type": "markdown",
   "id": "51372f99",
   "metadata": {},
   "source": [
    "### 1.5.2 Categorical atributes"
   ]
  },
  {
   "cell_type": "code",
   "execution_count": 274,
   "id": "47ef7860",
   "metadata": {
    "ExecuteTime": {
     "end_time": "2022-10-22T23:04:07.366999Z",
     "start_time": "2022-10-22T23:04:07.106689Z"
    }
   },
   "outputs": [
    {
     "name": "stdout",
     "output_type": "stream",
     "text": [
      "gender: \n",
      "Number of categories: 2\n",
      "Categories: ['Female', 'Male']\n",
      "\n",
      "driving_license: \n",
      "Number of categories: 2\n",
      "Categories: [0, 1]\n",
      "\n",
      "vehicle_age: \n",
      "Number of categories: 3\n",
      "Categories: ['1-2 Year', '< 1 Year', '> 2 Years']\n",
      "\n",
      "vehicle_damage: \n",
      "Number of categories: 2\n",
      "Categories: ['No', 'Yes']\n",
      "\n",
      "previously_insured: \n",
      "Number of categories: 2\n",
      "Categories: [0, 1]\n",
      "\n",
      "policy_sales_channel: \n",
      "Number of categories: 155\n",
      "Categories: [1, 2, 3, 4, 6, 7, 8, 9, 10, 11, 12, 13, 14, 15, 16, 17, 18, 19, 20, 21, 22, 23, 24, 25, 26, 27, 28, 29, 30, 31, 32, 33, 34, 35, 36, 37, 38, 39, 40, 41, 42, 43, 44, 45, 46, 47, 48, 49, 50, 51, 52, 53, 54, 55, 56, 57, 58, 59, 60, 61, 62, 63, 64, 65, 66, 67, 68, 69, 70, 71, 73, 74, 75, 76, 78, 79, 80, 81, 82, 83, 84, 86, 87, 88, 89, 90, 91, 92, 93, 94, 95, 96, 97, 98, 99, 100, 101, 102, 103, 104, 105, 106, 107, 108, 109, 110, 111, 112, 113, 114, 115, 116, 117, 118, 119, 120, 121, 122, 123, 124, 125, 126, 127, 128, 129, 130, 131, 132, 133, 134, 135, 136, 137, 138, 139, 140, 143, 144, 145, 146, 147, 148, 149, 150, 151, 152, 153, 154, 155, 156, 157, 158, 159, 160, 163]\n",
      "\n",
      "region_code: \n",
      "Number of categories: 53\n",
      "Categories: [0, 1, 2, 3, 4, 5, 6, 7, 8, 9, 10, 11, 12, 13, 14, 15, 16, 17, 18, 19, 20, 21, 22, 23, 24, 25, 26, 27, 28, 29, 30, 31, 32, 33, 34, 35, 36, 37, 38, 39, 40, 41, 42, 43, 44, 45, 46, 47, 48, 49, 50, 51, 52]\n",
      "\n"
     ]
    }
   ],
   "source": [
    "for i in cat_attributes.columns:\n",
    "    print(f'{i}: \\nNumber of categories: {cat_attributes[i].unique().shape[0]}\\nCategories: {sorted(cat_attributes[i].unique())}\\n')"
   ]
  },
  {
   "cell_type": "markdown",
   "id": "ee72a599",
   "metadata": {},
   "source": [
    "# 2.0 Feature Engineering"
   ]
  },
  {
   "cell_type": "code",
   "execution_count": 275,
   "id": "08d88b62",
   "metadata": {
    "ExecuteTime": {
     "end_time": "2022-10-22T23:04:07.397881Z",
     "start_time": "2022-10-22T23:04:07.367962Z"
    }
   },
   "outputs": [],
   "source": [
    "df2 = df1.copy()"
   ]
  },
  {
   "cell_type": "code",
   "execution_count": 276,
   "id": "d8d6dd6d",
   "metadata": {
    "ExecuteTime": {
     "end_time": "2022-10-22T23:04:07.413839Z",
     "start_time": "2022-10-22T23:04:07.399876Z"
    }
   },
   "outputs": [
    {
     "data": {
      "image/png": "[encoded data removed]",
      "text/plain": [
       "<IPython.core.display.Image object>"
      ]
     },
     "execution_count": 276,
     "metadata": {},
     "output_type": "execute_result"
    }
   ],
   "source": [
    "Image('img/Vehicle_Insurance.png')"
   ]
  },
  {
   "cell_type": "markdown",
   "id": "de934468",
   "metadata": {},
   "source": [
    "## 2.1 Hyphotesis Mind Map"
   ]
  },
  {
   "cell_type": "markdown",
   "id": "d5be40e1",
   "metadata": {},
   "source": [
    "### 2.1.1 Customer's Hyphotesis\n",
    "\n",
    "1. Customers over 40 years old are 50% more interest in vehicle insurance"
   ]
  },
  {
   "cell_type": "markdown",
   "id": "c21c62aa",
   "metadata": {},
   "source": [
    "### 2.1.2 Vehicle's Hyphotesis\n",
    "\n",
    "1. Customer with a newer vehicle are 30% more interest in adquire the vericle insurance than customer with older cars"
   ]
  },
  {
   "cell_type": "markdown",
   "id": "8c934bde",
   "metadata": {},
   "source": [
    "### 2.1.3 Company Relationship's Hyphotesis\n",
    "\n",
    "1. Customer with less than 30 days in relation with the company are 40% more interest in adquire the vehicle insurance"
   ]
  },
  {
   "cell_type": "markdown",
   "id": "56e2b38f",
   "metadata": {},
   "source": [
    "## 2.2 Feature Criation"
   ]
  },
  {
   "cell_type": "code",
   "execution_count": 277,
   "id": "e0e55ce9",
   "metadata": {
    "ExecuteTime": {
     "end_time": "2022-10-22T23:04:07.443761Z",
     "start_time": "2022-10-22T23:04:07.415835Z"
    }
   },
   "outputs": [
    {
     "data": {
      "text/html": [
       "<div>\n",
       "<style scoped>\n",
       "    .dataframe tbody tr th:only-of-type {\n",
       "        vertical-align: middle;\n",
       "    }\n",
       "\n",
       "    .dataframe tbody tr th {\n",
       "        vertical-align: top;\n",
       "    }\n",
       "\n",
       "    .dataframe thead th {\n",
       "        text-align: right;\n",
       "    }\n",
       "</style>\n",
       "<table border=\"1\" class=\"dataframe\">\n",
       "  <thead>\n",
       "    <tr style=\"text-align: right;\">\n",
       "      <th></th>\n",
       "      <th>id</th>\n",
       "      <th>gender</th>\n",
       "      <th>age</th>\n",
       "      <th>region_code</th>\n",
       "      <th>policy_sales_channel</th>\n",
       "      <th>driving_license</th>\n",
       "      <th>vehicle_age</th>\n",
       "      <th>vehicle_damage</th>\n",
       "      <th>previously_insured</th>\n",
       "      <th>annual_premium</th>\n",
       "      <th>vintage</th>\n",
       "      <th>response</th>\n",
       "    </tr>\n",
       "  </thead>\n",
       "  <tbody>\n",
       "    <tr>\n",
       "      <th>0</th>\n",
       "      <td>7</td>\n",
       "      <td>Male</td>\n",
       "      <td>23</td>\n",
       "      <td>11</td>\n",
       "      <td>152</td>\n",
       "      <td>1</td>\n",
       "      <td>&lt; 1 Year</td>\n",
       "      <td>Yes</td>\n",
       "      <td>0</td>\n",
       "      <td>23367.0</td>\n",
       "      <td>249</td>\n",
       "      <td>0</td>\n",
       "    </tr>\n",
       "    <tr>\n",
       "      <th>1</th>\n",
       "      <td>13</td>\n",
       "      <td>Female</td>\n",
       "      <td>41</td>\n",
       "      <td>15</td>\n",
       "      <td>14</td>\n",
       "      <td>1</td>\n",
       "      <td>1-2 Year</td>\n",
       "      <td>No</td>\n",
       "      <td>1</td>\n",
       "      <td>31409.0</td>\n",
       "      <td>221</td>\n",
       "      <td>0</td>\n",
       "    </tr>\n",
       "    <tr>\n",
       "      <th>2</th>\n",
       "      <td>18</td>\n",
       "      <td>Female</td>\n",
       "      <td>25</td>\n",
       "      <td>35</td>\n",
       "      <td>152</td>\n",
       "      <td>1</td>\n",
       "      <td>&lt; 1 Year</td>\n",
       "      <td>No</td>\n",
       "      <td>1</td>\n",
       "      <td>46622.0</td>\n",
       "      <td>299</td>\n",
       "      <td>0</td>\n",
       "    </tr>\n",
       "    <tr>\n",
       "      <th>3</th>\n",
       "      <td>31</td>\n",
       "      <td>Female</td>\n",
       "      <td>26</td>\n",
       "      <td>8</td>\n",
       "      <td>160</td>\n",
       "      <td>1</td>\n",
       "      <td>&lt; 1 Year</td>\n",
       "      <td>No</td>\n",
       "      <td>0</td>\n",
       "      <td>2630.0</td>\n",
       "      <td>136</td>\n",
       "      <td>0</td>\n",
       "    </tr>\n",
       "    <tr>\n",
       "      <th>4</th>\n",
       "      <td>39</td>\n",
       "      <td>Male</td>\n",
       "      <td>45</td>\n",
       "      <td>8</td>\n",
       "      <td>124</td>\n",
       "      <td>1</td>\n",
       "      <td>1-2 Year</td>\n",
       "      <td>Yes</td>\n",
       "      <td>0</td>\n",
       "      <td>42297.0</td>\n",
       "      <td>264</td>\n",
       "      <td>0</td>\n",
       "    </tr>\n",
       "  </tbody>\n",
       "</table>\n",
       "</div>"
      ],
      "text/plain": [
       "   id  gender  age  region_code  policy_sales_channel  driving_license vehicle_age vehicle_damage  previously_insured  annual_premium  vintage  response\n",
       "0   7    Male   23           11                   152                1    < 1 Year            Yes                   0         23367.0      249         0\n",
       "1  13  Female   41           15                    14                1    1-2 Year             No                   1         31409.0      221         0\n",
       "2  18  Female   25           35                   152                1    < 1 Year             No                   1         46622.0      299         0\n",
       "3  31  Female   26            8                   160                1    < 1 Year             No                   0          2630.0      136         0\n",
       "4  39    Male   45            8                   124                1    1-2 Year            Yes                   0         42297.0      264         0"
      ]
     },
     "execution_count": 277,
     "metadata": {},
     "output_type": "execute_result"
    }
   ],
   "source": [
    "df2.head()"
   ]
  },
  {
   "cell_type": "code",
   "execution_count": 278,
   "id": "5f7aa2ee",
   "metadata": {
    "ExecuteTime": {
     "end_time": "2022-10-22T23:04:07.538089Z",
     "start_time": "2022-10-22T23:04:07.445786Z"
    }
   },
   "outputs": [],
   "source": [
    "# vericle_age\n",
    "df2['vehicle_age'] = df2['vehicle_age'].apply(lambda x: 'bellow_1_year' if x == '< 1 Year' else \n",
    "                                                     'between_1_2_year' if x == '1-2 Year' else \n",
    "                                                     'over_2_years')"
   ]
  },
  {
   "cell_type": "code",
   "execution_count": 279,
   "id": "70c4a400",
   "metadata": {
    "ExecuteTime": {
     "end_time": "2022-10-22T23:04:07.553015Z",
     "start_time": "2022-10-22T23:04:07.540051Z"
    }
   },
   "outputs": [
    {
     "data": {
      "text/html": [
       "<div>\n",
       "<style scoped>\n",
       "    .dataframe tbody tr th:only-of-type {\n",
       "        vertical-align: middle;\n",
       "    }\n",
       "\n",
       "    .dataframe tbody tr th {\n",
       "        vertical-align: top;\n",
       "    }\n",
       "\n",
       "    .dataframe thead th {\n",
       "        text-align: right;\n",
       "    }\n",
       "</style>\n",
       "<table border=\"1\" class=\"dataframe\">\n",
       "  <thead>\n",
       "    <tr style=\"text-align: right;\">\n",
       "      <th></th>\n",
       "      <th>id</th>\n",
       "      <th>gender</th>\n",
       "      <th>age</th>\n",
       "      <th>region_code</th>\n",
       "      <th>policy_sales_channel</th>\n",
       "      <th>driving_license</th>\n",
       "      <th>vehicle_age</th>\n",
       "      <th>vehicle_damage</th>\n",
       "      <th>previously_insured</th>\n",
       "      <th>annual_premium</th>\n",
       "      <th>vintage</th>\n",
       "      <th>response</th>\n",
       "    </tr>\n",
       "  </thead>\n",
       "  <tbody>\n",
       "    <tr>\n",
       "      <th>0</th>\n",
       "      <td>7</td>\n",
       "      <td>Male</td>\n",
       "      <td>23</td>\n",
       "      <td>11</td>\n",
       "      <td>152</td>\n",
       "      <td>1</td>\n",
       "      <td>bellow_1_year</td>\n",
       "      <td>Yes</td>\n",
       "      <td>0</td>\n",
       "      <td>23367.0</td>\n",
       "      <td>249</td>\n",
       "      <td>0</td>\n",
       "    </tr>\n",
       "    <tr>\n",
       "      <th>1</th>\n",
       "      <td>13</td>\n",
       "      <td>Female</td>\n",
       "      <td>41</td>\n",
       "      <td>15</td>\n",
       "      <td>14</td>\n",
       "      <td>1</td>\n",
       "      <td>between_1_2_year</td>\n",
       "      <td>No</td>\n",
       "      <td>1</td>\n",
       "      <td>31409.0</td>\n",
       "      <td>221</td>\n",
       "      <td>0</td>\n",
       "    </tr>\n",
       "    <tr>\n",
       "      <th>2</th>\n",
       "      <td>18</td>\n",
       "      <td>Female</td>\n",
       "      <td>25</td>\n",
       "      <td>35</td>\n",
       "      <td>152</td>\n",
       "      <td>1</td>\n",
       "      <td>bellow_1_year</td>\n",
       "      <td>No</td>\n",
       "      <td>1</td>\n",
       "      <td>46622.0</td>\n",
       "      <td>299</td>\n",
       "      <td>0</td>\n",
       "    </tr>\n",
       "    <tr>\n",
       "      <th>3</th>\n",
       "      <td>31</td>\n",
       "      <td>Female</td>\n",
       "      <td>26</td>\n",
       "      <td>8</td>\n",
       "      <td>160</td>\n",
       "      <td>1</td>\n",
       "      <td>bellow_1_year</td>\n",
       "      <td>No</td>\n",
       "      <td>0</td>\n",
       "      <td>2630.0</td>\n",
       "      <td>136</td>\n",
       "      <td>0</td>\n",
       "    </tr>\n",
       "    <tr>\n",
       "      <th>4</th>\n",
       "      <td>39</td>\n",
       "      <td>Male</td>\n",
       "      <td>45</td>\n",
       "      <td>8</td>\n",
       "      <td>124</td>\n",
       "      <td>1</td>\n",
       "      <td>between_1_2_year</td>\n",
       "      <td>Yes</td>\n",
       "      <td>0</td>\n",
       "      <td>42297.0</td>\n",
       "      <td>264</td>\n",
       "      <td>0</td>\n",
       "    </tr>\n",
       "  </tbody>\n",
       "</table>\n",
       "</div>"
      ],
      "text/plain": [
       "   id  gender  age  region_code  policy_sales_channel  driving_license       vehicle_age vehicle_damage  previously_insured  annual_premium  vintage  response\n",
       "0   7    Male   23           11                   152                1     bellow_1_year            Yes                   0         23367.0      249         0\n",
       "1  13  Female   41           15                    14                1  between_1_2_year             No                   1         31409.0      221         0\n",
       "2  18  Female   25           35                   152                1     bellow_1_year             No                   1         46622.0      299         0\n",
       "3  31  Female   26            8                   160                1     bellow_1_year             No                   0          2630.0      136         0\n",
       "4  39    Male   45            8                   124                1  between_1_2_year            Yes                   0         42297.0      264         0"
      ]
     },
     "execution_count": 279,
     "metadata": {},
     "output_type": "execute_result"
    }
   ],
   "source": [
    "df2.head()"
   ]
  },
  {
   "cell_type": "markdown",
   "id": "693272c8",
   "metadata": {},
   "source": [
    "# 3.0 Data Filtering"
   ]
  },
  {
   "cell_type": "code",
   "execution_count": 280,
   "id": "995e9e62",
   "metadata": {
    "ExecuteTime": {
     "end_time": "2022-10-22T23:04:07.630801Z",
     "start_time": "2022-10-22T23:04:07.555010Z"
    }
   },
   "outputs": [],
   "source": [
    "df3 = df2.copy()"
   ]
  },
  {
   "cell_type": "markdown",
   "id": "e314a9b5",
   "metadata": {},
   "source": [
    "# 4.0 Exploratory Data Analysis"
   ]
  },
  {
   "cell_type": "code",
   "execution_count": 281,
   "id": "d353005b",
   "metadata": {
    "ExecuteTime": {
     "end_time": "2022-10-22T23:04:07.661719Z",
     "start_time": "2022-10-22T23:04:07.632796Z"
    }
   },
   "outputs": [],
   "source": [
    "df4 = df3.copy()"
   ]
  },
  {
   "cell_type": "code",
   "execution_count": 282,
   "id": "419211bf",
   "metadata": {
    "ExecuteTime": {
     "end_time": "2022-10-22T23:04:07.676680Z",
     "start_time": "2022-10-22T23:04:07.663714Z"
    }
   },
   "outputs": [],
   "source": [
    "# report = sv.analyze(df4)\n",
    "# report.show_html()"
   ]
  },
  {
   "cell_type": "markdown",
   "id": "52ff783e",
   "metadata": {},
   "source": [
    "## 4.1. Univariate Analysis"
   ]
  },
  {
   "cell_type": "markdown",
   "id": "df8ab171",
   "metadata": {},
   "source": [
    "### 4.1.1 Numerial Variables"
   ]
  },
  {
   "cell_type": "markdown",
   "id": "61e7910f",
   "metadata": {
    "hide_input": false
   },
   "source": [
    "#### 4.1.1.1 Age\n",
    "\n",
    "- Although people between 20 and 30 years old are not usually interest, people between 40 and 50 years old are offen intereset"
   ]
  },
  {
   "cell_type": "code",
   "execution_count": 283,
   "id": "84d72d1c",
   "metadata": {
    "ExecuteTime": {
     "end_time": "2022-10-22T23:04:07.880217Z",
     "start_time": "2022-10-22T23:04:07.678675Z"
    },
    "cell_style": "split",
    "hide_input": true,
    "scrolled": true
   },
   "outputs": [
    {
     "data": {
      "image/png": "[encoded data removed]",
      "text/plain": [
       "<Figure size 432x288 with 1 Axes>"
      ]
     },
     "metadata": {
      "needs_background": "light"
     },
     "output_type": "display_data"
    }
   ],
   "source": [
    "# 'age'\n",
    "sns.boxplot(x='response',y='age',data=df4);"
   ]
  },
  {
   "cell_type": "code",
   "execution_count": 284,
   "id": "f1301b98",
   "metadata": {
    "ExecuteTime": {
     "end_time": "2022-10-22T23:04:08.564379Z",
     "start_time": "2022-10-22T23:04:07.882211Z"
    },
    "cell_style": "split",
    "hide_input": true,
    "scrolled": true
   },
   "outputs": [
    {
     "data": {
      "image/png": "[encoded data removed]",
      "text/plain": [
       "<Figure size 432x288 with 1 Axes>"
      ]
     },
     "metadata": {
      "needs_background": "light"
     },
     "output_type": "display_data"
    }
   ],
   "source": [
    "aux00 = df4.loc[df4['response'] == 0, 'age']\n",
    "aux01 = df4.loc[df4['response'] == 1, 'age']\n",
    "sns.histplot(aux00,color='royalblue')\n",
    "sns.histplot(aux01,color='orange');"
   ]
  },
  {
   "cell_type": "markdown",
   "id": "f5c5d202",
   "metadata": {},
   "source": [
    "#### 4.1.1.2 Annual Premium\n",
    "\n",
    "- The distribuiton of annual premium are very similuar to interest and not interest people. Only the scale of this distribution are diferent"
   ]
  },
  {
   "cell_type": "code",
   "execution_count": 285,
   "id": "bd3ddf07",
   "metadata": {
    "ExecuteTime": {
     "end_time": "2022-10-22T23:04:10.165759Z",
     "start_time": "2022-10-22T23:04:08.566818Z"
    },
    "cell_style": "split",
    "hide_input": true
   },
   "outputs": [
    {
     "data": {
      "image/png": "[encoded data removed]",
      "text/plain": [
       "<Figure size 432x288 with 1 Axes>"
      ]
     },
     "metadata": {
      "needs_background": "light"
     },
     "output_type": "display_data"
    }
   ],
   "source": [
    "# 'annual_premium'\n",
    "aux = df4[(df4['annual_premium'] < 80000) & (df4['annual_premium'] > 10000)]\n",
    "sns.boxplot(x='response',y='annual_premium',data=aux);"
   ]
  },
  {
   "cell_type": "code",
   "execution_count": 286,
   "id": "53f10675",
   "metadata": {
    "ExecuteTime": {
     "end_time": "2022-10-22T23:04:10.990800Z",
     "start_time": "2022-10-22T23:04:10.167752Z"
    },
    "cell_style": "split",
    "hide_input": false,
    "scrolled": true
   },
   "outputs": [
    {
     "data": {
      "image/png": "[encoded data removed]",
      "text/plain": [
       "<Figure size 432x288 with 1 Axes>"
      ]
     },
     "metadata": {
      "needs_background": "light"
     },
     "output_type": "display_data"
    }
   ],
   "source": [
    "aux00 = aux.loc[aux['response'] == 0, 'annual_premium']\n",
    "aux01 = aux.loc[aux['response'] == 1, 'annual_premium']\n",
    "sns.histplot(aux00,color='royalblue')\n",
    "sns.histplot(aux01,color='orange');"
   ]
  },
  {
   "cell_type": "markdown",
   "id": "b51b7c92",
   "metadata": {
    "cell_style": "center",
    "hide_input": true
   },
   "source": [
    "#### 4.1.1.3 Vintage\n",
    "\n",
    "- The vintage (days that the customer is related with the company) is uniform distribuited"
   ]
  },
  {
   "cell_type": "code",
   "execution_count": 287,
   "id": "af732fed",
   "metadata": {
    "ExecuteTime": {
     "end_time": "2022-10-22T23:04:11.162280Z",
     "start_time": "2022-10-22T23:04:10.993302Z"
    },
    "cell_style": "split",
    "hide_input": true
   },
   "outputs": [
    {
     "data": {
      "image/png": "[encoded data removed]",
      "text/plain": [
       "<Figure size 432x288 with 1 Axes>"
      ]
     },
     "metadata": {
      "needs_background": "light"
     },
     "output_type": "display_data"
    }
   ],
   "source": [
    "# 'annual_premium'\n",
    "sns.boxplot(x='response',y='vintage',data=df4);"
   ]
  },
  {
   "cell_type": "code",
   "execution_count": 288,
   "id": "1f5044bb",
   "metadata": {
    "ExecuteTime": {
     "end_time": "2022-10-22T23:04:11.694401Z",
     "start_time": "2022-10-22T23:04:11.170258Z"
    },
    "cell_style": "split",
    "hide_input": true,
    "scrolled": true
   },
   "outputs": [
    {
     "data": {
      "image/png": "[encoded data removed]",
      "text/plain": [
       "<Figure size 432x288 with 1 Axes>"
      ]
     },
     "metadata": {
      "needs_background": "light"
     },
     "output_type": "display_data"
    }
   ],
   "source": [
    "aux00 = df4.loc[df4['response'] == 0, 'vintage']\n",
    "aux01 = df4.loc[df4['response'] == 1, 'vintage']\n",
    "sns.histplot(aux00,color='royalblue',bins=50)\n",
    "sns.histplot(aux01,color='orange',bins=50);"
   ]
  },
  {
   "cell_type": "markdown",
   "id": "9b299300",
   "metadata": {},
   "source": [
    "### 4.1.2 Categorical Variables"
   ]
  },
  {
   "cell_type": "markdown",
   "id": "26b785f6",
   "metadata": {},
   "source": [
    "#### 4.1.2.1 Gender\n",
    "\n",
    "- Mens represents 54% of the elevible customer but represents 61% of whole car insurance interest"
   ]
  },
  {
   "cell_type": "code",
   "execution_count": 289,
   "id": "7f0ff2d0",
   "metadata": {
    "ExecuteTime": {
     "end_time": "2022-10-22T23:04:11.866445Z",
     "start_time": "2022-10-22T23:04:11.696385Z"
    },
    "cell_style": "split",
    "hide_input": true
   },
   "outputs": [
    {
     "data": {
      "image/png": "[encoded data removed]",
      "text/plain": [
       "<Figure size 432x288 with 1 Axes>"
      ]
     },
     "metadata": {},
     "output_type": "display_data"
    }
   ],
   "source": [
    "aux2 = pd.DataFrame(df4[['gender','response']].groupby('gender').count()).reset_index()\n",
    "pie_chart(aux2,'gender',\"Gender Distribution\",'Gender')"
   ]
  },
  {
   "cell_type": "code",
   "execution_count": 290,
   "id": "02b0f24d",
   "metadata": {
    "ExecuteTime": {
     "end_time": "2022-10-22T23:04:12.022475Z",
     "start_time": "2022-10-22T23:04:11.867392Z"
    },
    "cell_style": "split",
    "hide_input": true
   },
   "outputs": [
    {
     "data": {
      "image/png": "[encoded data removed]",
      "text/plain": [
       "<Figure size 432x288 with 1 Axes>"
      ]
     },
     "metadata": {},
     "output_type": "display_data"
    }
   ],
   "source": [
    "# pie plot\n",
    "# ax = plt.figure(figsize=(15,6))\n",
    "aux2 = pd.DataFrame(df4[['gender','response']].groupby('gender').sum()).reset_index()\n",
    "pie_chart(aux2,'gender',\"Gender Interest\",'Gender')"
   ]
  },
  {
   "cell_type": "markdown",
   "id": "9994f01b",
   "metadata": {
    "hide_input": true
   },
   "source": [
    "#### 4.1.2.2 Driving License\n",
    "\n",
    "- The majority people has driving license"
   ]
  },
  {
   "cell_type": "code",
   "execution_count": 291,
   "id": "c15d61af",
   "metadata": {
    "ExecuteTime": {
     "end_time": "2022-10-22T23:04:12.165573Z",
     "start_time": "2022-10-22T23:04:12.023473Z"
    },
    "cell_style": "split",
    "hide_input": true,
    "scrolled": true
   },
   "outputs": [
    {
     "data": {
      "image/png": "[encoded data removed]",
      "text/plain": [
       "<Figure size 432x288 with 1 Axes>"
      ]
     },
     "metadata": {
      "needs_background": "light"
     },
     "output_type": "display_data"
    }
   ],
   "source": [
    "aux1 = df4[['driving_license','response']].groupby('driving_license').count().reset_index()\n",
    "g = sns.barplot(x = 'driving_license', y = 'response', data = aux1)\n",
    "g.set_title('Count Of Driving License',fontsize=15)\n",
    "\n",
    "# incluindo labels nas barras\n",
    "for i in g.containers:\n",
    "    g.bar_label(i, color='black', label_type= 'center',fontsize='medium',fmt='%.0f')"
   ]
  },
  {
   "cell_type": "code",
   "execution_count": 292,
   "id": "b09860ae",
   "metadata": {
    "ExecuteTime": {
     "end_time": "2022-10-22T23:04:12.291026Z",
     "start_time": "2022-10-22T23:04:12.167556Z"
    },
    "cell_style": "split",
    "hide_input": true
   },
   "outputs": [
    {
     "data": {
      "image/png": "[encoded data removed]",
      "text/plain": [
       "<Figure size 432x288 with 1 Axes>"
      ]
     },
     "metadata": {},
     "output_type": "display_data"
    }
   ],
   "source": [
    "# pie plot\n",
    "aux1 = pd.DataFrame(df4[['driving_license','response']].groupby('driving_license').sum()).reset_index()\n",
    "pie_chart(aux1,'driving_license',\"Driving License Interest\",'Driving License')"
   ]
  },
  {
   "cell_type": "markdown",
   "id": "4a9cffcc",
   "metadata": {
    "cell_style": "center",
    "hide_input": false
   },
   "source": [
    "#### 4.1.2.3 Region Code\n",
    "\n",
    "- No region code has a significant majority of interest"
   ]
  },
  {
   "cell_type": "code",
   "execution_count": 293,
   "id": "ad8a2810",
   "metadata": {
    "ExecuteTime": {
     "end_time": "2022-10-22T23:04:14.490455Z",
     "start_time": "2022-10-22T23:04:12.293032Z"
    },
    "cell_style": "center",
    "hide_input": true
   },
   "outputs": [
    {
     "data": {
      "image/png": "[encoded data removed]",
      "text/plain": [
       "<Figure size 1440x360 with 1 Axes>"
      ]
     },
     "metadata": {
      "needs_background": "light"
     },
     "output_type": "display_data"
    }
   ],
   "source": [
    "df_grouped = df4[[\"region_code\", \"response\"]].groupby('region_code').value_counts(normalize=True).unstack('response')\n",
    "g = df_grouped.plot.bar(stacked=True,figsize=(20,5));\n",
    "plt.title('Interest by Region Code',fontsize=15);"
   ]
  },
  {
   "cell_type": "markdown",
   "id": "3f9928eb",
   "metadata": {
    "hide_input": true
   },
   "source": [
    "#### 4.1.2.4 Previously Insured\n",
    "\n",
    "- Although the similar number of people previously and not previously car insured, the people that haven't previoulsly insurance are the most interested"
   ]
  },
  {
   "cell_type": "code",
   "execution_count": 294,
   "id": "b9d02ae4",
   "metadata": {
    "ExecuteTime": {
     "end_time": "2022-10-22T23:04:14.675969Z",
     "start_time": "2022-10-22T23:04:14.492355Z"
    },
    "cell_style": "split",
    "hide_input": true
   },
   "outputs": [
    {
     "data": {
      "image/png": "[encoded data removed]",
      "text/plain": [
       "<Figure size 432x288 with 1 Axes>"
      ]
     },
     "metadata": {
      "needs_background": "light"
     },
     "output_type": "display_data"
    }
   ],
   "source": [
    "aux1 = df4[['previously_insured','response']].groupby('previously_insured').count().reset_index()\n",
    "g = sns.barplot(x = 'previously_insured', y = 'response', data = aux1)\n",
    "g.set_title('Count of Previously Insured People',fontsize=15)\n",
    "\n",
    "# incluindo labels nas barras\n",
    "for i in g.containers:\n",
    "    g.bar_label(i, color='white', label_type= 'center',fontsize='medium',fmt='%.0f')"
   ]
  },
  {
   "cell_type": "code",
   "execution_count": 295,
   "id": "b2ab7321",
   "metadata": {
    "ExecuteTime": {
     "end_time": "2022-10-22T23:04:14.799470Z",
     "start_time": "2022-10-22T23:04:14.678960Z"
    },
    "cell_style": "split",
    "hide_input": true,
    "scrolled": true
   },
   "outputs": [
    {
     "data": {
      "image/png": "[encoded data removed]",
      "text/plain": [
       "<Figure size 432x288 with 1 Axes>"
      ]
     },
     "metadata": {},
     "output_type": "display_data"
    }
   ],
   "source": [
    "aux1 = pd.DataFrame(df4[['previously_insured','response']].groupby('previously_insured').sum()).reset_index()\n",
    "pie_chart(aux1,'previously_insured',\"Previously Insured Interest\",'Previousy')"
   ]
  },
  {
   "cell_type": "markdown",
   "id": "1f5af6c6",
   "metadata": {},
   "source": [
    "#### 4.1.2.5 Vericle Age\n",
    "\n",
    "- The majority of people has cars bellow 2 years old, but the more interested people has cars over 2 years"
   ]
  },
  {
   "cell_type": "code",
   "execution_count": 296,
   "id": "0d201062",
   "metadata": {
    "ExecuteTime": {
     "end_time": "2022-10-22T23:04:15.017639Z",
     "start_time": "2022-10-22T23:04:14.801465Z"
    },
    "cell_style": "split",
    "hide_input": true
   },
   "outputs": [
    {
     "data": {
      "image/png": "[encoded data removed]",
      "text/plain": [
       "<Figure size 432x288 with 1 Axes>"
      ]
     },
     "metadata": {
      "needs_background": "light"
     },
     "output_type": "display_data"
    }
   ],
   "source": [
    "aux1 = df4[[\"vehicle_age\", \"response\"]].groupby('vehicle_age').count().reset_index()\n",
    "g = sns.barplot(x = 'vehicle_age', y = 'response', data = aux1)\n",
    "g.set_title('Count Of Vehicle Age',fontsize=15)\n",
    "\n",
    "# incluindo labels nas barras\n",
    "for i in g.containers:\n",
    "    g.bar_label(i, color='white', label_type= 'center',fontsize='medium',fmt='%.0f')"
   ]
  },
  {
   "cell_type": "code",
   "execution_count": 297,
   "id": "40d64f52",
   "metadata": {
    "ExecuteTime": {
     "end_time": "2022-10-22T23:04:16.619870Z",
     "start_time": "2022-10-22T23:04:15.019542Z"
    },
    "cell_style": "split",
    "hide_input": true
   },
   "outputs": [
    {
     "data": {
      "image/png": "[encoded data removed]",
      "text/plain": [
       "<Figure size 720x360 with 1 Axes>"
      ]
     },
     "metadata": {
      "needs_background": "light"
     },
     "output_type": "display_data"
    }
   ],
   "source": [
    "# 'vehicle_age'\n",
    "df_grouped = df4[[\"vehicle_age\", \"response\"]].groupby('vehicle_age').value_counts(normalize=True).unstack('response')\n",
    "g = df_grouped.plot.bar(stacked=True,figsize=(10,5));\n",
    "g.set_title('Interest by Vehicle Age',fontsize=15)\n",
    "\n",
    "for i in g.containers:\n",
    "    g.bar_label(i, color='white', label_type= 'center',fontsize='medium',fmt='%.2f')"
   ]
  },
  {
   "cell_type": "markdown",
   "id": "c1a04ed8",
   "metadata": {
    "hide_input": false
   },
   "source": [
    "#### 4.1.2.6 Policy Sales Channel\n",
    "\n",
    "- Although the quantity diference of sales channel, no channel has the majority of the interest people"
   ]
  },
  {
   "cell_type": "code",
   "execution_count": 298,
   "id": "f9d537ff",
   "metadata": {
    "ExecuteTime": {
     "end_time": "2022-10-22T23:04:16.651957Z",
     "start_time": "2022-10-22T23:04:16.621830Z"
    },
    "hide_input": true
   },
   "outputs": [],
   "source": [
    "# policy_sales_channel\n",
    "aux0 = df4[['policy_sales_channel','response']].groupby('policy_sales_channel').sum().reset_index()\n",
    "aux1 = aux0[aux0['response'] > 40.0]### 4.1.6 Previously Insured"
   ]
  },
  {
   "cell_type": "code",
   "execution_count": 299,
   "id": "7aa9cba4",
   "metadata": {
    "ExecuteTime": {
     "end_time": "2022-10-22T23:04:18.857972Z",
     "start_time": "2022-10-22T23:04:16.654258Z"
    },
    "hide_input": true,
    "scrolled": true
   },
   "outputs": [
    {
     "data": {
      "image/png": "[encoded data removed]",
      "text/plain": [
       "<Figure size 1440x360 with 1 Axes>"
      ]
     },
     "metadata": {
      "needs_background": "light"
     },
     "output_type": "display_data"
    }
   ],
   "source": [
    "aux = df4[[\"policy_sales_channel\", \"response\"]].groupby('policy_sales_channel').sum().reset_index()\n",
    "aux = aux[aux['response'] > 40]\n",
    "\n",
    "# 'policy_sales_channel'\n",
    "aux2 = df4[df4['policy_sales_channel'].isin(aux['policy_sales_channel'])]\n",
    "df_grouped = aux2[[\"policy_sales_channel\", \"response\"]].groupby('policy_sales_channel').value_counts(normalize=True).unstack('response')\n",
    "df_grouped.plot.bar(stacked=True,figsize=(20,5));\n",
    "plt.title('Interest by Sales Channel',fontsize=15);"
   ]
  },
  {
   "cell_type": "code",
   "execution_count": 300,
   "id": "4c908574",
   "metadata": {
    "ExecuteTime": {
     "end_time": "2022-10-22T23:04:19.293005Z",
     "start_time": "2022-10-22T23:04:18.859564Z"
    },
    "hide_input": true,
    "scrolled": true
   },
   "outputs": [
    {
     "data": {
      "image/png": "[encoded data removed]",
      "text/plain": [
       "<Figure size 1440x360 with 1 Axes>"
      ]
     },
     "metadata": {
      "needs_background": "light"
     },
     "output_type": "display_data"
    }
   ],
   "source": [
    "fig = plt.figure(figsize=(20,5))\n",
    "aux = df4[[\"policy_sales_channel\", \"response\"]].groupby('policy_sales_channel').sum().reset_index()\n",
    "aux = aux[aux['response'] > 40]\n",
    "\n",
    "sns.barplot(data=aux,x='policy_sales_channel',y='response');\n",
    "plt.title('Count of Sales Channel',fontsize=15);"
   ]
  },
  {
   "cell_type": "markdown",
   "id": "c46516d2",
   "metadata": {
    "hide_input": true
   },
   "source": [
    "#### 4.1.2.7 Vehicle Damage\n",
    "\n",
    "- Although tha simular number of damage and not damage vehicles, people that are more interest has a vehicle damage in the past"
   ]
  },
  {
   "cell_type": "code",
   "execution_count": 301,
   "id": "22b484e2",
   "metadata": {
    "ExecuteTime": {
     "end_time": "2022-10-22T23:04:19.511276Z",
     "start_time": "2022-10-22T23:04:19.294623Z"
    },
    "cell_style": "split",
    "hide_input": true,
    "scrolled": false
   },
   "outputs": [
    {
     "data": {
      "image/png": "[encoded data removed]",
      "text/plain": [
       "<Figure size 432x288 with 1 Axes>"
      ]
     },
     "metadata": {
      "needs_background": "light"
     },
     "output_type": "display_data"
    }
   ],
   "source": [
    "# 'vehicle_damage'\n",
    "aux1 = df4[['vehicle_damage','response']].groupby('vehicle_damage').count().reset_index()\n",
    "g = sns.barplot(x = 'vehicle_damage', y = 'response', data = aux1)\n",
    "g.set_title('Count per Vehicle Damage')\n",
    "\n",
    "# incluindo labels nas barras\n",
    "for i in g.containers:\n",
    "    g.bar_label(i, color='white', label_type= 'center',fontsize='medium',fmt='%.2f')"
   ]
  },
  {
   "cell_type": "code",
   "execution_count": 302,
   "id": "d9af14f4",
   "metadata": {
    "ExecuteTime": {
     "end_time": "2022-10-22T23:04:19.697234Z",
     "start_time": "2022-10-22T23:04:19.513273Z"
    },
    "cell_style": "split",
    "hide_input": true,
    "scrolled": true
   },
   "outputs": [
    {
     "data": {
      "image/png": "[encoded data removed]",
      "text/plain": [
       "<Figure size 432x288 with 1 Axes>"
      ]
     },
     "metadata": {},
     "output_type": "display_data"
    }
   ],
   "source": [
    "# pie plot\n",
    "aux1 = pd.DataFrame(df4[['vehicle_damage','response']].groupby('vehicle_damage').sum()).reset_index()\n",
    "pie_chart(aux1,'vehicle_damage',\"Interest in Vehicle Damage\",'Vehicle Damage')"
   ]
  },
  {
   "cell_type": "markdown",
   "id": "5696b4a5",
   "metadata": {},
   "source": [
    "## 4.2. Bivariate Analysis"
   ]
  },
  {
   "cell_type": "markdown",
   "id": "93183530",
   "metadata": {},
   "source": [
    "### H1. Customers over 40 years old are 50% more interest in vehicle insurance\n",
    "\n",
    "- **False**, customer over 40 years old are 48% more interest in vehicle insurance than others"
   ]
  },
  {
   "cell_type": "code",
   "execution_count": 303,
   "id": "69e94123",
   "metadata": {
    "ExecuteTime": {
     "end_time": "2022-10-22T23:04:19.960665Z",
     "start_time": "2022-10-22T23:04:19.699282Z"
    },
    "cell_style": "split",
    "hide_input": true,
    "run_control": {
     "marked": true
    }
   },
   "outputs": [
    {
     "data": {
      "image/png": "[encoded data removed]",
      "text/plain": [
       "<Figure size 576x360 with 1 Axes>"
      ]
     },
     "metadata": {
      "needs_background": "light"
     },
     "output_type": "display_data"
    }
   ],
   "source": [
    "aux = df4[['age','response']].copy()\n",
    "aux['old'] = df4['age'].apply(lambda x: '+ 40 years' if x > 40 else '- 40 years')\n",
    "aux = aux[['old','response']].groupby('old').sum().reset_index().rename(columns={'response':'interest'})\n",
    "\n",
    "fig = plt.figure(figsize=(8,5))\n",
    "g = sns.barplot(x='old', y='interest', data=aux)\n",
    "plt.title('Customers Interested bellow and over 40 Years Old')\n",
    "\n",
    "for i in g.containers:\n",
    "    g.bar_label(i, color='white', label_type= 'center',fontsize='x-large',fmt='%.2f')"
   ]
  },
  {
   "cell_type": "code",
   "execution_count": 304,
   "id": "8ff0ec1a",
   "metadata": {
    "ExecuteTime": {
     "end_time": "2022-10-22T23:04:19.992188Z",
     "start_time": "2022-10-22T23:04:19.962589Z"
    },
    "cell_style": "split",
    "hide_input": true
   },
   "outputs": [
    {
     "data": {
      "text/html": [
       "<div>\n",
       "<style scoped>\n",
       "    .dataframe tbody tr th:only-of-type {\n",
       "        vertical-align: middle;\n",
       "    }\n",
       "\n",
       "    .dataframe tbody tr th {\n",
       "        vertical-align: top;\n",
       "    }\n",
       "\n",
       "    .dataframe thead th {\n",
       "        text-align: right;\n",
       "    }\n",
       "</style>\n",
       "<table border=\"1\" class=\"dataframe\">\n",
       "  <thead>\n",
       "    <tr style=\"text-align: right;\">\n",
       "      <th></th>\n",
       "      <th>old</th>\n",
       "      <th>interest</th>\n",
       "      <th>perc</th>\n",
       "      <th>diff</th>\n",
       "    </tr>\n",
       "  </thead>\n",
       "  <tbody>\n",
       "    <tr>\n",
       "      <th>0</th>\n",
       "      <td>+ 40 years</td>\n",
       "      <td>27930</td>\n",
       "      <td>59.79%</td>\n",
       "      <td>NaN</td>\n",
       "    </tr>\n",
       "    <tr>\n",
       "      <th>1</th>\n",
       "      <td>- 40 years</td>\n",
       "      <td>18780</td>\n",
       "      <td>40.21%</td>\n",
       "      <td>48.72</td>\n",
       "    </tr>\n",
       "  </tbody>\n",
       "</table>\n",
       "</div>"
      ],
      "text/plain": [
       "          old  interest    perc   diff\n",
       "0  + 40 years     27930  59.79%    NaN\n",
       "1  - 40 years     18780  40.21%  48.72"
      ]
     },
     "execution_count": 304,
     "metadata": {},
     "output_type": "execute_result"
    }
   ],
   "source": [
    "aux['perc'] = (round(aux['interest']/aux['interest'].sum()*100,2)).astype(str) + '%'\n",
    "aux['diff'] = aux['interest'].rolling(window=2).apply(lambda x: round((x.iloc[0])*100/x.iloc[1]-100,2))\n",
    "aux"
   ]
  },
  {
   "cell_type": "markdown",
   "id": "3cc23a44",
   "metadata": {},
   "source": [
    "### H2. Customer with a newer vehicle are 30% more interest in adquire the vericle insurance than customer with older cars\n",
    "\n",
    "- **False**, customer with newer vehicle are 81% less interest in adquive the insurance"
   ]
  },
  {
   "cell_type": "code",
   "execution_count": 305,
   "id": "5e12b2b4",
   "metadata": {
    "ExecuteTime": {
     "end_time": "2022-10-22T23:04:20.349055Z",
     "start_time": "2022-10-22T23:04:19.994085Z"
    },
    "cell_style": "split",
    "hide_input": true
   },
   "outputs": [
    {
     "data": {
      "image/png": "[encoded data removed]",
      "text/plain": [
       "<Figure size 576x360 with 1 Axes>"
      ]
     },
     "metadata": {
      "needs_background": "light"
     },
     "output_type": "display_data"
    }
   ],
   "source": [
    "aux = df4[['vehicle_age','response']].copy()\n",
    "aux['vehicle_age'] = aux['vehicle_age'].apply(lambda x: 'new vehicle' if x == 'bellow_1_year' else 'old_vehicle')\n",
    "aux = aux.groupby('vehicle_age').sum().reset_index().rename(columns={'response':'interest'})\n",
    "\n",
    "fig = plt.figure(figsize=(8,5))\n",
    "g = sns.barplot(x='vehicle_age', y='interest', data=aux)\n",
    "plt.title('Customers Interested by Vehicle Age')\n",
    "\n",
    "for i in g.containers:\n",
    "    g.bar_label(i, color='white', label_type= 'center',fontsize='x-large',fmt='%.0f')"
   ]
  },
  {
   "cell_type": "code",
   "execution_count": 306,
   "id": "c8adf6c9",
   "metadata": {
    "ExecuteTime": {
     "end_time": "2022-10-22T23:04:20.364778Z",
     "start_time": "2022-10-22T23:04:20.351814Z"
    },
    "cell_style": "split",
    "hide_input": true
   },
   "outputs": [
    {
     "data": {
      "text/html": [
       "<div>\n",
       "<style scoped>\n",
       "    .dataframe tbody tr th:only-of-type {\n",
       "        vertical-align: middle;\n",
       "    }\n",
       "\n",
       "    .dataframe tbody tr th {\n",
       "        vertical-align: top;\n",
       "    }\n",
       "\n",
       "    .dataframe thead th {\n",
       "        text-align: right;\n",
       "    }\n",
       "</style>\n",
       "<table border=\"1\" class=\"dataframe\">\n",
       "  <thead>\n",
       "    <tr style=\"text-align: right;\">\n",
       "      <th></th>\n",
       "      <th>vehicle_age</th>\n",
       "      <th>interest</th>\n",
       "      <th>perc</th>\n",
       "      <th>diff</th>\n",
       "    </tr>\n",
       "  </thead>\n",
       "  <tbody>\n",
       "    <tr>\n",
       "      <th>0</th>\n",
       "      <td>new vehicle</td>\n",
       "      <td>7202</td>\n",
       "      <td>15.42%</td>\n",
       "      <td>NaN</td>\n",
       "    </tr>\n",
       "    <tr>\n",
       "      <th>1</th>\n",
       "      <td>old_vehicle</td>\n",
       "      <td>39508</td>\n",
       "      <td>84.58%</td>\n",
       "      <td>-81.77</td>\n",
       "    </tr>\n",
       "  </tbody>\n",
       "</table>\n",
       "</div>"
      ],
      "text/plain": [
       "   vehicle_age  interest    perc   diff\n",
       "0  new vehicle      7202  15.42%    NaN\n",
       "1  old_vehicle     39508  84.58% -81.77"
      ]
     },
     "execution_count": 306,
     "metadata": {},
     "output_type": "execute_result"
    }
   ],
   "source": [
    "aux['perc'] = (round(aux['interest']/aux['interest'].sum()*100,2)).astype(str) + '%'\n",
    "aux['diff'] = aux['interest'].rolling(window=2).apply(lambda x: round((x.iloc[0])*100/x.iloc[1]-100,2))\n",
    "aux"
   ]
  },
  {
   "cell_type": "markdown",
   "id": "5eba1415",
   "metadata": {},
   "source": [
    "### H3. Customer with more days in relation with the company are more interest in adquire the vehicle insurance\n",
    "\n",
    "- **False**, as longer as the customer relationship with the company are, the lower is the interest"
   ]
  },
  {
   "cell_type": "code",
   "execution_count": 307,
   "id": "3582b972",
   "metadata": {
    "ExecuteTime": {
     "end_time": "2022-10-22T23:04:20.751795Z",
     "start_time": "2022-10-22T23:04:20.366773Z"
    },
    "hide_input": true
   },
   "outputs": [
    {
     "data": {
      "image/png": "[encoded data removed]",
      "text/plain": [
       "<Figure size 720x432 with 1 Axes>"
      ]
     },
     "metadata": {
      "needs_background": "light"
     },
     "output_type": "display_data"
    }
   ],
   "source": [
    "aux = df4[['vintage','response']].copy()\n",
    "aux = aux.groupby('vintage').sum().reset_index().rename(columns={'response':'interest'})\n",
    "\n",
    "fig = plt.figure(figsize=(10,6))\n",
    "sns.regplot(x='vintage', y='interest',data=aux);\n",
    "plt.xticks(rotation=90);\n",
    "plt.title('Tendence of Sales Per Promotion Time',fontsize=15)\n",
    "plt.tight_layout()"
   ]
  },
  {
   "cell_type": "markdown",
   "id": "91f8c53e",
   "metadata": {},
   "source": [
    "# 5.0 Data Preparation"
   ]
  },
  {
   "cell_type": "code",
   "execution_count": 308,
   "id": "a4596316",
   "metadata": {
    "ExecuteTime": {
     "end_time": "2022-10-22T23:04:20.782870Z",
     "start_time": "2022-10-22T23:04:20.753980Z"
    }
   },
   "outputs": [],
   "source": [
    "df5 = df4.copy()"
   ]
  },
  {
   "cell_type": "markdown",
   "id": "969d4d35",
   "metadata": {},
   "source": [
    "## 5.1 Split Datasets"
   ]
  },
  {
   "cell_type": "markdown",
   "id": "d5e1e267",
   "metadata": {},
   "source": [
    "### 5.1.1 Test and Training"
   ]
  },
  {
   "cell_type": "code",
   "execution_count": 309,
   "id": "cc4cd7c8",
   "metadata": {
    "ExecuteTime": {
     "end_time": "2022-10-22T23:04:20.998609Z",
     "start_time": "2022-10-22T23:04:20.785861Z"
    },
    "hide_input": false
   },
   "outputs": [],
   "source": [
    "X = df4.drop(['response'],axis=1)\n",
    "y = df4['response'].copy()\n",
    "\n",
    "X_train_raw, X_test_raw, Y_train_raw, Y_test_raw = ms.train_test_split(X, y, test_size=0.1)"
   ]
  },
  {
   "cell_type": "markdown",
   "id": "2a13ace1",
   "metadata": {},
   "source": [
    "### 5.1.2 Training and Validation"
   ]
  },
  {
   "cell_type": "code",
   "execution_count": 310,
   "id": "a287aa21",
   "metadata": {
    "ExecuteTime": {
     "end_time": "2022-10-22T23:04:21.247028Z",
     "start_time": "2022-10-22T23:04:21.003648Z"
    }
   },
   "outputs": [],
   "source": [
    "x_train, x_validation, y_train, y_validation = ms.train_test_split(X_train_raw, Y_train_raw, test_size=0.2)\n",
    "\n",
    "data_train = pd.concat([x_train, y_train], axis=1)"
   ]
  },
  {
   "cell_type": "code",
   "execution_count": 311,
   "id": "38ea5a66",
   "metadata": {
    "ExecuteTime": {
     "end_time": "2022-10-22T23:04:24.112275Z",
     "start_time": "2022-10-22T23:04:21.251066Z"
    },
    "hide_input": false
   },
   "outputs": [
    {
     "name": "stdout",
     "output_type": "stream",
     "text": [
      "Total Dimension:            381109\n",
      "Training Dataset Dimension: 342998 (90.0%)\n",
      "Test Dataset Dimension:     38111 (10.0%)\n",
      "\n",
      "Training Dataset Dimension:         342998\n",
      "Training Model Dataset Dimension:   274398 (80.0%)\n",
      "Validation Model Dataset Dimension: 68600 (20.0%)\n"
     ]
    }
   ],
   "source": [
    "print('Total Dimension:            {}'.format(X.shape[0]))\n",
    "print('Training Dataset Dimension: {} ({}%)'.format(X_train_raw.shape[0],round((X_train_raw.shape[0]/X.shape[0])*100,2)))\n",
    "print('Test Dataset Dimension:     {} ({}%)\\n'.format(X_test_raw.shape[0],round((X_test_raw.shape[0]/X.shape[0])*100,2)))\n",
    "\n",
    "print('Training Dataset Dimension:         {}'.format(X_train_raw.shape[0]))\n",
    "print('Training Model Dataset Dimension:   {} ({}%)'.format(x_train.shape[0],round((x_train.shape[0]/X_train_raw.shape[0])*100,2)))\n",
    "print('Validation Model Dataset Dimension: {} ({}%)'.format(x_validation.shape[0],round((x_validation.shape[0]/X_train_raw.shape[0])*100,2)))"
   ]
  },
  {
   "cell_type": "markdown",
   "id": "927bfe38",
   "metadata": {},
   "source": [
    "## 5.2 Standardization"
   ]
  },
  {
   "cell_type": "code",
   "execution_count": 312,
   "id": "0f596374",
   "metadata": {
    "ExecuteTime": {
     "end_time": "2022-10-22T23:04:24.205484Z",
     "start_time": "2022-10-22T23:04:24.114288Z"
    }
   },
   "outputs": [],
   "source": [
    "ss = pp.StandardScaler()\n",
    "\n",
    "## annual_premium\n",
    "data_train['annual_premium'] = ss.fit_transform(data_train[['annual_premium']].values)\n",
    "pickle.dump(ss,open('C:\\\\Users\\\\Notebook\\\\repos\\\\Insurance-Cross-Sell\\\\src\\\\features\\\\annual_premium_scaler.pkl','wb'))"
   ]
  },
  {
   "cell_type": "markdown",
   "id": "ff3be51a",
   "metadata": {},
   "source": [
    "## 5.3 Rescaling"
   ]
  },
  {
   "cell_type": "code",
   "execution_count": 313,
   "id": "06b631ba",
   "metadata": {
    "ExecuteTime": {
     "end_time": "2022-10-22T23:04:24.252608Z",
     "start_time": "2022-10-22T23:04:24.207446Z"
    }
   },
   "outputs": [],
   "source": [
    "mms_age = pp.MinMaxScaler()\n",
    "mms_vintage = pp.MinMaxScaler()\n",
    "\n",
    "## age\n",
    "data_train['age'] = mms_age.fit_transform( data_train[['age']].values )\n",
    "pickle.dump(mms_age,open('C:\\\\Users\\\\Notebook\\\\repos\\\\Insurance-Cross-Sell\\\\src\\\\features\\\\age_scaler.pkl','wb'))\n",
    "\n",
    "## vintage\n",
    "data_train['vintage'] = mms_vintage.fit_transform( data_train[['vintage']].values )\n",
    "pickle.dump(mms_vintage,open('C:\\\\Users\\\\Notebook\\\\repos\\\\Insurance-Cross-Sell\\\\src\\\\features\\\\vintage_scaler.pkl','wb'))"
   ]
  },
  {
   "cell_type": "markdown",
   "id": "5505997c",
   "metadata": {},
   "source": [
    "## 5.4 Encoder"
   ]
  },
  {
   "cell_type": "markdown",
   "id": "6faa3eea",
   "metadata": {},
   "source": [
    "### 5.4.1 One Hot Enconding"
   ]
  },
  {
   "cell_type": "code",
   "execution_count": 314,
   "id": "f3947289",
   "metadata": {
    "ExecuteTime": {
     "end_time": "2022-10-22T23:04:24.391260Z",
     "start_time": "2022-10-22T23:04:24.254572Z"
    }
   },
   "outputs": [],
   "source": [
    "## vehicle_age\n",
    "data_train = pd.get_dummies(data_train, prefix='vehicle_age',columns=['vehicle_age'])"
   ]
  },
  {
   "cell_type": "markdown",
   "id": "ee3fad1c",
   "metadata": {},
   "source": [
    "### 5.4.2 Target Enconding"
   ]
  },
  {
   "cell_type": "code",
   "execution_count": 315,
   "id": "f758279f",
   "metadata": {
    "ExecuteTime": {
     "end_time": "2022-10-22T23:04:24.732295Z",
     "start_time": "2022-10-22T23:04:24.393203Z"
    }
   },
   "outputs": [],
   "source": [
    "# gender \n",
    "target_encode_gender = data_train.groupby('gender')['response'].mean()\n",
    "data_train.loc[:,'gender'] = data_train['gender'].map(target_encode_gender)\n",
    "pickle.dump(target_encode_gender,open('C:\\\\Users\\\\Notebook\\\\repos\\\\Insurance-Cross-Sell\\\\src\\\\features\\\\gender_scaler.pkl','wb'))\n",
    "\n",
    "# region_code \n",
    "target_encode_region_code = data_train.groupby('region_code')['response'].mean()\n",
    "data_train.loc[:,'region_code'] = data_train['region_code'].map(target_encode_region_code)\n",
    "pickle.dump(target_encode_region_code,open('C:\\\\Users\\\\Notebook\\\\repos\\\\Insurance-Cross-Sell\\\\src\\\\features\\\\region_code_scaler.pkl','wb'))\n",
    "\n",
    "# vehicle damage\n",
    "target_encode_vehicle_damage = data_train.groupby('vehicle_damage')['response'].mean()\n",
    "data_train.loc[:,'vehicle_damage'] = data_train['vehicle_damage'].map(target_encode_vehicle_damage)\n",
    "pickle.dump(target_encode_vehicle_damage,open('C:\\\\Users\\\\Notebook\\\\repos\\\\Insurance-Cross-Sell\\\\src\\\\features\\\\vehicle_damage_scaler.pkl','wb'))"
   ]
  },
  {
   "cell_type": "markdown",
   "id": "ad5a93f4",
   "metadata": {},
   "source": [
    "### 5.4.3 Frequency Enconding"
   ]
  },
  {
   "cell_type": "code",
   "execution_count": 316,
   "id": "5238f781",
   "metadata": {
    "ExecuteTime": {
     "end_time": "2022-10-22T23:04:24.779766Z",
     "start_time": "2022-10-22T23:04:24.735880Z"
    }
   },
   "outputs": [],
   "source": [
    "## policy_sales_channel \n",
    "fe_policy_sales_channel = data_train.groupby('policy_sales_channel').size()/len(data_train)\n",
    "data_train.loc[:,'policy_sales_channel'] = data_train['policy_sales_channel'].map(fe_policy_sales_channel)\n",
    "pickle.dump(fe_policy_sales_channel,open('C:\\\\Users\\\\Notebook\\\\repos\\\\Insurance-Cross-Sell\\\\src\\\\features\\\\policy_sales_channel_scaler.pkl','wb'))"
   ]
  },
  {
   "cell_type": "code",
   "execution_count": 317,
   "id": "b2b060d0",
   "metadata": {
    "ExecuteTime": {
     "end_time": "2022-10-22T23:04:24.810684Z",
     "start_time": "2022-10-22T23:04:24.782758Z"
    }
   },
   "outputs": [
    {
     "data": {
      "text/html": [
       "<div>\n",
       "<style scoped>\n",
       "    .dataframe tbody tr th:only-of-type {\n",
       "        vertical-align: middle;\n",
       "    }\n",
       "\n",
       "    .dataframe tbody tr th {\n",
       "        vertical-align: top;\n",
       "    }\n",
       "\n",
       "    .dataframe thead th {\n",
       "        text-align: right;\n",
       "    }\n",
       "</style>\n",
       "<table border=\"1\" class=\"dataframe\">\n",
       "  <thead>\n",
       "    <tr style=\"text-align: right;\">\n",
       "      <th></th>\n",
       "      <th>id</th>\n",
       "      <th>gender</th>\n",
       "      <th>age</th>\n",
       "      <th>region_code</th>\n",
       "      <th>policy_sales_channel</th>\n",
       "      <th>driving_license</th>\n",
       "      <th>vehicle_damage</th>\n",
       "      <th>previously_insured</th>\n",
       "      <th>annual_premium</th>\n",
       "      <th>vintage</th>\n",
       "      <th>response</th>\n",
       "      <th>vehicle_age_bellow_1_year</th>\n",
       "      <th>vehicle_age_between_1_2_year</th>\n",
       "      <th>vehicle_age_over_2_years</th>\n",
       "    </tr>\n",
       "  </thead>\n",
       "  <tbody>\n",
       "    <tr>\n",
       "      <th>222867</th>\n",
       "      <td>256498</td>\n",
       "      <td>0.138253</td>\n",
       "      <td>0.476923</td>\n",
       "      <td>0.128274</td>\n",
       "      <td>0.209291</td>\n",
       "      <td>1</td>\n",
       "      <td>0.005240</td>\n",
       "      <td>1</td>\n",
       "      <td>-0.070589</td>\n",
       "      <td>0.245675</td>\n",
       "      <td>0</td>\n",
       "      <td>0</td>\n",
       "      <td>1</td>\n",
       "      <td>0</td>\n",
       "    </tr>\n",
       "    <tr>\n",
       "      <th>172073</th>\n",
       "      <td>232160</td>\n",
       "      <td>0.138253</td>\n",
       "      <td>0.400000</td>\n",
       "      <td>0.120598</td>\n",
       "      <td>0.209291</td>\n",
       "      <td>1</td>\n",
       "      <td>0.237299</td>\n",
       "      <td>0</td>\n",
       "      <td>-1.628662</td>\n",
       "      <td>0.698962</td>\n",
       "      <td>0</td>\n",
       "      <td>0</td>\n",
       "      <td>1</td>\n",
       "      <td>0</td>\n",
       "    </tr>\n",
       "    <tr>\n",
       "      <th>238211</th>\n",
       "      <td>378848</td>\n",
       "      <td>0.138253</td>\n",
       "      <td>0.723077</td>\n",
       "      <td>0.186240</td>\n",
       "      <td>0.193904</td>\n",
       "      <td>1</td>\n",
       "      <td>0.237299</td>\n",
       "      <td>0</td>\n",
       "      <td>-0.157103</td>\n",
       "      <td>0.896194</td>\n",
       "      <td>1</td>\n",
       "      <td>0</td>\n",
       "      <td>1</td>\n",
       "      <td>0</td>\n",
       "    </tr>\n",
       "    <tr>\n",
       "      <th>47606</th>\n",
       "      <td>379697</td>\n",
       "      <td>0.103681</td>\n",
       "      <td>0.338462</td>\n",
       "      <td>0.186651</td>\n",
       "      <td>0.193904</td>\n",
       "      <td>1</td>\n",
       "      <td>0.237299</td>\n",
       "      <td>0</td>\n",
       "      <td>0.472430</td>\n",
       "      <td>0.647059</td>\n",
       "      <td>0</td>\n",
       "      <td>0</td>\n",
       "      <td>1</td>\n",
       "      <td>0</td>\n",
       "    </tr>\n",
       "    <tr>\n",
       "      <th>123174</th>\n",
       "      <td>221364</td>\n",
       "      <td>0.138253</td>\n",
       "      <td>0.523077</td>\n",
       "      <td>0.186651</td>\n",
       "      <td>0.003218</td>\n",
       "      <td>1</td>\n",
       "      <td>0.005240</td>\n",
       "      <td>1</td>\n",
       "      <td>-1.628662</td>\n",
       "      <td>0.975779</td>\n",
       "      <td>0</td>\n",
       "      <td>0</td>\n",
       "      <td>1</td>\n",
       "      <td>0</td>\n",
       "    </tr>\n",
       "  </tbody>\n",
       "</table>\n",
       "</div>"
      ],
      "text/plain": [
       "            id    gender       age  region_code  policy_sales_channel  driving_license  vehicle_damage  previously_insured  annual_premium   vintage  response  vehicle_age_bellow_1_year  vehicle_age_between_1_2_year  vehicle_age_over_2_years\n",
       "222867  256498  0.138253  0.476923     0.128274              0.209291                1        0.005240                   1       -0.070589  0.245675         0                          0                             1                         0\n",
       "172073  232160  0.138253  0.400000     0.120598              0.209291                1        0.237299                   0       -1.628662  0.698962         0                          0                             1                         0\n",
       "238211  378848  0.138253  0.723077     0.186240              0.193904                1        0.237299                   0       -0.157103  0.896194         1                          0                             1                         0\n",
       "47606   379697  0.103681  0.338462     0.186651              0.193904                1        0.237299                   0        0.472430  0.647059         0                          0                             1                         0\n",
       "123174  221364  0.138253  0.523077     0.186651              0.003218                1        0.005240                   1       -1.628662  0.975779         0                          0                             1                         0"
      ]
     },
     "execution_count": 317,
     "metadata": {},
     "output_type": "execute_result"
    }
   ],
   "source": [
    "data_train.head()"
   ]
  },
  {
   "cell_type": "markdown",
   "id": "6bd2be18",
   "metadata": {},
   "source": [
    "## 5.5 Validation Preparation"
   ]
  },
  {
   "cell_type": "code",
   "execution_count": 318,
   "id": "53d8b355",
   "metadata": {
    "ExecuteTime": {
     "end_time": "2022-10-22T23:04:24.825644Z",
     "start_time": "2022-10-22T23:04:24.813211Z"
    }
   },
   "outputs": [
    {
     "data": {
      "text/html": [
       "<div>\n",
       "<style scoped>\n",
       "    .dataframe tbody tr th:only-of-type {\n",
       "        vertical-align: middle;\n",
       "    }\n",
       "\n",
       "    .dataframe tbody tr th {\n",
       "        vertical-align: top;\n",
       "    }\n",
       "\n",
       "    .dataframe thead th {\n",
       "        text-align: right;\n",
       "    }\n",
       "</style>\n",
       "<table border=\"1\" class=\"dataframe\">\n",
       "  <thead>\n",
       "    <tr style=\"text-align: right;\">\n",
       "      <th></th>\n",
       "      <th>id</th>\n",
       "      <th>gender</th>\n",
       "      <th>age</th>\n",
       "      <th>region_code</th>\n",
       "      <th>policy_sales_channel</th>\n",
       "      <th>driving_license</th>\n",
       "      <th>vehicle_age</th>\n",
       "      <th>vehicle_damage</th>\n",
       "      <th>previously_insured</th>\n",
       "      <th>annual_premium</th>\n",
       "      <th>vintage</th>\n",
       "    </tr>\n",
       "  </thead>\n",
       "  <tbody>\n",
       "    <tr>\n",
       "      <th>99937</th>\n",
       "      <td>34778</td>\n",
       "      <td>Female</td>\n",
       "      <td>24</td>\n",
       "      <td>18</td>\n",
       "      <td>152</td>\n",
       "      <td>1</td>\n",
       "      <td>bellow_1_year</td>\n",
       "      <td>No</td>\n",
       "      <td>1</td>\n",
       "      <td>24506.0</td>\n",
       "      <td>196</td>\n",
       "    </tr>\n",
       "    <tr>\n",
       "      <th>281016</th>\n",
       "      <td>339759</td>\n",
       "      <td>Male</td>\n",
       "      <td>22</td>\n",
       "      <td>18</td>\n",
       "      <td>152</td>\n",
       "      <td>1</td>\n",
       "      <td>bellow_1_year</td>\n",
       "      <td>Yes</td>\n",
       "      <td>0</td>\n",
       "      <td>43672.0</td>\n",
       "      <td>258</td>\n",
       "    </tr>\n",
       "    <tr>\n",
       "      <th>229632</th>\n",
       "      <td>309548</td>\n",
       "      <td>Female</td>\n",
       "      <td>22</td>\n",
       "      <td>8</td>\n",
       "      <td>160</td>\n",
       "      <td>1</td>\n",
       "      <td>bellow_1_year</td>\n",
       "      <td>No</td>\n",
       "      <td>1</td>\n",
       "      <td>33502.0</td>\n",
       "      <td>91</td>\n",
       "    </tr>\n",
       "    <tr>\n",
       "      <th>131878</th>\n",
       "      <td>292237</td>\n",
       "      <td>Female</td>\n",
       "      <td>77</td>\n",
       "      <td>3</td>\n",
       "      <td>26</td>\n",
       "      <td>1</td>\n",
       "      <td>between_1_2_year</td>\n",
       "      <td>No</td>\n",
       "      <td>1</td>\n",
       "      <td>35334.0</td>\n",
       "      <td>166</td>\n",
       "    </tr>\n",
       "    <tr>\n",
       "      <th>157347</th>\n",
       "      <td>113703</td>\n",
       "      <td>Male</td>\n",
       "      <td>53</td>\n",
       "      <td>12</td>\n",
       "      <td>26</td>\n",
       "      <td>1</td>\n",
       "      <td>between_1_2_year</td>\n",
       "      <td>Yes</td>\n",
       "      <td>0</td>\n",
       "      <td>31923.0</td>\n",
       "      <td>157</td>\n",
       "    </tr>\n",
       "  </tbody>\n",
       "</table>\n",
       "</div>"
      ],
      "text/plain": [
       "            id  gender  age  region_code  policy_sales_channel  driving_license       vehicle_age vehicle_damage  previously_insured  annual_premium  vintage\n",
       "99937    34778  Female   24           18                   152                1     bellow_1_year             No                   1         24506.0      196\n",
       "281016  339759    Male   22           18                   152                1     bellow_1_year            Yes                   0         43672.0      258\n",
       "229632  309548  Female   22            8                   160                1     bellow_1_year             No                   1         33502.0       91\n",
       "131878  292237  Female   77            3                    26                1  between_1_2_year             No                   1         35334.0      166\n",
       "157347  113703    Male   53           12                    26                1  between_1_2_year            Yes                   0         31923.0      157"
      ]
     },
     "execution_count": 318,
     "metadata": {},
     "output_type": "execute_result"
    }
   ],
   "source": [
    "x_validation.head()"
   ]
  },
  {
   "cell_type": "code",
   "execution_count": 319,
   "id": "58070db9",
   "metadata": {
    "ExecuteTime": {
     "end_time": "2022-10-22T23:04:24.841430Z",
     "start_time": "2022-10-22T23:04:24.826642Z"
    }
   },
   "outputs": [],
   "source": [
    "dict_preparation = {\n",
    "    'STANDARIZATION':{\n",
    "        'annual_premium':ss\n",
    "    },\n",
    "    'RESCALING': {\n",
    "        'min_max_scaler':{\n",
    "            'age':    mms_age,\n",
    "            'vintage':mms_vintage\n",
    "        }\n",
    "    },\n",
    "    'ENCONDING':{\n",
    "        'one_hot_enconding':{\n",
    "            'vehicle_age':'vehicle_age'\n",
    "        },\n",
    "        'target_enconding':{\n",
    "            'gender':         target_encode_gender,\n",
    "            'region_code':    target_encode_region_code,\n",
    "            'vehicle_damage': target_encode_vehicle_damage\n",
    "        },\n",
    "        'frequency_encoding':{\n",
    "            'policy_sales_channel':fe_policy_sales_channel\n",
    "        }\n",
    "    }\n",
    "}"
   ]
  },
  {
   "cell_type": "code",
   "execution_count": 320,
   "id": "58bee3d3",
   "metadata": {
    "ExecuteTime": {
     "end_time": "2022-10-22T23:04:24.856390Z",
     "start_time": "2022-10-22T23:04:24.843426Z"
    }
   },
   "outputs": [],
   "source": [
    "def data_preparation(data,dict_preparation):\n",
    "    for att in list(dict_preparation['STANDARIZATION'].keys()):\n",
    "        std = dict_preparation['STANDARIZATION'][att]\n",
    "        data.loc[:,att] = std.transform(data[[att]].values)\n",
    "\n",
    "    for type_encode in list(dict_preparation['RESCALING'].keys()):\n",
    "        for att in list(dict_preparation['RESCALING'][type_encode].keys()):\n",
    "            std = dict_preparation['RESCALING'][type_encode][att]\n",
    "            data.loc[:,att] = std.transform(data[[att]].values)\n",
    "\n",
    "    for type_encode in list(dict_preparation['ENCONDING'].keys()):\n",
    "        for att in list(dict_preparation['ENCONDING'][type_encode].keys()):\n",
    "            if type_encode == 'one_hot_enconding':\n",
    "                prefix = dict_preparation['ENCONDING'][type_encode][att]\n",
    "                columns = dict_preparation['ENCONDING'][type_encode][att]\n",
    "                data = pd.get_dummies(data, prefix = prefix,columns=[columns])\n",
    "            else:\n",
    "                std = dict_preparation['ENCONDING'][type_encode][att]\n",
    "                data.loc[:,att] = data.loc[:,att].map(std)\n",
    "                \n",
    "    # fillna\n",
    "    data = data.fillna(0)\n",
    "                \n",
    "    return data"
   ]
  },
  {
   "cell_type": "code",
   "execution_count": 321,
   "id": "fb8f0bf0",
   "metadata": {
    "ExecuteTime": {
     "end_time": "2022-10-22T23:04:24.980823Z",
     "start_time": "2022-10-22T23:04:24.858408Z"
    }
   },
   "outputs": [],
   "source": [
    "x_validation = data_preparation(x_validation,dict_preparation)"
   ]
  },
  {
   "cell_type": "code",
   "execution_count": 322,
   "id": "ecfae931",
   "metadata": {
    "ExecuteTime": {
     "end_time": "2022-10-22T23:04:24.995880Z",
     "start_time": "2022-10-22T23:04:24.982820Z"
    }
   },
   "outputs": [
    {
     "data": {
      "text/html": [
       "<div>\n",
       "<style scoped>\n",
       "    .dataframe tbody tr th:only-of-type {\n",
       "        vertical-align: middle;\n",
       "    }\n",
       "\n",
       "    .dataframe tbody tr th {\n",
       "        vertical-align: top;\n",
       "    }\n",
       "\n",
       "    .dataframe thead th {\n",
       "        text-align: right;\n",
       "    }\n",
       "</style>\n",
       "<table border=\"1\" class=\"dataframe\">\n",
       "  <thead>\n",
       "    <tr style=\"text-align: right;\">\n",
       "      <th></th>\n",
       "      <th>id</th>\n",
       "      <th>gender</th>\n",
       "      <th>age</th>\n",
       "      <th>region_code</th>\n",
       "      <th>policy_sales_channel</th>\n",
       "      <th>driving_license</th>\n",
       "      <th>vehicle_damage</th>\n",
       "      <th>previously_insured</th>\n",
       "      <th>annual_premium</th>\n",
       "      <th>vintage</th>\n",
       "      <th>vehicle_age_bellow_1_year</th>\n",
       "      <th>vehicle_age_between_1_2_year</th>\n",
       "      <th>vehicle_age_over_2_years</th>\n",
       "    </tr>\n",
       "  </thead>\n",
       "  <tbody>\n",
       "    <tr>\n",
       "      <th>99937</th>\n",
       "      <td>34778</td>\n",
       "      <td>0.103681</td>\n",
       "      <td>0.061538</td>\n",
       "      <td>0.130866</td>\n",
       "      <td>0.353541</td>\n",
       "      <td>1</td>\n",
       "      <td>0.005240</td>\n",
       "      <td>1</td>\n",
       "      <td>-0.351614</td>\n",
       "      <td>0.643599</td>\n",
       "      <td>1</td>\n",
       "      <td>0</td>\n",
       "      <td>0</td>\n",
       "    </tr>\n",
       "    <tr>\n",
       "      <th>281016</th>\n",
       "      <td>339759</td>\n",
       "      <td>0.138253</td>\n",
       "      <td>0.030769</td>\n",
       "      <td>0.130866</td>\n",
       "      <td>0.353541</td>\n",
       "      <td>1</td>\n",
       "      <td>0.237299</td>\n",
       "      <td>0</td>\n",
       "      <td>0.767233</td>\n",
       "      <td>0.858131</td>\n",
       "      <td>1</td>\n",
       "      <td>0</td>\n",
       "      <td>0</td>\n",
       "    </tr>\n",
       "    <tr>\n",
       "      <th>229632</th>\n",
       "      <td>309548</td>\n",
       "      <td>0.103681</td>\n",
       "      <td>0.030769</td>\n",
       "      <td>0.096493</td>\n",
       "      <td>0.057391</td>\n",
       "      <td>1</td>\n",
       "      <td>0.005240</td>\n",
       "      <td>1</td>\n",
       "      <td>0.173542</td>\n",
       "      <td>0.280277</td>\n",
       "      <td>1</td>\n",
       "      <td>0</td>\n",
       "      <td>0</td>\n",
       "    </tr>\n",
       "    <tr>\n",
       "      <th>131878</th>\n",
       "      <td>292237</td>\n",
       "      <td>0.103681</td>\n",
       "      <td>0.876923</td>\n",
       "      <td>0.127914</td>\n",
       "      <td>0.209291</td>\n",
       "      <td>1</td>\n",
       "      <td>0.005240</td>\n",
       "      <td>1</td>\n",
       "      <td>0.280488</td>\n",
       "      <td>0.539792</td>\n",
       "      <td>0</td>\n",
       "      <td>1</td>\n",
       "      <td>0</td>\n",
       "    </tr>\n",
       "    <tr>\n",
       "      <th>157347</th>\n",
       "      <td>113703</td>\n",
       "      <td>0.138253</td>\n",
       "      <td>0.507692</td>\n",
       "      <td>0.097326</td>\n",
       "      <td>0.209291</td>\n",
       "      <td>1</td>\n",
       "      <td>0.237299</td>\n",
       "      <td>0</td>\n",
       "      <td>0.081365</td>\n",
       "      <td>0.508651</td>\n",
       "      <td>0</td>\n",
       "      <td>1</td>\n",
       "      <td>0</td>\n",
       "    </tr>\n",
       "  </tbody>\n",
       "</table>\n",
       "</div>"
      ],
      "text/plain": [
       "            id    gender       age  region_code  policy_sales_channel  driving_license  vehicle_damage  previously_insured  annual_premium   vintage  vehicle_age_bellow_1_year  vehicle_age_between_1_2_year  vehicle_age_over_2_years\n",
       "99937    34778  0.103681  0.061538     0.130866              0.353541                1        0.005240                   1       -0.351614  0.643599                          1                             0                         0\n",
       "281016  339759  0.138253  0.030769     0.130866              0.353541                1        0.237299                   0        0.767233  0.858131                          1                             0                         0\n",
       "229632  309548  0.103681  0.030769     0.096493              0.057391                1        0.005240                   1        0.173542  0.280277                          1                             0                         0\n",
       "131878  292237  0.103681  0.876923     0.127914              0.209291                1        0.005240                   1        0.280488  0.539792                          0                             1                         0\n",
       "157347  113703  0.138253  0.507692     0.097326              0.209291                1        0.237299                   0        0.081365  0.508651                          0                             1                         0"
      ]
     },
     "execution_count": 322,
     "metadata": {},
     "output_type": "execute_result"
    }
   ],
   "source": [
    "x_validation.head()"
   ]
  },
  {
   "cell_type": "markdown",
   "id": "d1714c11",
   "metadata": {},
   "source": [
    "# 6.0 Feature Selection"
   ]
  },
  {
   "cell_type": "markdown",
   "id": "2ae80f3f",
   "metadata": {},
   "source": [
    "## 6.1 Feature Importance"
   ]
  },
  {
   "cell_type": "code",
   "execution_count": 323,
   "id": "d5f4b9a7",
   "metadata": {
    "ExecuteTime": {
     "end_time": "2022-10-22T23:04:57.630647Z",
     "start_time": "2022-10-22T23:04:24.997875Z"
    },
    "cell_style": "split"
   },
   "outputs": [
    {
     "name": "stdout",
     "output_type": "stream",
     "text": [
      "Feature ranking\n"
     ]
    },
    {
     "data": {
      "text/html": [
       "<div>\n",
       "<style scoped>\n",
       "    .dataframe tbody tr th:only-of-type {\n",
       "        vertical-align: middle;\n",
       "    }\n",
       "\n",
       "    .dataframe tbody tr th {\n",
       "        vertical-align: top;\n",
       "    }\n",
       "\n",
       "    .dataframe thead th {\n",
       "        text-align: right;\n",
       "    }\n",
       "</style>\n",
       "<table border=\"1\" class=\"dataframe\">\n",
       "  <thead>\n",
       "    <tr style=\"text-align: right;\">\n",
       "      <th></th>\n",
       "      <th>feature</th>\n",
       "      <th>importance</th>\n",
       "    </tr>\n",
       "  </thead>\n",
       "  <tbody>\n",
       "    <tr>\n",
       "      <th>0</th>\n",
       "      <td>vintage</td>\n",
       "      <td>0.272952</td>\n",
       "    </tr>\n",
       "    <tr>\n",
       "      <th>0</th>\n",
       "      <td>annual_premium</td>\n",
       "      <td>0.242334</td>\n",
       "    </tr>\n",
       "    <tr>\n",
       "      <th>0</th>\n",
       "      <td>age</td>\n",
       "      <td>0.164378</td>\n",
       "    </tr>\n",
       "    <tr>\n",
       "      <th>0</th>\n",
       "      <td>region_code</td>\n",
       "      <td>0.107444</td>\n",
       "    </tr>\n",
       "    <tr>\n",
       "      <th>0</th>\n",
       "      <td>vehicle_damage</td>\n",
       "      <td>0.067671</td>\n",
       "    </tr>\n",
       "    <tr>\n",
       "      <th>0</th>\n",
       "      <td>policy_sales_channel</td>\n",
       "      <td>0.060212</td>\n",
       "    </tr>\n",
       "    <tr>\n",
       "      <th>0</th>\n",
       "      <td>previously_insured</td>\n",
       "      <td>0.056467</td>\n",
       "    </tr>\n",
       "    <tr>\n",
       "      <th>0</th>\n",
       "      <td>vehicle_age_bellow_1_year</td>\n",
       "      <td>0.013908</td>\n",
       "    </tr>\n",
       "    <tr>\n",
       "      <th>0</th>\n",
       "      <td>vehicle_age_between_1_2_year</td>\n",
       "      <td>0.006430</td>\n",
       "    </tr>\n",
       "    <tr>\n",
       "      <th>0</th>\n",
       "      <td>gender</td>\n",
       "      <td>0.005178</td>\n",
       "    </tr>\n",
       "    <tr>\n",
       "      <th>0</th>\n",
       "      <td>vehicle_age_over_2_years</td>\n",
       "      <td>0.002514</td>\n",
       "    </tr>\n",
       "    <tr>\n",
       "      <th>0</th>\n",
       "      <td>driving_license</td>\n",
       "      <td>0.000513</td>\n",
       "    </tr>\n",
       "  </tbody>\n",
       "</table>\n",
       "</div>"
      ],
      "text/plain": [
       "                        feature  importance\n",
       "0                       vintage    0.272952\n",
       "0                annual_premium    0.242334\n",
       "0                           age    0.164378\n",
       "0                   region_code    0.107444\n",
       "0                vehicle_damage    0.067671\n",
       "0          policy_sales_channel    0.060212\n",
       "0            previously_insured    0.056467\n",
       "0     vehicle_age_bellow_1_year    0.013908\n",
       "0  vehicle_age_between_1_2_year    0.006430\n",
       "0                        gender    0.005178\n",
       "0      vehicle_age_over_2_years    0.002514\n",
       "0               driving_license    0.000513"
      ]
     },
     "execution_count": 323,
     "metadata": {},
     "output_type": "execute_result"
    }
   ],
   "source": [
    "# model definition\n",
    "forest = en.ExtraTreesClassifier(n_estimators=250, random_state=0, n_jobs=-1)\n",
    "\n",
    "x_train_n = data_train.drop(['id', 'response'], axis=1)\n",
    "y_train_n = y_train.values\n",
    "forest.fit(x_train_n, y_train_n)\n",
    "\n",
    "# Print the feature ranking\n",
    "print('Feature ranking')\n",
    "df = pd.DataFrame()\n",
    "for i, j in zip(x_train_n.columns, forest.feature_importances_):\n",
    "    aux = pd.DataFrame({'feature': i, 'importance': j},index=[0])\n",
    "    df= pd.concat([df, aux], axis=0)\n",
    "\n",
    "df = df.sort_values('importance',ascending=False)\n",
    "df"
   ]
  },
  {
   "cell_type": "code",
   "execution_count": 324,
   "id": "19a6c106",
   "metadata": {
    "ExecuteTime": {
     "end_time": "2022-10-22T23:04:58.451280Z",
     "start_time": "2022-10-22T23:04:57.656578Z"
    },
    "cell_style": "split"
   },
   "outputs": [
    {
     "data": {
      "image/png": "[encoded data removed]",
      "text/plain": [
       "<Figure size 1080x432 with 1 Axes>"
      ]
     },
     "metadata": {
      "needs_background": "light"
     },
     "output_type": "display_data"
    }
   ],
   "source": [
    "# plot the impurity-based feature importance of the forest\n",
    "\n",
    "plt.figure(figsize=(15,6))\n",
    "plt.title('Feature importances')\n",
    "g = sns.barplot(x='feature',y='importance',data=df,color='green')\n",
    "plt.xticks(rotation=45)\n",
    "\n",
    "for i in g.containers:\n",
    "    g.bar_label(i, color='white', label_type= 'center',fontsize='medium',fmt='%.3f')"
   ]
  },
  {
   "cell_type": "markdown",
   "id": "d295596e",
   "metadata": {},
   "source": [
    "# 7.0 Machine Learning"
   ]
  },
  {
   "cell_type": "code",
   "execution_count": 325,
   "id": "f008bc5c",
   "metadata": {
    "ExecuteTime": {
     "end_time": "2022-10-22T23:04:58.715957Z",
     "start_time": "2022-10-22T23:04:58.454272Z"
    }
   },
   "outputs": [],
   "source": [
    "cols_selected = [\n",
    "                'vintage',\n",
    "                'annual_premium',\n",
    "                'age',\n",
    "                'region_code',\n",
    "                'vehicle_damage',\n",
    "                'policy_sales_channel',\n",
    "                'previously_insured']\n",
    "\n",
    "x_train = data_train[cols_selected]\n",
    "x_val = x_validation[cols_selected]"
   ]
  },
  {
   "cell_type": "markdown",
   "id": "e1b94883",
   "metadata": {
    "cell_style": "center"
   },
   "source": [
    "## 7.1 KNN"
   ]
  },
  {
   "cell_type": "code",
   "execution_count": 326,
   "id": "a6fa84ed",
   "metadata": {
    "ExecuteTime": {
     "end_time": "2022-10-22T23:05:24.376089Z",
     "start_time": "2022-10-22T23:04:58.720946Z"
    },
    "cell_style": "center",
    "hide_input": true,
    "scrolled": false
   },
   "outputs": [
    {
     "data": {
      "image/png": "[encoded data removed]",
      "text/plain": [
       "<Figure size 1440x360 with 4 Axes>"
      ]
     },
     "metadata": {
      "needs_background": "light"
     },
     "output_type": "display_data"
    }
   ],
   "source": [
    "# model definition\n",
    "knn_model = nh.KNeighborsClassifier(n_neighbors=10)\n",
    "\n",
    "# model training\n",
    "knn_model.fit(x_train, y_train)\n",
    "\n",
    "# ==== Model Score \n",
    "# model prediction\n",
    "y_score_knn = knn_model.predict_proba(x_val)\n",
    "# performance\n",
    "knn_result_rank = ranking_performance('KNN', x_validation, y_validation,y_score_knn)\n",
    "\n",
    "# ==== Model Prediction \n",
    "# model prediction\n",
    "y_pred_knn = knn_model.predict(x_val)\n",
    "# performance\n",
    "knn_result_class = classification_performance('KNN', y_validation, y_pred_knn)\n",
    "\n",
    "# plot\n",
    "fig, ax = plt.subplots(1,3,figsize=(20,5))\n",
    "\n",
    "# Accumulative Gain \n",
    "skplt.metrics.plot_cumulative_gain(y_validation,y_score_knn,ax=ax[0])\n",
    "skplt.metrics.plot_lift_curve(y_validation,y_score_knn,ax=ax[1]);\n",
    "plot_confusion_matrix(knn_model, x_val,y_validation,normalize='pred',ax=ax[2])  \n",
    "plt.show() "
   ]
  },
  {
   "cell_type": "markdown",
   "id": "ef242a99",
   "metadata": {
    "cell_style": "center"
   },
   "source": [
    "## 7.2 Logistic Regressor"
   ]
  },
  {
   "cell_type": "code",
   "execution_count": 327,
   "id": "90a81301",
   "metadata": {
    "ExecuteTime": {
     "end_time": "2022-10-22T23:05:25.815296Z",
     "start_time": "2022-10-22T23:05:24.385435Z"
    },
    "cell_style": "center",
    "hide_input": true
   },
   "outputs": [
    {
     "data": {
      "image/png": "[encoded data removed]",
      "text/plain": [
       "<Figure size 1440x360 with 4 Axes>"
      ]
     },
     "metadata": {
      "needs_background": "light"
     },
     "output_type": "display_data"
    }
   ],
   "source": [
    "# model definition\n",
    "lr_model = lm.LogisticRegression(random_state=42,C = 0.001)\n",
    "\n",
    "# model training \n",
    "lr_model.fit(x_train, y_train)\n",
    "\n",
    "# ==== Model Score \n",
    "# model prediction\n",
    "y_score_lr = lr_model.predict_proba(x_val)\n",
    "# performance\n",
    "lr_result_rank = ranking_performance('Logistic Regression', x_validation, y_validation,y_score_lr)\n",
    "\n",
    "# ==== Model Prediction \n",
    "# model prediction\n",
    "y_pred_lr = lr_model.predict(x_val)\n",
    "# performance\n",
    "lr_result_class = classification_performance('Logistic Regression', y_validation, y_pred_lr)\n",
    "\n",
    "# plot\n",
    "fig, ax = plt.subplots(1,3,figsize=(20,5))\n",
    "\n",
    "# Accumulative Gain \n",
    "skplt.metrics.plot_cumulative_gain(y_validation,y_score_lr,ax=ax[0])\n",
    "skplt.metrics.plot_lift_curve(y_validation,y_score_lr,ax=ax[1]);\n",
    "plot_confusion_matrix(lr_model, x_val,y_validation,normalize='pred',ax=ax[2])  \n",
    "plt.show() "
   ]
  },
  {
   "cell_type": "markdown",
   "id": "55d9fba4",
   "metadata": {
    "cell_style": "center"
   },
   "source": [
    "## 7.3 Extra Trees"
   ]
  },
  {
   "cell_type": "code",
   "execution_count": 328,
   "id": "d6d8a136",
   "metadata": {
    "ExecuteTime": {
     "end_time": "2022-10-22T23:05:38.865275Z",
     "start_time": "2022-10-22T23:05:25.817292Z"
    },
    "cell_style": "center",
    "hide_input": true
   },
   "outputs": [
    {
     "data": {
      "image/png": "[encoded data removed]",
      "text/plain": [
       "<Figure size 1440x360 with 4 Axes>"
      ]
     },
     "metadata": {
      "needs_background": "light"
     },
     "output_type": "display_data"
    }
   ],
   "source": [
    "# model definition\n",
    "et_model = en.ExtraTreesClassifier(n_estimators = 100, n_jobs=-1, random_state=42)\n",
    "\n",
    "# model fit\n",
    "et_model.fit(x_train, y_train)\n",
    "\n",
    "# ==== Model Score \n",
    "# model prediction\n",
    "y_score_et = et_model.predict_proba(x_val)\n",
    "# performance\n",
    "et_result_rank = ranking_performance('Extra Tree', x_validation, y_validation,y_score_et)\n",
    "\n",
    "# ==== Model Prediction \n",
    "# model prediction\n",
    "y_pred_et = et_model.predict(x_val)\n",
    "# performance\n",
    "et_result_class = classification_performance('Extra Trees', y_validation, y_pred_et)\n",
    "\n",
    "# plot\n",
    "fig, ax = plt.subplots(1,3,figsize=(20,5))\n",
    "\n",
    "# Accumulative Gain \n",
    "skplt.metrics.plot_cumulative_gain(y_validation,y_score_et,ax=ax[0])\n",
    "skplt.metrics.plot_lift_curve(y_validation,y_score_et,ax=ax[1]);\n",
    "plot_confusion_matrix(et_model, x_val,y_validation,normalize='pred',ax=ax[2])  \n",
    "plt.show() "
   ]
  },
  {
   "cell_type": "markdown",
   "id": "b47ca23d",
   "metadata": {
    "cell_style": "center",
    "hide_input": false
   },
   "source": [
    "## 7.4 XGBoost"
   ]
  },
  {
   "cell_type": "code",
   "execution_count": 329,
   "id": "f2458668",
   "metadata": {
    "ExecuteTime": {
     "end_time": "2022-10-22T23:05:51.591151Z",
     "start_time": "2022-10-22T23:05:38.878675Z"
    },
    "cell_style": "center",
    "hide_input": false
   },
   "outputs": [
    {
     "data": {
      "image/png": "[encoded data removed]",
      "text/plain": [
       "<Figure size 1440x360 with 4 Axes>"
      ]
     },
     "metadata": {
      "needs_background": "light"
     },
     "output_type": "display_data"
    }
   ],
   "source": [
    "# model definition\n",
    "xgb_model = xgb.XGBClassifier(n_estimators = 100)\n",
    "\n",
    "# model fit\n",
    "xgb_model.fit(x_train,y_train)\n",
    "\n",
    "# ==== Model Score \n",
    "# model prediction\n",
    "y_score_xgb = xgb_model.predict_proba(x_val)\n",
    "# performance\n",
    "xgb_result_rank = ranking_performance('XGBoost', x_validation, y_validation,y_score_xgb)\n",
    "\n",
    "# ==== Model Prediction \n",
    "# model prediction\n",
    "y_pred_xgb = xgb_model.predict(x_val)\n",
    "# performance\n",
    "xgb_result_class = classification_performance('XGBoost', y_validation, y_pred_xgb)\n",
    "\n",
    "# plot\n",
    "fig, ax = plt.subplots(1,3,figsize=(20,5))\n",
    "\n",
    "# Accumulative Gain \n",
    "skplt.metrics.plot_cumulative_gain(y_validation,y_score_xgb,ax=ax[0])\n",
    "skplt.metrics.plot_lift_curve(y_validation,y_score_xgb,ax=ax[1]);\n",
    "plot_confusion_matrix(xgb_model, x_val,y_validation,normalize='pred',ax=ax[2])  \n",
    "plt.show() "
   ]
  },
  {
   "cell_type": "markdown",
   "id": "3a4b0041",
   "metadata": {
    "ExecuteTime": {
     "end_time": "2022-09-25T19:37:38.800345Z",
     "start_time": "2022-09-25T19:37:38.776895Z"
    }
   },
   "source": [
    "## 7.5 Model Single Performance"
   ]
  },
  {
   "cell_type": "code",
   "execution_count": 330,
   "id": "c8e3aef7",
   "metadata": {
    "ExecuteTime": {
     "end_time": "2022-10-22T23:05:51.622162Z",
     "start_time": "2022-10-22T23:05:51.593771Z"
    },
    "cell_style": "split"
   },
   "outputs": [
    {
     "data": {
      "text/html": [
       "<div>\n",
       "<style scoped>\n",
       "    .dataframe tbody tr th:only-of-type {\n",
       "        vertical-align: middle;\n",
       "    }\n",
       "\n",
       "    .dataframe tbody tr th {\n",
       "        vertical-align: top;\n",
       "    }\n",
       "\n",
       "    .dataframe thead th {\n",
       "        text-align: right;\n",
       "    }\n",
       "</style>\n",
       "<table border=\"1\" class=\"dataframe\">\n",
       "  <thead>\n",
       "    <tr style=\"text-align: right;\">\n",
       "      <th></th>\n",
       "      <th>Model Name</th>\n",
       "      <th>Precision at K</th>\n",
       "      <th>Recall at K</th>\n",
       "    </tr>\n",
       "  </thead>\n",
       "  <tbody>\n",
       "    <tr>\n",
       "      <th>0</th>\n",
       "      <td>KNN</td>\n",
       "      <td>0.291385</td>\n",
       "      <td>0.693562</td>\n",
       "    </tr>\n",
       "    <tr>\n",
       "      <th>0</th>\n",
       "      <td>Logistic Regression</td>\n",
       "      <td>0.272736</td>\n",
       "      <td>0.649173</td>\n",
       "    </tr>\n",
       "    <tr>\n",
       "      <th>0</th>\n",
       "      <td>Extra Tree</td>\n",
       "      <td>0.293135</td>\n",
       "      <td>0.697727</td>\n",
       "    </tr>\n",
       "    <tr>\n",
       "      <th>0</th>\n",
       "      <td>XGBoost</td>\n",
       "      <td>0.320934</td>\n",
       "      <td>0.763894</td>\n",
       "    </tr>\n",
       "  </tbody>\n",
       "</table>\n",
       "</div>"
      ],
      "text/plain": [
       "            Model Name  Precision at K  Recall at K\n",
       "0                  KNN        0.291385     0.693562\n",
       "0  Logistic Regression        0.272736     0.649173\n",
       "0           Extra Tree        0.293135     0.697727\n",
       "0              XGBoost        0.320934     0.763894"
      ]
     },
     "execution_count": 330,
     "metadata": {},
     "output_type": "execute_result"
    }
   ],
   "source": [
    "pd.concat([knn_result_rank, lr_result_rank, et_result_rank, xgb_result_rank])"
   ]
  },
  {
   "cell_type": "code",
   "execution_count": 331,
   "id": "32886927",
   "metadata": {
    "ExecuteTime": {
     "end_time": "2022-10-22T23:05:51.638027Z",
     "start_time": "2022-10-22T23:05:51.624288Z"
    },
    "cell_style": "split"
   },
   "outputs": [
    {
     "data": {
      "text/html": [
       "<div>\n",
       "<style scoped>\n",
       "    .dataframe tbody tr th:only-of-type {\n",
       "        vertical-align: middle;\n",
       "    }\n",
       "\n",
       "    .dataframe tbody tr th {\n",
       "        vertical-align: top;\n",
       "    }\n",
       "\n",
       "    .dataframe thead th {\n",
       "        text-align: right;\n",
       "    }\n",
       "</style>\n",
       "<table border=\"1\" class=\"dataframe\">\n",
       "  <thead>\n",
       "    <tr style=\"text-align: right;\">\n",
       "      <th></th>\n",
       "      <th>Model</th>\n",
       "      <th>Accuracy</th>\n",
       "      <th>Precision</th>\n",
       "      <th>Recall</th>\n",
       "      <th>F1 Score</th>\n",
       "    </tr>\n",
       "  </thead>\n",
       "  <tbody>\n",
       "    <tr>\n",
       "      <th>0</th>\n",
       "      <td>KNN</td>\n",
       "      <td>0.870583</td>\n",
       "      <td>0.348049</td>\n",
       "      <td>0.064739</td>\n",
       "      <td>0.109171</td>\n",
       "    </tr>\n",
       "    <tr>\n",
       "      <th>0</th>\n",
       "      <td>Logistic Regression</td>\n",
       "      <td>0.877507</td>\n",
       "      <td>0.500000</td>\n",
       "      <td>0.000119</td>\n",
       "      <td>0.000238</td>\n",
       "    </tr>\n",
       "    <tr>\n",
       "      <th>0</th>\n",
       "      <td>Extra Trees</td>\n",
       "      <td>0.860831</td>\n",
       "      <td>0.341727</td>\n",
       "      <td>0.146971</td>\n",
       "      <td>0.205542</td>\n",
       "    </tr>\n",
       "    <tr>\n",
       "      <th>0</th>\n",
       "      <td>XGBoost</td>\n",
       "      <td>0.876195</td>\n",
       "      <td>0.360248</td>\n",
       "      <td>0.013805</td>\n",
       "      <td>0.026590</td>\n",
       "    </tr>\n",
       "  </tbody>\n",
       "</table>\n",
       "</div>"
      ],
      "text/plain": [
       "                 Model  Accuracy  Precision    Recall  F1 Score\n",
       "0                  KNN  0.870583   0.348049  0.064739  0.109171\n",
       "0  Logistic Regression  0.877507   0.500000  0.000119  0.000238\n",
       "0          Extra Trees  0.860831   0.341727  0.146971  0.205542\n",
       "0              XGBoost  0.876195   0.360248  0.013805  0.026590"
      ]
     },
     "execution_count": 331,
     "metadata": {},
     "output_type": "execute_result"
    }
   ],
   "source": [
    "pd.concat([knn_result_class, lr_result_class, et_result_class, xgb_result_class])"
   ]
  },
  {
   "cell_type": "markdown",
   "id": "45b7a81f",
   "metadata": {
    "ExecuteTime": {
     "end_time": "2022-09-25T19:37:38.800345Z",
     "start_time": "2022-09-25T19:37:38.776895Z"
    }
   },
   "source": [
    "## 7.6 Model Real Performance"
   ]
  },
  {
   "cell_type": "code",
   "execution_count": 332,
   "id": "b7ea10af",
   "metadata": {
    "ExecuteTime": {
     "end_time": "2022-10-22T23:05:51.652888Z",
     "start_time": "2022-10-22T23:05:51.641019Z"
    }
   },
   "outputs": [],
   "source": [
    "# knn_cross = cross_validation(data_train,5,'KNN',knn_model,verbose=False)\n",
    "# lr_cross = cross_validation(data_train,5,'Logistic Regression',lr_model,verbose=False)\n",
    "# et_cross = cross_validation(data_train,5,'Extra Trees',et,verbose=False)\n",
    "# xgb_cross = cross_validation(data_train,5,'XGBoost',xgb_model,verbose=False)\n",
    "\n",
    "# pd.concat([knn_cross, lr_cross, et_cross, xgb_cross])"
   ]
  },
  {
   "cell_type": "markdown",
   "id": "b1bf4f7d",
   "metadata": {},
   "source": [
    "# 8.0 Test Model"
   ]
  },
  {
   "cell_type": "markdown",
   "id": "0e0cece4",
   "metadata": {},
   "source": [
    "### 8.1 Concat training and validation dataset"
   ]
  },
  {
   "cell_type": "code",
   "execution_count": 333,
   "id": "b39c10d5",
   "metadata": {
    "ExecuteTime": {
     "end_time": "2022-10-22T23:05:51.822715Z",
     "start_time": "2022-10-22T23:05:51.654985Z"
    }
   },
   "outputs": [
    {
     "data": {
      "text/html": [
       "<div>\n",
       "<style scoped>\n",
       "    .dataframe tbody tr th:only-of-type {\n",
       "        vertical-align: middle;\n",
       "    }\n",
       "\n",
       "    .dataframe tbody tr th {\n",
       "        vertical-align: top;\n",
       "    }\n",
       "\n",
       "    .dataframe thead th {\n",
       "        text-align: right;\n",
       "    }\n",
       "</style>\n",
       "<table border=\"1\" class=\"dataframe\">\n",
       "  <thead>\n",
       "    <tr style=\"text-align: right;\">\n",
       "      <th></th>\n",
       "      <th>gender</th>\n",
       "      <th>age</th>\n",
       "      <th>region_code</th>\n",
       "      <th>policy_sales_channel</th>\n",
       "      <th>driving_license</th>\n",
       "      <th>vehicle_damage</th>\n",
       "      <th>previously_insured</th>\n",
       "      <th>annual_premium</th>\n",
       "      <th>vintage</th>\n",
       "      <th>vehicle_age_bellow_1_year</th>\n",
       "      <th>vehicle_age_between_1_2_year</th>\n",
       "      <th>vehicle_age_over_2_years</th>\n",
       "    </tr>\n",
       "  </thead>\n",
       "  <tbody>\n",
       "    <tr>\n",
       "      <th>222867</th>\n",
       "      <td>0.138253</td>\n",
       "      <td>0.476923</td>\n",
       "      <td>0.128274</td>\n",
       "      <td>0.209291</td>\n",
       "      <td>1</td>\n",
       "      <td>0.005240</td>\n",
       "      <td>1</td>\n",
       "      <td>-0.070589</td>\n",
       "      <td>0.245675</td>\n",
       "      <td>0</td>\n",
       "      <td>1</td>\n",
       "      <td>0</td>\n",
       "    </tr>\n",
       "    <tr>\n",
       "      <th>172073</th>\n",
       "      <td>0.138253</td>\n",
       "      <td>0.400000</td>\n",
       "      <td>0.120598</td>\n",
       "      <td>0.209291</td>\n",
       "      <td>1</td>\n",
       "      <td>0.237299</td>\n",
       "      <td>0</td>\n",
       "      <td>-1.628662</td>\n",
       "      <td>0.698962</td>\n",
       "      <td>0</td>\n",
       "      <td>1</td>\n",
       "      <td>0</td>\n",
       "    </tr>\n",
       "    <tr>\n",
       "      <th>238211</th>\n",
       "      <td>0.138253</td>\n",
       "      <td>0.723077</td>\n",
       "      <td>0.186240</td>\n",
       "      <td>0.193904</td>\n",
       "      <td>1</td>\n",
       "      <td>0.237299</td>\n",
       "      <td>0</td>\n",
       "      <td>-0.157103</td>\n",
       "      <td>0.896194</td>\n",
       "      <td>0</td>\n",
       "      <td>1</td>\n",
       "      <td>0</td>\n",
       "    </tr>\n",
       "    <tr>\n",
       "      <th>47606</th>\n",
       "      <td>0.103681</td>\n",
       "      <td>0.338462</td>\n",
       "      <td>0.186651</td>\n",
       "      <td>0.193904</td>\n",
       "      <td>1</td>\n",
       "      <td>0.237299</td>\n",
       "      <td>0</td>\n",
       "      <td>0.472430</td>\n",
       "      <td>0.647059</td>\n",
       "      <td>0</td>\n",
       "      <td>1</td>\n",
       "      <td>0</td>\n",
       "    </tr>\n",
       "    <tr>\n",
       "      <th>123174</th>\n",
       "      <td>0.138253</td>\n",
       "      <td>0.523077</td>\n",
       "      <td>0.186651</td>\n",
       "      <td>0.003218</td>\n",
       "      <td>1</td>\n",
       "      <td>0.005240</td>\n",
       "      <td>1</td>\n",
       "      <td>-1.628662</td>\n",
       "      <td>0.975779</td>\n",
       "      <td>0</td>\n",
       "      <td>1</td>\n",
       "      <td>0</td>\n",
       "    </tr>\n",
       "  </tbody>\n",
       "</table>\n",
       "</div>"
      ],
      "text/plain": [
       "          gender       age  region_code  policy_sales_channel  driving_license  vehicle_damage  previously_insured  annual_premium   vintage  vehicle_age_bellow_1_year  vehicle_age_between_1_2_year  vehicle_age_over_2_years\n",
       "222867  0.138253  0.476923     0.128274              0.209291                1        0.005240                   1       -0.070589  0.245675                          0                             1                         0\n",
       "172073  0.138253  0.400000     0.120598              0.209291                1        0.237299                   0       -1.628662  0.698962                          0                             1                         0\n",
       "238211  0.138253  0.723077     0.186240              0.193904                1        0.237299                   0       -0.157103  0.896194                          0                             1                         0\n",
       "47606   0.103681  0.338462     0.186651              0.193904                1        0.237299                   0        0.472430  0.647059                          0                             1                         0\n",
       "123174  0.138253  0.523077     0.186651              0.003218                1        0.005240                   1       -1.628662  0.975779                          0                             1                         0"
      ]
     },
     "execution_count": 333,
     "metadata": {},
     "output_type": "execute_result"
    }
   ],
   "source": [
    "# Concat validation Dataframe\n",
    "validation = pd.concat([x_validation,y_validation],axis=1)\n",
    "\n",
    "# Concat all training data\n",
    "data_full = pd.concat([data_train,validation],axis=0)\n",
    "\n",
    "# Prepare training dataset\n",
    "x_training_full = data_full.drop(['id','response'],axis=1)\n",
    "y_training_full = data_full['response']\n",
    "\n",
    "x_training_full.head()"
   ]
  },
  {
   "cell_type": "markdown",
   "id": "239276a1",
   "metadata": {},
   "source": [
    "### 8.2 Preparate Test Dataset"
   ]
  },
  {
   "cell_type": "code",
   "execution_count": 334,
   "id": "d7c8fe27",
   "metadata": {
    "ExecuteTime": {
     "end_time": "2022-10-22T23:05:51.961449Z",
     "start_time": "2022-10-22T23:05:51.824679Z"
    },
    "run_control": {
     "marked": true
    }
   },
   "outputs": [
    {
     "data": {
      "text/html": [
       "<div>\n",
       "<style scoped>\n",
       "    .dataframe tbody tr th:only-of-type {\n",
       "        vertical-align: middle;\n",
       "    }\n",
       "\n",
       "    .dataframe tbody tr th {\n",
       "        vertical-align: top;\n",
       "    }\n",
       "\n",
       "    .dataframe thead th {\n",
       "        text-align: right;\n",
       "    }\n",
       "</style>\n",
       "<table border=\"1\" class=\"dataframe\">\n",
       "  <thead>\n",
       "    <tr style=\"text-align: right;\">\n",
       "      <th></th>\n",
       "      <th>vintage</th>\n",
       "      <th>annual_premium</th>\n",
       "      <th>age</th>\n",
       "      <th>region_code</th>\n",
       "      <th>vehicle_damage</th>\n",
       "      <th>policy_sales_channel</th>\n",
       "      <th>previously_insured</th>\n",
       "    </tr>\n",
       "  </thead>\n",
       "  <tbody>\n",
       "    <tr>\n",
       "      <th>354594</th>\n",
       "      <td>0.197232</td>\n",
       "      <td>-0.244026</td>\n",
       "      <td>0.092308</td>\n",
       "      <td>0.155429</td>\n",
       "      <td>0.00524</td>\n",
       "      <td>0.353541</td>\n",
       "      <td>1</td>\n",
       "    </tr>\n",
       "    <tr>\n",
       "      <th>104347</th>\n",
       "      <td>0.006920</td>\n",
       "      <td>0.436646</td>\n",
       "      <td>0.353846</td>\n",
       "      <td>0.186651</td>\n",
       "      <td>0.00524</td>\n",
       "      <td>0.209291</td>\n",
       "      <td>1</td>\n",
       "    </tr>\n",
       "    <tr>\n",
       "      <th>49204</th>\n",
       "      <td>0.051903</td>\n",
       "      <td>0.045113</td>\n",
       "      <td>0.046154</td>\n",
       "      <td>0.127595</td>\n",
       "      <td>0.00524</td>\n",
       "      <td>0.353541</td>\n",
       "      <td>1</td>\n",
       "    </tr>\n",
       "    <tr>\n",
       "      <th>280803</th>\n",
       "      <td>0.647059</td>\n",
       "      <td>-0.550796</td>\n",
       "      <td>0.061538</td>\n",
       "      <td>0.130866</td>\n",
       "      <td>0.00524</td>\n",
       "      <td>0.353541</td>\n",
       "      <td>1</td>\n",
       "    </tr>\n",
       "    <tr>\n",
       "      <th>58035</th>\n",
       "      <td>0.169550</td>\n",
       "      <td>-1.628662</td>\n",
       "      <td>0.046154</td>\n",
       "      <td>0.127595</td>\n",
       "      <td>0.00524</td>\n",
       "      <td>0.353541</td>\n",
       "      <td>1</td>\n",
       "    </tr>\n",
       "  </tbody>\n",
       "</table>\n",
       "</div>"
      ],
      "text/plain": [
       "         vintage  annual_premium       age  region_code  vehicle_damage  policy_sales_channel  previously_insured\n",
       "354594  0.197232       -0.244026  0.092308     0.155429         0.00524              0.353541                   1\n",
       "104347  0.006920        0.436646  0.353846     0.186651         0.00524              0.209291                   1\n",
       "49204   0.051903        0.045113  0.046154     0.127595         0.00524              0.353541                   1\n",
       "280803  0.647059       -0.550796  0.061538     0.130866         0.00524              0.353541                   1\n",
       "58035   0.169550       -1.628662  0.046154     0.127595         0.00524              0.353541                   1"
      ]
     },
     "execution_count": 334,
     "metadata": {},
     "output_type": "execute_result"
    }
   ],
   "source": [
    "X_test = data_preparation(X_test_raw,dict_preparation)[cols_selected]\n",
    "X_test.head()"
   ]
  },
  {
   "cell_type": "markdown",
   "id": "702c1b6f",
   "metadata": {},
   "source": [
    "### 8.3 Test Model "
   ]
  },
  {
   "cell_type": "code",
   "execution_count": 335,
   "id": "452eb9c6",
   "metadata": {
    "ExecuteTime": {
     "end_time": "2022-10-22T23:06:08.778342Z",
     "start_time": "2022-10-22T23:05:51.964395Z"
    },
    "hide_input": false
   },
   "outputs": [
    {
     "data": {
      "image/png": "[encoded data removed]",
      "text/plain": [
       "<Figure size 1440x360 with 4 Axes>"
      ]
     },
     "metadata": {
      "needs_background": "light"
     },
     "output_type": "display_data"
    }
   ],
   "source": [
    "# model definition\n",
    "xgb_model_final = xgb.XGBClassifier(n_estimators = 100)\n",
    "\n",
    "# model fit\n",
    "xgb_model_final.fit(x_training_full[cols_selected],y_training_full)\n",
    "pickle.dump(xgb_model_final,open('C:\\\\Users\\\\Notebook\\\\repos\\\\Insurance-Cross-Sell\\\\src\\\\model\\\\xgb_model.pkl','wb'))\n",
    "\n",
    "# ==== Model Score \n",
    "# model prediction\n",
    "y_score_xgb = xgb_model_final.predict_proba(X_test)\n",
    "# performance\n",
    "xgb_result_rank = ranking_performance('XGBoost', X_test, Y_test_raw, y_score_xgb)\n",
    "\n",
    "# ==== Model Prediction \n",
    "# model prediction\n",
    "y_pred_xgb = xgb_model_final.predict(X_test)\n",
    "# performance\n",
    "xgb_result_class = classification_performance('XGBoost', Y_test_raw, y_pred_xgb)\n",
    "\n",
    "# plot\n",
    "fig, ax = plt.subplots(1,3,figsize=(20,5))\n",
    "\n",
    "# Accumulative Gain \n",
    "g = skplt.metrics.plot_cumulative_gain(Y_test_raw,y_score_xgb,ax=ax[0])\n",
    "skplt.metrics.plot_lift_curve(Y_test_raw,y_score_xgb,ax=ax[1]);\n",
    "plot_confusion_matrix(xgb_model_final, X_test,Y_test_raw,normalize='pred',ax=ax[2])  \n",
    "plt.show() "
   ]
  },
  {
   "cell_type": "markdown",
   "id": "a6ed34f5",
   "metadata": {},
   "source": [
    "# 9.0 Business Result"
   ]
  },
  {
   "cell_type": "code",
   "execution_count": 336,
   "id": "c511aa26",
   "metadata": {
    "ExecuteTime": {
     "end_time": "2022-10-22T23:06:08.886689Z",
     "start_time": "2022-10-22T23:06:08.780510Z"
    },
    "cell_style": "split",
    "hide_input": false
   },
   "outputs": [
    {
     "data": {
      "text/html": [
       "<div>\n",
       "<style scoped>\n",
       "    .dataframe tbody tr th:only-of-type {\n",
       "        vertical-align: middle;\n",
       "    }\n",
       "\n",
       "    .dataframe tbody tr th {\n",
       "        vertical-align: top;\n",
       "    }\n",
       "\n",
       "    .dataframe thead th {\n",
       "        text-align: right;\n",
       "    }\n",
       "</style>\n",
       "<table border=\"1\" class=\"dataframe\">\n",
       "  <thead>\n",
       "    <tr style=\"text-align: right;\">\n",
       "      <th></th>\n",
       "      <th>clients_acumulate</th>\n",
       "      <th>interest</th>\n",
       "      <th>interest_acumulate</th>\n",
       "      <th>gross_revenue_acumulate</th>\n",
       "      <th>cost_acumulate</th>\n",
       "      <th>revenue_acumulate</th>\n",
       "    </tr>\n",
       "  </thead>\n",
       "  <tbody>\n",
       "    <tr>\n",
       "      <th>0</th>\n",
       "      <td>5000</td>\n",
       "      <td>569</td>\n",
       "      <td>569</td>\n",
       "      <td>22760</td>\n",
       "      <td>20000</td>\n",
       "      <td>2760</td>\n",
       "    </tr>\n",
       "    <tr>\n",
       "      <th>1</th>\n",
       "      <td>10000</td>\n",
       "      <td>624</td>\n",
       "      <td>1193</td>\n",
       "      <td>47720</td>\n",
       "      <td>40000</td>\n",
       "      <td>7720</td>\n",
       "    </tr>\n",
       "    <tr>\n",
       "      <th>2</th>\n",
       "      <td>15000</td>\n",
       "      <td>637</td>\n",
       "      <td>1830</td>\n",
       "      <td>73200</td>\n",
       "      <td>60000</td>\n",
       "      <td>13200</td>\n",
       "    </tr>\n",
       "    <tr>\n",
       "      <th>3</th>\n",
       "      <td>20000</td>\n",
       "      <td>634</td>\n",
       "      <td>2464</td>\n",
       "      <td>98560</td>\n",
       "      <td>80000</td>\n",
       "      <td>18560</td>\n",
       "    </tr>\n",
       "    <tr>\n",
       "      <th>4</th>\n",
       "      <td>25000</td>\n",
       "      <td>634</td>\n",
       "      <td>3098</td>\n",
       "      <td>123920</td>\n",
       "      <td>100000</td>\n",
       "      <td>23920</td>\n",
       "    </tr>\n",
       "    <tr>\n",
       "      <th>5</th>\n",
       "      <td>30000</td>\n",
       "      <td>594</td>\n",
       "      <td>3692</td>\n",
       "      <td>147680</td>\n",
       "      <td>120000</td>\n",
       "      <td>27680</td>\n",
       "    </tr>\n",
       "    <tr>\n",
       "      <th>6</th>\n",
       "      <td>35000</td>\n",
       "      <td>625</td>\n",
       "      <td>4317</td>\n",
       "      <td>172680</td>\n",
       "      <td>140000</td>\n",
       "      <td>32680</td>\n",
       "    </tr>\n",
       "    <tr>\n",
       "      <th>7</th>\n",
       "      <td>40000</td>\n",
       "      <td>410</td>\n",
       "      <td>4727</td>\n",
       "      <td>189080</td>\n",
       "      <td>152444</td>\n",
       "      <td>36636</td>\n",
       "    </tr>\n",
       "  </tbody>\n",
       "</table>\n",
       "</div>"
      ],
      "text/plain": [
       "   clients_acumulate  interest  interest_acumulate  gross_revenue_acumulate  cost_acumulate  revenue_acumulate\n",
       "0               5000       569                 569                    22760           20000               2760\n",
       "1              10000       624                1193                    47720           40000               7720\n",
       "2              15000       637                1830                    73200           60000              13200\n",
       "3              20000       634                2464                    98560           80000              18560\n",
       "4              25000       634                3098                   123920          100000              23920\n",
       "5              30000       594                3692                   147680          120000              27680\n",
       "6              35000       625                4317                   172680          140000              32680\n",
       "7              40000       410                4727                   189080          152444              36636"
      ]
     },
     "execution_count": 336,
     "metadata": {},
     "output_type": "execute_result"
    }
   ],
   "source": [
    "results_baseline = pd.DataFrame()\n",
    "\n",
    "# index\n",
    "results_baseline['index'] = range(1,len(Y_test_raw)+1)\n",
    "\n",
    "# real interest\n",
    "results_baseline['real'] = Y_test_raw.tolist()\n",
    "\n",
    "# client window\n",
    "window = 5000\n",
    "results_baseline['clients_acumulate'] = 0\n",
    "for i in arange(0,len(Y_test_raw)/window,1).astype(int):\n",
    "    results_baseline['clients_acumulate'][(window)*i:window*(i+1)] = window*(i+1)\n",
    "\n",
    "# group by client window\n",
    "df_baseline = results_baseline[['clients_acumulate','real']].groupby('clients_acumulate').agg(clients = ('real','count'),interest= ('real','sum')).reset_index()\n",
    "\n",
    "# interest\n",
    "df_baseline['interest_acumulate'] = df_baseline['interest'].cumsum()\n",
    "\n",
    "# gross revenue\n",
    "df_baseline['gross_revenue'] = 40 * df_baseline['interest']\n",
    "df_baseline['gross_revenue_acumulate'] = df_baseline['gross_revenue'].cumsum()\n",
    "\n",
    "# cost\n",
    "df_baseline['cost'] = 4 * df_baseline['clients']\n",
    "df_baseline['cost_acumulate'] = df_baseline['cost'].cumsum()\n",
    "\n",
    "# revenue \n",
    "df_baseline['revenue'] = df_baseline['gross_revenue'] - df_baseline['cost']\n",
    "df_baseline['revenue_acumulate'] = df_baseline['revenue'].cumsum()\n",
    "\n",
    "df_baseline[['clients_acumulate','interest','interest_acumulate','gross_revenue_acumulate','cost_acumulate','revenue_acumulate']]"
   ]
  },
  {
   "cell_type": "code",
   "execution_count": 338,
   "id": "6b505081",
   "metadata": {
    "ExecuteTime": {
     "end_time": "2022-10-22T23:06:56.994816Z",
     "start_time": "2022-10-22T23:06:56.925448Z"
    },
    "cell_style": "split",
    "hide_input": false
   },
   "outputs": [
    {
     "data": {
      "text/html": [
       "<div>\n",
       "<style scoped>\n",
       "    .dataframe tbody tr th:only-of-type {\n",
       "        vertical-align: middle;\n",
       "    }\n",
       "\n",
       "    .dataframe tbody tr th {\n",
       "        vertical-align: top;\n",
       "    }\n",
       "\n",
       "    .dataframe thead th {\n",
       "        text-align: right;\n",
       "    }\n",
       "</style>\n",
       "<table border=\"1\" class=\"dataframe\">\n",
       "  <thead>\n",
       "    <tr style=\"text-align: right;\">\n",
       "      <th></th>\n",
       "      <th>clients_acumulate</th>\n",
       "      <th>interest</th>\n",
       "      <th>interest_acumulate</th>\n",
       "      <th>gross_revenue_acumulate</th>\n",
       "      <th>cost_acumulate</th>\n",
       "      <th>revenue_acumulate</th>\n",
       "    </tr>\n",
       "  </thead>\n",
       "  <tbody>\n",
       "    <tr>\n",
       "      <th>0</th>\n",
       "      <td>5000</td>\n",
       "      <td>1926</td>\n",
       "      <td>1926</td>\n",
       "      <td>77040</td>\n",
       "      <td>20000</td>\n",
       "      <td>57040</td>\n",
       "    </tr>\n",
       "    <tr>\n",
       "      <th>1</th>\n",
       "      <td>10000</td>\n",
       "      <td>1446</td>\n",
       "      <td>3372</td>\n",
       "      <td>134880</td>\n",
       "      <td>40000</td>\n",
       "      <td>94880</td>\n",
       "    </tr>\n",
       "    <tr>\n",
       "      <th>2</th>\n",
       "      <td>15000</td>\n",
       "      <td>988</td>\n",
       "      <td>4360</td>\n",
       "      <td>174400</td>\n",
       "      <td>60000</td>\n",
       "      <td>114400</td>\n",
       "    </tr>\n",
       "    <tr>\n",
       "      <th>3</th>\n",
       "      <td>20000</td>\n",
       "      <td>346</td>\n",
       "      <td>4706</td>\n",
       "      <td>188240</td>\n",
       "      <td>80000</td>\n",
       "      <td>108240</td>\n",
       "    </tr>\n",
       "    <tr>\n",
       "      <th>4</th>\n",
       "      <td>25000</td>\n",
       "      <td>17</td>\n",
       "      <td>4723</td>\n",
       "      <td>188920</td>\n",
       "      <td>100000</td>\n",
       "      <td>88920</td>\n",
       "    </tr>\n",
       "    <tr>\n",
       "      <th>5</th>\n",
       "      <td>30000</td>\n",
       "      <td>1</td>\n",
       "      <td>4724</td>\n",
       "      <td>188960</td>\n",
       "      <td>120000</td>\n",
       "      <td>68960</td>\n",
       "    </tr>\n",
       "    <tr>\n",
       "      <th>6</th>\n",
       "      <td>35000</td>\n",
       "      <td>1</td>\n",
       "      <td>4725</td>\n",
       "      <td>189000</td>\n",
       "      <td>140000</td>\n",
       "      <td>49000</td>\n",
       "    </tr>\n",
       "    <tr>\n",
       "      <th>7</th>\n",
       "      <td>40000</td>\n",
       "      <td>2</td>\n",
       "      <td>4727</td>\n",
       "      <td>189080</td>\n",
       "      <td>152444</td>\n",
       "      <td>36636</td>\n",
       "    </tr>\n",
       "  </tbody>\n",
       "</table>\n",
       "</div>"
      ],
      "text/plain": [
       "   clients_acumulate  interest  interest_acumulate  gross_revenue_acumulate  cost_acumulate  revenue_acumulate\n",
       "0               5000      1926                1926                    77040           20000              57040\n",
       "1              10000      1446                3372                   134880           40000              94880\n",
       "2              15000       988                4360                   174400           60000             114400\n",
       "3              20000       346                4706                   188240           80000             108240\n",
       "4              25000        17                4723                   188920          100000              88920\n",
       "5              30000         1                4724                   188960          120000              68960\n",
       "6              35000         1                4725                   189000          140000              49000\n",
       "7              40000         2                4727                   189080          152444              36636"
      ]
     },
     "execution_count": 338,
     "metadata": {},
     "output_type": "execute_result"
    }
   ],
   "source": [
    "results_ml = pd.DataFrame()\n",
    "\n",
    "# index\n",
    "results_ml['index'] = range(1,len(Y_test_raw)+1)\n",
    "\n",
    "# score\n",
    "results_ml['score'] = y_score_xgb[:,1].tolist()\n",
    "\n",
    "# real interest\n",
    "results_ml['real'] = Y_test_raw.tolist()\n",
    "\n",
    "# order dataset\n",
    "results_ml = results_ml.sort_values('score',ascending=False)\n",
    "\n",
    "# client window\n",
    "window = 5000\n",
    "results_ml['clients_acumulate'] = 0\n",
    "for i in arange(0,len(Y_test_raw)/window,1).astype(int):\n",
    "    results_ml['clients_acumulate'][(window)*i:window*(i+1)] = window*(i+1)\n",
    "\n",
    "# group by client window\n",
    "df = results_ml[['clients_acumulate','real']].groupby('clients_acumulate').agg(clients = ('real','count'),interest= ('real','sum')).reset_index()\n",
    "\n",
    "# interest\n",
    "df['interest_acumulate'] = df['interest'].cumsum()\n",
    "\n",
    "# gross revenue\n",
    "df['gross_revenue'] = 40 * df['interest']\n",
    "df['gross_revenue_acumulate'] = df['gross_revenue'].cumsum()\n",
    "\n",
    "# cost\n",
    "df['cost'] = 4 * df['clients']\n",
    "df['cost_acumulate'] = df['cost'].cumsum()\n",
    "\n",
    "# revenue \n",
    "df['revenue'] = df['gross_revenue'] - df['cost']\n",
    "df['revenue_acumulate'] = df['revenue'].cumsum()\n",
    "\n",
    "df[['clients_acumulate','interest','interest_acumulate','gross_revenue_acumulate','cost_acumulate','revenue_acumulate']]"
   ]
  },
  {
   "cell_type": "code",
   "execution_count": 339,
   "id": "e8bcf90b",
   "metadata": {
    "ExecuteTime": {
     "end_time": "2022-10-22T23:06:57.907294Z",
     "start_time": "2022-10-22T23:06:57.681950Z"
    }
   },
   "outputs": [
    {
     "data": {
      "image/png": "[encoded data removed]",
      "text/plain": [
       "<Figure size 720x432 with 1 Axes>"
      ]
     },
     "metadata": {
      "needs_background": "light"
     },
     "output_type": "display_data"
    }
   ],
   "source": [
    "plt.figure(figsize=(10,6))\n",
    "sns.lineplot(x='clients_acumulate',y='revenue_acumulate',data=df_baseline)\n",
    "sns.lineplot(x='clients_acumulate',y='revenue_acumulate',data=df);"
   ]
  },
  {
   "cell_type": "markdown",
   "id": "3d11c7d5",
   "metadata": {},
   "source": [
    "# 10.0 Deployment"
   ]
  },
  {
   "cell_type": "code",
   "execution_count": null,
   "id": "0bd0265f",
   "metadata": {
    "ExecuteTime": {
     "end_time": "2022-10-22T23:06:09.019806Z",
     "start_time": "2022-10-22T23:06:09.019806Z"
    }
   },
   "outputs": [],
   "source": [
    "class HealthInsurance():\n",
    "    def __init__(self):\n",
    "        self.home_path = 'C:\\\\Users\\\\Notebook\\\\repos\\\\Insurance-Cross-Sell\\\\'\n",
    "        self.annual_premium_scaller      = pickle.load(open(self.path + 'src\\\\features\\\\annual_premium_scaller.pkl'))\n",
    "        self.age_scaler                  = pickle.load(open(self.path + 'src\\\\features\\\\age_scaler.pkl'))\n",
    "        self.vintage_scaler              = pickle.load(open(self.path + 'src\\\\features\\\\vintage_scaler.pkl'))\n",
    "        self.gender_scaler               = pickle.load(open(self.path + 'src\\\\features\\\\gender_scaler.pkl'))\n",
    "        self.region_code_scaler          = pickle.load(open(self.path + 'src\\\\features\\\\region_code_scaler.pkl'))\n",
    "        self.policy_sales_channel_scaler = pickle.load(open(self.path + 'src\\\\features\\\\policy_sales_channel_scaler.pkl'))             \n",
    "    \n",
    "    def data_cleaning(self, df1):\n",
    "\n",
    "        # region_code\n",
    "        df1['region_code'] = df1['region_code'].astype('int64')\n",
    "\n",
    "        # policy_sales_channel \n",
    "        df1['policy_sales_channel'] = df1['policy_sales_channel'].astype('int64')\n",
    "\n",
    "        return df1\n",
    "\n",
    "    def feature_engineering(self, df2):\n",
    "\n",
    "        # vericle_age\n",
    "        df2['vehicle_age'] = df2['vehicle_age'].apply(lambda x: 'bellow_1_year' if x == '< 1 Year' else \n",
    "                                                             'between_1_2_year' if x == '1-2 Year' else \n",
    "                                                             'over_2_years')\n",
    "        return df2\n",
    "    \n",
    "    \n",
    "    def data_preparation(self, df5):\n",
    "\n",
    "        ss = pp.StandardScaler()\n",
    "\n",
    "        ## annual_premium\n",
    "        df5['annual_premium'] = self.annual_premium_scaler.transform(df5[['annual_premium']].values)\n",
    "\n",
    "        ## 5.3 Rescaling\n",
    "\n",
    "        ## age\n",
    "        df5['age'] = self.age_scaler.transform( df5[['age']].values )\n",
    "\n",
    "        ## vintage\n",
    "        df5['vintage'] = self.vintage_scaler.transform( df5[['vintage']].values )\n",
    "\n",
    "        ## 5.4 Encoder\n",
    "        ### 5.4.1 One Hot Enconding\n",
    "\n",
    "        ## vehicle_age\n",
    "        df5 = pd.get_dummies(df5, prefix='vehicle_age',columns=['vehicle_age'])\n",
    "\n",
    "        ### 5.4.2 Target Enconding\n",
    "\n",
    "        # gender \n",
    "        df5.loc[:,'gender'] = df5['gender'].map(self.gender_scaler)\n",
    "\n",
    "        # region_code \n",
    "        df5.loc[:,'region_code'] = df5['region_code'].map(self.region_code_scaler)\n",
    "\n",
    "        # vehicle damage\n",
    "        df5.loc[:,'vehicle_damage'] = df5['vehicle_damage'].map(self.vehicle_damage_scaler)\n",
    "\n",
    "        ### 5.4.3 Frequency Enconding\n",
    "\n",
    "        ## policy_sales_channel \n",
    "        df5.loc[:,'policy_sales_channel'] = df5['policy_sales_channel'].map(self.policy_sales_channel_scaler)\n",
    "\n",
    "        cols_selected = [\n",
    "                'vintage',\n",
    "                'annual_premium',\n",
    "                'age',\n",
    "                'region_code',\n",
    "                'vehicle_damage',\n",
    "                'policy_sales_channel',\n",
    "                'previously_insured']\n",
    "        \n",
    "        return df5[cols_selected]\n",
    "\n",
    "    def get_predict(self, model, original_data, test_data):\n",
    "        \n",
    "        # model prediction\n",
    "        pred = model.predict_proba(test_data)\n",
    "        \n",
    "        # join prediction into original data\n",
    "        original_data['prediction'] = pred\n",
    "        \n",
    "        return original_data.to_json(orient='records', date_format='iso')\n",
    "        "
   ]
  },
  {
   "cell_type": "markdown",
   "id": "c8d96901",
   "metadata": {},
   "source": [
    "## 10.2. API Handler"
   ]
  },
  {
   "cell_type": "code",
   "execution_count": null,
   "id": "e74889a5",
   "metadata": {
    "ExecuteTime": {
     "end_time": "2022-10-22T23:06:09.021766Z",
     "start_time": "2022-10-22T23:06:09.021766Z"
    }
   },
   "outputs": [],
   "source": [
    "# import pickle\n",
    "# import pandas as pd\n",
    "# from flask import Flask, request, Response\n",
    "# from healthinsurance import HealthInsurance\n",
    "# import xgboost as xgb\n",
    "\n",
    "# path = 'C:\\\\Users\\\\Notebook\\\\repos\\\\Insurance-Cross-Sell\\\\'\n",
    "# model = pickle.load(open(path + 'src//model/xgb_model.pkl','rb'))\n",
    "\n",
    "# app = Flask(__name__)\n",
    "\n",
    "# @app.route('/predict',methods=['POST'])\n",
    "# def health_insurance_predict():\n",
    "#     test_json = request.get_json()\n",
    "    \n",
    "#     if test_json:\n",
    "#         # there is data \n",
    "#         if isinstance(test_json, dict): # unique example\n",
    "#             test_raw = pd.DataFrame(test_json,index=[0])\n",
    "#         else: # multiple examples\n",
    "#             test_raw = pd.DataFrame(test_json,columns = test_json[0].keys())\n",
    "            \n",
    "#         # Instantiate HeathInsurance class\n",
    "#         pipeline = HealthInsurance()\n",
    "\n",
    "#         # data cleaning\n",
    "#         df1 = pipeline.data_cleaning(test_raw)\n",
    "\n",
    "#         # feature engineering\n",
    "#         df2 = pipeline.feature_engineering(df1)\n",
    "\n",
    "#         # data preparation\n",
    "#         df3 = pipeline.data_preparation(df2)\n",
    "\n",
    "#         # prediction\n",
    "#         df_response = pipeline.get_predict(model,test_raw,df3)\n",
    "    \n",
    "#         return df_response\n",
    "#     else:\n",
    "#         return Response('{Request is empty}',status=200, mimetype='application/json')\n",
    "\n",
    "# if __name__ == '__main__':\n",
    "#     app.run('0.0.0.0')"
   ]
  },
  {
   "cell_type": "markdown",
   "id": "1a843ed3",
   "metadata": {},
   "source": [
    "## 10.3 API Tester"
   ]
  },
  {
   "cell_type": "code",
   "execution_count": null,
   "id": "d11d8e8d",
   "metadata": {
    "ExecuteTime": {
     "end_time": "2022-10-22T23:06:09.023785Z",
     "start_time": "2022-10-22T23:06:09.023785Z"
    }
   },
   "outputs": [],
   "source": [
    "X_test.head()"
   ]
  },
  {
   "cell_type": "code",
   "execution_count": null,
   "id": "07addc88",
   "metadata": {
    "ExecuteTime": {
     "end_time": "2022-10-22T23:06:09.025754Z",
     "start_time": "2022-10-22T23:06:09.025754Z"
    }
   },
   "outputs": [],
   "source": [
    "# loading test dataset\n",
    "df_test = X_test_raw\n",
    "df_test['response'] = Y_test_raw\n",
    "\n",
    "data = json.dumps(df_test.to_dict(orient='records'))"
   ]
  },
  {
   "cell_type": "code",
   "execution_count": null,
   "id": "0f4f8c16",
   "metadata": {
    "ExecuteTime": {
     "end_time": "2022-10-22T23:06:09.027787Z",
     "start_time": "2022-10-22T23:06:09.027787Z"
    }
   },
   "outputs": [],
   "source": [
    "# url = 'http://192.168.18.4:5000/predict'\n",
    "\n",
    "url = 'https://insurance-crosssell-app.herokuapp.com/predict'\n",
    "header = {'Content-type': 'application/json'}\n",
    "data = data\n",
    "\n",
    "r = requests.post(url,data=data,headers=header)\n",
    "print('Status Code {}'.format(r.status_code))"
   ]
  },
  {
   "cell_type": "code",
   "execution_count": null,
   "id": "6b0b581a",
   "metadata": {
    "ExecuteTime": {
     "end_time": "2022-10-22T23:06:09.028746Z",
     "start_time": "2022-10-22T23:06:09.028746Z"
    }
   },
   "outputs": [],
   "source": [
    "pd.DataFrame(r.json(),columns= r.json()[0].keys())"
   ]
  },
  {
   "cell_type": "code",
   "execution_count": null,
   "id": "63312e36",
   "metadata": {},
   "outputs": [],
   "source": []
  }
 ],
 "metadata": {
  "kernelspec": {
   "display_name": "Python 3 (ipykernel)",
   "language": "python",
   "name": "python3"
  },
  "language_info": {
   "codemirror_mode": {
    "name": "ipython",
    "version": 3
   },
   "file_extension": ".py",
   "mimetype": "text/x-python",
   "name": "python",
   "nbconvert_exporter": "python",
   "pygments_lexer": "ipython3",
   "version": "3.9.12"
  },
  "vscode": {
   "interpreter": {
    "hash": "13db88b6c56222f8c773fa6349431f964a4d0e2c441b2d6583c8bd3e069bbed7"
   }
  }
 },
 "nbformat": 4,
 "nbformat_minor": 5
}

{
 "cells": [
  {
   "cell_type": "markdown",
   "id": "46c21508",
   "metadata": {},
   "source": [
    "# 0.0 Imports"
   ]
  },
  {
   "cell_type": "code",
   "execution_count": 169,
   "id": "b2dea543",
   "metadata": {
    "ExecuteTime": {
     "end_time": "2022-10-01T11:53:56.163864Z",
     "start_time": "2022-10-01T11:53:56.145913Z"
    }
   },
   "outputs": [],
   "source": [
    "import numpy as np\n",
    "import pandas as pd\n",
    "import psycopg2 as pg\n",
    "import sweetviz as sv\n",
    "import seaborn as sns\n",
    "import scikitplot as skplt\n",
    "\n",
    "from matplotlib import pyplot as plt\n",
    "from sklearn import preprocessing as pp\n",
    "from sklearn import model_selection as ms\n",
    "from sklearn import ensemble as en\n",
    "from sklearn import neighbors as nh\n",
    "from sklearn import linear_model as lm"
   ]
  },
  {
   "cell_type": "markdown",
   "id": "64a01097",
   "metadata": {},
   "source": [
    "## Helper Functions"
   ]
  },
  {
   "cell_type": "code",
   "execution_count": 323,
   "id": "7f0229a7",
   "metadata": {
    "ExecuteTime": {
     "end_time": "2022-10-01T13:20:48.586429Z",
     "start_time": "2022-10-01T13:20:48.566945Z"
    }
   },
   "outputs": [],
   "source": [
    "def pie_chart(data,att,title,legend_title):\n",
    "    \n",
    "    def data_detail(pct, allvalues):\n",
    "        absolute = int(pct/ 100.*np.sum(allvalues['response']))\n",
    "        return \"{:.0f}\\n({:.1f}%)\".format(absolute, pct)\n",
    "\n",
    "    wedges, texts, autotexts = plt.pie( data = data,\n",
    "                                       x = 'response',\n",
    "                                       autopct = lambda pct: data_detail(pct, data),\n",
    "                                       textprops = dict(color=\"w\"))\n",
    "    \n",
    "    plt.legend( wedges, list(['No', 'Yes']),\n",
    "              title = legend_title,\n",
    "              loc=\"center left\",\n",
    "              bbox_to_anchor = (1, 0, 0.5, 1))\n",
    "    plt.setp(autotexts, size=10, weight=\"bold\")\n",
    "    plt.title(title,fontsize = 15);"
   ]
  },
  {
   "cell_type": "code",
   "execution_count": null,
   "id": "57b09947",
   "metadata": {},
   "outputs": [],
   "source": []
  },
  {
   "cell_type": "markdown",
   "id": "8ea7d93b",
   "metadata": {},
   "source": [
    "# 0.1 Load Dataset"
   ]
  },
  {
   "cell_type": "code",
   "execution_count": 170,
   "id": "08146c6b",
   "metadata": {
    "ExecuteTime": {
     "end_time": "2022-10-01T11:54:02.993540Z",
     "start_time": "2022-10-01T11:53:56.212726Z"
    }
   },
   "outputs": [
    {
     "name": "stderr",
     "output_type": "stream",
     "text": [
      "C:\\Users\\Notebook\\anaconda3\\envs\\insurance-cross-sell-env\\lib\\site-packages\\pandas\\io\\sql.py:761: UserWarning: pandas only support SQLAlchemy connectable(engine/connection) ordatabase string URI or sqlite3 DBAPI2 connectionother DBAPI2 objects are not tested, please consider using SQLAlchemy\n",
      "  warnings.warn(\n"
     ]
    },
    {
     "data": {
      "text/html": [
       "<div>\n",
       "<style scoped>\n",
       "    .dataframe tbody tr th:only-of-type {\n",
       "        vertical-align: middle;\n",
       "    }\n",
       "\n",
       "    .dataframe tbody tr th {\n",
       "        vertical-align: top;\n",
       "    }\n",
       "\n",
       "    .dataframe thead th {\n",
       "        text-align: right;\n",
       "    }\n",
       "</style>\n",
       "<table border=\"1\" class=\"dataframe\">\n",
       "  <thead>\n",
       "    <tr style=\"text-align: right;\">\n",
       "      <th></th>\n",
       "      <th>id</th>\n",
       "      <th>gender</th>\n",
       "      <th>age</th>\n",
       "      <th>region_code</th>\n",
       "      <th>policy_sales_channel</th>\n",
       "      <th>id</th>\n",
       "      <th>driving_license</th>\n",
       "      <th>vehicle_age</th>\n",
       "      <th>vehicle_damage</th>\n",
       "      <th>id</th>\n",
       "      <th>previously_insured</th>\n",
       "      <th>annual_premium</th>\n",
       "      <th>vintage</th>\n",
       "      <th>response</th>\n",
       "    </tr>\n",
       "  </thead>\n",
       "  <tbody>\n",
       "    <tr>\n",
       "      <th>0</th>\n",
       "      <td>7</td>\n",
       "      <td>Male</td>\n",
       "      <td>23</td>\n",
       "      <td>11.0</td>\n",
       "      <td>152.0</td>\n",
       "      <td>7</td>\n",
       "      <td>1</td>\n",
       "      <td>&lt; 1 Year</td>\n",
       "      <td>Yes</td>\n",
       "      <td>7</td>\n",
       "      <td>0</td>\n",
       "      <td>23367.0</td>\n",
       "      <td>249</td>\n",
       "      <td>0</td>\n",
       "    </tr>\n",
       "    <tr>\n",
       "      <th>1</th>\n",
       "      <td>13</td>\n",
       "      <td>Female</td>\n",
       "      <td>41</td>\n",
       "      <td>15.0</td>\n",
       "      <td>14.0</td>\n",
       "      <td>13</td>\n",
       "      <td>1</td>\n",
       "      <td>1-2 Year</td>\n",
       "      <td>No</td>\n",
       "      <td>13</td>\n",
       "      <td>1</td>\n",
       "      <td>31409.0</td>\n",
       "      <td>221</td>\n",
       "      <td>0</td>\n",
       "    </tr>\n",
       "    <tr>\n",
       "      <th>2</th>\n",
       "      <td>18</td>\n",
       "      <td>Female</td>\n",
       "      <td>25</td>\n",
       "      <td>35.0</td>\n",
       "      <td>152.0</td>\n",
       "      <td>18</td>\n",
       "      <td>1</td>\n",
       "      <td>&lt; 1 Year</td>\n",
       "      <td>No</td>\n",
       "      <td>18</td>\n",
       "      <td>1</td>\n",
       "      <td>46622.0</td>\n",
       "      <td>299</td>\n",
       "      <td>0</td>\n",
       "    </tr>\n",
       "    <tr>\n",
       "      <th>3</th>\n",
       "      <td>31</td>\n",
       "      <td>Female</td>\n",
       "      <td>26</td>\n",
       "      <td>8.0</td>\n",
       "      <td>160.0</td>\n",
       "      <td>31</td>\n",
       "      <td>1</td>\n",
       "      <td>&lt; 1 Year</td>\n",
       "      <td>No</td>\n",
       "      <td>31</td>\n",
       "      <td>0</td>\n",
       "      <td>2630.0</td>\n",
       "      <td>136</td>\n",
       "      <td>0</td>\n",
       "    </tr>\n",
       "    <tr>\n",
       "      <th>4</th>\n",
       "      <td>39</td>\n",
       "      <td>Male</td>\n",
       "      <td>45</td>\n",
       "      <td>8.0</td>\n",
       "      <td>124.0</td>\n",
       "      <td>39</td>\n",
       "      <td>1</td>\n",
       "      <td>1-2 Year</td>\n",
       "      <td>Yes</td>\n",
       "      <td>39</td>\n",
       "      <td>0</td>\n",
       "      <td>42297.0</td>\n",
       "      <td>264</td>\n",
       "      <td>0</td>\n",
       "    </tr>\n",
       "  </tbody>\n",
       "</table>\n",
       "</div>"
      ],
      "text/plain": [
       "   id  gender  age  region_code  policy_sales_channel  id  driving_license  \\\n",
       "0   7    Male   23         11.0                 152.0   7                1   \n",
       "1  13  Female   41         15.0                  14.0  13                1   \n",
       "2  18  Female   25         35.0                 152.0  18                1   \n",
       "3  31  Female   26          8.0                 160.0  31                1   \n",
       "4  39    Male   45          8.0                 124.0  39                1   \n",
       "\n",
       "  vehicle_age vehicle_damage  id  previously_insured  annual_premium  vintage  \\\n",
       "0    < 1 Year            Yes   7                   0         23367.0      249   \n",
       "1    1-2 Year             No  13                   1         31409.0      221   \n",
       "2    < 1 Year             No  18                   1         46622.0      299   \n",
       "3    < 1 Year             No  31                   0          2630.0      136   \n",
       "4    1-2 Year            Yes  39                   0         42297.0      264   \n",
       "\n",
       "   response  \n",
       "0         0  \n",
       "1         0  \n",
       "2         0  \n",
       "3         0  \n",
       "4         0  "
      ]
     },
     "execution_count": 170,
     "metadata": {},
     "output_type": "execute_result"
    }
   ],
   "source": [
    "# Credentials\n",
    "\n",
    "host = 'comunidade-ds-postgres.c50pcakiuwi3.us-east-1.rds.amazonaws.com'\n",
    "port = 5432\n",
    "database = 'comunidadedsdb'\n",
    "username = 'member'\n",
    "pwd =' cdspa'\n",
    "\n",
    "# Connection with Database\n",
    "conn_string = f'host={host} port={port} dbname={database} user={username} password={pwd}'\n",
    "conn = pg.connect(conn_string)\n",
    "\n",
    "# SQL Query\n",
    "query = '''\n",
    "    select * \n",
    "    from pa004.users u LEFT JOIN pa004.vehicle v ON (u.id = v.id)\n",
    "                       LEFT JOIN pa004.insurance i ON (u.id = i.id)\n",
    "'''\n",
    "\n",
    "df = pd.read_sql(query, conn)\n",
    "conn.close()\n",
    "df.head()"
   ]
  },
  {
   "cell_type": "code",
   "execution_count": 171,
   "id": "28fb7c12",
   "metadata": {
    "ExecuteTime": {
     "end_time": "2022-10-01T11:54:03.008928Z",
     "start_time": "2022-10-01T11:54:02.996532Z"
    }
   },
   "outputs": [
    {
     "name": "stdout",
     "output_type": "stream",
     "text": [
      "Rows: 381109\n",
      "Columns: 14\n"
     ]
    }
   ],
   "source": [
    "print('Rows: {}'.format(df.shape[0]))\n",
    "print('Columns: {}'.format(df.shape[1]))"
   ]
  },
  {
   "cell_type": "code",
   "execution_count": 172,
   "id": "5430828a",
   "metadata": {
    "ExecuteTime": {
     "end_time": "2022-10-01T11:54:03.103241Z",
     "start_time": "2022-10-01T11:54:03.010703Z"
    }
   },
   "outputs": [
    {
     "data": {
      "text/html": [
       "<div>\n",
       "<style scoped>\n",
       "    .dataframe tbody tr th:only-of-type {\n",
       "        vertical-align: middle;\n",
       "    }\n",
       "\n",
       "    .dataframe tbody tr th {\n",
       "        vertical-align: top;\n",
       "    }\n",
       "\n",
       "    .dataframe thead th {\n",
       "        text-align: right;\n",
       "    }\n",
       "</style>\n",
       "<table border=\"1\" class=\"dataframe\">\n",
       "  <thead>\n",
       "    <tr style=\"text-align: right;\">\n",
       "      <th></th>\n",
       "      <th>id</th>\n",
       "      <th>gender</th>\n",
       "      <th>age</th>\n",
       "      <th>region_code</th>\n",
       "      <th>policy_sales_channel</th>\n",
       "      <th>driving_license</th>\n",
       "      <th>vehicle_age</th>\n",
       "      <th>vehicle_damage</th>\n",
       "      <th>previously_insured</th>\n",
       "      <th>annual_premium</th>\n",
       "      <th>vintage</th>\n",
       "      <th>response</th>\n",
       "    </tr>\n",
       "  </thead>\n",
       "  <tbody>\n",
       "    <tr>\n",
       "      <th>368363</th>\n",
       "      <td>279001</td>\n",
       "      <td>Male</td>\n",
       "      <td>27</td>\n",
       "      <td>39.0</td>\n",
       "      <td>152.0</td>\n",
       "      <td>1</td>\n",
       "      <td>&lt; 1 Year</td>\n",
       "      <td>No</td>\n",
       "      <td>1</td>\n",
       "      <td>27714.0</td>\n",
       "      <td>50</td>\n",
       "      <td>0</td>\n",
       "    </tr>\n",
       "    <tr>\n",
       "      <th>59369</th>\n",
       "      <td>93149</td>\n",
       "      <td>Male</td>\n",
       "      <td>63</td>\n",
       "      <td>28.0</td>\n",
       "      <td>26.0</td>\n",
       "      <td>1</td>\n",
       "      <td>1-2 Year</td>\n",
       "      <td>No</td>\n",
       "      <td>0</td>\n",
       "      <td>30469.0</td>\n",
       "      <td>49</td>\n",
       "      <td>0</td>\n",
       "    </tr>\n",
       "    <tr>\n",
       "      <th>84930</th>\n",
       "      <td>296595</td>\n",
       "      <td>Male</td>\n",
       "      <td>80</td>\n",
       "      <td>29.0</td>\n",
       "      <td>30.0</td>\n",
       "      <td>1</td>\n",
       "      <td>1-2 Year</td>\n",
       "      <td>No</td>\n",
       "      <td>0</td>\n",
       "      <td>2630.0</td>\n",
       "      <td>244</td>\n",
       "      <td>0</td>\n",
       "    </tr>\n",
       "  </tbody>\n",
       "</table>\n",
       "</div>"
      ],
      "text/plain": [
       "            id gender  age  region_code  policy_sales_channel  \\\n",
       "368363  279001   Male   27         39.0                 152.0   \n",
       "59369    93149   Male   63         28.0                  26.0   \n",
       "84930   296595   Male   80         29.0                  30.0   \n",
       "\n",
       "        driving_license vehicle_age vehicle_damage  previously_insured  \\\n",
       "368363                1    < 1 Year             No                   1   \n",
       "59369                 1    1-2 Year             No                   0   \n",
       "84930                 1    1-2 Year             No                   0   \n",
       "\n",
       "        annual_premium  vintage  response  \n",
       "368363         27714.0       50         0  \n",
       "59369          30469.0       49         0  \n",
       "84930           2630.0      244         0  "
      ]
     },
     "execution_count": 172,
     "metadata": {},
     "output_type": "execute_result"
    }
   ],
   "source": [
    "df_raw = df.loc[:,~df.columns.duplicated()]\n",
    "df_raw.sample(3)"
   ]
  },
  {
   "cell_type": "code",
   "execution_count": 173,
   "id": "9882884f",
   "metadata": {
    "ExecuteTime": {
     "end_time": "2022-10-01T11:54:03.119063Z",
     "start_time": "2022-10-01T11:54:03.107198Z"
    }
   },
   "outputs": [
    {
     "name": "stdout",
     "output_type": "stream",
     "text": [
      "Rows: 381109\n",
      "Columns: 12\n"
     ]
    }
   ],
   "source": [
    "print('Rows: {}'.format(df_raw.shape[0]))\n",
    "print('Columns: {}'.format(df_raw.shape[1]))"
   ]
  },
  {
   "cell_type": "markdown",
   "id": "e802babf",
   "metadata": {},
   "source": [
    "# 1.0 Data Description"
   ]
  },
  {
   "cell_type": "code",
   "execution_count": 174,
   "id": "0ecfc62f",
   "metadata": {
    "ExecuteTime": {
     "end_time": "2022-10-01T11:54:03.163943Z",
     "start_time": "2022-10-01T11:54:03.124048Z"
    }
   },
   "outputs": [],
   "source": [
    "df1 = df_raw.copy()"
   ]
  },
  {
   "cell_type": "markdown",
   "id": "501703cc",
   "metadata": {},
   "source": [
    "## 1.1 Data Dimension"
   ]
  },
  {
   "cell_type": "code",
   "execution_count": 175,
   "id": "fe1c2d7a",
   "metadata": {
    "ExecuteTime": {
     "end_time": "2022-10-01T11:54:03.178938Z",
     "start_time": "2022-10-01T11:54:03.165937Z"
    }
   },
   "outputs": [
    {
     "name": "stdout",
     "output_type": "stream",
     "text": [
      "Rows: 381109\n",
      "Columns: 12\n"
     ]
    }
   ],
   "source": [
    "print('Rows: {}'.format(df1.shape[0]))\n",
    "print('Columns: {}'.format(df1.shape[1]))"
   ]
  },
  {
   "cell_type": "markdown",
   "id": "82e7d5be",
   "metadata": {},
   "source": [
    "## 1.2 Data Types"
   ]
  },
  {
   "cell_type": "code",
   "execution_count": 176,
   "id": "02b161f8",
   "metadata": {
    "ExecuteTime": {
     "end_time": "2022-10-01T11:54:03.381790Z",
     "start_time": "2022-10-01T11:54:03.181789Z"
    }
   },
   "outputs": [
    {
     "name": "stdout",
     "output_type": "stream",
     "text": [
      "id (int64) :  [     7     13     18 ... 381082 381097 381100] \n",
      "\n",
      "gender (object) :  ['Male' 'Female'] \n",
      "\n",
      "age (int64) :  [23 41 25 26 45 44 29 31 50 49 59 20 24 22 52 60 55 40 64 69 58 78 34 75\n",
      " 37 54 46 42 51 76 57 27 38 21 71 77 33 47 72 28 43 39 53 68 62 56 36 35\n",
      " 30 61 63 66 74 67 32 70 73 48 65 80 79 81 82 84 85 83] \n",
      "\n",
      "region_code (float64) :  [11. 15. 35.  8. 28. 39. 29. 30. 25. 22. 36.  0. 26.  6. 48. 47. 33. 41.\n",
      " 46. 43.  2. 37. 40.  4. 10. 18.  9.  3. 50. 32. 24. 27. 34. 21. 45. 12.\n",
      "  5. 49. 14. 16. 13. 31. 23.  1. 42.  7. 17. 44. 19. 38. 20. 52. 51.] \n",
      "\n",
      "policy_sales_channel (float64) :  [152.  14. 160. 124.  13.  26. 151. 157. 156. 122.  23.  11. 163.  12.\n",
      " 154.  31.  19. 120.  55.  56.  24.   8.  10.   9.  61.  29.  52.  22.\n",
      " 150. 147.  15. 155.  60.   7. 125.  30.  18.  25. 145. 158. 139. 135.\n",
      " 136. 131.   3.   1. 127. 105.  16. 140.  91. 128. 113.  94. 132.  54.\n",
      "  42. 103. 153.   4.  51. 116.  36. 107. 146. 108.  47. 138. 111.  35.\n",
      " 114.  45.  86. 121. 123. 109.  59. 119.  37.  65. 133.  88.  38.  48.\n",
      " 110. 129.  44.  39. 106.  89. 159.  80.  92.  63.  21. 148. 104. 118.\n",
      " 137.  93.  32.  64.  20.  71. 117.  53. 112.  70.  98.  78.  76.  81.\n",
      " 130.  74.  90.  83.  40.  99.  46.  79.   2.  66.  49.  97.  73.  28.\n",
      "  17. 101.  58. 126.  27.  69.  34. 102. 149.  87.   6.  95.  41. 100.\n",
      "  75. 134.  62.  96. 115.  82.  57.  33.  67.  68.  50.  43. 144.  84.\n",
      " 143.] \n",
      "\n",
      "driving_license (int64) :  [1 0] \n",
      "\n",
      "vehicle_age (object) :  ['< 1 Year' '1-2 Year' '> 2 Years'] \n",
      "\n",
      "vehicle_damage (object) :  ['Yes' 'No'] \n",
      "\n",
      "previously_insured (int64) :  [0 1] \n",
      "\n",
      "annual_premium (float64) :  [23367. 31409. 46622. ... 67909. 91305. 20706.] \n",
      "\n",
      "vintage (int64) :  [249 221 299 136 264  73 242 167 209 247 229 149  88 155 158  78 125  67\n",
      " 134 142 245 114  49 150 121  60 143 285  86 293 270 197 290  47 224  94\n",
      " 222 185 205  11 288  77 107 236 113 108 120  13  15 265  92 220 204  82\n",
      "  48 244  53 168 266 233  10  38  83 216 109 115 240 279 275  34  87 182\n",
      " 226 116 280 161 183  74 145 129 100 232  36 295 102 124  85  54 138 203\n",
      " 163 212  22 172 263 148 131 283 281 128  35 137  97  64 153  42 284 175\n",
      " 250  26  81  32  45  69 253 227 252 297  68 105  12 178 111 140 133  51\n",
      " 259 164 256 268  56 276 277  90 179 217  55  89 254 180 187  37 271  40\n",
      " 193 184  61  99 103 165  75  63  91  29  23 190 132 225 294 157 156 211\n",
      " 101 239  57 260 287  16  70 273 215 248  66 296 234 152 235  20 206  98\n",
      " 122 202 199  27 298 208  25 262 278  14  93  52 257 127  19 186 189 162\n",
      " 198 110  30 123 207 237 144 173 119 241 274 286  59 258  72 146 151 170\n",
      " 135  18 228 117  17 160  39  96 291 194 231 219 104 282 213  95 191 176\n",
      " 238  65 218 139 154 147  84 171  41 201 159  62 196 177 243  31 192  21\n",
      " 230 255 169 126  80  46  79  50  43  44 118 200 195 223 272 141 188 130\n",
      "  24  33 261 166 181 289 214  58 112 174  28  76 269 292 246 251 106 210\n",
      " 267  71] \n",
      "\n",
      "response (int64) :  [0 1] \n",
      "\n"
     ]
    }
   ],
   "source": [
    "for att in df1.columns:\n",
    "    print(att, '({}) : '.format(df1[att].dtype), df1[att].unique(), \"\\n\")"
   ]
  },
  {
   "cell_type": "markdown",
   "id": "1f9af3c0",
   "metadata": {},
   "source": [
    "## 1.3 Change Types"
   ]
  },
  {
   "cell_type": "code",
   "execution_count": 177,
   "id": "03d8d0e7",
   "metadata": {
    "ExecuteTime": {
     "end_time": "2022-10-01T11:54:03.414076Z",
     "start_time": "2022-10-01T11:54:03.383932Z"
    }
   },
   "outputs": [],
   "source": [
    "# region_code\n",
    "df1['region_code'] = df1['region_code'].astype('int64')\n",
    "\n",
    "# policy_sales_channel \n",
    "df1['policy_sales_channel'] = df1['policy_sales_channel'].astype('int64')"
   ]
  },
  {
   "cell_type": "code",
   "execution_count": 178,
   "id": "16a3008d",
   "metadata": {
    "ExecuteTime": {
     "end_time": "2022-10-01T11:54:03.429757Z",
     "start_time": "2022-10-01T11:54:03.414706Z"
    }
   },
   "outputs": [
    {
     "data": {
      "text/plain": [
       "id                        int64\n",
       "gender                   object\n",
       "age                       int64\n",
       "region_code               int64\n",
       "policy_sales_channel      int64\n",
       "driving_license           int64\n",
       "vehicle_age              object\n",
       "vehicle_damage           object\n",
       "previously_insured        int64\n",
       "annual_premium          float64\n",
       "vintage                   int64\n",
       "response                  int64\n",
       "dtype: object"
      ]
     },
     "execution_count": 178,
     "metadata": {},
     "output_type": "execute_result"
    }
   ],
   "source": [
    "df1.dtypes"
   ]
  },
  {
   "cell_type": "markdown",
   "id": "6dae747e",
   "metadata": {},
   "source": [
    "## 1.4 Check NA"
   ]
  },
  {
   "cell_type": "code",
   "execution_count": 179,
   "id": "84be6a06",
   "metadata": {
    "ExecuteTime": {
     "end_time": "2022-10-01T11:54:03.635540Z",
     "start_time": "2022-10-01T11:54:03.433618Z"
    }
   },
   "outputs": [
    {
     "data": {
      "text/plain": [
       "id                      0\n",
       "gender                  0\n",
       "age                     0\n",
       "region_code             0\n",
       "policy_sales_channel    0\n",
       "driving_license         0\n",
       "vehicle_age             0\n",
       "vehicle_damage          0\n",
       "previously_insured      0\n",
       "annual_premium          0\n",
       "vintage                 0\n",
       "response                0\n",
       "dtype: int64"
      ]
     },
     "execution_count": 179,
     "metadata": {},
     "output_type": "execute_result"
    }
   ],
   "source": [
    "df1.isna().sum()"
   ]
  },
  {
   "cell_type": "markdown",
   "id": "ddd9b367",
   "metadata": {},
   "source": [
    "## 1.5 Data Descriptive"
   ]
  },
  {
   "cell_type": "code",
   "execution_count": 180,
   "id": "0140dcf2",
   "metadata": {
    "ExecuteTime": {
     "end_time": "2022-10-01T11:54:03.651536Z",
     "start_time": "2022-10-01T11:54:03.636536Z"
    }
   },
   "outputs": [
    {
     "data": {
      "text/plain": [
       "Index(['id', 'gender', 'age', 'region_code', 'policy_sales_channel',\n",
       "       'driving_license', 'vehicle_age', 'vehicle_damage',\n",
       "       'previously_insured', 'annual_premium', 'vintage', 'response'],\n",
       "      dtype='object')"
      ]
     },
     "execution_count": 180,
     "metadata": {},
     "output_type": "execute_result"
    }
   ],
   "source": [
    "df1.columns"
   ]
  },
  {
   "cell_type": "code",
   "execution_count": 181,
   "id": "4ca971d2",
   "metadata": {
    "ExecuteTime": {
     "end_time": "2022-10-01T11:54:03.730142Z",
     "start_time": "2022-10-01T11:54:03.653511Z"
    }
   },
   "outputs": [],
   "source": [
    "num_attributes = df1[['age','annual_premium','vintage']]\n",
    "cat_attributes = df1[['gender','driving_license','vehicle_age','vehicle_damage','previously_insured','policy_sales_channel','region_code']]"
   ]
  },
  {
   "cell_type": "markdown",
   "id": "b3d4aef6",
   "metadata": {},
   "source": [
    "### 1.5.1 Numerical atributes"
   ]
  },
  {
   "cell_type": "code",
   "execution_count": 182,
   "id": "c9b14a86",
   "metadata": {
    "ExecuteTime": {
     "end_time": "2022-10-01T11:54:03.997008Z",
     "start_time": "2022-10-01T11:54:03.734124Z"
    }
   },
   "outputs": [
    {
     "data": {
      "text/html": [
       "<div>\n",
       "<style scoped>\n",
       "    .dataframe tbody tr th:only-of-type {\n",
       "        vertical-align: middle;\n",
       "    }\n",
       "\n",
       "    .dataframe tbody tr th {\n",
       "        vertical-align: top;\n",
       "    }\n",
       "\n",
       "    .dataframe thead th {\n",
       "        text-align: right;\n",
       "    }\n",
       "</style>\n",
       "<table border=\"1\" class=\"dataframe\">\n",
       "  <thead>\n",
       "    <tr style=\"text-align: right;\">\n",
       "      <th></th>\n",
       "      <th>attributes</th>\n",
       "      <th>min</th>\n",
       "      <th>max</th>\n",
       "      <th>range</th>\n",
       "      <th>mean</th>\n",
       "      <th>median</th>\n",
       "      <th>std</th>\n",
       "      <th>skew</th>\n",
       "      <th>kurtosis</th>\n",
       "    </tr>\n",
       "  </thead>\n",
       "  <tbody>\n",
       "    <tr>\n",
       "      <th>0</th>\n",
       "      <td>age</td>\n",
       "      <td>20.0</td>\n",
       "      <td>85.0</td>\n",
       "      <td>65.0</td>\n",
       "      <td>38.822584</td>\n",
       "      <td>38.822584</td>\n",
       "      <td>15.511591</td>\n",
       "      <td>0.672539</td>\n",
       "      <td>-0.565655</td>\n",
       "    </tr>\n",
       "    <tr>\n",
       "      <th>1</th>\n",
       "      <td>annual_premium</td>\n",
       "      <td>2630.0</td>\n",
       "      <td>540165.0</td>\n",
       "      <td>537535.0</td>\n",
       "      <td>30564.389581</td>\n",
       "      <td>30564.389581</td>\n",
       "      <td>17213.132474</td>\n",
       "      <td>1.766087</td>\n",
       "      <td>34.004569</td>\n",
       "    </tr>\n",
       "    <tr>\n",
       "      <th>2</th>\n",
       "      <td>vintage</td>\n",
       "      <td>10.0</td>\n",
       "      <td>299.0</td>\n",
       "      <td>289.0</td>\n",
       "      <td>154.347397</td>\n",
       "      <td>154.347397</td>\n",
       "      <td>83.671194</td>\n",
       "      <td>0.003030</td>\n",
       "      <td>-1.200688</td>\n",
       "    </tr>\n",
       "  </tbody>\n",
       "</table>\n",
       "</div>"
      ],
      "text/plain": [
       "       attributes     min       max     range          mean        median  \\\n",
       "0             age    20.0      85.0      65.0     38.822584     38.822584   \n",
       "1  annual_premium  2630.0  540165.0  537535.0  30564.389581  30564.389581   \n",
       "2         vintage    10.0     299.0     289.0    154.347397    154.347397   \n",
       "\n",
       "            std      skew   kurtosis  \n",
       "0     15.511591  0.672539  -0.565655  \n",
       "1  17213.132474  1.766087  34.004569  \n",
       "2     83.671194  0.003030  -1.200688  "
      ]
     },
     "execution_count": 182,
     "metadata": {},
     "output_type": "execute_result"
    }
   ],
   "source": [
    "ct1 = pd.DataFrame(num_attributes.apply(np.mean)).T\n",
    "ct2 = pd.DataFrame(num_attributes.apply(np.mean)).T\n",
    "\n",
    "d1 = pd.DataFrame(num_attributes.apply(np.std)).T\n",
    "d2 = pd.DataFrame(num_attributes.apply(min)).T\n",
    "d3 = pd.DataFrame(num_attributes.apply(max)).T\n",
    "d4 = pd.DataFrame(num_attributes.apply(lambda x: x.max() - x.min())).T\n",
    "d5 = pd.DataFrame(num_attributes.apply(lambda x: x.skew())).T\n",
    "d6 = pd.DataFrame(num_attributes.apply(lambda x: x.kurtosis())).T\n",
    "\n",
    "m = pd.concat([d2, d3, d4, ct1, ct2, d1, d5, d6]).T.reset_index()\n",
    "m.columns = ['attributes', 'min', 'max','range','mean','median','std','skew','kurtosis']\n",
    "\n",
    "m"
   ]
  },
  {
   "cell_type": "markdown",
   "id": "51372f99",
   "metadata": {},
   "source": [
    "### 1.5.2 Categorical atributes"
   ]
  },
  {
   "cell_type": "code",
   "execution_count": 183,
   "id": "6aacb015",
   "metadata": {
    "ExecuteTime": {
     "end_time": "2022-10-01T11:54:04.230598Z",
     "start_time": "2022-10-01T11:54:03.998976Z"
    }
   },
   "outputs": [
    {
     "name": "stdout",
     "output_type": "stream",
     "text": [
      "gender: \n",
      "Number of categories: 2\n",
      "Categories: ['Female', 'Male']\n",
      "\n",
      "driving_license: \n",
      "Number of categories: 2\n",
      "Categories: [0, 1]\n",
      "\n",
      "vehicle_age: \n",
      "Number of categories: 3\n",
      "Categories: ['1-2 Year', '< 1 Year', '> 2 Years']\n",
      "\n",
      "vehicle_damage: \n",
      "Number of categories: 2\n",
      "Categories: ['No', 'Yes']\n",
      "\n",
      "previously_insured: \n",
      "Number of categories: 2\n",
      "Categories: [0, 1]\n",
      "\n",
      "policy_sales_channel: \n",
      "Number of categories: 155\n",
      "Categories: [1, 2, 3, 4, 6, 7, 8, 9, 10, 11, 12, 13, 14, 15, 16, 17, 18, 19, 20, 21, 22, 23, 24, 25, 26, 27, 28, 29, 30, 31, 32, 33, 34, 35, 36, 37, 38, 39, 40, 41, 42, 43, 44, 45, 46, 47, 48, 49, 50, 51, 52, 53, 54, 55, 56, 57, 58, 59, 60, 61, 62, 63, 64, 65, 66, 67, 68, 69, 70, 71, 73, 74, 75, 76, 78, 79, 80, 81, 82, 83, 84, 86, 87, 88, 89, 90, 91, 92, 93, 94, 95, 96, 97, 98, 99, 100, 101, 102, 103, 104, 105, 106, 107, 108, 109, 110, 111, 112, 113, 114, 115, 116, 117, 118, 119, 120, 121, 122, 123, 124, 125, 126, 127, 128, 129, 130, 131, 132, 133, 134, 135, 136, 137, 138, 139, 140, 143, 144, 145, 146, 147, 148, 149, 150, 151, 152, 153, 154, 155, 156, 157, 158, 159, 160, 163]\n",
      "\n",
      "region_code: \n",
      "Number of categories: 53\n",
      "Categories: [0, 1, 2, 3, 4, 5, 6, 7, 8, 9, 10, 11, 12, 13, 14, 15, 16, 17, 18, 19, 20, 21, 22, 23, 24, 25, 26, 27, 28, 29, 30, 31, 32, 33, 34, 35, 36, 37, 38, 39, 40, 41, 42, 43, 44, 45, 46, 47, 48, 49, 50, 51, 52]\n",
      "\n"
     ]
    }
   ],
   "source": [
    "for i in cat_attributes.columns:\n",
    "    print(f'{i}: \\nNumber of categories: {cat_attributes[i].unique().shape[0]}\\nCategories: {sorted(cat_attributes[i].unique())}\\n')"
   ]
  },
  {
   "cell_type": "markdown",
   "id": "ee72a599",
   "metadata": {},
   "source": [
    "# 2.0 Feature Engineering"
   ]
  },
  {
   "cell_type": "code",
   "execution_count": 184,
   "id": "08d88b62",
   "metadata": {
    "ExecuteTime": {
     "end_time": "2022-10-01T11:54:04.275987Z",
     "start_time": "2022-10-01T11:54:04.232594Z"
    }
   },
   "outputs": [],
   "source": [
    "df2 = df1.copy()"
   ]
  },
  {
   "cell_type": "markdown",
   "id": "de934468",
   "metadata": {},
   "source": [
    "## 2.1 Hyphotesis Mind Map"
   ]
  },
  {
   "cell_type": "code",
   "execution_count": null,
   "id": "9c33e0da",
   "metadata": {},
   "outputs": [],
   "source": []
  },
  {
   "cell_type": "code",
   "execution_count": null,
   "id": "029900e9",
   "metadata": {},
   "outputs": [],
   "source": []
  },
  {
   "cell_type": "markdown",
   "id": "1527bd8d",
   "metadata": {},
   "source": [
    "## 2.2 Feature Criation"
   ]
  },
  {
   "cell_type": "code",
   "execution_count": 185,
   "id": "e0e55ce9",
   "metadata": {
    "ExecuteTime": {
     "end_time": "2022-10-01T11:54:04.306903Z",
     "start_time": "2022-10-01T11:54:04.278291Z"
    }
   },
   "outputs": [
    {
     "data": {
      "text/html": [
       "<div>\n",
       "<style scoped>\n",
       "    .dataframe tbody tr th:only-of-type {\n",
       "        vertical-align: middle;\n",
       "    }\n",
       "\n",
       "    .dataframe tbody tr th {\n",
       "        vertical-align: top;\n",
       "    }\n",
       "\n",
       "    .dataframe thead th {\n",
       "        text-align: right;\n",
       "    }\n",
       "</style>\n",
       "<table border=\"1\" class=\"dataframe\">\n",
       "  <thead>\n",
       "    <tr style=\"text-align: right;\">\n",
       "      <th></th>\n",
       "      <th>id</th>\n",
       "      <th>gender</th>\n",
       "      <th>age</th>\n",
       "      <th>region_code</th>\n",
       "      <th>policy_sales_channel</th>\n",
       "      <th>driving_license</th>\n",
       "      <th>vehicle_age</th>\n",
       "      <th>vehicle_damage</th>\n",
       "      <th>previously_insured</th>\n",
       "      <th>annual_premium</th>\n",
       "      <th>vintage</th>\n",
       "      <th>response</th>\n",
       "    </tr>\n",
       "  </thead>\n",
       "  <tbody>\n",
       "    <tr>\n",
       "      <th>0</th>\n",
       "      <td>7</td>\n",
       "      <td>Male</td>\n",
       "      <td>23</td>\n",
       "      <td>11</td>\n",
       "      <td>152</td>\n",
       "      <td>1</td>\n",
       "      <td>&lt; 1 Year</td>\n",
       "      <td>Yes</td>\n",
       "      <td>0</td>\n",
       "      <td>23367.0</td>\n",
       "      <td>249</td>\n",
       "      <td>0</td>\n",
       "    </tr>\n",
       "    <tr>\n",
       "      <th>1</th>\n",
       "      <td>13</td>\n",
       "      <td>Female</td>\n",
       "      <td>41</td>\n",
       "      <td>15</td>\n",
       "      <td>14</td>\n",
       "      <td>1</td>\n",
       "      <td>1-2 Year</td>\n",
       "      <td>No</td>\n",
       "      <td>1</td>\n",
       "      <td>31409.0</td>\n",
       "      <td>221</td>\n",
       "      <td>0</td>\n",
       "    </tr>\n",
       "    <tr>\n",
       "      <th>2</th>\n",
       "      <td>18</td>\n",
       "      <td>Female</td>\n",
       "      <td>25</td>\n",
       "      <td>35</td>\n",
       "      <td>152</td>\n",
       "      <td>1</td>\n",
       "      <td>&lt; 1 Year</td>\n",
       "      <td>No</td>\n",
       "      <td>1</td>\n",
       "      <td>46622.0</td>\n",
       "      <td>299</td>\n",
       "      <td>0</td>\n",
       "    </tr>\n",
       "    <tr>\n",
       "      <th>3</th>\n",
       "      <td>31</td>\n",
       "      <td>Female</td>\n",
       "      <td>26</td>\n",
       "      <td>8</td>\n",
       "      <td>160</td>\n",
       "      <td>1</td>\n",
       "      <td>&lt; 1 Year</td>\n",
       "      <td>No</td>\n",
       "      <td>0</td>\n",
       "      <td>2630.0</td>\n",
       "      <td>136</td>\n",
       "      <td>0</td>\n",
       "    </tr>\n",
       "    <tr>\n",
       "      <th>4</th>\n",
       "      <td>39</td>\n",
       "      <td>Male</td>\n",
       "      <td>45</td>\n",
       "      <td>8</td>\n",
       "      <td>124</td>\n",
       "      <td>1</td>\n",
       "      <td>1-2 Year</td>\n",
       "      <td>Yes</td>\n",
       "      <td>0</td>\n",
       "      <td>42297.0</td>\n",
       "      <td>264</td>\n",
       "      <td>0</td>\n",
       "    </tr>\n",
       "  </tbody>\n",
       "</table>\n",
       "</div>"
      ],
      "text/plain": [
       "   id  gender  age  region_code  policy_sales_channel  driving_license  \\\n",
       "0   7    Male   23           11                   152                1   \n",
       "1  13  Female   41           15                    14                1   \n",
       "2  18  Female   25           35                   152                1   \n",
       "3  31  Female   26            8                   160                1   \n",
       "4  39    Male   45            8                   124                1   \n",
       "\n",
       "  vehicle_age vehicle_damage  previously_insured  annual_premium  vintage  \\\n",
       "0    < 1 Year            Yes                   0         23367.0      249   \n",
       "1    1-2 Year             No                   1         31409.0      221   \n",
       "2    < 1 Year             No                   1         46622.0      299   \n",
       "3    < 1 Year             No                   0          2630.0      136   \n",
       "4    1-2 Year            Yes                   0         42297.0      264   \n",
       "\n",
       "   response  \n",
       "0         0  \n",
       "1         0  \n",
       "2         0  \n",
       "3         0  \n",
       "4         0  "
      ]
     },
     "execution_count": 185,
     "metadata": {},
     "output_type": "execute_result"
    }
   ],
   "source": [
    "df2.head()"
   ]
  },
  {
   "cell_type": "code",
   "execution_count": 186,
   "id": "5f7aa2ee",
   "metadata": {
    "ExecuteTime": {
     "end_time": "2022-10-01T11:54:04.476877Z",
     "start_time": "2022-10-01T11:54:04.308870Z"
    }
   },
   "outputs": [],
   "source": [
    "# vericle_age\n",
    "df2['vehicle_age'] = df2['vehicle_age'].apply(lambda x: 'bellow_1_year' if x == '< 1 Year' else \n",
    "                                                     'between_1_2_year' if x == '1-2 Year' else \n",
    "                                                     'over_2_years')\n",
    "# vehicle damage\n",
    "df2['vehicle_damage'] = df2['vehicle_damage'].map({'Yes':1,'No':0}) "
   ]
  },
  {
   "cell_type": "code",
   "execution_count": 187,
   "id": "70c4a400",
   "metadata": {
    "ExecuteTime": {
     "end_time": "2022-10-01T11:54:04.492829Z",
     "start_time": "2022-10-01T11:54:04.478701Z"
    }
   },
   "outputs": [
    {
     "data": {
      "text/html": [
       "<div>\n",
       "<style scoped>\n",
       "    .dataframe tbody tr th:only-of-type {\n",
       "        vertical-align: middle;\n",
       "    }\n",
       "\n",
       "    .dataframe tbody tr th {\n",
       "        vertical-align: top;\n",
       "    }\n",
       "\n",
       "    .dataframe thead th {\n",
       "        text-align: right;\n",
       "    }\n",
       "</style>\n",
       "<table border=\"1\" class=\"dataframe\">\n",
       "  <thead>\n",
       "    <tr style=\"text-align: right;\">\n",
       "      <th></th>\n",
       "      <th>id</th>\n",
       "      <th>gender</th>\n",
       "      <th>age</th>\n",
       "      <th>region_code</th>\n",
       "      <th>policy_sales_channel</th>\n",
       "      <th>driving_license</th>\n",
       "      <th>vehicle_age</th>\n",
       "      <th>vehicle_damage</th>\n",
       "      <th>previously_insured</th>\n",
       "      <th>annual_premium</th>\n",
       "      <th>vintage</th>\n",
       "      <th>response</th>\n",
       "    </tr>\n",
       "  </thead>\n",
       "  <tbody>\n",
       "    <tr>\n",
       "      <th>0</th>\n",
       "      <td>7</td>\n",
       "      <td>Male</td>\n",
       "      <td>23</td>\n",
       "      <td>11</td>\n",
       "      <td>152</td>\n",
       "      <td>1</td>\n",
       "      <td>bellow_1_year</td>\n",
       "      <td>1</td>\n",
       "      <td>0</td>\n",
       "      <td>23367.0</td>\n",
       "      <td>249</td>\n",
       "      <td>0</td>\n",
       "    </tr>\n",
       "    <tr>\n",
       "      <th>1</th>\n",
       "      <td>13</td>\n",
       "      <td>Female</td>\n",
       "      <td>41</td>\n",
       "      <td>15</td>\n",
       "      <td>14</td>\n",
       "      <td>1</td>\n",
       "      <td>between_1_2_year</td>\n",
       "      <td>0</td>\n",
       "      <td>1</td>\n",
       "      <td>31409.0</td>\n",
       "      <td>221</td>\n",
       "      <td>0</td>\n",
       "    </tr>\n",
       "    <tr>\n",
       "      <th>2</th>\n",
       "      <td>18</td>\n",
       "      <td>Female</td>\n",
       "      <td>25</td>\n",
       "      <td>35</td>\n",
       "      <td>152</td>\n",
       "      <td>1</td>\n",
       "      <td>bellow_1_year</td>\n",
       "      <td>0</td>\n",
       "      <td>1</td>\n",
       "      <td>46622.0</td>\n",
       "      <td>299</td>\n",
       "      <td>0</td>\n",
       "    </tr>\n",
       "    <tr>\n",
       "      <th>3</th>\n",
       "      <td>31</td>\n",
       "      <td>Female</td>\n",
       "      <td>26</td>\n",
       "      <td>8</td>\n",
       "      <td>160</td>\n",
       "      <td>1</td>\n",
       "      <td>bellow_1_year</td>\n",
       "      <td>0</td>\n",
       "      <td>0</td>\n",
       "      <td>2630.0</td>\n",
       "      <td>136</td>\n",
       "      <td>0</td>\n",
       "    </tr>\n",
       "    <tr>\n",
       "      <th>4</th>\n",
       "      <td>39</td>\n",
       "      <td>Male</td>\n",
       "      <td>45</td>\n",
       "      <td>8</td>\n",
       "      <td>124</td>\n",
       "      <td>1</td>\n",
       "      <td>between_1_2_year</td>\n",
       "      <td>1</td>\n",
       "      <td>0</td>\n",
       "      <td>42297.0</td>\n",
       "      <td>264</td>\n",
       "      <td>0</td>\n",
       "    </tr>\n",
       "  </tbody>\n",
       "</table>\n",
       "</div>"
      ],
      "text/plain": [
       "   id  gender  age  region_code  policy_sales_channel  driving_license  \\\n",
       "0   7    Male   23           11                   152                1   \n",
       "1  13  Female   41           15                    14                1   \n",
       "2  18  Female   25           35                   152                1   \n",
       "3  31  Female   26            8                   160                1   \n",
       "4  39    Male   45            8                   124                1   \n",
       "\n",
       "        vehicle_age  vehicle_damage  previously_insured  annual_premium  \\\n",
       "0     bellow_1_year               1                   0         23367.0   \n",
       "1  between_1_2_year               0                   1         31409.0   \n",
       "2     bellow_1_year               0                   1         46622.0   \n",
       "3     bellow_1_year               0                   0          2630.0   \n",
       "4  between_1_2_year               1                   0         42297.0   \n",
       "\n",
       "   vintage  response  \n",
       "0      249         0  \n",
       "1      221         0  \n",
       "2      299         0  \n",
       "3      136         0  \n",
       "4      264         0  "
      ]
     },
     "execution_count": 187,
     "metadata": {},
     "output_type": "execute_result"
    }
   ],
   "source": [
    "df2.head()"
   ]
  },
  {
   "cell_type": "markdown",
   "id": "693272c8",
   "metadata": {},
   "source": [
    "# 3.0 Data Filtering"
   ]
  },
  {
   "cell_type": "code",
   "execution_count": 188,
   "id": "995e9e62",
   "metadata": {
    "ExecuteTime": {
     "end_time": "2022-10-01T11:54:04.571268Z",
     "start_time": "2022-10-01T11:54:04.494854Z"
    }
   },
   "outputs": [],
   "source": [
    "df3 = df2.copy()"
   ]
  },
  {
   "cell_type": "markdown",
   "id": "e314a9b5",
   "metadata": {},
   "source": [
    "# 4.0 Exploratory Data Analysis"
   ]
  },
  {
   "cell_type": "code",
   "execution_count": 189,
   "id": "d353005b",
   "metadata": {
    "ExecuteTime": {
     "end_time": "2022-10-01T11:54:04.601798Z",
     "start_time": "2022-10-01T11:54:04.574628Z"
    }
   },
   "outputs": [],
   "source": [
    "df4 = df3.copy()"
   ]
  },
  {
   "cell_type": "code",
   "execution_count": 190,
   "id": "419211bf",
   "metadata": {
    "ExecuteTime": {
     "end_time": "2022-10-01T11:54:04.617984Z",
     "start_time": "2022-10-01T11:54:04.604579Z"
    }
   },
   "outputs": [],
   "source": [
    "# report = sv.analyze(df4)\n",
    "# report.show_html()"
   ]
  },
  {
   "cell_type": "markdown",
   "id": "52ff783e",
   "metadata": {},
   "source": [
    "## 4.1. Univariate Analysis"
   ]
  },
  {
   "cell_type": "markdown",
   "id": "00e91da8",
   "metadata": {
    "heading_collapsed": true
   },
   "source": [
    "### 4.1.1 Numerial Variables"
   ]
  },
  {
   "cell_type": "markdown",
   "id": "61e7910f",
   "metadata": {
    "heading_collapsed": true,
    "hidden": true,
    "hide_input": true
   },
   "source": [
    "#### 4.1.1.1 Age\n",
    "\n",
    "- Although people between 20 and 30 yeard old are not usually interest, people between 40 and 50 years old are offen intereset"
   ]
  },
  {
   "cell_type": "code",
   "execution_count": 191,
   "id": "84d72d1c",
   "metadata": {
    "ExecuteTime": {
     "end_time": "2022-10-01T11:54:04.852097Z",
     "start_time": "2022-10-01T11:54:04.620552Z"
    },
    "cell_style": "center",
    "hidden": true,
    "hide_input": true,
    "scrolled": true
   },
   "outputs": [
    {
     "data": {
      "image/png": "[encoded data removed]",
      "text/plain": [
       "<Figure size 432x288 with 1 Axes>"
      ]
     },
     "metadata": {
      "needs_background": "light"
     },
     "output_type": "display_data"
    }
   ],
   "source": [
    "# 'age'\n",
    "# fig = plt.figure(figsize=(10,6))\n",
    "sns.boxplot(x='response',y='age',data=df4);"
   ]
  },
  {
   "cell_type": "markdown",
   "id": "b5ea7b41",
   "metadata": {
    "cell_style": "split",
    "hidden": true
   },
   "source": [
    "##### Not Interesed"
   ]
  },
  {
   "cell_type": "markdown",
   "id": "fd1c6447",
   "metadata": {
    "cell_style": "split",
    "hidden": true
   },
   "source": [
    "##### Interessed"
   ]
  },
  {
   "cell_type": "code",
   "execution_count": 192,
   "id": "f1301b98",
   "metadata": {
    "ExecuteTime": {
     "end_time": "2022-10-01T11:54:05.399957Z",
     "start_time": "2022-10-01T11:54:04.855401Z"
    },
    "cell_style": "split",
    "hidden": true,
    "hide_input": true,
    "scrolled": true
   },
   "outputs": [
    {
     "data": {
      "text/plain": [
       "<AxesSubplot:xlabel='age', ylabel='Count'>"
      ]
     },
     "execution_count": 192,
     "metadata": {},
     "output_type": "execute_result"
    },
    {
     "data": {
      "image/png": "[encoded data removed]",
      "text/plain": [
       "<Figure size 432x288 with 1 Axes>"
      ]
     },
     "metadata": {
      "needs_background": "light"
     },
     "output_type": "display_data"
    }
   ],
   "source": [
    "aux00 = df4.loc[df4['response'] == 0, 'age']\n",
    "sns.histplot(aux00)"
   ]
  },
  {
   "cell_type": "code",
   "execution_count": 193,
   "id": "5d3606cb",
   "metadata": {
    "ExecuteTime": {
     "end_time": "2022-10-01T11:54:05.809672Z",
     "start_time": "2022-10-01T11:54:05.402851Z"
    },
    "cell_style": "split",
    "hidden": true,
    "hide_input": true,
    "scrolled": true
   },
   "outputs": [
    {
     "data": {
      "text/plain": [
       "<AxesSubplot:xlabel='age', ylabel='Count'>"
      ]
     },
     "execution_count": 193,
     "metadata": {},
     "output_type": "execute_result"
    },
    {
     "data": {
      "image/png": "[encoded data removed]",
      "text/plain": [
       "<Figure size 432x288 with 1 Axes>"
      ]
     },
     "metadata": {
      "needs_background": "light"
     },
     "output_type": "display_data"
    }
   ],
   "source": [
    "aux00 = df4.loc[df4['response'] == 1, 'age']\n",
    "sns.histplot(aux00)"
   ]
  },
  {
   "cell_type": "markdown",
   "id": "f5c5d202",
   "metadata": {
    "heading_collapsed": true,
    "hidden": true
   },
   "source": [
    "#### 4.1.1.2 Annual Premium\n",
    "\n",
    "- The distribuiton of annual premium are very similuar to interest and not interest people. Only the scale of this distribution are diferent"
   ]
  },
  {
   "cell_type": "code",
   "execution_count": 194,
   "id": "bd3ddf07",
   "metadata": {
    "ExecuteTime": {
     "end_time": "2022-10-01T11:54:06.136368Z",
     "start_time": "2022-10-01T11:54:05.814005Z"
    },
    "cell_style": "center",
    "hidden": true,
    "hide_input": true
   },
   "outputs": [
    {
     "data": {
      "image/png": "[encoded data removed]",
      "text/plain": [
       "<Figure size 432x288 with 1 Axes>"
      ]
     },
     "metadata": {
      "needs_background": "light"
     },
     "output_type": "display_data"
    }
   ],
   "source": [
    "# 'annual_premium'\n",
    "aux = df4[(df4['annual_premium'] < 80000) & (df4['annual_premium'] > 10000)]\n",
    "sns.boxplot(x='response',y='annual_premium',data=aux);"
   ]
  },
  {
   "cell_type": "markdown",
   "id": "c441613e",
   "metadata": {
    "cell_style": "split",
    "hidden": true
   },
   "source": [
    "##### Interesed"
   ]
  },
  {
   "cell_type": "markdown",
   "id": "cecb8719",
   "metadata": {
    "cell_style": "split",
    "hidden": true
   },
   "source": [
    "##### Not interessed"
   ]
  },
  {
   "cell_type": "code",
   "execution_count": 195,
   "id": "53f10675",
   "metadata": {
    "ExecuteTime": {
     "end_time": "2022-10-01T11:54:07.108096Z",
     "start_time": "2022-10-01T11:54:06.139319Z"
    },
    "cell_style": "split",
    "hidden": true,
    "hide_input": true,
    "scrolled": true
   },
   "outputs": [
    {
     "data": {
      "text/plain": [
       "<AxesSubplot:xlabel='annual_premium', ylabel='Count'>"
      ]
     },
     "execution_count": 195,
     "metadata": {},
     "output_type": "execute_result"
    },
    {
     "data": {
      "image/png": "[encoded data removed]",
      "text/plain": [
       "<Figure size 432x288 with 1 Axes>"
      ]
     },
     "metadata": {
      "needs_background": "light"
     },
     "output_type": "display_data"
    }
   ],
   "source": [
    "aux00 = aux.loc[aux['response'] == 0, 'annual_premium']\n",
    "sns.histplot(aux00)"
   ]
  },
  {
   "cell_type": "code",
   "execution_count": 196,
   "id": "f8f07f8c",
   "metadata": {
    "ExecuteTime": {
     "end_time": "2022-10-01T11:54:07.520148Z",
     "start_time": "2022-10-01T11:54:07.110360Z"
    },
    "cell_style": "split",
    "hidden": true,
    "hide_input": true,
    "scrolled": false
   },
   "outputs": [
    {
     "data": {
      "text/plain": [
       "<AxesSubplot:xlabel='annual_premium', ylabel='Count'>"
      ]
     },
     "execution_count": 196,
     "metadata": {},
     "output_type": "execute_result"
    },
    {
     "data": {
      "image/png": "[encoded data removed]",
      "text/plain": [
       "<Figure size 432x288 with 1 Axes>"
      ]
     },
     "metadata": {
      "needs_background": "light"
     },
     "output_type": "display_data"
    }
   ],
   "source": [
    "aux00 = aux.loc[aux['response'] == 1, 'annual_premium']\n",
    "sns.histplot(aux00)"
   ]
  },
  {
   "cell_type": "markdown",
   "id": "b51b7c92",
   "metadata": {
    "cell_style": "center",
    "heading_collapsed": true,
    "hidden": true,
    "hide_input": true
   },
   "source": [
    "#### 4.1.1.3 Vintage"
   ]
  },
  {
   "cell_type": "code",
   "execution_count": 197,
   "id": "1f5044bb",
   "metadata": {
    "ExecuteTime": {
     "end_time": "2022-10-01T11:54:08.044415Z",
     "start_time": "2022-10-01T11:54:07.531012Z"
    },
    "cell_style": "split",
    "hidden": true,
    "scrolled": true
   },
   "outputs": [
    {
     "data": {
      "text/plain": [
       "<AxesSubplot:xlabel='vintage', ylabel='Count'>"
      ]
     },
     "execution_count": 197,
     "metadata": {},
     "output_type": "execute_result"
    },
    {
     "data": {
      "image/png": "[encoded data removed]",
      "text/plain": [
       "<Figure size 432x288 with 1 Axes>"
      ]
     },
     "metadata": {
      "needs_background": "light"
     },
     "output_type": "display_data"
    }
   ],
   "source": [
    "aux00 = df4.loc[df4['response'] == 0, 'vintage']\n",
    "sns.histplot(aux00)"
   ]
  },
  {
   "cell_type": "code",
   "execution_count": 198,
   "id": "5dfaf939",
   "metadata": {
    "ExecuteTime": {
     "end_time": "2022-10-01T11:54:08.373041Z",
     "start_time": "2022-10-01T11:54:08.047221Z"
    },
    "cell_style": "split",
    "hidden": true,
    "scrolled": false
   },
   "outputs": [
    {
     "data": {
      "text/plain": [
       "<AxesSubplot:xlabel='vintage', ylabel='Count'>"
      ]
     },
     "execution_count": 198,
     "metadata": {},
     "output_type": "execute_result"
    },
    {
     "data": {
      "image/png": "[encoded data removed]",
      "text/plain": [
       "<Figure size 432x288 with 1 Axes>"
      ]
     },
     "metadata": {
      "needs_background": "light"
     },
     "output_type": "display_data"
    }
   ],
   "source": [
    "aux00 = df4.loc[df4['response'] == 1, 'vintage']\n",
    "sns.histplot(aux00)"
   ]
  },
  {
   "cell_type": "markdown",
   "id": "9386fe16",
   "metadata": {
    "heading_collapsed": true
   },
   "source": [
    "### 4.1.2 Categorical Variables"
   ]
  },
  {
   "cell_type": "markdown",
   "id": "26b785f6",
   "metadata": {
    "heading_collapsed": true,
    "hidden": true
   },
   "source": [
    "#### 4.1.2.1 Gender\n",
    "\n",
    "- Mens represents 61% of whole car insurance interest"
   ]
  },
  {
   "cell_type": "code",
   "execution_count": 287,
   "id": "0fea760a",
   "metadata": {
    "ExecuteTime": {
     "end_time": "2022-10-01T12:50:43.045925Z",
     "start_time": "2022-10-01T12:50:42.863302Z"
    },
    "cell_style": "split",
    "hidden": true,
    "hide_input": true
   },
   "outputs": [
    {
     "data": {
      "image/png": "[encoded data removed]",
      "text/plain": [
       "<Figure size 432x288 with 1 Axes>"
      ]
     },
     "metadata": {},
     "output_type": "display_data"
    }
   ],
   "source": [
    "aux2 = pd.DataFrame(df4[['gender','response']].groupby('gender').count()).reset_index()\n",
    "pie_chart(aux2,'gender',\"Gender Distribution\",'Gender')"
   ]
  },
  {
   "cell_type": "code",
   "execution_count": 288,
   "id": "02b0f24d",
   "metadata": {
    "ExecuteTime": {
     "end_time": "2022-10-01T12:51:43.839019Z",
     "start_time": "2022-10-01T12:51:43.663458Z"
    },
    "cell_style": "split",
    "hidden": true,
    "hide_input": true
   },
   "outputs": [
    {
     "data": {
      "image/png": "[encoded data removed]",
      "text/plain": [
       "<Figure size 432x288 with 1 Axes>"
      ]
     },
     "metadata": {},
     "output_type": "display_data"
    }
   ],
   "source": [
    "# pie plot\n",
    "# ax = plt.figure(figsize=(15,6))\n",
    "aux2 = pd.DataFrame(df4[['gender','response']].groupby('gender').sum()).reset_index()\n",
    "pie_chart(aux2,'gender',\"Gender Interest\",'Gender')"
   ]
  },
  {
   "cell_type": "markdown",
   "id": "9994f01b",
   "metadata": {
    "heading_collapsed": true,
    "hidden": true,
    "hide_input": true
   },
   "source": [
    "#### 4.1.2.2 Driving License\n",
    "\n",
    "- The majority people has driving license"
   ]
  },
  {
   "cell_type": "code",
   "execution_count": 277,
   "id": "c15d61af",
   "metadata": {
    "ExecuteTime": {
     "end_time": "2022-10-01T12:43:50.991684Z",
     "start_time": "2022-10-01T12:43:50.841726Z"
    },
    "cell_style": "split",
    "hidden": true,
    "hide_input": false
   },
   "outputs": [
    {
     "data": {
      "image/png": "[encoded data removed]",
      "text/plain": [
       "<Figure size 432x288 with 1 Axes>"
      ]
     },
     "metadata": {
      "needs_background": "light"
     },
     "output_type": "display_data"
    }
   ],
   "source": [
    "aux1 = df4[['driving_license','response']].groupby('driving_license').count().reset_index()\n",
    "g = sns.barplot(x = 'driving_license', y = 'response', data = aux1)\n",
    "g.set_title('Count Of Driving License',fontsize=15)\n",
    "\n",
    "# incluindo labels nas barras\n",
    "for i in g.containers:\n",
    "    g.bar_label(i, color='black', label_type= 'center',fontsize='medium',fmt='%.0f')\n",
    "    g.bar_label(i, color='black', label_type= 'center',fontsize='medium',fmt='%.0f',)"
   ]
  },
  {
   "cell_type": "code",
   "execution_count": 319,
   "id": "b09860ae",
   "metadata": {
    "ExecuteTime": {
     "end_time": "2022-10-01T13:13:18.047786Z",
     "start_time": "2022-10-01T13:13:17.918842Z"
    },
    "cell_style": "split",
    "hidden": true,
    "hide_input": false
   },
   "outputs": [
    {
     "data": {
      "image/png": "[encoded data removed]",
      "text/plain": [
       "<Figure size 432x288 with 1 Axes>"
      ]
     },
     "metadata": {},
     "output_type": "display_data"
    }
   ],
   "source": [
    "# pie plot\n",
    "aux1 = pd.DataFrame(df4[['driving_license','response']].groupby('driving_license').sum()).reset_index()\n",
    "pie_chart(aux1,'driving_license',\"Driving License Interest\",'Driving License')"
   ]
  },
  {
   "cell_type": "markdown",
   "id": "4a9cffcc",
   "metadata": {
    "cell_style": "center",
    "heading_collapsed": true,
    "hidden": true,
    "hide_input": false
   },
   "source": [
    "#### 4.1.2.3 Region Code\n",
    "\n",
    "- No region code has the majority of interest"
   ]
  },
  {
   "cell_type": "code",
   "execution_count": 351,
   "id": "ad8a2810",
   "metadata": {
    "ExecuteTime": {
     "end_time": "2022-10-01T13:38:38.857844Z",
     "start_time": "2022-10-01T13:38:37.700665Z"
    },
    "cell_style": "center",
    "hidden": true,
    "hide_input": true
   },
   "outputs": [
    {
     "data": {
      "image/png": "[encoded data removed]",
      "text/plain": [
       "<Figure size 1440x360 with 1 Axes>"
      ]
     },
     "metadata": {
      "needs_background": "light"
     },
     "output_type": "display_data"
    }
   ],
   "source": [
    "df_grouped = df4[[\"region_code\", \"response\"]].groupby('region_code').value_counts(normalize=True).unstack('response')\n",
    "df_grouped.plot.bar(stacked=True,figsize=(20,5));\n",
    "plt.title('Interest by Region Code',fontsize=15);"
   ]
  },
  {
   "cell_type": "markdown",
   "id": "3f9928eb",
   "metadata": {
    "heading_collapsed": true,
    "hidden": true,
    "hide_input": true
   },
   "source": [
    "#### 4.1.2.4 Previously Insured\n",
    "\n",
    "- Although the similar number of people previously and not previously insured, the people that haven't previoulsly insurance are the most interested"
   ]
  },
  {
   "cell_type": "code",
   "execution_count": 290,
   "id": "5b6a237e",
   "metadata": {
    "ExecuteTime": {
     "end_time": "2022-10-01T12:54:48.035709Z",
     "start_time": "2022-10-01T12:54:47.854690Z"
    },
    "cell_style": "split",
    "hidden": true,
    "hide_input": true
   },
   "outputs": [
    {
     "data": {
      "image/png": "[encoded data removed]",
      "text/plain": [
       "<Figure size 432x288 with 1 Axes>"
      ]
     },
     "metadata": {
      "needs_background": "light"
     },
     "output_type": "display_data"
    }
   ],
   "source": [
    "aux1 = df4[['previously_insured','response']].groupby('previously_insured').count().reset_index()\n",
    "g = sns.barplot(x = 'previously_insured', y = 'response', data = aux1)\n",
    "g.set_title('Count of Previously Insured People',fontsize=15)\n",
    "\n",
    "# incluindo labels nas barras\n",
    "for i in g.containers:\n",
    "    g.bar_label(i, color='white', label_type= 'center',fontsize='medium',fmt='%.0f')"
   ]
  },
  {
   "cell_type": "code",
   "execution_count": 324,
   "id": "8892db78",
   "metadata": {
    "ExecuteTime": {
     "end_time": "2022-10-01T13:20:57.194825Z",
     "start_time": "2022-10-01T13:20:57.068261Z"
    },
    "cell_style": "split",
    "hidden": true,
    "hide_input": true
   },
   "outputs": [
    {
     "data": {
      "image/png": "[encoded data removed]",
      "text/plain": [
       "<Figure size 432x288 with 1 Axes>"
      ]
     },
     "metadata": {},
     "output_type": "display_data"
    }
   ],
   "source": [
    "aux1 = pd.DataFrame(df4[['previously_insured','response']].groupby('previously_insured').sum()).reset_index()\n",
    "pie_chart(aux1,'previously_insured',\"Previously Insured Interest\",'Previousy')"
   ]
  },
  {
   "cell_type": "markdown",
   "id": "1f5af6c6",
   "metadata": {
    "heading_collapsed": true,
    "hidden": true
   },
   "source": [
    "#### 4.1.2.5 Vericle Age\n",
    "\n",
    "- THe majority of people has cars bellow 2 years old, but the more interested people has cars over 2 years"
   ]
  },
  {
   "cell_type": "code",
   "execution_count": 359,
   "id": "6f9e2701",
   "metadata": {
    "ExecuteTime": {
     "end_time": "2022-10-01T13:45:47.496800Z",
     "start_time": "2022-10-01T13:45:47.285973Z"
    },
    "cell_style": "split",
    "hidden": true,
    "hide_input": true
   },
   "outputs": [
    {
     "data": {
      "image/png": "[encoded data removed]",
      "text/plain": [
       "<Figure size 432x288 with 1 Axes>"
      ]
     },
     "metadata": {
      "needs_background": "light"
     },
     "output_type": "display_data"
    }
   ],
   "source": [
    "aux1 = df4[[\"vehicle_age\", \"response\"]].groupby('vehicle_age').count().reset_index()\n",
    "g = sns.barplot(x = 'vehicle_age', y = 'response', data = aux1)\n",
    "g.set_title('Count Of Vehicle Age',fontsize=15)\n",
    "\n",
    "# incluindo labels nas barras\n",
    "for i in g.containers:\n",
    "    g.bar_label(i, color='white', label_type= 'center',fontsize='medium',fmt='%.0f')"
   ]
  },
  {
   "cell_type": "code",
   "execution_count": 353,
   "id": "40d64f52",
   "metadata": {
    "ExecuteTime": {
     "end_time": "2022-10-01T13:43:46.771830Z",
     "start_time": "2022-10-01T13:43:46.514533Z"
    },
    "cell_style": "split",
    "hidden": true,
    "hide_input": true
   },
   "outputs": [
    {
     "data": {
      "image/png": "[encoded data removed]",
      "text/plain": [
       "<Figure size 720x360 with 1 Axes>"
      ]
     },
     "metadata": {
      "needs_background": "light"
     },
     "output_type": "display_data"
    }
   ],
   "source": [
    "# 'vehicle_age'\n",
    "df_grouped = df4[[\"vehicle_age\", \"response\"]].groupby('vehicle_age').value_counts(normalize=True).unstack('response')\n",
    "df_grouped.plot.bar(stacked=True,figsize=(10,5));"
   ]
  },
  {
   "cell_type": "markdown",
   "id": "c1a04ed8",
   "metadata": {
    "heading_collapsed": true,
    "hidden": true
   },
   "source": [
    "#### 4.1.2.6 Policy Sales Channel\n",
    "\n",
    "- Although the quantity diference of sales channel, no channel has the majority of the interest people"
   ]
  },
  {
   "cell_type": "code",
   "execution_count": 111,
   "id": "f9d537ff",
   "metadata": {
    "ExecuteTime": {
     "end_time": "2022-09-25T19:44:54.287679Z",
     "start_time": "2022-09-25T19:44:54.259237Z"
    },
    "hidden": true,
    "hide_input": true
   },
   "outputs": [],
   "source": [
    "# policy_sales_channel\n",
    "aux0 = df4[['policy_sales_channel','response']].groupby('policy_sales_channel').sum().reset_index()\n",
    "aux1 = aux0[aux0['response'] > 40.0]### 4.1.6 Previously Insured"
   ]
  },
  {
   "cell_type": "code",
   "execution_count": 361,
   "id": "6b38372a",
   "metadata": {
    "ExecuteTime": {
     "end_time": "2022-10-01T13:51:56.285290Z",
     "start_time": "2022-10-01T13:51:55.812096Z"
    },
    "hidden": true,
    "hide_input": true
   },
   "outputs": [
    {
     "data": {
      "image/png": "[encoded data removed]",
      "text/plain": [
       "<Figure size 1440x360 with 1 Axes>"
      ]
     },
     "metadata": {
      "needs_background": "light"
     },
     "output_type": "display_data"
    }
   ],
   "source": [
    "aux = df4[[\"policy_sales_channel\", \"response\"]].groupby('policy_sales_channel').sum().reset_index()\n",
    "aux = aux[aux['response'] > 40]\n",
    "\n",
    "# 'policy_sales_channel'\n",
    "aux2 = df4[df4['policy_sales_channel'].isin(aux['policy_sales_channel'])]\n",
    "df_grouped = aux2[[\"policy_sales_channel\", \"response\"]].groupby('policy_sales_channel').value_counts(normalize=True).unstack('response')\n",
    "df_grouped.plot.bar(stacked=True,figsize=(20,5));\n",
    "plt.title('Interest by Sales Channel',fontsize=15);"
   ]
  },
  {
   "cell_type": "code",
   "execution_count": 362,
   "id": "4c908574",
   "metadata": {
    "ExecuteTime": {
     "end_time": "2022-10-01T13:52:17.921351Z",
     "start_time": "2022-10-01T13:52:17.434389Z"
    },
    "hidden": true,
    "hide_input": true
   },
   "outputs": [
    {
     "data": {
      "image/png": "[encoded data removed]",
      "text/plain": [
       "<Figure size 1440x360 with 1 Axes>"
      ]
     },
     "metadata": {
      "needs_background": "light"
     },
     "output_type": "display_data"
    }
   ],
   "source": [
    "fig = plt.figure(figsize=(20,5))\n",
    "aux = df4[[\"policy_sales_channel\", \"response\"]].groupby('policy_sales_channel').sum().reset_index()\n",
    "aux = aux[aux['response'] > 40]\n",
    "\n",
    "sns.barplot(data=aux,x='policy_sales_channel',y='response');\n",
    "plt.title('Count of Sales Channel',fontsize=15);"
   ]
  },
  {
   "cell_type": "markdown",
   "id": "c46516d2",
   "metadata": {
    "heading_collapsed": true,
    "hidden": true,
    "hide_input": true
   },
   "source": [
    "#### 4.1.2.7 Vehicle Damage\n",
    "\n",
    "- Although tha simular number of damage and not damage vericle, people the are more interest has a vehicle damage"
   ]
  },
  {
   "cell_type": "code",
   "execution_count": 332,
   "id": "22b484e2",
   "metadata": {
    "ExecuteTime": {
     "end_time": "2022-10-01T13:27:13.132285Z",
     "start_time": "2022-10-01T13:27:12.963510Z"
    },
    "cell_style": "split",
    "hidden": true,
    "hide_input": true,
    "scrolled": true
   },
   "outputs": [
    {
     "data": {
      "image/png": "[encoded data removed]",
      "text/plain": [
       "<Figure size 432x288 with 1 Axes>"
      ]
     },
     "metadata": {
      "needs_background": "light"
     },
     "output_type": "display_data"
    }
   ],
   "source": [
    "# 'vehicle_damage'\n",
    "aux1 = df4[['vehicle_damage','response']].groupby('vehicle_damage').count().reset_index()\n",
    "g = sns.barplot(x = 'vehicle_damage', y = 'response', data = aux1)\n",
    "g.set_title('Count per Vehicle Damage')\n",
    "\n",
    "# incluindo labels nas barras\n",
    "for i in g.containers:\n",
    "    g.bar_label(i, color='white', label_type= 'center',fontsize='medium',fmt='%.2f')"
   ]
  },
  {
   "cell_type": "code",
   "execution_count": 330,
   "id": "d9af14f4",
   "metadata": {
    "ExecuteTime": {
     "end_time": "2022-10-01T13:27:04.246886Z",
     "start_time": "2022-10-01T13:27:04.103873Z"
    },
    "cell_style": "split",
    "hidden": true,
    "hide_input": true,
    "scrolled": true
   },
   "outputs": [
    {
     "data": {
      "image/png": "[encoded data removed]",
      "text/plain": [
       "<Figure size 432x288 with 1 Axes>"
      ]
     },
     "metadata": {},
     "output_type": "display_data"
    }
   ],
   "source": [
    "# pie plot\n",
    "aux1 = pd.DataFrame(df4[['vehicle_damage','response']].groupby('vehicle_damage').sum()).reset_index()\n",
    "pie_chart(aux1,'vehicle_damage',\"Interest in Vehicle Damage\",'Vehicle Damage')"
   ]
  },
  {
   "cell_type": "markdown",
   "id": "c859bba7",
   "metadata": {},
   "source": [
    "## 4.2. Bivariate Analysis"
   ]
  },
  {
   "cell_type": "markdown",
   "id": "91f8c53e",
   "metadata": {},
   "source": [
    "# 5.0 Data Preparation"
   ]
  },
  {
   "cell_type": "code",
   "execution_count": 119,
   "id": "a4596316",
   "metadata": {
    "ExecuteTime": {
     "end_time": "2022-09-25T19:44:56.149518Z",
     "start_time": "2022-09-25T19:44:56.120792Z"
    }
   },
   "outputs": [],
   "source": [
    "df5 = df4.copy()"
   ]
  },
  {
   "cell_type": "code",
   "execution_count": 120,
   "id": "a287aa21",
   "metadata": {
    "ExecuteTime": {
     "end_time": "2022-09-25T19:44:56.352954Z",
     "start_time": "2022-09-25T19:44:56.151518Z"
    }
   },
   "outputs": [],
   "source": [
    "X = df4.drop('response',axis=1)\n",
    "y = df4['response'].copy()\n",
    "\n",
    "x_train, x_validation, y_train, y_validation = ms.train_test_split(X, y, test_size=0.2)\n",
    "\n",
    "df5 = pd.concat([x_train, y_train], axis=1)"
   ]
  },
  {
   "cell_type": "markdown",
   "id": "927bfe38",
   "metadata": {},
   "source": [
    "## 5.1 Standardization"
   ]
  },
  {
   "cell_type": "code",
   "execution_count": 121,
   "id": "0f596374",
   "metadata": {
    "ExecuteTime": {
     "end_time": "2022-09-25T19:44:56.446378Z",
     "start_time": "2022-09-25T19:44:56.355867Z"
    }
   },
   "outputs": [],
   "source": [
    "ss = pp.StandardScaler()\n",
    "\n",
    "## annual_premium\n",
    "df5['annual_premium'] = ss.fit_transform(df5[['annual_premium']].values)"
   ]
  },
  {
   "cell_type": "markdown",
   "id": "ff3be51a",
   "metadata": {},
   "source": [
    "## 5.2 Rescaling"
   ]
  },
  {
   "cell_type": "code",
   "execution_count": 122,
   "id": "06b631ba",
   "metadata": {
    "ExecuteTime": {
     "end_time": "2022-09-25T19:44:56.508816Z",
     "start_time": "2022-09-25T19:44:56.449100Z"
    }
   },
   "outputs": [],
   "source": [
    "mms_age = pp.MinMaxScaler()\n",
    "mms_vintage = pp.MinMaxScaler()\n",
    "\n",
    "## age\n",
    "df5['age'] = mms_age.fit_transform( df5[['age']].values )\n",
    "\n",
    "## vintage\n",
    "df5['vintage'] = mms_age.fit_transform( df5[['vintage']].values )"
   ]
  },
  {
   "cell_type": "markdown",
   "id": "5505997c",
   "metadata": {},
   "source": [
    "## 5.3 Encoder"
   ]
  },
  {
   "cell_type": "code",
   "execution_count": 123,
   "id": "5238f781",
   "metadata": {
    "ExecuteTime": {
     "end_time": "2022-09-25T19:44:56.804714Z",
     "start_time": "2022-09-25T19:44:56.510752Z"
    }
   },
   "outputs": [],
   "source": [
    "# gender - One Hot Encoding / Target Encoding\n",
    "target_encode_gender = df5.groupby('gender')['response'].mean()\n",
    "df5.loc[:,'gender'] = df5['gender'].map(target_encode_gender)\n",
    "\n",
    "## region_code - Frequency Enconding / Target Enconding / Weighted Target Encoding\n",
    "target_encode_region_code = df5.groupby('region_code')['response'].mean()\n",
    "df5.loc[:,'region_code'] = df5['region_code'].map(target_encode_region_code)\n",
    "\n",
    "## vehicle_age - One Hot Enconding / Ordinal Enconding / Frequency Enconding\n",
    "df5 = pd.get_dummies(df5, prefix='vehicle_age',columns=['vehicle_age'])\n",
    "\n",
    "## vehicle_damage\n",
    "\n",
    "## policy_sales_channel - Target Enconding / Frequency Encoding\n",
    "fe_policy_sales_channel = df5.groupby('policy_sales_channel').size()/len(df5)\n",
    "df5.loc[:,'policy_sales_channel'] = df5['policy_sales_channel'].map(fe_policy_sales_channel)"
   ]
  },
  {
   "cell_type": "code",
   "execution_count": 124,
   "id": "9782d776",
   "metadata": {
    "ExecuteTime": {
     "end_time": "2022-09-25T19:44:56.835864Z",
     "start_time": "2022-09-25T19:44:56.806661Z"
    }
   },
   "outputs": [
    {
     "data": {
      "text/html": [
       "<div>\n",
       "<style scoped>\n",
       "    .dataframe tbody tr th:only-of-type {\n",
       "        vertical-align: middle;\n",
       "    }\n",
       "\n",
       "    .dataframe tbody tr th {\n",
       "        vertical-align: top;\n",
       "    }\n",
       "\n",
       "    .dataframe thead th {\n",
       "        text-align: right;\n",
       "    }\n",
       "</style>\n",
       "<table border=\"1\" class=\"dataframe\">\n",
       "  <thead>\n",
       "    <tr style=\"text-align: right;\">\n",
       "      <th></th>\n",
       "      <th>vintage</th>\n",
       "      <th>annual_premium</th>\n",
       "      <th>age</th>\n",
       "      <th>region_code</th>\n",
       "      <th>vehicle_damage</th>\n",
       "      <th>policy_sales_channel</th>\n",
       "      <th>previously_insured</th>\n",
       "    </tr>\n",
       "  </thead>\n",
       "  <tbody>\n",
       "    <tr>\n",
       "      <th>334464</th>\n",
       "      <td>0.826990</td>\n",
       "      <td>2.771576</td>\n",
       "      <td>0.390625</td>\n",
       "      <td>0.187129</td>\n",
       "      <td>1</td>\n",
       "      <td>0.194659</td>\n",
       "      <td>0</td>\n",
       "    </tr>\n",
       "    <tr>\n",
       "      <th>51509</th>\n",
       "      <td>0.858131</td>\n",
       "      <td>0.628871</td>\n",
       "      <td>0.015625</td>\n",
       "      <td>0.123497</td>\n",
       "      <td>0</td>\n",
       "      <td>0.209251</td>\n",
       "      <td>1</td>\n",
       "    </tr>\n",
       "    <tr>\n",
       "      <th>237837</th>\n",
       "      <td>0.584775</td>\n",
       "      <td>0.878554</td>\n",
       "      <td>0.062500</td>\n",
       "      <td>0.095100</td>\n",
       "      <td>0</td>\n",
       "      <td>0.353656</td>\n",
       "      <td>1</td>\n",
       "    </tr>\n",
       "    <tr>\n",
       "      <th>152925</th>\n",
       "      <td>0.134948</td>\n",
       "      <td>0.458324</td>\n",
       "      <td>0.093750</td>\n",
       "      <td>0.187129</td>\n",
       "      <td>0</td>\n",
       "      <td>0.353656</td>\n",
       "      <td>1</td>\n",
       "    </tr>\n",
       "    <tr>\n",
       "      <th>17554</th>\n",
       "      <td>0.671280</td>\n",
       "      <td>0.011735</td>\n",
       "      <td>0.453125</td>\n",
       "      <td>0.103662</td>\n",
       "      <td>1</td>\n",
       "      <td>0.194659</td>\n",
       "      <td>0</td>\n",
       "    </tr>\n",
       "    <tr>\n",
       "      <th>...</th>\n",
       "      <td>...</td>\n",
       "      <td>...</td>\n",
       "      <td>...</td>\n",
       "      <td>...</td>\n",
       "      <td>...</td>\n",
       "      <td>...</td>\n",
       "      <td>...</td>\n",
       "    </tr>\n",
       "    <tr>\n",
       "      <th>325065</th>\n",
       "      <td>0.190311</td>\n",
       "      <td>0.158318</td>\n",
       "      <td>0.078125</td>\n",
       "      <td>0.125034</td>\n",
       "      <td>0</td>\n",
       "      <td>0.056844</td>\n",
       "      <td>1</td>\n",
       "    </tr>\n",
       "    <tr>\n",
       "      <th>173982</th>\n",
       "      <td>0.986159</td>\n",
       "      <td>-0.180846</td>\n",
       "      <td>0.296875</td>\n",
       "      <td>0.123061</td>\n",
       "      <td>1</td>\n",
       "      <td>0.003227</td>\n",
       "      <td>0</td>\n",
       "    </tr>\n",
       "    <tr>\n",
       "      <th>228559</th>\n",
       "      <td>0.508651</td>\n",
       "      <td>2.050990</td>\n",
       "      <td>0.265625</td>\n",
       "      <td>0.095100</td>\n",
       "      <td>1</td>\n",
       "      <td>0.209251</td>\n",
       "      <td>0</td>\n",
       "    </tr>\n",
       "    <tr>\n",
       "      <th>9950</th>\n",
       "      <td>0.245675</td>\n",
       "      <td>0.071058</td>\n",
       "      <td>0.078125</td>\n",
       "      <td>0.058076</td>\n",
       "      <td>0</td>\n",
       "      <td>0.353656</td>\n",
       "      <td>1</td>\n",
       "    </tr>\n",
       "    <tr>\n",
       "      <th>190122</th>\n",
       "      <td>0.000000</td>\n",
       "      <td>-1.631312</td>\n",
       "      <td>0.656250</td>\n",
       "      <td>0.064193</td>\n",
       "      <td>1</td>\n",
       "      <td>0.056844</td>\n",
       "      <td>0</td>\n",
       "    </tr>\n",
       "  </tbody>\n",
       "</table>\n",
       "<p>76222 rows × 7 columns</p>\n",
       "</div>"
      ],
      "text/plain": [
       "         vintage  annual_premium       age  region_code  vehicle_damage  \\\n",
       "334464  0.826990        2.771576  0.390625     0.187129               1   \n",
       "51509   0.858131        0.628871  0.015625     0.123497               0   \n",
       "237837  0.584775        0.878554  0.062500     0.095100               0   \n",
       "152925  0.134948        0.458324  0.093750     0.187129               0   \n",
       "17554   0.671280        0.011735  0.453125     0.103662               1   \n",
       "...          ...             ...       ...          ...             ...   \n",
       "325065  0.190311        0.158318  0.078125     0.125034               0   \n",
       "173982  0.986159       -0.180846  0.296875     0.123061               1   \n",
       "228559  0.508651        2.050990  0.265625     0.095100               1   \n",
       "9950    0.245675        0.071058  0.078125     0.058076               0   \n",
       "190122  0.000000       -1.631312  0.656250     0.064193               1   \n",
       "\n",
       "        policy_sales_channel  previously_insured  \n",
       "334464              0.194659                   0  \n",
       "51509               0.209251                   1  \n",
       "237837              0.353656                   1  \n",
       "152925              0.353656                   1  \n",
       "17554               0.194659                   0  \n",
       "...                      ...                 ...  \n",
       "325065              0.056844                   1  \n",
       "173982              0.003227                   0  \n",
       "228559              0.209251                   0  \n",
       "9950                0.353656                   1  \n",
       "190122              0.056844                   0  \n",
       "\n",
       "[76222 rows x 7 columns]"
      ]
     },
     "execution_count": 124,
     "metadata": {},
     "output_type": "execute_result"
    }
   ],
   "source": [
    "x_val"
   ]
  },
  {
   "cell_type": "markdown",
   "id": "6bd2be18",
   "metadata": {},
   "source": [
    "## 5.4 Validation Preparation"
   ]
  },
  {
   "cell_type": "code",
   "execution_count": 125,
   "id": "36a445fc",
   "metadata": {
    "ExecuteTime": {
     "end_time": "2022-09-25T19:44:56.959526Z",
     "start_time": "2022-09-25T19:44:56.837878Z"
    }
   },
   "outputs": [],
   "source": [
    "# gender\n",
    "x_validation.loc[:,'gender'] = x_validation.loc[:,'gender'].map(target_encode_gender)\n",
    "\n",
    "x_validation.loc[:,'annual_premium'] = ss.fit_transform(x_validation[['annual_premium']].values)\n",
    "\n",
    "# age\n",
    "x_validation.loc[:,'age'] = mms_age.fit_transform(x_validation[['age']].values)\n",
    "\n",
    "# region_code\n",
    "x_validation.loc[:,'region_code'] = x_validation.loc[:,'region_code'].map(target_encode_region_code)\n",
    "\n",
    "# vehicle_damage\n",
    "x_validation = pd.get_dummies(x_validation, prefix = 'vehicle_age',columns=['vehicle_age'])\n",
    "\n",
    "# annual_premium\n",
    "x_validation.loc[:,'policy_sales_channel'] = x_validation['policy_sales_channel'].map(fe_policy_sales_channel)\n",
    "\n",
    "# vintage\n",
    "x_validation.loc[:, 'vintage'] = mms_vintage.fit_transform(x_validation[['vintage']].values)\n",
    "\n",
    "# fillna\n",
    "x_validation = x_validation.fillna(0)"
   ]
  },
  {
   "cell_type": "code",
   "execution_count": 126,
   "id": "ecfae931",
   "metadata": {
    "ExecuteTime": {
     "end_time": "2022-09-25T19:44:56.990462Z",
     "start_time": "2022-09-25T19:44:56.961502Z"
    }
   },
   "outputs": [
    {
     "data": {
      "text/html": [
       "<div>\n",
       "<style scoped>\n",
       "    .dataframe tbody tr th:only-of-type {\n",
       "        vertical-align: middle;\n",
       "    }\n",
       "\n",
       "    .dataframe tbody tr th {\n",
       "        vertical-align: top;\n",
       "    }\n",
       "\n",
       "    .dataframe thead th {\n",
       "        text-align: right;\n",
       "    }\n",
       "</style>\n",
       "<table border=\"1\" class=\"dataframe\">\n",
       "  <thead>\n",
       "    <tr style=\"text-align: right;\">\n",
       "      <th></th>\n",
       "      <th>id</th>\n",
       "      <th>gender</th>\n",
       "      <th>age</th>\n",
       "      <th>region_code</th>\n",
       "      <th>policy_sales_channel</th>\n",
       "      <th>driving_license</th>\n",
       "      <th>vehicle_damage</th>\n",
       "      <th>previously_insured</th>\n",
       "      <th>annual_premium</th>\n",
       "      <th>vintage</th>\n",
       "      <th>vehicle_age_bellow_1_year</th>\n",
       "      <th>vehicle_age_between_1_2_year</th>\n",
       "      <th>vehicle_age_over_2_years</th>\n",
       "    </tr>\n",
       "  </thead>\n",
       "  <tbody>\n",
       "    <tr>\n",
       "      <th>264438</th>\n",
       "      <td>208204</td>\n",
       "      <td>0.103980</td>\n",
       "      <td>0.292308</td>\n",
       "      <td>0.185607</td>\n",
       "      <td>0.209287</td>\n",
       "      <td>1</td>\n",
       "      <td>1</td>\n",
       "      <td>0</td>\n",
       "      <td>0.383560</td>\n",
       "      <td>0.903114</td>\n",
       "      <td>0</td>\n",
       "      <td>1</td>\n",
       "      <td>0</td>\n",
       "    </tr>\n",
       "    <tr>\n",
       "      <th>50070</th>\n",
       "      <td>18195</td>\n",
       "      <td>0.103980</td>\n",
       "      <td>0.430769</td>\n",
       "      <td>0.185607</td>\n",
       "      <td>0.194420</td>\n",
       "      <td>1</td>\n",
       "      <td>1</td>\n",
       "      <td>0</td>\n",
       "      <td>0.228267</td>\n",
       "      <td>0.027682</td>\n",
       "      <td>0</td>\n",
       "      <td>1</td>\n",
       "      <td>0</td>\n",
       "    </tr>\n",
       "    <tr>\n",
       "      <th>378019</th>\n",
       "      <td>356547</td>\n",
       "      <td>0.137477</td>\n",
       "      <td>0.092308</td>\n",
       "      <td>0.074353</td>\n",
       "      <td>0.353288</td>\n",
       "      <td>1</td>\n",
       "      <td>0</td>\n",
       "      <td>1</td>\n",
       "      <td>-0.015524</td>\n",
       "      <td>0.467128</td>\n",
       "      <td>1</td>\n",
       "      <td>0</td>\n",
       "      <td>0</td>\n",
       "    </tr>\n",
       "    <tr>\n",
       "      <th>33858</th>\n",
       "      <td>270446</td>\n",
       "      <td>0.137477</td>\n",
       "      <td>0.384615</td>\n",
       "      <td>0.123989</td>\n",
       "      <td>0.002201</td>\n",
       "      <td>1</td>\n",
       "      <td>0</td>\n",
       "      <td>1</td>\n",
       "      <td>1.559925</td>\n",
       "      <td>0.051903</td>\n",
       "      <td>0</td>\n",
       "      <td>1</td>\n",
       "      <td>0</td>\n",
       "    </tr>\n",
       "    <tr>\n",
       "      <th>352041</th>\n",
       "      <td>148469</td>\n",
       "      <td>0.103980</td>\n",
       "      <td>0.061538</td>\n",
       "      <td>0.102741</td>\n",
       "      <td>0.015760</td>\n",
       "      <td>1</td>\n",
       "      <td>1</td>\n",
       "      <td>0</td>\n",
       "      <td>-1.625651</td>\n",
       "      <td>0.006920</td>\n",
       "      <td>1</td>\n",
       "      <td>0</td>\n",
       "      <td>0</td>\n",
       "    </tr>\n",
       "    <tr>\n",
       "      <th>...</th>\n",
       "      <td>...</td>\n",
       "      <td>...</td>\n",
       "      <td>...</td>\n",
       "      <td>...</td>\n",
       "      <td>...</td>\n",
       "      <td>...</td>\n",
       "      <td>...</td>\n",
       "      <td>...</td>\n",
       "      <td>...</td>\n",
       "      <td>...</td>\n",
       "      <td>...</td>\n",
       "      <td>...</td>\n",
       "      <td>...</td>\n",
       "    </tr>\n",
       "    <tr>\n",
       "      <th>243549</th>\n",
       "      <td>40521</td>\n",
       "      <td>0.137477</td>\n",
       "      <td>0.400000</td>\n",
       "      <td>0.123989</td>\n",
       "      <td>0.209287</td>\n",
       "      <td>1</td>\n",
       "      <td>1</td>\n",
       "      <td>0</td>\n",
       "      <td>-0.211779</td>\n",
       "      <td>0.570934</td>\n",
       "      <td>0</td>\n",
       "      <td>1</td>\n",
       "      <td>0</td>\n",
       "    </tr>\n",
       "    <tr>\n",
       "      <th>146564</th>\n",
       "      <td>29098</td>\n",
       "      <td>0.103980</td>\n",
       "      <td>0.615385</td>\n",
       "      <td>0.185607</td>\n",
       "      <td>0.026095</td>\n",
       "      <td>1</td>\n",
       "      <td>0</td>\n",
       "      <td>1</td>\n",
       "      <td>1.194820</td>\n",
       "      <td>0.892734</td>\n",
       "      <td>0</td>\n",
       "      <td>1</td>\n",
       "      <td>0</td>\n",
       "    </tr>\n",
       "    <tr>\n",
       "      <th>213469</th>\n",
       "      <td>180504</td>\n",
       "      <td>0.137477</td>\n",
       "      <td>0.492308</td>\n",
       "      <td>0.069391</td>\n",
       "      <td>0.209287</td>\n",
       "      <td>1</td>\n",
       "      <td>0</td>\n",
       "      <td>1</td>\n",
       "      <td>-0.191066</td>\n",
       "      <td>0.557093</td>\n",
       "      <td>0</td>\n",
       "      <td>1</td>\n",
       "      <td>0</td>\n",
       "    </tr>\n",
       "    <tr>\n",
       "      <th>199671</th>\n",
       "      <td>69869</td>\n",
       "      <td>0.137477</td>\n",
       "      <td>0.015385</td>\n",
       "      <td>0.078498</td>\n",
       "      <td>0.353288</td>\n",
       "      <td>1</td>\n",
       "      <td>0</td>\n",
       "      <td>1</td>\n",
       "      <td>-1.625651</td>\n",
       "      <td>0.934256</td>\n",
       "      <td>1</td>\n",
       "      <td>0</td>\n",
       "      <td>0</td>\n",
       "    </tr>\n",
       "    <tr>\n",
       "      <th>139747</th>\n",
       "      <td>355118</td>\n",
       "      <td>0.137477</td>\n",
       "      <td>0.015385</td>\n",
       "      <td>0.092185</td>\n",
       "      <td>0.007600</td>\n",
       "      <td>1</td>\n",
       "      <td>1</td>\n",
       "      <td>0</td>\n",
       "      <td>-1.625651</td>\n",
       "      <td>0.536332</td>\n",
       "      <td>1</td>\n",
       "      <td>0</td>\n",
       "      <td>0</td>\n",
       "    </tr>\n",
       "  </tbody>\n",
       "</table>\n",
       "<p>76222 rows × 13 columns</p>\n",
       "</div>"
      ],
      "text/plain": [
       "            id    gender       age  region_code  policy_sales_channel  \\\n",
       "264438  208204  0.103980  0.292308     0.185607              0.209287   \n",
       "50070    18195  0.103980  0.430769     0.185607              0.194420   \n",
       "378019  356547  0.137477  0.092308     0.074353              0.353288   \n",
       "33858   270446  0.137477  0.384615     0.123989              0.002201   \n",
       "352041  148469  0.103980  0.061538     0.102741              0.015760   \n",
       "...        ...       ...       ...          ...                   ...   \n",
       "243549   40521  0.137477  0.400000     0.123989              0.209287   \n",
       "146564   29098  0.103980  0.615385     0.185607              0.026095   \n",
       "213469  180504  0.137477  0.492308     0.069391              0.209287   \n",
       "199671   69869  0.137477  0.015385     0.078498              0.353288   \n",
       "139747  355118  0.137477  0.015385     0.092185              0.007600   \n",
       "\n",
       "        driving_license  vehicle_damage  previously_insured  annual_premium  \\\n",
       "264438                1               1                   0        0.383560   \n",
       "50070                 1               1                   0        0.228267   \n",
       "378019                1               0                   1       -0.015524   \n",
       "33858                 1               0                   1        1.559925   \n",
       "352041                1               1                   0       -1.625651   \n",
       "...                 ...             ...                 ...             ...   \n",
       "243549                1               1                   0       -0.211779   \n",
       "146564                1               0                   1        1.194820   \n",
       "213469                1               0                   1       -0.191066   \n",
       "199671                1               0                   1       -1.625651   \n",
       "139747                1               1                   0       -1.625651   \n",
       "\n",
       "         vintage  vehicle_age_bellow_1_year  vehicle_age_between_1_2_year  \\\n",
       "264438  0.903114                          0                             1   \n",
       "50070   0.027682                          0                             1   \n",
       "378019  0.467128                          1                             0   \n",
       "33858   0.051903                          0                             1   \n",
       "352041  0.006920                          1                             0   \n",
       "...          ...                        ...                           ...   \n",
       "243549  0.570934                          0                             1   \n",
       "146564  0.892734                          0                             1   \n",
       "213469  0.557093                          0                             1   \n",
       "199671  0.934256                          1                             0   \n",
       "139747  0.536332                          1                             0   \n",
       "\n",
       "        vehicle_age_over_2_years  \n",
       "264438                         0  \n",
       "50070                          0  \n",
       "378019                         0  \n",
       "33858                          0  \n",
       "352041                         0  \n",
       "...                          ...  \n",
       "243549                         0  \n",
       "146564                         0  \n",
       "213469                         0  \n",
       "199671                         0  \n",
       "139747                         0  \n",
       "\n",
       "[76222 rows x 13 columns]"
      ]
     },
     "execution_count": 126,
     "metadata": {},
     "output_type": "execute_result"
    }
   ],
   "source": [
    "x_validation"
   ]
  },
  {
   "cell_type": "markdown",
   "id": "d1714c11",
   "metadata": {},
   "source": [
    "# 6.0 Feature Selection"
   ]
  },
  {
   "cell_type": "markdown",
   "id": "2ae80f3f",
   "metadata": {},
   "source": [
    "## 6.1 Feature Importance"
   ]
  },
  {
   "cell_type": "code",
   "execution_count": 127,
   "id": "d5f4b9a7",
   "metadata": {
    "ExecuteTime": {
     "end_time": "2022-09-25T19:45:33.850059Z",
     "start_time": "2022-09-25T19:44:56.992445Z"
    }
   },
   "outputs": [
    {
     "name": "stdout",
     "output_type": "stream",
     "text": [
      "Feature ranking\n"
     ]
    },
    {
     "data": {
      "text/html": [
       "<div>\n",
       "<style scoped>\n",
       "    .dataframe tbody tr th:only-of-type {\n",
       "        vertical-align: middle;\n",
       "    }\n",
       "\n",
       "    .dataframe tbody tr th {\n",
       "        vertical-align: top;\n",
       "    }\n",
       "\n",
       "    .dataframe thead th {\n",
       "        text-align: right;\n",
       "    }\n",
       "</style>\n",
       "<table border=\"1\" class=\"dataframe\">\n",
       "  <thead>\n",
       "    <tr style=\"text-align: right;\">\n",
       "      <th></th>\n",
       "      <th>feature</th>\n",
       "      <th>importance</th>\n",
       "    </tr>\n",
       "  </thead>\n",
       "  <tbody>\n",
       "    <tr>\n",
       "      <th>0</th>\n",
       "      <td>gender</td>\n",
       "      <td>0.004943</td>\n",
       "    </tr>\n",
       "    <tr>\n",
       "      <th>0</th>\n",
       "      <td>age</td>\n",
       "      <td>0.164710</td>\n",
       "    </tr>\n",
       "    <tr>\n",
       "      <th>0</th>\n",
       "      <td>region_code</td>\n",
       "      <td>0.106196</td>\n",
       "    </tr>\n",
       "    <tr>\n",
       "      <th>0</th>\n",
       "      <td>policy_sales_channel</td>\n",
       "      <td>0.059038</td>\n",
       "    </tr>\n",
       "    <tr>\n",
       "      <th>0</th>\n",
       "      <td>driving_license</td>\n",
       "      <td>0.000471</td>\n",
       "    </tr>\n",
       "    <tr>\n",
       "      <th>0</th>\n",
       "      <td>vehicle_damage</td>\n",
       "      <td>0.067602</td>\n",
       "    </tr>\n",
       "    <tr>\n",
       "      <th>0</th>\n",
       "      <td>previously_insured</td>\n",
       "      <td>0.056172</td>\n",
       "    </tr>\n",
       "    <tr>\n",
       "      <th>0</th>\n",
       "      <td>annual_premium</td>\n",
       "      <td>0.245011</td>\n",
       "    </tr>\n",
       "    <tr>\n",
       "      <th>0</th>\n",
       "      <td>vintage</td>\n",
       "      <td>0.273074</td>\n",
       "    </tr>\n",
       "    <tr>\n",
       "      <th>0</th>\n",
       "      <td>vehicle_age_bellow_1_year</td>\n",
       "      <td>0.014099</td>\n",
       "    </tr>\n",
       "    <tr>\n",
       "      <th>0</th>\n",
       "      <td>vehicle_age_between_1_2_year</td>\n",
       "      <td>0.006453</td>\n",
       "    </tr>\n",
       "    <tr>\n",
       "      <th>0</th>\n",
       "      <td>vehicle_age_over_2_years</td>\n",
       "      <td>0.002231</td>\n",
       "    </tr>\n",
       "  </tbody>\n",
       "</table>\n",
       "</div>"
      ],
      "text/plain": [
       "                        feature  importance\n",
       "0                        gender    0.004943\n",
       "0                           age    0.164710\n",
       "0                   region_code    0.106196\n",
       "0          policy_sales_channel    0.059038\n",
       "0               driving_license    0.000471\n",
       "0                vehicle_damage    0.067602\n",
       "0            previously_insured    0.056172\n",
       "0                annual_premium    0.245011\n",
       "0                       vintage    0.273074\n",
       "0     vehicle_age_bellow_1_year    0.014099\n",
       "0  vehicle_age_between_1_2_year    0.006453\n",
       "0      vehicle_age_over_2_years    0.002231"
      ]
     },
     "execution_count": 127,
     "metadata": {},
     "output_type": "execute_result"
    }
   ],
   "source": [
    "# model definition\n",
    "forest = en.ExtraTreesClassifier(n_estimators=250, random_state=0, n_jobs=-1)\n",
    "\n",
    "x_train_n = df5.drop(['id', 'response'], axis=1)\n",
    "y_train_n = y_train.values\n",
    "forest.fit(x_train_n, y_train_n)\n",
    "\n",
    "importances = forest.feature_importances_\n",
    "std = np.std([tree.feature_importances_ for tree in forest.estimators_], axis=0)\n",
    "indices = np.argsort(importances)[::-1]\n",
    "\n",
    "# Print the feature ranking\n",
    "print('Feature ranking')\n",
    "df = pd.DataFrame()\n",
    "for i, j in zip(x_train_n.columns, forest.feature_importances_):\n",
    "    aux = pd.DataFrame({'feature': i, 'importance': j},index=[0])\n",
    "    df= pd.concat([df, aux], axis=0)\n",
    "\n",
    "df"
   ]
  },
  {
   "cell_type": "code",
   "execution_count": 128,
   "id": "19a6c106",
   "metadata": {
    "ExecuteTime": {
     "end_time": "2022-09-25T19:45:35.823719Z",
     "start_time": "2022-09-25T19:45:33.909359Z"
    }
   },
   "outputs": [
    {
     "data": {
      "image/png": "[encoded data removed]",
      "text/plain": [
       "<Figure size 432x288 with 1 Axes>"
      ]
     },
     "metadata": {
      "needs_background": "light"
     },
     "output_type": "display_data"
    }
   ],
   "source": [
    "# plot the impurity-based feature importance of the forest\n",
    "\n",
    "plt.figure()\n",
    "plt.title('Feature importances')\n",
    "plt.bar(range(x_train_n.shape[1]),importances[indices], color='r', yerr=std[indices], align = 'center')\n",
    "plt.xticks(range(x_train_n.shape[1]), indices)\n",
    "plt.xlim([-1, x_train_n.shape[1]])\n",
    "plt.show()"
   ]
  },
  {
   "cell_type": "markdown",
   "id": "d295596e",
   "metadata": {},
   "source": [
    "# 7.0 Machine Learning"
   ]
  },
  {
   "cell_type": "code",
   "execution_count": 129,
   "id": "f008bc5c",
   "metadata": {
    "ExecuteTime": {
     "end_time": "2022-09-25T19:45:35.870363Z",
     "start_time": "2022-09-25T19:45:35.826277Z"
    }
   },
   "outputs": [],
   "source": [
    "cols_selected = ['vintage',\n",
    "                'annual_premium',\n",
    "                'age',\n",
    "                'region_code',\n",
    "                'vehicle_damage',\n",
    "                'policy_sales_channel',\n",
    "                'previously_insured']\n",
    "\n",
    "x_train = df5[cols_selected]\n",
    "x_val = x_validation[cols_selected]"
   ]
  },
  {
   "cell_type": "code",
   "execution_count": 130,
   "id": "610fcaa3",
   "metadata": {
    "ExecuteTime": {
     "end_time": "2022-09-25T19:45:35.917345Z",
     "start_time": "2022-09-25T19:45:35.877279Z"
    }
   },
   "outputs": [
    {
     "data": {
      "text/html": [
       "<div>\n",
       "<style scoped>\n",
       "    .dataframe tbody tr th:only-of-type {\n",
       "        vertical-align: middle;\n",
       "    }\n",
       "\n",
       "    .dataframe tbody tr th {\n",
       "        vertical-align: top;\n",
       "    }\n",
       "\n",
       "    .dataframe thead th {\n",
       "        text-align: right;\n",
       "    }\n",
       "</style>\n",
       "<table border=\"1\" class=\"dataframe\">\n",
       "  <thead>\n",
       "    <tr style=\"text-align: right;\">\n",
       "      <th></th>\n",
       "      <th>vintage</th>\n",
       "      <th>annual_premium</th>\n",
       "      <th>age</th>\n",
       "      <th>region_code</th>\n",
       "      <th>vehicle_damage</th>\n",
       "      <th>policy_sales_channel</th>\n",
       "      <th>previously_insured</th>\n",
       "    </tr>\n",
       "  </thead>\n",
       "  <tbody>\n",
       "    <tr>\n",
       "      <th>264438</th>\n",
       "      <td>0.903114</td>\n",
       "      <td>0.383560</td>\n",
       "      <td>0.292308</td>\n",
       "      <td>0.185607</td>\n",
       "      <td>1</td>\n",
       "      <td>0.209287</td>\n",
       "      <td>0</td>\n",
       "    </tr>\n",
       "    <tr>\n",
       "      <th>50070</th>\n",
       "      <td>0.027682</td>\n",
       "      <td>0.228267</td>\n",
       "      <td>0.430769</td>\n",
       "      <td>0.185607</td>\n",
       "      <td>1</td>\n",
       "      <td>0.194420</td>\n",
       "      <td>0</td>\n",
       "    </tr>\n",
       "    <tr>\n",
       "      <th>378019</th>\n",
       "      <td>0.467128</td>\n",
       "      <td>-0.015524</td>\n",
       "      <td>0.092308</td>\n",
       "      <td>0.074353</td>\n",
       "      <td>0</td>\n",
       "      <td>0.353288</td>\n",
       "      <td>1</td>\n",
       "    </tr>\n",
       "    <tr>\n",
       "      <th>33858</th>\n",
       "      <td>0.051903</td>\n",
       "      <td>1.559925</td>\n",
       "      <td>0.384615</td>\n",
       "      <td>0.123989</td>\n",
       "      <td>0</td>\n",
       "      <td>0.002201</td>\n",
       "      <td>1</td>\n",
       "    </tr>\n",
       "    <tr>\n",
       "      <th>352041</th>\n",
       "      <td>0.006920</td>\n",
       "      <td>-1.625651</td>\n",
       "      <td>0.061538</td>\n",
       "      <td>0.102741</td>\n",
       "      <td>1</td>\n",
       "      <td>0.015760</td>\n",
       "      <td>0</td>\n",
       "    </tr>\n",
       "    <tr>\n",
       "      <th>...</th>\n",
       "      <td>...</td>\n",
       "      <td>...</td>\n",
       "      <td>...</td>\n",
       "      <td>...</td>\n",
       "      <td>...</td>\n",
       "      <td>...</td>\n",
       "      <td>...</td>\n",
       "    </tr>\n",
       "    <tr>\n",
       "      <th>243549</th>\n",
       "      <td>0.570934</td>\n",
       "      <td>-0.211779</td>\n",
       "      <td>0.400000</td>\n",
       "      <td>0.123989</td>\n",
       "      <td>1</td>\n",
       "      <td>0.209287</td>\n",
       "      <td>0</td>\n",
       "    </tr>\n",
       "    <tr>\n",
       "      <th>146564</th>\n",
       "      <td>0.892734</td>\n",
       "      <td>1.194820</td>\n",
       "      <td>0.615385</td>\n",
       "      <td>0.185607</td>\n",
       "      <td>0</td>\n",
       "      <td>0.026095</td>\n",
       "      <td>1</td>\n",
       "    </tr>\n",
       "    <tr>\n",
       "      <th>213469</th>\n",
       "      <td>0.557093</td>\n",
       "      <td>-0.191066</td>\n",
       "      <td>0.492308</td>\n",
       "      <td>0.069391</td>\n",
       "      <td>0</td>\n",
       "      <td>0.209287</td>\n",
       "      <td>1</td>\n",
       "    </tr>\n",
       "    <tr>\n",
       "      <th>199671</th>\n",
       "      <td>0.934256</td>\n",
       "      <td>-1.625651</td>\n",
       "      <td>0.015385</td>\n",
       "      <td>0.078498</td>\n",
       "      <td>0</td>\n",
       "      <td>0.353288</td>\n",
       "      <td>1</td>\n",
       "    </tr>\n",
       "    <tr>\n",
       "      <th>139747</th>\n",
       "      <td>0.536332</td>\n",
       "      <td>-1.625651</td>\n",
       "      <td>0.015385</td>\n",
       "      <td>0.092185</td>\n",
       "      <td>1</td>\n",
       "      <td>0.007600</td>\n",
       "      <td>0</td>\n",
       "    </tr>\n",
       "  </tbody>\n",
       "</table>\n",
       "<p>76222 rows × 7 columns</p>\n",
       "</div>"
      ],
      "text/plain": [
       "         vintage  annual_premium       age  region_code  vehicle_damage  \\\n",
       "264438  0.903114        0.383560  0.292308     0.185607               1   \n",
       "50070   0.027682        0.228267  0.430769     0.185607               1   \n",
       "378019  0.467128       -0.015524  0.092308     0.074353               0   \n",
       "33858   0.051903        1.559925  0.384615     0.123989               0   \n",
       "352041  0.006920       -1.625651  0.061538     0.102741               1   \n",
       "...          ...             ...       ...          ...             ...   \n",
       "243549  0.570934       -0.211779  0.400000     0.123989               1   \n",
       "146564  0.892734        1.194820  0.615385     0.185607               0   \n",
       "213469  0.557093       -0.191066  0.492308     0.069391               0   \n",
       "199671  0.934256       -1.625651  0.015385     0.078498               0   \n",
       "139747  0.536332       -1.625651  0.015385     0.092185               1   \n",
       "\n",
       "        policy_sales_channel  previously_insured  \n",
       "264438              0.209287                   0  \n",
       "50070               0.194420                   0  \n",
       "378019              0.353288                   1  \n",
       "33858               0.002201                   1  \n",
       "352041              0.015760                   0  \n",
       "...                      ...                 ...  \n",
       "243549              0.209287                   0  \n",
       "146564              0.026095                   1  \n",
       "213469              0.209287                   1  \n",
       "199671              0.353288                   1  \n",
       "139747              0.007600                   0  \n",
       "\n",
       "[76222 rows x 7 columns]"
      ]
     },
     "execution_count": 130,
     "metadata": {},
     "output_type": "execute_result"
    }
   ],
   "source": [
    "x_val"
   ]
  },
  {
   "cell_type": "markdown",
   "id": "e1b94883",
   "metadata": {},
   "source": [
    "## 7.1 KNN"
   ]
  },
  {
   "cell_type": "code",
   "execution_count": 131,
   "id": "a6fa84ed",
   "metadata": {
    "ExecuteTime": {
     "end_time": "2022-09-25T19:45:48.551487Z",
     "start_time": "2022-09-25T19:45:35.934775Z"
    },
    "scrolled": false
   },
   "outputs": [
    {
     "data": {
      "text/plain": [
       "<AxesSubplot:title={'center':'Cumulative Gains Curve'}, xlabel='Percentage of sample', ylabel='Gain'>"
      ]
     },
     "execution_count": 131,
     "metadata": {},
     "output_type": "execute_result"
    },
    {
     "data": {
      "image/png": "[encoded data removed]",
      "text/plain": [
       "<Figure size 432x288 with 1 Axes>"
      ]
     },
     "metadata": {
      "needs_background": "light"
     },
     "output_type": "display_data"
    }
   ],
   "source": [
    "# model definition\n",
    "knn_model = nh.KNeighborsClassifier(n_neighbors=7)\n",
    "\n",
    "# model training\n",
    "knn_model.fit(x_train, y_train)\n",
    "\n",
    "# model predi\n",
    "yhat_knn = knn_model.predict_proba(x_val)\n",
    "\n",
    "# Accumulative Gain \n",
    "skplt.metrics.plot_cumulative_gain(y_validation,yhat_knn)"
   ]
  },
  {
   "cell_type": "markdown",
   "id": "ef242a99",
   "metadata": {},
   "source": [
    "## 7.2 Logistic Regressor"
   ]
  },
  {
   "cell_type": "code",
   "execution_count": 132,
   "id": "90a81301",
   "metadata": {
    "ExecuteTime": {
     "end_time": "2022-09-25T19:45:49.901635Z",
     "start_time": "2022-09-25T19:45:48.554516Z"
    }
   },
   "outputs": [
    {
     "data": {
      "text/plain": [
       "<AxesSubplot:title={'center':'Cumulative Gains Curve'}, xlabel='Percentage of sample', ylabel='Gain'>"
      ]
     },
     "execution_count": 132,
     "metadata": {},
     "output_type": "execute_result"
    },
    {
     "data": {
      "image/png": "[encoded data removed]",
      "text/plain": [
       "<Figure size 432x288 with 1 Axes>"
      ]
     },
     "metadata": {
      "needs_background": "light"
     },
     "output_type": "display_data"
    }
   ],
   "source": [
    "# model definition\n",
    "lr_model = lm.LogisticRegression(random_state=42)\n",
    "\n",
    "# model training \n",
    "lr_model.fit(x_train, y_train)\n",
    "\n",
    "# model prediction\n",
    "yhat_lr = lr_model.predict_proba(x_val)\n",
    "\n",
    "# Accumulative Gain \n",
    "skplt.metrics.plot_cumulative_gain(y_validation,yhat_lr)"
   ]
  },
  {
   "cell_type": "markdown",
   "id": "55d9fba4",
   "metadata": {},
   "source": [
    "## 7.3 Extra Trees"
   ]
  },
  {
   "cell_type": "code",
   "execution_count": 133,
   "id": "d6d8a136",
   "metadata": {
    "ExecuteTime": {
     "end_time": "2022-09-25T19:46:19.063434Z",
     "start_time": "2022-09-25T19:45:49.904629Z"
    }
   },
   "outputs": [
    {
     "data": {
      "text/plain": [
       "<AxesSubplot:title={'center':'Cumulative Gains Curve'}, xlabel='Percentage of sample', ylabel='Gain'>"
      ]
     },
     "execution_count": 133,
     "metadata": {},
     "output_type": "execute_result"
    },
    {
     "data": {
      "image/png": "[encoded data removed]",
      "text/plain": [
       "<Figure size 432x288 with 1 Axes>"
      ]
     },
     "metadata": {
      "needs_background": "light"
     },
     "output_type": "display_data"
    }
   ],
   "source": [
    "# model definition\n",
    "et = en.ExtraTreesClassifier(n_estimators = 100, n_jobs=-1, random_state=42)\n",
    "\n",
    "# model fit\n",
    "et.fit(x_train, y_train)\n",
    "\n",
    "# model predict\n",
    "yhat_et = et.predict_proba(x_val)\n",
    "\n",
    "# Accumulative Gain \n",
    "skplt.metrics.plot_cumulative_gain(y_validation,yhat_et)"
   ]
  },
  {
   "cell_type": "markdown",
   "id": "3a4b0041",
   "metadata": {
    "ExecuteTime": {
     "end_time": "2022-09-25T19:37:38.800345Z",
     "start_time": "2022-09-25T19:37:38.776895Z"
    }
   },
   "source": [
    "# 8.0 Model Performance"
   ]
  },
  {
   "cell_type": "code",
   "execution_count": 155,
   "id": "8017de65",
   "metadata": {
    "ExecuteTime": {
     "end_time": "2022-09-25T20:26:45.813112Z",
     "start_time": "2022-09-25T20:26:45.801460Z"
    }
   },
   "outputs": [],
   "source": [
    "def precision_at_k(data, k=2000):\n",
    "\n",
    "    # reset index\n",
    "    data = data.reset_index(drop=True)\n",
    "\n",
    "    # create ranking order\n",
    "    data['ranking'] = data.index + 1\n",
    "\n",
    "    data['precision_at_k'] = data['response'].cumsum()/data['ranking']\n",
    "\n",
    "    return data.loc[k,'precision_at_k']\n",
    "\n",
    "def recall_at_k(data, k=2000):\n",
    "\n",
    "    # reset index\n",
    "    data = data.reset_index(drop=True)\n",
    "\n",
    "    # create ranking order\n",
    "    data['ranking'] = data.index + 1\n",
    "\n",
    "    data['recall_at_k'] = data['response'].cumsum()/data['response'].sum()\n",
    "\n",
    "    return data.loc[k,'recall_at_k']"
   ]
  },
  {
   "cell_type": "code",
   "execution_count": 156,
   "id": "d7c8fe27",
   "metadata": {
    "ExecuteTime": {
     "end_time": "2022-09-25T20:26:46.202856Z",
     "start_time": "2022-09-25T20:26:46.135012Z"
    }
   },
   "outputs": [
    {
     "name": "stdout",
     "output_type": "stream",
     "text": [
      "Precision at K: 0.3137254901960784\n",
      "Recall at K: 0.0016877637130801688\n"
     ]
    }
   ],
   "source": [
    "df8 = x_validation.copy()\n",
    "df8['response'] = y_validation.copy()\n",
    "\n",
    "# Propensity score\n",
    "df8['score'] = yhat_knn[:,1].tolist()\n",
    "\n",
    "# sort clients by propensity score\n",
    "df8 = df8.sort_values('score',ascending=False)\n",
    "\n",
    "# compute precision at k\n",
    "print('Precision at K: {}'.format(precision_at_k(df8,k=50)))\n",
    "print('Recall at K: {}'.format(recall_at_k(df8,k=50)))"
   ]
  },
  {
   "cell_type": "code",
   "execution_count": null,
   "id": "a2e783a1",
   "metadata": {},
   "outputs": [],
   "source": []
  },
  {
   "cell_type": "code",
   "execution_count": null,
   "id": "76d46ece",
   "metadata": {},
   "outputs": [],
   "source": []
  }
 ],
 "metadata": {
  "kernelspec": {
   "display_name": "Python 3 (ipykernel)",
   "language": "python",
   "name": "python3"
  },
  "language_info": {
   "codemirror_mode": {
    "name": "ipython",
    "version": 3
   },
   "file_extension": ".py",
   "mimetype": "text/x-python",
   "name": "python",
   "nbconvert_exporter": "python",
   "pygments_lexer": "ipython3",
   "version": "3.9.12"
  }
 },
 "nbformat": 4,
 "nbformat_minor": 5
}
